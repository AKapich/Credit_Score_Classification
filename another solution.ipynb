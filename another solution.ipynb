{
 "cells": [
  {
   "cell_type": "markdown",
   "id": "577ffc6b",
   "metadata": {},
   "source": [
    "# Credit score classification project"
   ]
  },
  {
   "cell_type": "code",
   "execution_count": 4,
   "id": "ffdf52e9",
   "metadata": {},
   "outputs": [],
   "source": [
    "import pandas as pd\n",
    "import numpy as np\n",
    "import matplotlib.pyplot as plt\n",
    "import sklearn as sk\n",
    "from sklearn.model_selection import train_test_split\n",
    "import seaborn as sns"
   ]
  },
  {
   "attachments": {},
   "cell_type": "markdown",
   "id": "d679e489",
   "metadata": {},
   "source": [
    "# Train test split"
   ]
  },
  {
   "cell_type": "code",
   "execution_count": 5,
   "id": "d1ad290b",
   "metadata": {},
   "outputs": [
    {
     "name": "stderr",
     "output_type": "stream",
     "text": [
      "c:\\Users\\tymot\\anaconda3\\lib\\site-packages\\IPython\\core\\interactiveshell.py:3165: DtypeWarning: Columns (26) have mixed types.Specify dtype option on import or set low_memory=False.\n",
      "  has_raised = await self.run_ast_nodes(code_ast.body, cell_name,\n"
     ]
    }
   ],
   "source": [
    "data = pd.read_csv('train.csv') # dataframe containg everything, not only train\n",
    "#test = pd.read_csv('test.csv') this one doesn't works - missing target value\n",
    "\n",
    "test_size = 0.2\n",
    "X = data.drop(columns=[\"Credit_Score\"]).copy()\n",
    "y = data[\"Credit_Score\"]\n",
    "\n",
    "\n",
    "X_rem, X_test, y_rem, y_test = train_test_split(X,y, test_size=test_size, shuffle=False) \n",
    "\n",
    "X_train, X_val, y_train, y_val = train_test_split(X_rem, y_rem, test_size=test_size, shuffle=False) \n",
    "#X_train, X_valid, y_train, y_valid = train_test_split(X_train, y_train, test_size=test_size, shuffle=False)\n"
   ]
  },
  {
   "cell_type": "code",
   "execution_count": 6,
   "id": "15202eb0",
   "metadata": {},
   "outputs": [],
   "source": [
    "train = X_train.join(y_train)\n",
    "val = X_val.join(y_val)"
   ]
  },
  {
   "attachments": {},
   "cell_type": "markdown",
   "id": "9efc4e17",
   "metadata": {},
   "source": [
    "# Data Examination"
   ]
  },
  {
   "cell_type": "code",
   "execution_count": 7,
   "id": "2334d996",
   "metadata": {},
   "outputs": [
    {
     "data": {
      "text/html": [
       "<div>\n",
       "<style scoped>\n",
       "    .dataframe tbody tr th:only-of-type {\n",
       "        vertical-align: middle;\n",
       "    }\n",
       "\n",
       "    .dataframe tbody tr th {\n",
       "        vertical-align: top;\n",
       "    }\n",
       "\n",
       "    .dataframe thead th {\n",
       "        text-align: right;\n",
       "    }\n",
       "</style>\n",
       "<table border=\"1\" class=\"dataframe\">\n",
       "  <thead>\n",
       "    <tr style=\"text-align: right;\">\n",
       "      <th></th>\n",
       "      <th>ID</th>\n",
       "      <th>Customer_ID</th>\n",
       "      <th>Month</th>\n",
       "      <th>Name</th>\n",
       "      <th>Age</th>\n",
       "      <th>SSN</th>\n",
       "      <th>Occupation</th>\n",
       "      <th>Annual_Income</th>\n",
       "      <th>Monthly_Inhand_Salary</th>\n",
       "      <th>Num_Bank_Accounts</th>\n",
       "      <th>...</th>\n",
       "      <th>Credit_Mix</th>\n",
       "      <th>Outstanding_Debt</th>\n",
       "      <th>Credit_Utilization_Ratio</th>\n",
       "      <th>Credit_History_Age</th>\n",
       "      <th>Payment_of_Min_Amount</th>\n",
       "      <th>Total_EMI_per_month</th>\n",
       "      <th>Amount_invested_monthly</th>\n",
       "      <th>Payment_Behaviour</th>\n",
       "      <th>Monthly_Balance</th>\n",
       "      <th>Credit_Score</th>\n",
       "    </tr>\n",
       "  </thead>\n",
       "  <tbody>\n",
       "    <tr>\n",
       "      <th>0</th>\n",
       "      <td>0x1602</td>\n",
       "      <td>CUS_0xd40</td>\n",
       "      <td>January</td>\n",
       "      <td>Aaron Maashoh</td>\n",
       "      <td>23</td>\n",
       "      <td>821-00-0265</td>\n",
       "      <td>Scientist</td>\n",
       "      <td>19114.12</td>\n",
       "      <td>1824.843333</td>\n",
       "      <td>3</td>\n",
       "      <td>...</td>\n",
       "      <td>_</td>\n",
       "      <td>809.98</td>\n",
       "      <td>26.822620</td>\n",
       "      <td>22 Years and 1 Months</td>\n",
       "      <td>No</td>\n",
       "      <td>49.574949</td>\n",
       "      <td>80.41529543900253</td>\n",
       "      <td>High_spent_Small_value_payments</td>\n",
       "      <td>312.49408867943663</td>\n",
       "      <td>Good</td>\n",
       "    </tr>\n",
       "    <tr>\n",
       "      <th>1</th>\n",
       "      <td>0x1603</td>\n",
       "      <td>CUS_0xd40</td>\n",
       "      <td>February</td>\n",
       "      <td>Aaron Maashoh</td>\n",
       "      <td>23</td>\n",
       "      <td>821-00-0265</td>\n",
       "      <td>Scientist</td>\n",
       "      <td>19114.12</td>\n",
       "      <td>NaN</td>\n",
       "      <td>3</td>\n",
       "      <td>...</td>\n",
       "      <td>Good</td>\n",
       "      <td>809.98</td>\n",
       "      <td>31.944960</td>\n",
       "      <td>NaN</td>\n",
       "      <td>No</td>\n",
       "      <td>49.574949</td>\n",
       "      <td>118.28022162236736</td>\n",
       "      <td>Low_spent_Large_value_payments</td>\n",
       "      <td>284.62916249607184</td>\n",
       "      <td>Good</td>\n",
       "    </tr>\n",
       "    <tr>\n",
       "      <th>2</th>\n",
       "      <td>0x1604</td>\n",
       "      <td>CUS_0xd40</td>\n",
       "      <td>March</td>\n",
       "      <td>Aaron Maashoh</td>\n",
       "      <td>-500</td>\n",
       "      <td>821-00-0265</td>\n",
       "      <td>Scientist</td>\n",
       "      <td>19114.12</td>\n",
       "      <td>NaN</td>\n",
       "      <td>3</td>\n",
       "      <td>...</td>\n",
       "      <td>Good</td>\n",
       "      <td>809.98</td>\n",
       "      <td>28.609352</td>\n",
       "      <td>22 Years and 3 Months</td>\n",
       "      <td>No</td>\n",
       "      <td>49.574949</td>\n",
       "      <td>81.699521264648</td>\n",
       "      <td>Low_spent_Medium_value_payments</td>\n",
       "      <td>331.2098628537912</td>\n",
       "      <td>Good</td>\n",
       "    </tr>\n",
       "    <tr>\n",
       "      <th>3</th>\n",
       "      <td>0x1605</td>\n",
       "      <td>CUS_0xd40</td>\n",
       "      <td>April</td>\n",
       "      <td>Aaron Maashoh</td>\n",
       "      <td>23</td>\n",
       "      <td>821-00-0265</td>\n",
       "      <td>Scientist</td>\n",
       "      <td>19114.12</td>\n",
       "      <td>NaN</td>\n",
       "      <td>3</td>\n",
       "      <td>...</td>\n",
       "      <td>Good</td>\n",
       "      <td>809.98</td>\n",
       "      <td>31.377862</td>\n",
       "      <td>22 Years and 4 Months</td>\n",
       "      <td>No</td>\n",
       "      <td>49.574949</td>\n",
       "      <td>199.4580743910713</td>\n",
       "      <td>Low_spent_Small_value_payments</td>\n",
       "      <td>223.45130972736786</td>\n",
       "      <td>Good</td>\n",
       "    </tr>\n",
       "    <tr>\n",
       "      <th>4</th>\n",
       "      <td>0x1606</td>\n",
       "      <td>CUS_0xd40</td>\n",
       "      <td>May</td>\n",
       "      <td>Aaron Maashoh</td>\n",
       "      <td>23</td>\n",
       "      <td>821-00-0265</td>\n",
       "      <td>Scientist</td>\n",
       "      <td>19114.12</td>\n",
       "      <td>1824.843333</td>\n",
       "      <td>3</td>\n",
       "      <td>...</td>\n",
       "      <td>Good</td>\n",
       "      <td>809.98</td>\n",
       "      <td>24.797347</td>\n",
       "      <td>22 Years and 5 Months</td>\n",
       "      <td>No</td>\n",
       "      <td>49.574949</td>\n",
       "      <td>41.420153086217326</td>\n",
       "      <td>High_spent_Medium_value_payments</td>\n",
       "      <td>341.48923103222177</td>\n",
       "      <td>Good</td>\n",
       "    </tr>\n",
       "  </tbody>\n",
       "</table>\n",
       "<p>5 rows × 28 columns</p>\n",
       "</div>"
      ],
      "text/plain": [
       "       ID Customer_ID     Month           Name   Age          SSN Occupation  \\\n",
       "0  0x1602   CUS_0xd40   January  Aaron Maashoh    23  821-00-0265  Scientist   \n",
       "1  0x1603   CUS_0xd40  February  Aaron Maashoh    23  821-00-0265  Scientist   \n",
       "2  0x1604   CUS_0xd40     March  Aaron Maashoh  -500  821-00-0265  Scientist   \n",
       "3  0x1605   CUS_0xd40     April  Aaron Maashoh    23  821-00-0265  Scientist   \n",
       "4  0x1606   CUS_0xd40       May  Aaron Maashoh    23  821-00-0265  Scientist   \n",
       "\n",
       "  Annual_Income  Monthly_Inhand_Salary  Num_Bank_Accounts  ...  Credit_Mix  \\\n",
       "0      19114.12            1824.843333                  3  ...           _   \n",
       "1      19114.12                    NaN                  3  ...        Good   \n",
       "2      19114.12                    NaN                  3  ...        Good   \n",
       "3      19114.12                    NaN                  3  ...        Good   \n",
       "4      19114.12            1824.843333                  3  ...        Good   \n",
       "\n",
       "   Outstanding_Debt Credit_Utilization_Ratio     Credit_History_Age  \\\n",
       "0            809.98                26.822620  22 Years and 1 Months   \n",
       "1            809.98                31.944960                    NaN   \n",
       "2            809.98                28.609352  22 Years and 3 Months   \n",
       "3            809.98                31.377862  22 Years and 4 Months   \n",
       "4            809.98                24.797347  22 Years and 5 Months   \n",
       "\n",
       "   Payment_of_Min_Amount Total_EMI_per_month Amount_invested_monthly  \\\n",
       "0                     No           49.574949       80.41529543900253   \n",
       "1                     No           49.574949      118.28022162236736   \n",
       "2                     No           49.574949         81.699521264648   \n",
       "3                     No           49.574949       199.4580743910713   \n",
       "4                     No           49.574949      41.420153086217326   \n",
       "\n",
       "                  Payment_Behaviour     Monthly_Balance Credit_Score  \n",
       "0   High_spent_Small_value_payments  312.49408867943663         Good  \n",
       "1    Low_spent_Large_value_payments  284.62916249607184         Good  \n",
       "2   Low_spent_Medium_value_payments   331.2098628537912         Good  \n",
       "3    Low_spent_Small_value_payments  223.45130972736786         Good  \n",
       "4  High_spent_Medium_value_payments  341.48923103222177         Good  \n",
       "\n",
       "[5 rows x 28 columns]"
      ]
     },
     "execution_count": 7,
     "metadata": {},
     "output_type": "execute_result"
    }
   ],
   "source": [
    "train.head(5)"
   ]
  },
  {
   "cell_type": "code",
   "execution_count": 8,
   "id": "f22c212d",
   "metadata": {},
   "outputs": [
    {
     "name": "stdout",
     "output_type": "stream",
     "text": [
      "<class 'pandas.core.frame.DataFrame'>\n",
      "Int64Index: 64000 entries, 0 to 63999\n",
      "Data columns (total 28 columns):\n",
      " #   Column                    Non-Null Count  Dtype  \n",
      "---  ------                    --------------  -----  \n",
      " 0   ID                        64000 non-null  object \n",
      " 1   Customer_ID               64000 non-null  object \n",
      " 2   Month                     64000 non-null  object \n",
      " 3   Name                      57607 non-null  object \n",
      " 4   Age                       64000 non-null  object \n",
      " 5   SSN                       64000 non-null  object \n",
      " 6   Occupation                64000 non-null  object \n",
      " 7   Annual_Income             64000 non-null  object \n",
      " 8   Monthly_Inhand_Salary     54425 non-null  float64\n",
      " 9   Num_Bank_Accounts         64000 non-null  int64  \n",
      " 10  Num_Credit_Card           64000 non-null  int64  \n",
      " 11  Interest_Rate             64000 non-null  int64  \n",
      " 12  Num_of_Loan               64000 non-null  object \n",
      " 13  Type_of_Loan              56824 non-null  object \n",
      " 14  Delay_from_due_date       64000 non-null  int64  \n",
      " 15  Num_of_Delayed_Payment    59565 non-null  object \n",
      " 16  Changed_Credit_Limit      64000 non-null  object \n",
      " 17  Num_Credit_Inquiries      62794 non-null  float64\n",
      " 18  Credit_Mix                64000 non-null  object \n",
      " 19  Outstanding_Debt          64000 non-null  object \n",
      " 20  Credit_Utilization_Ratio  64000 non-null  float64\n",
      " 21  Credit_History_Age        58194 non-null  object \n",
      " 22  Payment_of_Min_Amount     64000 non-null  object \n",
      " 23  Total_EMI_per_month       64000 non-null  float64\n",
      " 24  Amount_invested_monthly   61179 non-null  object \n",
      " 25  Payment_Behaviour         64000 non-null  object \n",
      " 26  Monthly_Balance           63206 non-null  object \n",
      " 27  Credit_Score              64000 non-null  object \n",
      "dtypes: float64(4), int64(4), object(20)\n",
      "memory usage: 16.2+ MB\n"
     ]
    }
   ],
   "source": [
    "train.info()"
   ]
  },
  {
   "cell_type": "code",
   "execution_count": 9,
   "id": "a90fa99a",
   "metadata": {},
   "outputs": [
    {
     "data": {
      "text/plain": [
       "0"
      ]
     },
     "execution_count": 9,
     "metadata": {},
     "output_type": "execute_result"
    }
   ],
   "source": [
    "train[\"Customer_ID\"].value_counts().loc[train[\"Customer_ID\"].value_counts() != 8].size # every customer shows up exactly 8 times"
   ]
  },
  {
   "cell_type": "code",
   "execution_count": 10,
   "id": "c7bb8de8",
   "metadata": {},
   "outputs": [
    {
     "data": {
      "text/plain": [
       "0"
      ]
     },
     "execution_count": 10,
     "metadata": {},
     "output_type": "execute_result"
    }
   ],
   "source": [
    "train['Credit_Score'].isna().sum() # all target values are present"
   ]
  },
  {
   "cell_type": "code",
   "execution_count": 11,
   "id": "39344cd6",
   "metadata": {},
   "outputs": [
    {
     "data": {
      "text/plain": [
       "(array([11469.,     0.,     0.,     0.,     0., 33817.,     0.,     0.,\n",
       "            0., 18714.]),\n",
       " array([0. , 0.2, 0.4, 0.6, 0.8, 1. , 1.2, 1.4, 1.6, 1.8, 2. ]),\n",
       " <BarContainer object of 10 artists>)"
      ]
     },
     "execution_count": 11,
     "metadata": {},
     "output_type": "execute_result"
    },
    {
     "data": {
      "image/png": "[encoded data removed]",
      "text/plain": [
       "<Figure size 432x288 with 1 Axes>"
      ]
     },
     "metadata": {
      "needs_background": "light"
     },
     "output_type": "display_data"
    }
   ],
   "source": [
    "plt.hist(train[\"Credit_Score\"])"
   ]
  },
  {
   "cell_type": "code",
   "execution_count": 12,
   "id": "b09b0741",
   "metadata": {},
   "outputs": [
    {
     "data": {
      "text/html": [
       "<div>\n",
       "<style scoped>\n",
       "    .dataframe tbody tr th:only-of-type {\n",
       "        vertical-align: middle;\n",
       "    }\n",
       "\n",
       "    .dataframe tbody tr th {\n",
       "        vertical-align: top;\n",
       "    }\n",
       "\n",
       "    .dataframe thead th {\n",
       "        text-align: right;\n",
       "    }\n",
       "</style>\n",
       "<table border=\"1\" class=\"dataframe\">\n",
       "  <thead>\n",
       "    <tr style=\"text-align: right;\">\n",
       "      <th></th>\n",
       "      <th>Name</th>\n",
       "      <th>SSN</th>\n",
       "      <th>Customer_ID</th>\n",
       "    </tr>\n",
       "  </thead>\n",
       "  <tbody>\n",
       "    <tr>\n",
       "      <th>0</th>\n",
       "      <td>Aaron Maashoh</td>\n",
       "      <td>821-00-0265</td>\n",
       "      <td>CUS_0xd40</td>\n",
       "    </tr>\n",
       "    <tr>\n",
       "      <th>1</th>\n",
       "      <td>Aaron Maashoh</td>\n",
       "      <td>821-00-0265</td>\n",
       "      <td>CUS_0xd40</td>\n",
       "    </tr>\n",
       "    <tr>\n",
       "      <th>2</th>\n",
       "      <td>Aaron Maashoh</td>\n",
       "      <td>821-00-0265</td>\n",
       "      <td>CUS_0xd40</td>\n",
       "    </tr>\n",
       "    <tr>\n",
       "      <th>3</th>\n",
       "      <td>Aaron Maashoh</td>\n",
       "      <td>821-00-0265</td>\n",
       "      <td>CUS_0xd40</td>\n",
       "    </tr>\n",
       "    <tr>\n",
       "      <th>4</th>\n",
       "      <td>Aaron Maashoh</td>\n",
       "      <td>821-00-0265</td>\n",
       "      <td>CUS_0xd40</td>\n",
       "    </tr>\n",
       "    <tr>\n",
       "      <th>5</th>\n",
       "      <td>Aaron Maashoh</td>\n",
       "      <td>821-00-0265</td>\n",
       "      <td>CUS_0xd40</td>\n",
       "    </tr>\n",
       "    <tr>\n",
       "      <th>6</th>\n",
       "      <td>Aaron Maashoh</td>\n",
       "      <td>821-00-0265</td>\n",
       "      <td>CUS_0xd40</td>\n",
       "    </tr>\n",
       "    <tr>\n",
       "      <th>7</th>\n",
       "      <td>NaN</td>\n",
       "      <td>#F%$D@*&amp;8</td>\n",
       "      <td>CUS_0xd40</td>\n",
       "    </tr>\n",
       "    <tr>\n",
       "      <th>8</th>\n",
       "      <td>Rick Rothackerj</td>\n",
       "      <td>004-07-5839</td>\n",
       "      <td>CUS_0x21b1</td>\n",
       "    </tr>\n",
       "    <tr>\n",
       "      <th>9</th>\n",
       "      <td>Rick Rothackerj</td>\n",
       "      <td>004-07-5839</td>\n",
       "      <td>CUS_0x21b1</td>\n",
       "    </tr>\n",
       "  </tbody>\n",
       "</table>\n",
       "</div>"
      ],
      "text/plain": [
       "              Name          SSN Customer_ID\n",
       "0    Aaron Maashoh  821-00-0265   CUS_0xd40\n",
       "1    Aaron Maashoh  821-00-0265   CUS_0xd40\n",
       "2    Aaron Maashoh  821-00-0265   CUS_0xd40\n",
       "3    Aaron Maashoh  821-00-0265   CUS_0xd40\n",
       "4    Aaron Maashoh  821-00-0265   CUS_0xd40\n",
       "5    Aaron Maashoh  821-00-0265   CUS_0xd40\n",
       "6    Aaron Maashoh  821-00-0265   CUS_0xd40\n",
       "7              NaN    #F%$D@*&8   CUS_0xd40\n",
       "8  Rick Rothackerj  004-07-5839  CUS_0x21b1\n",
       "9  Rick Rothackerj  004-07-5839  CUS_0x21b1"
      ]
     },
     "execution_count": 12,
     "metadata": {},
     "output_type": "execute_result"
    }
   ],
   "source": [
    "train[[\"Name\", \"SSN\", \"Customer_ID\"]].head(10) # name, customer id and SSN are redundant"
   ]
  },
  {
   "cell_type": "code",
   "execution_count": 13,
   "id": "fa224b2b",
   "metadata": {},
   "outputs": [
    {
     "data": {
      "text/html": [
       "<div>\n",
       "<style scoped>\n",
       "    .dataframe tbody tr th:only-of-type {\n",
       "        vertical-align: middle;\n",
       "    }\n",
       "\n",
       "    .dataframe tbody tr th {\n",
       "        vertical-align: top;\n",
       "    }\n",
       "\n",
       "    .dataframe thead th {\n",
       "        text-align: right;\n",
       "    }\n",
       "</style>\n",
       "<table border=\"1\" class=\"dataframe\">\n",
       "  <thead>\n",
       "    <tr style=\"text-align: right;\">\n",
       "      <th></th>\n",
       "      <th>Age</th>\n",
       "      <th>Annual_Income</th>\n",
       "      <th>Num_of_Loan</th>\n",
       "      <th>Num_of_Delayed_Payment</th>\n",
       "      <th>Changed_Credit_Limit</th>\n",
       "      <th>Outstanding_Debt</th>\n",
       "      <th>Amount_invested_monthly</th>\n",
       "      <th>Monthly_Balance</th>\n",
       "    </tr>\n",
       "  </thead>\n",
       "  <tbody>\n",
       "    <tr>\n",
       "      <th>10</th>\n",
       "      <td>28</td>\n",
       "      <td>34847.84_</td>\n",
       "      <td>1</td>\n",
       "      <td>-1</td>\n",
       "      <td>5.42</td>\n",
       "      <td>605.03</td>\n",
       "      <td>58.51597569589465</td>\n",
       "      <td>466.46647639764313</td>\n",
       "    </tr>\n",
       "    <tr>\n",
       "      <th>11</th>\n",
       "      <td>28</td>\n",
       "      <td>34847.84</td>\n",
       "      <td>1</td>\n",
       "      <td>3_</td>\n",
       "      <td>5.42</td>\n",
       "      <td>605.03</td>\n",
       "      <td>99.30622796053305</td>\n",
       "      <td>465.6762241330048</td>\n",
       "    </tr>\n",
       "    <tr>\n",
       "      <th>12</th>\n",
       "      <td>28</td>\n",
       "      <td>34847.84</td>\n",
       "      <td>1</td>\n",
       "      <td>1</td>\n",
       "      <td>6.42</td>\n",
       "      <td>605.03</td>\n",
       "      <td>130.11542024292334</td>\n",
       "      <td>444.8670318506144</td>\n",
       "    </tr>\n",
       "    <tr>\n",
       "      <th>13</th>\n",
       "      <td>28</td>\n",
       "      <td>34847.84</td>\n",
       "      <td>1</td>\n",
       "      <td>0</td>\n",
       "      <td>5.42</td>\n",
       "      <td>605.03</td>\n",
       "      <td>43.477190144355745</td>\n",
       "      <td>481.505261949182</td>\n",
       "    </tr>\n",
       "    <tr>\n",
       "      <th>14</th>\n",
       "      <td>28</td>\n",
       "      <td>34847.84</td>\n",
       "      <td>1</td>\n",
       "      <td>4</td>\n",
       "      <td>5.42</td>\n",
       "      <td>605.03</td>\n",
       "      <td>70.10177420755677</td>\n",
       "      <td>464.8806778859809</td>\n",
       "    </tr>\n",
       "    <tr>\n",
       "      <th>15</th>\n",
       "      <td>28</td>\n",
       "      <td>34847.84</td>\n",
       "      <td>1</td>\n",
       "      <td>4</td>\n",
       "      <td>5.42</td>\n",
       "      <td>605.03</td>\n",
       "      <td>218.90434353388733</td>\n",
       "      <td>356.07810855965045</td>\n",
       "    </tr>\n",
       "    <tr>\n",
       "      <th>16</th>\n",
       "      <td>34</td>\n",
       "      <td>143162.64</td>\n",
       "      <td>3</td>\n",
       "      <td>8</td>\n",
       "      <td>7.1</td>\n",
       "      <td>1303.01</td>\n",
       "      <td>168.413702679309</td>\n",
       "      <td>1043.3159778669492</td>\n",
       "    </tr>\n",
       "    <tr>\n",
       "      <th>17</th>\n",
       "      <td>34</td>\n",
       "      <td>143162.64</td>\n",
       "      <td>3</td>\n",
       "      <td>6</td>\n",
       "      <td>7.1</td>\n",
       "      <td>1303.01</td>\n",
       "      <td>232.86038375993544</td>\n",
       "      <td>998.8692967863226</td>\n",
       "    </tr>\n",
       "    <tr>\n",
       "      <th>18</th>\n",
       "      <td>34</td>\n",
       "      <td>143162.64</td>\n",
       "      <td>3</td>\n",
       "      <td>7</td>\n",
       "      <td>11.1</td>\n",
       "      <td>1303.01</td>\n",
       "      <td>__10000__</td>\n",
       "      <td>715.741367403555</td>\n",
       "    </tr>\n",
       "    <tr>\n",
       "      <th>19</th>\n",
       "      <td>34</td>\n",
       "      <td>143162.64</td>\n",
       "      <td>3</td>\n",
       "      <td>5</td>\n",
       "      <td>9.1</td>\n",
       "      <td>1303.01</td>\n",
       "      <td>825.2162699393922</td>\n",
       "      <td>426.5134106068658</td>\n",
       "    </tr>\n",
       "  </tbody>\n",
       "</table>\n",
       "</div>"
      ],
      "text/plain": [
       "   Age Annual_Income Num_of_Loan Num_of_Delayed_Payment Changed_Credit_Limit  \\\n",
       "10  28     34847.84_           1                     -1                 5.42   \n",
       "11  28      34847.84           1                     3_                 5.42   \n",
       "12  28      34847.84           1                      1                 6.42   \n",
       "13  28      34847.84           1                      0                 5.42   \n",
       "14  28      34847.84           1                      4                 5.42   \n",
       "15  28      34847.84           1                      4                 5.42   \n",
       "16  34     143162.64           3                      8                  7.1   \n",
       "17  34     143162.64           3                      6                  7.1   \n",
       "18  34     143162.64           3                      7                 11.1   \n",
       "19  34     143162.64           3                      5                  9.1   \n",
       "\n",
       "   Outstanding_Debt Amount_invested_monthly     Monthly_Balance  \n",
       "10           605.03       58.51597569589465  466.46647639764313  \n",
       "11           605.03       99.30622796053305   465.6762241330048  \n",
       "12           605.03      130.11542024292334   444.8670318506144  \n",
       "13           605.03      43.477190144355745    481.505261949182  \n",
       "14           605.03       70.10177420755677   464.8806778859809  \n",
       "15           605.03      218.90434353388733  356.07810855965045  \n",
       "16          1303.01        168.413702679309  1043.3159778669492  \n",
       "17          1303.01      232.86038375993544   998.8692967863226  \n",
       "18          1303.01               __10000__    715.741367403555  \n",
       "19          1303.01       825.2162699393922   426.5134106068658  "
      ]
     },
     "execution_count": 13,
     "metadata": {},
     "output_type": "execute_result"
    }
   ],
   "source": [
    "columns_to_alter = ['Age', 'Annual_Income', 'Num_of_Loan','Num_of_Delayed_Payment',\n",
    "                    'Changed_Credit_Limit', 'Outstanding_Debt',\n",
    "                    'Amount_invested_monthly', 'Monthly_Balance']\n",
    "\n",
    "train[columns_to_alter].iloc[10:20] # some columns have weird signs - \"_\" and are of wrong format"
   ]
  },
  {
   "cell_type": "code",
   "execution_count": 14,
   "id": "3a8878bf",
   "metadata": {},
   "outputs": [
    {
     "name": "stdout",
     "output_type": "stream",
     "text": [
      "['No' 'NM' 'Yes'] \n",
      " ['Scientist' '_______' 'Teacher' 'Engineer' 'Entrepreneur' 'Developer'\n",
      " 'Lawyer' 'Media_Manager' 'Doctor' 'Journalist' 'Manager' 'Accountant'\n",
      " 'Musician' 'Mechanic' 'Writer' 'Architect'] \n",
      " ['_' 'Good' 'Standard' 'Bad'] \n",
      " ['High_spent_Small_value_payments' 'Low_spent_Large_value_payments'\n",
      " 'Low_spent_Medium_value_payments' 'Low_spent_Small_value_payments'\n",
      " 'High_spent_Medium_value_payments' '!@9#%8'\n",
      " 'High_spent_Large_value_payments']\n"
     ]
    }
   ],
   "source": [
    "# how different are categorical columns\n",
    "\n",
    "print(train['Payment_of_Min_Amount'].unique(), \"\\n\",\n",
    "      train['Occupation'].unique(), \"\\n\",\n",
    "      train[\"Credit_Mix\"].unique(), \"\\n\",\n",
    "      train[\"Payment_Behaviour\"].unique())"
   ]
  },
  {
   "cell_type": "code",
   "execution_count": 15,
   "id": "f47f4901",
   "metadata": {},
   "outputs": [
    {
     "data": {
      "text/html": [
       "<div>\n",
       "<style scoped>\n",
       "    .dataframe tbody tr th:only-of-type {\n",
       "        vertical-align: middle;\n",
       "    }\n",
       "\n",
       "    .dataframe tbody tr th {\n",
       "        vertical-align: top;\n",
       "    }\n",
       "\n",
       "    .dataframe thead th {\n",
       "        text-align: right;\n",
       "    }\n",
       "</style>\n",
       "<table border=\"1\" class=\"dataframe\">\n",
       "  <thead>\n",
       "    <tr style=\"text-align: right;\">\n",
       "      <th></th>\n",
       "      <th>Credit_History_Age</th>\n",
       "      <th>Payment_Behaviour</th>\n",
       "    </tr>\n",
       "  </thead>\n",
       "  <tbody>\n",
       "    <tr>\n",
       "      <th>0</th>\n",
       "      <td>22 Years and 1 Months</td>\n",
       "      <td>High_spent_Small_value_payments</td>\n",
       "    </tr>\n",
       "    <tr>\n",
       "      <th>1</th>\n",
       "      <td>NaN</td>\n",
       "      <td>Low_spent_Large_value_payments</td>\n",
       "    </tr>\n",
       "    <tr>\n",
       "      <th>2</th>\n",
       "      <td>22 Years and 3 Months</td>\n",
       "      <td>Low_spent_Medium_value_payments</td>\n",
       "    </tr>\n",
       "    <tr>\n",
       "      <th>3</th>\n",
       "      <td>22 Years and 4 Months</td>\n",
       "      <td>Low_spent_Small_value_payments</td>\n",
       "    </tr>\n",
       "    <tr>\n",
       "      <th>4</th>\n",
       "      <td>22 Years and 5 Months</td>\n",
       "      <td>High_spent_Medium_value_payments</td>\n",
       "    </tr>\n",
       "  </tbody>\n",
       "</table>\n",
       "</div>"
      ],
      "text/plain": [
       "      Credit_History_Age                 Payment_Behaviour\n",
       "0  22 Years and 1 Months   High_spent_Small_value_payments\n",
       "1                    NaN    Low_spent_Large_value_payments\n",
       "2  22 Years and 3 Months   Low_spent_Medium_value_payments\n",
       "3  22 Years and 4 Months    Low_spent_Small_value_payments\n",
       "4  22 Years and 5 Months  High_spent_Medium_value_payments"
      ]
     },
     "execution_count": 15,
     "metadata": {},
     "output_type": "execute_result"
    }
   ],
   "source": [
    "# account age, and behaviour is in unfriendly format\n",
    "\n",
    "train[[\"Credit_History_Age\", \"Payment_Behaviour\"]].head()"
   ]
  },
  {
   "cell_type": "code",
   "execution_count": 16,
   "id": "12019786",
   "metadata": {},
   "outputs": [
    {
     "data": {
      "text/plain": [
       "<AxesSubplot:>"
      ]
     },
     "execution_count": 16,
     "metadata": {},
     "output_type": "execute_result"
    },
    {
     "data": {
      "image/png": "[encoded data removed]",
      "text/plain": [
       "<Figure size 432x288 with 2 Axes>"
      ]
     },
     "metadata": {
      "needs_background": "light"
     },
     "output_type": "display_data"
    }
   ],
   "source": [
    "sns.heatmap(train.corr(method=\"spearman\"))"
   ]
  },
  {
   "cell_type": "markdown",
   "id": "0c77f97e",
   "metadata": {},
   "source": [
    "# Data Preprocessing"
   ]
  },
  {
   "cell_type": "code",
   "execution_count": 17,
   "id": "f6422de7",
   "metadata": {},
   "outputs": [],
   "source": [
    "train = train.drop(['Name', 'SSN'], axis='columns') # no added value, all the information in  Customer_ID\n",
    "train = train.drop(['ID'], axis='columns') # redundant too \n",
    "\n",
    "train[\"Customer_ID\"] = train[\"Customer_ID\"].apply(lambda x: int(x[4:], 16)) # convert to int"
   ]
  },
  {
   "cell_type": "code",
   "execution_count": 18,
   "id": "787fd3cb",
   "metadata": {},
   "outputs": [],
   "source": [
    "# alter datatypes where necessary\n",
    "columns_to_alter = ['Age', 'Annual_Income', 'Num_of_Loan','Num_of_Delayed_Payment',\n",
    "                    'Changed_Credit_Limit', 'Outstanding_Debt',\n",
    "                    'Amount_invested_monthly', 'Monthly_Balance']\n",
    "\n",
    "def clear_numeric_data(col):\n",
    "    # some of the rows contain \"_\" sign\n",
    "    col.astype(str).replace(\"_\", \"\")\n",
    "    return pd.to_numeric(col, errors=\"coerce\")\n",
    "\n",
    "train[columns_to_alter] = train[columns_to_alter].apply(clear_numeric_data, axis=1)"
   ]
  },
  {
   "cell_type": "code",
   "execution_count": 19,
   "id": "746a2cd7",
   "metadata": {},
   "outputs": [
    {
     "data": {
      "text/plain": [
       "Index(['Customer_ID', 'Month', 'Age', 'Occupation', 'Annual_Income',\n",
       "       'Monthly_Inhand_Salary', 'Num_Bank_Accounts', 'Num_Credit_Card',\n",
       "       'Interest_Rate', 'Num_of_Loan', 'Type_of_Loan', 'Delay_from_due_date',\n",
       "       'Num_of_Delayed_Payment', 'Changed_Credit_Limit',\n",
       "       'Num_Credit_Inquiries', 'Credit_Mix', 'Outstanding_Debt',\n",
       "       'Credit_Utilization_Ratio', 'Credit_History_Age',\n",
       "       'Payment_of_Min_Amount', 'Total_EMI_per_month',\n",
       "       'Amount_invested_monthly', 'Payment_Behaviour', 'Monthly_Balance',\n",
       "       'Credit_Score'],\n",
       "      dtype='object')"
      ]
     },
     "execution_count": 19,
     "metadata": {},
     "output_type": "execute_result"
    }
   ],
   "source": [
    "train.columns"
   ]
  },
  {
   "cell_type": "code",
   "execution_count": 20,
   "id": "72c84e2e",
   "metadata": {},
   "outputs": [],
   "source": [
    "train[\"Age\"] = np.where((0 > train[\"Age\"]), -train[\"Age\"], train[\"Age\"]) # deleting weird outliners\n",
    "train['Age'] = np.where((0 <= train['Age']) & (train['Age'] <= 100), train['Age'], float('nan')) \n",
    "\n",
    "train[\"Num_Bank_Accounts\"] = np.where((0 < train[\"Num_Bank_Accounts\"]) <= 20, train[\"Num_Bank_Accounts\"], float('nan')) # deleting weird outliners\n",
    "train[\"Num_Credit_Card\"] = np.where((0 < train[\"Num_Credit_Card\"]) <= 100, train[\"Num_Credit_Card\"], float('nan')) # deleting weird outliners\n",
    "train[\"Num_of_Loan\"] = np.where((0 < train[\"Num_of_Loan\"]) <= 20, train[\"Num_of_Loan\"], float('nan')) # deleting weird outliners\n",
    "train[\"Interest_Rate\"] = np.where((0 < train[\"Interest_Rate\"]) <= 100, train[\"Interest_Rate\"], float('nan')) # deleting weird outliners\n"
   ]
  },
  {
   "cell_type": "code",
   "execution_count": 21,
   "id": "2db33ee6",
   "metadata": {},
   "outputs": [
    {
     "data": {
      "text/html": [
       "<div>\n",
       "<style scoped>\n",
       "    .dataframe tbody tr th:only-of-type {\n",
       "        vertical-align: middle;\n",
       "    }\n",
       "\n",
       "    .dataframe tbody tr th {\n",
       "        vertical-align: top;\n",
       "    }\n",
       "\n",
       "    .dataframe thead th {\n",
       "        text-align: right;\n",
       "    }\n",
       "</style>\n",
       "<table border=\"1\" class=\"dataframe\">\n",
       "  <thead>\n",
       "    <tr style=\"text-align: right;\">\n",
       "      <th></th>\n",
       "      <th>Customer_ID</th>\n",
       "      <th>Month</th>\n",
       "      <th>Age</th>\n",
       "      <th>Occupation</th>\n",
       "      <th>Annual_Income</th>\n",
       "      <th>Monthly_Inhand_Salary</th>\n",
       "      <th>Num_Bank_Accounts</th>\n",
       "      <th>Num_Credit_Card</th>\n",
       "      <th>Interest_Rate</th>\n",
       "      <th>Num_of_Loan</th>\n",
       "      <th>...</th>\n",
       "      <th>Credit_Mix</th>\n",
       "      <th>Outstanding_Debt</th>\n",
       "      <th>Credit_Utilization_Ratio</th>\n",
       "      <th>Credit_History_Age</th>\n",
       "      <th>Payment_of_Min_Amount</th>\n",
       "      <th>Total_EMI_per_month</th>\n",
       "      <th>Amount_invested_monthly</th>\n",
       "      <th>Payment_Behaviour</th>\n",
       "      <th>Monthly_Balance</th>\n",
       "      <th>Credit_Score</th>\n",
       "    </tr>\n",
       "  </thead>\n",
       "  <tbody>\n",
       "    <tr>\n",
       "      <th>0</th>\n",
       "      <td>3392</td>\n",
       "      <td>January</td>\n",
       "      <td>23.0</td>\n",
       "      <td>Scientist</td>\n",
       "      <td>19114.12</td>\n",
       "      <td>1824.843333</td>\n",
       "      <td>3.0</td>\n",
       "      <td>4.0</td>\n",
       "      <td>3.0</td>\n",
       "      <td>4.0</td>\n",
       "      <td>...</td>\n",
       "      <td>_</td>\n",
       "      <td>809.98</td>\n",
       "      <td>26.822620</td>\n",
       "      <td>22 Years and 1 Months</td>\n",
       "      <td>No</td>\n",
       "      <td>49.574949</td>\n",
       "      <td>80.415295</td>\n",
       "      <td>High_spent_Small_value_payments</td>\n",
       "      <td>312.494089</td>\n",
       "      <td>Good</td>\n",
       "    </tr>\n",
       "    <tr>\n",
       "      <th>1</th>\n",
       "      <td>3392</td>\n",
       "      <td>February</td>\n",
       "      <td>23.0</td>\n",
       "      <td>Scientist</td>\n",
       "      <td>19114.12</td>\n",
       "      <td>NaN</td>\n",
       "      <td>3.0</td>\n",
       "      <td>4.0</td>\n",
       "      <td>3.0</td>\n",
       "      <td>4.0</td>\n",
       "      <td>...</td>\n",
       "      <td>Good</td>\n",
       "      <td>809.98</td>\n",
       "      <td>31.944960</td>\n",
       "      <td>NaN</td>\n",
       "      <td>No</td>\n",
       "      <td>49.574949</td>\n",
       "      <td>118.280222</td>\n",
       "      <td>Low_spent_Large_value_payments</td>\n",
       "      <td>284.629162</td>\n",
       "      <td>Good</td>\n",
       "    </tr>\n",
       "    <tr>\n",
       "      <th>2</th>\n",
       "      <td>3392</td>\n",
       "      <td>March</td>\n",
       "      <td>NaN</td>\n",
       "      <td>Scientist</td>\n",
       "      <td>19114.12</td>\n",
       "      <td>NaN</td>\n",
       "      <td>3.0</td>\n",
       "      <td>4.0</td>\n",
       "      <td>3.0</td>\n",
       "      <td>4.0</td>\n",
       "      <td>...</td>\n",
       "      <td>Good</td>\n",
       "      <td>809.98</td>\n",
       "      <td>28.609352</td>\n",
       "      <td>22 Years and 3 Months</td>\n",
       "      <td>No</td>\n",
       "      <td>49.574949</td>\n",
       "      <td>81.699521</td>\n",
       "      <td>Low_spent_Medium_value_payments</td>\n",
       "      <td>331.209863</td>\n",
       "      <td>Good</td>\n",
       "    </tr>\n",
       "    <tr>\n",
       "      <th>3</th>\n",
       "      <td>3392</td>\n",
       "      <td>April</td>\n",
       "      <td>23.0</td>\n",
       "      <td>Scientist</td>\n",
       "      <td>19114.12</td>\n",
       "      <td>NaN</td>\n",
       "      <td>3.0</td>\n",
       "      <td>4.0</td>\n",
       "      <td>3.0</td>\n",
       "      <td>4.0</td>\n",
       "      <td>...</td>\n",
       "      <td>Good</td>\n",
       "      <td>809.98</td>\n",
       "      <td>31.377862</td>\n",
       "      <td>22 Years and 4 Months</td>\n",
       "      <td>No</td>\n",
       "      <td>49.574949</td>\n",
       "      <td>199.458074</td>\n",
       "      <td>Low_spent_Small_value_payments</td>\n",
       "      <td>223.451310</td>\n",
       "      <td>Good</td>\n",
       "    </tr>\n",
       "    <tr>\n",
       "      <th>4</th>\n",
       "      <td>3392</td>\n",
       "      <td>May</td>\n",
       "      <td>23.0</td>\n",
       "      <td>Scientist</td>\n",
       "      <td>19114.12</td>\n",
       "      <td>1824.843333</td>\n",
       "      <td>3.0</td>\n",
       "      <td>4.0</td>\n",
       "      <td>3.0</td>\n",
       "      <td>4.0</td>\n",
       "      <td>...</td>\n",
       "      <td>Good</td>\n",
       "      <td>809.98</td>\n",
       "      <td>24.797347</td>\n",
       "      <td>22 Years and 5 Months</td>\n",
       "      <td>No</td>\n",
       "      <td>49.574949</td>\n",
       "      <td>41.420153</td>\n",
       "      <td>High_spent_Medium_value_payments</td>\n",
       "      <td>341.489231</td>\n",
       "      <td>Good</td>\n",
       "    </tr>\n",
       "  </tbody>\n",
       "</table>\n",
       "<p>5 rows × 25 columns</p>\n",
       "</div>"
      ],
      "text/plain": [
       "   Customer_ID     Month   Age Occupation  Annual_Income  \\\n",
       "0         3392   January  23.0  Scientist       19114.12   \n",
       "1         3392  February  23.0  Scientist       19114.12   \n",
       "2         3392     March   NaN  Scientist       19114.12   \n",
       "3         3392     April  23.0  Scientist       19114.12   \n",
       "4         3392       May  23.0  Scientist       19114.12   \n",
       "\n",
       "   Monthly_Inhand_Salary  Num_Bank_Accounts  Num_Credit_Card  Interest_Rate  \\\n",
       "0            1824.843333                3.0              4.0            3.0   \n",
       "1                    NaN                3.0              4.0            3.0   \n",
       "2                    NaN                3.0              4.0            3.0   \n",
       "3                    NaN                3.0              4.0            3.0   \n",
       "4            1824.843333                3.0              4.0            3.0   \n",
       "\n",
       "   Num_of_Loan  ... Credit_Mix  Outstanding_Debt  Credit_Utilization_Ratio  \\\n",
       "0          4.0  ...          _            809.98                 26.822620   \n",
       "1          4.0  ...       Good            809.98                 31.944960   \n",
       "2          4.0  ...       Good            809.98                 28.609352   \n",
       "3          4.0  ...       Good            809.98                 31.377862   \n",
       "4          4.0  ...       Good            809.98                 24.797347   \n",
       "\n",
       "      Credit_History_Age  Payment_of_Min_Amount Total_EMI_per_month  \\\n",
       "0  22 Years and 1 Months                     No           49.574949   \n",
       "1                    NaN                     No           49.574949   \n",
       "2  22 Years and 3 Months                     No           49.574949   \n",
       "3  22 Years and 4 Months                     No           49.574949   \n",
       "4  22 Years and 5 Months                     No           49.574949   \n",
       "\n",
       "   Amount_invested_monthly                 Payment_Behaviour Monthly_Balance  \\\n",
       "0                80.415295   High_spent_Small_value_payments      312.494089   \n",
       "1               118.280222    Low_spent_Large_value_payments      284.629162   \n",
       "2                81.699521   Low_spent_Medium_value_payments      331.209863   \n",
       "3               199.458074    Low_spent_Small_value_payments      223.451310   \n",
       "4                41.420153  High_spent_Medium_value_payments      341.489231   \n",
       "\n",
       "  Credit_Score  \n",
       "0         Good  \n",
       "1         Good  \n",
       "2         Good  \n",
       "3         Good  \n",
       "4         Good  \n",
       "\n",
       "[5 rows x 25 columns]"
      ]
     },
     "execution_count": 21,
     "metadata": {},
     "output_type": "execute_result"
    }
   ],
   "source": [
    "train.head()"
   ]
  },
  {
   "cell_type": "code",
   "execution_count": 22,
   "id": "0b585c19",
   "metadata": {},
   "outputs": [],
   "source": [
    "# encode columns where necessary (Credit_Mix, Payment_of_Min_Amount, Credit_Score)\n",
    "# mapping\n",
    "credit_mix_dict = {'Bad':0, 'Standard':1, 'Good':2, '_':float('nan')}\n",
    "poma_dict = {'No':0, 'Yes':1, 'NM':float('nan')}\n",
    "credit_score_dict = {'Poor':0, 'Standard':1, 'Good':2}\n",
    "\n",
    "train['Payment_of_Min_Amount'] = train['Payment_of_Min_Amount'].map(poma_dict)\n",
    "train['Credit_Mix'] = train['Credit_Mix'].map(credit_mix_dict)\n",
    "train['Credit_Score'] = train['Credit_Score'].map(credit_score_dict)"
   ]
  },
  {
   "cell_type": "code",
   "execution_count": 23,
   "id": "4ef5189e",
   "metadata": {},
   "outputs": [],
   "source": [
    "# convert months to numbers:\n",
    "month_dict = {\"January\": 1, \"February\": 2, \"March\": 3, \"April\": 4, \"May\": 5,\n",
    "                \"June\": 6, \"July\": 7, \"August\": 8}\n",
    "\n",
    "train[\"Month\"] = train[\"Month\"].map(month_dict)"
   ]
  },
  {
   "cell_type": "code",
   "execution_count": 24,
   "id": "c1b133a0",
   "metadata": {},
   "outputs": [],
   "source": [
    "train[\"Payment_Behaviour\"] = train[\"Payment_Behaviour\"].replace('!@9#%8', 'Unknown_spent_Unknown_value_payments')\n",
    "split_payment = lambda x:  ([x.split(\"_\")[0], x.split(\"_\")[2]] if (x is not None) else [\"Unknown\", \"Unknown\"])\n",
    "train[\"Payment_Behaviour\"] = train[\"Payment_Behaviour\"].apply(split_payment)\n",
    "\n",
    "train[[\"Spending_Behaviour\", \"Value_Payments\"]] = pd.DataFrame(train[\"Payment_Behaviour\"].tolist(), index=train.index)\n"
   ]
  },
  {
   "cell_type": "code",
   "execution_count": 25,
   "id": "285d6d51",
   "metadata": {},
   "outputs": [],
   "source": [
    "spending_dict = {'Low':0, 'High':1, 'Unknown':float('nan')}\n",
    "value_dict = {'Small':0, 'Medium':1, 'Large':2,  'Unknown':float('nan')}\n",
    "\n",
    "train['Spending_Behaviour'] = train['Spending_Behaviour'].map(spending_dict)\n",
    "train['Value_Payments'] = train['Value_Payments'].map(value_dict)\n",
    "\n",
    "del train[\"Payment_Behaviour\"]"
   ]
  },
  {
   "cell_type": "code",
   "execution_count": 26,
   "id": "5355c797",
   "metadata": {},
   "outputs": [
    {
     "name": "stdout",
     "output_type": "stream",
     "text": [
      "<class 'pandas.core.frame.DataFrame'>\n",
      "Int64Index: 64000 entries, 0 to 63999\n",
      "Data columns (total 26 columns):\n",
      " #   Column                    Non-Null Count  Dtype  \n",
      "---  ------                    --------------  -----  \n",
      " 0   Customer_ID               64000 non-null  int64  \n",
      " 1   Month                     64000 non-null  int64  \n",
      " 2   Age                       59125 non-null  float64\n",
      " 3   Occupation                64000 non-null  object \n",
      " 4   Annual_Income             59519 non-null  float64\n",
      " 5   Monthly_Inhand_Salary     54425 non-null  float64\n",
      " 6   Num_Bank_Accounts         64000 non-null  float64\n",
      " 7   Num_Credit_Card           64000 non-null  float64\n",
      " 8   Interest_Rate             64000 non-null  float64\n",
      " 9   Num_of_Loan               60935 non-null  float64\n",
      " 10  Type_of_Loan              56824 non-null  object \n",
      " 11  Delay_from_due_date       64000 non-null  int64  \n",
      " 12  Num_of_Delayed_Payment    57789 non-null  float64\n",
      " 13  Changed_Credit_Limit      62669 non-null  float64\n",
      " 14  Num_Credit_Inquiries      62794 non-null  float64\n",
      " 15  Credit_Mix                51051 non-null  float64\n",
      " 16  Outstanding_Debt          63361 non-null  float64\n",
      " 17  Credit_Utilization_Ratio  64000 non-null  float64\n",
      " 18  Credit_History_Age        58194 non-null  object \n",
      " 19  Payment_of_Min_Amount     56325 non-null  float64\n",
      " 20  Total_EMI_per_month       64000 non-null  float64\n",
      " 21  Amount_invested_monthly   58462 non-null  float64\n",
      " 22  Monthly_Balance           63200 non-null  float64\n",
      " 23  Credit_Score              64000 non-null  int64  \n",
      " 24  Spending_Behaviour        59142 non-null  float64\n",
      " 25  Value_Payments            59142 non-null  float64\n",
      "dtypes: float64(19), int64(4), object(3)\n",
      "memory usage: 15.2+ MB\n"
     ]
    }
   ],
   "source": [
    "train.info()"
   ]
  },
  {
   "cell_type": "code",
   "execution_count": 27,
   "id": "786b3233",
   "metadata": {},
   "outputs": [],
   "source": [
    "# processing Credit_History_Age so that's continuous\n",
    "import re\n",
    "def history_age(age):\n",
    "    try : \n",
    "        years = int(re.findall('[0-9]+', age)[0])\n",
    "        month = int(re.findall('[0-9]+', age)[1])\n",
    "        return years*12 + month\n",
    "    except :\n",
    "        return np.nan"
   ]
  },
  {
   "cell_type": "code",
   "execution_count": 28,
   "id": "6ce8a1f1",
   "metadata": {},
   "outputs": [],
   "source": [
    "train['Credit_History_Age'] = train['Credit_History_Age'].apply(history_age)"
   ]
  },
  {
   "cell_type": "code",
   "execution_count": 29,
   "id": "ac736ffb",
   "metadata": {},
   "outputs": [],
   "source": [
    "# filling missing values\n",
    "# Monthly_Inhand_Salary, Amount_invested_monthly, Monthly_Balance  are continuous so we may\n",
    "# replace the null values using 'mean' for particular customers identified by Customer_ID\n",
    "\n",
    "continuous_values = ['Monthly_Inhand_Salary', 'Amount_invested_monthly',\n",
    "                     'Monthly_Balance', 'Credit_History_Age', \"Outstanding_Debt\",\n",
    "                     \"Changed_Credit_Limit\", \"Annual_Income\"]\n",
    "\n",
    "for column in continuous_values:\n",
    "    train[column].fillna(train.groupby('Customer_ID')[column].transform('mean'), inplace=True)"
   ]
  },
  {
   "cell_type": "code",
   "execution_count": 27,
   "id": "e70d4c81",
   "metadata": {},
   "outputs": [],
   "source": [
    "# Credit_Mix value is discrete but we may assign to missing rows the values\n",
    "# from other rows with the same Customer_ID\n",
    "\n",
    "# using mean is not causing any trouble here, we're practically taking the value that appears\n",
    "# in the rows with the same id\n",
    "\n",
    "# but we will use mode for preserving the type in categorical data\n",
    "\n",
    "discrete_columns = [\"Age\", \"Annual_Income\", \"Num_Credit_Inquiries\", \"Num_of_Loan\", \"Credit_Mix\",\n",
    "                    \"Num_of_Delayed_Payment\", \"Num_Credit_Inquiries\", \"Spending_Behaviour\", \"Payment_of_Min_Amount\", \"Value_Payments\"]\n",
    "\n",
    "for column in discrete_columns:\n",
    "    #train[column].fillna(train.groupby('Customer_ID')[column].agg(lambda x: pd.Series.mode(x)[0]), inplace=True) \n",
    "    train[column].fillna(train.groupby('Customer_ID')[column].transform('median'), inplace=True) "
   ]
  },
  {
   "cell_type": "code",
   "execution_count": 28,
   "id": "dfab132b",
   "metadata": {},
   "outputs": [],
   "source": [
    "discrete_string_columns = [\"Occupation\", \"Type_of_Loan\"] #fill missing data in columns that are strings\n",
    "\n",
    "for column in discrete_string_columns:\n",
    "    most_common_globally = train[column].agg(lambda x: pd.Series.mode(x)[0])\n",
    "    train[column].fillna(train.groupby('Customer_ID')[column].agg(\n",
    "        lambda x: (most_common_globally if len(pd.Series.mode(x)) == 0 else pd.Series.mode(x)[0])\n",
    "        ), inplace=True) "
   ]
  },
  {
   "cell_type": "code",
   "execution_count": 29,
   "id": "319e758d",
   "metadata": {},
   "outputs": [
    {
     "name": "stdout",
     "output_type": "stream",
     "text": [
      "<class 'pandas.core.frame.DataFrame'>\n",
      "Int64Index: 80000 entries, 0 to 79999\n",
      "Data columns (total 27 columns):\n",
      " #   Column                    Non-Null Count  Dtype  \n",
      "---  ------                    --------------  -----  \n",
      " 0   Customer_ID               80000 non-null  int64  \n",
      " 1   Month                     80000 non-null  int64  \n",
      " 2   Age                       80000 non-null  float64\n",
      " 3   Occupation                80000 non-null  object \n",
      " 4   Annual_Income             80000 non-null  float64\n",
      " 5   Monthly_Inhand_Salary     80000 non-null  float64\n",
      " 6   Num_Bank_Accounts         80000 non-null  float64\n",
      " 7   Num_Credit_Card           80000 non-null  float64\n",
      " 8   Interest_Rate             80000 non-null  float64\n",
      " 9   Num_of_Loan               80000 non-null  float64\n",
      " 10  Type_of_Loan              72063 non-null  object \n",
      " 11  Delay_from_due_date       80000 non-null  int64  \n",
      " 12  Num_of_Delayed_Payment    80000 non-null  float64\n",
      " 13  Changed_Credit_Limit      80000 non-null  float64\n",
      " 14  Num_Credit_Inquiries      80000 non-null  float64\n",
      " 15  Credit_Mix                80000 non-null  float64\n",
      " 16  Outstanding_Debt          80000 non-null  float64\n",
      " 17  Credit_Utilization_Ratio  80000 non-null  float64\n",
      " 18  Credit_History_Age        80000 non-null  float64\n",
      " 19  Payment_of_Min_Amount     80000 non-null  float64\n",
      " 20  Total_EMI_per_month       80000 non-null  float64\n",
      " 21  Amount_invested_monthly   80000 non-null  float64\n",
      " 22  Payment_Behaviour         80000 non-null  object \n",
      " 23  Monthly_Balance           80000 non-null  float64\n",
      " 24  Credit_Score              80000 non-null  int64  \n",
      " 25  Spending_Behaviour        80000 non-null  float64\n",
      " 26  Value_Payments            80000 non-null  float64\n",
      "dtypes: float64(20), int64(4), object(3)\n",
      "memory usage: 19.1+ MB\n"
     ]
    }
   ],
   "source": [
    "train.info()"
   ]
  },
  {
   "cell_type": "code",
   "execution_count": 30,
   "id": "33e4a9b6",
   "metadata": {},
   "outputs": [
    {
     "data": {
      "text/plain": [
       "0        Auto Loan, Credit-Builder Loan, Personal Loan,...\n",
       "1        Auto Loan, Credit-Builder Loan, Personal Loan,...\n",
       "2        Auto Loan, Credit-Builder Loan, Personal Loan,...\n",
       "3        Auto Loan, Credit-Builder Loan, Personal Loan,...\n",
       "4        Auto Loan, Credit-Builder Loan, Personal Loan,...\n",
       "                               ...                        \n",
       "79995    Credit-Builder Loan, Not Specified, and Not Sp...\n",
       "79996    Credit-Builder Loan, Not Specified, and Not Sp...\n",
       "79997    Credit-Builder Loan, Not Specified, and Not Sp...\n",
       "79998    Credit-Builder Loan, Not Specified, and Not Sp...\n",
       "79999    Credit-Builder Loan, Not Specified, and Not Sp...\n",
       "Name: Type_of_Loan, Length: 80000, dtype: object"
      ]
     },
     "execution_count": 30,
     "metadata": {},
     "output_type": "execute_result"
    }
   ],
   "source": [
    "# type of loan may contain some interesting information\n",
    "train['Type_of_Loan']"
   ]
  },
  {
   "cell_type": "code",
   "execution_count": 31,
   "id": "c0194d9c",
   "metadata": {},
   "outputs": [],
   "source": [
    "# first we fill the information for customers that have other rows with full information available\n",
    "train['Type_of_Loan'].fillna(train.groupby('Customer_ID')['Type_of_Loan'].first(), inplace=True)\n",
    "# later we fill with ''\n",
    "train['Type_of_Loan'].fillna('', inplace=True)"
   ]
  },
  {
   "cell_type": "code",
   "execution_count": 32,
   "id": "1f3ffbc3",
   "metadata": {},
   "outputs": [],
   "source": [
    "types =  train['Type_of_Loan'].value_counts().head(9).index[1:] \n",
    "for loan_type in types: # the single types of loans\n",
    "    train[loan_type] = train['Type_of_Loan'].str.contains(loan_type)\n",
    "del train[\"Type_of_Loan\"]"
   ]
  },
  {
   "cell_type": "code",
   "execution_count": 33,
   "id": "8dd7627d",
   "metadata": {},
   "outputs": [
    {
     "name": "stdout",
     "output_type": "stream",
     "text": [
      "<class 'pandas.core.frame.DataFrame'>\n",
      "Int64Index: 80000 entries, 0 to 79999\n",
      "Data columns (total 34 columns):\n",
      " #   Column                    Non-Null Count  Dtype  \n",
      "---  ------                    --------------  -----  \n",
      " 0   Customer_ID               80000 non-null  int64  \n",
      " 1   Month                     80000 non-null  int64  \n",
      " 2   Age                       80000 non-null  float64\n",
      " 3   Occupation                80000 non-null  object \n",
      " 4   Annual_Income             80000 non-null  float64\n",
      " 5   Monthly_Inhand_Salary     80000 non-null  float64\n",
      " 6   Num_Bank_Accounts         80000 non-null  float64\n",
      " 7   Num_Credit_Card           80000 non-null  float64\n",
      " 8   Interest_Rate             80000 non-null  float64\n",
      " 9   Num_of_Loan               80000 non-null  float64\n",
      " 10  Delay_from_due_date       80000 non-null  int64  \n",
      " 11  Num_of_Delayed_Payment    80000 non-null  float64\n",
      " 12  Changed_Credit_Limit      80000 non-null  float64\n",
      " 13  Num_Credit_Inquiries      80000 non-null  float64\n",
      " 14  Credit_Mix                80000 non-null  float64\n",
      " 15  Outstanding_Debt          80000 non-null  float64\n",
      " 16  Credit_Utilization_Ratio  80000 non-null  float64\n",
      " 17  Credit_History_Age        80000 non-null  float64\n",
      " 18  Payment_of_Min_Amount     80000 non-null  float64\n",
      " 19  Total_EMI_per_month       80000 non-null  float64\n",
      " 20  Amount_invested_monthly   80000 non-null  float64\n",
      " 21  Payment_Behaviour         80000 non-null  object \n",
      " 22  Monthly_Balance           80000 non-null  float64\n",
      " 23  Credit_Score              80000 non-null  int64  \n",
      " 24  Spending_Behaviour        80000 non-null  float64\n",
      " 25  Value_Payments            80000 non-null  float64\n",
      " 26  Not Specified             80000 non-null  bool   \n",
      " 27  Personal Loan             80000 non-null  bool   \n",
      " 28  Credit-Builder Loan       80000 non-null  bool   \n",
      " 29  Debt Consolidation Loan   80000 non-null  bool   \n",
      " 30  Mortgage Loan             80000 non-null  bool   \n",
      " 31  Payday Loan               80000 non-null  bool   \n",
      " 32  Auto Loan                 80000 non-null  bool   \n",
      " 33  Student Loan              80000 non-null  bool   \n",
      "dtypes: bool(8), float64(20), int64(4), object(2)\n",
      "memory usage: 19.1+ MB\n"
     ]
    }
   ],
   "source": [
    "train.info()"
   ]
  },
  {
   "cell_type": "code",
   "execution_count": 34,
   "id": "93ae58f6",
   "metadata": {},
   "outputs": [],
   "source": [
    "train = train.join(pd.get_dummies(train['Occupation']))\n",
    "\n",
    "del train[\"Occupation\"]"
   ]
  },
  {
   "cell_type": "code",
   "execution_count": 35,
   "id": "c1fbd8f6",
   "metadata": {},
   "outputs": [
    {
     "data": {
      "text/plain": [
       "<AxesSubplot:>"
      ]
     },
     "execution_count": 35,
     "metadata": {},
     "output_type": "execute_result"
    },
    {
     "data": {
      "image/png": "[encoded data removed]",
      "text/plain": [
       "<Figure size 432x288 with 2 Axes>"
      ]
     },
     "metadata": {
      "needs_background": "light"
     },
     "output_type": "display_data"
    }
   ],
   "source": [
    "sns.heatmap(train.corr(method=\"spearman\"))"
   ]
  },
  {
   "cell_type": "code",
   "execution_count": null,
   "id": "0a473242",
   "metadata": {},
   "outputs": [],
   "source": [
    "# eliminate the most irrelevant columns\n",
    "\n",
    "colnames = []\n",
    "for colname in train.columns.values[:-1]:\n",
    "    try:\n",
    "        if abs(train[colname].corr(train['Credit_Score'])) < 0.1:\n",
    "            colnames.append(colname)\n",
    "    except:\n",
    "        pass # not with every columns the correlation could have been measured, to deal with later"
   ]
  },
  {
   "cell_type": "code",
   "execution_count": null,
   "id": "10c02325",
   "metadata": {},
   "outputs": [],
   "source": [
    "train = train.drop(colnames, axis=1)"
   ]
  },
  {
   "cell_type": "code",
   "execution_count": 38,
   "id": "0b5aa2e7",
   "metadata": {},
   "outputs": [
    {
     "name": "stdout",
     "output_type": "stream",
     "text": [
      "<class 'pandas.core.frame.DataFrame'>\n",
      "Int64Index: 80000 entries, 0 to 79999\n",
      "Data columns (total 48 columns):\n",
      " #   Column                    Non-Null Count  Dtype  \n",
      "---  ------                    --------------  -----  \n",
      " 0   Customer_ID               80000 non-null  int64  \n",
      " 1   Month                     80000 non-null  int64  \n",
      " 2   Age                       80000 non-null  float64\n",
      " 3   Annual_Income             80000 non-null  float64\n",
      " 4   Monthly_Inhand_Salary     80000 non-null  float64\n",
      " 5   Num_Bank_Accounts         80000 non-null  float64\n",
      " 6   Num_Credit_Card           80000 non-null  float64\n",
      " 7   Interest_Rate             80000 non-null  float64\n",
      " 8   Num_of_Loan               80000 non-null  float64\n",
      " 9   Delay_from_due_date       80000 non-null  int64  \n",
      " 10  Num_of_Delayed_Payment    80000 non-null  float64\n",
      " 11  Changed_Credit_Limit      80000 non-null  float64\n",
      " 12  Num_Credit_Inquiries      80000 non-null  float64\n",
      " 13  Credit_Mix                80000 non-null  float64\n",
      " 14  Outstanding_Debt          80000 non-null  float64\n",
      " 15  Credit_Utilization_Ratio  80000 non-null  float64\n",
      " 16  Credit_History_Age        80000 non-null  float64\n",
      " 17  Payment_of_Min_Amount     80000 non-null  float64\n",
      " 18  Total_EMI_per_month       80000 non-null  float64\n",
      " 19  Amount_invested_monthly   80000 non-null  float64\n",
      " 20  Monthly_Balance           80000 non-null  float64\n",
      " 21  Credit_Score              80000 non-null  int64  \n",
      " 22  Spending_Behaviour        80000 non-null  float64\n",
      " 23  Value_Payments            80000 non-null  float64\n",
      " 24  Not Specified             80000 non-null  bool   \n",
      " 25  Personal Loan             80000 non-null  bool   \n",
      " 26  Credit-Builder Loan       80000 non-null  bool   \n",
      " 27  Debt Consolidation Loan   80000 non-null  bool   \n",
      " 28  Mortgage Loan             80000 non-null  bool   \n",
      " 29  Payday Loan               80000 non-null  bool   \n",
      " 30  Auto Loan                 80000 non-null  bool   \n",
      " 31  Student Loan              80000 non-null  bool   \n",
      " 32  Accountant                80000 non-null  uint8  \n",
      " 33  Architect                 80000 non-null  uint8  \n",
      " 34  Developer                 80000 non-null  uint8  \n",
      " 35  Doctor                    80000 non-null  uint8  \n",
      " 36  Engineer                  80000 non-null  uint8  \n",
      " 37  Entrepreneur              80000 non-null  uint8  \n",
      " 38  Journalist                80000 non-null  uint8  \n",
      " 39  Lawyer                    80000 non-null  uint8  \n",
      " 40  Manager                   80000 non-null  uint8  \n",
      " 41  Mechanic                  80000 non-null  uint8  \n",
      " 42  Media_Manager             80000 non-null  uint8  \n",
      " 43  Musician                  80000 non-null  uint8  \n",
      " 44  Scientist                 80000 non-null  uint8  \n",
      " 45  Teacher                   80000 non-null  uint8  \n",
      " 46  Writer                    80000 non-null  uint8  \n",
      " 47  _______                   80000 non-null  uint8  \n",
      "dtypes: bool(8), float64(20), int64(4), uint8(16)\n",
      "memory usage: 19.1 MB\n"
     ]
    }
   ],
   "source": [
    "train.info()"
   ]
  },
  {
   "attachments": {},
   "cell_type": "markdown",
   "id": "d02d5063",
   "metadata": {},
   "source": [
    "# Choice of columns"
   ]
  },
  {
   "cell_type": "code",
   "execution_count": 1,
   "id": "e15d36ae",
   "metadata": {},
   "outputs": [
    {
     "ename": "ModuleNotFoundError",
     "evalue": "No module named 'feature'",
     "output_type": "error",
     "traceback": [
      "\u001b[1;31m---------------------------------------------------------------------------\u001b[0m",
      "\u001b[1;31mModuleNotFoundError\u001b[0m                       Traceback (most recent call last)",
      "\u001b[1;32m<ipython-input-1-385078b2f839>\u001b[0m in \u001b[0;36m<module>\u001b[1;34m\u001b[0m\n\u001b[1;32m----> 1\u001b[1;33m \u001b[1;32mfrom\u001b[0m \u001b[0mfeature\u001b[0m\u001b[1;33m.\u001b[0m\u001b[0mengine\u001b[0m \u001b[1;32mimport\u001b[0m \u001b[0mSelectBySingleFeaturePerformance\u001b[0m\u001b[1;33m\u001b[0m\u001b[1;33m\u001b[0m\u001b[0m\n\u001b[0m",
      "\u001b[1;31mModuleNotFoundError\u001b[0m: No module named 'feature'"
     ]
    }
   ],
   "source": [
    "from feature.engine import SelectBySingleFeaturePerformance"
   ]
  },
  {
   "cell_type": "code",
   "execution_count": null,
   "id": "1307d00f",
   "metadata": {},
   "outputs": [],
   "source": [
    "# Low variance\n",
    "\n"
   ]
  },
  {
   "cell_type": "markdown",
   "id": "51fb2f07",
   "metadata": {},
   "source": [
    "# Model"
   ]
  },
  {
   "cell_type": "code",
   "execution_count": 39,
   "id": "8cd12554",
   "metadata": {},
   "outputs": [],
   "source": [
    "from sklearn.model_selection import train_test_split\n",
    "from sklearn.metrics import classification_report\n",
    "from sklearn.preprocessing import StandardScaler"
   ]
  },
  {
   "cell_type": "code",
   "execution_count": 40,
   "id": "b9fee98c",
   "metadata": {},
   "outputs": [],
   "source": [
    "y = train['Credit_Score']\n",
    "del train['Credit_Score']\n",
    "#del train['Customer_ID']"
   ]
  },
  {
   "cell_type": "markdown",
   "id": "9ef049a4",
   "metadata": {},
   "source": [
    "# Random Forest"
   ]
  },
  {
   "cell_type": "code",
   "execution_count": 42,
   "id": "174eb5af",
   "metadata": {},
   "outputs": [],
   "source": [
    "from sklearn.ensemble import RandomForestClassifier"
   ]
  },
  {
   "cell_type": "code",
   "execution_count": 49,
   "id": "1ce53215",
   "metadata": {},
   "outputs": [
    {
     "data": {
      "text/plain": [
       "RandomForestClassifier(n_estimators=80)"
      ]
     },
     "execution_count": 49,
     "metadata": {},
     "output_type": "execute_result"
    }
   ],
   "source": [
    "rf_model = RandomForestClassifier(n_estimators=80)\n",
    "rf_model.fit(X_train, y_train)"
   ]
  },
  {
   "cell_type": "code",
   "execution_count": 50,
   "id": "43ec79ae",
   "metadata": {},
   "outputs": [],
   "source": [
    "y_pred = rf_model.predict(X_val)"
   ]
  },
  {
   "cell_type": "code",
   "execution_count": 51,
   "id": "20c955f5",
   "metadata": {},
   "outputs": [
    {
     "name": "stdout",
     "output_type": "stream",
     "text": [
      "              precision    recall  f1-score   support\n",
      "\n",
      "           0       0.67      0.71      0.69      4406\n",
      "           1       0.74      0.74      0.74      8588\n",
      "           2       0.62      0.54      0.58      3006\n",
      "\n",
      "    accuracy                           0.70     16000\n",
      "   macro avg       0.68      0.67      0.67     16000\n",
      "weighted avg       0.70      0.70      0.70     16000\n",
      "\n"
     ]
    }
   ],
   "source": [
    "print(classification_report(y_pred, y_val))"
   ]
  },
  {
   "cell_type": "code",
   "execution_count": 52,
   "id": "01334e6c",
   "metadata": {},
   "outputs": [],
   "source": [
    "import shap\n",
    "\n",
    "def shapley(model, X_train, X_val):\n",
    "    explainer = shap.Explainer(model, X_train)\n",
    "    \n",
    "    shap_values = explainer(X_train)\n",
    "    shap.summary_plot(shap_values, X_train)\n",
    "    # visualize the first prediction's explanation\n",
    "    shap.plots.waterfall(shap_values[0])\n",
    "\n",
    "    # freature importance    \n",
    "    shap.summary_plot(shap_values, X_train, plot_type=\"bar\")\n",
    "    \n",
    "    shap.plots.bar(shap_values)\n",
    "    shap.summary_plot(shap_values, plot_type='violin')\n",
    "    shap.plots.bar(shap_values[0])\n",
    "    shap.plots.waterfall(shap_values[0])\n",
    "    shap.plots.force(shap_values[0])\n",
    "    \n",
    "    \n",
    "    shap.plots.force(shap_values[1])\n",
    "    \n",
    "    shap.plots.heatmap(shap_values)\n",
    "    \n",
    "    # fig = shap.force_plot(explainer.expected_value, shap_values.values, X_train, feature_names = X_train.columns)\n",
    "    # fig.savefig('testplot.png')\n",
    "    # fig.plot()\n",
    "    \n",
    "    # fig = shap.force_plot(shap_values, X_train)\n",
    "    # fig.plot()\n",
    "   \n",
    "    shap_values = explainer(X_val)\n",
    "    shap.plots.beeswarm(shap_values)\n",
    "    # visualize the first prediction's explanation\n",
    "    shap.plots.waterfall(shap_values[0])\n",
    "    \n",
    "    # freature importance\n",
    "    shap.summary_plot(shap_values, X_val, plot_type=\"bar\")"
   ]
  }
 ],
 "metadata": {
  "kernelspec": {
   "display_name": "Python 3 (ipykernel)",
   "language": "python",
   "name": "python3"
  },
  "language_info": {
   "codemirror_mode": {
    "name": "ipython",
    "version": 3
   },
   "file_extension": ".py",
   "mimetype": "text/x-python",
   "name": "python",
   "nbconvert_exporter": "python",
   "pygments_lexer": "ipython3",
   "version": "3.8.8"
  }
 },
 "nbformat": 4,
 "nbformat_minor": 5
}
