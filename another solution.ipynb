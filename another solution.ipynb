{
 "cells": [
  {
   "cell_type": "markdown",
   "id": "577ffc6b",
   "metadata": {},
   "source": [
    "# Credit score classification project"
   ]
  },
  {
   "cell_type": "code",
   "execution_count": 135,
   "id": "ffdf52e9",
   "metadata": {},
   "outputs": [],
   "source": [
    "import pandas as pd\n",
    "import numpy as np\n",
    "import matplotlib.pyplot as plt\n",
    "import sklearn as sk\n",
    "from sklearn.model_selection import train_test_split"
   ]
  },
  {
   "attachments": {},
   "cell_type": "markdown",
   "id": "d679e489",
   "metadata": {},
   "source": [
    "# Train test split"
   ]
  },
  {
   "cell_type": "code",
   "execution_count": 136,
   "id": "d1ad290b",
   "metadata": {},
   "outputs": [
    {
     "name": "stderr",
     "output_type": "stream",
     "text": [
      "c:\\Users\\tymot\\anaconda3\\lib\\site-packages\\IPython\\core\\interactiveshell.py:3165: DtypeWarning: Columns (26) have mixed types.Specify dtype option on import or set low_memory=False.\n",
      "  has_raised = await self.run_ast_nodes(code_ast.body, cell_name,\n"
     ]
    }
   ],
   "source": [
    "data = pd.read_csv('train.csv') # dataframe containg everything, not only train\n",
    "#test = pd.read_csv('test.csv') this one doesn't works - missing target value\n",
    "\n",
    "test_size = 0.2\n",
    "X = data.drop(columns=[\"Credit_Score\"]).copy()\n",
    "y = data[\"Credit_Score\"]\n",
    "\n",
    "\n",
    "X_train, X_test, y_train, y_test = train_test_split(X,y, test_size=test_size, shuffle=False) \n",
    "#X_train, X_valid, y_train, y_valid = train_test_split(X_train, y_train, test_size=test_size, shuffle=False)\n"
   ]
  },
  {
   "cell_type": "code",
   "execution_count": 137,
   "id": "15202eb0",
   "metadata": {},
   "outputs": [],
   "source": [
    "train = X_train.join(y_train)"
   ]
  },
  {
   "attachments": {},
   "cell_type": "markdown",
   "id": "9efc4e17",
   "metadata": {},
   "source": [
    "# Data Examination"
   ]
  },
  {
   "cell_type": "code",
   "execution_count": 138,
   "id": "2334d996",
   "metadata": {},
   "outputs": [
    {
     "data": {
      "text/html": [
       "<div>\n",
       "<style scoped>\n",
       "    .dataframe tbody tr th:only-of-type {\n",
       "        vertical-align: middle;\n",
       "    }\n",
       "\n",
       "    .dataframe tbody tr th {\n",
       "        vertical-align: top;\n",
       "    }\n",
       "\n",
       "    .dataframe thead th {\n",
       "        text-align: right;\n",
       "    }\n",
       "</style>\n",
       "<table border=\"1\" class=\"dataframe\">\n",
       "  <thead>\n",
       "    <tr style=\"text-align: right;\">\n",
       "      <th></th>\n",
       "      <th>ID</th>\n",
       "      <th>Customer_ID</th>\n",
       "      <th>Month</th>\n",
       "      <th>Name</th>\n",
       "      <th>Age</th>\n",
       "      <th>SSN</th>\n",
       "      <th>Occupation</th>\n",
       "      <th>Annual_Income</th>\n",
       "      <th>Monthly_Inhand_Salary</th>\n",
       "      <th>Num_Bank_Accounts</th>\n",
       "      <th>...</th>\n",
       "      <th>Credit_Mix</th>\n",
       "      <th>Outstanding_Debt</th>\n",
       "      <th>Credit_Utilization_Ratio</th>\n",
       "      <th>Credit_History_Age</th>\n",
       "      <th>Payment_of_Min_Amount</th>\n",
       "      <th>Total_EMI_per_month</th>\n",
       "      <th>Amount_invested_monthly</th>\n",
       "      <th>Payment_Behaviour</th>\n",
       "      <th>Monthly_Balance</th>\n",
       "      <th>Credit_Score</th>\n",
       "    </tr>\n",
       "  </thead>\n",
       "  <tbody>\n",
       "    <tr>\n",
       "      <th>0</th>\n",
       "      <td>0x1602</td>\n",
       "      <td>CUS_0xd40</td>\n",
       "      <td>January</td>\n",
       "      <td>Aaron Maashoh</td>\n",
       "      <td>23</td>\n",
       "      <td>821-00-0265</td>\n",
       "      <td>Scientist</td>\n",
       "      <td>19114.12</td>\n",
       "      <td>1824.843333</td>\n",
       "      <td>3</td>\n",
       "      <td>...</td>\n",
       "      <td>_</td>\n",
       "      <td>809.98</td>\n",
       "      <td>26.822620</td>\n",
       "      <td>22 Years and 1 Months</td>\n",
       "      <td>No</td>\n",
       "      <td>49.574949</td>\n",
       "      <td>80.41529543900253</td>\n",
       "      <td>High_spent_Small_value_payments</td>\n",
       "      <td>312.49408867943663</td>\n",
       "      <td>Good</td>\n",
       "    </tr>\n",
       "    <tr>\n",
       "      <th>1</th>\n",
       "      <td>0x1603</td>\n",
       "      <td>CUS_0xd40</td>\n",
       "      <td>February</td>\n",
       "      <td>Aaron Maashoh</td>\n",
       "      <td>23</td>\n",
       "      <td>821-00-0265</td>\n",
       "      <td>Scientist</td>\n",
       "      <td>19114.12</td>\n",
       "      <td>NaN</td>\n",
       "      <td>3</td>\n",
       "      <td>...</td>\n",
       "      <td>Good</td>\n",
       "      <td>809.98</td>\n",
       "      <td>31.944960</td>\n",
       "      <td>NaN</td>\n",
       "      <td>No</td>\n",
       "      <td>49.574949</td>\n",
       "      <td>118.28022162236736</td>\n",
       "      <td>Low_spent_Large_value_payments</td>\n",
       "      <td>284.62916249607184</td>\n",
       "      <td>Good</td>\n",
       "    </tr>\n",
       "    <tr>\n",
       "      <th>2</th>\n",
       "      <td>0x1604</td>\n",
       "      <td>CUS_0xd40</td>\n",
       "      <td>March</td>\n",
       "      <td>Aaron Maashoh</td>\n",
       "      <td>-500</td>\n",
       "      <td>821-00-0265</td>\n",
       "      <td>Scientist</td>\n",
       "      <td>19114.12</td>\n",
       "      <td>NaN</td>\n",
       "      <td>3</td>\n",
       "      <td>...</td>\n",
       "      <td>Good</td>\n",
       "      <td>809.98</td>\n",
       "      <td>28.609352</td>\n",
       "      <td>22 Years and 3 Months</td>\n",
       "      <td>No</td>\n",
       "      <td>49.574949</td>\n",
       "      <td>81.699521264648</td>\n",
       "      <td>Low_spent_Medium_value_payments</td>\n",
       "      <td>331.2098628537912</td>\n",
       "      <td>Good</td>\n",
       "    </tr>\n",
       "    <tr>\n",
       "      <th>3</th>\n",
       "      <td>0x1605</td>\n",
       "      <td>CUS_0xd40</td>\n",
       "      <td>April</td>\n",
       "      <td>Aaron Maashoh</td>\n",
       "      <td>23</td>\n",
       "      <td>821-00-0265</td>\n",
       "      <td>Scientist</td>\n",
       "      <td>19114.12</td>\n",
       "      <td>NaN</td>\n",
       "      <td>3</td>\n",
       "      <td>...</td>\n",
       "      <td>Good</td>\n",
       "      <td>809.98</td>\n",
       "      <td>31.377862</td>\n",
       "      <td>22 Years and 4 Months</td>\n",
       "      <td>No</td>\n",
       "      <td>49.574949</td>\n",
       "      <td>199.4580743910713</td>\n",
       "      <td>Low_spent_Small_value_payments</td>\n",
       "      <td>223.45130972736786</td>\n",
       "      <td>Good</td>\n",
       "    </tr>\n",
       "    <tr>\n",
       "      <th>4</th>\n",
       "      <td>0x1606</td>\n",
       "      <td>CUS_0xd40</td>\n",
       "      <td>May</td>\n",
       "      <td>Aaron Maashoh</td>\n",
       "      <td>23</td>\n",
       "      <td>821-00-0265</td>\n",
       "      <td>Scientist</td>\n",
       "      <td>19114.12</td>\n",
       "      <td>1824.843333</td>\n",
       "      <td>3</td>\n",
       "      <td>...</td>\n",
       "      <td>Good</td>\n",
       "      <td>809.98</td>\n",
       "      <td>24.797347</td>\n",
       "      <td>22 Years and 5 Months</td>\n",
       "      <td>No</td>\n",
       "      <td>49.574949</td>\n",
       "      <td>41.420153086217326</td>\n",
       "      <td>High_spent_Medium_value_payments</td>\n",
       "      <td>341.48923103222177</td>\n",
       "      <td>Good</td>\n",
       "    </tr>\n",
       "  </tbody>\n",
       "</table>\n",
       "<p>5 rows × 28 columns</p>\n",
       "</div>"
      ],
      "text/plain": [
       "       ID Customer_ID     Month           Name   Age          SSN Occupation  \\\n",
       "0  0x1602   CUS_0xd40   January  Aaron Maashoh    23  821-00-0265  Scientist   \n",
       "1  0x1603   CUS_0xd40  February  Aaron Maashoh    23  821-00-0265  Scientist   \n",
       "2  0x1604   CUS_0xd40     March  Aaron Maashoh  -500  821-00-0265  Scientist   \n",
       "3  0x1605   CUS_0xd40     April  Aaron Maashoh    23  821-00-0265  Scientist   \n",
       "4  0x1606   CUS_0xd40       May  Aaron Maashoh    23  821-00-0265  Scientist   \n",
       "\n",
       "  Annual_Income  Monthly_Inhand_Salary  Num_Bank_Accounts  ...  Credit_Mix  \\\n",
       "0      19114.12            1824.843333                  3  ...           _   \n",
       "1      19114.12                    NaN                  3  ...        Good   \n",
       "2      19114.12                    NaN                  3  ...        Good   \n",
       "3      19114.12                    NaN                  3  ...        Good   \n",
       "4      19114.12            1824.843333                  3  ...        Good   \n",
       "\n",
       "   Outstanding_Debt Credit_Utilization_Ratio     Credit_History_Age  \\\n",
       "0            809.98                26.822620  22 Years and 1 Months   \n",
       "1            809.98                31.944960                    NaN   \n",
       "2            809.98                28.609352  22 Years and 3 Months   \n",
       "3            809.98                31.377862  22 Years and 4 Months   \n",
       "4            809.98                24.797347  22 Years and 5 Months   \n",
       "\n",
       "   Payment_of_Min_Amount Total_EMI_per_month Amount_invested_monthly  \\\n",
       "0                     No           49.574949       80.41529543900253   \n",
       "1                     No           49.574949      118.28022162236736   \n",
       "2                     No           49.574949         81.699521264648   \n",
       "3                     No           49.574949       199.4580743910713   \n",
       "4                     No           49.574949      41.420153086217326   \n",
       "\n",
       "                  Payment_Behaviour     Monthly_Balance Credit_Score  \n",
       "0   High_spent_Small_value_payments  312.49408867943663         Good  \n",
       "1    Low_spent_Large_value_payments  284.62916249607184         Good  \n",
       "2   Low_spent_Medium_value_payments   331.2098628537912         Good  \n",
       "3    Low_spent_Small_value_payments  223.45130972736786         Good  \n",
       "4  High_spent_Medium_value_payments  341.48923103222177         Good  \n",
       "\n",
       "[5 rows x 28 columns]"
      ]
     },
     "execution_count": 138,
     "metadata": {},
     "output_type": "execute_result"
    }
   ],
   "source": [
    "train.head(5)"
   ]
  },
  {
   "cell_type": "code",
   "execution_count": 139,
   "id": "f22c212d",
   "metadata": {},
   "outputs": [
    {
     "name": "stdout",
     "output_type": "stream",
     "text": [
      "<class 'pandas.core.frame.DataFrame'>\n",
      "Int64Index: 80000 entries, 0 to 79999\n",
      "Data columns (total 28 columns):\n",
      " #   Column                    Non-Null Count  Dtype  \n",
      "---  ------                    --------------  -----  \n",
      " 0   ID                        80000 non-null  object \n",
      " 1   Customer_ID               80000 non-null  object \n",
      " 2   Month                     80000 non-null  object \n",
      " 3   Name                      71988 non-null  object \n",
      " 4   Age                       80000 non-null  object \n",
      " 5   SSN                       80000 non-null  object \n",
      " 6   Occupation                80000 non-null  object \n",
      " 7   Annual_Income             80000 non-null  object \n",
      " 8   Monthly_Inhand_Salary     68024 non-null  float64\n",
      " 9   Num_Bank_Accounts         80000 non-null  int64  \n",
      " 10  Num_Credit_Card           80000 non-null  int64  \n",
      " 11  Interest_Rate             80000 non-null  int64  \n",
      " 12  Num_of_Loan               80000 non-null  object \n",
      " 13  Type_of_Loan              70984 non-null  object \n",
      " 14  Delay_from_due_date       80000 non-null  int64  \n",
      " 15  Num_of_Delayed_Payment    74456 non-null  object \n",
      " 16  Changed_Credit_Limit      80000 non-null  object \n",
      " 17  Num_Credit_Inquiries      78448 non-null  float64\n",
      " 18  Credit_Mix                80000 non-null  object \n",
      " 19  Outstanding_Debt          80000 non-null  object \n",
      " 20  Credit_Utilization_Ratio  80000 non-null  float64\n",
      " 21  Credit_History_Age        72755 non-null  object \n",
      " 22  Payment_of_Min_Amount     80000 non-null  object \n",
      " 23  Total_EMI_per_month       80000 non-null  float64\n",
      " 24  Amount_invested_monthly   76414 non-null  object \n",
      " 25  Payment_Behaviour         80000 non-null  object \n",
      " 26  Monthly_Balance           79038 non-null  object \n",
      " 27  Credit_Score              80000 non-null  object \n",
      "dtypes: float64(4), int64(4), object(20)\n",
      "memory usage: 19.7+ MB\n"
     ]
    }
   ],
   "source": [
    "train.info()"
   ]
  },
  {
   "cell_type": "code",
   "execution_count": 140,
   "id": "a90fa99a",
   "metadata": {},
   "outputs": [
    {
     "data": {
      "text/plain": [
       "0"
      ]
     },
     "execution_count": 140,
     "metadata": {},
     "output_type": "execute_result"
    }
   ],
   "source": [
    "train[\"Customer_ID\"].value_counts().loc[train[\"Customer_ID\"].value_counts() != 8].size # every customer shows up exactly 8 times"
   ]
  },
  {
   "cell_type": "code",
   "execution_count": 141,
   "id": "c7bb8de8",
   "metadata": {},
   "outputs": [
    {
     "data": {
      "text/plain": [
       "0"
      ]
     },
     "execution_count": 141,
     "metadata": {},
     "output_type": "execute_result"
    }
   ],
   "source": [
    "train['Credit_Score'].isna().sum() # all target values are present"
   ]
  },
  {
   "cell_type": "code",
   "execution_count": 142,
   "id": "b09b0741",
   "metadata": {},
   "outputs": [
    {
     "data": {
      "text/html": [
       "<div>\n",
       "<style scoped>\n",
       "    .dataframe tbody tr th:only-of-type {\n",
       "        vertical-align: middle;\n",
       "    }\n",
       "\n",
       "    .dataframe tbody tr th {\n",
       "        vertical-align: top;\n",
       "    }\n",
       "\n",
       "    .dataframe thead th {\n",
       "        text-align: right;\n",
       "    }\n",
       "</style>\n",
       "<table border=\"1\" class=\"dataframe\">\n",
       "  <thead>\n",
       "    <tr style=\"text-align: right;\">\n",
       "      <th></th>\n",
       "      <th>Name</th>\n",
       "      <th>SSN</th>\n",
       "      <th>Customer_ID</th>\n",
       "    </tr>\n",
       "  </thead>\n",
       "  <tbody>\n",
       "    <tr>\n",
       "      <th>0</th>\n",
       "      <td>Aaron Maashoh</td>\n",
       "      <td>821-00-0265</td>\n",
       "      <td>CUS_0xd40</td>\n",
       "    </tr>\n",
       "    <tr>\n",
       "      <th>1</th>\n",
       "      <td>Aaron Maashoh</td>\n",
       "      <td>821-00-0265</td>\n",
       "      <td>CUS_0xd40</td>\n",
       "    </tr>\n",
       "    <tr>\n",
       "      <th>2</th>\n",
       "      <td>Aaron Maashoh</td>\n",
       "      <td>821-00-0265</td>\n",
       "      <td>CUS_0xd40</td>\n",
       "    </tr>\n",
       "    <tr>\n",
       "      <th>3</th>\n",
       "      <td>Aaron Maashoh</td>\n",
       "      <td>821-00-0265</td>\n",
       "      <td>CUS_0xd40</td>\n",
       "    </tr>\n",
       "    <tr>\n",
       "      <th>4</th>\n",
       "      <td>Aaron Maashoh</td>\n",
       "      <td>821-00-0265</td>\n",
       "      <td>CUS_0xd40</td>\n",
       "    </tr>\n",
       "    <tr>\n",
       "      <th>5</th>\n",
       "      <td>Aaron Maashoh</td>\n",
       "      <td>821-00-0265</td>\n",
       "      <td>CUS_0xd40</td>\n",
       "    </tr>\n",
       "    <tr>\n",
       "      <th>6</th>\n",
       "      <td>Aaron Maashoh</td>\n",
       "      <td>821-00-0265</td>\n",
       "      <td>CUS_0xd40</td>\n",
       "    </tr>\n",
       "    <tr>\n",
       "      <th>7</th>\n",
       "      <td>NaN</td>\n",
       "      <td>#F%$D@*&amp;8</td>\n",
       "      <td>CUS_0xd40</td>\n",
       "    </tr>\n",
       "    <tr>\n",
       "      <th>8</th>\n",
       "      <td>Rick Rothackerj</td>\n",
       "      <td>004-07-5839</td>\n",
       "      <td>CUS_0x21b1</td>\n",
       "    </tr>\n",
       "    <tr>\n",
       "      <th>9</th>\n",
       "      <td>Rick Rothackerj</td>\n",
       "      <td>004-07-5839</td>\n",
       "      <td>CUS_0x21b1</td>\n",
       "    </tr>\n",
       "  </tbody>\n",
       "</table>\n",
       "</div>"
      ],
      "text/plain": [
       "              Name          SSN Customer_ID\n",
       "0    Aaron Maashoh  821-00-0265   CUS_0xd40\n",
       "1    Aaron Maashoh  821-00-0265   CUS_0xd40\n",
       "2    Aaron Maashoh  821-00-0265   CUS_0xd40\n",
       "3    Aaron Maashoh  821-00-0265   CUS_0xd40\n",
       "4    Aaron Maashoh  821-00-0265   CUS_0xd40\n",
       "5    Aaron Maashoh  821-00-0265   CUS_0xd40\n",
       "6    Aaron Maashoh  821-00-0265   CUS_0xd40\n",
       "7              NaN    #F%$D@*&8   CUS_0xd40\n",
       "8  Rick Rothackerj  004-07-5839  CUS_0x21b1\n",
       "9  Rick Rothackerj  004-07-5839  CUS_0x21b1"
      ]
     },
     "execution_count": 142,
     "metadata": {},
     "output_type": "execute_result"
    }
   ],
   "source": [
    "train[[\"Name\", \"SSN\", \"Customer_ID\"]].head(10) # name, customer id and SSN are redundant"
   ]
  },
  {
   "cell_type": "code",
   "execution_count": 143,
   "id": "fa224b2b",
   "metadata": {},
   "outputs": [
    {
     "data": {
      "text/html": [
       "<div>\n",
       "<style scoped>\n",
       "    .dataframe tbody tr th:only-of-type {\n",
       "        vertical-align: middle;\n",
       "    }\n",
       "\n",
       "    .dataframe tbody tr th {\n",
       "        vertical-align: top;\n",
       "    }\n",
       "\n",
       "    .dataframe thead th {\n",
       "        text-align: right;\n",
       "    }\n",
       "</style>\n",
       "<table border=\"1\" class=\"dataframe\">\n",
       "  <thead>\n",
       "    <tr style=\"text-align: right;\">\n",
       "      <th></th>\n",
       "      <th>Age</th>\n",
       "      <th>Annual_Income</th>\n",
       "      <th>Num_of_Loan</th>\n",
       "      <th>Num_of_Delayed_Payment</th>\n",
       "      <th>Changed_Credit_Limit</th>\n",
       "      <th>Outstanding_Debt</th>\n",
       "      <th>Amount_invested_monthly</th>\n",
       "      <th>Monthly_Balance</th>\n",
       "    </tr>\n",
       "  </thead>\n",
       "  <tbody>\n",
       "    <tr>\n",
       "      <th>10</th>\n",
       "      <td>28</td>\n",
       "      <td>34847.84_</td>\n",
       "      <td>1</td>\n",
       "      <td>-1</td>\n",
       "      <td>5.42</td>\n",
       "      <td>605.03</td>\n",
       "      <td>58.51597569589465</td>\n",
       "      <td>466.46647639764313</td>\n",
       "    </tr>\n",
       "    <tr>\n",
       "      <th>11</th>\n",
       "      <td>28</td>\n",
       "      <td>34847.84</td>\n",
       "      <td>1</td>\n",
       "      <td>3_</td>\n",
       "      <td>5.42</td>\n",
       "      <td>605.03</td>\n",
       "      <td>99.30622796053305</td>\n",
       "      <td>465.6762241330048</td>\n",
       "    </tr>\n",
       "    <tr>\n",
       "      <th>12</th>\n",
       "      <td>28</td>\n",
       "      <td>34847.84</td>\n",
       "      <td>1</td>\n",
       "      <td>1</td>\n",
       "      <td>6.42</td>\n",
       "      <td>605.03</td>\n",
       "      <td>130.11542024292334</td>\n",
       "      <td>444.8670318506144</td>\n",
       "    </tr>\n",
       "    <tr>\n",
       "      <th>13</th>\n",
       "      <td>28</td>\n",
       "      <td>34847.84</td>\n",
       "      <td>1</td>\n",
       "      <td>0</td>\n",
       "      <td>5.42</td>\n",
       "      <td>605.03</td>\n",
       "      <td>43.477190144355745</td>\n",
       "      <td>481.505261949182</td>\n",
       "    </tr>\n",
       "    <tr>\n",
       "      <th>14</th>\n",
       "      <td>28</td>\n",
       "      <td>34847.84</td>\n",
       "      <td>1</td>\n",
       "      <td>4</td>\n",
       "      <td>5.42</td>\n",
       "      <td>605.03</td>\n",
       "      <td>70.10177420755677</td>\n",
       "      <td>464.8806778859809</td>\n",
       "    </tr>\n",
       "    <tr>\n",
       "      <th>15</th>\n",
       "      <td>28</td>\n",
       "      <td>34847.84</td>\n",
       "      <td>1</td>\n",
       "      <td>4</td>\n",
       "      <td>5.42</td>\n",
       "      <td>605.03</td>\n",
       "      <td>218.90434353388733</td>\n",
       "      <td>356.07810855965045</td>\n",
       "    </tr>\n",
       "    <tr>\n",
       "      <th>16</th>\n",
       "      <td>34</td>\n",
       "      <td>143162.64</td>\n",
       "      <td>3</td>\n",
       "      <td>8</td>\n",
       "      <td>7.1</td>\n",
       "      <td>1303.01</td>\n",
       "      <td>168.413702679309</td>\n",
       "      <td>1043.3159778669492</td>\n",
       "    </tr>\n",
       "    <tr>\n",
       "      <th>17</th>\n",
       "      <td>34</td>\n",
       "      <td>143162.64</td>\n",
       "      <td>3</td>\n",
       "      <td>6</td>\n",
       "      <td>7.1</td>\n",
       "      <td>1303.01</td>\n",
       "      <td>232.86038375993544</td>\n",
       "      <td>998.8692967863226</td>\n",
       "    </tr>\n",
       "    <tr>\n",
       "      <th>18</th>\n",
       "      <td>34</td>\n",
       "      <td>143162.64</td>\n",
       "      <td>3</td>\n",
       "      <td>7</td>\n",
       "      <td>11.1</td>\n",
       "      <td>1303.01</td>\n",
       "      <td>__10000__</td>\n",
       "      <td>715.741367403555</td>\n",
       "    </tr>\n",
       "    <tr>\n",
       "      <th>19</th>\n",
       "      <td>34</td>\n",
       "      <td>143162.64</td>\n",
       "      <td>3</td>\n",
       "      <td>5</td>\n",
       "      <td>9.1</td>\n",
       "      <td>1303.01</td>\n",
       "      <td>825.2162699393922</td>\n",
       "      <td>426.5134106068658</td>\n",
       "    </tr>\n",
       "  </tbody>\n",
       "</table>\n",
       "</div>"
      ],
      "text/plain": [
       "   Age Annual_Income Num_of_Loan Num_of_Delayed_Payment Changed_Credit_Limit  \\\n",
       "10  28     34847.84_           1                     -1                 5.42   \n",
       "11  28      34847.84           1                     3_                 5.42   \n",
       "12  28      34847.84           1                      1                 6.42   \n",
       "13  28      34847.84           1                      0                 5.42   \n",
       "14  28      34847.84           1                      4                 5.42   \n",
       "15  28      34847.84           1                      4                 5.42   \n",
       "16  34     143162.64           3                      8                  7.1   \n",
       "17  34     143162.64           3                      6                  7.1   \n",
       "18  34     143162.64           3                      7                 11.1   \n",
       "19  34     143162.64           3                      5                  9.1   \n",
       "\n",
       "   Outstanding_Debt Amount_invested_monthly     Monthly_Balance  \n",
       "10           605.03       58.51597569589465  466.46647639764313  \n",
       "11           605.03       99.30622796053305   465.6762241330048  \n",
       "12           605.03      130.11542024292334   444.8670318506144  \n",
       "13           605.03      43.477190144355745    481.505261949182  \n",
       "14           605.03       70.10177420755677   464.8806778859809  \n",
       "15           605.03      218.90434353388733  356.07810855965045  \n",
       "16          1303.01        168.413702679309  1043.3159778669492  \n",
       "17          1303.01      232.86038375993544   998.8692967863226  \n",
       "18          1303.01               __10000__    715.741367403555  \n",
       "19          1303.01       825.2162699393922   426.5134106068658  "
      ]
     },
     "execution_count": 143,
     "metadata": {},
     "output_type": "execute_result"
    }
   ],
   "source": [
    "columns_to_alter = ['Age', 'Annual_Income', 'Num_of_Loan','Num_of_Delayed_Payment',\n",
    "                    'Changed_Credit_Limit', 'Outstanding_Debt',\n",
    "                    'Amount_invested_monthly', 'Monthly_Balance']\n",
    "\n",
    "train[columns_to_alter].iloc[10:20] # some columns have weird signs - \"_\" and are of wrong format"
   ]
  },
  {
   "cell_type": "code",
   "execution_count": 144,
   "id": "3a8878bf",
   "metadata": {},
   "outputs": [
    {
     "name": "stdout",
     "output_type": "stream",
     "text": [
      "['No' 'NM' 'Yes'] \n",
      " ['Scientist' '_______' 'Teacher' 'Engineer' 'Entrepreneur' 'Developer'\n",
      " 'Lawyer' 'Media_Manager' 'Doctor' 'Journalist' 'Manager' 'Accountant'\n",
      " 'Musician' 'Mechanic' 'Writer' 'Architect'] \n",
      " ['_' 'Good' 'Standard' 'Bad'] \n",
      " ['High_spent_Small_value_payments' 'Low_spent_Large_value_payments'\n",
      " 'Low_spent_Medium_value_payments' 'Low_spent_Small_value_payments'\n",
      " 'High_spent_Medium_value_payments' '!@9#%8'\n",
      " 'High_spent_Large_value_payments']\n"
     ]
    }
   ],
   "source": [
    "# how different are categorical columns\n",
    "\n",
    "print(train['Payment_of_Min_Amount'].unique(), \"\\n\",\n",
    "      train['Occupation'].unique(), \"\\n\",\n",
    "      train[\"Credit_Mix\"].unique(), \"\\n\",\n",
    "      train[\"Payment_Behaviour\"].unique())"
   ]
  },
  {
   "cell_type": "code",
   "execution_count": 145,
   "id": "f47f4901",
   "metadata": {},
   "outputs": [
    {
     "data": {
      "text/html": [
       "<div>\n",
       "<style scoped>\n",
       "    .dataframe tbody tr th:only-of-type {\n",
       "        vertical-align: middle;\n",
       "    }\n",
       "\n",
       "    .dataframe tbody tr th {\n",
       "        vertical-align: top;\n",
       "    }\n",
       "\n",
       "    .dataframe thead th {\n",
       "        text-align: right;\n",
       "    }\n",
       "</style>\n",
       "<table border=\"1\" class=\"dataframe\">\n",
       "  <thead>\n",
       "    <tr style=\"text-align: right;\">\n",
       "      <th></th>\n",
       "      <th>Credit_History_Age</th>\n",
       "      <th>Payment_Behaviour</th>\n",
       "    </tr>\n",
       "  </thead>\n",
       "  <tbody>\n",
       "    <tr>\n",
       "      <th>0</th>\n",
       "      <td>22 Years and 1 Months</td>\n",
       "      <td>High_spent_Small_value_payments</td>\n",
       "    </tr>\n",
       "    <tr>\n",
       "      <th>1</th>\n",
       "      <td>NaN</td>\n",
       "      <td>Low_spent_Large_value_payments</td>\n",
       "    </tr>\n",
       "    <tr>\n",
       "      <th>2</th>\n",
       "      <td>22 Years and 3 Months</td>\n",
       "      <td>Low_spent_Medium_value_payments</td>\n",
       "    </tr>\n",
       "    <tr>\n",
       "      <th>3</th>\n",
       "      <td>22 Years and 4 Months</td>\n",
       "      <td>Low_spent_Small_value_payments</td>\n",
       "    </tr>\n",
       "    <tr>\n",
       "      <th>4</th>\n",
       "      <td>22 Years and 5 Months</td>\n",
       "      <td>High_spent_Medium_value_payments</td>\n",
       "    </tr>\n",
       "  </tbody>\n",
       "</table>\n",
       "</div>"
      ],
      "text/plain": [
       "      Credit_History_Age                 Payment_Behaviour\n",
       "0  22 Years and 1 Months   High_spent_Small_value_payments\n",
       "1                    NaN    Low_spent_Large_value_payments\n",
       "2  22 Years and 3 Months   Low_spent_Medium_value_payments\n",
       "3  22 Years and 4 Months    Low_spent_Small_value_payments\n",
       "4  22 Years and 5 Months  High_spent_Medium_value_payments"
      ]
     },
     "execution_count": 145,
     "metadata": {},
     "output_type": "execute_result"
    }
   ],
   "source": [
    "# account age, and behaviour is in unfriendly format\n",
    "\n",
    "train[[\"Credit_History_Age\", \"Payment_Behaviour\"]].head()"
   ]
  },
  {
   "cell_type": "markdown",
   "id": "0c77f97e",
   "metadata": {},
   "source": [
    "# Data Preprocessing"
   ]
  },
  {
   "cell_type": "code",
   "execution_count": 146,
   "id": "f6422de7",
   "metadata": {},
   "outputs": [],
   "source": [
    "train = train.drop(['Name', 'SSN'], axis='columns') # no added value, all the information in  Customer_ID\n",
    "train = train.drop(['ID'], axis='columns') # redundant too \n",
    "\n",
    "train[\"Customer_ID\"] = train[\"Customer_ID\"].apply(lambda x: int(x[4:], 16)) # convert to int"
   ]
  },
  {
   "cell_type": "code",
   "execution_count": 147,
   "id": "787fd3cb",
   "metadata": {},
   "outputs": [],
   "source": [
    "# alter datatypes where necessary\n",
    "columns_to_alter = ['Age', 'Annual_Income', 'Num_of_Loan','Num_of_Delayed_Payment',\n",
    "                    'Changed_Credit_Limit', 'Outstanding_Debt',\n",
    "                    'Amount_invested_monthly', 'Monthly_Balance']\n",
    "\n",
    "def clear_numeric_data(col):\n",
    "    # some of the rows contain \"_\" sign\n",
    "    col.astype(str).replace(\"_\", \"\")\n",
    "    return pd.to_numeric(col, errors=\"coerce\")\n",
    "\n",
    "train[columns_to_alter] = train[columns_to_alter].apply(clear_numeric_data, axis=1)"
   ]
  },
  {
   "cell_type": "code",
   "execution_count": 148,
   "id": "72c84e2e",
   "metadata": {},
   "outputs": [],
   "source": [
    "train[\"Age\"] = np.where((0 > train[\"Age\"]), -train[\"Age\"], train[\"Age\"]) # deleting weird outliners\n",
    "train['Age'] = np.where((0 <= train['Age']) & (train['Age'] <= 100), train['Age'], np.mean(train[\"Age\"])) # replace with mean"
   ]
  },
  {
   "cell_type": "code",
   "execution_count": 149,
   "id": "0b585c19",
   "metadata": {},
   "outputs": [],
   "source": [
    "# encode columns where necessary (Credit_Mix, Payment_of_Min_Amount, Credit_Score)\n",
    "# mapping\n",
    "credit_mix_dict = {'Bad':0, 'Standard':1, 'Good':2, '_':float('nan')}\n",
    "poma_dict = {'No':0, 'Yes':1, 'NM':float('nan')}\n",
    "credit_score_dict = {'Poor':0, 'Standard':1, 'Good':2}\n",
    "\n",
    "train['Payment_of_Min_Amount'] = train['Payment_of_Min_Amount'].map(poma_dict)\n",
    "train['Credit_Mix'] = train['Credit_Mix'].map(credit_mix_dict)\n",
    "train['Credit_Score'] = train['Credit_Score'].map(credit_score_dict)"
   ]
  },
  {
   "cell_type": "code",
   "execution_count": 150,
   "id": "4ef5189e",
   "metadata": {},
   "outputs": [],
   "source": [
    "# convert months to numbers:\n",
    "month_dict = {\"January\": 1, \"February\": 2, \"March\": 3, \"April\": 4, \"May\": 5,\n",
    "                \"June\": 6, \"July\": 7, \"August\": 8}\n",
    "\n",
    "train[\"Month\"] = train[\"Month\"].map(month_dict)"
   ]
  },
  {
   "cell_type": "code",
   "execution_count": 151,
   "id": "c1b133a0",
   "metadata": {},
   "outputs": [],
   "source": [
    "train[\"Payment_Behaviour\"] = train[\"Payment_Behaviour\"].replace('!@9#%8', 'Unknown_spent_Unknown_value_payments')\n",
    "split_payment = lambda x:  ([x.split(\"_\")[0], x.split(\"_\")[2]] if (x is not None) else [\"Unknown\", \"Unknown\"])\n",
    "train[\"Payment_Behaviour\"] = train[\"Payment_Behaviour\"].apply(split_payment)\n",
    "\n",
    "train[[\"Spending_Behaviour\", \"Value_Payments\"]] = pd.DataFrame(train[\"Payment_Behaviour\"].tolist(), index=train.index)"
   ]
  },
  {
   "cell_type": "code",
   "execution_count": 152,
   "id": "285d6d51",
   "metadata": {},
   "outputs": [],
   "source": [
    "spending_dict = {'Low':0, 'High':1, 'Unknown':float('nan')}\n",
    "value_dict = {'Small':0, 'Medium':1, 'Large':2,  'Unknown':float('nan')}\n",
    "\n",
    "train['Spending_Behaviour'] = train['Spending_Behaviour'].map(spending_dict)\n",
    "train['Value_Payments'] = train['Value_Payments'].map(value_dict)"
   ]
  },
  {
   "cell_type": "code",
   "execution_count": 153,
   "id": "6bf595a7",
   "metadata": {},
   "outputs": [],
   "source": [
    "# drop some more less relevant columns - not ideal solution !!!!\n",
    "train = train.drop(['Month', 'Occupation', 'Payment_Behaviour'], axis='columns')\n",
    "# Payment_Behaviour/Credit Score correlation is 0.083, I expected higher "
   ]
  },
  {
   "cell_type": "code",
   "execution_count": 154,
   "id": "758a7898",
   "metadata": {},
   "outputs": [
    {
     "name": "stdout",
     "output_type": "stream",
     "text": [
      "<class 'pandas.core.frame.DataFrame'>\n",
      "Int64Index: 80000 entries, 0 to 79999\n",
      "Data columns (total 24 columns):\n",
      " #   Column                    Non-Null Count  Dtype  \n",
      "---  ------                    --------------  -----  \n",
      " 0   Customer_ID               80000 non-null  int64  \n",
      " 1   Age                       80000 non-null  float64\n",
      " 2   Annual_Income             74418 non-null  float64\n",
      " 3   Monthly_Inhand_Salary     68024 non-null  float64\n",
      " 4   Num_Bank_Accounts         80000 non-null  int64  \n",
      " 5   Num_Credit_Card           80000 non-null  int64  \n",
      " 6   Interest_Rate             80000 non-null  int64  \n",
      " 7   Num_of_Loan               76181 non-null  float64\n",
      " 8   Type_of_Loan              70984 non-null  object \n",
      " 9   Delay_from_due_date       80000 non-null  int64  \n",
      " 10  Num_of_Delayed_Payment    72259 non-null  float64\n",
      " 11  Changed_Credit_Limit      78330 non-null  float64\n",
      " 12  Num_Credit_Inquiries      78448 non-null  float64\n",
      " 13  Credit_Mix                63851 non-null  float64\n",
      " 14  Outstanding_Debt          79191 non-null  float64\n",
      " 15  Credit_Utilization_Ratio  80000 non-null  float64\n",
      " 16  Credit_History_Age        72755 non-null  object \n",
      " 17  Payment_of_Min_Amount     70391 non-null  float64\n",
      " 18  Total_EMI_per_month       80000 non-null  float64\n",
      " 19  Amount_invested_monthly   72980 non-null  float64\n",
      " 20  Monthly_Balance           79031 non-null  float64\n",
      " 21  Credit_Score              80000 non-null  int64  \n",
      " 22  Spending_Behaviour        73861 non-null  float64\n",
      " 23  Value_Payments            73861 non-null  float64\n",
      "dtypes: float64(16), int64(6), object(2)\n",
      "memory usage: 17.3+ MB\n"
     ]
    }
   ],
   "source": [
    "train.info()"
   ]
  },
  {
   "cell_type": "code",
   "execution_count": 155,
   "id": "786b3233",
   "metadata": {},
   "outputs": [],
   "source": [
    "# processing Credit_History_Age so that's continuous\n",
    "import re\n",
    "def history_age(age):\n",
    "    try : \n",
    "        years = int(re.findall('[0-9]+', age)[0])\n",
    "        month = int(re.findall('[0-9]+', age)[1])\n",
    "        return years*12 + month\n",
    "    except :\n",
    "        return np.nan"
   ]
  },
  {
   "cell_type": "code",
   "execution_count": 156,
   "id": "6ce8a1f1",
   "metadata": {},
   "outputs": [],
   "source": [
    "train['Credit_History_Age'] = train['Credit_History_Age'].apply(history_age)"
   ]
  },
  {
   "cell_type": "code",
   "execution_count": 157,
   "id": "ac736ffb",
   "metadata": {},
   "outputs": [
    {
     "data": {
      "text/plain": [
       "[None, None, None, None]"
      ]
     },
     "execution_count": 157,
     "metadata": {},
     "output_type": "execute_result"
    }
   ],
   "source": [
    "# filling missing values\n",
    "# Monthly_Inhand_Salary, Amount_invested_monthly, Monthly_Balance  are continuous so we may\n",
    "# replace the null values using 'mean' for particular customers identified by Customer_ID\n",
    "\n",
    "continuous_values = ['Monthly_Inhand_Salary', 'Amount_invested_monthly',\n",
    "                     'Monthly_Balance', 'Credit_History_Age']\n",
    "[train[column].fillna(train.groupby('Customer_ID')[column].transform('mean'), inplace=True)\n",
    " for column in continuous_values]"
   ]
  },
  {
   "cell_type": "code",
   "execution_count": 158,
   "id": "e70d4c81",
   "metadata": {},
   "outputs": [],
   "source": [
    "# Credit_Mix value is discrete but we may assign to missing rows the values\n",
    "# from other rows with the same Customer_ID\n",
    "\n",
    "# using mean is not causing any trouble here, we're practically taking the value that appears\n",
    "# in the rows with the same id\n",
    "train['Credit_Mix'].fillna(train.groupby('Customer_ID')['Credit_Mix'].transform('mean'), inplace=True)"
   ]
  },
  {
   "cell_type": "code",
   "execution_count": 159,
   "id": "852dab4d",
   "metadata": {},
   "outputs": [
    {
     "name": "stdout",
     "output_type": "stream",
     "text": [
      "<class 'pandas.core.frame.DataFrame'>\n",
      "Int64Index: 80000 entries, 0 to 79999\n",
      "Data columns (total 24 columns):\n",
      " #   Column                    Non-Null Count  Dtype  \n",
      "---  ------                    --------------  -----  \n",
      " 0   Customer_ID               80000 non-null  int64  \n",
      " 1   Age                       80000 non-null  float64\n",
      " 2   Annual_Income             74418 non-null  float64\n",
      " 3   Monthly_Inhand_Salary     80000 non-null  float64\n",
      " 4   Num_Bank_Accounts         80000 non-null  int64  \n",
      " 5   Num_Credit_Card           80000 non-null  int64  \n",
      " 6   Interest_Rate             80000 non-null  int64  \n",
      " 7   Num_of_Loan               76181 non-null  float64\n",
      " 8   Type_of_Loan              70984 non-null  object \n",
      " 9   Delay_from_due_date       80000 non-null  int64  \n",
      " 10  Num_of_Delayed_Payment    72259 non-null  float64\n",
      " 11  Changed_Credit_Limit      78330 non-null  float64\n",
      " 12  Num_Credit_Inquiries      78448 non-null  float64\n",
      " 13  Credit_Mix                80000 non-null  float64\n",
      " 14  Outstanding_Debt          79191 non-null  float64\n",
      " 15  Credit_Utilization_Ratio  80000 non-null  float64\n",
      " 16  Credit_History_Age        80000 non-null  float64\n",
      " 17  Payment_of_Min_Amount     70391 non-null  float64\n",
      " 18  Total_EMI_per_month       80000 non-null  float64\n",
      " 19  Amount_invested_monthly   80000 non-null  float64\n",
      " 20  Monthly_Balance           80000 non-null  float64\n",
      " 21  Credit_Score              80000 non-null  int64  \n",
      " 22  Spending_Behaviour        73861 non-null  float64\n",
      " 23  Value_Payments            73861 non-null  float64\n",
      "dtypes: float64(17), int64(6), object(1)\n",
      "memory usage: 17.3+ MB\n"
     ]
    }
   ],
   "source": [
    "train.info()"
   ]
  },
  {
   "cell_type": "code",
   "execution_count": 160,
   "id": "33e4a9b6",
   "metadata": {},
   "outputs": [
    {
     "data": {
      "text/plain": [
       "0        Auto Loan, Credit-Builder Loan, Personal Loan,...\n",
       "1        Auto Loan, Credit-Builder Loan, Personal Loan,...\n",
       "2        Auto Loan, Credit-Builder Loan, Personal Loan,...\n",
       "3        Auto Loan, Credit-Builder Loan, Personal Loan,...\n",
       "4        Auto Loan, Credit-Builder Loan, Personal Loan,...\n",
       "                               ...                        \n",
       "79995    Credit-Builder Loan, Not Specified, and Not Sp...\n",
       "79996    Credit-Builder Loan, Not Specified, and Not Sp...\n",
       "79997    Credit-Builder Loan, Not Specified, and Not Sp...\n",
       "79998    Credit-Builder Loan, Not Specified, and Not Sp...\n",
       "79999    Credit-Builder Loan, Not Specified, and Not Sp...\n",
       "Name: Type_of_Loan, Length: 80000, dtype: object"
      ]
     },
     "execution_count": 160,
     "metadata": {},
     "output_type": "execute_result"
    }
   ],
   "source": [
    "# type of loan may contain some interesting information\n",
    "train['Type_of_Loan']"
   ]
  },
  {
   "cell_type": "code",
   "execution_count": 161,
   "id": "c0194d9c",
   "metadata": {},
   "outputs": [],
   "source": [
    "# first we fill the information for customers that have other rows with full information available\n",
    "train['Type_of_Loan'].fillna(train.groupby('Customer_ID')['Type_of_Loan'].first(), inplace=True)\n",
    "# later we fill with ''\n",
    "train['Type_of_Loan'].fillna('', inplace=True)"
   ]
  },
  {
   "cell_type": "code",
   "execution_count": 162,
   "id": "1f3ffbc3",
   "metadata": {},
   "outputs": [],
   "source": [
    "types =  train['Type_of_Loan'].value_counts().head(9).index[1:] \n",
    "for loan_type in types: # the single types of loans\n",
    "    train[loan_type] = train['Type_of_Loan'].str.contains(loan_type)"
   ]
  },
  {
   "cell_type": "code",
   "execution_count": 163,
   "id": "23e58745",
   "metadata": {},
   "outputs": [],
   "source": [
    "del train['Type_of_Loan']"
   ]
  },
  {
   "cell_type": "code",
   "execution_count": 164,
   "id": "8dd7627d",
   "metadata": {},
   "outputs": [
    {
     "name": "stdout",
     "output_type": "stream",
     "text": [
      "<class 'pandas.core.frame.DataFrame'>\n",
      "Int64Index: 80000 entries, 0 to 79999\n",
      "Data columns (total 31 columns):\n",
      " #   Column                    Non-Null Count  Dtype  \n",
      "---  ------                    --------------  -----  \n",
      " 0   Customer_ID               80000 non-null  int64  \n",
      " 1   Age                       80000 non-null  float64\n",
      " 2   Annual_Income             74418 non-null  float64\n",
      " 3   Monthly_Inhand_Salary     80000 non-null  float64\n",
      " 4   Num_Bank_Accounts         80000 non-null  int64  \n",
      " 5   Num_Credit_Card           80000 non-null  int64  \n",
      " 6   Interest_Rate             80000 non-null  int64  \n",
      " 7   Num_of_Loan               76181 non-null  float64\n",
      " 8   Delay_from_due_date       80000 non-null  int64  \n",
      " 9   Num_of_Delayed_Payment    72259 non-null  float64\n",
      " 10  Changed_Credit_Limit      78330 non-null  float64\n",
      " 11  Num_Credit_Inquiries      78448 non-null  float64\n",
      " 12  Credit_Mix                80000 non-null  float64\n",
      " 13  Outstanding_Debt          79191 non-null  float64\n",
      " 14  Credit_Utilization_Ratio  80000 non-null  float64\n",
      " 15  Credit_History_Age        80000 non-null  float64\n",
      " 16  Payment_of_Min_Amount     70391 non-null  float64\n",
      " 17  Total_EMI_per_month       80000 non-null  float64\n",
      " 18  Amount_invested_monthly   80000 non-null  float64\n",
      " 19  Monthly_Balance           80000 non-null  float64\n",
      " 20  Credit_Score              80000 non-null  int64  \n",
      " 21  Spending_Behaviour        73861 non-null  float64\n",
      " 22  Value_Payments            73861 non-null  float64\n",
      " 23  Not Specified             80000 non-null  bool   \n",
      " 24  Personal Loan             80000 non-null  bool   \n",
      " 25  Credit-Builder Loan       80000 non-null  bool   \n",
      " 26  Debt Consolidation Loan   80000 non-null  bool   \n",
      " 27  Mortgage Loan             80000 non-null  bool   \n",
      " 28  Payday Loan               80000 non-null  bool   \n",
      " 29  Auto Loan                 80000 non-null  bool   \n",
      " 30  Student Loan              80000 non-null  bool   \n",
      "dtypes: bool(8), float64(17), int64(6)\n",
      "memory usage: 17.3 MB\n"
     ]
    }
   ],
   "source": [
    "train.info()"
   ]
  },
  {
   "cell_type": "code",
   "execution_count": 201,
   "id": "0a473242",
   "metadata": {},
   "outputs": [],
   "source": [
    "# eliminate the most irrelevant columns\n",
    "\n",
    "colnames = []\n",
    "for colname in train.columns.values[:-1]:\n",
    "    try:\n",
    "        if abs(train[colname].corr(train['Credit_Score'])) < 0.1:\n",
    "            colnames.append(colname)\n",
    "    except:\n",
    "        pass # not with every columns the correlation could have been measured, to deal with later"
   ]
  },
  {
   "cell_type": "code",
   "execution_count": 202,
   "id": "cefcb87d",
   "metadata": {},
   "outputs": [
    {
     "data": {
      "text/plain": [
       "[]"
      ]
     },
     "execution_count": 202,
     "metadata": {},
     "output_type": "execute_result"
    }
   ],
   "source": [
    "colnames"
   ]
  },
  {
   "cell_type": "code",
   "execution_count": 176,
   "id": "b847bf28",
   "metadata": {},
   "outputs": [],
   "source": [
    "train2 = train.copy()"
   ]
  },
  {
   "cell_type": "code",
   "execution_count": 203,
   "id": "10c02325",
   "metadata": {},
   "outputs": [],
   "source": [
    "train = train2.drop(colnames, axis=1)"
   ]
  },
  {
   "cell_type": "code",
   "execution_count": 204,
   "id": "0b5aa2e7",
   "metadata": {},
   "outputs": [
    {
     "data": {
      "text/html": [
       "<div>\n",
       "<style scoped>\n",
       "    .dataframe tbody tr th:only-of-type {\n",
       "        vertical-align: middle;\n",
       "    }\n",
       "\n",
       "    .dataframe tbody tr th {\n",
       "        vertical-align: top;\n",
       "    }\n",
       "\n",
       "    .dataframe thead th {\n",
       "        text-align: right;\n",
       "    }\n",
       "</style>\n",
       "<table border=\"1\" class=\"dataframe\">\n",
       "  <thead>\n",
       "    <tr style=\"text-align: right;\">\n",
       "      <th></th>\n",
       "      <th>Customer_ID</th>\n",
       "      <th>Age</th>\n",
       "      <th>Annual_Income</th>\n",
       "      <th>Monthly_Inhand_Salary</th>\n",
       "      <th>Num_Bank_Accounts</th>\n",
       "      <th>Num_Credit_Card</th>\n",
       "      <th>Interest_Rate</th>\n",
       "      <th>Num_of_Loan</th>\n",
       "      <th>Delay_from_due_date</th>\n",
       "      <th>Num_of_Delayed_Payment</th>\n",
       "      <th>...</th>\n",
       "      <th>Spending_Behaviour</th>\n",
       "      <th>Value_Payments</th>\n",
       "      <th>Not Specified</th>\n",
       "      <th>Personal Loan</th>\n",
       "      <th>Credit-Builder Loan</th>\n",
       "      <th>Debt Consolidation Loan</th>\n",
       "      <th>Mortgage Loan</th>\n",
       "      <th>Payday Loan</th>\n",
       "      <th>Auto Loan</th>\n",
       "      <th>Student Loan</th>\n",
       "    </tr>\n",
       "  </thead>\n",
       "  <tbody>\n",
       "    <tr>\n",
       "      <th>0</th>\n",
       "      <td>3392</td>\n",
       "      <td>23.000000</td>\n",
       "      <td>19114.12</td>\n",
       "      <td>1824.843333</td>\n",
       "      <td>3</td>\n",
       "      <td>4</td>\n",
       "      <td>3</td>\n",
       "      <td>4.0</td>\n",
       "      <td>3</td>\n",
       "      <td>7.0</td>\n",
       "      <td>...</td>\n",
       "      <td>1.0</td>\n",
       "      <td>0.0</td>\n",
       "      <td>False</td>\n",
       "      <td>True</td>\n",
       "      <td>True</td>\n",
       "      <td>False</td>\n",
       "      <td>False</td>\n",
       "      <td>False</td>\n",
       "      <td>True</td>\n",
       "      <td>False</td>\n",
       "    </tr>\n",
       "    <tr>\n",
       "      <th>1</th>\n",
       "      <td>3392</td>\n",
       "      <td>23.000000</td>\n",
       "      <td>19114.12</td>\n",
       "      <td>1824.843333</td>\n",
       "      <td>3</td>\n",
       "      <td>4</td>\n",
       "      <td>3</td>\n",
       "      <td>4.0</td>\n",
       "      <td>-1</td>\n",
       "      <td>NaN</td>\n",
       "      <td>...</td>\n",
       "      <td>0.0</td>\n",
       "      <td>2.0</td>\n",
       "      <td>False</td>\n",
       "      <td>True</td>\n",
       "      <td>True</td>\n",
       "      <td>False</td>\n",
       "      <td>False</td>\n",
       "      <td>False</td>\n",
       "      <td>True</td>\n",
       "      <td>False</td>\n",
       "    </tr>\n",
       "    <tr>\n",
       "      <th>2</th>\n",
       "      <td>3392</td>\n",
       "      <td>120.917795</td>\n",
       "      <td>19114.12</td>\n",
       "      <td>1824.843333</td>\n",
       "      <td>3</td>\n",
       "      <td>4</td>\n",
       "      <td>3</td>\n",
       "      <td>4.0</td>\n",
       "      <td>3</td>\n",
       "      <td>7.0</td>\n",
       "      <td>...</td>\n",
       "      <td>0.0</td>\n",
       "      <td>1.0</td>\n",
       "      <td>False</td>\n",
       "      <td>True</td>\n",
       "      <td>True</td>\n",
       "      <td>False</td>\n",
       "      <td>False</td>\n",
       "      <td>False</td>\n",
       "      <td>True</td>\n",
       "      <td>False</td>\n",
       "    </tr>\n",
       "    <tr>\n",
       "      <th>3</th>\n",
       "      <td>3392</td>\n",
       "      <td>23.000000</td>\n",
       "      <td>19114.12</td>\n",
       "      <td>1824.843333</td>\n",
       "      <td>3</td>\n",
       "      <td>4</td>\n",
       "      <td>3</td>\n",
       "      <td>4.0</td>\n",
       "      <td>5</td>\n",
       "      <td>4.0</td>\n",
       "      <td>...</td>\n",
       "      <td>0.0</td>\n",
       "      <td>0.0</td>\n",
       "      <td>False</td>\n",
       "      <td>True</td>\n",
       "      <td>True</td>\n",
       "      <td>False</td>\n",
       "      <td>False</td>\n",
       "      <td>False</td>\n",
       "      <td>True</td>\n",
       "      <td>False</td>\n",
       "    </tr>\n",
       "    <tr>\n",
       "      <th>4</th>\n",
       "      <td>3392</td>\n",
       "      <td>23.000000</td>\n",
       "      <td>19114.12</td>\n",
       "      <td>1824.843333</td>\n",
       "      <td>3</td>\n",
       "      <td>4</td>\n",
       "      <td>3</td>\n",
       "      <td>4.0</td>\n",
       "      <td>6</td>\n",
       "      <td>NaN</td>\n",
       "      <td>...</td>\n",
       "      <td>1.0</td>\n",
       "      <td>1.0</td>\n",
       "      <td>False</td>\n",
       "      <td>True</td>\n",
       "      <td>True</td>\n",
       "      <td>False</td>\n",
       "      <td>False</td>\n",
       "      <td>False</td>\n",
       "      <td>True</td>\n",
       "      <td>False</td>\n",
       "    </tr>\n",
       "  </tbody>\n",
       "</table>\n",
       "<p>5 rows × 31 columns</p>\n",
       "</div>"
      ],
      "text/plain": [
       "   Customer_ID         Age  Annual_Income  Monthly_Inhand_Salary  \\\n",
       "0         3392   23.000000       19114.12            1824.843333   \n",
       "1         3392   23.000000       19114.12            1824.843333   \n",
       "2         3392  120.917795       19114.12            1824.843333   \n",
       "3         3392   23.000000       19114.12            1824.843333   \n",
       "4         3392   23.000000       19114.12            1824.843333   \n",
       "\n",
       "   Num_Bank_Accounts  Num_Credit_Card  Interest_Rate  Num_of_Loan  \\\n",
       "0                  3                4              3          4.0   \n",
       "1                  3                4              3          4.0   \n",
       "2                  3                4              3          4.0   \n",
       "3                  3                4              3          4.0   \n",
       "4                  3                4              3          4.0   \n",
       "\n",
       "   Delay_from_due_date  Num_of_Delayed_Payment  ...  Spending_Behaviour  \\\n",
       "0                    3                     7.0  ...                 1.0   \n",
       "1                   -1                     NaN  ...                 0.0   \n",
       "2                    3                     7.0  ...                 0.0   \n",
       "3                    5                     4.0  ...                 0.0   \n",
       "4                    6                     NaN  ...                 1.0   \n",
       "\n",
       "   Value_Payments  Not Specified  Personal Loan  Credit-Builder Loan  \\\n",
       "0             0.0          False           True                 True   \n",
       "1             2.0          False           True                 True   \n",
       "2             1.0          False           True                 True   \n",
       "3             0.0          False           True                 True   \n",
       "4             1.0          False           True                 True   \n",
       "\n",
       "   Debt Consolidation Loan  Mortgage Loan  Payday Loan  Auto Loan  \\\n",
       "0                    False          False        False       True   \n",
       "1                    False          False        False       True   \n",
       "2                    False          False        False       True   \n",
       "3                    False          False        False       True   \n",
       "4                    False          False        False       True   \n",
       "\n",
       "   Student Loan  \n",
       "0         False  \n",
       "1         False  \n",
       "2         False  \n",
       "3         False  \n",
       "4         False  \n",
       "\n",
       "[5 rows x 31 columns]"
      ]
     },
     "execution_count": 204,
     "metadata": {},
     "output_type": "execute_result"
    }
   ],
   "source": [
    "train.head()"
   ]
  },
  {
   "cell_type": "code",
   "execution_count": 205,
   "id": "36160f9a",
   "metadata": {},
   "outputs": [],
   "source": [
    "# clear NA \n",
    "\n",
    "train = train.dropna()"
   ]
  },
  {
   "cell_type": "markdown",
   "id": "51fb2f07",
   "metadata": {},
   "source": [
    "# Model"
   ]
  },
  {
   "cell_type": "code",
   "execution_count": 206,
   "id": "8cd12554",
   "metadata": {},
   "outputs": [],
   "source": [
    "from sklearn.model_selection import train_test_split\n",
    "from sklearn.metrics import classification_report\n",
    "from sklearn.preprocessing import StandardScaler"
   ]
  },
  {
   "cell_type": "code",
   "execution_count": 207,
   "id": "b9fee98c",
   "metadata": {},
   "outputs": [],
   "source": [
    "y = train['Credit_Score']\n",
    "del train['Credit_Score']\n",
    "#del train['Customer_ID']"
   ]
  },
  {
   "cell_type": "code",
   "execution_count": 208,
   "id": "4f98f15a",
   "metadata": {},
   "outputs": [],
   "source": [
    "X_train, X_val, y_train, y_val = train_test_split(train,\n",
    "                                                    y,\n",
    "                                                    test_size=0.2,\n",
    "                                                    shuffle=False)"
   ]
  },
  {
   "cell_type": "markdown",
   "id": "9ef049a4",
   "metadata": {},
   "source": [
    "# Random Forest"
   ]
  },
  {
   "cell_type": "code",
   "execution_count": 209,
   "id": "174eb5af",
   "metadata": {},
   "outputs": [],
   "source": [
    "from sklearn.ensemble import RandomForestClassifier"
   ]
  },
  {
   "cell_type": "code",
   "execution_count": 210,
   "id": "1ce53215",
   "metadata": {},
   "outputs": [
    {
     "data": {
      "text/plain": [
       "RandomForestClassifier(n_estimators=120)"
      ]
     },
     "execution_count": 210,
     "metadata": {},
     "output_type": "execute_result"
    }
   ],
   "source": [
    "rf_model = RandomForestClassifier(n_estimators=120)\n",
    "rf_model.fit(X_train, y_train)"
   ]
  },
  {
   "cell_type": "code",
   "execution_count": 211,
   "id": "43ec79ae",
   "metadata": {},
   "outputs": [],
   "source": [
    "y_pred = rf_model.predict(X_val)"
   ]
  },
  {
   "cell_type": "code",
   "execution_count": 212,
   "id": "20c955f5",
   "metadata": {},
   "outputs": [
    {
     "name": "stdout",
     "output_type": "stream",
     "text": [
      "              precision    recall  f1-score   support\n",
      "\n",
      "           0       0.66      0.71      0.69      2720\n",
      "           1       0.73      0.75      0.74      5234\n",
      "           2       0.65      0.53      0.58      1952\n",
      "\n",
      "    accuracy                           0.70      9906\n",
      "   macro avg       0.68      0.66      0.67      9906\n",
      "weighted avg       0.69      0.70      0.69      9906\n",
      "\n"
     ]
    }
   ],
   "source": [
    "print(classification_report(y_pred, y_val))"
   ]
  },
  {
   "cell_type": "code",
   "execution_count": null,
   "id": "01334e6c",
   "metadata": {},
   "outputs": [],
   "source": []
  }
 ],
 "metadata": {
  "kernelspec": {
   "display_name": "Python 3 (ipykernel)",
   "language": "python",
   "name": "python3"
  },
  "language_info": {
   "codemirror_mode": {
    "name": "ipython",
    "version": 3
   },
   "file_extension": ".py",
   "mimetype": "text/x-python",
   "name": "python",
   "nbconvert_exporter": "python",
   "pygments_lexer": "ipython3",
   "version": "3.8.8"
  }
 },
 "nbformat": 4,
 "nbformat_minor": 5
}
