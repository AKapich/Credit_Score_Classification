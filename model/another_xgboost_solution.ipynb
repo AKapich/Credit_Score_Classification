{
 "cells": [
  {
   "cell_type": "markdown",
   "id": "577ffc6b",
   "metadata": {},
   "source": [
    "# Credit score classification project"
   ]
  },
  {
   "cell_type": "code",
   "execution_count": 1,
   "id": "ffdf52e9",
   "metadata": {},
   "outputs": [],
   "source": [
    "import pandas as pd\n",
    "import numpy as np\n",
    "import matplotlib.pyplot as plt\n",
    "import sklearn as sk\n",
    "from sklearn.model_selection import train_test_split\n",
    "import seaborn as sns"
   ]
  },
  {
   "cell_type": "markdown",
   "id": "d679e489",
   "metadata": {},
   "source": [
    "# Train test split\n",
    "First of all we need to split our data into train, validation and test sets.\n",
    "\n",
    "Even though there is a test set given in the competition files, we don't have any access to the target variables, so we decided to use train.csv file only"
   ]
  },
  {
   "cell_type": "code",
   "execution_count": 2,
   "id": "d1ad290b",
   "metadata": {},
   "outputs": [
    {
     "name": "stderr",
     "output_type": "stream",
     "text": [
      "c:\\Users\\tymot\\anaconda3\\lib\\site-packages\\IPython\\core\\interactiveshell.py:3165: DtypeWarning: Columns (26) have mixed types.Specify dtype option on import or set low_memory=False.\n",
      "  has_raised = await self.run_ast_nodes(code_ast.body, cell_name,\n"
     ]
    }
   ],
   "source": [
    "data = pd.read_csv('train.csv') # dataframe contains everything, not only train\n",
    "# test = pd.read_csv('test.csv') this one doesn't works - missing target value\n",
    "\n",
    "test_size = 0.2\n",
    "X = data.drop(columns=[\"Credit_Score\"]).copy()\n",
    "y = data[\"Credit_Score\"] # the target \n",
    "\n",
    "\n",
    "X_rem, X_test, y_rem, y_test = train_test_split(X,y, test_size=test_size, shuffle=False) \n",
    "X_train, X_val, y_train, y_val = train_test_split(X_rem, y_rem, test_size=test_size, shuffle=False)"
   ]
  },
  {
   "cell_type": "code",
   "execution_count": 3,
   "id": "15202eb0",
   "metadata": {},
   "outputs": [],
   "source": [
    "# merged in order to perfrom preprocessing efficiently\n",
    "train = X_train.join(y_train)\n",
    "val = X_val.join(y_val)\n",
    "test = X_test.join(y_test)"
   ]
  },
  {
   "cell_type": "code",
   "execution_count": 4,
   "id": "10833d16",
   "metadata": {},
   "outputs": [],
   "source": [
    "train.to_csv(\"data/train.csv\")\n",
    "val.to_csv(\"data/val.csv\")\n",
    "test.to_csv(\"data/test.csv\")"
   ]
  },
  {
   "cell_type": "code",
   "execution_count": 5,
   "id": "892ed9aa",
   "metadata": {},
   "outputs": [
    {
     "data": {
      "text/plain": [
       "(array([11469.,     0.,     0.,     0.,     0., 33817.,     0.,     0.,\n",
       "            0., 18714.]),\n",
       " array([0. , 0.2, 0.4, 0.6, 0.8, 1. , 1.2, 1.4, 1.6, 1.8, 2. ]),\n",
       " <BarContainer object of 10 artists>)"
      ]
     },
     "execution_count": 5,
     "metadata": {},
     "output_type": "execute_result"
    },
    {
     "data": {
      "image/png": "[encoded data removed]",
      "text/plain": [
       "<Figure size 432x288 with 1 Axes>"
      ]
     },
     "metadata": {
      "needs_background": "light"
     },
     "output_type": "display_data"
    }
   ],
   "source": [
    "plt.hist(train[\"Credit_Score\"])\n"
   ]
  },
  {
   "cell_type": "code",
   "execution_count": 6,
   "id": "d0d92a85",
   "metadata": {},
   "outputs": [
    {
     "data": {
      "text/plain": [
       "<AxesSubplot:>"
      ]
     },
     "execution_count": 6,
     "metadata": {},
     "output_type": "execute_result"
    },
    {
     "data": {
      "image/png": "[encoded data removed]",
      "text/plain": [
       "<Figure size 432x288 with 1 Axes>"
      ]
     },
     "metadata": {
      "needs_background": "light"
     },
     "output_type": "display_data"
    }
   ],
   "source": [
    "val[\"Credit_Score\"].hist()"
   ]
  },
  {
   "attachments": {},
   "cell_type": "markdown",
   "id": "21f102f7",
   "metadata": {},
   "source": [
    "the variables are distributed similary"
   ]
  },
  {
   "cell_type": "markdown",
   "id": "9efc4e17",
   "metadata": {},
   "source": [
    "# Data Examination\n",
    "\n",
    "Let's have a look into our data"
   ]
  },
  {
   "cell_type": "code",
   "execution_count": 7,
   "id": "2334d996",
   "metadata": {},
   "outputs": [
    {
     "data": {
      "text/html": [
       "<div>\n",
       "<style scoped>\n",
       "    .dataframe tbody tr th:only-of-type {\n",
       "        vertical-align: middle;\n",
       "    }\n",
       "\n",
       "    .dataframe tbody tr th {\n",
       "        vertical-align: top;\n",
       "    }\n",
       "\n",
       "    .dataframe thead th {\n",
       "        text-align: right;\n",
       "    }\n",
       "</style>\n",
       "<table border=\"1\" class=\"dataframe\">\n",
       "  <thead>\n",
       "    <tr style=\"text-align: right;\">\n",
       "      <th></th>\n",
       "      <th>ID</th>\n",
       "      <th>Customer_ID</th>\n",
       "      <th>Month</th>\n",
       "      <th>Name</th>\n",
       "      <th>Age</th>\n",
       "      <th>SSN</th>\n",
       "      <th>Occupation</th>\n",
       "      <th>Annual_Income</th>\n",
       "      <th>Monthly_Inhand_Salary</th>\n",
       "      <th>Num_Bank_Accounts</th>\n",
       "      <th>...</th>\n",
       "      <th>Credit_Mix</th>\n",
       "      <th>Outstanding_Debt</th>\n",
       "      <th>Credit_Utilization_Ratio</th>\n",
       "      <th>Credit_History_Age</th>\n",
       "      <th>Payment_of_Min_Amount</th>\n",
       "      <th>Total_EMI_per_month</th>\n",
       "      <th>Amount_invested_monthly</th>\n",
       "      <th>Payment_Behaviour</th>\n",
       "      <th>Monthly_Balance</th>\n",
       "      <th>Credit_Score</th>\n",
       "    </tr>\n",
       "  </thead>\n",
       "  <tbody>\n",
       "    <tr>\n",
       "      <th>0</th>\n",
       "      <td>0x1602</td>\n",
       "      <td>CUS_0xd40</td>\n",
       "      <td>January</td>\n",
       "      <td>Aaron Maashoh</td>\n",
       "      <td>23</td>\n",
       "      <td>821-00-0265</td>\n",
       "      <td>Scientist</td>\n",
       "      <td>19114.12</td>\n",
       "      <td>1824.843333</td>\n",
       "      <td>3</td>\n",
       "      <td>...</td>\n",
       "      <td>_</td>\n",
       "      <td>809.98</td>\n",
       "      <td>26.822620</td>\n",
       "      <td>22 Years and 1 Months</td>\n",
       "      <td>No</td>\n",
       "      <td>49.574949</td>\n",
       "      <td>80.41529543900253</td>\n",
       "      <td>High_spent_Small_value_payments</td>\n",
       "      <td>312.49408867943663</td>\n",
       "      <td>Good</td>\n",
       "    </tr>\n",
       "    <tr>\n",
       "      <th>1</th>\n",
       "      <td>0x1603</td>\n",
       "      <td>CUS_0xd40</td>\n",
       "      <td>February</td>\n",
       "      <td>Aaron Maashoh</td>\n",
       "      <td>23</td>\n",
       "      <td>821-00-0265</td>\n",
       "      <td>Scientist</td>\n",
       "      <td>19114.12</td>\n",
       "      <td>NaN</td>\n",
       "      <td>3</td>\n",
       "      <td>...</td>\n",
       "      <td>Good</td>\n",
       "      <td>809.98</td>\n",
       "      <td>31.944960</td>\n",
       "      <td>NaN</td>\n",
       "      <td>No</td>\n",
       "      <td>49.574949</td>\n",
       "      <td>118.28022162236736</td>\n",
       "      <td>Low_spent_Large_value_payments</td>\n",
       "      <td>284.62916249607184</td>\n",
       "      <td>Good</td>\n",
       "    </tr>\n",
       "    <tr>\n",
       "      <th>2</th>\n",
       "      <td>0x1604</td>\n",
       "      <td>CUS_0xd40</td>\n",
       "      <td>March</td>\n",
       "      <td>Aaron Maashoh</td>\n",
       "      <td>-500</td>\n",
       "      <td>821-00-0265</td>\n",
       "      <td>Scientist</td>\n",
       "      <td>19114.12</td>\n",
       "      <td>NaN</td>\n",
       "      <td>3</td>\n",
       "      <td>...</td>\n",
       "      <td>Good</td>\n",
       "      <td>809.98</td>\n",
       "      <td>28.609352</td>\n",
       "      <td>22 Years and 3 Months</td>\n",
       "      <td>No</td>\n",
       "      <td>49.574949</td>\n",
       "      <td>81.699521264648</td>\n",
       "      <td>Low_spent_Medium_value_payments</td>\n",
       "      <td>331.2098628537912</td>\n",
       "      <td>Good</td>\n",
       "    </tr>\n",
       "    <tr>\n",
       "      <th>3</th>\n",
       "      <td>0x1605</td>\n",
       "      <td>CUS_0xd40</td>\n",
       "      <td>April</td>\n",
       "      <td>Aaron Maashoh</td>\n",
       "      <td>23</td>\n",
       "      <td>821-00-0265</td>\n",
       "      <td>Scientist</td>\n",
       "      <td>19114.12</td>\n",
       "      <td>NaN</td>\n",
       "      <td>3</td>\n",
       "      <td>...</td>\n",
       "      <td>Good</td>\n",
       "      <td>809.98</td>\n",
       "      <td>31.377862</td>\n",
       "      <td>22 Years and 4 Months</td>\n",
       "      <td>No</td>\n",
       "      <td>49.574949</td>\n",
       "      <td>199.4580743910713</td>\n",
       "      <td>Low_spent_Small_value_payments</td>\n",
       "      <td>223.45130972736786</td>\n",
       "      <td>Good</td>\n",
       "    </tr>\n",
       "    <tr>\n",
       "      <th>4</th>\n",
       "      <td>0x1606</td>\n",
       "      <td>CUS_0xd40</td>\n",
       "      <td>May</td>\n",
       "      <td>Aaron Maashoh</td>\n",
       "      <td>23</td>\n",
       "      <td>821-00-0265</td>\n",
       "      <td>Scientist</td>\n",
       "      <td>19114.12</td>\n",
       "      <td>1824.843333</td>\n",
       "      <td>3</td>\n",
       "      <td>...</td>\n",
       "      <td>Good</td>\n",
       "      <td>809.98</td>\n",
       "      <td>24.797347</td>\n",
       "      <td>22 Years and 5 Months</td>\n",
       "      <td>No</td>\n",
       "      <td>49.574949</td>\n",
       "      <td>41.420153086217326</td>\n",
       "      <td>High_spent_Medium_value_payments</td>\n",
       "      <td>341.48923103222177</td>\n",
       "      <td>Good</td>\n",
       "    </tr>\n",
       "  </tbody>\n",
       "</table>\n",
       "<p>5 rows × 28 columns</p>\n",
       "</div>"
      ],
      "text/plain": [
       "       ID Customer_ID     Month           Name   Age          SSN Occupation  \\\n",
       "0  0x1602   CUS_0xd40   January  Aaron Maashoh    23  821-00-0265  Scientist   \n",
       "1  0x1603   CUS_0xd40  February  Aaron Maashoh    23  821-00-0265  Scientist   \n",
       "2  0x1604   CUS_0xd40     March  Aaron Maashoh  -500  821-00-0265  Scientist   \n",
       "3  0x1605   CUS_0xd40     April  Aaron Maashoh    23  821-00-0265  Scientist   \n",
       "4  0x1606   CUS_0xd40       May  Aaron Maashoh    23  821-00-0265  Scientist   \n",
       "\n",
       "  Annual_Income  Monthly_Inhand_Salary  Num_Bank_Accounts  ...  Credit_Mix  \\\n",
       "0      19114.12            1824.843333                  3  ...           _   \n",
       "1      19114.12                    NaN                  3  ...        Good   \n",
       "2      19114.12                    NaN                  3  ...        Good   \n",
       "3      19114.12                    NaN                  3  ...        Good   \n",
       "4      19114.12            1824.843333                  3  ...        Good   \n",
       "\n",
       "   Outstanding_Debt Credit_Utilization_Ratio     Credit_History_Age  \\\n",
       "0            809.98                26.822620  22 Years and 1 Months   \n",
       "1            809.98                31.944960                    NaN   \n",
       "2            809.98                28.609352  22 Years and 3 Months   \n",
       "3            809.98                31.377862  22 Years and 4 Months   \n",
       "4            809.98                24.797347  22 Years and 5 Months   \n",
       "\n",
       "   Payment_of_Min_Amount Total_EMI_per_month Amount_invested_monthly  \\\n",
       "0                     No           49.574949       80.41529543900253   \n",
       "1                     No           49.574949      118.28022162236736   \n",
       "2                     No           49.574949         81.699521264648   \n",
       "3                     No           49.574949       199.4580743910713   \n",
       "4                     No           49.574949      41.420153086217326   \n",
       "\n",
       "                  Payment_Behaviour     Monthly_Balance Credit_Score  \n",
       "0   High_spent_Small_value_payments  312.49408867943663         Good  \n",
       "1    Low_spent_Large_value_payments  284.62916249607184         Good  \n",
       "2   Low_spent_Medium_value_payments   331.2098628537912         Good  \n",
       "3    Low_spent_Small_value_payments  223.45130972736786         Good  \n",
       "4  High_spent_Medium_value_payments  341.48923103222177         Good  \n",
       "\n",
       "[5 rows x 28 columns]"
      ]
     },
     "execution_count": 7,
     "metadata": {},
     "output_type": "execute_result"
    }
   ],
   "source": [
    "train.head(5)"
   ]
  },
  {
   "cell_type": "code",
   "execution_count": 8,
   "id": "f22c212d",
   "metadata": {},
   "outputs": [
    {
     "name": "stdout",
     "output_type": "stream",
     "text": [
      "<class 'pandas.core.frame.DataFrame'>\n",
      "Int64Index: 64000 entries, 0 to 63999\n",
      "Data columns (total 28 columns):\n",
      " #   Column                    Non-Null Count  Dtype  \n",
      "---  ------                    --------------  -----  \n",
      " 0   ID                        64000 non-null  object \n",
      " 1   Customer_ID               64000 non-null  object \n",
      " 2   Month                     64000 non-null  object \n",
      " 3   Name                      57607 non-null  object \n",
      " 4   Age                       64000 non-null  object \n",
      " 5   SSN                       64000 non-null  object \n",
      " 6   Occupation                64000 non-null  object \n",
      " 7   Annual_Income             64000 non-null  object \n",
      " 8   Monthly_Inhand_Salary     54425 non-null  float64\n",
      " 9   Num_Bank_Accounts         64000 non-null  int64  \n",
      " 10  Num_Credit_Card           64000 non-null  int64  \n",
      " 11  Interest_Rate             64000 non-null  int64  \n",
      " 12  Num_of_Loan               64000 non-null  object \n",
      " 13  Type_of_Loan              56824 non-null  object \n",
      " 14  Delay_from_due_date       64000 non-null  int64  \n",
      " 15  Num_of_Delayed_Payment    59565 non-null  object \n",
      " 16  Changed_Credit_Limit      64000 non-null  object \n",
      " 17  Num_Credit_Inquiries      62794 non-null  float64\n",
      " 18  Credit_Mix                64000 non-null  object \n",
      " 19  Outstanding_Debt          64000 non-null  object \n",
      " 20  Credit_Utilization_Ratio  64000 non-null  float64\n",
      " 21  Credit_History_Age        58194 non-null  object \n",
      " 22  Payment_of_Min_Amount     64000 non-null  object \n",
      " 23  Total_EMI_per_month       64000 non-null  float64\n",
      " 24  Amount_invested_monthly   61179 non-null  object \n",
      " 25  Payment_Behaviour         64000 non-null  object \n",
      " 26  Monthly_Balance           63206 non-null  object \n",
      " 27  Credit_Score              64000 non-null  object \n",
      "dtypes: float64(4), int64(4), object(20)\n",
      "memory usage: 16.2+ MB\n"
     ]
    }
   ],
   "source": [
    "train.info()"
   ]
  },
  {
   "cell_type": "code",
   "execution_count": 9,
   "id": "a90fa99a",
   "metadata": {},
   "outputs": [
    {
     "data": {
      "text/plain": [
       "0"
      ]
     },
     "execution_count": 9,
     "metadata": {},
     "output_type": "execute_result"
    }
   ],
   "source": [
    "train[\"Customer_ID\"].value_counts().loc[train[\"Customer_ID\"].value_counts() != 8].size \n",
    "# every customer shows up exactly 8 times"
   ]
  },
  {
   "cell_type": "code",
   "execution_count": 10,
   "id": "c7bb8de8",
   "metadata": {},
   "outputs": [
    {
     "data": {
      "text/plain": [
       "0"
      ]
     },
     "execution_count": 10,
     "metadata": {},
     "output_type": "execute_result"
    }
   ],
   "source": [
    "train['Credit_Score'].isna().sum() # all target values are present"
   ]
  },
  {
   "cell_type": "code",
   "execution_count": 11,
   "id": "39344cd6",
   "metadata": {},
   "outputs": [
    {
     "data": {
      "text/plain": [
       "(array([11469.,     0.,     0.,     0.,     0., 33817.,     0.,     0.,\n",
       "            0., 18714.]),\n",
       " array([0. , 0.2, 0.4, 0.6, 0.8, 1. , 1.2, 1.4, 1.6, 1.8, 2. ]),\n",
       " <BarContainer object of 10 artists>)"
      ]
     },
     "execution_count": 11,
     "metadata": {},
     "output_type": "execute_result"
    },
    {
     "data": {
      "image/png": "[encoded data removed]",
      "text/plain": [
       "<Figure size 432x288 with 1 Axes>"
      ]
     },
     "metadata": {
      "needs_background": "light"
     },
     "output_type": "display_data"
    }
   ],
   "source": [
    "plt.hist(train[\"Credit_Score\"]) # target distribution"
   ]
  },
  {
   "cell_type": "code",
   "execution_count": 12,
   "id": "b09b0741",
   "metadata": {},
   "outputs": [
    {
     "data": {
      "text/html": [
       "<div>\n",
       "<style scoped>\n",
       "    .dataframe tbody tr th:only-of-type {\n",
       "        vertical-align: middle;\n",
       "    }\n",
       "\n",
       "    .dataframe tbody tr th {\n",
       "        vertical-align: top;\n",
       "    }\n",
       "\n",
       "    .dataframe thead th {\n",
       "        text-align: right;\n",
       "    }\n",
       "</style>\n",
       "<table border=\"1\" class=\"dataframe\">\n",
       "  <thead>\n",
       "    <tr style=\"text-align: right;\">\n",
       "      <th></th>\n",
       "      <th>Name</th>\n",
       "      <th>SSN</th>\n",
       "      <th>Customer_ID</th>\n",
       "    </tr>\n",
       "  </thead>\n",
       "  <tbody>\n",
       "    <tr>\n",
       "      <th>0</th>\n",
       "      <td>Aaron Maashoh</td>\n",
       "      <td>821-00-0265</td>\n",
       "      <td>CUS_0xd40</td>\n",
       "    </tr>\n",
       "    <tr>\n",
       "      <th>1</th>\n",
       "      <td>Aaron Maashoh</td>\n",
       "      <td>821-00-0265</td>\n",
       "      <td>CUS_0xd40</td>\n",
       "    </tr>\n",
       "    <tr>\n",
       "      <th>2</th>\n",
       "      <td>Aaron Maashoh</td>\n",
       "      <td>821-00-0265</td>\n",
       "      <td>CUS_0xd40</td>\n",
       "    </tr>\n",
       "    <tr>\n",
       "      <th>3</th>\n",
       "      <td>Aaron Maashoh</td>\n",
       "      <td>821-00-0265</td>\n",
       "      <td>CUS_0xd40</td>\n",
       "    </tr>\n",
       "    <tr>\n",
       "      <th>4</th>\n",
       "      <td>Aaron Maashoh</td>\n",
       "      <td>821-00-0265</td>\n",
       "      <td>CUS_0xd40</td>\n",
       "    </tr>\n",
       "    <tr>\n",
       "      <th>5</th>\n",
       "      <td>Aaron Maashoh</td>\n",
       "      <td>821-00-0265</td>\n",
       "      <td>CUS_0xd40</td>\n",
       "    </tr>\n",
       "    <tr>\n",
       "      <th>6</th>\n",
       "      <td>Aaron Maashoh</td>\n",
       "      <td>821-00-0265</td>\n",
       "      <td>CUS_0xd40</td>\n",
       "    </tr>\n",
       "    <tr>\n",
       "      <th>7</th>\n",
       "      <td>NaN</td>\n",
       "      <td>#F%$D@*&amp;8</td>\n",
       "      <td>CUS_0xd40</td>\n",
       "    </tr>\n",
       "    <tr>\n",
       "      <th>8</th>\n",
       "      <td>Rick Rothackerj</td>\n",
       "      <td>004-07-5839</td>\n",
       "      <td>CUS_0x21b1</td>\n",
       "    </tr>\n",
       "    <tr>\n",
       "      <th>9</th>\n",
       "      <td>Rick Rothackerj</td>\n",
       "      <td>004-07-5839</td>\n",
       "      <td>CUS_0x21b1</td>\n",
       "    </tr>\n",
       "  </tbody>\n",
       "</table>\n",
       "</div>"
      ],
      "text/plain": [
       "              Name          SSN Customer_ID\n",
       "0    Aaron Maashoh  821-00-0265   CUS_0xd40\n",
       "1    Aaron Maashoh  821-00-0265   CUS_0xd40\n",
       "2    Aaron Maashoh  821-00-0265   CUS_0xd40\n",
       "3    Aaron Maashoh  821-00-0265   CUS_0xd40\n",
       "4    Aaron Maashoh  821-00-0265   CUS_0xd40\n",
       "5    Aaron Maashoh  821-00-0265   CUS_0xd40\n",
       "6    Aaron Maashoh  821-00-0265   CUS_0xd40\n",
       "7              NaN    #F%$D@*&8   CUS_0xd40\n",
       "8  Rick Rothackerj  004-07-5839  CUS_0x21b1\n",
       "9  Rick Rothackerj  004-07-5839  CUS_0x21b1"
      ]
     },
     "execution_count": 12,
     "metadata": {},
     "output_type": "execute_result"
    }
   ],
   "source": [
    "train[[\"Name\", \"SSN\", \"Customer_ID\"]].head(10) # name, customer id and SSN are redundant - no need to use them"
   ]
  },
  {
   "cell_type": "code",
   "execution_count": 13,
   "id": "fa224b2b",
   "metadata": {},
   "outputs": [
    {
     "data": {
      "text/html": [
       "<div>\n",
       "<style scoped>\n",
       "    .dataframe tbody tr th:only-of-type {\n",
       "        vertical-align: middle;\n",
       "    }\n",
       "\n",
       "    .dataframe tbody tr th {\n",
       "        vertical-align: top;\n",
       "    }\n",
       "\n",
       "    .dataframe thead th {\n",
       "        text-align: right;\n",
       "    }\n",
       "</style>\n",
       "<table border=\"1\" class=\"dataframe\">\n",
       "  <thead>\n",
       "    <tr style=\"text-align: right;\">\n",
       "      <th></th>\n",
       "      <th>Age</th>\n",
       "      <th>Annual_Income</th>\n",
       "      <th>Num_of_Loan</th>\n",
       "      <th>Num_of_Delayed_Payment</th>\n",
       "      <th>Changed_Credit_Limit</th>\n",
       "      <th>Outstanding_Debt</th>\n",
       "      <th>Amount_invested_monthly</th>\n",
       "      <th>Monthly_Balance</th>\n",
       "    </tr>\n",
       "  </thead>\n",
       "  <tbody>\n",
       "    <tr>\n",
       "      <th>10</th>\n",
       "      <td>28</td>\n",
       "      <td>34847.84_</td>\n",
       "      <td>1</td>\n",
       "      <td>-1</td>\n",
       "      <td>5.42</td>\n",
       "      <td>605.03</td>\n",
       "      <td>58.51597569589465</td>\n",
       "      <td>466.46647639764313</td>\n",
       "    </tr>\n",
       "    <tr>\n",
       "      <th>11</th>\n",
       "      <td>28</td>\n",
       "      <td>34847.84</td>\n",
       "      <td>1</td>\n",
       "      <td>3_</td>\n",
       "      <td>5.42</td>\n",
       "      <td>605.03</td>\n",
       "      <td>99.30622796053305</td>\n",
       "      <td>465.6762241330048</td>\n",
       "    </tr>\n",
       "    <tr>\n",
       "      <th>12</th>\n",
       "      <td>28</td>\n",
       "      <td>34847.84</td>\n",
       "      <td>1</td>\n",
       "      <td>1</td>\n",
       "      <td>6.42</td>\n",
       "      <td>605.03</td>\n",
       "      <td>130.11542024292334</td>\n",
       "      <td>444.8670318506144</td>\n",
       "    </tr>\n",
       "    <tr>\n",
       "      <th>13</th>\n",
       "      <td>28</td>\n",
       "      <td>34847.84</td>\n",
       "      <td>1</td>\n",
       "      <td>0</td>\n",
       "      <td>5.42</td>\n",
       "      <td>605.03</td>\n",
       "      <td>43.477190144355745</td>\n",
       "      <td>481.505261949182</td>\n",
       "    </tr>\n",
       "    <tr>\n",
       "      <th>14</th>\n",
       "      <td>28</td>\n",
       "      <td>34847.84</td>\n",
       "      <td>1</td>\n",
       "      <td>4</td>\n",
       "      <td>5.42</td>\n",
       "      <td>605.03</td>\n",
       "      <td>70.10177420755677</td>\n",
       "      <td>464.8806778859809</td>\n",
       "    </tr>\n",
       "    <tr>\n",
       "      <th>15</th>\n",
       "      <td>28</td>\n",
       "      <td>34847.84</td>\n",
       "      <td>1</td>\n",
       "      <td>4</td>\n",
       "      <td>5.42</td>\n",
       "      <td>605.03</td>\n",
       "      <td>218.90434353388733</td>\n",
       "      <td>356.07810855965045</td>\n",
       "    </tr>\n",
       "    <tr>\n",
       "      <th>16</th>\n",
       "      <td>34</td>\n",
       "      <td>143162.64</td>\n",
       "      <td>3</td>\n",
       "      <td>8</td>\n",
       "      <td>7.1</td>\n",
       "      <td>1303.01</td>\n",
       "      <td>168.413702679309</td>\n",
       "      <td>1043.3159778669492</td>\n",
       "    </tr>\n",
       "    <tr>\n",
       "      <th>17</th>\n",
       "      <td>34</td>\n",
       "      <td>143162.64</td>\n",
       "      <td>3</td>\n",
       "      <td>6</td>\n",
       "      <td>7.1</td>\n",
       "      <td>1303.01</td>\n",
       "      <td>232.86038375993544</td>\n",
       "      <td>998.8692967863226</td>\n",
       "    </tr>\n",
       "    <tr>\n",
       "      <th>18</th>\n",
       "      <td>34</td>\n",
       "      <td>143162.64</td>\n",
       "      <td>3</td>\n",
       "      <td>7</td>\n",
       "      <td>11.1</td>\n",
       "      <td>1303.01</td>\n",
       "      <td>__10000__</td>\n",
       "      <td>715.741367403555</td>\n",
       "    </tr>\n",
       "    <tr>\n",
       "      <th>19</th>\n",
       "      <td>34</td>\n",
       "      <td>143162.64</td>\n",
       "      <td>3</td>\n",
       "      <td>5</td>\n",
       "      <td>9.1</td>\n",
       "      <td>1303.01</td>\n",
       "      <td>825.2162699393922</td>\n",
       "      <td>426.5134106068658</td>\n",
       "    </tr>\n",
       "  </tbody>\n",
       "</table>\n",
       "</div>"
      ],
      "text/plain": [
       "   Age Annual_Income Num_of_Loan Num_of_Delayed_Payment Changed_Credit_Limit  \\\n",
       "10  28     34847.84_           1                     -1                 5.42   \n",
       "11  28      34847.84           1                     3_                 5.42   \n",
       "12  28      34847.84           1                      1                 6.42   \n",
       "13  28      34847.84           1                      0                 5.42   \n",
       "14  28      34847.84           1                      4                 5.42   \n",
       "15  28      34847.84           1                      4                 5.42   \n",
       "16  34     143162.64           3                      8                  7.1   \n",
       "17  34     143162.64           3                      6                  7.1   \n",
       "18  34     143162.64           3                      7                 11.1   \n",
       "19  34     143162.64           3                      5                  9.1   \n",
       "\n",
       "   Outstanding_Debt Amount_invested_monthly     Monthly_Balance  \n",
       "10           605.03       58.51597569589465  466.46647639764313  \n",
       "11           605.03       99.30622796053305   465.6762241330048  \n",
       "12           605.03      130.11542024292334   444.8670318506144  \n",
       "13           605.03      43.477190144355745    481.505261949182  \n",
       "14           605.03       70.10177420755677   464.8806778859809  \n",
       "15           605.03      218.90434353388733  356.07810855965045  \n",
       "16          1303.01        168.413702679309  1043.3159778669492  \n",
       "17          1303.01      232.86038375993544   998.8692967863226  \n",
       "18          1303.01               __10000__    715.741367403555  \n",
       "19          1303.01       825.2162699393922   426.5134106068658  "
      ]
     },
     "execution_count": 13,
     "metadata": {},
     "output_type": "execute_result"
    }
   ],
   "source": [
    "columns_to_alter = ['Age', 'Annual_Income', 'Num_of_Loan','Num_of_Delayed_Payment',\n",
    "                    'Changed_Credit_Limit', 'Outstanding_Debt',\n",
    "                    'Amount_invested_monthly', 'Monthly_Balance']\n",
    "\n",
    "train[columns_to_alter].iloc[10:20] # some columns have weird signs - \"_\" and are of wrong format"
   ]
  },
  {
   "cell_type": "code",
   "execution_count": 14,
   "id": "3a8878bf",
   "metadata": {},
   "outputs": [
    {
     "name": "stdout",
     "output_type": "stream",
     "text": [
      "['No' 'NM' 'Yes'] \n",
      "\n",
      " ['Scientist' '_______' 'Teacher' 'Engineer' 'Entrepreneur' 'Developer'\n",
      " 'Lawyer' 'Media_Manager' 'Doctor' 'Journalist' 'Manager' 'Accountant'\n",
      " 'Musician' 'Mechanic' 'Writer' 'Architect'] \n",
      "\n",
      " ['_' 'Good' 'Standard' 'Bad'] \n",
      "\n",
      " ['High_spent_Small_value_payments' 'Low_spent_Large_value_payments'\n",
      " 'Low_spent_Medium_value_payments' 'Low_spent_Small_value_payments'\n",
      " 'High_spent_Medium_value_payments' '!@9#%8'\n",
      " 'High_spent_Large_value_payments']\n"
     ]
    }
   ],
   "source": [
    "# how different are categorical columns\n",
    "\n",
    "print(train['Payment_of_Min_Amount'].unique(), \"\\n\\n\",\n",
    "      train['Occupation'].unique(), \"\\n\\n\",\n",
    "      train[\"Credit_Mix\"].unique(), \"\\n\\n\",\n",
    "      train[\"Payment_Behaviour\"].unique())"
   ]
  },
  {
   "cell_type": "code",
   "execution_count": 15,
   "id": "f47f4901",
   "metadata": {},
   "outputs": [
    {
     "data": {
      "text/html": [
       "<div>\n",
       "<style scoped>\n",
       "    .dataframe tbody tr th:only-of-type {\n",
       "        vertical-align: middle;\n",
       "    }\n",
       "\n",
       "    .dataframe tbody tr th {\n",
       "        vertical-align: top;\n",
       "    }\n",
       "\n",
       "    .dataframe thead th {\n",
       "        text-align: right;\n",
       "    }\n",
       "</style>\n",
       "<table border=\"1\" class=\"dataframe\">\n",
       "  <thead>\n",
       "    <tr style=\"text-align: right;\">\n",
       "      <th></th>\n",
       "      <th>Credit_History_Age</th>\n",
       "      <th>Payment_Behaviour</th>\n",
       "    </tr>\n",
       "  </thead>\n",
       "  <tbody>\n",
       "    <tr>\n",
       "      <th>0</th>\n",
       "      <td>22 Years and 1 Months</td>\n",
       "      <td>High_spent_Small_value_payments</td>\n",
       "    </tr>\n",
       "    <tr>\n",
       "      <th>1</th>\n",
       "      <td>NaN</td>\n",
       "      <td>Low_spent_Large_value_payments</td>\n",
       "    </tr>\n",
       "    <tr>\n",
       "      <th>2</th>\n",
       "      <td>22 Years and 3 Months</td>\n",
       "      <td>Low_spent_Medium_value_payments</td>\n",
       "    </tr>\n",
       "    <tr>\n",
       "      <th>3</th>\n",
       "      <td>22 Years and 4 Months</td>\n",
       "      <td>Low_spent_Small_value_payments</td>\n",
       "    </tr>\n",
       "    <tr>\n",
       "      <th>4</th>\n",
       "      <td>22 Years and 5 Months</td>\n",
       "      <td>High_spent_Medium_value_payments</td>\n",
       "    </tr>\n",
       "  </tbody>\n",
       "</table>\n",
       "</div>"
      ],
      "text/plain": [
       "      Credit_History_Age                 Payment_Behaviour\n",
       "0  22 Years and 1 Months   High_spent_Small_value_payments\n",
       "1                    NaN    Low_spent_Large_value_payments\n",
       "2  22 Years and 3 Months   Low_spent_Medium_value_payments\n",
       "3  22 Years and 4 Months    Low_spent_Small_value_payments\n",
       "4  22 Years and 5 Months  High_spent_Medium_value_payments"
      ]
     },
     "execution_count": 15,
     "metadata": {},
     "output_type": "execute_result"
    }
   ],
   "source": [
    "# account age, and behaviour are in unfriendly format\n",
    "\n",
    "train[[\"Credit_History_Age\", \"Payment_Behaviour\"]].head()"
   ]
  },
  {
   "cell_type": "code",
   "execution_count": 16,
   "id": "12019786",
   "metadata": {},
   "outputs": [
    {
     "data": {
      "text/plain": [
       "<AxesSubplot:>"
      ]
     },
     "execution_count": 16,
     "metadata": {},
     "output_type": "execute_result"
    },
    {
     "data": {
      "image/png": "[encoded data removed]",
      "text/plain": [
       "<Figure size 432x288 with 2 Axes>"
      ]
     },
     "metadata": {
      "needs_background": "light"
     },
     "output_type": "display_data"
    }
   ],
   "source": [
    "sns.heatmap(train.corr(method=\"spearman\"))"
   ]
  },
  {
   "cell_type": "markdown",
   "id": "94a2c533",
   "metadata": {},
   "source": [
    "## Search for outliers"
   ]
  },
  {
   "cell_type": "code",
   "execution_count": 17,
   "id": "5e19b284",
   "metadata": {},
   "outputs": [
    {
     "name": "stdout",
     "output_type": "stream",
     "text": [
      "       Monthly_Inhand_Salary  Num_Bank_Accounts  Num_Credit_Card  \\\n",
      "count           54425.000000       64000.000000     64000.000000   \n",
      "mean             4200.666742          17.011688        22.776141   \n",
      "std              3195.453352         117.426876       130.332827   \n",
      "min               319.556250          -1.000000         0.000000   \n",
      "25%              1628.297500           3.000000         4.000000   \n",
      "50%              3081.902500           6.000000         6.000000   \n",
      "75%              5967.333333           7.000000         7.000000   \n",
      "max             15204.633333        1798.000000      1499.000000   \n",
      "\n",
      "       Interest_Rate  Delay_from_due_date  Num_Credit_Inquiries  \\\n",
      "count   64000.000000         64000.000000          62794.000000   \n",
      "mean       70.978344            21.120750             27.466223   \n",
      "std       459.881448            14.823882            190.055037   \n",
      "min         1.000000            -5.000000              0.000000   \n",
      "25%         8.000000            10.000000              3.000000   \n",
      "50%        13.000000            18.000000              6.000000   \n",
      "75%        20.000000            28.000000              9.000000   \n",
      "max      5788.000000            67.000000           2597.000000   \n",
      "\n",
      "       Credit_Utilization_Ratio  Total_EMI_per_month  \n",
      "count              64000.000000         64000.000000  \n",
      "mean                  32.310909          1400.996475  \n",
      "std                    5.114061          8330.258318  \n",
      "min                   20.000000             0.000000  \n",
      "25%                   28.078945            30.761443  \n",
      "50%                   32.350825            69.337833  \n",
      "75%                   36.520966           162.979400  \n",
      "max                   50.000000         82256.000000  \n"
     ]
    }
   ],
   "source": [
    "description = train.describe()\n",
    "\n",
    "print(description)"
   ]
  },
  {
   "cell_type": "code",
   "execution_count": 18,
   "id": "029899c0",
   "metadata": {},
   "outputs": [
    {
     "data": {
      "text/plain": [
       "array([[<AxesSubplot:title={'center':'ID'}>,\n",
       "        <AxesSubplot:title={'center':'Customer_ID'}>,\n",
       "        <AxesSubplot:title={'center':'Month'}>,\n",
       "        <AxesSubplot:title={'center':'Name'}>,\n",
       "        <AxesSubplot:title={'center':'Age'}>],\n",
       "       [<AxesSubplot:title={'center':'SSN'}>,\n",
       "        <AxesSubplot:title={'center':'Occupation'}>,\n",
       "        <AxesSubplot:title={'center':'Annual_Income'}>,\n",
       "        <AxesSubplot:title={'center':'Monthly_Inhand_Salary'}>,\n",
       "        <AxesSubplot:title={'center':'Num_Bank_Accounts'}>],\n",
       "       [<AxesSubplot:title={'center':'Num_Credit_Card'}>,\n",
       "        <AxesSubplot:title={'center':'Interest_Rate'}>,\n",
       "        <AxesSubplot:title={'center':'Num_of_Loan'}>,\n",
       "        <AxesSubplot:title={'center':'Type_of_Loan'}>,\n",
       "        <AxesSubplot:title={'center':'Delay_from_due_date'}>],\n",
       "       [<AxesSubplot:title={'center':'Num_of_Delayed_Payment'}>,\n",
       "        <AxesSubplot:title={'center':'Changed_Credit_Limit'}>,\n",
       "        <AxesSubplot:title={'center':'Num_Credit_Inquiries'}>,\n",
       "        <AxesSubplot:title={'center':'Credit_Mix'}>,\n",
       "        <AxesSubplot:title={'center':'Outstanding_Debt'}>],\n",
       "       [<AxesSubplot:title={'center':'Credit_Utilization_Ratio'}>,\n",
       "        <AxesSubplot:title={'center':'Credit_History_Age'}>,\n",
       "        <AxesSubplot:title={'center':'Payment_of_Min_Amount'}>,\n",
       "        <AxesSubplot:title={'center':'Total_EMI_per_month'}>,\n",
       "        <AxesSubplot:title={'center':'Amount_invested_monthly'}>],\n",
       "       [<AxesSubplot:title={'center':'Payment_Behaviour'}>,\n",
       "        <AxesSubplot:title={'center':'Monthly_Balance'}>,\n",
       "        <AxesSubplot:title={'center':'Credit_Score'}>, <AxesSubplot:>,\n",
       "        <AxesSubplot:>]], dtype=object)"
      ]
     },
     "execution_count": 18,
     "metadata": {},
     "output_type": "execute_result"
    },
    {
     "data": {
      "image/png": "[encoded data removed]",
      "text/plain": [
       "<Figure size 2160x1440 with 30 Axes>"
      ]
     },
     "metadata": {
      "needs_background": "light"
     },
     "output_type": "display_data"
    }
   ],
   "source": [
    "df = train.copy()\n",
    "for col in train.columns:\n",
    "    df[col] = pd.to_numeric(train[col], errors='coerce') # errors='coerce', then invalid parsing will be set as NaN\n",
    "\n",
    "# distribution of all the variables\n",
    "df.hist(figsize=(30, 20))"
   ]
  },
  {
   "cell_type": "markdown",
   "id": "9b6121d0",
   "metadata": {},
   "source": [
    "Some of the plots look very unusual - they consist of only one column. \n",
    "It probably means that those features contain some outliers."
   ]
  },
  {
   "cell_type": "code",
   "execution_count": 19,
   "id": "a336c058",
   "metadata": {},
   "outputs": [
    {
     "data": {
      "text/plain": [
       "Age                           56.00\n",
       "Annual_Income             166891.60\n",
       "Num_Bank_Accounts             10.00\n",
       "Num_Credit_Card              187.02\n",
       "Interest_Rate                 60.08\n",
       "Num_of_Loan                    9.00\n",
       "Num_of_Delayed_Payment        25.00\n",
       "Num_Credit_Inquiries          17.00\n",
       "Total_EMI_per_month        29527.08\n",
       "Name: 0.98, dtype: float64"
      ]
     },
     "execution_count": 19,
     "metadata": {},
     "output_type": "execute_result"
    }
   ],
   "source": [
    "# we choose outliers by looking at the plots\n",
    "\n",
    "columns_with_outliers = [\"Age\", \"Annual_Income\", \"Num_Bank_Accounts\", \n",
    "                         \"Num_Credit_Card\", \"Interest_Rate\", \n",
    "                         \"Num_of_Loan\", \"Num_of_Delayed_Payment\",\n",
    "                         \"Num_Credit_Inquiries\", \"Total_EMI_per_month\"]\n",
    "\n",
    "\n",
    "df[columns_with_outliers].quantile(0.98)"
   ]
  },
  {
   "cell_type": "code",
   "execution_count": 20,
   "id": "69d324bd",
   "metadata": {},
   "outputs": [
    {
     "data": {
      "text/plain": [
       "15204.633333333331"
      ]
     },
     "execution_count": 20,
     "metadata": {},
     "output_type": "execute_result"
    }
   ],
   "source": [
    "df[\"Monthly_Inhand_Salary\"].max()"
   ]
  },
  {
   "attachments": {},
   "cell_type": "markdown",
   "id": "107e264f",
   "metadata": {},
   "source": [
    "it looks like 98% of observations contain reasonable information - it is very unlikely that there exists someone with age of 8000 or annual income much bigger than 200000, since the maximum value in column monthly inhand salary equals 15204"
   ]
  },
  {
   "cell_type": "code",
   "execution_count": 21,
   "id": "62d69d70",
   "metadata": {},
   "outputs": [
    {
     "data": {
      "text/plain": [
       "<AxesSubplot:>"
      ]
     },
     "execution_count": 21,
     "metadata": {},
     "output_type": "execute_result"
    },
    {
     "data": {
      "image/png": "[encoded data removed]",
      "text/plain": [
       "<Figure size 432x288 with 2 Axes>"
      ]
     },
     "metadata": {
      "needs_background": "light"
     },
     "output_type": "display_data"
    }
   ],
   "source": [
    "# correlation between columns \n",
    "sns.heatmap(df.corr())"
   ]
  },
  {
   "cell_type": "code",
   "execution_count": 22,
   "id": "ff2facd2",
   "metadata": {},
   "outputs": [
    {
     "data": {
      "text/plain": [
       "<BarContainer object of 3 artists>"
      ]
     },
     "execution_count": 22,
     "metadata": {},
     "output_type": "execute_result"
    },
    {
     "data": {
      "image/png": "[encoded data removed]",
      "text/plain": [
       "<Figure size 432x288 with 1 Axes>"
      ]
     },
     "metadata": {
      "needs_background": "light"
     },
     "output_type": "display_data"
    }
   ],
   "source": [
    "# Monthly_Inhand_Salary is strongly correlated with Monthly_Balance and \n",
    "# Amount_Invested_Monthly but those are not correlated with each other\n",
    "\n",
    "plt.bar(x = train[\"Credit_Score\"].unique(),\n",
    "        height=train.loc[df[\"Num_of_Loan\"]>=15][\"Credit_Score\"].value_counts())"
   ]
  },
  {
   "cell_type": "markdown",
   "id": "0c77f97e",
   "metadata": {},
   "source": [
    "# Data Preprocessing"
   ]
  },
  {
   "cell_type": "markdown",
   "id": "91e22ac8",
   "metadata": {},
   "source": [
    "First of all we git rid of columns that carry the same information"
   ]
  },
  {
   "cell_type": "code",
   "execution_count": 23,
   "id": "f6422de7",
   "metadata": {},
   "outputs": [],
   "source": [
    "def id_columns(df):\n",
    "    df = df.drop([\"Name\", \"SSN\", \"ID\"], axis=\"columns\") # no added value, all the information in Customer_ID\n",
    "    df[\"Customer_ID\"] = df[\"Customer_ID\"].apply(lambda x: int(x[4:], 16)) # convert to int\n",
    "    \n",
    "    print(\"Columns containing id-like information preprocessed\")\n",
    "    return df"
   ]
  },
  {
   "cell_type": "markdown",
   "id": "29b15bc0",
   "metadata": {},
   "source": [
    "Here we literally 'clean' the data, removing unnecessary signs that appear randomly"
   ]
  },
  {
   "cell_type": "code",
   "execution_count": 24,
   "id": "787fd3cb",
   "metadata": {},
   "outputs": [],
   "source": [
    "def clear_numeric_data(col):\n",
    "    # some of the rows contain \"_\" sign\n",
    "    col.astype(str).replace(\"_\", \"\")\n",
    "    return pd.to_numeric(col, errors=\"coerce\") # errors='coerce', then invalid parsing will be set as NaN"
   ]
  },
  {
   "cell_type": "code",
   "execution_count": 25,
   "id": "746a2cd7",
   "metadata": {},
   "outputs": [],
   "source": [
    "# function for cleaning numeric data where necessary\n",
    "def altering(df):\n",
    "    \n",
    "    columns_to_alter = ['Age', 'Annual_Income', 'Num_of_Loan','Num_of_Delayed_Payment',\n",
    "                        'Changed_Credit_Limit', 'Outstanding_Debt',\n",
    "                        'Amount_invested_monthly', 'Monthly_Balance']\n",
    "\n",
    "    df[columns_to_alter] = df[columns_to_alter].apply(clear_numeric_data, axis=1)\n",
    "\n",
    "    print(\"Numeric data preprocessed. Columns with numeric values contain numeric only variables. Changed columns types\")\n",
    "    return df"
   ]
  },
  {
   "cell_type": "markdown",
   "id": "54dce4ef",
   "metadata": {},
   "source": [
    "Function below helps with removal outlying values from a column.\n",
    "If parameter (use_quantiles) is False, removes outliers outside given set range (a, b).\n",
    "Otherwise removes top 2 quantiles"
   ]
  },
  {
   "cell_type": "code",
   "execution_count": 26,
   "id": "72c84e2e",
   "metadata": {},
   "outputs": [],
   "source": [
    "def delete_outliers(column, a=0, b=0.98, use_quantiles=True):\n",
    "    # function helps removing quantiles from a column, \n",
    "    # if parameter (use_quantiles) is False, removes outliers outside given range (a, b)\n",
    "    # otherwise removes top quantiles\n",
    "    \n",
    "    col = np.where(a < column, column, float('nan'))\n",
    "    if use_quantiles:\n",
    "        return np.where(col <= column.quantile(b), column, float('nan'))\n",
    "    return np.where(col <= b, column, float('nan'))\n",
    "\n",
    "\n",
    "def handle_outliers(df):\n",
    "    df[\"Age\"] = np.where((0 > df[\"Age\"]), -df[\"Age\"], df[\"Age\"]) # deleting weird outliers\n",
    "    df['Age'] = delete_outliers(df[\"Age\"], 0, 100, use_quantiles=False)\n",
    "    \n",
    "    df[\"Annual_Income\"] = delete_outliers(df[\"Annual_Income\"], 0, 0.99)\n",
    "    df[\"Num_Bank_Accounts\"] = delete_outliers(df[\"Num_Bank_Accounts\"])\n",
    "    df[\"Num_of_Loan\"] = delete_outliers(df[\"Num_of_Loan\"])\n",
    "    df[\"Interest_Rate\"] = delete_outliers(df[\"Interest_Rate\"])\n",
    "    df[\"Num_Credit_Card\"] = delete_outliers(df[\"Num_Credit_Card\"], 0, 0.97)\n",
    "    df[\"Num_of_Delayed_Payment\"] = delete_outliers(df[\"Num_of_Delayed_Payment\"])\n",
    "    df[\"Num_Credit_Inquiries\"] = delete_outliers(df[\"Num_Credit_Inquiries\"])\n",
    "    df[\"Total_EMI_per_month\"] = delete_outliers(df[\"Total_EMI_per_month\"], 0, 0.95)\n",
    "\n",
    "\n",
    "    print(\"Deleted outliers\")   \n",
    "    \n",
    "    return df"
   ]
  },
  {
   "cell_type": "markdown",
   "id": "98dfa837",
   "metadata": {},
   "source": [
    "## Encoding categorical data"
   ]
  },
  {
   "cell_type": "code",
   "execution_count": 27,
   "id": "03f55582",
   "metadata": {},
   "outputs": [
    {
     "data": {
      "text/plain": [
       "array(['Scientist', 'Unknown', 'Teacher', 'Engineer', 'Entrepreneur',\n",
       "       'Developer', 'Lawyer', 'Media_Manager', 'Doctor', 'Journalist',\n",
       "       'Manager', 'Accountant', 'Musician', 'Mechanic', 'Writer',\n",
       "       'Architect'], dtype=object)"
      ]
     },
     "execution_count": 27,
     "metadata": {},
     "output_type": "execute_result"
    }
   ],
   "source": [
    "train[\"Occupation\"] = np.where(train[\"Occupation\"] == \"_______\", \"Unknown\", train[\"Occupation\"])\n",
    "occupations_list = train[\"Occupation\"].unique()\n",
    "occupations_list"
   ]
  },
  {
   "cell_type": "markdown",
   "id": "9641a778",
   "metadata": {},
   "source": [
    "Sometimes when data is missing, it's possible to avail rows that pertain to the same customer and contain missing information."
   ]
  },
  {
   "cell_type": "code",
   "execution_count": 28,
   "id": "f7200d49",
   "metadata": {},
   "outputs": [],
   "source": [
    "# first we fill the information for customers that have other rows with full information available\n",
    "train['Type_of_Loan'].fillna(train.groupby('Customer_ID')['Type_of_Loan'].first(), inplace=True)\n",
    "# later we fill with ''\n",
    "train['Type_of_Loan'].fillna('', inplace=True)\n",
    "    \n",
    "loan_types_list =  train['Type_of_Loan'].value_counts().head(9).index[1:] "
   ]
  },
  {
   "cell_type": "code",
   "execution_count": 29,
   "id": "0b585c19",
   "metadata": {},
   "outputs": [],
   "source": [
    "def encode_categorical(df):\n",
    "    # encode columns where necessary (Credit_Mix, Payment_of_Min_Amount, Credit_Score)\n",
    "    # mapping\n",
    "    credit_mix_dict = {'Bad':0, 'Standard':1, 'Good':2, '_':float('nan')}\n",
    "    poma_dict = {'No':0, 'Yes':1, 'NM':float('nan')}\n",
    "    credit_score_dict = {'Poor':0, 'Standard':1, 'Good':2}\n",
    "    month_dict = {\"January\": 1, \"February\": 2, \"March\": 3, \"April\": 4, \"May\": 5,\n",
    "                \"June\": 6, \"July\": 7, \"August\": 8}\n",
    "    \n",
    "    df['Payment_of_Min_Amount'] = df['Payment_of_Min_Amount'].map(poma_dict)\n",
    "    df['Credit_Mix'] = df['Credit_Mix'].map(credit_mix_dict)\n",
    "    df['Credit_Score'] = df['Credit_Score'].map(credit_score_dict)\n",
    "    df[\"Month\"] = df[\"Month\"].map(month_dict)\n",
    "    \n",
    "    # Payment_Behaviour column brings two informations, one about spending, other about value payments\n",
    "    df[\"Payment_Behaviour\"] = df[\"Payment_Behaviour\"].replace('!@9#%8', 'Unknown_spent_Unknown_value_payments')\n",
    "    split_payment = lambda x:  ([x.split(\"_\")[0], x.split(\"_\")[2]] if (x is not None) else [\"Unknown\", \"Unknown\"])\n",
    "    df[\"Payment_Behaviour\"] = df[\"Payment_Behaviour\"].apply(split_payment)\n",
    "    df[[\"Spending_Behaviour\", \"Value_Payments\"]] = pd.DataFrame(df[\"Payment_Behaviour\"].tolist(), index=df.index)\n",
    "    \n",
    "    spending_dict = {'Low':0, 'High':1, 'Unknown':float('nan')}\n",
    "    value_dict = {'Small':0, 'Medium':1, 'Large':2,  'Unknown':float('nan')}\n",
    "    df['Spending_Behaviour'] = df['Spending_Behaviour'].map(spending_dict)\n",
    "    df['Value_Payments'] = df['Value_Payments'].map(value_dict)\n",
    "    \n",
    "    del df[\"Payment_Behaviour\"]\n",
    "    \n",
    "    \n",
    "    for loan_type in loan_types_list: # the single types of loans\n",
    "        df[loan_type] = df['Type_of_Loan'].str.contains(loan_type).astype(\"bool\")\n",
    "    del df[\"Type_of_Loan\"]\n",
    "    \n",
    "    \n",
    "    # credit history age    \n",
    "    df['Credit_History_Age'] = df['Credit_History_Age'].apply(history_age)\n",
    "    \n",
    "    # Occupation - ____ for uneployed\n",
    "    df[\"Occupation\"] = np.where(df[\"Occupation\"] == \"_______\", \"Unknown\", df[\"Occupation\"])\n",
    "    df[\"Occupation\"] = np.where(df[\"Occupation\"].isin(occupations_list), df[\"Occupation\"], \"Unknown\") # to handle different occupations in test data\n",
    "    df = df.join(pd.get_dummies(df['Occupation']))\n",
    "    del df[\"Occupation\"]\n",
    "\n",
    "    print(\"Categorical columns with string values encoded. Added new columns where necessary (one-hot encoding)\")\n",
    "    \n",
    "    return df"
   ]
  },
  {
   "cell_type": "markdown",
   "id": "6a1993b7",
   "metadata": {},
   "source": [
    "## handling NaNs"
   ]
  },
  {
   "cell_type": "markdown",
   "id": "268925b9",
   "metadata": {},
   "source": [
    "We will impute missing data. In case of some values we look up to rows containing\n",
    "data about the same customer, using mode/median of values pertaining to him. If for customer\n",
    "there are no other rows, we impute using globally most common values."
   ]
  },
  {
   "cell_type": "code",
   "execution_count": 30,
   "id": "4ef5189e",
   "metadata": {},
   "outputs": [],
   "source": [
    "def impute_values(df): # this works but very slowly\n",
    "    \n",
    "    continuous_values = ['Monthly_Inhand_Salary', 'Amount_invested_monthly',\n",
    "                         'Monthly_Balance', 'Credit_History_Age', \"Outstanding_Debt\",\n",
    "                         \"Changed_Credit_Limit\", \"Annual_Income\"]\n",
    "    \n",
    "    for column in continuous_values:\n",
    "        df[column] = df[column].fillna(df.groupby('Customer_ID')[column].transform(\"mean\"))\n",
    "    # using mean is not causing any trouble here, we're practically taking the value that appears\n",
    "    # in the rows with the same id\n",
    "        \n",
    "    \n",
    "    discrete_columns = [\"Age\", \"Num_Credit_Inquiries\", \"Num_of_Loan\", \"Credit_Mix\",\n",
    "                        \"Num_of_Delayed_Payment\", \"Num_Credit_Inquiries\", \n",
    "                        \"Spending_Behaviour\", \"Payment_of_Min_Amount\", \"Value_Payments\"]\n",
    "    # for discrete values we'll impute nans with mode\n",
    "    for column in discrete_columns:\n",
    "        #train[column].fillna(train.groupby('Customer_ID')[column].agg(lambda x: pd.Series.mode(x)[0]), inplace=True) \n",
    "        df[column].fillna(df.groupby('Customer_ID')[column].transform('median'), inplace=True) \n",
    "        pass\n",
    "    \n",
    "    df = df.fillna(df.median()) # in case a customer doesn't have any entries\n",
    "\n",
    "\n",
    "    print(\"NA values imputed within numeric columns\")\n",
    "\n",
    "    return df\n"
   ]
  },
  {
   "cell_type": "code",
   "execution_count": 31,
   "id": "786b3233",
   "metadata": {},
   "outputs": [],
   "source": [
    "# processing Credit_History_Age so that's continuous\n",
    "import re\n",
    "def history_age(age):\n",
    "    try : \n",
    "        years = int(re.findall('[0-9]+', age)[0])\n",
    "        month = int(re.findall('[0-9]+', age)[1])\n",
    "        return years*12 + month\n",
    "    except :\n",
    "        return np.nan\n",
    "    \n",
    "import re"
   ]
  },
  {
   "cell_type": "code",
   "execution_count": 32,
   "id": "2dc32c0a",
   "metadata": {},
   "outputs": [],
   "source": [
    "def impute_discrete_string(df):\n",
    "\n",
    "    discrete_string_columns = [\"Occupation\", \"Type_of_Loan\", \"Payment_Behaviour\"]\n",
    "    # fill missing data in columns that are strings\n",
    "\n",
    "    for column in discrete_string_columns:\n",
    "        most_common_globally = df[column].agg(lambda x: pd.Series.mode(x)[0])\n",
    "        df[column].fillna(df.groupby('Customer_ID')[column].agg(\n",
    "            lambda x: (most_common_globally if len(pd.Series.mode(x)) == 0 else pd.Series.mode(x)[0])\n",
    "            ), inplace=True) \n",
    "        \n",
    "\n",
    "    print(\"NA values imputed within text columns\")\n",
    "        \n",
    "    return df"
   ]
  },
  {
   "cell_type": "markdown",
   "id": "225352d5",
   "metadata": {},
   "source": [
    "## Pipeline"
   ]
  },
  {
   "cell_type": "code",
   "execution_count": 33,
   "id": "7e846699",
   "metadata": {},
   "outputs": [],
   "source": [
    "from sklearn.preprocessing import FunctionTransformer\n",
    "from sklearn.pipeline import Pipeline\n",
    "\n",
    "drop_transformer = FunctionTransformer(id_columns)\n",
    "altering_transformer = FunctionTransformer(altering)\n",
    "outlier_transformer = FunctionTransformer(handle_outliers)\n",
    "categorical_transformer = FunctionTransformer(encode_categorical)\n",
    "imputer_transformer = FunctionTransformer(impute_values)\n",
    "discrete_imputer_transformer = FunctionTransformer(impute_discrete_string)\n",
    "\n",
    "# all the afore declared processings applied\n",
    "prepipe = Pipeline([\n",
    "    (\"drop\", drop_transformer),\n",
    "    (\"altering\", altering_transformer),\n",
    "    (\"outliers\", outlier_transformer),\n",
    "    (\"impute_discrete_string\", discrete_imputer_transformer),\n",
    "    (\"categorical\", categorical_transformer),\n",
    "    (\"impute\", imputer_transformer)\n",
    "])\n"
   ]
  },
  {
   "cell_type": "code",
   "execution_count": 34,
   "id": "402b1b9f",
   "metadata": {},
   "outputs": [
    {
     "name": "stdout",
     "output_type": "stream",
     "text": [
      "Columns containing id-like information preprocessed\n",
      "Numeric data preprocessed. Columns with numeric values contain numeric only variables. Changed columns types\n",
      "Deleted outliers\n",
      "NA values imputed within text columns\n",
      "Categorical columns with string values encoded. Added new columns where necessary (one-hot encoding)\n",
      "NA values imputed within numeric columns\n"
     ]
    }
   ],
   "source": [
    "train = prepipe.fit_transform(train)"
   ]
  },
  {
   "cell_type": "code",
   "execution_count": 35,
   "id": "0ddc1fc5",
   "metadata": {},
   "outputs": [],
   "source": [
    "# verify the pipe transformation\n",
    "described = train.describe()"
   ]
  },
  {
   "cell_type": "code",
   "execution_count": 36,
   "id": "a9a53f9b",
   "metadata": {},
   "outputs": [
    {
     "data": {
      "text/plain": [
       "array([[<AxesSubplot:title={'center':'Customer_ID'}>,\n",
       "        <AxesSubplot:title={'center':'Month'}>,\n",
       "        <AxesSubplot:title={'center':'Age'}>,\n",
       "        <AxesSubplot:title={'center':'Annual_Income'}>,\n",
       "        <AxesSubplot:title={'center':'Monthly_Inhand_Salary'}>,\n",
       "        <AxesSubplot:title={'center':'Num_Bank_Accounts'}>],\n",
       "       [<AxesSubplot:title={'center':'Num_Credit_Card'}>,\n",
       "        <AxesSubplot:title={'center':'Interest_Rate'}>,\n",
       "        <AxesSubplot:title={'center':'Num_of_Loan'}>,\n",
       "        <AxesSubplot:title={'center':'Delay_from_due_date'}>,\n",
       "        <AxesSubplot:title={'center':'Num_of_Delayed_Payment'}>,\n",
       "        <AxesSubplot:title={'center':'Changed_Credit_Limit'}>],\n",
       "       [<AxesSubplot:title={'center':'Num_Credit_Inquiries'}>,\n",
       "        <AxesSubplot:title={'center':'Credit_Mix'}>,\n",
       "        <AxesSubplot:title={'center':'Outstanding_Debt'}>,\n",
       "        <AxesSubplot:title={'center':'Credit_Utilization_Ratio'}>,\n",
       "        <AxesSubplot:title={'center':'Credit_History_Age'}>,\n",
       "        <AxesSubplot:title={'center':'Payment_of_Min_Amount'}>],\n",
       "       [<AxesSubplot:title={'center':'Total_EMI_per_month'}>,\n",
       "        <AxesSubplot:title={'center':'Amount_invested_monthly'}>,\n",
       "        <AxesSubplot:title={'center':'Monthly_Balance'}>,\n",
       "        <AxesSubplot:title={'center':'Credit_Score'}>,\n",
       "        <AxesSubplot:title={'center':'Spending_Behaviour'}>,\n",
       "        <AxesSubplot:title={'center':'Value_Payments'}>],\n",
       "       [<AxesSubplot:title={'center':'Accountant'}>,\n",
       "        <AxesSubplot:title={'center':'Architect'}>,\n",
       "        <AxesSubplot:title={'center':'Developer'}>,\n",
       "        <AxesSubplot:title={'center':'Doctor'}>,\n",
       "        <AxesSubplot:title={'center':'Engineer'}>,\n",
       "        <AxesSubplot:title={'center':'Entrepreneur'}>],\n",
       "       [<AxesSubplot:title={'center':'Journalist'}>,\n",
       "        <AxesSubplot:title={'center':'Lawyer'}>,\n",
       "        <AxesSubplot:title={'center':'Manager'}>,\n",
       "        <AxesSubplot:title={'center':'Mechanic'}>,\n",
       "        <AxesSubplot:title={'center':'Media_Manager'}>,\n",
       "        <AxesSubplot:title={'center':'Musician'}>],\n",
       "       [<AxesSubplot:title={'center':'Scientist'}>,\n",
       "        <AxesSubplot:title={'center':'Teacher'}>,\n",
       "        <AxesSubplot:title={'center':'Unknown'}>,\n",
       "        <AxesSubplot:title={'center':'Writer'}>, <AxesSubplot:>,\n",
       "        <AxesSubplot:>]], dtype=object)"
      ]
     },
     "execution_count": 36,
     "metadata": {},
     "output_type": "execute_result"
    },
    {
     "data": {
      "image/png": "[encoded data removed]",
      "text/plain": [
       "<Figure size 2160x1440 with 42 Axes>"
      ]
     },
     "metadata": {
      "needs_background": "light"
     },
     "output_type": "display_data"
    }
   ],
   "source": [
    "train.hist(figsize=(30, 20))"
   ]
  },
  {
   "cell_type": "code",
   "execution_count": 37,
   "id": "0e2ea1ce",
   "metadata": {},
   "outputs": [
    {
     "data": {
      "text/plain": [
       "<AxesSubplot:>"
      ]
     },
     "execution_count": 37,
     "metadata": {},
     "output_type": "execute_result"
    },
    {
     "data": {
      "image/png": "[encoded data removed]",
      "text/plain": [
       "<Figure size 432x288 with 2 Axes>"
      ]
     },
     "metadata": {
      "needs_background": "light"
     },
     "output_type": "display_data"
    }
   ],
   "source": [
    "sns.heatmap(train.corr(), cmap=\"YlGnBu\")"
   ]
  },
  {
   "cell_type": "markdown",
   "id": "51fb2f07",
   "metadata": {},
   "source": [
    "# Model"
   ]
  },
  {
   "cell_type": "markdown",
   "id": "1f917687",
   "metadata": {},
   "source": [
    "We will initially create the models, to check which features have the highest importance.\n",
    "Our intention is to drop the irrelevant later after the 1st model fitting."
   ]
  },
  {
   "cell_type": "code",
   "execution_count": 38,
   "id": "8cd12554",
   "metadata": {},
   "outputs": [],
   "source": [
    "from sklearn.model_selection import train_test_split\n",
    "from sklearn.metrics import classification_report\n",
    "from sklearn.preprocessing import StandardScaler"
   ]
  },
  {
   "cell_type": "code",
   "execution_count": 39,
   "id": "b9fee98c",
   "metadata": {},
   "outputs": [],
   "source": [
    "# training dataset\n",
    "y = train['Credit_Score']\n",
    "del train['Credit_Score']\n",
    "y_train = y\n",
    "X_train = train"
   ]
  },
  {
   "cell_type": "code",
   "execution_count": 40,
   "id": "2869f728",
   "metadata": {},
   "outputs": [
    {
     "name": "stdout",
     "output_type": "stream",
     "text": [
      "Columns containing id-like information preprocessed\n",
      "Numeric data preprocessed. Columns with numeric values contain numeric only variables. Changed columns types\n",
      "Deleted outliers\n",
      "NA values imputed within text columns\n",
      "Categorical columns with string values encoded. Added new columns where necessary (one-hot encoding)\n",
      "NA values imputed within numeric columns\n"
     ]
    }
   ],
   "source": [
    "# validation dataset\n",
    "val = prepipe.transform(val)\n",
    "X_val = val\n",
    "y_val = val[\"Credit_Score\"]\n",
    "del X_val[\"Credit_Score\"]"
   ]
  },
  {
   "cell_type": "markdown",
   "id": "9ef049a4",
   "metadata": {},
   "source": [
    "# Random Forest"
   ]
  },
  {
   "cell_type": "markdown",
   "id": "f879fc81",
   "metadata": {},
   "source": [
    "1st fitting"
   ]
  },
  {
   "cell_type": "code",
   "execution_count": 211,
   "id": "174eb5af",
   "metadata": {},
   "outputs": [],
   "source": [
    "from sklearn.ensemble import RandomForestClassifier"
   ]
  },
  {
   "cell_type": "code",
   "execution_count": 212,
   "id": "1ce53215",
   "metadata": {},
   "outputs": [
    {
     "data": {
      "text/html": [
       "<style>#sk-container-id-8 {color: black;background-color: white;}#sk-container-id-8 pre{padding: 0;}#sk-container-id-8 div.sk-toggleable {background-color: white;}#sk-container-id-8 label.sk-toggleable__label {cursor: pointer;display: block;width: 100%;margin-bottom: 0;padding: 0.3em;box-sizing: border-box;text-align: center;}#sk-container-id-8 label.sk-toggleable__label-arrow:before {content: \"▸\";float: left;margin-right: 0.25em;color: #696969;}#sk-container-id-8 label.sk-toggleable__label-arrow:hover:before {color: black;}#sk-container-id-8 div.sk-estimator:hover label.sk-toggleable__label-arrow:before {color: black;}#sk-container-id-8 div.sk-toggleable__content {max-height: 0;max-width: 0;overflow: hidden;text-align: left;background-color: #f0f8ff;}#sk-container-id-8 div.sk-toggleable__content pre {margin: 0.2em;color: black;border-radius: 0.25em;background-color: #f0f8ff;}#sk-container-id-8 input.sk-toggleable__control:checked~div.sk-toggleable__content {max-height: 200px;max-width: 100%;overflow: auto;}#sk-container-id-8 input.sk-toggleable__control:checked~label.sk-toggleable__label-arrow:before {content: \"▾\";}#sk-container-id-8 div.sk-estimator input.sk-toggleable__control:checked~label.sk-toggleable__label {background-color: #d4ebff;}#sk-container-id-8 div.sk-label input.sk-toggleable__control:checked~label.sk-toggleable__label {background-color: #d4ebff;}#sk-container-id-8 input.sk-hidden--visually {border: 0;clip: rect(1px 1px 1px 1px);clip: rect(1px, 1px, 1px, 1px);height: 1px;margin: -1px;overflow: hidden;padding: 0;position: absolute;width: 1px;}#sk-container-id-8 div.sk-estimator {font-family: monospace;background-color: #f0f8ff;border: 1px dotted black;border-radius: 0.25em;box-sizing: border-box;margin-bottom: 0.5em;}#sk-container-id-8 div.sk-estimator:hover {background-color: #d4ebff;}#sk-container-id-8 div.sk-parallel-item::after {content: \"\";width: 100%;border-bottom: 1px solid gray;flex-grow: 1;}#sk-container-id-8 div.sk-label:hover label.sk-toggleable__label {background-color: #d4ebff;}#sk-container-id-8 div.sk-serial::before {content: \"\";position: absolute;border-left: 1px solid gray;box-sizing: border-box;top: 0;bottom: 0;left: 50%;z-index: 0;}#sk-container-id-8 div.sk-serial {display: flex;flex-direction: column;align-items: center;background-color: white;padding-right: 0.2em;padding-left: 0.2em;position: relative;}#sk-container-id-8 div.sk-item {position: relative;z-index: 1;}#sk-container-id-8 div.sk-parallel {display: flex;align-items: stretch;justify-content: center;background-color: white;position: relative;}#sk-container-id-8 div.sk-item::before, #sk-container-id-8 div.sk-parallel-item::before {content: \"\";position: absolute;border-left: 1px solid gray;box-sizing: border-box;top: 0;bottom: 0;left: 50%;z-index: -1;}#sk-container-id-8 div.sk-parallel-item {display: flex;flex-direction: column;z-index: 1;position: relative;background-color: white;}#sk-container-id-8 div.sk-parallel-item:first-child::after {align-self: flex-end;width: 50%;}#sk-container-id-8 div.sk-parallel-item:last-child::after {align-self: flex-start;width: 50%;}#sk-container-id-8 div.sk-parallel-item:only-child::after {width: 0;}#sk-container-id-8 div.sk-dashed-wrapped {border: 1px dashed gray;margin: 0 0.4em 0.5em 0.4em;box-sizing: border-box;padding-bottom: 0.4em;background-color: white;}#sk-container-id-8 div.sk-label label {font-family: monospace;font-weight: bold;display: inline-block;line-height: 1.2em;}#sk-container-id-8 div.sk-label-container {text-align: center;}#sk-container-id-8 div.sk-container {/* jupyter's `normalize.less` sets `[hidden] { display: none; }` but bootstrap.min.css set `[hidden] { display: none !important; }` so we also need the `!important` here to be able to override the default hidden behavior on the sphinx rendered scikit-learn.org. See: https://github.com/scikit-learn/scikit-learn/issues/21755 */display: inline-block !important;position: relative;}#sk-container-id-8 div.sk-text-repr-fallback {display: none;}</style><div id=\"sk-container-id-8\" class=\"sk-top-container\"><div class=\"sk-text-repr-fallback\"><pre>RandomForestClassifier(n_estimators=120)</pre><b>In a Jupyter environment, please rerun this cell to show the HTML representation or trust the notebook. <br />On GitHub, the HTML representation is unable to render, please try loading this page with nbviewer.org.</b></div><div class=\"sk-container\" hidden><div class=\"sk-item\"><div class=\"sk-estimator sk-toggleable\"><input class=\"sk-toggleable__control sk-hidden--visually\" id=\"sk-estimator-id-32\" type=\"checkbox\" checked><label for=\"sk-estimator-id-32\" class=\"sk-toggleable__label sk-toggleable__label-arrow\">RandomForestClassifier</label><div class=\"sk-toggleable__content\"><pre>RandomForestClassifier(n_estimators=120)</pre></div></div></div></div></div>"
      ],
      "text/plain": [
       "RandomForestClassifier(n_estimators=120)"
      ]
     },
     "execution_count": 212,
     "metadata": {},
     "output_type": "execute_result"
    }
   ],
   "source": [
    "rf_model = RandomForestClassifier(n_estimators=120)\n",
    "rf_model.fit(X_train, y_train)"
   ]
  },
  {
   "cell_type": "code",
   "execution_count": 213,
   "id": "43ec79ae",
   "metadata": {},
   "outputs": [],
   "source": [
    "y_pred = rf_model.predict(X_val)"
   ]
  },
  {
   "cell_type": "code",
   "execution_count": 214,
   "id": "20c955f5",
   "metadata": {},
   "outputs": [
    {
     "name": "stdout",
     "output_type": "stream",
     "text": [
      "              precision    recall  f1-score   support\n",
      "\n",
      "           0       0.66      0.71      0.69      4403\n",
      "           1       0.73      0.75      0.74      8444\n",
      "           2       0.64      0.53      0.58      3153\n",
      "\n",
      "    accuracy                           0.69     16000\n",
      "   macro avg       0.68      0.66      0.67     16000\n",
      "weighted avg       0.69      0.69      0.69     16000\n",
      "\n"
     ]
    }
   ],
   "source": [
    "print(classification_report(y_pred, y_val))"
   ]
  },
  {
   "cell_type": "markdown",
   "id": "1f55f76d",
   "metadata": {},
   "source": [
    "# Verify feature importance in random forest model"
   ]
  },
  {
   "cell_type": "code",
   "execution_count": 215,
   "id": "07266953",
   "metadata": {},
   "outputs": [],
   "source": [
    "feature_importances = pd.DataFrame(rf_model.feature_importances_,\n",
    "                                   X_val.columns,\n",
    "                                   columns=['Importance'])"
   ]
  },
  {
   "cell_type": "code",
   "execution_count": 216,
   "id": "d472b887",
   "metadata": {},
   "outputs": [
    {
     "data": {
      "text/html": [
       "<div>\n",
       "<style scoped>\n",
       "    .dataframe tbody tr th:only-of-type {\n",
       "        vertical-align: middle;\n",
       "    }\n",
       "\n",
       "    .dataframe tbody tr th {\n",
       "        vertical-align: top;\n",
       "    }\n",
       "\n",
       "    .dataframe thead th {\n",
       "        text-align: right;\n",
       "    }\n",
       "</style>\n",
       "<table border=\"1\" class=\"dataframe\">\n",
       "  <thead>\n",
       "    <tr style=\"text-align: right;\">\n",
       "      <th></th>\n",
       "      <th>Importance</th>\n",
       "    </tr>\n",
       "  </thead>\n",
       "  <tbody>\n",
       "    <tr>\n",
       "      <th>Outstanding_Debt</th>\n",
       "      <td>0.094029</td>\n",
       "    </tr>\n",
       "    <tr>\n",
       "      <th>Credit_Mix</th>\n",
       "      <td>0.068787</td>\n",
       "    </tr>\n",
       "    <tr>\n",
       "      <th>Interest_Rate</th>\n",
       "      <td>0.065170</td>\n",
       "    </tr>\n",
       "    <tr>\n",
       "      <th>Credit_History_Age</th>\n",
       "      <td>0.059387</td>\n",
       "    </tr>\n",
       "    <tr>\n",
       "      <th>Delay_from_due_date</th>\n",
       "      <td>0.054500</td>\n",
       "    </tr>\n",
       "    <tr>\n",
       "      <th>Changed_Credit_Limit</th>\n",
       "      <td>0.049073</td>\n",
       "    </tr>\n",
       "    <tr>\n",
       "      <th>Num_Credit_Card</th>\n",
       "      <td>0.040585</td>\n",
       "    </tr>\n",
       "    <tr>\n",
       "      <th>Monthly_Balance</th>\n",
       "      <td>0.040552</td>\n",
       "    </tr>\n",
       "    <tr>\n",
       "      <th>Amount_invested_monthly</th>\n",
       "      <td>0.039465</td>\n",
       "    </tr>\n",
       "    <tr>\n",
       "      <th>Credit_Utilization_Ratio</th>\n",
       "      <td>0.037793</td>\n",
       "    </tr>\n",
       "  </tbody>\n",
       "</table>\n",
       "</div>"
      ],
      "text/plain": [
       "                          Importance\n",
       "Outstanding_Debt            0.094029\n",
       "Credit_Mix                  0.068787\n",
       "Interest_Rate               0.065170\n",
       "Credit_History_Age          0.059387\n",
       "Delay_from_due_date         0.054500\n",
       "Changed_Credit_Limit        0.049073\n",
       "Num_Credit_Card             0.040585\n",
       "Monthly_Balance             0.040552\n",
       "Amount_invested_monthly     0.039465\n",
       "Credit_Utilization_Ratio    0.037793"
      ]
     },
     "execution_count": 216,
     "metadata": {},
     "output_type": "execute_result"
    }
   ],
   "source": [
    "feature_importances.sort_values(by='Importance', ascending=False).head(10)"
   ]
  },
  {
   "cell_type": "markdown",
   "id": "6f794a3c",
   "metadata": {},
   "source": [
    "# Dropping highly correlated columns"
   ]
  },
  {
   "cell_type": "code",
   "execution_count": 217,
   "id": "045fa326",
   "metadata": {},
   "outputs": [],
   "source": [
    "columns_to_delete = []\n",
    "for i in range(len(X_train.columns)):\n",
    "    for j in range(i+1, len(X_train.columns)):\n",
    "        # we iterate over every pair of columns\n",
    "        # if the correlation between them is over 0.5 we eliminate the less predictive (for our particular model) column\n",
    "        if (abs(X_train[X_train.columns[i]].corr(X_train[X_train.columns[j]])) > 0.7):\n",
    "            if feature_importances.loc[X_train.columns[i]][0] < feature_importances.loc[X_train.columns[j]][0]:\n",
    "                columns_to_delete.append(feature_importances.loc[X_train.columns[i]].name)\n",
    "            else:\n",
    "                columns_to_delete.append(feature_importances.loc[X_train.columns[j]].name)"
   ]
  },
  {
   "cell_type": "code",
   "execution_count": 218,
   "id": "eef46246",
   "metadata": {},
   "outputs": [
    {
     "data": {
      "text/plain": [
       "['Payment_of_Min_Amount',\n",
       " 'Monthly_Inhand_Salary',\n",
       " 'Interest_Rate',\n",
       " 'Num_of_Delayed_Payment',\n",
       " 'Customer_ID',\n",
       " 'Annual_Income']"
      ]
     },
     "execution_count": 218,
     "metadata": {},
     "output_type": "execute_result"
    }
   ],
   "source": [
    "columns_to_delete.append('Customer_ID')\n",
    "columns_to_delete = list(set(columns_to_delete)) # get unique values\n",
    "columns_to_delete"
   ]
  },
  {
   "cell_type": "code",
   "execution_count": 219,
   "id": "d4adf015",
   "metadata": {},
   "outputs": [],
   "source": [
    "X_train_2 = X_train.drop(columns_to_delete, axis=1)\n",
    "X_val_2 = X_val.drop(columns_to_delete, axis=1) "
   ]
  },
  {
   "cell_type": "code",
   "execution_count": 220,
   "id": "e8e63ce7",
   "metadata": {},
   "outputs": [
    {
     "data": {
      "text/html": [
       "<div>\n",
       "<style scoped>\n",
       "    .dataframe tbody tr th:only-of-type {\n",
       "        vertical-align: middle;\n",
       "    }\n",
       "\n",
       "    .dataframe tbody tr th {\n",
       "        vertical-align: top;\n",
       "    }\n",
       "\n",
       "    .dataframe thead th {\n",
       "        text-align: right;\n",
       "    }\n",
       "</style>\n",
       "<table border=\"1\" class=\"dataframe\">\n",
       "  <thead>\n",
       "    <tr style=\"text-align: right;\">\n",
       "      <th></th>\n",
       "      <th>Importance</th>\n",
       "    </tr>\n",
       "  </thead>\n",
       "  <tbody>\n",
       "    <tr>\n",
       "      <th>Outstanding_Debt</th>\n",
       "      <td>0.094029</td>\n",
       "    </tr>\n",
       "    <tr>\n",
       "      <th>Credit_Mix</th>\n",
       "      <td>0.068787</td>\n",
       "    </tr>\n",
       "    <tr>\n",
       "      <th>Credit_History_Age</th>\n",
       "      <td>0.059387</td>\n",
       "    </tr>\n",
       "    <tr>\n",
       "      <th>Delay_from_due_date</th>\n",
       "      <td>0.054500</td>\n",
       "    </tr>\n",
       "    <tr>\n",
       "      <th>Changed_Credit_Limit</th>\n",
       "      <td>0.049073</td>\n",
       "    </tr>\n",
       "    <tr>\n",
       "      <th>Num_Credit_Card</th>\n",
       "      <td>0.040585</td>\n",
       "    </tr>\n",
       "    <tr>\n",
       "      <th>Monthly_Balance</th>\n",
       "      <td>0.040552</td>\n",
       "    </tr>\n",
       "    <tr>\n",
       "      <th>Amount_invested_monthly</th>\n",
       "      <td>0.039465</td>\n",
       "    </tr>\n",
       "    <tr>\n",
       "      <th>Credit_Utilization_Ratio</th>\n",
       "      <td>0.037793</td>\n",
       "    </tr>\n",
       "    <tr>\n",
       "      <th>Num_Credit_Inquiries</th>\n",
       "      <td>0.036266</td>\n",
       "    </tr>\n",
       "    <tr>\n",
       "      <th>Month</th>\n",
       "      <td>0.034422</td>\n",
       "    </tr>\n",
       "    <tr>\n",
       "      <th>Total_EMI_per_month</th>\n",
       "      <td>0.032216</td>\n",
       "    </tr>\n",
       "    <tr>\n",
       "      <th>Age</th>\n",
       "      <td>0.031729</td>\n",
       "    </tr>\n",
       "    <tr>\n",
       "      <th>Num_Bank_Accounts</th>\n",
       "      <td>0.024335</td>\n",
       "    </tr>\n",
       "    <tr>\n",
       "      <th>Num_of_Loan</th>\n",
       "      <td>0.021126</td>\n",
       "    </tr>\n",
       "    <tr>\n",
       "      <th>Value_Payments</th>\n",
       "      <td>0.012465</td>\n",
       "    </tr>\n",
       "    <tr>\n",
       "      <th>Spending_Behaviour</th>\n",
       "      <td>0.007830</td>\n",
       "    </tr>\n",
       "    <tr>\n",
       "      <th>Student Loan</th>\n",
       "      <td>0.005355</td>\n",
       "    </tr>\n",
       "    <tr>\n",
       "      <th>Credit-Builder Loan</th>\n",
       "      <td>0.005337</td>\n",
       "    </tr>\n",
       "    <tr>\n",
       "      <th>Payday Loan</th>\n",
       "      <td>0.005303</td>\n",
       "    </tr>\n",
       "    <tr>\n",
       "      <th>Not Specified</th>\n",
       "      <td>0.005289</td>\n",
       "    </tr>\n",
       "    <tr>\n",
       "      <th>Auto Loan</th>\n",
       "      <td>0.005284</td>\n",
       "    </tr>\n",
       "    <tr>\n",
       "      <th>Personal Loan</th>\n",
       "      <td>0.005265</td>\n",
       "    </tr>\n",
       "    <tr>\n",
       "      <th>Home Equity Loan</th>\n",
       "      <td>0.005227</td>\n",
       "    </tr>\n",
       "    <tr>\n",
       "      <th>Mortgage Loan</th>\n",
       "      <td>0.005192</td>\n",
       "    </tr>\n",
       "    <tr>\n",
       "      <th>Scientist</th>\n",
       "      <td>0.003293</td>\n",
       "    </tr>\n",
       "    <tr>\n",
       "      <th>Unknown</th>\n",
       "      <td>0.003277</td>\n",
       "    </tr>\n",
       "    <tr>\n",
       "      <th>Lawyer</th>\n",
       "      <td>0.003014</td>\n",
       "    </tr>\n",
       "    <tr>\n",
       "      <th>Doctor</th>\n",
       "      <td>0.002946</td>\n",
       "    </tr>\n",
       "    <tr>\n",
       "      <th>Entrepreneur</th>\n",
       "      <td>0.002909</td>\n",
       "    </tr>\n",
       "    <tr>\n",
       "      <th>Mechanic</th>\n",
       "      <td>0.002903</td>\n",
       "    </tr>\n",
       "    <tr>\n",
       "      <th>Developer</th>\n",
       "      <td>0.002896</td>\n",
       "    </tr>\n",
       "    <tr>\n",
       "      <th>Engineer</th>\n",
       "      <td>0.002878</td>\n",
       "    </tr>\n",
       "    <tr>\n",
       "      <th>Journalist</th>\n",
       "      <td>0.002833</td>\n",
       "    </tr>\n",
       "    <tr>\n",
       "      <th>Teacher</th>\n",
       "      <td>0.002821</td>\n",
       "    </tr>\n",
       "    <tr>\n",
       "      <th>Media_Manager</th>\n",
       "      <td>0.002794</td>\n",
       "    </tr>\n",
       "    <tr>\n",
       "      <th>Accountant</th>\n",
       "      <td>0.002780</td>\n",
       "    </tr>\n",
       "    <tr>\n",
       "      <th>Musician</th>\n",
       "      <td>0.002777</td>\n",
       "    </tr>\n",
       "    <tr>\n",
       "      <th>Manager</th>\n",
       "      <td>0.002728</td>\n",
       "    </tr>\n",
       "    <tr>\n",
       "      <th>Architect</th>\n",
       "      <td>0.002724</td>\n",
       "    </tr>\n",
       "    <tr>\n",
       "      <th>Writer</th>\n",
       "      <td>0.002687</td>\n",
       "    </tr>\n",
       "  </tbody>\n",
       "</table>\n",
       "</div>"
      ],
      "text/plain": [
       "                          Importance\n",
       "Outstanding_Debt            0.094029\n",
       "Credit_Mix                  0.068787\n",
       "Credit_History_Age          0.059387\n",
       "Delay_from_due_date         0.054500\n",
       "Changed_Credit_Limit        0.049073\n",
       "Num_Credit_Card             0.040585\n",
       "Monthly_Balance             0.040552\n",
       "Amount_invested_monthly     0.039465\n",
       "Credit_Utilization_Ratio    0.037793\n",
       "Num_Credit_Inquiries        0.036266\n",
       "Month                       0.034422\n",
       "Total_EMI_per_month         0.032216\n",
       "Age                         0.031729\n",
       "Num_Bank_Accounts           0.024335\n",
       "Num_of_Loan                 0.021126\n",
       "Value_Payments              0.012465\n",
       "Spending_Behaviour          0.007830\n",
       "Student Loan                0.005355\n",
       "Credit-Builder Loan         0.005337\n",
       "Payday Loan                 0.005303\n",
       "Not Specified               0.005289\n",
       "Auto Loan                   0.005284\n",
       "Personal Loan               0.005265\n",
       "Home Equity Loan            0.005227\n",
       "Mortgage Loan               0.005192\n",
       "Scientist                   0.003293\n",
       "Unknown                     0.003277\n",
       "Lawyer                      0.003014\n",
       "Doctor                      0.002946\n",
       "Entrepreneur                0.002909\n",
       "Mechanic                    0.002903\n",
       "Developer                   0.002896\n",
       "Engineer                    0.002878\n",
       "Journalist                  0.002833\n",
       "Teacher                     0.002821\n",
       "Media_Manager               0.002794\n",
       "Accountant                  0.002780\n",
       "Musician                    0.002777\n",
       "Manager                     0.002728\n",
       "Architect                   0.002724\n",
       "Writer                      0.002687"
      ]
     },
     "execution_count": 220,
     "metadata": {},
     "output_type": "execute_result"
    }
   ],
   "source": [
    "feature_importances_2 = feature_importances.loc[feature_importances.index.isin(X_train_2)].sort_values(by='Importance', ascending=False)\n",
    "feature_importances_2"
   ]
  },
  {
   "cell_type": "markdown",
   "id": "057baca4",
   "metadata": {},
   "source": [
    "# New model, trained without highly correlated columns"
   ]
  },
  {
   "cell_type": "code",
   "execution_count": 221,
   "id": "97ed2f3c",
   "metadata": {},
   "outputs": [
    {
     "data": {
      "text/html": [
       "<style>#sk-container-id-9 {color: black;background-color: white;}#sk-container-id-9 pre{padding: 0;}#sk-container-id-9 div.sk-toggleable {background-color: white;}#sk-container-id-9 label.sk-toggleable__label {cursor: pointer;display: block;width: 100%;margin-bottom: 0;padding: 0.3em;box-sizing: border-box;text-align: center;}#sk-container-id-9 label.sk-toggleable__label-arrow:before {content: \"▸\";float: left;margin-right: 0.25em;color: #696969;}#sk-container-id-9 label.sk-toggleable__label-arrow:hover:before {color: black;}#sk-container-id-9 div.sk-estimator:hover label.sk-toggleable__label-arrow:before {color: black;}#sk-container-id-9 div.sk-toggleable__content {max-height: 0;max-width: 0;overflow: hidden;text-align: left;background-color: #f0f8ff;}#sk-container-id-9 div.sk-toggleable__content pre {margin: 0.2em;color: black;border-radius: 0.25em;background-color: #f0f8ff;}#sk-container-id-9 input.sk-toggleable__control:checked~div.sk-toggleable__content {max-height: 200px;max-width: 100%;overflow: auto;}#sk-container-id-9 input.sk-toggleable__control:checked~label.sk-toggleable__label-arrow:before {content: \"▾\";}#sk-container-id-9 div.sk-estimator input.sk-toggleable__control:checked~label.sk-toggleable__label {background-color: #d4ebff;}#sk-container-id-9 div.sk-label input.sk-toggleable__control:checked~label.sk-toggleable__label {background-color: #d4ebff;}#sk-container-id-9 input.sk-hidden--visually {border: 0;clip: rect(1px 1px 1px 1px);clip: rect(1px, 1px, 1px, 1px);height: 1px;margin: -1px;overflow: hidden;padding: 0;position: absolute;width: 1px;}#sk-container-id-9 div.sk-estimator {font-family: monospace;background-color: #f0f8ff;border: 1px dotted black;border-radius: 0.25em;box-sizing: border-box;margin-bottom: 0.5em;}#sk-container-id-9 div.sk-estimator:hover {background-color: #d4ebff;}#sk-container-id-9 div.sk-parallel-item::after {content: \"\";width: 100%;border-bottom: 1px solid gray;flex-grow: 1;}#sk-container-id-9 div.sk-label:hover label.sk-toggleable__label {background-color: #d4ebff;}#sk-container-id-9 div.sk-serial::before {content: \"\";position: absolute;border-left: 1px solid gray;box-sizing: border-box;top: 0;bottom: 0;left: 50%;z-index: 0;}#sk-container-id-9 div.sk-serial {display: flex;flex-direction: column;align-items: center;background-color: white;padding-right: 0.2em;padding-left: 0.2em;position: relative;}#sk-container-id-9 div.sk-item {position: relative;z-index: 1;}#sk-container-id-9 div.sk-parallel {display: flex;align-items: stretch;justify-content: center;background-color: white;position: relative;}#sk-container-id-9 div.sk-item::before, #sk-container-id-9 div.sk-parallel-item::before {content: \"\";position: absolute;border-left: 1px solid gray;box-sizing: border-box;top: 0;bottom: 0;left: 50%;z-index: -1;}#sk-container-id-9 div.sk-parallel-item {display: flex;flex-direction: column;z-index: 1;position: relative;background-color: white;}#sk-container-id-9 div.sk-parallel-item:first-child::after {align-self: flex-end;width: 50%;}#sk-container-id-9 div.sk-parallel-item:last-child::after {align-self: flex-start;width: 50%;}#sk-container-id-9 div.sk-parallel-item:only-child::after {width: 0;}#sk-container-id-9 div.sk-dashed-wrapped {border: 1px dashed gray;margin: 0 0.4em 0.5em 0.4em;box-sizing: border-box;padding-bottom: 0.4em;background-color: white;}#sk-container-id-9 div.sk-label label {font-family: monospace;font-weight: bold;display: inline-block;line-height: 1.2em;}#sk-container-id-9 div.sk-label-container {text-align: center;}#sk-container-id-9 div.sk-container {/* jupyter's `normalize.less` sets `[hidden] { display: none; }` but bootstrap.min.css set `[hidden] { display: none !important; }` so we also need the `!important` here to be able to override the default hidden behavior on the sphinx rendered scikit-learn.org. See: https://github.com/scikit-learn/scikit-learn/issues/21755 */display: inline-block !important;position: relative;}#sk-container-id-9 div.sk-text-repr-fallback {display: none;}</style><div id=\"sk-container-id-9\" class=\"sk-top-container\"><div class=\"sk-text-repr-fallback\"><pre>RandomForestClassifier()</pre><b>In a Jupyter environment, please rerun this cell to show the HTML representation or trust the notebook. <br />On GitHub, the HTML representation is unable to render, please try loading this page with nbviewer.org.</b></div><div class=\"sk-container\" hidden><div class=\"sk-item\"><div class=\"sk-estimator sk-toggleable\"><input class=\"sk-toggleable__control sk-hidden--visually\" id=\"sk-estimator-id-33\" type=\"checkbox\" checked><label for=\"sk-estimator-id-33\" class=\"sk-toggleable__label sk-toggleable__label-arrow\">RandomForestClassifier</label><div class=\"sk-toggleable__content\"><pre>RandomForestClassifier()</pre></div></div></div></div></div>"
      ],
      "text/plain": [
       "RandomForestClassifier()"
      ]
     },
     "execution_count": 221,
     "metadata": {},
     "output_type": "execute_result"
    }
   ],
   "source": [
    "rf_model_2 = RandomForestClassifier(n_estimators=100)\n",
    "rf_model_2.fit(X_train_2, y_train)"
   ]
  },
  {
   "cell_type": "code",
   "execution_count": 222,
   "id": "f46a2f1b",
   "metadata": {},
   "outputs": [],
   "source": [
    "y_pred_2 = rf_model_2.predict(X_val_2)"
   ]
  },
  {
   "cell_type": "code",
   "execution_count": 223,
   "id": "a4e1c366",
   "metadata": {},
   "outputs": [
    {
     "name": "stdout",
     "output_type": "stream",
     "text": [
      "              precision    recall  f1-score   support\n",
      "\n",
      "           0       0.65      0.70      0.68      4418\n",
      "           1       0.73      0.74      0.73      8572\n",
      "           2       0.60      0.52      0.56      3010\n",
      "\n",
      "    accuracy                           0.69     16000\n",
      "   macro avg       0.66      0.65      0.66     16000\n",
      "weighted avg       0.68      0.69      0.68     16000\n",
      "\n"
     ]
    }
   ],
   "source": [
    "print(classification_report(y_pred_2, y_val))"
   ]
  },
  {
   "cell_type": "markdown",
   "id": "a5067d2b",
   "metadata": {},
   "source": [
    "# XGBoost attempt"
   ]
  },
  {
   "cell_type": "code",
   "execution_count": 224,
   "id": "f0af7bf2",
   "metadata": {},
   "outputs": [],
   "source": [
    "from sklearn.ensemble import GradientBoostingClassifier\n",
    "from sklearn.experimental import enable_hist_gradient_boosting\n",
    "from sklearn.ensemble import (\n",
    "    BaggingClassifier,\n",
    "    ExtraTreesClassifier,\n",
    "    RandomForestClassifier,\n",
    "    StackingClassifier,\n",
    "    HistGradientBoostingClassifier\n",
    ")\n",
    "from xgboost import XGBClassifier"
   ]
  },
  {
   "cell_type": "code",
   "execution_count": 225,
   "id": "c37fb9cf",
   "metadata": {
    "scrolled": true
   },
   "outputs": [
    {
     "data": {
      "text/html": [
       "<style>#sk-container-id-10 {color: black;background-color: white;}#sk-container-id-10 pre{padding: 0;}#sk-container-id-10 div.sk-toggleable {background-color: white;}#sk-container-id-10 label.sk-toggleable__label {cursor: pointer;display: block;width: 100%;margin-bottom: 0;padding: 0.3em;box-sizing: border-box;text-align: center;}#sk-container-id-10 label.sk-toggleable__label-arrow:before {content: \"▸\";float: left;margin-right: 0.25em;color: #696969;}#sk-container-id-10 label.sk-toggleable__label-arrow:hover:before {color: black;}#sk-container-id-10 div.sk-estimator:hover label.sk-toggleable__label-arrow:before {color: black;}#sk-container-id-10 div.sk-toggleable__content {max-height: 0;max-width: 0;overflow: hidden;text-align: left;background-color: #f0f8ff;}#sk-container-id-10 div.sk-toggleable__content pre {margin: 0.2em;color: black;border-radius: 0.25em;background-color: #f0f8ff;}#sk-container-id-10 input.sk-toggleable__control:checked~div.sk-toggleable__content {max-height: 200px;max-width: 100%;overflow: auto;}#sk-container-id-10 input.sk-toggleable__control:checked~label.sk-toggleable__label-arrow:before {content: \"▾\";}#sk-container-id-10 div.sk-estimator input.sk-toggleable__control:checked~label.sk-toggleable__label {background-color: #d4ebff;}#sk-container-id-10 div.sk-label input.sk-toggleable__control:checked~label.sk-toggleable__label {background-color: #d4ebff;}#sk-container-id-10 input.sk-hidden--visually {border: 0;clip: rect(1px 1px 1px 1px);clip: rect(1px, 1px, 1px, 1px);height: 1px;margin: -1px;overflow: hidden;padding: 0;position: absolute;width: 1px;}#sk-container-id-10 div.sk-estimator {font-family: monospace;background-color: #f0f8ff;border: 1px dotted black;border-radius: 0.25em;box-sizing: border-box;margin-bottom: 0.5em;}#sk-container-id-10 div.sk-estimator:hover {background-color: #d4ebff;}#sk-container-id-10 div.sk-parallel-item::after {content: \"\";width: 100%;border-bottom: 1px solid gray;flex-grow: 1;}#sk-container-id-10 div.sk-label:hover label.sk-toggleable__label {background-color: #d4ebff;}#sk-container-id-10 div.sk-serial::before {content: \"\";position: absolute;border-left: 1px solid gray;box-sizing: border-box;top: 0;bottom: 0;left: 50%;z-index: 0;}#sk-container-id-10 div.sk-serial {display: flex;flex-direction: column;align-items: center;background-color: white;padding-right: 0.2em;padding-left: 0.2em;position: relative;}#sk-container-id-10 div.sk-item {position: relative;z-index: 1;}#sk-container-id-10 div.sk-parallel {display: flex;align-items: stretch;justify-content: center;background-color: white;position: relative;}#sk-container-id-10 div.sk-item::before, #sk-container-id-10 div.sk-parallel-item::before {content: \"\";position: absolute;border-left: 1px solid gray;box-sizing: border-box;top: 0;bottom: 0;left: 50%;z-index: -1;}#sk-container-id-10 div.sk-parallel-item {display: flex;flex-direction: column;z-index: 1;position: relative;background-color: white;}#sk-container-id-10 div.sk-parallel-item:first-child::after {align-self: flex-end;width: 50%;}#sk-container-id-10 div.sk-parallel-item:last-child::after {align-self: flex-start;width: 50%;}#sk-container-id-10 div.sk-parallel-item:only-child::after {width: 0;}#sk-container-id-10 div.sk-dashed-wrapped {border: 1px dashed gray;margin: 0 0.4em 0.5em 0.4em;box-sizing: border-box;padding-bottom: 0.4em;background-color: white;}#sk-container-id-10 div.sk-label label {font-family: monospace;font-weight: bold;display: inline-block;line-height: 1.2em;}#sk-container-id-10 div.sk-label-container {text-align: center;}#sk-container-id-10 div.sk-container {/* jupyter's `normalize.less` sets `[hidden] { display: none; }` but bootstrap.min.css set `[hidden] { display: none !important; }` so we also need the `!important` here to be able to override the default hidden behavior on the sphinx rendered scikit-learn.org. See: https://github.com/scikit-learn/scikit-learn/issues/21755 */display: inline-block !important;position: relative;}#sk-container-id-10 div.sk-text-repr-fallback {display: none;}</style><div id=\"sk-container-id-10\" class=\"sk-top-container\"><div class=\"sk-text-repr-fallback\"><pre>GradientBoostingClassifier()</pre><b>In a Jupyter environment, please rerun this cell to show the HTML representation or trust the notebook. <br />On GitHub, the HTML representation is unable to render, please try loading this page with nbviewer.org.</b></div><div class=\"sk-container\" hidden><div class=\"sk-item\"><div class=\"sk-estimator sk-toggleable\"><input class=\"sk-toggleable__control sk-hidden--visually\" id=\"sk-estimator-id-34\" type=\"checkbox\" checked><label for=\"sk-estimator-id-34\" class=\"sk-toggleable__label sk-toggleable__label-arrow\">GradientBoostingClassifier</label><div class=\"sk-toggleable__content\"><pre>GradientBoostingClassifier()</pre></div></div></div></div></div>"
      ],
      "text/plain": [
       "GradientBoostingClassifier()"
      ]
     },
     "execution_count": 225,
     "metadata": {},
     "output_type": "execute_result"
    }
   ],
   "source": [
    "gbc_model= GradientBoostingClassifier()\n",
    "gbc_model.fit(X_train, y_train)"
   ]
  },
  {
   "cell_type": "code",
   "execution_count": 226,
   "id": "5efad3e8",
   "metadata": {},
   "outputs": [],
   "source": [
    "y_pred_xgboost = gbc_model.predict(X_val)"
   ]
  },
  {
   "cell_type": "code",
   "execution_count": 227,
   "id": "2b2dfadb",
   "metadata": {},
   "outputs": [
    {
     "name": "stdout",
     "output_type": "stream",
     "text": [
      "              precision    recall  f1-score   support\n",
      "\n",
      "           0       0.66      0.71      0.68      4351\n",
      "           1       0.73      0.75      0.74      8427\n",
      "           2       0.66      0.54      0.59      3222\n",
      "\n",
      "    accuracy                           0.70     16000\n",
      "   macro avg       0.68      0.66      0.67     16000\n",
      "weighted avg       0.69      0.70      0.69     16000\n",
      "\n"
     ]
    }
   ],
   "source": [
    "print(classification_report(y_pred_xgboost, y_val))"
   ]
  },
  {
   "cell_type": "markdown",
   "id": "fe020c59",
   "metadata": {},
   "source": [
    "# Stacked Classifier"
   ]
  },
  {
   "cell_type": "code",
   "execution_count": 228,
   "id": "2fdb97be",
   "metadata": {},
   "outputs": [],
   "source": [
    "bagging = BaggingClassifier(n_jobs=-1)\n",
    "extraTrees = ExtraTreesClassifier(max_depth=10, n_jobs=-1)\n",
    "randomForest = RandomForestClassifier(n_jobs=-1)\n",
    "histGradientBoosting = HistGradientBoostingClassifier()\n",
    "XGB = XGBClassifier(n_jobs=-1)\n",
    "\n",
    "model = StackingClassifier([\n",
    "    ('bagging', bagging),\n",
    "    ('extraTress', extraTrees),\n",
    "    ('randomforest', randomForest),\n",
    "    ('histGradientBoosting', histGradientBoosting),\n",
    "    ('XGB', XGB)\n",
    "], n_jobs=-1)"
   ]
  },
  {
   "cell_type": "code",
   "execution_count": 229,
   "id": "5b9c0bed",
   "metadata": {},
   "outputs": [
    {
     "data": {
      "text/html": [
       "<style>#sk-container-id-11 {color: black;background-color: white;}#sk-container-id-11 pre{padding: 0;}#sk-container-id-11 div.sk-toggleable {background-color: white;}#sk-container-id-11 label.sk-toggleable__label {cursor: pointer;display: block;width: 100%;margin-bottom: 0;padding: 0.3em;box-sizing: border-box;text-align: center;}#sk-container-id-11 label.sk-toggleable__label-arrow:before {content: \"▸\";float: left;margin-right: 0.25em;color: #696969;}#sk-container-id-11 label.sk-toggleable__label-arrow:hover:before {color: black;}#sk-container-id-11 div.sk-estimator:hover label.sk-toggleable__label-arrow:before {color: black;}#sk-container-id-11 div.sk-toggleable__content {max-height: 0;max-width: 0;overflow: hidden;text-align: left;background-color: #f0f8ff;}#sk-container-id-11 div.sk-toggleable__content pre {margin: 0.2em;color: black;border-radius: 0.25em;background-color: #f0f8ff;}#sk-container-id-11 input.sk-toggleable__control:checked~div.sk-toggleable__content {max-height: 200px;max-width: 100%;overflow: auto;}#sk-container-id-11 input.sk-toggleable__control:checked~label.sk-toggleable__label-arrow:before {content: \"▾\";}#sk-container-id-11 div.sk-estimator input.sk-toggleable__control:checked~label.sk-toggleable__label {background-color: #d4ebff;}#sk-container-id-11 div.sk-label input.sk-toggleable__control:checked~label.sk-toggleable__label {background-color: #d4ebff;}#sk-container-id-11 input.sk-hidden--visually {border: 0;clip: rect(1px 1px 1px 1px);clip: rect(1px, 1px, 1px, 1px);height: 1px;margin: -1px;overflow: hidden;padding: 0;position: absolute;width: 1px;}#sk-container-id-11 div.sk-estimator {font-family: monospace;background-color: #f0f8ff;border: 1px dotted black;border-radius: 0.25em;box-sizing: border-box;margin-bottom: 0.5em;}#sk-container-id-11 div.sk-estimator:hover {background-color: #d4ebff;}#sk-container-id-11 div.sk-parallel-item::after {content: \"\";width: 100%;border-bottom: 1px solid gray;flex-grow: 1;}#sk-container-id-11 div.sk-label:hover label.sk-toggleable__label {background-color: #d4ebff;}#sk-container-id-11 div.sk-serial::before {content: \"\";position: absolute;border-left: 1px solid gray;box-sizing: border-box;top: 0;bottom: 0;left: 50%;z-index: 0;}#sk-container-id-11 div.sk-serial {display: flex;flex-direction: column;align-items: center;background-color: white;padding-right: 0.2em;padding-left: 0.2em;position: relative;}#sk-container-id-11 div.sk-item {position: relative;z-index: 1;}#sk-container-id-11 div.sk-parallel {display: flex;align-items: stretch;justify-content: center;background-color: white;position: relative;}#sk-container-id-11 div.sk-item::before, #sk-container-id-11 div.sk-parallel-item::before {content: \"\";position: absolute;border-left: 1px solid gray;box-sizing: border-box;top: 0;bottom: 0;left: 50%;z-index: -1;}#sk-container-id-11 div.sk-parallel-item {display: flex;flex-direction: column;z-index: 1;position: relative;background-color: white;}#sk-container-id-11 div.sk-parallel-item:first-child::after {align-self: flex-end;width: 50%;}#sk-container-id-11 div.sk-parallel-item:last-child::after {align-self: flex-start;width: 50%;}#sk-container-id-11 div.sk-parallel-item:only-child::after {width: 0;}#sk-container-id-11 div.sk-dashed-wrapped {border: 1px dashed gray;margin: 0 0.4em 0.5em 0.4em;box-sizing: border-box;padding-bottom: 0.4em;background-color: white;}#sk-container-id-11 div.sk-label label {font-family: monospace;font-weight: bold;display: inline-block;line-height: 1.2em;}#sk-container-id-11 div.sk-label-container {text-align: center;}#sk-container-id-11 div.sk-container {/* jupyter's `normalize.less` sets `[hidden] { display: none; }` but bootstrap.min.css set `[hidden] { display: none !important; }` so we also need the `!important` here to be able to override the default hidden behavior on the sphinx rendered scikit-learn.org. See: https://github.com/scikit-learn/scikit-learn/issues/21755 */display: inline-block !important;position: relative;}#sk-container-id-11 div.sk-text-repr-fallback {display: none;}</style><div id=\"sk-container-id-11\" class=\"sk-top-container\"><div class=\"sk-text-repr-fallback\"><pre>StackingClassifier(estimators=[(&#x27;bagging&#x27;, BaggingClassifier(n_jobs=-1)),\n",
       "                               (&#x27;extraTress&#x27;,\n",
       "                                ExtraTreesClassifier(max_depth=10, n_jobs=-1)),\n",
       "                               (&#x27;randomforest&#x27;,\n",
       "                                RandomForestClassifier(n_jobs=-1)),\n",
       "                               (&#x27;histGradientBoosting&#x27;,\n",
       "                                HistGradientBoostingClassifier()),\n",
       "                               (&#x27;XGB&#x27;,\n",
       "                                XGBClassifier(base_score=None, booster=None,\n",
       "                                              callbacks=None,\n",
       "                                              colsample_bylevel=None,\n",
       "                                              colsample_bynode=None...\n",
       "                                              gpu_id=None, grow_policy=None,\n",
       "                                              importance_type=None,\n",
       "                                              interaction_constraints=None,\n",
       "                                              learning_rate=None, max_bin=None,\n",
       "                                              max_cat_threshold=None,\n",
       "                                              max_cat_to_onehot=None,\n",
       "                                              max_delta_step=None,\n",
       "                                              max_depth=None, max_leaves=None,\n",
       "                                              min_child_weight=None,\n",
       "                                              missing=nan,\n",
       "                                              monotone_constraints=None,\n",
       "                                              n_estimators=100, n_jobs=-1,\n",
       "                                              num_parallel_tree=None,\n",
       "                                              predictor=None, random_state=None, ...))],\n",
       "                   n_jobs=-1)</pre><b>In a Jupyter environment, please rerun this cell to show the HTML representation or trust the notebook. <br />On GitHub, the HTML representation is unable to render, please try loading this page with nbviewer.org.</b></div><div class=\"sk-container\" hidden><div class=\"sk-item sk-dashed-wrapped\"><div class=\"sk-label-container\"><div class=\"sk-label sk-toggleable\"><input class=\"sk-toggleable__control sk-hidden--visually\" id=\"sk-estimator-id-35\" type=\"checkbox\" ><label for=\"sk-estimator-id-35\" class=\"sk-toggleable__label sk-toggleable__label-arrow\">StackingClassifier</label><div class=\"sk-toggleable__content\"><pre>StackingClassifier(estimators=[(&#x27;bagging&#x27;, BaggingClassifier(n_jobs=-1)),\n",
       "                               (&#x27;extraTress&#x27;,\n",
       "                                ExtraTreesClassifier(max_depth=10, n_jobs=-1)),\n",
       "                               (&#x27;randomforest&#x27;,\n",
       "                                RandomForestClassifier(n_jobs=-1)),\n",
       "                               (&#x27;histGradientBoosting&#x27;,\n",
       "                                HistGradientBoostingClassifier()),\n",
       "                               (&#x27;XGB&#x27;,\n",
       "                                XGBClassifier(base_score=None, booster=None,\n",
       "                                              callbacks=None,\n",
       "                                              colsample_bylevel=None,\n",
       "                                              colsample_bynode=None...\n",
       "                                              gpu_id=None, grow_policy=None,\n",
       "                                              importance_type=None,\n",
       "                                              interaction_constraints=None,\n",
       "                                              learning_rate=None, max_bin=None,\n",
       "                                              max_cat_threshold=None,\n",
       "                                              max_cat_to_onehot=None,\n",
       "                                              max_delta_step=None,\n",
       "                                              max_depth=None, max_leaves=None,\n",
       "                                              min_child_weight=None,\n",
       "                                              missing=nan,\n",
       "                                              monotone_constraints=None,\n",
       "                                              n_estimators=100, n_jobs=-1,\n",
       "                                              num_parallel_tree=None,\n",
       "                                              predictor=None, random_state=None, ...))],\n",
       "                   n_jobs=-1)</pre></div></div></div><div class=\"sk-serial\"><div class=\"sk-item\"><div class=\"sk-parallel\"><div class=\"sk-parallel-item\"><div class=\"sk-item\"><div class=\"sk-label-container\"><div class=\"sk-label sk-toggleable\"><label>bagging</label></div></div><div class=\"sk-serial\"><div class=\"sk-item\"><div class=\"sk-estimator sk-toggleable\"><input class=\"sk-toggleable__control sk-hidden--visually\" id=\"sk-estimator-id-36\" type=\"checkbox\" ><label for=\"sk-estimator-id-36\" class=\"sk-toggleable__label sk-toggleable__label-arrow\">BaggingClassifier</label><div class=\"sk-toggleable__content\"><pre>BaggingClassifier(n_jobs=-1)</pre></div></div></div></div></div></div><div class=\"sk-parallel-item\"><div class=\"sk-item\"><div class=\"sk-label-container\"><div class=\"sk-label sk-toggleable\"><label>extraTress</label></div></div><div class=\"sk-serial\"><div class=\"sk-item\"><div class=\"sk-estimator sk-toggleable\"><input class=\"sk-toggleable__control sk-hidden--visually\" id=\"sk-estimator-id-37\" type=\"checkbox\" ><label for=\"sk-estimator-id-37\" class=\"sk-toggleable__label sk-toggleable__label-arrow\">ExtraTreesClassifier</label><div class=\"sk-toggleable__content\"><pre>ExtraTreesClassifier(max_depth=10, n_jobs=-1)</pre></div></div></div></div></div></div><div class=\"sk-parallel-item\"><div class=\"sk-item\"><div class=\"sk-label-container\"><div class=\"sk-label sk-toggleable\"><label>randomforest</label></div></div><div class=\"sk-serial\"><div class=\"sk-item\"><div class=\"sk-estimator sk-toggleable\"><input class=\"sk-toggleable__control sk-hidden--visually\" id=\"sk-estimator-id-38\" type=\"checkbox\" ><label for=\"sk-estimator-id-38\" class=\"sk-toggleable__label sk-toggleable__label-arrow\">RandomForestClassifier</label><div class=\"sk-toggleable__content\"><pre>RandomForestClassifier(n_jobs=-1)</pre></div></div></div></div></div></div><div class=\"sk-parallel-item\"><div class=\"sk-item\"><div class=\"sk-label-container\"><div class=\"sk-label sk-toggleable\"><label>histGradientBoosting</label></div></div><div class=\"sk-serial\"><div class=\"sk-item\"><div class=\"sk-estimator sk-toggleable\"><input class=\"sk-toggleable__control sk-hidden--visually\" id=\"sk-estimator-id-39\" type=\"checkbox\" ><label for=\"sk-estimator-id-39\" class=\"sk-toggleable__label sk-toggleable__label-arrow\">HistGradientBoostingClassifier</label><div class=\"sk-toggleable__content\"><pre>HistGradientBoostingClassifier()</pre></div></div></div></div></div></div><div class=\"sk-parallel-item\"><div class=\"sk-item\"><div class=\"sk-label-container\"><div class=\"sk-label sk-toggleable\"><label>XGB</label></div></div><div class=\"sk-serial\"><div class=\"sk-item\"><div class=\"sk-estimator sk-toggleable\"><input class=\"sk-toggleable__control sk-hidden--visually\" id=\"sk-estimator-id-40\" type=\"checkbox\" ><label for=\"sk-estimator-id-40\" class=\"sk-toggleable__label sk-toggleable__label-arrow\">XGBClassifier</label><div class=\"sk-toggleable__content\"><pre>XGBClassifier(base_score=None, booster=None, callbacks=None,\n",
       "              colsample_bylevel=None, colsample_bynode=None,\n",
       "              colsample_bytree=None, early_stopping_rounds=None,\n",
       "              enable_categorical=False, eval_metric=None, feature_types=None,\n",
       "              gamma=None, gpu_id=None, grow_policy=None, importance_type=None,\n",
       "              interaction_constraints=None, learning_rate=None, max_bin=None,\n",
       "              max_cat_threshold=None, max_cat_to_onehot=None,\n",
       "              max_delta_step=None, max_depth=None, max_leaves=None,\n",
       "              min_child_weight=None, missing=nan, monotone_constraints=None,\n",
       "              n_estimators=100, n_jobs=-1, num_parallel_tree=None,\n",
       "              predictor=None, random_state=None, ...)</pre></div></div></div></div></div></div></div></div><div class=\"sk-item\"><div class=\"sk-parallel\"><div class=\"sk-parallel-item\"><div class=\"sk-item\"><div class=\"sk-label-container\"><div class=\"sk-label sk-toggleable\"><label>final_estimator</label></div></div><div class=\"sk-serial\"><div class=\"sk-item\"><div class=\"sk-estimator sk-toggleable\"><input class=\"sk-toggleable__control sk-hidden--visually\" id=\"sk-estimator-id-41\" type=\"checkbox\" ><label for=\"sk-estimator-id-41\" class=\"sk-toggleable__label sk-toggleable__label-arrow\">LogisticRegression</label><div class=\"sk-toggleable__content\"><pre>LogisticRegression()</pre></div></div></div></div></div></div></div></div></div></div></div></div>"
      ],
      "text/plain": [
       "StackingClassifier(estimators=[('bagging', BaggingClassifier(n_jobs=-1)),\n",
       "                               ('extraTress',\n",
       "                                ExtraTreesClassifier(max_depth=10, n_jobs=-1)),\n",
       "                               ('randomforest',\n",
       "                                RandomForestClassifier(n_jobs=-1)),\n",
       "                               ('histGradientBoosting',\n",
       "                                HistGradientBoostingClassifier()),\n",
       "                               ('XGB',\n",
       "                                XGBClassifier(base_score=None, booster=None,\n",
       "                                              callbacks=None,\n",
       "                                              colsample_bylevel=None,\n",
       "                                              colsample_bynode=None...\n",
       "                                              gpu_id=None, grow_policy=None,\n",
       "                                              importance_type=None,\n",
       "                                              interaction_constraints=None,\n",
       "                                              learning_rate=None, max_bin=None,\n",
       "                                              max_cat_threshold=None,\n",
       "                                              max_cat_to_onehot=None,\n",
       "                                              max_delta_step=None,\n",
       "                                              max_depth=None, max_leaves=None,\n",
       "                                              min_child_weight=None,\n",
       "                                              missing=nan,\n",
       "                                              monotone_constraints=None,\n",
       "                                              n_estimators=100, n_jobs=-1,\n",
       "                                              num_parallel_tree=None,\n",
       "                                              predictor=None, random_state=None, ...))],\n",
       "                   n_jobs=-1)"
      ]
     },
     "execution_count": 229,
     "metadata": {},
     "output_type": "execute_result"
    }
   ],
   "source": [
    "model.fit(X_train, y_train)"
   ]
  },
  {
   "cell_type": "code",
   "execution_count": 230,
   "id": "e7acd372",
   "metadata": {},
   "outputs": [
    {
     "name": "stdout",
     "output_type": "stream",
     "text": [
      "              precision    recall  f1-score   support\n",
      "\n",
      "           0       0.65      0.72      0.68      4240\n",
      "           1       0.75      0.73      0.74      8860\n",
      "           2       0.61      0.55      0.58      2900\n",
      "\n",
      "    accuracy                           0.70     16000\n",
      "   macro avg       0.67      0.67      0.67     16000\n",
      "weighted avg       0.70      0.70      0.70     16000\n",
      "\n"
     ]
    }
   ],
   "source": [
    "y_pred = model.predict(X_val)\n",
    "print(classification_report(y_pred,y_val))"
   ]
  },
  {
   "cell_type": "markdown",
   "id": "36b4971f",
   "metadata": {},
   "source": [
    "# Attempt to drop irrelevant features with SelectKBest "
   ]
  },
  {
   "cell_type": "code",
   "execution_count": 231,
   "id": "c0f55a98",
   "metadata": {},
   "outputs": [],
   "source": [
    "from sklearn.feature_selection import SelectKBest\n",
    "#from sklearn.feature_selection import chi2"
   ]
  },
  {
   "cell_type": "code",
   "execution_count": 232,
   "id": "f2b4da5f",
   "metadata": {},
   "outputs": [],
   "source": [
    "bestfeatures = SelectKBest(k=10)"
   ]
  },
  {
   "cell_type": "code",
   "execution_count": 233,
   "id": "cc67fafa",
   "metadata": {},
   "outputs": [],
   "source": [
    "fit = bestfeatures.fit(X_train,y_train)"
   ]
  },
  {
   "cell_type": "code",
   "execution_count": 234,
   "id": "a0a9dfc1",
   "metadata": {},
   "outputs": [
    {
     "data": {
      "text/plain": [
       "array([4.78381071e+00, 4.00107511e+01, 8.49721330e+02, 1.33840612e+03,\n",
       "       1.49516193e+03, 5.00194713e+03, 5.98143338e+03, 9.25898486e+03,\n",
       "       3.72131677e+03, 7.25459533e+03, 5.51425243e+03, 1.74620115e+03,\n",
       "       7.06616872e+03, 1.14521115e+04, 5.61755859e+03, 6.60751011e+01,\n",
       "       5.64908739e+03, 9.10897385e+03, 6.27194860e+01, 8.30285366e+02,\n",
       "       1.39416227e+03, 2.87501667e+02, 2.86493339e+02, 5.91010078e+02,\n",
       "       6.22699993e+02, 5.99176798e+02, 6.00616462e+02, 7.37530145e+02,\n",
       "       6.18279951e+02, 6.14347072e+02, 5.37599583e+02, 3.67357075e+00,\n",
       "       1.93172232e+00, 3.55413317e+00, 2.71446480e-01, 1.49388953e+01,\n",
       "       4.30350174e-01, 7.72380350e+00, 2.77792301e+00, 4.36311000e-01,\n",
       "       2.89439655e+00, 3.02378608e+00, 9.76627923e-02, 4.92649303e+00,\n",
       "       2.00724211e+00, 3.41780464e-01, 2.91126886e+01])"
      ]
     },
     "execution_count": 234,
     "metadata": {},
     "output_type": "execute_result"
    }
   ],
   "source": [
    "fit.scores_"
   ]
  },
  {
   "cell_type": "code",
   "execution_count": 235,
   "id": "df799b9e",
   "metadata": {},
   "outputs": [],
   "source": [
    "featureScores = pd.DataFrame(fit.scores_, X_train.columns,  columns=['Importance_Score'])\n",
    "featureScores = featureScores.sort_values(by='Importance_Score', ascending=False).head(20)"
   ]
  },
  {
   "cell_type": "code",
   "execution_count": 236,
   "id": "fea81207",
   "metadata": {},
   "outputs": [
    {
     "data": {
      "text/html": [
       "<div>\n",
       "<style scoped>\n",
       "    .dataframe tbody tr th:only-of-type {\n",
       "        vertical-align: middle;\n",
       "    }\n",
       "\n",
       "    .dataframe tbody tr th {\n",
       "        vertical-align: top;\n",
       "    }\n",
       "\n",
       "    .dataframe thead th {\n",
       "        text-align: right;\n",
       "    }\n",
       "</style>\n",
       "<table border=\"1\" class=\"dataframe\">\n",
       "  <thead>\n",
       "    <tr style=\"text-align: right;\">\n",
       "      <th></th>\n",
       "      <th>Importance_Score</th>\n",
       "    </tr>\n",
       "  </thead>\n",
       "  <tbody>\n",
       "    <tr>\n",
       "      <th>Credit_Mix</th>\n",
       "      <td>11452.111478</td>\n",
       "    </tr>\n",
       "    <tr>\n",
       "      <th>Interest_Rate</th>\n",
       "      <td>9258.984865</td>\n",
       "    </tr>\n",
       "    <tr>\n",
       "      <th>Payment_of_Min_Amount</th>\n",
       "      <td>9108.973853</td>\n",
       "    </tr>\n",
       "    <tr>\n",
       "      <th>Delay_from_due_date</th>\n",
       "      <td>7254.595331</td>\n",
       "    </tr>\n",
       "    <tr>\n",
       "      <th>Num_Credit_Inquiries</th>\n",
       "      <td>7066.168720</td>\n",
       "    </tr>\n",
       "    <tr>\n",
       "      <th>Num_Credit_Card</th>\n",
       "      <td>5981.433376</td>\n",
       "    </tr>\n",
       "    <tr>\n",
       "      <th>Credit_History_Age</th>\n",
       "      <td>5649.087390</td>\n",
       "    </tr>\n",
       "    <tr>\n",
       "      <th>Outstanding_Debt</th>\n",
       "      <td>5617.558586</td>\n",
       "    </tr>\n",
       "    <tr>\n",
       "      <th>Num_of_Delayed_Payment</th>\n",
       "      <td>5514.252428</td>\n",
       "    </tr>\n",
       "    <tr>\n",
       "      <th>Num_Bank_Accounts</th>\n",
       "      <td>5001.947129</td>\n",
       "    </tr>\n",
       "    <tr>\n",
       "      <th>Num_of_Loan</th>\n",
       "      <td>3721.316772</td>\n",
       "    </tr>\n",
       "    <tr>\n",
       "      <th>Changed_Credit_Limit</th>\n",
       "      <td>1746.201153</td>\n",
       "    </tr>\n",
       "    <tr>\n",
       "      <th>Monthly_Inhand_Salary</th>\n",
       "      <td>1495.161934</td>\n",
       "    </tr>\n",
       "    <tr>\n",
       "      <th>Monthly_Balance</th>\n",
       "      <td>1394.162270</td>\n",
       "    </tr>\n",
       "    <tr>\n",
       "      <th>Annual_Income</th>\n",
       "      <td>1338.406116</td>\n",
       "    </tr>\n",
       "    <tr>\n",
       "      <th>Age</th>\n",
       "      <td>849.721330</td>\n",
       "    </tr>\n",
       "    <tr>\n",
       "      <th>Amount_invested_monthly</th>\n",
       "      <td>830.285366</td>\n",
       "    </tr>\n",
       "    <tr>\n",
       "      <th>Auto Loan</th>\n",
       "      <td>737.530145</td>\n",
       "    </tr>\n",
       "    <tr>\n",
       "      <th>Credit-Builder Loan</th>\n",
       "      <td>622.699993</td>\n",
       "    </tr>\n",
       "    <tr>\n",
       "      <th>Mortgage Loan</th>\n",
       "      <td>618.279951</td>\n",
       "    </tr>\n",
       "  </tbody>\n",
       "</table>\n",
       "</div>"
      ],
      "text/plain": [
       "                         Importance_Score\n",
       "Credit_Mix                   11452.111478\n",
       "Interest_Rate                 9258.984865\n",
       "Payment_of_Min_Amount         9108.973853\n",
       "Delay_from_due_date           7254.595331\n",
       "Num_Credit_Inquiries          7066.168720\n",
       "Num_Credit_Card               5981.433376\n",
       "Credit_History_Age            5649.087390\n",
       "Outstanding_Debt              5617.558586\n",
       "Num_of_Delayed_Payment        5514.252428\n",
       "Num_Bank_Accounts             5001.947129\n",
       "Num_of_Loan                   3721.316772\n",
       "Changed_Credit_Limit          1746.201153\n",
       "Monthly_Inhand_Salary         1495.161934\n",
       "Monthly_Balance               1394.162270\n",
       "Annual_Income                 1338.406116\n",
       "Age                            849.721330\n",
       "Amount_invested_monthly        830.285366\n",
       "Auto Loan                      737.530145\n",
       "Credit-Builder Loan            622.699993\n",
       "Mortgage Loan                  618.279951"
      ]
     },
     "execution_count": 236,
     "metadata": {},
     "output_type": "execute_result"
    }
   ],
   "source": [
    "featureScores"
   ]
  },
  {
   "cell_type": "markdown",
   "id": "37451be9",
   "metadata": {},
   "source": [
    "# New model without features with less importance"
   ]
  },
  {
   "cell_type": "code",
   "execution_count": 237,
   "id": "eb604af4",
   "metadata": {},
   "outputs": [],
   "source": [
    "X_train_3 = X_train[featureScores.index]\n",
    "X_val_3 = X_val[featureScores.index]"
   ]
  },
  {
   "cell_type": "code",
   "execution_count": 238,
   "id": "5c1c7412",
   "metadata": {},
   "outputs": [
    {
     "name": "stderr",
     "output_type": "stream",
     "text": [
      "C:\\Users\\Aleks\\AppData\\Roaming\\Python\\Python310\\site-packages\\sklearn\\linear_model\\_logistic.py:458: ConvergenceWarning: lbfgs failed to converge (status=1):\n",
      "STOP: TOTAL NO. of ITERATIONS REACHED LIMIT.\n",
      "\n",
      "Increase the number of iterations (max_iter) or scale the data as shown in:\n",
      "    https://scikit-learn.org/stable/modules/preprocessing.html\n",
      "Please also refer to the documentation for alternative solver options:\n",
      "    https://scikit-learn.org/stable/modules/linear_model.html#logistic-regression\n",
      "  n_iter_i = _check_optimize_result(\n"
     ]
    },
    {
     "data": {
      "text/html": [
       "<style>#sk-container-id-12 {color: black;background-color: white;}#sk-container-id-12 pre{padding: 0;}#sk-container-id-12 div.sk-toggleable {background-color: white;}#sk-container-id-12 label.sk-toggleable__label {cursor: pointer;display: block;width: 100%;margin-bottom: 0;padding: 0.3em;box-sizing: border-box;text-align: center;}#sk-container-id-12 label.sk-toggleable__label-arrow:before {content: \"▸\";float: left;margin-right: 0.25em;color: #696969;}#sk-container-id-12 label.sk-toggleable__label-arrow:hover:before {color: black;}#sk-container-id-12 div.sk-estimator:hover label.sk-toggleable__label-arrow:before {color: black;}#sk-container-id-12 div.sk-toggleable__content {max-height: 0;max-width: 0;overflow: hidden;text-align: left;background-color: #f0f8ff;}#sk-container-id-12 div.sk-toggleable__content pre {margin: 0.2em;color: black;border-radius: 0.25em;background-color: #f0f8ff;}#sk-container-id-12 input.sk-toggleable__control:checked~div.sk-toggleable__content {max-height: 200px;max-width: 100%;overflow: auto;}#sk-container-id-12 input.sk-toggleable__control:checked~label.sk-toggleable__label-arrow:before {content: \"▾\";}#sk-container-id-12 div.sk-estimator input.sk-toggleable__control:checked~label.sk-toggleable__label {background-color: #d4ebff;}#sk-container-id-12 div.sk-label input.sk-toggleable__control:checked~label.sk-toggleable__label {background-color: #d4ebff;}#sk-container-id-12 input.sk-hidden--visually {border: 0;clip: rect(1px 1px 1px 1px);clip: rect(1px, 1px, 1px, 1px);height: 1px;margin: -1px;overflow: hidden;padding: 0;position: absolute;width: 1px;}#sk-container-id-12 div.sk-estimator {font-family: monospace;background-color: #f0f8ff;border: 1px dotted black;border-radius: 0.25em;box-sizing: border-box;margin-bottom: 0.5em;}#sk-container-id-12 div.sk-estimator:hover {background-color: #d4ebff;}#sk-container-id-12 div.sk-parallel-item::after {content: \"\";width: 100%;border-bottom: 1px solid gray;flex-grow: 1;}#sk-container-id-12 div.sk-label:hover label.sk-toggleable__label {background-color: #d4ebff;}#sk-container-id-12 div.sk-serial::before {content: \"\";position: absolute;border-left: 1px solid gray;box-sizing: border-box;top: 0;bottom: 0;left: 50%;z-index: 0;}#sk-container-id-12 div.sk-serial {display: flex;flex-direction: column;align-items: center;background-color: white;padding-right: 0.2em;padding-left: 0.2em;position: relative;}#sk-container-id-12 div.sk-item {position: relative;z-index: 1;}#sk-container-id-12 div.sk-parallel {display: flex;align-items: stretch;justify-content: center;background-color: white;position: relative;}#sk-container-id-12 div.sk-item::before, #sk-container-id-12 div.sk-parallel-item::before {content: \"\";position: absolute;border-left: 1px solid gray;box-sizing: border-box;top: 0;bottom: 0;left: 50%;z-index: -1;}#sk-container-id-12 div.sk-parallel-item {display: flex;flex-direction: column;z-index: 1;position: relative;background-color: white;}#sk-container-id-12 div.sk-parallel-item:first-child::after {align-self: flex-end;width: 50%;}#sk-container-id-12 div.sk-parallel-item:last-child::after {align-self: flex-start;width: 50%;}#sk-container-id-12 div.sk-parallel-item:only-child::after {width: 0;}#sk-container-id-12 div.sk-dashed-wrapped {border: 1px dashed gray;margin: 0 0.4em 0.5em 0.4em;box-sizing: border-box;padding-bottom: 0.4em;background-color: white;}#sk-container-id-12 div.sk-label label {font-family: monospace;font-weight: bold;display: inline-block;line-height: 1.2em;}#sk-container-id-12 div.sk-label-container {text-align: center;}#sk-container-id-12 div.sk-container {/* jupyter's `normalize.less` sets `[hidden] { display: none; }` but bootstrap.min.css set `[hidden] { display: none !important; }` so we also need the `!important` here to be able to override the default hidden behavior on the sphinx rendered scikit-learn.org. See: https://github.com/scikit-learn/scikit-learn/issues/21755 */display: inline-block !important;position: relative;}#sk-container-id-12 div.sk-text-repr-fallback {display: none;}</style><div id=\"sk-container-id-12\" class=\"sk-top-container\"><div class=\"sk-text-repr-fallback\"><pre>StackingClassifier(estimators=[(&#x27;bagging&#x27;, BaggingClassifier(n_jobs=-1)),\n",
       "                               (&#x27;extraTress&#x27;,\n",
       "                                ExtraTreesClassifier(max_depth=10, n_jobs=-1)),\n",
       "                               (&#x27;randomforest&#x27;,\n",
       "                                RandomForestClassifier(n_jobs=-1)),\n",
       "                               (&#x27;histGradientBoosting&#x27;,\n",
       "                                HistGradientBoostingClassifier()),\n",
       "                               (&#x27;XGB&#x27;,\n",
       "                                XGBClassifier(base_score=None, booster=None,\n",
       "                                              callbacks=None,\n",
       "                                              colsample_bylevel=None,\n",
       "                                              colsample_bynode=None...\n",
       "                                              gpu_id=None, grow_policy=None,\n",
       "                                              importance_type=None,\n",
       "                                              interaction_constraints=None,\n",
       "                                              learning_rate=None, max_bin=None,\n",
       "                                              max_cat_threshold=None,\n",
       "                                              max_cat_to_onehot=None,\n",
       "                                              max_delta_step=None,\n",
       "                                              max_depth=None, max_leaves=None,\n",
       "                                              min_child_weight=None,\n",
       "                                              missing=nan,\n",
       "                                              monotone_constraints=None,\n",
       "                                              n_estimators=100, n_jobs=-1,\n",
       "                                              num_parallel_tree=None,\n",
       "                                              predictor=None, random_state=None, ...))],\n",
       "                   n_jobs=-1)</pre><b>In a Jupyter environment, please rerun this cell to show the HTML representation or trust the notebook. <br />On GitHub, the HTML representation is unable to render, please try loading this page with nbviewer.org.</b></div><div class=\"sk-container\" hidden><div class=\"sk-item sk-dashed-wrapped\"><div class=\"sk-label-container\"><div class=\"sk-label sk-toggleable\"><input class=\"sk-toggleable__control sk-hidden--visually\" id=\"sk-estimator-id-42\" type=\"checkbox\" ><label for=\"sk-estimator-id-42\" class=\"sk-toggleable__label sk-toggleable__label-arrow\">StackingClassifier</label><div class=\"sk-toggleable__content\"><pre>StackingClassifier(estimators=[(&#x27;bagging&#x27;, BaggingClassifier(n_jobs=-1)),\n",
       "                               (&#x27;extraTress&#x27;,\n",
       "                                ExtraTreesClassifier(max_depth=10, n_jobs=-1)),\n",
       "                               (&#x27;randomforest&#x27;,\n",
       "                                RandomForestClassifier(n_jobs=-1)),\n",
       "                               (&#x27;histGradientBoosting&#x27;,\n",
       "                                HistGradientBoostingClassifier()),\n",
       "                               (&#x27;XGB&#x27;,\n",
       "                                XGBClassifier(base_score=None, booster=None,\n",
       "                                              callbacks=None,\n",
       "                                              colsample_bylevel=None,\n",
       "                                              colsample_bynode=None...\n",
       "                                              gpu_id=None, grow_policy=None,\n",
       "                                              importance_type=None,\n",
       "                                              interaction_constraints=None,\n",
       "                                              learning_rate=None, max_bin=None,\n",
       "                                              max_cat_threshold=None,\n",
       "                                              max_cat_to_onehot=None,\n",
       "                                              max_delta_step=None,\n",
       "                                              max_depth=None, max_leaves=None,\n",
       "                                              min_child_weight=None,\n",
       "                                              missing=nan,\n",
       "                                              monotone_constraints=None,\n",
       "                                              n_estimators=100, n_jobs=-1,\n",
       "                                              num_parallel_tree=None,\n",
       "                                              predictor=None, random_state=None, ...))],\n",
       "                   n_jobs=-1)</pre></div></div></div><div class=\"sk-serial\"><div class=\"sk-item\"><div class=\"sk-parallel\"><div class=\"sk-parallel-item\"><div class=\"sk-item\"><div class=\"sk-label-container\"><div class=\"sk-label sk-toggleable\"><label>bagging</label></div></div><div class=\"sk-serial\"><div class=\"sk-item\"><div class=\"sk-estimator sk-toggleable\"><input class=\"sk-toggleable__control sk-hidden--visually\" id=\"sk-estimator-id-43\" type=\"checkbox\" ><label for=\"sk-estimator-id-43\" class=\"sk-toggleable__label sk-toggleable__label-arrow\">BaggingClassifier</label><div class=\"sk-toggleable__content\"><pre>BaggingClassifier(n_jobs=-1)</pre></div></div></div></div></div></div><div class=\"sk-parallel-item\"><div class=\"sk-item\"><div class=\"sk-label-container\"><div class=\"sk-label sk-toggleable\"><label>extraTress</label></div></div><div class=\"sk-serial\"><div class=\"sk-item\"><div class=\"sk-estimator sk-toggleable\"><input class=\"sk-toggleable__control sk-hidden--visually\" id=\"sk-estimator-id-44\" type=\"checkbox\" ><label for=\"sk-estimator-id-44\" class=\"sk-toggleable__label sk-toggleable__label-arrow\">ExtraTreesClassifier</label><div class=\"sk-toggleable__content\"><pre>ExtraTreesClassifier(max_depth=10, n_jobs=-1)</pre></div></div></div></div></div></div><div class=\"sk-parallel-item\"><div class=\"sk-item\"><div class=\"sk-label-container\"><div class=\"sk-label sk-toggleable\"><label>randomforest</label></div></div><div class=\"sk-serial\"><div class=\"sk-item\"><div class=\"sk-estimator sk-toggleable\"><input class=\"sk-toggleable__control sk-hidden--visually\" id=\"sk-estimator-id-45\" type=\"checkbox\" ><label for=\"sk-estimator-id-45\" class=\"sk-toggleable__label sk-toggleable__label-arrow\">RandomForestClassifier</label><div class=\"sk-toggleable__content\"><pre>RandomForestClassifier(n_jobs=-1)</pre></div></div></div></div></div></div><div class=\"sk-parallel-item\"><div class=\"sk-item\"><div class=\"sk-label-container\"><div class=\"sk-label sk-toggleable\"><label>histGradientBoosting</label></div></div><div class=\"sk-serial\"><div class=\"sk-item\"><div class=\"sk-estimator sk-toggleable\"><input class=\"sk-toggleable__control sk-hidden--visually\" id=\"sk-estimator-id-46\" type=\"checkbox\" ><label for=\"sk-estimator-id-46\" class=\"sk-toggleable__label sk-toggleable__label-arrow\">HistGradientBoostingClassifier</label><div class=\"sk-toggleable__content\"><pre>HistGradientBoostingClassifier()</pre></div></div></div></div></div></div><div class=\"sk-parallel-item\"><div class=\"sk-item\"><div class=\"sk-label-container\"><div class=\"sk-label sk-toggleable\"><label>XGB</label></div></div><div class=\"sk-serial\"><div class=\"sk-item\"><div class=\"sk-estimator sk-toggleable\"><input class=\"sk-toggleable__control sk-hidden--visually\" id=\"sk-estimator-id-47\" type=\"checkbox\" ><label for=\"sk-estimator-id-47\" class=\"sk-toggleable__label sk-toggleable__label-arrow\">XGBClassifier</label><div class=\"sk-toggleable__content\"><pre>XGBClassifier(base_score=None, booster=None, callbacks=None,\n",
       "              colsample_bylevel=None, colsample_bynode=None,\n",
       "              colsample_bytree=None, early_stopping_rounds=None,\n",
       "              enable_categorical=False, eval_metric=None, feature_types=None,\n",
       "              gamma=None, gpu_id=None, grow_policy=None, importance_type=None,\n",
       "              interaction_constraints=None, learning_rate=None, max_bin=None,\n",
       "              max_cat_threshold=None, max_cat_to_onehot=None,\n",
       "              max_delta_step=None, max_depth=None, max_leaves=None,\n",
       "              min_child_weight=None, missing=nan, monotone_constraints=None,\n",
       "              n_estimators=100, n_jobs=-1, num_parallel_tree=None,\n",
       "              predictor=None, random_state=None, ...)</pre></div></div></div></div></div></div></div></div><div class=\"sk-item\"><div class=\"sk-parallel\"><div class=\"sk-parallel-item\"><div class=\"sk-item\"><div class=\"sk-label-container\"><div class=\"sk-label sk-toggleable\"><label>final_estimator</label></div></div><div class=\"sk-serial\"><div class=\"sk-item\"><div class=\"sk-estimator sk-toggleable\"><input class=\"sk-toggleable__control sk-hidden--visually\" id=\"sk-estimator-id-48\" type=\"checkbox\" ><label for=\"sk-estimator-id-48\" class=\"sk-toggleable__label sk-toggleable__label-arrow\">LogisticRegression</label><div class=\"sk-toggleable__content\"><pre>LogisticRegression()</pre></div></div></div></div></div></div></div></div></div></div></div></div>"
      ],
      "text/plain": [
       "StackingClassifier(estimators=[('bagging', BaggingClassifier(n_jobs=-1)),\n",
       "                               ('extraTress',\n",
       "                                ExtraTreesClassifier(max_depth=10, n_jobs=-1)),\n",
       "                               ('randomforest',\n",
       "                                RandomForestClassifier(n_jobs=-1)),\n",
       "                               ('histGradientBoosting',\n",
       "                                HistGradientBoostingClassifier()),\n",
       "                               ('XGB',\n",
       "                                XGBClassifier(base_score=None, booster=None,\n",
       "                                              callbacks=None,\n",
       "                                              colsample_bylevel=None,\n",
       "                                              colsample_bynode=None...\n",
       "                                              gpu_id=None, grow_policy=None,\n",
       "                                              importance_type=None,\n",
       "                                              interaction_constraints=None,\n",
       "                                              learning_rate=None, max_bin=None,\n",
       "                                              max_cat_threshold=None,\n",
       "                                              max_cat_to_onehot=None,\n",
       "                                              max_delta_step=None,\n",
       "                                              max_depth=None, max_leaves=None,\n",
       "                                              min_child_weight=None,\n",
       "                                              missing=nan,\n",
       "                                              monotone_constraints=None,\n",
       "                                              n_estimators=100, n_jobs=-1,\n",
       "                                              num_parallel_tree=None,\n",
       "                                              predictor=None, random_state=None, ...))],\n",
       "                   n_jobs=-1)"
      ]
     },
     "execution_count": 238,
     "metadata": {},
     "output_type": "execute_result"
    }
   ],
   "source": [
    "model.fit(X_train_3, y_train)"
   ]
  },
  {
   "cell_type": "code",
   "execution_count": 239,
   "id": "d2fae647",
   "metadata": {},
   "outputs": [
    {
     "name": "stdout",
     "output_type": "stream",
     "text": [
      "              precision    recall  f1-score   support\n",
      "\n",
      "           0       0.64      0.72      0.68      4213\n",
      "           1       0.73      0.74      0.74      8525\n",
      "           2       0.66      0.53      0.59      3262\n",
      "\n",
      "    accuracy                           0.69     16000\n",
      "   macro avg       0.68      0.66      0.67     16000\n",
      "weighted avg       0.69      0.69      0.69     16000\n",
      "\n"
     ]
    }
   ],
   "source": [
    "y_pred = model.predict(X_val_3)\n",
    "print(classification_report(y_pred,y_val))"
   ]
  },
  {
   "attachments": {},
   "cell_type": "markdown",
   "id": "d54ff3b6",
   "metadata": {},
   "source": [
    "# lazy predict"
   ]
  },
  {
   "cell_type": "code",
   "execution_count": 41,
   "id": "6c1dfa0f",
   "metadata": {},
   "outputs": [
    {
     "name": "stderr",
     "output_type": "stream",
     "text": [
      "100%|██████████| 29/29 [42:00<00:00, 86.91s/it]   \n"
     ]
    },
    {
     "data": {
      "text/html": [
       "<div>\n",
       "<style scoped>\n",
       "    .dataframe tbody tr th:only-of-type {\n",
       "        vertical-align: middle;\n",
       "    }\n",
       "\n",
       "    .dataframe tbody tr th {\n",
       "        vertical-align: top;\n",
       "    }\n",
       "\n",
       "    .dataframe thead th {\n",
       "        text-align: right;\n",
       "    }\n",
       "</style>\n",
       "<table border=\"1\" class=\"dataframe\">\n",
       "  <thead>\n",
       "    <tr style=\"text-align: right;\">\n",
       "      <th></th>\n",
       "      <th>Accuracy</th>\n",
       "      <th>Balanced Accuracy</th>\n",
       "      <th>ROC AUC</th>\n",
       "      <th>F1 Score</th>\n",
       "      <th>Time Taken</th>\n",
       "    </tr>\n",
       "    <tr>\n",
       "      <th>Model</th>\n",
       "      <th></th>\n",
       "      <th></th>\n",
       "      <th></th>\n",
       "      <th></th>\n",
       "      <th></th>\n",
       "    </tr>\n",
       "  </thead>\n",
       "  <tbody>\n",
       "    <tr>\n",
       "      <th>BernoulliNB</th>\n",
       "      <td>0.62</td>\n",
       "      <td>0.68</td>\n",
       "      <td>None</td>\n",
       "      <td>0.62</td>\n",
       "      <td>0.19</td>\n",
       "    </tr>\n",
       "    <tr>\n",
       "      <th>LGBMClassifier</th>\n",
       "      <td>0.70</td>\n",
       "      <td>0.68</td>\n",
       "      <td>None</td>\n",
       "      <td>0.70</td>\n",
       "      <td>2.46</td>\n",
       "    </tr>\n",
       "    <tr>\n",
       "      <th>GaussianNB</th>\n",
       "      <td>0.61</td>\n",
       "      <td>0.67</td>\n",
       "      <td>None</td>\n",
       "      <td>0.61</td>\n",
       "      <td>0.22</td>\n",
       "    </tr>\n",
       "    <tr>\n",
       "      <th>RandomForestClassifier</th>\n",
       "      <td>0.70</td>\n",
       "      <td>0.67</td>\n",
       "      <td>None</td>\n",
       "      <td>0.70</td>\n",
       "      <td>23.17</td>\n",
       "    </tr>\n",
       "    <tr>\n",
       "      <th>SVC</th>\n",
       "      <td>0.68</td>\n",
       "      <td>0.67</td>\n",
       "      <td>None</td>\n",
       "      <td>0.68</td>\n",
       "      <td>402.03</td>\n",
       "    </tr>\n",
       "    <tr>\n",
       "      <th>ExtraTreesClassifier</th>\n",
       "      <td>0.68</td>\n",
       "      <td>0.66</td>\n",
       "      <td>None</td>\n",
       "      <td>0.68</td>\n",
       "      <td>15.94</td>\n",
       "    </tr>\n",
       "    <tr>\n",
       "      <th>NearestCentroid</th>\n",
       "      <td>0.58</td>\n",
       "      <td>0.66</td>\n",
       "      <td>None</td>\n",
       "      <td>0.59</td>\n",
       "      <td>0.17</td>\n",
       "    </tr>\n",
       "    <tr>\n",
       "      <th>XGBClassifier</th>\n",
       "      <td>0.69</td>\n",
       "      <td>0.66</td>\n",
       "      <td>None</td>\n",
       "      <td>0.69</td>\n",
       "      <td>17.49</td>\n",
       "    </tr>\n",
       "    <tr>\n",
       "      <th>LinearDiscriminantAnalysis</th>\n",
       "      <td>0.65</td>\n",
       "      <td>0.64</td>\n",
       "      <td>None</td>\n",
       "      <td>0.65</td>\n",
       "      <td>0.91</td>\n",
       "    </tr>\n",
       "    <tr>\n",
       "      <th>NuSVC</th>\n",
       "      <td>0.67</td>\n",
       "      <td>0.64</td>\n",
       "      <td>None</td>\n",
       "      <td>0.67</td>\n",
       "      <td>537.92</td>\n",
       "    </tr>\n",
       "    <tr>\n",
       "      <th>BaggingClassifier</th>\n",
       "      <td>0.68</td>\n",
       "      <td>0.64</td>\n",
       "      <td>None</td>\n",
       "      <td>0.68</td>\n",
       "      <td>13.14</td>\n",
       "    </tr>\n",
       "    <tr>\n",
       "      <th>LogisticRegression</th>\n",
       "      <td>0.65</td>\n",
       "      <td>0.62</td>\n",
       "      <td>None</td>\n",
       "      <td>0.65</td>\n",
       "      <td>1.05</td>\n",
       "    </tr>\n",
       "    <tr>\n",
       "      <th>AdaBoostClassifier</th>\n",
       "      <td>0.65</td>\n",
       "      <td>0.62</td>\n",
       "      <td>None</td>\n",
       "      <td>0.65</td>\n",
       "      <td>7.11</td>\n",
       "    </tr>\n",
       "    <tr>\n",
       "      <th>CalibratedClassifierCV</th>\n",
       "      <td>0.65</td>\n",
       "      <td>0.61</td>\n",
       "      <td>None</td>\n",
       "      <td>0.64</td>\n",
       "      <td>219.59</td>\n",
       "    </tr>\n",
       "    <tr>\n",
       "      <th>LinearSVC</th>\n",
       "      <td>0.64</td>\n",
       "      <td>0.60</td>\n",
       "      <td>None</td>\n",
       "      <td>0.64</td>\n",
       "      <td>62.49</td>\n",
       "    </tr>\n",
       "    <tr>\n",
       "      <th>SGDClassifier</th>\n",
       "      <td>0.63</td>\n",
       "      <td>0.60</td>\n",
       "      <td>None</td>\n",
       "      <td>0.63</td>\n",
       "      <td>2.50</td>\n",
       "    </tr>\n",
       "    <tr>\n",
       "      <th>QuadraticDiscriminantAnalysis</th>\n",
       "      <td>0.65</td>\n",
       "      <td>0.60</td>\n",
       "      <td>None</td>\n",
       "      <td>0.65</td>\n",
       "      <td>0.31</td>\n",
       "    </tr>\n",
       "    <tr>\n",
       "      <th>RidgeClassifier</th>\n",
       "      <td>0.63</td>\n",
       "      <td>0.58</td>\n",
       "      <td>None</td>\n",
       "      <td>0.63</td>\n",
       "      <td>0.29</td>\n",
       "    </tr>\n",
       "    <tr>\n",
       "      <th>RidgeClassifierCV</th>\n",
       "      <td>0.63</td>\n",
       "      <td>0.58</td>\n",
       "      <td>None</td>\n",
       "      <td>0.63</td>\n",
       "      <td>0.51</td>\n",
       "    </tr>\n",
       "    <tr>\n",
       "      <th>DecisionTreeClassifier</th>\n",
       "      <td>0.60</td>\n",
       "      <td>0.56</td>\n",
       "      <td>None</td>\n",
       "      <td>0.60</td>\n",
       "      <td>2.17</td>\n",
       "    </tr>\n",
       "    <tr>\n",
       "      <th>KNeighborsClassifier</th>\n",
       "      <td>0.61</td>\n",
       "      <td>0.55</td>\n",
       "      <td>None</td>\n",
       "      <td>0.61</td>\n",
       "      <td>3.33</td>\n",
       "    </tr>\n",
       "    <tr>\n",
       "      <th>ExtraTreeClassifier</th>\n",
       "      <td>0.59</td>\n",
       "      <td>0.55</td>\n",
       "      <td>None</td>\n",
       "      <td>0.59</td>\n",
       "      <td>0.29</td>\n",
       "    </tr>\n",
       "    <tr>\n",
       "      <th>Perceptron</th>\n",
       "      <td>0.57</td>\n",
       "      <td>0.53</td>\n",
       "      <td>None</td>\n",
       "      <td>0.58</td>\n",
       "      <td>0.47</td>\n",
       "    </tr>\n",
       "    <tr>\n",
       "      <th>PassiveAggressiveClassifier</th>\n",
       "      <td>0.55</td>\n",
       "      <td>0.52</td>\n",
       "      <td>None</td>\n",
       "      <td>0.55</td>\n",
       "      <td>0.61</td>\n",
       "    </tr>\n",
       "    <tr>\n",
       "      <th>DummyClassifier</th>\n",
       "      <td>0.54</td>\n",
       "      <td>0.33</td>\n",
       "      <td>None</td>\n",
       "      <td>0.38</td>\n",
       "      <td>0.17</td>\n",
       "    </tr>\n",
       "  </tbody>\n",
       "</table>\n",
       "</div>"
      ],
      "text/plain": [
       "                               Accuracy  Balanced Accuracy ROC AUC  F1 Score  \\\n",
       "Model                                                                          \n",
       "BernoulliNB                        0.62               0.68    None      0.62   \n",
       "LGBMClassifier                     0.70               0.68    None      0.70   \n",
       "GaussianNB                         0.61               0.67    None      0.61   \n",
       "RandomForestClassifier             0.70               0.67    None      0.70   \n",
       "SVC                                0.68               0.67    None      0.68   \n",
       "ExtraTreesClassifier               0.68               0.66    None      0.68   \n",
       "NearestCentroid                    0.58               0.66    None      0.59   \n",
       "XGBClassifier                      0.69               0.66    None      0.69   \n",
       "LinearDiscriminantAnalysis         0.65               0.64    None      0.65   \n",
       "NuSVC                              0.67               0.64    None      0.67   \n",
       "BaggingClassifier                  0.68               0.64    None      0.68   \n",
       "LogisticRegression                 0.65               0.62    None      0.65   \n",
       "AdaBoostClassifier                 0.65               0.62    None      0.65   \n",
       "CalibratedClassifierCV             0.65               0.61    None      0.64   \n",
       "LinearSVC                          0.64               0.60    None      0.64   \n",
       "SGDClassifier                      0.63               0.60    None      0.63   \n",
       "QuadraticDiscriminantAnalysis      0.65               0.60    None      0.65   \n",
       "RidgeClassifier                    0.63               0.58    None      0.63   \n",
       "RidgeClassifierCV                  0.63               0.58    None      0.63   \n",
       "DecisionTreeClassifier             0.60               0.56    None      0.60   \n",
       "KNeighborsClassifier               0.61               0.55    None      0.61   \n",
       "ExtraTreeClassifier                0.59               0.55    None      0.59   \n",
       "Perceptron                         0.57               0.53    None      0.58   \n",
       "PassiveAggressiveClassifier        0.55               0.52    None      0.55   \n",
       "DummyClassifier                    0.54               0.33    None      0.38   \n",
       "\n",
       "                               Time Taken  \n",
       "Model                                      \n",
       "BernoulliNB                          0.19  \n",
       "LGBMClassifier                       2.46  \n",
       "GaussianNB                           0.22  \n",
       "RandomForestClassifier              23.17  \n",
       "SVC                                402.03  \n",
       "ExtraTreesClassifier                15.94  \n",
       "NearestCentroid                      0.17  \n",
       "XGBClassifier                       17.49  \n",
       "LinearDiscriminantAnalysis           0.91  \n",
       "NuSVC                              537.92  \n",
       "BaggingClassifier                   13.14  \n",
       "LogisticRegression                   1.05  \n",
       "AdaBoostClassifier                   7.11  \n",
       "CalibratedClassifierCV             219.59  \n",
       "LinearSVC                           62.49  \n",
       "SGDClassifier                        2.50  \n",
       "QuadraticDiscriminantAnalysis        0.31  \n",
       "RidgeClassifier                      0.29  \n",
       "RidgeClassifierCV                    0.51  \n",
       "DecisionTreeClassifier               2.17  \n",
       "KNeighborsClassifier                 3.33  \n",
       "ExtraTreeClassifier                  0.29  \n",
       "Perceptron                           0.47  \n",
       "PassiveAggressiveClassifier          0.61  \n",
       "DummyClassifier                      0.17  "
      ]
     },
     "execution_count": 41,
     "metadata": {},
     "output_type": "execute_result"
    }
   ],
   "source": [
    "from lazypredict.Supervised import LazyClassifier\n",
    "\n",
    "clf = LazyClassifier(verbose=0,ignore_warnings=True, custom_metric=None)\n",
    "models,predictions = clf.fit(X_train, X_val, y_train, y_val)\n",
    "models"
   ]
  },
  {
   "cell_type": "code",
   "execution_count": 240,
   "id": "01334e6c",
   "metadata": {},
   "outputs": [],
   "source": [
    "# not in current use\n",
    "import shap\n",
    "\n",
    "def shapley(model, X_train, X_val):\n",
    "    explainer = shap.Explainer(model, X_train)\n",
    "    \n",
    "    shap_values = explainer(X_train)\n",
    "    shap.summary_plot(shap_values, X_train)\n",
    "    # visualize the first prediction's explanation\n",
    "    shap.plots.waterfall(shap_values[0])\n",
    "\n",
    "    # freature importance    \n",
    "    shap.summary_plot(shap_values, X_train, plot_type=\"bar\")\n",
    "    \n",
    "    shap.plots.bar(shap_values)\n",
    "    shap.summary_plot(shap_values, plot_type='violin')\n",
    "    shap.plots.bar(shap_values[0])\n",
    "    shap.plots.waterfall(shap_values[0])\n",
    "    shap.plots.force(shap_values[0])\n",
    "    \n",
    "    \n",
    "    shap.plots.force(shap_values[1])\n",
    "    \n",
    "    shap.plots.heatmap(shap_values)\n",
    "    \n",
    "    # fig = shap.force_plot(explainer.expected_value, shap_values.values, X_train, feature_names = X_train.columns)\n",
    "    # fig.savefig('testplot.png')\n",
    "    # fig.plot()\n",
    "    \n",
    "    # fig = shap.force_plot(shap_values, X_train)\n",
    "    # fig.plot()\n",
    "   \n",
    "    shap_values = explainer(X_val)\n",
    "    shap.plots.beeswarm(shap_values)\n",
    "    # visualize the first prediction's explanation\n",
    "    shap.plots.waterfall(shap_values[0])\n",
    "    \n",
    "    # freature importance\n",
    "    shap.summary_plot(shap_values, X_val, plot_type=\"bar\")"
   ]
  },
  {
   "attachments": {},
   "cell_type": "markdown",
   "id": "b70940a8",
   "metadata": {},
   "source": [
    "co trzeba poprawic\n",
    "\n",
    "sposob przygotowania danych zalezy od modelu ktory chcemy zastosowac\n",
    "\n",
    "te imputacje danych moze byc jakas taka lepsza "
   ]
  },
  {
   "cell_type": "code",
   "execution_count": null,
   "id": "0d9086ba",
   "metadata": {},
   "outputs": [],
   "source": []
  }
 ],
 "metadata": {
  "kernelspec": {
   "display_name": "Python 3 (ipykernel)",
   "language": "python",
   "name": "python3"
  },
  "language_info": {
   "codemirror_mode": {
    "name": "ipython",
    "version": 3
   },
   "file_extension": ".py",
   "mimetype": "text/x-python",
   "name": "python",
   "nbconvert_exporter": "python",
   "pygments_lexer": "ipython3",
   "version": "3.8.8"
  }
 },
 "nbformat": 4,
 "nbformat_minor": 5
}
