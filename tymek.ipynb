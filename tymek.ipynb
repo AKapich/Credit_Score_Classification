{
 "cells": [
  {
   "cell_type": "markdown",
   "id": "577ffc6b",
   "metadata": {},
   "source": [
    "# Credit score classification project"
   ]
  },
  {
   "cell_type": "code",
   "execution_count": 2,
   "id": "ffdf52e9",
   "metadata": {},
   "outputs": [],
   "source": [
    "import pandas as pd\n",
    "import numpy as np\n",
    "import matplotlib.pyplot as plt\n",
    "import sklearn as sk\n",
    "from sklearn.model_selection import train_test_split\n",
    "import seaborn as sns"
   ]
  },
  {
   "attachments": {},
   "cell_type": "markdown",
   "id": "d679e489",
   "metadata": {},
   "source": [
    "# Train test split\n",
    "First of all we need to split our data into train, validation and test sets.\n",
    "\n",
    "Even though there is a test set given in the competition files, we don't have any access to the target variables, so we decided to use train.csv file only"
   ]
  },
  {
   "cell_type": "code",
   "execution_count": 124,
   "id": "d1ad290b",
   "metadata": {},
   "outputs": [
    {
     "name": "stderr",
     "output_type": "stream",
     "text": [
      "Columns (26) have mixed types.Specify dtype option on import or set low_memory=False.\n"
     ]
    }
   ],
   "source": [
    "data = pd.read_csv('train.csv') # dataframe containg everything, not only train\n",
    "# test = pd.read_csv('test.csv') this one doesn't works - missing target value\n",
    "\n",
    "test_size = 0.2\n",
    "X = data.drop(columns=[\"Credit_Score\"]).copy()\n",
    "y = data[\"Credit_Score\"] # the target \n",
    "\n",
    "\n",
    "X_rem, X_test, y_rem, y_test = train_test_split(X,y, test_size=test_size, shuffle=False) \n",
    "X_train, X_val, y_train, y_val = train_test_split(X_rem, y_rem, test_size=test_size, shuffle=False) \n",
    "#X_train, X_valid, y_train, y_valid = train_test_split(X_train, y_train, test_size=test_size, shuffle=False)"
   ]
  },
  {
   "cell_type": "code",
   "execution_count": 125,
   "id": "15202eb0",
   "metadata": {},
   "outputs": [],
   "source": [
    "# merged in order to perfrom preprocessing efficiently\n",
    "train = X_train.join(y_train)\n",
    "val = X_val.join(y_val)"
   ]
  },
  {
   "attachments": {},
   "cell_type": "markdown",
   "id": "9efc4e17",
   "metadata": {},
   "source": [
    "# Data Examination\n",
    "\n",
    "Let's have a look into our data"
   ]
  },
  {
   "cell_type": "code",
   "execution_count": 5,
   "id": "2334d996",
   "metadata": {},
   "outputs": [
    {
     "data": {
      "text/html": [
       "<div>\n",
       "<style scoped>\n",
       "    .dataframe tbody tr th:only-of-type {\n",
       "        vertical-align: middle;\n",
       "    }\n",
       "\n",
       "    .dataframe tbody tr th {\n",
       "        vertical-align: top;\n",
       "    }\n",
       "\n",
       "    .dataframe thead th {\n",
       "        text-align: right;\n",
       "    }\n",
       "</style>\n",
       "<table border=\"1\" class=\"dataframe\">\n",
       "  <thead>\n",
       "    <tr style=\"text-align: right;\">\n",
       "      <th></th>\n",
       "      <th>ID</th>\n",
       "      <th>Customer_ID</th>\n",
       "      <th>Month</th>\n",
       "      <th>Name</th>\n",
       "      <th>Age</th>\n",
       "      <th>SSN</th>\n",
       "      <th>Occupation</th>\n",
       "      <th>Annual_Income</th>\n",
       "      <th>Monthly_Inhand_Salary</th>\n",
       "      <th>Num_Bank_Accounts</th>\n",
       "      <th>...</th>\n",
       "      <th>Credit_Mix</th>\n",
       "      <th>Outstanding_Debt</th>\n",
       "      <th>Credit_Utilization_Ratio</th>\n",
       "      <th>Credit_History_Age</th>\n",
       "      <th>Payment_of_Min_Amount</th>\n",
       "      <th>Total_EMI_per_month</th>\n",
       "      <th>Amount_invested_monthly</th>\n",
       "      <th>Payment_Behaviour</th>\n",
       "      <th>Monthly_Balance</th>\n",
       "      <th>Credit_Score</th>\n",
       "    </tr>\n",
       "  </thead>\n",
       "  <tbody>\n",
       "    <tr>\n",
       "      <th>0</th>\n",
       "      <td>0x1602</td>\n",
       "      <td>CUS_0xd40</td>\n",
       "      <td>January</td>\n",
       "      <td>Aaron Maashoh</td>\n",
       "      <td>23</td>\n",
       "      <td>821-00-0265</td>\n",
       "      <td>Scientist</td>\n",
       "      <td>19114.12</td>\n",
       "      <td>1824.843333</td>\n",
       "      <td>3</td>\n",
       "      <td>...</td>\n",
       "      <td>_</td>\n",
       "      <td>809.98</td>\n",
       "      <td>26.822620</td>\n",
       "      <td>22 Years and 1 Months</td>\n",
       "      <td>No</td>\n",
       "      <td>49.574949</td>\n",
       "      <td>80.41529543900253</td>\n",
       "      <td>High_spent_Small_value_payments</td>\n",
       "      <td>312.49408867943663</td>\n",
       "      <td>Good</td>\n",
       "    </tr>\n",
       "    <tr>\n",
       "      <th>1</th>\n",
       "      <td>0x1603</td>\n",
       "      <td>CUS_0xd40</td>\n",
       "      <td>February</td>\n",
       "      <td>Aaron Maashoh</td>\n",
       "      <td>23</td>\n",
       "      <td>821-00-0265</td>\n",
       "      <td>Scientist</td>\n",
       "      <td>19114.12</td>\n",
       "      <td>NaN</td>\n",
       "      <td>3</td>\n",
       "      <td>...</td>\n",
       "      <td>Good</td>\n",
       "      <td>809.98</td>\n",
       "      <td>31.944960</td>\n",
       "      <td>NaN</td>\n",
       "      <td>No</td>\n",
       "      <td>49.574949</td>\n",
       "      <td>118.28022162236736</td>\n",
       "      <td>Low_spent_Large_value_payments</td>\n",
       "      <td>284.62916249607184</td>\n",
       "      <td>Good</td>\n",
       "    </tr>\n",
       "    <tr>\n",
       "      <th>2</th>\n",
       "      <td>0x1604</td>\n",
       "      <td>CUS_0xd40</td>\n",
       "      <td>March</td>\n",
       "      <td>Aaron Maashoh</td>\n",
       "      <td>-500</td>\n",
       "      <td>821-00-0265</td>\n",
       "      <td>Scientist</td>\n",
       "      <td>19114.12</td>\n",
       "      <td>NaN</td>\n",
       "      <td>3</td>\n",
       "      <td>...</td>\n",
       "      <td>Good</td>\n",
       "      <td>809.98</td>\n",
       "      <td>28.609352</td>\n",
       "      <td>22 Years and 3 Months</td>\n",
       "      <td>No</td>\n",
       "      <td>49.574949</td>\n",
       "      <td>81.699521264648</td>\n",
       "      <td>Low_spent_Medium_value_payments</td>\n",
       "      <td>331.2098628537912</td>\n",
       "      <td>Good</td>\n",
       "    </tr>\n",
       "    <tr>\n",
       "      <th>3</th>\n",
       "      <td>0x1605</td>\n",
       "      <td>CUS_0xd40</td>\n",
       "      <td>April</td>\n",
       "      <td>Aaron Maashoh</td>\n",
       "      <td>23</td>\n",
       "      <td>821-00-0265</td>\n",
       "      <td>Scientist</td>\n",
       "      <td>19114.12</td>\n",
       "      <td>NaN</td>\n",
       "      <td>3</td>\n",
       "      <td>...</td>\n",
       "      <td>Good</td>\n",
       "      <td>809.98</td>\n",
       "      <td>31.377862</td>\n",
       "      <td>22 Years and 4 Months</td>\n",
       "      <td>No</td>\n",
       "      <td>49.574949</td>\n",
       "      <td>199.4580743910713</td>\n",
       "      <td>Low_spent_Small_value_payments</td>\n",
       "      <td>223.45130972736786</td>\n",
       "      <td>Good</td>\n",
       "    </tr>\n",
       "    <tr>\n",
       "      <th>4</th>\n",
       "      <td>0x1606</td>\n",
       "      <td>CUS_0xd40</td>\n",
       "      <td>May</td>\n",
       "      <td>Aaron Maashoh</td>\n",
       "      <td>23</td>\n",
       "      <td>821-00-0265</td>\n",
       "      <td>Scientist</td>\n",
       "      <td>19114.12</td>\n",
       "      <td>1824.843333</td>\n",
       "      <td>3</td>\n",
       "      <td>...</td>\n",
       "      <td>Good</td>\n",
       "      <td>809.98</td>\n",
       "      <td>24.797347</td>\n",
       "      <td>22 Years and 5 Months</td>\n",
       "      <td>No</td>\n",
       "      <td>49.574949</td>\n",
       "      <td>41.420153086217326</td>\n",
       "      <td>High_spent_Medium_value_payments</td>\n",
       "      <td>341.48923103222177</td>\n",
       "      <td>Good</td>\n",
       "    </tr>\n",
       "  </tbody>\n",
       "</table>\n",
       "<p>5 rows × 28 columns</p>\n",
       "</div>"
      ],
      "text/plain": [
       "       ID Customer_ID     Month           Name   Age          SSN Occupation  \\\n",
       "0  0x1602   CUS_0xd40   January  Aaron Maashoh    23  821-00-0265  Scientist   \n",
       "1  0x1603   CUS_0xd40  February  Aaron Maashoh    23  821-00-0265  Scientist   \n",
       "2  0x1604   CUS_0xd40     March  Aaron Maashoh  -500  821-00-0265  Scientist   \n",
       "3  0x1605   CUS_0xd40     April  Aaron Maashoh    23  821-00-0265  Scientist   \n",
       "4  0x1606   CUS_0xd40       May  Aaron Maashoh    23  821-00-0265  Scientist   \n",
       "\n",
       "  Annual_Income  Monthly_Inhand_Salary  Num_Bank_Accounts  ...  Credit_Mix  \\\n",
       "0      19114.12            1824.843333                  3  ...           _   \n",
       "1      19114.12                    NaN                  3  ...        Good   \n",
       "2      19114.12                    NaN                  3  ...        Good   \n",
       "3      19114.12                    NaN                  3  ...        Good   \n",
       "4      19114.12            1824.843333                  3  ...        Good   \n",
       "\n",
       "   Outstanding_Debt Credit_Utilization_Ratio     Credit_History_Age  \\\n",
       "0            809.98                26.822620  22 Years and 1 Months   \n",
       "1            809.98                31.944960                    NaN   \n",
       "2            809.98                28.609352  22 Years and 3 Months   \n",
       "3            809.98                31.377862  22 Years and 4 Months   \n",
       "4            809.98                24.797347  22 Years and 5 Months   \n",
       "\n",
       "   Payment_of_Min_Amount Total_EMI_per_month Amount_invested_monthly  \\\n",
       "0                     No           49.574949       80.41529543900253   \n",
       "1                     No           49.574949      118.28022162236736   \n",
       "2                     No           49.574949         81.699521264648   \n",
       "3                     No           49.574949       199.4580743910713   \n",
       "4                     No           49.574949      41.420153086217326   \n",
       "\n",
       "                  Payment_Behaviour     Monthly_Balance Credit_Score  \n",
       "0   High_spent_Small_value_payments  312.49408867943663         Good  \n",
       "1    Low_spent_Large_value_payments  284.62916249607184         Good  \n",
       "2   Low_spent_Medium_value_payments   331.2098628537912         Good  \n",
       "3    Low_spent_Small_value_payments  223.45130972736786         Good  \n",
       "4  High_spent_Medium_value_payments  341.48923103222177         Good  \n",
       "\n",
       "[5 rows x 28 columns]"
      ]
     },
     "execution_count": 5,
     "metadata": {},
     "output_type": "execute_result"
    }
   ],
   "source": [
    "train.head(5)"
   ]
  },
  {
   "cell_type": "code",
   "execution_count": 6,
   "id": "f22c212d",
   "metadata": {},
   "outputs": [
    {
     "name": "stdout",
     "output_type": "stream",
     "text": [
      "<class 'pandas.core.frame.DataFrame'>\n",
      "Int64Index: 64000 entries, 0 to 63999\n",
      "Data columns (total 28 columns):\n",
      " #   Column                    Non-Null Count  Dtype  \n",
      "---  ------                    --------------  -----  \n",
      " 0   ID                        64000 non-null  object \n",
      " 1   Customer_ID               64000 non-null  object \n",
      " 2   Month                     64000 non-null  object \n",
      " 3   Name                      57607 non-null  object \n",
      " 4   Age                       64000 non-null  object \n",
      " 5   SSN                       64000 non-null  object \n",
      " 6   Occupation                64000 non-null  object \n",
      " 7   Annual_Income             64000 non-null  object \n",
      " 8   Monthly_Inhand_Salary     54425 non-null  float64\n",
      " 9   Num_Bank_Accounts         64000 non-null  int64  \n",
      " 10  Num_Credit_Card           64000 non-null  int64  \n",
      " 11  Interest_Rate             64000 non-null  int64  \n",
      " 12  Num_of_Loan               64000 non-null  object \n",
      " 13  Type_of_Loan              56824 non-null  object \n",
      " 14  Delay_from_due_date       64000 non-null  int64  \n",
      " 15  Num_of_Delayed_Payment    59565 non-null  object \n",
      " 16  Changed_Credit_Limit      64000 non-null  object \n",
      " 17  Num_Credit_Inquiries      62794 non-null  float64\n",
      " 18  Credit_Mix                64000 non-null  object \n",
      " 19  Outstanding_Debt          64000 non-null  object \n",
      " 20  Credit_Utilization_Ratio  64000 non-null  float64\n",
      " 21  Credit_History_Age        58194 non-null  object \n",
      " 22  Payment_of_Min_Amount     64000 non-null  object \n",
      " 23  Total_EMI_per_month       64000 non-null  float64\n",
      " 24  Amount_invested_monthly   61179 non-null  object \n",
      " 25  Payment_Behaviour         64000 non-null  object \n",
      " 26  Monthly_Balance           63206 non-null  object \n",
      " 27  Credit_Score              64000 non-null  object \n",
      "dtypes: float64(4), int64(4), object(20)\n",
      "memory usage: 16.2+ MB\n"
     ]
    }
   ],
   "source": [
    "train.info()"
   ]
  },
  {
   "cell_type": "code",
   "execution_count": 7,
   "id": "a90fa99a",
   "metadata": {},
   "outputs": [
    {
     "data": {
      "text/plain": [
       "0"
      ]
     },
     "execution_count": 7,
     "metadata": {},
     "output_type": "execute_result"
    }
   ],
   "source": [
    "train[\"Customer_ID\"].value_counts().loc[train[\"Customer_ID\"].value_counts() != 8].size \n",
    "# every customer shows up exactly 8 times"
   ]
  },
  {
   "cell_type": "code",
   "execution_count": 8,
   "id": "c7bb8de8",
   "metadata": {},
   "outputs": [
    {
     "data": {
      "text/plain": [
       "0"
      ]
     },
     "execution_count": 8,
     "metadata": {},
     "output_type": "execute_result"
    }
   ],
   "source": [
    "train['Credit_Score'].isna().sum() # all target values are present"
   ]
  },
  {
   "cell_type": "code",
   "execution_count": 9,
   "id": "39344cd6",
   "metadata": {},
   "outputs": [
    {
     "data": {
      "text/plain": [
       "(array([11469.,     0.,     0.,     0.,     0., 33817.,     0.,     0.,\n",
       "            0., 18714.]),\n",
       " array([0. , 0.2, 0.4, 0.6, 0.8, 1. , 1.2, 1.4, 1.6, 1.8, 2. ]),\n",
       " <BarContainer object of 10 artists>)"
      ]
     },
     "execution_count": 9,
     "metadata": {},
     "output_type": "execute_result"
    },
    {
     "data": {
      "image/png": "[encoded data removed]",
      "text/plain": [
       "<Figure size 432x288 with 1 Axes>"
      ]
     },
     "metadata": {
      "needs_background": "light"
     },
     "output_type": "display_data"
    }
   ],
   "source": [
    "plt.hist(train[\"Credit_Score\"]) # target distribution"
   ]
  },
  {
   "cell_type": "code",
   "execution_count": 10,
   "id": "b09b0741",
   "metadata": {},
   "outputs": [
    {
     "data": {
      "text/html": [
       "<div>\n",
       "<style scoped>\n",
       "    .dataframe tbody tr th:only-of-type {\n",
       "        vertical-align: middle;\n",
       "    }\n",
       "\n",
       "    .dataframe tbody tr th {\n",
       "        vertical-align: top;\n",
       "    }\n",
       "\n",
       "    .dataframe thead th {\n",
       "        text-align: right;\n",
       "    }\n",
       "</style>\n",
       "<table border=\"1\" class=\"dataframe\">\n",
       "  <thead>\n",
       "    <tr style=\"text-align: right;\">\n",
       "      <th></th>\n",
       "      <th>Name</th>\n",
       "      <th>SSN</th>\n",
       "      <th>Customer_ID</th>\n",
       "    </tr>\n",
       "  </thead>\n",
       "  <tbody>\n",
       "    <tr>\n",
       "      <th>0</th>\n",
       "      <td>Aaron Maashoh</td>\n",
       "      <td>821-00-0265</td>\n",
       "      <td>CUS_0xd40</td>\n",
       "    </tr>\n",
       "    <tr>\n",
       "      <th>1</th>\n",
       "      <td>Aaron Maashoh</td>\n",
       "      <td>821-00-0265</td>\n",
       "      <td>CUS_0xd40</td>\n",
       "    </tr>\n",
       "    <tr>\n",
       "      <th>2</th>\n",
       "      <td>Aaron Maashoh</td>\n",
       "      <td>821-00-0265</td>\n",
       "      <td>CUS_0xd40</td>\n",
       "    </tr>\n",
       "    <tr>\n",
       "      <th>3</th>\n",
       "      <td>Aaron Maashoh</td>\n",
       "      <td>821-00-0265</td>\n",
       "      <td>CUS_0xd40</td>\n",
       "    </tr>\n",
       "    <tr>\n",
       "      <th>4</th>\n",
       "      <td>Aaron Maashoh</td>\n",
       "      <td>821-00-0265</td>\n",
       "      <td>CUS_0xd40</td>\n",
       "    </tr>\n",
       "    <tr>\n",
       "      <th>5</th>\n",
       "      <td>Aaron Maashoh</td>\n",
       "      <td>821-00-0265</td>\n",
       "      <td>CUS_0xd40</td>\n",
       "    </tr>\n",
       "    <tr>\n",
       "      <th>6</th>\n",
       "      <td>Aaron Maashoh</td>\n",
       "      <td>821-00-0265</td>\n",
       "      <td>CUS_0xd40</td>\n",
       "    </tr>\n",
       "    <tr>\n",
       "      <th>7</th>\n",
       "      <td>NaN</td>\n",
       "      <td>#F%$D@*&amp;8</td>\n",
       "      <td>CUS_0xd40</td>\n",
       "    </tr>\n",
       "    <tr>\n",
       "      <th>8</th>\n",
       "      <td>Rick Rothackerj</td>\n",
       "      <td>004-07-5839</td>\n",
       "      <td>CUS_0x21b1</td>\n",
       "    </tr>\n",
       "    <tr>\n",
       "      <th>9</th>\n",
       "      <td>Rick Rothackerj</td>\n",
       "      <td>004-07-5839</td>\n",
       "      <td>CUS_0x21b1</td>\n",
       "    </tr>\n",
       "  </tbody>\n",
       "</table>\n",
       "</div>"
      ],
      "text/plain": [
       "              Name          SSN Customer_ID\n",
       "0    Aaron Maashoh  821-00-0265   CUS_0xd40\n",
       "1    Aaron Maashoh  821-00-0265   CUS_0xd40\n",
       "2    Aaron Maashoh  821-00-0265   CUS_0xd40\n",
       "3    Aaron Maashoh  821-00-0265   CUS_0xd40\n",
       "4    Aaron Maashoh  821-00-0265   CUS_0xd40\n",
       "5    Aaron Maashoh  821-00-0265   CUS_0xd40\n",
       "6    Aaron Maashoh  821-00-0265   CUS_0xd40\n",
       "7              NaN    #F%$D@*&8   CUS_0xd40\n",
       "8  Rick Rothackerj  004-07-5839  CUS_0x21b1\n",
       "9  Rick Rothackerj  004-07-5839  CUS_0x21b1"
      ]
     },
     "execution_count": 10,
     "metadata": {},
     "output_type": "execute_result"
    }
   ],
   "source": [
    "train[[\"Name\", \"SSN\", \"Customer_ID\"]].head(10) # name, customer id and SSN are redundant"
   ]
  },
  {
   "cell_type": "code",
   "execution_count": 11,
   "id": "fa224b2b",
   "metadata": {},
   "outputs": [
    {
     "data": {
      "text/html": [
       "<div>\n",
       "<style scoped>\n",
       "    .dataframe tbody tr th:only-of-type {\n",
       "        vertical-align: middle;\n",
       "    }\n",
       "\n",
       "    .dataframe tbody tr th {\n",
       "        vertical-align: top;\n",
       "    }\n",
       "\n",
       "    .dataframe thead th {\n",
       "        text-align: right;\n",
       "    }\n",
       "</style>\n",
       "<table border=\"1\" class=\"dataframe\">\n",
       "  <thead>\n",
       "    <tr style=\"text-align: right;\">\n",
       "      <th></th>\n",
       "      <th>Age</th>\n",
       "      <th>Annual_Income</th>\n",
       "      <th>Num_of_Loan</th>\n",
       "      <th>Num_of_Delayed_Payment</th>\n",
       "      <th>Changed_Credit_Limit</th>\n",
       "      <th>Outstanding_Debt</th>\n",
       "      <th>Amount_invested_monthly</th>\n",
       "      <th>Monthly_Balance</th>\n",
       "    </tr>\n",
       "  </thead>\n",
       "  <tbody>\n",
       "    <tr>\n",
       "      <th>10</th>\n",
       "      <td>28</td>\n",
       "      <td>34847.84_</td>\n",
       "      <td>1</td>\n",
       "      <td>-1</td>\n",
       "      <td>5.42</td>\n",
       "      <td>605.03</td>\n",
       "      <td>58.51597569589465</td>\n",
       "      <td>466.46647639764313</td>\n",
       "    </tr>\n",
       "    <tr>\n",
       "      <th>11</th>\n",
       "      <td>28</td>\n",
       "      <td>34847.84</td>\n",
       "      <td>1</td>\n",
       "      <td>3_</td>\n",
       "      <td>5.42</td>\n",
       "      <td>605.03</td>\n",
       "      <td>99.30622796053305</td>\n",
       "      <td>465.6762241330048</td>\n",
       "    </tr>\n",
       "    <tr>\n",
       "      <th>12</th>\n",
       "      <td>28</td>\n",
       "      <td>34847.84</td>\n",
       "      <td>1</td>\n",
       "      <td>1</td>\n",
       "      <td>6.42</td>\n",
       "      <td>605.03</td>\n",
       "      <td>130.11542024292334</td>\n",
       "      <td>444.8670318506144</td>\n",
       "    </tr>\n",
       "    <tr>\n",
       "      <th>13</th>\n",
       "      <td>28</td>\n",
       "      <td>34847.84</td>\n",
       "      <td>1</td>\n",
       "      <td>0</td>\n",
       "      <td>5.42</td>\n",
       "      <td>605.03</td>\n",
       "      <td>43.477190144355745</td>\n",
       "      <td>481.505261949182</td>\n",
       "    </tr>\n",
       "    <tr>\n",
       "      <th>14</th>\n",
       "      <td>28</td>\n",
       "      <td>34847.84</td>\n",
       "      <td>1</td>\n",
       "      <td>4</td>\n",
       "      <td>5.42</td>\n",
       "      <td>605.03</td>\n",
       "      <td>70.10177420755677</td>\n",
       "      <td>464.8806778859809</td>\n",
       "    </tr>\n",
       "    <tr>\n",
       "      <th>15</th>\n",
       "      <td>28</td>\n",
       "      <td>34847.84</td>\n",
       "      <td>1</td>\n",
       "      <td>4</td>\n",
       "      <td>5.42</td>\n",
       "      <td>605.03</td>\n",
       "      <td>218.90434353388733</td>\n",
       "      <td>356.07810855965045</td>\n",
       "    </tr>\n",
       "    <tr>\n",
       "      <th>16</th>\n",
       "      <td>34</td>\n",
       "      <td>143162.64</td>\n",
       "      <td>3</td>\n",
       "      <td>8</td>\n",
       "      <td>7.1</td>\n",
       "      <td>1303.01</td>\n",
       "      <td>168.413702679309</td>\n",
       "      <td>1043.3159778669492</td>\n",
       "    </tr>\n",
       "    <tr>\n",
       "      <th>17</th>\n",
       "      <td>34</td>\n",
       "      <td>143162.64</td>\n",
       "      <td>3</td>\n",
       "      <td>6</td>\n",
       "      <td>7.1</td>\n",
       "      <td>1303.01</td>\n",
       "      <td>232.86038375993544</td>\n",
       "      <td>998.8692967863226</td>\n",
       "    </tr>\n",
       "    <tr>\n",
       "      <th>18</th>\n",
       "      <td>34</td>\n",
       "      <td>143162.64</td>\n",
       "      <td>3</td>\n",
       "      <td>7</td>\n",
       "      <td>11.1</td>\n",
       "      <td>1303.01</td>\n",
       "      <td>__10000__</td>\n",
       "      <td>715.741367403555</td>\n",
       "    </tr>\n",
       "    <tr>\n",
       "      <th>19</th>\n",
       "      <td>34</td>\n",
       "      <td>143162.64</td>\n",
       "      <td>3</td>\n",
       "      <td>5</td>\n",
       "      <td>9.1</td>\n",
       "      <td>1303.01</td>\n",
       "      <td>825.2162699393922</td>\n",
       "      <td>426.5134106068658</td>\n",
       "    </tr>\n",
       "  </tbody>\n",
       "</table>\n",
       "</div>"
      ],
      "text/plain": [
       "   Age Annual_Income Num_of_Loan Num_of_Delayed_Payment Changed_Credit_Limit  \\\n",
       "10  28     34847.84_           1                     -1                 5.42   \n",
       "11  28      34847.84           1                     3_                 5.42   \n",
       "12  28      34847.84           1                      1                 6.42   \n",
       "13  28      34847.84           1                      0                 5.42   \n",
       "14  28      34847.84           1                      4                 5.42   \n",
       "15  28      34847.84           1                      4                 5.42   \n",
       "16  34     143162.64           3                      8                  7.1   \n",
       "17  34     143162.64           3                      6                  7.1   \n",
       "18  34     143162.64           3                      7                 11.1   \n",
       "19  34     143162.64           3                      5                  9.1   \n",
       "\n",
       "   Outstanding_Debt Amount_invested_monthly     Monthly_Balance  \n",
       "10           605.03       58.51597569589465  466.46647639764313  \n",
       "11           605.03       99.30622796053305   465.6762241330048  \n",
       "12           605.03      130.11542024292334   444.8670318506144  \n",
       "13           605.03      43.477190144355745    481.505261949182  \n",
       "14           605.03       70.10177420755677   464.8806778859809  \n",
       "15           605.03      218.90434353388733  356.07810855965045  \n",
       "16          1303.01        168.413702679309  1043.3159778669492  \n",
       "17          1303.01      232.86038375993544   998.8692967863226  \n",
       "18          1303.01               __10000__    715.741367403555  \n",
       "19          1303.01       825.2162699393922   426.5134106068658  "
      ]
     },
     "execution_count": 11,
     "metadata": {},
     "output_type": "execute_result"
    }
   ],
   "source": [
    "columns_to_alter = ['Age', 'Annual_Income', 'Num_of_Loan','Num_of_Delayed_Payment',\n",
    "                    'Changed_Credit_Limit', 'Outstanding_Debt',\n",
    "                    'Amount_invested_monthly', 'Monthly_Balance']\n",
    "\n",
    "train[columns_to_alter].iloc[10:20] # some columns have weird signs - \"_\" and are of wrong format"
   ]
  },
  {
   "cell_type": "code",
   "execution_count": 12,
   "id": "3a8878bf",
   "metadata": {},
   "outputs": [
    {
     "name": "stdout",
     "output_type": "stream",
     "text": [
      "['No' 'NM' 'Yes'] \n",
      "\n",
      " ['Scientist' '_______' 'Teacher' 'Engineer' 'Entrepreneur' 'Developer'\n",
      " 'Lawyer' 'Media_Manager' 'Doctor' 'Journalist' 'Manager' 'Accountant'\n",
      " 'Musician' 'Mechanic' 'Writer' 'Architect'] \n",
      "\n",
      " ['_' 'Good' 'Standard' 'Bad'] \n",
      "\n",
      " ['High_spent_Small_value_payments' 'Low_spent_Large_value_payments'\n",
      " 'Low_spent_Medium_value_payments' 'Low_spent_Small_value_payments'\n",
      " 'High_spent_Medium_value_payments' '!@9#%8'\n",
      " 'High_spent_Large_value_payments']\n"
     ]
    }
   ],
   "source": [
    "# how different are categorical columns\n",
    "\n",
    "print(train['Payment_of_Min_Amount'].unique(), \"\\n\\n\",\n",
    "      train['Occupation'].unique(), \"\\n\\n\",\n",
    "      train[\"Credit_Mix\"].unique(), \"\\n\\n\",\n",
    "      train[\"Payment_Behaviour\"].unique())"
   ]
  },
  {
   "cell_type": "code",
   "execution_count": 13,
   "id": "f47f4901",
   "metadata": {},
   "outputs": [
    {
     "data": {
      "text/html": [
       "<div>\n",
       "<style scoped>\n",
       "    .dataframe tbody tr th:only-of-type {\n",
       "        vertical-align: middle;\n",
       "    }\n",
       "\n",
       "    .dataframe tbody tr th {\n",
       "        vertical-align: top;\n",
       "    }\n",
       "\n",
       "    .dataframe thead th {\n",
       "        text-align: right;\n",
       "    }\n",
       "</style>\n",
       "<table border=\"1\" class=\"dataframe\">\n",
       "  <thead>\n",
       "    <tr style=\"text-align: right;\">\n",
       "      <th></th>\n",
       "      <th>Credit_History_Age</th>\n",
       "      <th>Payment_Behaviour</th>\n",
       "    </tr>\n",
       "  </thead>\n",
       "  <tbody>\n",
       "    <tr>\n",
       "      <th>0</th>\n",
       "      <td>22 Years and 1 Months</td>\n",
       "      <td>High_spent_Small_value_payments</td>\n",
       "    </tr>\n",
       "    <tr>\n",
       "      <th>1</th>\n",
       "      <td>NaN</td>\n",
       "      <td>Low_spent_Large_value_payments</td>\n",
       "    </tr>\n",
       "    <tr>\n",
       "      <th>2</th>\n",
       "      <td>22 Years and 3 Months</td>\n",
       "      <td>Low_spent_Medium_value_payments</td>\n",
       "    </tr>\n",
       "    <tr>\n",
       "      <th>3</th>\n",
       "      <td>22 Years and 4 Months</td>\n",
       "      <td>Low_spent_Small_value_payments</td>\n",
       "    </tr>\n",
       "    <tr>\n",
       "      <th>4</th>\n",
       "      <td>22 Years and 5 Months</td>\n",
       "      <td>High_spent_Medium_value_payments</td>\n",
       "    </tr>\n",
       "  </tbody>\n",
       "</table>\n",
       "</div>"
      ],
      "text/plain": [
       "      Credit_History_Age                 Payment_Behaviour\n",
       "0  22 Years and 1 Months   High_spent_Small_value_payments\n",
       "1                    NaN    Low_spent_Large_value_payments\n",
       "2  22 Years and 3 Months   Low_spent_Medium_value_payments\n",
       "3  22 Years and 4 Months    Low_spent_Small_value_payments\n",
       "4  22 Years and 5 Months  High_spent_Medium_value_payments"
      ]
     },
     "execution_count": 13,
     "metadata": {},
     "output_type": "execute_result"
    }
   ],
   "source": [
    "# account age, and behaviour are in unfriendly format\n",
    "\n",
    "train[[\"Credit_History_Age\", \"Payment_Behaviour\"]].head()"
   ]
  },
  {
   "cell_type": "code",
   "execution_count": 14,
   "id": "12019786",
   "metadata": {},
   "outputs": [
    {
     "data": {
      "text/plain": [
       "<AxesSubplot:>"
      ]
     },
     "execution_count": 14,
     "metadata": {},
     "output_type": "execute_result"
    },
    {
     "data": {
      "image/png": "[encoded data removed]",
      "text/plain": [
       "<Figure size 432x288 with 2 Axes>"
      ]
     },
     "metadata": {
      "needs_background": "light"
     },
     "output_type": "display_data"
    }
   ],
   "source": [
    "sns.heatmap(train.corr(method=\"spearman\"))"
   ]
  },
  {
   "cell_type": "markdown",
   "id": "94a2c533",
   "metadata": {},
   "source": [
    "## Search for outliers"
   ]
  },
  {
   "cell_type": "code",
   "execution_count": 15,
   "id": "5e19b284",
   "metadata": {},
   "outputs": [
    {
     "name": "stdout",
     "output_type": "stream",
     "text": [
      "       Monthly_Inhand_Salary  Num_Bank_Accounts  Num_Credit_Card  \\\n",
      "count           54425.000000       64000.000000     64000.000000   \n",
      "mean             4200.666742          17.011688        22.776141   \n",
      "std              3195.453352         117.426876       130.332827   \n",
      "min               319.556250          -1.000000         0.000000   \n",
      "25%              1628.297500           3.000000         4.000000   \n",
      "50%              3081.902500           6.000000         6.000000   \n",
      "75%              5967.333333           7.000000         7.000000   \n",
      "max             15204.633333        1798.000000      1499.000000   \n",
      "\n",
      "       Interest_Rate  Delay_from_due_date  Num_Credit_Inquiries  \\\n",
      "count   64000.000000         64000.000000          62794.000000   \n",
      "mean       70.978344            21.120750             27.466223   \n",
      "std       459.881448            14.823882            190.055037   \n",
      "min         1.000000            -5.000000              0.000000   \n",
      "25%         8.000000            10.000000              3.000000   \n",
      "50%        13.000000            18.000000              6.000000   \n",
      "75%        20.000000            28.000000              9.000000   \n",
      "max      5788.000000            67.000000           2597.000000   \n",
      "\n",
      "       Credit_Utilization_Ratio  Total_EMI_per_month  \n",
      "count              64000.000000         64000.000000  \n",
      "mean                  32.310909          1400.996475  \n",
      "std                    5.114061          8330.258318  \n",
      "min                   20.000000             0.000000  \n",
      "25%                   28.078945            30.761443  \n",
      "50%                   32.350825            69.337833  \n",
      "75%                   36.520966           162.979400  \n",
      "max                   50.000000         82256.000000  \n"
     ]
    }
   ],
   "source": [
    "description = train.describe()\n",
    "\n",
    "print(description)"
   ]
  },
  {
   "cell_type": "code",
   "execution_count": 16,
   "id": "029899c0",
   "metadata": {},
   "outputs": [
    {
     "data": {
      "text/plain": [
       "array([[<AxesSubplot:title={'center':'ID'}>,\n",
       "        <AxesSubplot:title={'center':'Customer_ID'}>,\n",
       "        <AxesSubplot:title={'center':'Month'}>,\n",
       "        <AxesSubplot:title={'center':'Name'}>,\n",
       "        <AxesSubplot:title={'center':'Age'}>],\n",
       "       [<AxesSubplot:title={'center':'SSN'}>,\n",
       "        <AxesSubplot:title={'center':'Occupation'}>,\n",
       "        <AxesSubplot:title={'center':'Annual_Income'}>,\n",
       "        <AxesSubplot:title={'center':'Monthly_Inhand_Salary'}>,\n",
       "        <AxesSubplot:title={'center':'Num_Bank_Accounts'}>],\n",
       "       [<AxesSubplot:title={'center':'Num_Credit_Card'}>,\n",
       "        <AxesSubplot:title={'center':'Interest_Rate'}>,\n",
       "        <AxesSubplot:title={'center':'Num_of_Loan'}>,\n",
       "        <AxesSubplot:title={'center':'Type_of_Loan'}>,\n",
       "        <AxesSubplot:title={'center':'Delay_from_due_date'}>],\n",
       "       [<AxesSubplot:title={'center':'Num_of_Delayed_Payment'}>,\n",
       "        <AxesSubplot:title={'center':'Changed_Credit_Limit'}>,\n",
       "        <AxesSubplot:title={'center':'Num_Credit_Inquiries'}>,\n",
       "        <AxesSubplot:title={'center':'Credit_Mix'}>,\n",
       "        <AxesSubplot:title={'center':'Outstanding_Debt'}>],\n",
       "       [<AxesSubplot:title={'center':'Credit_Utilization_Ratio'}>,\n",
       "        <AxesSubplot:title={'center':'Credit_History_Age'}>,\n",
       "        <AxesSubplot:title={'center':'Payment_of_Min_Amount'}>,\n",
       "        <AxesSubplot:title={'center':'Total_EMI_per_month'}>,\n",
       "        <AxesSubplot:title={'center':'Amount_invested_monthly'}>],\n",
       "       [<AxesSubplot:title={'center':'Payment_Behaviour'}>,\n",
       "        <AxesSubplot:title={'center':'Monthly_Balance'}>,\n",
       "        <AxesSubplot:title={'center':'Credit_Score'}>, <AxesSubplot:>,\n",
       "        <AxesSubplot:>]], dtype=object)"
      ]
     },
     "execution_count": 16,
     "metadata": {},
     "output_type": "execute_result"
    },
    {
     "data": {
      "image/png": "[encoded data removed]",
      "text/plain": [
       "<Figure size 2160x1440 with 30 Axes>"
      ]
     },
     "metadata": {
      "needs_background": "light"
     },
     "output_type": "display_data"
    }
   ],
   "source": [
    "df = train.copy()\n",
    "for col in train.columns:\n",
    "    df[col] = pd.to_numeric(train[col], errors='coerce') # errors='coerce', then invalid parsing will be set as NaN\n",
    "\n",
    "# distribution of all the variables\n",
    "df.hist(figsize=(30, 20))"
   ]
  },
  {
   "attachments": {},
   "cell_type": "markdown",
   "id": "1ba3a2b4",
   "metadata": {},
   "source": [
    "some of the plots look very weirdly - they consists of only one column. It probably means that those features contain some outliers."
   ]
  },
  {
   "cell_type": "code",
   "execution_count": 17,
   "id": "a336c058",
   "metadata": {},
   "outputs": [
    {
     "data": {
      "text/plain": [
       "Age                           56.00\n",
       "Annual_Income             166891.60\n",
       "Num_Bank_Accounts             10.00\n",
       "Num_Credit_Card              187.02\n",
       "Interest_Rate                 60.08\n",
       "Num_of_Loan                    9.00\n",
       "Num_of_Delayed_Payment        25.00\n",
       "Num_Credit_Inquiries          17.00\n",
       "Total_EMI_per_month        29527.08\n",
       "Name: 0.98, dtype: float64"
      ]
     },
     "execution_count": 17,
     "metadata": {},
     "output_type": "execute_result"
    }
   ],
   "source": [
    "# we choose outliers by looking at the plots\n",
    "\n",
    "columns_with_outliers = [\"Age\", \"Annual_Income\", \"Num_Bank_Accounts\", \n",
    "                         \"Num_Credit_Card\", \"Interest_Rate\", \n",
    "                         \"Num_of_Loan\", \"Num_of_Delayed_Payment\",\n",
    "                         \"Num_Credit_Inquiries\", \"Total_EMI_per_month\"]\n",
    "\n",
    "\n",
    "df[columns_with_outliers].quantile(0.98)"
   ]
  },
  {
   "cell_type": "code",
   "execution_count": 18,
   "id": "62d69d70",
   "metadata": {},
   "outputs": [
    {
     "data": {
      "text/plain": [
       "<AxesSubplot:>"
      ]
     },
     "execution_count": 18,
     "metadata": {},
     "output_type": "execute_result"
    },
    {
     "data": {
      "image/png": "[encoded data removed]",
      "text/plain": [
       "<Figure size 432x288 with 2 Axes>"
      ]
     },
     "metadata": {
      "needs_background": "light"
     },
     "output_type": "display_data"
    }
   ],
   "source": [
    "# correlation between columns \n",
    "sns.heatmap(df.corr())"
   ]
  },
  {
   "cell_type": "code",
   "execution_count": 19,
   "id": "ff2facd2",
   "metadata": {},
   "outputs": [
    {
     "data": {
      "text/plain": [
       "<BarContainer object of 3 artists>"
      ]
     },
     "execution_count": 19,
     "metadata": {},
     "output_type": "execute_result"
    },
    {
     "data": {
      "image/png": "[encoded data removed]",
      "text/plain": [
       "<Figure size 432x288 with 1 Axes>"
      ]
     },
     "metadata": {
      "needs_background": "light"
     },
     "output_type": "display_data"
    }
   ],
   "source": [
    "# Monthly_Inhand_Salary is strongly correlated with Monthly_Balance and \n",
    "# Amount_Invested_Monthly but those are not correlated with each other\n",
    "\n",
    "plt.bar(x = train[\"Credit_Score\"].unique(),\n",
    "        height=train.loc[df[\"Num_of_Loan\"]>=15][\"Credit_Score\"].value_counts())"
   ]
  },
  {
   "cell_type": "markdown",
   "id": "0c77f97e",
   "metadata": {},
   "source": [
    "# Data Preprocessing"
   ]
  },
  {
   "cell_type": "code",
   "execution_count": 20,
   "id": "f6422de7",
   "metadata": {},
   "outputs": [],
   "source": [
    "def id_columns(df):\n",
    "    df = df.drop([\"Name\", \"SSN\", \"ID\"], axis=\"columns\") # no added value, all the information in Customer_ID\n",
    "    df[\"Customer_ID\"] = df[\"Customer_ID\"].apply(lambda x: int(x[4:], 16)) # convert to int\n",
    "    \n",
    "    print(\"Columns containing id-like information preprocessed\")\n",
    "    return df"
   ]
  },
  {
   "cell_type": "code",
   "execution_count": 21,
   "id": "787fd3cb",
   "metadata": {},
   "outputs": [],
   "source": [
    "def clear_numeric_data(col):\n",
    "    # some of the rows contain \"_\" sign\n",
    "    col.astype(str).replace(\"_\", \"\")\n",
    "    return pd.to_numeric(col, errors=\"coerce\") # errors='coerce', then invalid parsing will be set as NaN"
   ]
  },
  {
   "cell_type": "code",
   "execution_count": 22,
   "id": "746a2cd7",
   "metadata": {},
   "outputs": [],
   "source": [
    "# function for cleaning numeric data where necessary\n",
    "def altering(df):\n",
    "    \n",
    "    columns_to_alter = ['Age', 'Annual_Income', 'Num_of_Loan','Num_of_Delayed_Payment',\n",
    "                        'Changed_Credit_Limit', 'Outstanding_Debt',\n",
    "                        'Amount_invested_monthly', 'Monthly_Balance']\n",
    "\n",
    "    df[columns_to_alter] = df[columns_to_alter].apply(clear_numeric_data, axis=1)\n",
    "\n",
    "    print(\"Numeric data preprocessed. Columns with numeric values contain numeric only variables. Changed columns types\")\n",
    "    return df"
   ]
  },
  {
   "cell_type": "code",
   "execution_count": 23,
   "id": "72c84e2e",
   "metadata": {},
   "outputs": [],
   "source": [
    "def delete_outliers(column, a=0, b=0.98, use_quantiles=True):\n",
    "    # function helps removing quantiles from a column, \n",
    "    # if parameter (use_quantiles) is False, removes outliers outside given range (a, b)\n",
    "    # otherwise removes top quantiles\n",
    "    \n",
    "    col = np.where(a < column, column, float('nan'))\n",
    "    if use_quantiles:\n",
    "        return np.where(col <= column.quantile(b), column, float('nan'))\n",
    "    return np.where(col <= b, column, float('nan'))\n",
    "\n",
    "\n",
    "def handle_outliers(df):\n",
    "    df[\"Age\"] = np.where((0 > df[\"Age\"]), -df[\"Age\"], df[\"Age\"]) # deleting weird outliers\n",
    "    df['Age'] = delete_outliers(df[\"Age\"], 0, 100, use_quantiles=False)\n",
    "    \n",
    "    df[\"Annual_Income\"] = delete_outliers(df[\"Annual_Income\"])\n",
    "    df[\"Num_Bank_Accounts\"] = delete_outliers(df[\"Num_Bank_Accounts\"])\n",
    "    df[\"Num_of_Loan\"] = delete_outliers(df[\"Num_of_Loan\"])\n",
    "    df[\"Interest_Rate\"] = delete_outliers(df[\"Interest_Rate\"])\n",
    "    df[\"Num_Credit_Card\"] = delete_outliers(df[\"Num_Credit_Card\"], 0, 0.97)\n",
    "    df[\"Num_of_Delayed_Payment\"] = delete_outliers(df[\"Num_of_Delayed_Payment\"])\n",
    "    df[\"Num_Credit_Inquiries\"] = delete_outliers(df[\"Num_Credit_Inquiries\"])\n",
    "    df[\"Total_EMI_per_month\"] = delete_outliers(df[\"Total_EMI_per_month\"], 0, 0.95)\n",
    "\n",
    "\n",
    "    print(\"Deleted outliers\")   \n",
    "    \n",
    "    return df"
   ]
  },
  {
   "cell_type": "markdown",
   "id": "98dfa837",
   "metadata": {},
   "source": [
    "## Encoding categorical data"
   ]
  },
  {
   "cell_type": "code",
   "execution_count": 24,
   "id": "03f55582",
   "metadata": {},
   "outputs": [
    {
     "data": {
      "text/plain": [
       "array(['Scientist', 'Unknown', 'Teacher', 'Engineer', 'Entrepreneur',\n",
       "       'Developer', 'Lawyer', 'Media_Manager', 'Doctor', 'Journalist',\n",
       "       'Manager', 'Accountant', 'Musician', 'Mechanic', 'Writer',\n",
       "       'Architect'], dtype=object)"
      ]
     },
     "execution_count": 24,
     "metadata": {},
     "output_type": "execute_result"
    }
   ],
   "source": [
    "train[\"Occupation\"] = np.where(train[\"Occupation\"] == \"_______\", \"Unknown\", train[\"Occupation\"])\n",
    "occupations_list = train[\"Occupation\"].unique()\n",
    "occupations_list"
   ]
  },
  {
   "cell_type": "code",
   "execution_count": 25,
   "id": "f7200d49",
   "metadata": {},
   "outputs": [],
   "source": [
    "# first we fill the information for customers that have other rows with full information available\n",
    "train['Type_of_Loan'].fillna(train.groupby('Customer_ID')['Type_of_Loan'].first(), inplace=True)\n",
    "# later we fill with ''\n",
    "train['Type_of_Loan'].fillna('', inplace=True)\n",
    "    \n",
    "loan_types_list =  train['Type_of_Loan'].value_counts().head(9).index[1:] "
   ]
  },
  {
   "cell_type": "code",
   "execution_count": 118,
   "id": "0b585c19",
   "metadata": {},
   "outputs": [],
   "source": [
    "def encode_categorical(df):\n",
    "    # encode columns where necessary (Credit_Mix, Payment_of_Min_Amount, Credit_Score)\n",
    "    # mapping\n",
    "    credit_mix_dict = {'Bad':0, 'Standard':1, 'Good':2, '_':float('nan')}\n",
    "    poma_dict = {'No':0, 'Yes':1, 'NM':float('nan')}\n",
    "    credit_score_dict = {'Poor':0, 'Standard':1, 'Good':2}\n",
    "    month_dict = {\"January\": 1, \"February\": 2, \"March\": 3, \"April\": 4, \"May\": 5,\n",
    "                \"June\": 6, \"July\": 7, \"August\": 8}\n",
    "    \n",
    "    \n",
    "    df['Payment_of_Min_Amount'] = df['Payment_of_Min_Amount'].map(poma_dict)\n",
    "    df['Credit_Mix'] = df['Credit_Mix'].map(credit_mix_dict)\n",
    "    df['Credit_Score'] = df['Credit_Score'].map(credit_score_dict)\n",
    "    df[\"Month\"] = df[\"Month\"].map(month_dict)\n",
    "    \n",
    "    # Payment_Behaviour column brings two informations, one about spending, other about value payments\n",
    "    df[\"Payment_Behaviour\"] = df[\"Payment_Behaviour\"].replace('!@9#%8', 'Unknown_spent_Unknown_value_payments')\n",
    "    split_payment = lambda x:  ([x.split(\"_\")[0], x.split(\"_\")[2]] if (x is not None) else [\"Unknown\", \"Unknown\"])\n",
    "    df[\"Payment_Behaviour\"] = df[\"Payment_Behaviour\"].apply(split_payment)\n",
    "    \n",
    "    df[[\"Spending_Behaviour\", \"Value_Payments\"]] = pd.DataFrame(df[\"Payment_Behaviour\"].tolist(), index=df.index)\n",
    "    \n",
    "    spending_dict = {'Low':0, 'High':1, 'Unknown':float('nan')}\n",
    "    value_dict = {'Small':0, 'Medium':1, 'Large':2,  'Unknown':float('nan')}\n",
    "    \n",
    "    df['Spending_Behaviour'] = df['Spending_Behaviour'].map(spending_dict)\n",
    "    df['Value_Payments'] = df['Value_Payments'].map(value_dict)\n",
    "    \n",
    "    \n",
    "    del df[\"Payment_Behaviour\"]\n",
    "    \n",
    "    \n",
    "    for loan_type in loan_types_list: # the single types of loans\n",
    "        df[loan_type] = df['Type_of_Loan'].str.contains(loan_type).astype(\"bool\")\n",
    "    del df[\"Type_of_Loan\"]\n",
    "    \n",
    "    \n",
    "    # credit history age    \n",
    "    df['Credit_History_Age'] = df['Credit_History_Age'].apply(history_age)\n",
    "    \n",
    "    # Occupation - ____ for uneployed\n",
    "    df[\"Occupation\"] = np.where(df[\"Occupation\"] == \"_______\", \"Unknown\", df[\"Occupation\"])\n",
    "\n",
    "    df[\"Occupation\"] = np.where(df[\"Occupation\"].isin(occupations_list), df[\"Occupation\"], \"Unknown\") # to handle different occupations in test data\n",
    "    \n",
    "    df = df.join(pd.get_dummies(df['Occupation']))\n",
    "\n",
    "    del df[\"Occupation\"]\n",
    "\n",
    "    print(\"Categorical columns with string values encoded. Added new columns where necessary (one-hot encoding)\")\n",
    "    \n",
    "    return df"
   ]
  },
  {
   "cell_type": "markdown",
   "id": "6a1993b7",
   "metadata": {},
   "source": [
    "## handling NaNs"
   ]
  },
  {
   "cell_type": "code",
   "execution_count": 119,
   "id": "4ef5189e",
   "metadata": {},
   "outputs": [],
   "source": [
    "def impute_values(df): # this works but very slowly\n",
    "    \n",
    "    continuous_values = ['Monthly_Inhand_Salary', 'Amount_invested_monthly',\n",
    "                         'Monthly_Balance', 'Credit_History_Age', \"Outstanding_Debt\",\n",
    "                         \"Changed_Credit_Limit\", \"Annual_Income\"]\n",
    "    \n",
    "    for column in continuous_values:\n",
    "        df[column] = df[column].fillna(df.groupby('Customer_ID')[column].transform(\"mean\"))\n",
    "    # using mean is not causing any trouble here, we're practically taking the value that appears\n",
    "    # in the rows with the same id\n",
    "        \n",
    "    \n",
    "    discrete_columns = [\"Age\", \"Num_Credit_Inquiries\", \"Num_of_Loan\", \"Credit_Mix\",\n",
    "                        \"Num_of_Delayed_Payment\", \"Num_Credit_Inquiries\", \n",
    "                        \"Spending_Behaviour\", \"Payment_of_Min_Amount\", \"Value_Payments\"]\n",
    "    # for discrete values we'll impute nans with mode\n",
    "    for column in discrete_columns:\n",
    "        #train[column].fillna(train.groupby('Customer_ID')[column].agg(lambda x: pd.Series.mode(x)[0]), inplace=True) \n",
    "        df[column].fillna(df.groupby('Customer_ID')[column].transform('median'), inplace=True) \n",
    "        pass\n",
    "    \n",
    "    df = df.fillna(df.median()) # in case a customer doesn't have any entries\n",
    "\n",
    "\n",
    "    print(\"NA values imputed within numeric columns\")\n",
    "\n",
    "    return df\n"
   ]
  },
  {
   "cell_type": "code",
   "execution_count": 120,
   "id": "786b3233",
   "metadata": {},
   "outputs": [],
   "source": [
    "# processing Credit_History_Age so that's continuous\n",
    "import re\n",
    "def history_age(age):\n",
    "    try : \n",
    "        years = int(re.findall('[0-9]+', age)[0])\n",
    "        month = int(re.findall('[0-9]+', age)[1])\n",
    "        return years*12 + month\n",
    "    except :\n",
    "        return np.nan\n",
    "    \n",
    "import re"
   ]
  },
  {
   "cell_type": "code",
   "execution_count": 121,
   "id": "2dc32c0a",
   "metadata": {},
   "outputs": [],
   "source": [
    "def impute_discrete_string(df):\n",
    "\n",
    "    discrete_string_columns = [\"Occupation\", \"Type_of_Loan\", \"Payment_Behaviour\"]\n",
    "    # fill missing data in columns that are strings\n",
    "\n",
    "    for column in discrete_string_columns:\n",
    "        most_common_globally = df[column].agg(lambda x: pd.Series.mode(x)[0])\n",
    "        df[column].fillna(df.groupby('Customer_ID')[column].agg(\n",
    "            lambda x: (most_common_globally if len(pd.Series.mode(x)) == 0 else pd.Series.mode(x)[0])\n",
    "            ), inplace=True) \n",
    "        \n",
    "\n",
    "    print(\"NA values imputed within text columns\")\n",
    "        \n",
    "    return df"
   ]
  },
  {
   "cell_type": "markdown",
   "id": "225352d5",
   "metadata": {},
   "source": [
    "## Pipeline"
   ]
  },
  {
   "cell_type": "code",
   "execution_count": 122,
   "id": "7e846699",
   "metadata": {},
   "outputs": [],
   "source": [
    "from sklearn.preprocessing import FunctionTransformer\n",
    "from sklearn.pipeline import Pipeline\n",
    "\n",
    "drop_transformer = FunctionTransformer(id_columns)\n",
    "altering_transformer = FunctionTransformer(altering)\n",
    "outlier_transformer = FunctionTransformer(handle_outliers)\n",
    "categorical_transformer = FunctionTransformer(encode_categorical)\n",
    "imputer_transformer = FunctionTransformer(impute_values)\n",
    "discrete_imputer_transformer = FunctionTransformer(impute_discrete_string)\n",
    "\n",
    "# all the afore declared processings applied\n",
    "prepipe = Pipeline([\n",
    "    (\"drop\", drop_transformer),\n",
    "    (\"altering\", altering_transformer),\n",
    "    (\"outliers\", outlier_transformer),\n",
    "    (\"impute_discrete_string\", discrete_imputer_transformer),\n",
    "    (\"categorical\", categorical_transformer),\n",
    "    (\"impute\", imputer_transformer)\n",
    "])\n"
   ]
  },
  {
   "cell_type": "code",
   "execution_count": 126,
   "id": "402b1b9f",
   "metadata": {},
   "outputs": [
    {
     "name": "stdout",
     "output_type": "stream",
     "text": [
      "Columns containing id-like information preprocessed\n",
      "Numeric data preprocessed. Columns with numeric values contain numeric only variables. Changed columns types\n",
      "Deleted outliers\n",
      "NA values imputed within text columns\n",
      "Categorical columns with string values encoded. Added new columns where necessary (one-hot encoding)\n",
      "NA values imputed within numeric columns\n"
     ]
    }
   ],
   "source": [
    "train = prepipe.fit_transform(train)"
   ]
  },
  {
   "cell_type": "code",
   "execution_count": 127,
   "id": "0ddc1fc5",
   "metadata": {},
   "outputs": [],
   "source": [
    "# check outliers - we change the outliers pipe\n",
    "described = train.describe()"
   ]
  },
  {
   "cell_type": "code",
   "execution_count": 128,
   "id": "a9a53f9b",
   "metadata": {},
   "outputs": [
    {
     "data": {
      "text/plain": [
       "array([[<AxesSubplot:title={'center':'Customer_ID'}>,\n",
       "        <AxesSubplot:title={'center':'Month'}>,\n",
       "        <AxesSubplot:title={'center':'Age'}>,\n",
       "        <AxesSubplot:title={'center':'Annual_Income'}>,\n",
       "        <AxesSubplot:title={'center':'Monthly_Inhand_Salary'}>,\n",
       "        <AxesSubplot:title={'center':'Num_Bank_Accounts'}>],\n",
       "       [<AxesSubplot:title={'center':'Num_Credit_Card'}>,\n",
       "        <AxesSubplot:title={'center':'Interest_Rate'}>,\n",
       "        <AxesSubplot:title={'center':'Num_of_Loan'}>,\n",
       "        <AxesSubplot:title={'center':'Delay_from_due_date'}>,\n",
       "        <AxesSubplot:title={'center':'Num_of_Delayed_Payment'}>,\n",
       "        <AxesSubplot:title={'center':'Changed_Credit_Limit'}>],\n",
       "       [<AxesSubplot:title={'center':'Num_Credit_Inquiries'}>,\n",
       "        <AxesSubplot:title={'center':'Credit_Mix'}>,\n",
       "        <AxesSubplot:title={'center':'Outstanding_Debt'}>,\n",
       "        <AxesSubplot:title={'center':'Credit_Utilization_Ratio'}>,\n",
       "        <AxesSubplot:title={'center':'Credit_History_Age'}>,\n",
       "        <AxesSubplot:title={'center':'Payment_of_Min_Amount'}>],\n",
       "       [<AxesSubplot:title={'center':'Total_EMI_per_month'}>,\n",
       "        <AxesSubplot:title={'center':'Amount_invested_monthly'}>,\n",
       "        <AxesSubplot:title={'center':'Monthly_Balance'}>,\n",
       "        <AxesSubplot:title={'center':'Credit_Score'}>,\n",
       "        <AxesSubplot:title={'center':'Spending_Behaviour'}>,\n",
       "        <AxesSubplot:title={'center':'Value_Payments'}>],\n",
       "       [<AxesSubplot:title={'center':'Accountant'}>,\n",
       "        <AxesSubplot:title={'center':'Architect'}>,\n",
       "        <AxesSubplot:title={'center':'Developer'}>,\n",
       "        <AxesSubplot:title={'center':'Doctor'}>,\n",
       "        <AxesSubplot:title={'center':'Engineer'}>,\n",
       "        <AxesSubplot:title={'center':'Entrepreneur'}>],\n",
       "       [<AxesSubplot:title={'center':'Journalist'}>,\n",
       "        <AxesSubplot:title={'center':'Lawyer'}>,\n",
       "        <AxesSubplot:title={'center':'Manager'}>,\n",
       "        <AxesSubplot:title={'center':'Mechanic'}>,\n",
       "        <AxesSubplot:title={'center':'Media_Manager'}>,\n",
       "        <AxesSubplot:title={'center':'Musician'}>],\n",
       "       [<AxesSubplot:title={'center':'Scientist'}>,\n",
       "        <AxesSubplot:title={'center':'Teacher'}>,\n",
       "        <AxesSubplot:title={'center':'Unknown'}>,\n",
       "        <AxesSubplot:title={'center':'Writer'}>, <AxesSubplot:>,\n",
       "        <AxesSubplot:>]], dtype=object)"
      ]
     },
     "execution_count": 128,
     "metadata": {},
     "output_type": "execute_result"
    },
    {
     "data": {
      "image/png": "[encoded data removed]",
      "text/plain": [
       "<Figure size 2160x1440 with 42 Axes>"
      ]
     },
     "metadata": {
      "needs_background": "light"
     },
     "output_type": "display_data"
    }
   ],
   "source": [
    "train.hist(figsize=(30, 20))"
   ]
  },
  {
   "cell_type": "code",
   "execution_count": 129,
   "id": "0e2ea1ce",
   "metadata": {},
   "outputs": [
    {
     "data": {
      "text/plain": [
       "<AxesSubplot:>"
      ]
     },
     "execution_count": 129,
     "metadata": {},
     "output_type": "execute_result"
    },
    {
     "data": {
      "image/png": "[encoded data removed]",
      "text/plain": [
       "<Figure size 432x288 with 2 Axes>"
      ]
     },
     "metadata": {
      "needs_background": "light"
     },
     "output_type": "display_data"
    }
   ],
   "source": [
    "sns.heatmap(train.corr(), cmap=\"YlGnBu\")"
   ]
  },
  {
   "cell_type": "markdown",
   "id": "d02d5063",
   "metadata": {},
   "source": [
    "# Choice of columns"
   ]
  },
  {
   "cell_type": "code",
   "execution_count": 34,
   "id": "5ea9fab5",
   "metadata": {},
   "outputs": [],
   "source": [
    "# first we'll take a look at correlated columns\n",
    "# train_dropped = train_transformed.drop(columns = [\"Monthly_Balance\",\n",
    "#                                                   \"Amount_invested_monthly\",\n",
    "#                                                   \"Annual_Income\"])\n",
    "    \n",
    "\n",
    "# train_corr = train_dropped.corr()\n",
    "\n",
    "# t = (abs(train_corr) > 0.5) + 0.\n",
    "\n",
    "# strong_corelation_columns = [\"Num_Bank_Accounts\", \"Num_Credit_Card\", \"Interest_Rate\",\n",
    "#                              \"Num_of_Loan\", \"Delay_from_due_date\", \"Num_of_Delayed_Payment\",\n",
    "#                              \"Changed_Credit_Limit\", \"Num_Credit_Inquiries\", \"Credit_Mix\",\n",
    "#                              \"Outstanding_Debt\", \"Credit_History_Age\", \n",
    "#                              \"Payment_of_Min_Amount\"]\n",
    "\n",
    "\n",
    "# sns.heatmap(train_dropped[strong_corelation_columns].corr(), annot=True)\n",
    "\n"
   ]
  },
  {
   "cell_type": "markdown",
   "id": "51fb2f07",
   "metadata": {},
   "source": [
    "# Model"
   ]
  },
  {
   "cell_type": "code",
   "execution_count": 35,
   "id": "8cd12554",
   "metadata": {},
   "outputs": [],
   "source": [
    "from sklearn.model_selection import train_test_split\n",
    "from sklearn.metrics import classification_report\n",
    "from sklearn.preprocessing import StandardScaler"
   ]
  },
  {
   "cell_type": "code",
   "execution_count": 130,
   "id": "b9fee98c",
   "metadata": {},
   "outputs": [],
   "source": [
    "# training dataset\n",
    "y = train['Credit_Score']\n",
    "del train['Credit_Score']\n",
    "y_train = y\n",
    "X_train = train"
   ]
  },
  {
   "cell_type": "code",
   "execution_count": 131,
   "id": "2869f728",
   "metadata": {},
   "outputs": [
    {
     "name": "stdout",
     "output_type": "stream",
     "text": [
      "Columns containing id-like information preprocessed\n",
      "Numeric data preprocessed. Columns with numeric values contain numeric only variables. Changed columns types\n",
      "Deleted outliers\n",
      "NA values imputed within text columns\n",
      "Categorical columns with string values encoded. Added new columns where necessary (one-hot encoding)\n",
      "NA values imputed within numeric columns\n"
     ]
    }
   ],
   "source": [
    "# validation dataset\n",
    "val = prepipe.transform(val)\n",
    "X_val = val\n",
    "y_val = val[\"Credit_Score\"]\n",
    "del X_val[\"Credit_Score\"]"
   ]
  },
  {
   "cell_type": "code",
   "execution_count": 132,
   "id": "78e89bd8",
   "metadata": {},
   "outputs": [
    {
     "name": "stdout",
     "output_type": "stream",
     "text": [
      "<class 'pandas.core.frame.DataFrame'>\n",
      "Int64Index: 64000 entries, 0 to 63999\n",
      "Data columns (total 47 columns):\n",
      " #   Column                    Non-Null Count  Dtype  \n",
      "---  ------                    --------------  -----  \n",
      " 0   Customer_ID               64000 non-null  int64  \n",
      " 1   Month                     64000 non-null  int64  \n",
      " 2   Age                       64000 non-null  float64\n",
      " 3   Annual_Income             64000 non-null  float64\n",
      " 4   Monthly_Inhand_Salary     64000 non-null  float64\n",
      " 5   Num_Bank_Accounts         64000 non-null  float64\n",
      " 6   Num_Credit_Card           64000 non-null  float64\n",
      " 7   Interest_Rate             64000 non-null  float64\n",
      " 8   Num_of_Loan               64000 non-null  float64\n",
      " 9   Delay_from_due_date       64000 non-null  int64  \n",
      " 10  Num_of_Delayed_Payment    64000 non-null  float64\n",
      " 11  Changed_Credit_Limit      64000 non-null  float64\n",
      " 12  Num_Credit_Inquiries      64000 non-null  float64\n",
      " 13  Credit_Mix                64000 non-null  float64\n",
      " 14  Outstanding_Debt          64000 non-null  float64\n",
      " 15  Credit_Utilization_Ratio  64000 non-null  float64\n",
      " 16  Credit_History_Age        64000 non-null  float64\n",
      " 17  Payment_of_Min_Amount     64000 non-null  float64\n",
      " 18  Total_EMI_per_month       64000 non-null  float64\n",
      " 19  Amount_invested_monthly   64000 non-null  float64\n",
      " 20  Monthly_Balance           64000 non-null  float64\n",
      " 21  Spending_Behaviour        64000 non-null  float64\n",
      " 22  Value_Payments            64000 non-null  float64\n",
      " 23  Not Specified             64000 non-null  bool   \n",
      " 24  Credit-Builder Loan       64000 non-null  bool   \n",
      " 25  Payday Loan               64000 non-null  bool   \n",
      " 26  Personal Loan             64000 non-null  bool   \n",
      " 27  Mortgage Loan             64000 non-null  bool   \n",
      " 28  Auto Loan                 64000 non-null  bool   \n",
      " 29  Student Loan              64000 non-null  bool   \n",
      " 30  Home Equity Loan          64000 non-null  bool   \n",
      " 31  Accountant                64000 non-null  uint8  \n",
      " 32  Architect                 64000 non-null  uint8  \n",
      " 33  Developer                 64000 non-null  uint8  \n",
      " 34  Doctor                    64000 non-null  uint8  \n",
      " 35  Engineer                  64000 non-null  uint8  \n",
      " 36  Entrepreneur              64000 non-null  uint8  \n",
      " 37  Journalist                64000 non-null  uint8  \n",
      " 38  Lawyer                    64000 non-null  uint8  \n",
      " 39  Manager                   64000 non-null  uint8  \n",
      " 40  Mechanic                  64000 non-null  uint8  \n",
      " 41  Media_Manager             64000 non-null  uint8  \n",
      " 42  Musician                  64000 non-null  uint8  \n",
      " 43  Scientist                 64000 non-null  uint8  \n",
      " 44  Teacher                   64000 non-null  uint8  \n",
      " 45  Unknown                   64000 non-null  uint8  \n",
      " 46  Writer                    64000 non-null  uint8  \n",
      "dtypes: bool(8), float64(20), int64(3), uint8(16)\n",
      "memory usage: 15.2 MB\n"
     ]
    }
   ],
   "source": [
    "X_train.info()"
   ]
  },
  {
   "cell_type": "code",
   "execution_count": 133,
   "id": "5c7878a9",
   "metadata": {},
   "outputs": [
    {
     "name": "stdout",
     "output_type": "stream",
     "text": [
      "<class 'pandas.core.frame.DataFrame'>\n",
      "Int64Index: 16000 entries, 64000 to 79999\n",
      "Data columns (total 47 columns):\n",
      " #   Column                    Non-Null Count  Dtype  \n",
      "---  ------                    --------------  -----  \n",
      " 0   Customer_ID               16000 non-null  int64  \n",
      " 1   Month                     16000 non-null  int64  \n",
      " 2   Age                       16000 non-null  float64\n",
      " 3   Annual_Income             16000 non-null  float64\n",
      " 4   Monthly_Inhand_Salary     16000 non-null  float64\n",
      " 5   Num_Bank_Accounts         16000 non-null  float64\n",
      " 6   Num_Credit_Card           16000 non-null  float64\n",
      " 7   Interest_Rate             16000 non-null  float64\n",
      " 8   Num_of_Loan               16000 non-null  float64\n",
      " 9   Delay_from_due_date       16000 non-null  int64  \n",
      " 10  Num_of_Delayed_Payment    16000 non-null  float64\n",
      " 11  Changed_Credit_Limit      16000 non-null  float64\n",
      " 12  Num_Credit_Inquiries      16000 non-null  float64\n",
      " 13  Credit_Mix                16000 non-null  float64\n",
      " 14  Outstanding_Debt          16000 non-null  float64\n",
      " 15  Credit_Utilization_Ratio  16000 non-null  float64\n",
      " 16  Credit_History_Age        16000 non-null  float64\n",
      " 17  Payment_of_Min_Amount     16000 non-null  float64\n",
      " 18  Total_EMI_per_month       16000 non-null  float64\n",
      " 19  Amount_invested_monthly   16000 non-null  float64\n",
      " 20  Monthly_Balance           16000 non-null  float64\n",
      " 21  Spending_Behaviour        16000 non-null  float64\n",
      " 22  Value_Payments            16000 non-null  float64\n",
      " 23  Not Specified             16000 non-null  bool   \n",
      " 24  Credit-Builder Loan       16000 non-null  bool   \n",
      " 25  Payday Loan               16000 non-null  bool   \n",
      " 26  Personal Loan             16000 non-null  bool   \n",
      " 27  Mortgage Loan             16000 non-null  bool   \n",
      " 28  Auto Loan                 16000 non-null  bool   \n",
      " 29  Student Loan              16000 non-null  bool   \n",
      " 30  Home Equity Loan          16000 non-null  bool   \n",
      " 31  Accountant                16000 non-null  uint8  \n",
      " 32  Architect                 16000 non-null  uint8  \n",
      " 33  Developer                 16000 non-null  uint8  \n",
      " 34  Doctor                    16000 non-null  uint8  \n",
      " 35  Engineer                  16000 non-null  uint8  \n",
      " 36  Entrepreneur              16000 non-null  uint8  \n",
      " 37  Journalist                16000 non-null  uint8  \n",
      " 38  Lawyer                    16000 non-null  uint8  \n",
      " 39  Manager                   16000 non-null  uint8  \n",
      " 40  Mechanic                  16000 non-null  uint8  \n",
      " 41  Media_Manager             16000 non-null  uint8  \n",
      " 42  Musician                  16000 non-null  uint8  \n",
      " 43  Scientist                 16000 non-null  uint8  \n",
      " 44  Teacher                   16000 non-null  uint8  \n",
      " 45  Unknown                   16000 non-null  uint8  \n",
      " 46  Writer                    16000 non-null  uint8  \n",
      "dtypes: bool(8), float64(20), int64(3), uint8(16)\n",
      "memory usage: 3.8 MB\n"
     ]
    }
   ],
   "source": [
    "X_val.info()"
   ]
  },
  {
   "cell_type": "markdown",
   "id": "9ef049a4",
   "metadata": {},
   "source": [
    "# Random Forest"
   ]
  },
  {
   "cell_type": "code",
   "execution_count": 38,
   "id": "174eb5af",
   "metadata": {},
   "outputs": [],
   "source": [
    "from sklearn.ensemble import RandomForestClassifier"
   ]
  },
  {
   "cell_type": "code",
   "execution_count": 134,
   "id": "1ce53215",
   "metadata": {},
   "outputs": [
    {
     "data": {
      "text/html": [
       "<style>#sk-container-id-7 {color: black;background-color: white;}#sk-container-id-7 pre{padding: 0;}#sk-container-id-7 div.sk-toggleable {background-color: white;}#sk-container-id-7 label.sk-toggleable__label {cursor: pointer;display: block;width: 100%;margin-bottom: 0;padding: 0.3em;box-sizing: border-box;text-align: center;}#sk-container-id-7 label.sk-toggleable__label-arrow:before {content: \"▸\";float: left;margin-right: 0.25em;color: #696969;}#sk-container-id-7 label.sk-toggleable__label-arrow:hover:before {color: black;}#sk-container-id-7 div.sk-estimator:hover label.sk-toggleable__label-arrow:before {color: black;}#sk-container-id-7 div.sk-toggleable__content {max-height: 0;max-width: 0;overflow: hidden;text-align: left;background-color: #f0f8ff;}#sk-container-id-7 div.sk-toggleable__content pre {margin: 0.2em;color: black;border-radius: 0.25em;background-color: #f0f8ff;}#sk-container-id-7 input.sk-toggleable__control:checked~div.sk-toggleable__content {max-height: 200px;max-width: 100%;overflow: auto;}#sk-container-id-7 input.sk-toggleable__control:checked~label.sk-toggleable__label-arrow:before {content: \"▾\";}#sk-container-id-7 div.sk-estimator input.sk-toggleable__control:checked~label.sk-toggleable__label {background-color: #d4ebff;}#sk-container-id-7 div.sk-label input.sk-toggleable__control:checked~label.sk-toggleable__label {background-color: #d4ebff;}#sk-container-id-7 input.sk-hidden--visually {border: 0;clip: rect(1px 1px 1px 1px);clip: rect(1px, 1px, 1px, 1px);height: 1px;margin: -1px;overflow: hidden;padding: 0;position: absolute;width: 1px;}#sk-container-id-7 div.sk-estimator {font-family: monospace;background-color: #f0f8ff;border: 1px dotted black;border-radius: 0.25em;box-sizing: border-box;margin-bottom: 0.5em;}#sk-container-id-7 div.sk-estimator:hover {background-color: #d4ebff;}#sk-container-id-7 div.sk-parallel-item::after {content: \"\";width: 100%;border-bottom: 1px solid gray;flex-grow: 1;}#sk-container-id-7 div.sk-label:hover label.sk-toggleable__label {background-color: #d4ebff;}#sk-container-id-7 div.sk-serial::before {content: \"\";position: absolute;border-left: 1px solid gray;box-sizing: border-box;top: 0;bottom: 0;left: 50%;z-index: 0;}#sk-container-id-7 div.sk-serial {display: flex;flex-direction: column;align-items: center;background-color: white;padding-right: 0.2em;padding-left: 0.2em;position: relative;}#sk-container-id-7 div.sk-item {position: relative;z-index: 1;}#sk-container-id-7 div.sk-parallel {display: flex;align-items: stretch;justify-content: center;background-color: white;position: relative;}#sk-container-id-7 div.sk-item::before, #sk-container-id-7 div.sk-parallel-item::before {content: \"\";position: absolute;border-left: 1px solid gray;box-sizing: border-box;top: 0;bottom: 0;left: 50%;z-index: -1;}#sk-container-id-7 div.sk-parallel-item {display: flex;flex-direction: column;z-index: 1;position: relative;background-color: white;}#sk-container-id-7 div.sk-parallel-item:first-child::after {align-self: flex-end;width: 50%;}#sk-container-id-7 div.sk-parallel-item:last-child::after {align-self: flex-start;width: 50%;}#sk-container-id-7 div.sk-parallel-item:only-child::after {width: 0;}#sk-container-id-7 div.sk-dashed-wrapped {border: 1px dashed gray;margin: 0 0.4em 0.5em 0.4em;box-sizing: border-box;padding-bottom: 0.4em;background-color: white;}#sk-container-id-7 div.sk-label label {font-family: monospace;font-weight: bold;display: inline-block;line-height: 1.2em;}#sk-container-id-7 div.sk-label-container {text-align: center;}#sk-container-id-7 div.sk-container {/* jupyter's `normalize.less` sets `[hidden] { display: none; }` but bootstrap.min.css set `[hidden] { display: none !important; }` so we also need the `!important` here to be able to override the default hidden behavior on the sphinx rendered scikit-learn.org. See: https://github.com/scikit-learn/scikit-learn/issues/21755 */display: inline-block !important;position: relative;}#sk-container-id-7 div.sk-text-repr-fallback {display: none;}</style><div id=\"sk-container-id-7\" class=\"sk-top-container\"><div class=\"sk-text-repr-fallback\"><pre>RandomForestClassifier(n_estimators=120)</pre><b>In a Jupyter environment, please rerun this cell to show the HTML representation or trust the notebook. <br />On GitHub, the HTML representation is unable to render, please try loading this page with nbviewer.org.</b></div><div class=\"sk-container\" hidden><div class=\"sk-item\"><div class=\"sk-estimator sk-toggleable\"><input class=\"sk-toggleable__control sk-hidden--visually\" id=\"sk-estimator-id-13\" type=\"checkbox\" checked><label for=\"sk-estimator-id-13\" class=\"sk-toggleable__label sk-toggleable__label-arrow\">RandomForestClassifier</label><div class=\"sk-toggleable__content\"><pre>RandomForestClassifier(n_estimators=120)</pre></div></div></div></div></div>"
      ],
      "text/plain": [
       "RandomForestClassifier(n_estimators=120)"
      ]
     },
     "execution_count": 134,
     "metadata": {},
     "output_type": "execute_result"
    }
   ],
   "source": [
    "rf_model = RandomForestClassifier(n_estimators=120)\n",
    "rf_model.fit(X_train, y_train)"
   ]
  },
  {
   "cell_type": "code",
   "execution_count": 135,
   "id": "43ec79ae",
   "metadata": {},
   "outputs": [],
   "source": [
    "y_pred = rf_model.predict(X_val)"
   ]
  },
  {
   "cell_type": "code",
   "execution_count": 136,
   "id": "20c955f5",
   "metadata": {},
   "outputs": [
    {
     "name": "stdout",
     "output_type": "stream",
     "text": [
      "              precision    recall  f1-score   support\n",
      "\n",
      "           0       0.66      0.72      0.69      4350\n",
      "           1       0.73      0.75      0.74      8470\n",
      "           2       0.64      0.52      0.58      3180\n",
      "\n",
      "    accuracy                           0.69     16000\n",
      "   macro avg       0.68      0.66      0.67     16000\n",
      "weighted avg       0.69      0.69      0.69     16000\n",
      "\n"
     ]
    }
   ],
   "source": [
    "print(classification_report(y_pred, y_val))"
   ]
  },
  {
   "cell_type": "code",
   "execution_count": 84,
   "id": "07266953",
   "metadata": {},
   "outputs": [],
   "source": [
    "feature_importances = pd.DataFrame(rf_model.feature_importances_,\n",
    "                                   X_val.columns,\n",
    "                                   columns=['Importance'])"
   ]
  },
  {
   "cell_type": "code",
   "execution_count": 76,
   "id": "d472b887",
   "metadata": {},
   "outputs": [
    {
     "data": {
      "text/html": [
       "<div>\n",
       "<style scoped>\n",
       "    .dataframe tbody tr th:only-of-type {\n",
       "        vertical-align: middle;\n",
       "    }\n",
       "\n",
       "    .dataframe tbody tr th {\n",
       "        vertical-align: top;\n",
       "    }\n",
       "\n",
       "    .dataframe thead th {\n",
       "        text-align: right;\n",
       "    }\n",
       "</style>\n",
       "<table border=\"1\" class=\"dataframe\">\n",
       "  <thead>\n",
       "    <tr style=\"text-align: right;\">\n",
       "      <th></th>\n",
       "      <th>Importance</th>\n",
       "    </tr>\n",
       "  </thead>\n",
       "  <tbody>\n",
       "    <tr>\n",
       "      <th>Outstanding_Debt</th>\n",
       "      <td>0.094237</td>\n",
       "    </tr>\n",
       "    <tr>\n",
       "      <th>Credit_Mix</th>\n",
       "      <td>0.072609</td>\n",
       "    </tr>\n",
       "    <tr>\n",
       "      <th>Interest_Rate</th>\n",
       "      <td>0.066473</td>\n",
       "    </tr>\n",
       "    <tr>\n",
       "      <th>Credit_History_Age</th>\n",
       "      <td>0.060918</td>\n",
       "    </tr>\n",
       "    <tr>\n",
       "      <th>Delay_from_due_date</th>\n",
       "      <td>0.053294</td>\n",
       "    </tr>\n",
       "    <tr>\n",
       "      <th>Changed_Credit_Limit</th>\n",
       "      <td>0.049671</td>\n",
       "    </tr>\n",
       "    <tr>\n",
       "      <th>Monthly_Balance</th>\n",
       "      <td>0.040955</td>\n",
       "    </tr>\n",
       "    <tr>\n",
       "      <th>Amount_invested_monthly</th>\n",
       "      <td>0.039487</td>\n",
       "    </tr>\n",
       "    <tr>\n",
       "      <th>Credit_Utilization_Ratio</th>\n",
       "      <td>0.037373</td>\n",
       "    </tr>\n",
       "    <tr>\n",
       "      <th>Num_Credit_Card</th>\n",
       "      <td>0.036814</td>\n",
       "    </tr>\n",
       "  </tbody>\n",
       "</table>\n",
       "</div>"
      ],
      "text/plain": [
       "                          Importance\n",
       "Outstanding_Debt            0.094237\n",
       "Credit_Mix                  0.072609\n",
       "Interest_Rate               0.066473\n",
       "Credit_History_Age          0.060918\n",
       "Delay_from_due_date         0.053294\n",
       "Changed_Credit_Limit        0.049671\n",
       "Monthly_Balance             0.040955\n",
       "Amount_invested_monthly     0.039487\n",
       "Credit_Utilization_Ratio    0.037373\n",
       "Num_Credit_Card             0.036814"
      ]
     },
     "execution_count": 76,
     "metadata": {},
     "output_type": "execute_result"
    }
   ],
   "source": [
    "feature_importances.sort_values(by='Importance', ascending=False).head(10)"
   ]
  },
  {
   "cell_type": "markdown",
   "id": "6f794a3c",
   "metadata": {},
   "source": [
    "# Dropping highly correlated columns"
   ]
  },
  {
   "cell_type": "code",
   "execution_count": 77,
   "id": "045fa326",
   "metadata": {},
   "outputs": [
    {
     "name": "stdout",
     "output_type": "stream",
     "text": [
      "Annual_Income 0.9457129466976906 Monthly_Inhand_Salary\n",
      "0.0340231361446552 0.03460175771511543\n",
      "Annual_Income 0.5342843874409052 Total_EMI_per_month\n",
      "0.0340231361446552 0.03173930015609334\n",
      "Annual_Income 0.5996382980664244 Amount_invested_monthly\n",
      "0.0340231361446552 0.039486872388413446\n",
      "Annual_Income 0.6569666669610965 Monthly_Balance\n",
      "0.0340231361446552 0.04095539711693493\n",
      "Monthly_Inhand_Salary 0.5383897650394628 Total_EMI_per_month\n",
      "0.03460175771511543 0.03173930015609334\n",
      "Monthly_Inhand_Salary 0.6350345296467726 Amount_invested_monthly\n",
      "0.03460175771511543 0.039486872388413446\n",
      "Monthly_Inhand_Salary 0.7043603742347478 Monthly_Balance\n",
      "0.03460175771511543 0.04095539711693493\n",
      "Num_Bank_Accounts 0.5461339000888228 Interest_Rate\n",
      "0.0261523568860077 0.06647339282875703\n",
      "Num_Bank_Accounts 0.5335702566939295 Delay_from_due_date\n",
      "0.0261523568860077 0.05329365237018584\n",
      "Num_Bank_Accounts 0.5424779644712474 Num_of_Delayed_Payment\n",
      "0.0261523568860077 0.03549595867833298\n",
      "Num_Bank_Accounts -0.6679835197867847 Credit_Mix\n",
      "0.0261523568860077 0.07260893839219461\n",
      "Num_Bank_Accounts 0.5008853025142443 Outstanding_Debt\n",
      "0.0261523568860077 0.09423727111676378\n",
      "Num_Bank_Accounts 0.518261164042188 Payment_of_Min_Amount\n",
      "0.0261523568860077 0.020304834977507145\n",
      "Num_Credit_Card -0.5372518826085182 Credit_Mix\n",
      "0.03681356620027927 0.07260893839219461\n",
      "Interest_Rate 0.5220269653750775 Num_of_Loan\n",
      "0.06647339282875703 0.025293681877461845\n",
      "Interest_Rate 0.5811933457614508 Delay_from_due_date\n",
      "0.06647339282875703 0.05329365237018584\n",
      "Interest_Rate 0.5680176977744634 Num_of_Delayed_Payment\n",
      "0.06647339282875703 0.03549595867833298\n",
      "Interest_Rate 0.6173298805454996 Num_Credit_Inquiries\n",
      "0.06647339282875703 0.0330053601231164\n",
      "Interest_Rate -0.7480550810437345 Credit_Mix\n",
      "0.06647339282875703 0.07260893839219461\n",
      "Interest_Rate 0.6242285046543798 Outstanding_Debt\n",
      "0.06647339282875703 0.09423727111676378\n",
      "Interest_Rate -0.5698421479570945 Credit_History_Age\n",
      "0.06647339282875703 0.06091763701480971\n",
      "Interest_Rate 0.6287930277162483 Payment_of_Min_Amount\n",
      "0.06647339282875703 0.020304834977507145\n",
      "Num_of_Loan 0.5054756589274587 Num_Credit_Inquiries\n",
      "0.025293681877461845 0.0330053601231164\n",
      "Num_of_Loan -0.6032306395528988 Credit_Mix\n",
      "0.025293681877461845 0.07260893839219461\n",
      "Num_of_Loan 0.6257623150540595 Outstanding_Debt\n",
      "0.025293681877461845 0.09423727111676378\n",
      "Num_of_Loan -0.5664651922709362 Credit_History_Age\n",
      "0.025293681877461845 0.06091763701480971\n",
      "Delay_from_due_date 0.5428647152446114 Num_of_Delayed_Payment\n",
      "0.05329365237018584 0.03549595867833298\n",
      "Delay_from_due_date 0.523793663700083 Num_Credit_Inquiries\n",
      "0.05329365237018584 0.0330053601231164\n",
      "Delay_from_due_date -0.6899013483537977 Credit_Mix\n",
      "0.05329365237018584 0.07260893839219461\n",
      "Delay_from_due_date 0.5714354360595991 Outstanding_Debt\n",
      "0.05329365237018584 0.09423727111676378\n",
      "Delay_from_due_date 0.5036659190876421 Payment_of_Min_Amount\n",
      "0.05329365237018584 0.020304834977507145\n",
      "Num_of_Delayed_Payment -0.755865955426875 Credit_Mix\n",
      "0.03549595867833298 0.07260893839219461\n",
      "Num_of_Delayed_Payment 0.5058163206545345 Outstanding_Debt\n",
      "0.03549595867833298 0.09423727111676378\n",
      "Num_of_Delayed_Payment 0.5943497977556216 Payment_of_Min_Amount\n",
      "0.03549595867833298 0.020304834977507145\n",
      "Changed_Credit_Limit 0.5071950009191407 Payment_of_Min_Amount\n",
      "0.049671402429888815 0.020304834977507145\n",
      "Num_Credit_Inquiries -0.6488321086940253 Credit_Mix\n",
      "0.0330053601231164 0.07260893839219461\n",
      "Num_Credit_Inquiries 0.5898720684180151 Outstanding_Debt\n",
      "0.0330053601231164 0.09423727111676378\n",
      "Num_Credit_Inquiries -0.5933564382720071 Credit_History_Age\n",
      "0.0330053601231164 0.06091763701480971\n",
      "Num_Credit_Inquiries 0.6031134298239234 Payment_of_Min_Amount\n",
      "0.0330053601231164 0.020304834977507145\n",
      "Credit_Mix -0.6864019924742617 Outstanding_Debt\n",
      "0.07260893839219461 0.09423727111676378\n",
      "Credit_Mix 0.6454623123562093 Credit_History_Age\n",
      "0.07260893839219461 0.06091763701480971\n",
      "Credit_Mix -0.7731475099991549 Payment_of_Min_Amount\n",
      "0.07260893839219461 0.020304834977507145\n",
      "Outstanding_Debt -0.6299776842846826 Credit_History_Age\n",
      "0.09423727111676378 0.06091763701480971\n",
      "Credit_History_Age -0.592471861099369 Payment_of_Min_Amount\n",
      "0.06091763701480971 0.020304834977507145\n"
     ]
    }
   ],
   "source": [
    "columns_to_delete = []\n",
    "for i in range(len(X_train.columns)):\n",
    "    for j in range(i+1, len(X_train.columns)):\n",
    "        # we iterate over every pair of columns\n",
    "        # if the correlation between them is over 0.5 we eliminate the less predictive (for our particular model) column\n",
    "        if (abs(X_train[X_train.columns[i]].corr(X_train[X_train.columns[j]])) > 0.5):\n",
    "            #print(feature_importances.loc[X_train.columns[i]].name, X_train[X_train.columns[i]].corr(X_train[X_train.columns[j]]), feature_importances.loc[X_train.columns[j]].name)\n",
    "            p#rint(feature_importances.loc[X_train.columns[i]][0], feature_importances.loc[X_train.columns[j]][0])\n",
    "            if feature_importances.loc[X_train.columns[i]][0] < feature_importances.loc[X_train.columns[j]][0]:\n",
    "                columns_to_delete.append(feature_importances.loc[X_train.columns[i]].name)\n",
    "            else:\n",
    "                columns_to_delete.append(feature_importances.loc[X_train.columns[j]].name)"
   ]
  },
  {
   "cell_type": "code",
   "execution_count": 78,
   "id": "eef46246",
   "metadata": {},
   "outputs": [
    {
     "data": {
      "text/plain": [
       "['Total_EMI_per_month',\n",
       " 'Payment_of_Min_Amount',\n",
       " 'Annual_Income',\n",
       " 'Num_Bank_Accounts',\n",
       " 'Monthly_Inhand_Salary',\n",
       " 'Num_Credit_Card',\n",
       " 'Credit_Mix',\n",
       " 'Num_of_Loan',\n",
       " 'Delay_from_due_date',\n",
       " 'Interest_Rate',\n",
       " 'Num_Credit_Inquiries',\n",
       " 'Credit_History_Age',\n",
       " 'Num_of_Delayed_Payment']"
      ]
     },
     "execution_count": 78,
     "metadata": {},
     "output_type": "execute_result"
    }
   ],
   "source": [
    "columns_to_delete = list(set(columns_to_delete)) # get unique values\n",
    "columns_to_delete"
   ]
  },
  {
   "cell_type": "code",
   "execution_count": 79,
   "id": "d4adf015",
   "metadata": {},
   "outputs": [],
   "source": [
    "X_train_2 = X_train.drop(columns_to_delete, axis=1)\n",
    "X_val_2 = X_val.drop(columns_to_delete, axis=1) "
   ]
  },
  {
   "cell_type": "code",
   "execution_count": 82,
   "id": "fa3e5d9b",
   "metadata": {},
   "outputs": [
    {
     "data": {
      "text/plain": [
       "Index(['Importance'], dtype='object')"
      ]
     },
     "execution_count": 82,
     "metadata": {},
     "output_type": "execute_result"
    }
   ],
   "source": [
    "feature_importances.columns"
   ]
  },
  {
   "cell_type": "code",
   "execution_count": 86,
   "id": "e8e63ce7",
   "metadata": {},
   "outputs": [
    {
     "data": {
      "text/html": [
       "<div>\n",
       "<style scoped>\n",
       "    .dataframe tbody tr th:only-of-type {\n",
       "        vertical-align: middle;\n",
       "    }\n",
       "\n",
       "    .dataframe tbody tr th {\n",
       "        vertical-align: top;\n",
       "    }\n",
       "\n",
       "    .dataframe thead th {\n",
       "        text-align: right;\n",
       "    }\n",
       "</style>\n",
       "<table border=\"1\" class=\"dataframe\">\n",
       "  <thead>\n",
       "    <tr style=\"text-align: right;\">\n",
       "      <th></th>\n",
       "      <th>Importance</th>\n",
       "    </tr>\n",
       "  </thead>\n",
       "  <tbody>\n",
       "    <tr>\n",
       "      <th>Outstanding_Debt</th>\n",
       "      <td>0.094237</td>\n",
       "    </tr>\n",
       "    <tr>\n",
       "      <th>Changed_Credit_Limit</th>\n",
       "      <td>0.049671</td>\n",
       "    </tr>\n",
       "    <tr>\n",
       "      <th>Monthly_Balance</th>\n",
       "      <td>0.040955</td>\n",
       "    </tr>\n",
       "    <tr>\n",
       "      <th>Amount_invested_monthly</th>\n",
       "      <td>0.039487</td>\n",
       "    </tr>\n",
       "    <tr>\n",
       "      <th>Credit_Utilization_Ratio</th>\n",
       "      <td>0.037373</td>\n",
       "    </tr>\n",
       "    <tr>\n",
       "      <th>Month</th>\n",
       "      <td>0.034666</td>\n",
       "    </tr>\n",
       "    <tr>\n",
       "      <th>Customer_ID</th>\n",
       "      <td>0.033364</td>\n",
       "    </tr>\n",
       "    <tr>\n",
       "      <th>Age</th>\n",
       "      <td>0.031632</td>\n",
       "    </tr>\n",
       "    <tr>\n",
       "      <th>Value_Payments</th>\n",
       "      <td>0.012295</td>\n",
       "    </tr>\n",
       "    <tr>\n",
       "      <th>Spending_Behaviour</th>\n",
       "      <td>0.007724</td>\n",
       "    </tr>\n",
       "    <tr>\n",
       "      <th>Auto Loan</th>\n",
       "      <td>0.005345</td>\n",
       "    </tr>\n",
       "    <tr>\n",
       "      <th>Payday Loan</th>\n",
       "      <td>0.005337</td>\n",
       "    </tr>\n",
       "    <tr>\n",
       "      <th>Student Loan</th>\n",
       "      <td>0.005334</td>\n",
       "    </tr>\n",
       "    <tr>\n",
       "      <th>Personal Loan</th>\n",
       "      <td>0.005212</td>\n",
       "    </tr>\n",
       "    <tr>\n",
       "      <th>Mortgage Loan</th>\n",
       "      <td>0.005207</td>\n",
       "    </tr>\n",
       "    <tr>\n",
       "      <th>Not Specified</th>\n",
       "      <td>0.005187</td>\n",
       "    </tr>\n",
       "    <tr>\n",
       "      <th>Credit-Builder Loan</th>\n",
       "      <td>0.005180</td>\n",
       "    </tr>\n",
       "    <tr>\n",
       "      <th>Home Equity Loan</th>\n",
       "      <td>0.005133</td>\n",
       "    </tr>\n",
       "    <tr>\n",
       "      <th>Unknown</th>\n",
       "      <td>0.003331</td>\n",
       "    </tr>\n",
       "    <tr>\n",
       "      <th>Scientist</th>\n",
       "      <td>0.003202</td>\n",
       "    </tr>\n",
       "    <tr>\n",
       "      <th>Engineer</th>\n",
       "      <td>0.003058</td>\n",
       "    </tr>\n",
       "    <tr>\n",
       "      <th>Entrepreneur</th>\n",
       "      <td>0.002927</td>\n",
       "    </tr>\n",
       "    <tr>\n",
       "      <th>Lawyer</th>\n",
       "      <td>0.002880</td>\n",
       "    </tr>\n",
       "    <tr>\n",
       "      <th>Developer</th>\n",
       "      <td>0.002831</td>\n",
       "    </tr>\n",
       "    <tr>\n",
       "      <th>Mechanic</th>\n",
       "      <td>0.002813</td>\n",
       "    </tr>\n",
       "    <tr>\n",
       "      <th>Musician</th>\n",
       "      <td>0.002812</td>\n",
       "    </tr>\n",
       "    <tr>\n",
       "      <th>Journalist</th>\n",
       "      <td>0.002810</td>\n",
       "    </tr>\n",
       "    <tr>\n",
       "      <th>Doctor</th>\n",
       "      <td>0.002797</td>\n",
       "    </tr>\n",
       "    <tr>\n",
       "      <th>Writer</th>\n",
       "      <td>0.002782</td>\n",
       "    </tr>\n",
       "    <tr>\n",
       "      <th>Manager</th>\n",
       "      <td>0.002772</td>\n",
       "    </tr>\n",
       "    <tr>\n",
       "      <th>Accountant</th>\n",
       "      <td>0.002766</td>\n",
       "    </tr>\n",
       "    <tr>\n",
       "      <th>Media_Manager</th>\n",
       "      <td>0.002740</td>\n",
       "    </tr>\n",
       "    <tr>\n",
       "      <th>Teacher</th>\n",
       "      <td>0.002738</td>\n",
       "    </tr>\n",
       "    <tr>\n",
       "      <th>Architect</th>\n",
       "      <td>0.002678</td>\n",
       "    </tr>\n",
       "  </tbody>\n",
       "</table>\n",
       "</div>"
      ],
      "text/plain": [
       "                          Importance\n",
       "Outstanding_Debt            0.094237\n",
       "Changed_Credit_Limit        0.049671\n",
       "Monthly_Balance             0.040955\n",
       "Amount_invested_monthly     0.039487\n",
       "Credit_Utilization_Ratio    0.037373\n",
       "Month                       0.034666\n",
       "Customer_ID                 0.033364\n",
       "Age                         0.031632\n",
       "Value_Payments              0.012295\n",
       "Spending_Behaviour          0.007724\n",
       "Auto Loan                   0.005345\n",
       "Payday Loan                 0.005337\n",
       "Student Loan                0.005334\n",
       "Personal Loan               0.005212\n",
       "Mortgage Loan               0.005207\n",
       "Not Specified               0.005187\n",
       "Credit-Builder Loan         0.005180\n",
       "Home Equity Loan            0.005133\n",
       "Unknown                     0.003331\n",
       "Scientist                   0.003202\n",
       "Engineer                    0.003058\n",
       "Entrepreneur                0.002927\n",
       "Lawyer                      0.002880\n",
       "Developer                   0.002831\n",
       "Mechanic                    0.002813\n",
       "Musician                    0.002812\n",
       "Journalist                  0.002810\n",
       "Doctor                      0.002797\n",
       "Writer                      0.002782\n",
       "Manager                     0.002772\n",
       "Accountant                  0.002766\n",
       "Media_Manager               0.002740\n",
       "Teacher                     0.002738\n",
       "Architect                   0.002678"
      ]
     },
     "execution_count": 86,
     "metadata": {},
     "output_type": "execute_result"
    }
   ],
   "source": [
    "feature_importances_2 = feature_importances.loc[feature_importances.index.isin(X_train_2)].sort_values(by='Importance', ascending=False)\n",
    "feature_importances_2"
   ]
  },
  {
   "cell_type": "markdown",
   "id": "057baca4",
   "metadata": {},
   "source": [
    "# New model, trained without highly correlated columns"
   ]
  },
  {
   "cell_type": "code",
   "execution_count": 70,
   "id": "97ed2f3c",
   "metadata": {},
   "outputs": [
    {
     "data": {
      "text/html": [
       "<style>#sk-container-id-5 {color: black;background-color: white;}#sk-container-id-5 pre{padding: 0;}#sk-container-id-5 div.sk-toggleable {background-color: white;}#sk-container-id-5 label.sk-toggleable__label {cursor: pointer;display: block;width: 100%;margin-bottom: 0;padding: 0.3em;box-sizing: border-box;text-align: center;}#sk-container-id-5 label.sk-toggleable__label-arrow:before {content: \"▸\";float: left;margin-right: 0.25em;color: #696969;}#sk-container-id-5 label.sk-toggleable__label-arrow:hover:before {color: black;}#sk-container-id-5 div.sk-estimator:hover label.sk-toggleable__label-arrow:before {color: black;}#sk-container-id-5 div.sk-toggleable__content {max-height: 0;max-width: 0;overflow: hidden;text-align: left;background-color: #f0f8ff;}#sk-container-id-5 div.sk-toggleable__content pre {margin: 0.2em;color: black;border-radius: 0.25em;background-color: #f0f8ff;}#sk-container-id-5 input.sk-toggleable__control:checked~div.sk-toggleable__content {max-height: 200px;max-width: 100%;overflow: auto;}#sk-container-id-5 input.sk-toggleable__control:checked~label.sk-toggleable__label-arrow:before {content: \"▾\";}#sk-container-id-5 div.sk-estimator input.sk-toggleable__control:checked~label.sk-toggleable__label {background-color: #d4ebff;}#sk-container-id-5 div.sk-label input.sk-toggleable__control:checked~label.sk-toggleable__label {background-color: #d4ebff;}#sk-container-id-5 input.sk-hidden--visually {border: 0;clip: rect(1px 1px 1px 1px);clip: rect(1px, 1px, 1px, 1px);height: 1px;margin: -1px;overflow: hidden;padding: 0;position: absolute;width: 1px;}#sk-container-id-5 div.sk-estimator {font-family: monospace;background-color: #f0f8ff;border: 1px dotted black;border-radius: 0.25em;box-sizing: border-box;margin-bottom: 0.5em;}#sk-container-id-5 div.sk-estimator:hover {background-color: #d4ebff;}#sk-container-id-5 div.sk-parallel-item::after {content: \"\";width: 100%;border-bottom: 1px solid gray;flex-grow: 1;}#sk-container-id-5 div.sk-label:hover label.sk-toggleable__label {background-color: #d4ebff;}#sk-container-id-5 div.sk-serial::before {content: \"\";position: absolute;border-left: 1px solid gray;box-sizing: border-box;top: 0;bottom: 0;left: 50%;z-index: 0;}#sk-container-id-5 div.sk-serial {display: flex;flex-direction: column;align-items: center;background-color: white;padding-right: 0.2em;padding-left: 0.2em;position: relative;}#sk-container-id-5 div.sk-item {position: relative;z-index: 1;}#sk-container-id-5 div.sk-parallel {display: flex;align-items: stretch;justify-content: center;background-color: white;position: relative;}#sk-container-id-5 div.sk-item::before, #sk-container-id-5 div.sk-parallel-item::before {content: \"\";position: absolute;border-left: 1px solid gray;box-sizing: border-box;top: 0;bottom: 0;left: 50%;z-index: -1;}#sk-container-id-5 div.sk-parallel-item {display: flex;flex-direction: column;z-index: 1;position: relative;background-color: white;}#sk-container-id-5 div.sk-parallel-item:first-child::after {align-self: flex-end;width: 50%;}#sk-container-id-5 div.sk-parallel-item:last-child::after {align-self: flex-start;width: 50%;}#sk-container-id-5 div.sk-parallel-item:only-child::after {width: 0;}#sk-container-id-5 div.sk-dashed-wrapped {border: 1px dashed gray;margin: 0 0.4em 0.5em 0.4em;box-sizing: border-box;padding-bottom: 0.4em;background-color: white;}#sk-container-id-5 div.sk-label label {font-family: monospace;font-weight: bold;display: inline-block;line-height: 1.2em;}#sk-container-id-5 div.sk-label-container {text-align: center;}#sk-container-id-5 div.sk-container {/* jupyter's `normalize.less` sets `[hidden] { display: none; }` but bootstrap.min.css set `[hidden] { display: none !important; }` so we also need the `!important` here to be able to override the default hidden behavior on the sphinx rendered scikit-learn.org. See: https://github.com/scikit-learn/scikit-learn/issues/21755 */display: inline-block !important;position: relative;}#sk-container-id-5 div.sk-text-repr-fallback {display: none;}</style><div id=\"sk-container-id-5\" class=\"sk-top-container\"><div class=\"sk-text-repr-fallback\"><pre>RandomForestClassifier()</pre><b>In a Jupyter environment, please rerun this cell to show the HTML representation or trust the notebook. <br />On GitHub, the HTML representation is unable to render, please try loading this page with nbviewer.org.</b></div><div class=\"sk-container\" hidden><div class=\"sk-item\"><div class=\"sk-estimator sk-toggleable\"><input class=\"sk-toggleable__control sk-hidden--visually\" id=\"sk-estimator-id-5\" type=\"checkbox\" checked><label for=\"sk-estimator-id-5\" class=\"sk-toggleable__label sk-toggleable__label-arrow\">RandomForestClassifier</label><div class=\"sk-toggleable__content\"><pre>RandomForestClassifier()</pre></div></div></div></div></div>"
      ],
      "text/plain": [
       "RandomForestClassifier()"
      ]
     },
     "execution_count": 70,
     "metadata": {},
     "output_type": "execute_result"
    }
   ],
   "source": [
    "rf_model_2 = RandomForestClassifier(n_estimators=100)\n",
    "rf_model_2.fit(X_train_2, y_train)"
   ]
  },
  {
   "cell_type": "code",
   "execution_count": 71,
   "id": "f46a2f1b",
   "metadata": {},
   "outputs": [],
   "source": [
    "y_pred_2 = rf_model_2.predict(X_val_2)"
   ]
  },
  {
   "cell_type": "code",
   "execution_count": 72,
   "id": "a4e1c366",
   "metadata": {},
   "outputs": [
    {
     "name": "stdout",
     "output_type": "stream",
     "text": [
      "              precision    recall  f1-score   support\n",
      "\n",
      "           0       0.66      0.69      0.67      4475\n",
      "           1       0.73      0.74      0.73      8576\n",
      "           2       0.60      0.53      0.56      2949\n",
      "\n",
      "    accuracy                           0.69     16000\n",
      "   macro avg       0.66      0.65      0.66     16000\n",
      "weighted avg       0.68      0.69      0.68     16000\n",
      "\n"
     ]
    }
   ],
   "source": [
    "print(classification_report(y_pred_2, y_val))"
   ]
  },
  {
   "cell_type": "markdown",
   "id": "a5067d2b",
   "metadata": {},
   "source": [
    "# XGBoost attempt"
   ]
  },
  {
   "cell_type": "code",
   "execution_count": 87,
   "id": "f0af7bf2",
   "metadata": {},
   "outputs": [
    {
     "name": "stderr",
     "output_type": "stream",
     "text": [
      "Since version 1.0, it is not needed to import enable_hist_gradient_boosting anymore. HistGradientBoostingClassifier and HistGradientBoostingRegressor are now stable and can be normally imported from sklearn.ensemble.\n"
     ]
    }
   ],
   "source": [
    "from sklearn.ensemble import GradientBoostingClassifier\n",
    "from sklearn.experimental import enable_hist_gradient_boosting\n",
    "from sklearn.ensemble import (\n",
    "    BaggingClassifier,\n",
    "    ExtraTreesClassifier,\n",
    "    RandomForestClassifier,\n",
    "    StackingClassifier,\n",
    "    HistGradientBoostingClassifier\n",
    ")\n",
    "from xgboost import XGBClassifier"
   ]
  },
  {
   "cell_type": "code",
   "execution_count": 88,
   "id": "c37fb9cf",
   "metadata": {
    "scrolled": true
   },
   "outputs": [
    {
     "ename": "KeyboardInterrupt",
     "evalue": "",
     "output_type": "error",
     "traceback": [
      "\u001b[1;31m---------------------------------------------------------------------------\u001b[0m",
      "\u001b[1;31mKeyboardInterrupt\u001b[0m                         Traceback (most recent call last)",
      "\u001b[1;32m<ipython-input-88-5e6af1c308bb>\u001b[0m in \u001b[0;36m<module>\u001b[1;34m\u001b[0m\n\u001b[0;32m      1\u001b[0m \u001b[0mgbc_model\u001b[0m\u001b[1;33m=\u001b[0m \u001b[0mGradientBoostingClassifier\u001b[0m\u001b[1;33m(\u001b[0m\u001b[1;33m)\u001b[0m\u001b[1;33m\u001b[0m\u001b[1;33m\u001b[0m\u001b[0m\n\u001b[1;32m----> 2\u001b[1;33m \u001b[0mgbc_model\u001b[0m\u001b[1;33m.\u001b[0m\u001b[0mfit\u001b[0m\u001b[1;33m(\u001b[0m\u001b[0mX_train\u001b[0m\u001b[1;33m,\u001b[0m \u001b[0my_train\u001b[0m\u001b[1;33m)\u001b[0m\u001b[1;33m\u001b[0m\u001b[1;33m\u001b[0m\u001b[0m\n\u001b[0m",
      "\u001b[1;32mc:\\Users\\tymot\\anaconda3\\lib\\site-packages\\sklearn\\ensemble\\_gb.py\u001b[0m in \u001b[0;36mfit\u001b[1;34m(self, X, y, sample_weight, monitor)\u001b[0m\n\u001b[0;32m    536\u001b[0m \u001b[1;33m\u001b[0m\u001b[0m\n\u001b[0;32m    537\u001b[0m         \u001b[1;31m# fit the boosting stages\u001b[0m\u001b[1;33m\u001b[0m\u001b[1;33m\u001b[0m\u001b[1;33m\u001b[0m\u001b[0m\n\u001b[1;32m--> 538\u001b[1;33m         n_stages = self._fit_stages(\n\u001b[0m\u001b[0;32m    539\u001b[0m             \u001b[0mX\u001b[0m\u001b[1;33m,\u001b[0m\u001b[1;33m\u001b[0m\u001b[1;33m\u001b[0m\u001b[0m\n\u001b[0;32m    540\u001b[0m             \u001b[0my\u001b[0m\u001b[1;33m,\u001b[0m\u001b[1;33m\u001b[0m\u001b[1;33m\u001b[0m\u001b[0m\n",
      "\u001b[1;32mc:\\Users\\tymot\\anaconda3\\lib\\site-packages\\sklearn\\ensemble\\_gb.py\u001b[0m in \u001b[0;36m_fit_stages\u001b[1;34m(self, X, y, raw_predictions, sample_weight, random_state, X_val, y_val, sample_weight_val, begin_at_stage, monitor)\u001b[0m\n\u001b[0;32m    613\u001b[0m \u001b[1;33m\u001b[0m\u001b[0m\n\u001b[0;32m    614\u001b[0m             \u001b[1;31m# fit next stage of trees\u001b[0m\u001b[1;33m\u001b[0m\u001b[1;33m\u001b[0m\u001b[1;33m\u001b[0m\u001b[0m\n\u001b[1;32m--> 615\u001b[1;33m             raw_predictions = self._fit_stage(\n\u001b[0m\u001b[0;32m    616\u001b[0m                 \u001b[0mi\u001b[0m\u001b[1;33m,\u001b[0m\u001b[1;33m\u001b[0m\u001b[1;33m\u001b[0m\u001b[0m\n\u001b[0;32m    617\u001b[0m                 \u001b[0mX\u001b[0m\u001b[1;33m,\u001b[0m\u001b[1;33m\u001b[0m\u001b[1;33m\u001b[0m\u001b[0m\n",
      "\u001b[1;32mc:\\Users\\tymot\\anaconda3\\lib\\site-packages\\sklearn\\ensemble\\_gb.py\u001b[0m in \u001b[0;36m_fit_stage\u001b[1;34m(self, i, X, y, raw_predictions, sample_weight, sample_mask, random_state, X_csc, X_csr)\u001b[0m\n\u001b[0;32m    255\u001b[0m \u001b[1;33m\u001b[0m\u001b[0m\n\u001b[0;32m    256\u001b[0m             \u001b[0mX\u001b[0m \u001b[1;33m=\u001b[0m \u001b[0mX_csr\u001b[0m \u001b[1;32mif\u001b[0m \u001b[0mX_csr\u001b[0m \u001b[1;32mis\u001b[0m \u001b[1;32mnot\u001b[0m \u001b[1;32mNone\u001b[0m \u001b[1;32melse\u001b[0m \u001b[0mX\u001b[0m\u001b[1;33m\u001b[0m\u001b[1;33m\u001b[0m\u001b[0m\n\u001b[1;32m--> 257\u001b[1;33m             \u001b[0mtree\u001b[0m\u001b[1;33m.\u001b[0m\u001b[0mfit\u001b[0m\u001b[1;33m(\u001b[0m\u001b[0mX\u001b[0m\u001b[1;33m,\u001b[0m \u001b[0mresidual\u001b[0m\u001b[1;33m,\u001b[0m \u001b[0msample_weight\u001b[0m\u001b[1;33m=\u001b[0m\u001b[0msample_weight\u001b[0m\u001b[1;33m,\u001b[0m \u001b[0mcheck_input\u001b[0m\u001b[1;33m=\u001b[0m\u001b[1;32mFalse\u001b[0m\u001b[1;33m)\u001b[0m\u001b[1;33m\u001b[0m\u001b[1;33m\u001b[0m\u001b[0m\n\u001b[0m\u001b[0;32m    258\u001b[0m \u001b[1;33m\u001b[0m\u001b[0m\n\u001b[0;32m    259\u001b[0m             \u001b[1;31m# update tree leaves\u001b[0m\u001b[1;33m\u001b[0m\u001b[1;33m\u001b[0m\u001b[1;33m\u001b[0m\u001b[0m\n",
      "\u001b[1;32mc:\\Users\\tymot\\anaconda3\\lib\\site-packages\\sklearn\\tree\\_classes.py\u001b[0m in \u001b[0;36mfit\u001b[1;34m(self, X, y, sample_weight, check_input)\u001b[0m\n\u001b[0;32m   1245\u001b[0m         \"\"\"\n\u001b[0;32m   1246\u001b[0m \u001b[1;33m\u001b[0m\u001b[0m\n\u001b[1;32m-> 1247\u001b[1;33m         super().fit(\n\u001b[0m\u001b[0;32m   1248\u001b[0m             \u001b[0mX\u001b[0m\u001b[1;33m,\u001b[0m\u001b[1;33m\u001b[0m\u001b[1;33m\u001b[0m\u001b[0m\n\u001b[0;32m   1249\u001b[0m             \u001b[0my\u001b[0m\u001b[1;33m,\u001b[0m\u001b[1;33m\u001b[0m\u001b[1;33m\u001b[0m\u001b[0m\n",
      "\u001b[1;32mc:\\Users\\tymot\\anaconda3\\lib\\site-packages\\sklearn\\tree\\_classes.py\u001b[0m in \u001b[0;36mfit\u001b[1;34m(self, X, y, sample_weight, check_input)\u001b[0m\n\u001b[0;32m    377\u001b[0m             )\n\u001b[0;32m    378\u001b[0m \u001b[1;33m\u001b[0m\u001b[0m\n\u001b[1;32m--> 379\u001b[1;33m         \u001b[0mbuilder\u001b[0m\u001b[1;33m.\u001b[0m\u001b[0mbuild\u001b[0m\u001b[1;33m(\u001b[0m\u001b[0mself\u001b[0m\u001b[1;33m.\u001b[0m\u001b[0mtree_\u001b[0m\u001b[1;33m,\u001b[0m \u001b[0mX\u001b[0m\u001b[1;33m,\u001b[0m \u001b[0my\u001b[0m\u001b[1;33m,\u001b[0m \u001b[0msample_weight\u001b[0m\u001b[1;33m)\u001b[0m\u001b[1;33m\u001b[0m\u001b[1;33m\u001b[0m\u001b[0m\n\u001b[0m\u001b[0;32m    380\u001b[0m \u001b[1;33m\u001b[0m\u001b[0m\n\u001b[0;32m    381\u001b[0m         \u001b[1;32mif\u001b[0m \u001b[0mself\u001b[0m\u001b[1;33m.\u001b[0m\u001b[0mn_outputs_\u001b[0m \u001b[1;33m==\u001b[0m \u001b[1;36m1\u001b[0m \u001b[1;32mand\u001b[0m \u001b[0mis_classifier\u001b[0m\u001b[1;33m(\u001b[0m\u001b[0mself\u001b[0m\u001b[1;33m)\u001b[0m\u001b[1;33m:\u001b[0m\u001b[1;33m\u001b[0m\u001b[1;33m\u001b[0m\u001b[0m\n",
      "\u001b[1;31mKeyboardInterrupt\u001b[0m: "
     ]
    }
   ],
   "source": [
    "gbc_model= GradientBoostingClassifier()\n",
    "gbc_model.fit(X_train, y_train)"
   ]
  },
  {
   "cell_type": "code",
   "execution_count": 52,
   "id": "5efad3e8",
   "metadata": {},
   "outputs": [],
   "source": [
    "y_pred_xgboost = gbc_model.predict(X_val)"
   ]
  },
  {
   "cell_type": "code",
   "execution_count": 53,
   "id": "2b2dfadb",
   "metadata": {},
   "outputs": [
    {
     "name": "stdout",
     "output_type": "stream",
     "text": [
      "              precision    recall  f1-score   support\n",
      "\n",
      "           0       0.66      0.71      0.68      4389\n",
      "           1       0.73      0.75      0.74      8452\n",
      "           2       0.65      0.54      0.59      3159\n",
      "\n",
      "    accuracy                           0.70     16000\n",
      "   macro avg       0.68      0.67      0.67     16000\n",
      "weighted avg       0.70      0.70      0.70     16000\n",
      "\n"
     ]
    }
   ],
   "source": [
    "print(classification_report(y_pred_xgboost, y_val))"
   ]
  },
  {
   "cell_type": "code",
   "execution_count": 137,
   "id": "2fdb97be",
   "metadata": {},
   "outputs": [],
   "source": [
    "bagging = BaggingClassifier(n_jobs=-1)\n",
    "extraTrees = ExtraTreesClassifier(max_depth=10, n_jobs=-1)\n",
    "randomForest = RandomForestClassifier(n_jobs=-1)\n",
    "histGradientBoosting = HistGradientBoostingClassifier()\n",
    "XGB = XGBClassifier(n_jobs=-1)\n",
    "\n",
    "model = StackingClassifier([\n",
    "    ('bagging', bagging),\n",
    "    ('extraTress', extraTrees),\n",
    "    ('randomforest', randomForest),\n",
    "    ('histGradientBoosting', histGradientBoosting),\n",
    "    ('XGB', XGB)\n",
    "], n_jobs=-1)"
   ]
  },
  {
   "cell_type": "code",
   "execution_count": 138,
   "id": "5b9c0bed",
   "metadata": {},
   "outputs": [
    {
     "data": {
      "text/html": [
       "<style>#sk-container-id-8 {color: black;background-color: white;}#sk-container-id-8 pre{padding: 0;}#sk-container-id-8 div.sk-toggleable {background-color: white;}#sk-container-id-8 label.sk-toggleable__label {cursor: pointer;display: block;width: 100%;margin-bottom: 0;padding: 0.3em;box-sizing: border-box;text-align: center;}#sk-container-id-8 label.sk-toggleable__label-arrow:before {content: \"▸\";float: left;margin-right: 0.25em;color: #696969;}#sk-container-id-8 label.sk-toggleable__label-arrow:hover:before {color: black;}#sk-container-id-8 div.sk-estimator:hover label.sk-toggleable__label-arrow:before {color: black;}#sk-container-id-8 div.sk-toggleable__content {max-height: 0;max-width: 0;overflow: hidden;text-align: left;background-color: #f0f8ff;}#sk-container-id-8 div.sk-toggleable__content pre {margin: 0.2em;color: black;border-radius: 0.25em;background-color: #f0f8ff;}#sk-container-id-8 input.sk-toggleable__control:checked~div.sk-toggleable__content {max-height: 200px;max-width: 100%;overflow: auto;}#sk-container-id-8 input.sk-toggleable__control:checked~label.sk-toggleable__label-arrow:before {content: \"▾\";}#sk-container-id-8 div.sk-estimator input.sk-toggleable__control:checked~label.sk-toggleable__label {background-color: #d4ebff;}#sk-container-id-8 div.sk-label input.sk-toggleable__control:checked~label.sk-toggleable__label {background-color: #d4ebff;}#sk-container-id-8 input.sk-hidden--visually {border: 0;clip: rect(1px 1px 1px 1px);clip: rect(1px, 1px, 1px, 1px);height: 1px;margin: -1px;overflow: hidden;padding: 0;position: absolute;width: 1px;}#sk-container-id-8 div.sk-estimator {font-family: monospace;background-color: #f0f8ff;border: 1px dotted black;border-radius: 0.25em;box-sizing: border-box;margin-bottom: 0.5em;}#sk-container-id-8 div.sk-estimator:hover {background-color: #d4ebff;}#sk-container-id-8 div.sk-parallel-item::after {content: \"\";width: 100%;border-bottom: 1px solid gray;flex-grow: 1;}#sk-container-id-8 div.sk-label:hover label.sk-toggleable__label {background-color: #d4ebff;}#sk-container-id-8 div.sk-serial::before {content: \"\";position: absolute;border-left: 1px solid gray;box-sizing: border-box;top: 0;bottom: 0;left: 50%;z-index: 0;}#sk-container-id-8 div.sk-serial {display: flex;flex-direction: column;align-items: center;background-color: white;padding-right: 0.2em;padding-left: 0.2em;position: relative;}#sk-container-id-8 div.sk-item {position: relative;z-index: 1;}#sk-container-id-8 div.sk-parallel {display: flex;align-items: stretch;justify-content: center;background-color: white;position: relative;}#sk-container-id-8 div.sk-item::before, #sk-container-id-8 div.sk-parallel-item::before {content: \"\";position: absolute;border-left: 1px solid gray;box-sizing: border-box;top: 0;bottom: 0;left: 50%;z-index: -1;}#sk-container-id-8 div.sk-parallel-item {display: flex;flex-direction: column;z-index: 1;position: relative;background-color: white;}#sk-container-id-8 div.sk-parallel-item:first-child::after {align-self: flex-end;width: 50%;}#sk-container-id-8 div.sk-parallel-item:last-child::after {align-self: flex-start;width: 50%;}#sk-container-id-8 div.sk-parallel-item:only-child::after {width: 0;}#sk-container-id-8 div.sk-dashed-wrapped {border: 1px dashed gray;margin: 0 0.4em 0.5em 0.4em;box-sizing: border-box;padding-bottom: 0.4em;background-color: white;}#sk-container-id-8 div.sk-label label {font-family: monospace;font-weight: bold;display: inline-block;line-height: 1.2em;}#sk-container-id-8 div.sk-label-container {text-align: center;}#sk-container-id-8 div.sk-container {/* jupyter's `normalize.less` sets `[hidden] { display: none; }` but bootstrap.min.css set `[hidden] { display: none !important; }` so we also need the `!important` here to be able to override the default hidden behavior on the sphinx rendered scikit-learn.org. See: https://github.com/scikit-learn/scikit-learn/issues/21755 */display: inline-block !important;position: relative;}#sk-container-id-8 div.sk-text-repr-fallback {display: none;}</style><div id=\"sk-container-id-8\" class=\"sk-top-container\"><div class=\"sk-text-repr-fallback\"><pre>StackingClassifier(estimators=[(&#x27;bagging&#x27;, BaggingClassifier(n_jobs=-1)),\n",
       "                               (&#x27;extraTress&#x27;,\n",
       "                                ExtraTreesClassifier(max_depth=10, n_jobs=-1)),\n",
       "                               (&#x27;randomforest&#x27;,\n",
       "                                RandomForestClassifier(n_jobs=-1)),\n",
       "                               (&#x27;histGradientBoosting&#x27;,\n",
       "                                HistGradientBoostingClassifier()),\n",
       "                               (&#x27;XGB&#x27;,\n",
       "                                XGBClassifier(base_score=None, booster=None,\n",
       "                                              callbacks=None,\n",
       "                                              colsample_bylevel=None,\n",
       "                                              colsample_bynode=None...\n",
       "                                              gpu_id=None, grow_policy=None,\n",
       "                                              importance_type=None,\n",
       "                                              interaction_constraints=None,\n",
       "                                              learning_rate=None, max_bin=None,\n",
       "                                              max_cat_threshold=None,\n",
       "                                              max_cat_to_onehot=None,\n",
       "                                              max_delta_step=None,\n",
       "                                              max_depth=None, max_leaves=None,\n",
       "                                              min_child_weight=None,\n",
       "                                              missing=nan,\n",
       "                                              monotone_constraints=None,\n",
       "                                              n_estimators=100, n_jobs=-1,\n",
       "                                              num_parallel_tree=None,\n",
       "                                              predictor=None, random_state=None, ...))],\n",
       "                   n_jobs=-1)</pre><b>In a Jupyter environment, please rerun this cell to show the HTML representation or trust the notebook. <br />On GitHub, the HTML representation is unable to render, please try loading this page with nbviewer.org.</b></div><div class=\"sk-container\" hidden><div class=\"sk-item sk-dashed-wrapped\"><div class=\"sk-label-container\"><div class=\"sk-label sk-toggleable\"><input class=\"sk-toggleable__control sk-hidden--visually\" id=\"sk-estimator-id-14\" type=\"checkbox\" ><label for=\"sk-estimator-id-14\" class=\"sk-toggleable__label sk-toggleable__label-arrow\">StackingClassifier</label><div class=\"sk-toggleable__content\"><pre>StackingClassifier(estimators=[(&#x27;bagging&#x27;, BaggingClassifier(n_jobs=-1)),\n",
       "                               (&#x27;extraTress&#x27;,\n",
       "                                ExtraTreesClassifier(max_depth=10, n_jobs=-1)),\n",
       "                               (&#x27;randomforest&#x27;,\n",
       "                                RandomForestClassifier(n_jobs=-1)),\n",
       "                               (&#x27;histGradientBoosting&#x27;,\n",
       "                                HistGradientBoostingClassifier()),\n",
       "                               (&#x27;XGB&#x27;,\n",
       "                                XGBClassifier(base_score=None, booster=None,\n",
       "                                              callbacks=None,\n",
       "                                              colsample_bylevel=None,\n",
       "                                              colsample_bynode=None...\n",
       "                                              gpu_id=None, grow_policy=None,\n",
       "                                              importance_type=None,\n",
       "                                              interaction_constraints=None,\n",
       "                                              learning_rate=None, max_bin=None,\n",
       "                                              max_cat_threshold=None,\n",
       "                                              max_cat_to_onehot=None,\n",
       "                                              max_delta_step=None,\n",
       "                                              max_depth=None, max_leaves=None,\n",
       "                                              min_child_weight=None,\n",
       "                                              missing=nan,\n",
       "                                              monotone_constraints=None,\n",
       "                                              n_estimators=100, n_jobs=-1,\n",
       "                                              num_parallel_tree=None,\n",
       "                                              predictor=None, random_state=None, ...))],\n",
       "                   n_jobs=-1)</pre></div></div></div><div class=\"sk-serial\"><div class=\"sk-item\"><div class=\"sk-parallel\"><div class=\"sk-parallel-item\"><div class=\"sk-item\"><div class=\"sk-label-container\"><div class=\"sk-label sk-toggleable\"><label>bagging</label></div></div><div class=\"sk-serial\"><div class=\"sk-item\"><div class=\"sk-estimator sk-toggleable\"><input class=\"sk-toggleable__control sk-hidden--visually\" id=\"sk-estimator-id-15\" type=\"checkbox\" ><label for=\"sk-estimator-id-15\" class=\"sk-toggleable__label sk-toggleable__label-arrow\">BaggingClassifier</label><div class=\"sk-toggleable__content\"><pre>BaggingClassifier(n_jobs=-1)</pre></div></div></div></div></div></div><div class=\"sk-parallel-item\"><div class=\"sk-item\"><div class=\"sk-label-container\"><div class=\"sk-label sk-toggleable\"><label>extraTress</label></div></div><div class=\"sk-serial\"><div class=\"sk-item\"><div class=\"sk-estimator sk-toggleable\"><input class=\"sk-toggleable__control sk-hidden--visually\" id=\"sk-estimator-id-16\" type=\"checkbox\" ><label for=\"sk-estimator-id-16\" class=\"sk-toggleable__label sk-toggleable__label-arrow\">ExtraTreesClassifier</label><div class=\"sk-toggleable__content\"><pre>ExtraTreesClassifier(max_depth=10, n_jobs=-1)</pre></div></div></div></div></div></div><div class=\"sk-parallel-item\"><div class=\"sk-item\"><div class=\"sk-label-container\"><div class=\"sk-label sk-toggleable\"><label>randomforest</label></div></div><div class=\"sk-serial\"><div class=\"sk-item\"><div class=\"sk-estimator sk-toggleable\"><input class=\"sk-toggleable__control sk-hidden--visually\" id=\"sk-estimator-id-17\" type=\"checkbox\" ><label for=\"sk-estimator-id-17\" class=\"sk-toggleable__label sk-toggleable__label-arrow\">RandomForestClassifier</label><div class=\"sk-toggleable__content\"><pre>RandomForestClassifier(n_jobs=-1)</pre></div></div></div></div></div></div><div class=\"sk-parallel-item\"><div class=\"sk-item\"><div class=\"sk-label-container\"><div class=\"sk-label sk-toggleable\"><label>histGradientBoosting</label></div></div><div class=\"sk-serial\"><div class=\"sk-item\"><div class=\"sk-estimator sk-toggleable\"><input class=\"sk-toggleable__control sk-hidden--visually\" id=\"sk-estimator-id-18\" type=\"checkbox\" ><label for=\"sk-estimator-id-18\" class=\"sk-toggleable__label sk-toggleable__label-arrow\">HistGradientBoostingClassifier</label><div class=\"sk-toggleable__content\"><pre>HistGradientBoostingClassifier()</pre></div></div></div></div></div></div><div class=\"sk-parallel-item\"><div class=\"sk-item\"><div class=\"sk-label-container\"><div class=\"sk-label sk-toggleable\"><label>XGB</label></div></div><div class=\"sk-serial\"><div class=\"sk-item\"><div class=\"sk-estimator sk-toggleable\"><input class=\"sk-toggleable__control sk-hidden--visually\" id=\"sk-estimator-id-19\" type=\"checkbox\" ><label for=\"sk-estimator-id-19\" class=\"sk-toggleable__label sk-toggleable__label-arrow\">XGBClassifier</label><div class=\"sk-toggleable__content\"><pre>XGBClassifier(base_score=None, booster=None, callbacks=None,\n",
       "              colsample_bylevel=None, colsample_bynode=None,\n",
       "              colsample_bytree=None, early_stopping_rounds=None,\n",
       "              enable_categorical=False, eval_metric=None, feature_types=None,\n",
       "              gamma=None, gpu_id=None, grow_policy=None, importance_type=None,\n",
       "              interaction_constraints=None, learning_rate=None, max_bin=None,\n",
       "              max_cat_threshold=None, max_cat_to_onehot=None,\n",
       "              max_delta_step=None, max_depth=None, max_leaves=None,\n",
       "              min_child_weight=None, missing=nan, monotone_constraints=None,\n",
       "              n_estimators=100, n_jobs=-1, num_parallel_tree=None,\n",
       "              predictor=None, random_state=None, ...)</pre></div></div></div></div></div></div></div></div><div class=\"sk-item\"><div class=\"sk-parallel\"><div class=\"sk-parallel-item\"><div class=\"sk-item\"><div class=\"sk-label-container\"><div class=\"sk-label sk-toggleable\"><label>final_estimator</label></div></div><div class=\"sk-serial\"><div class=\"sk-item\"><div class=\"sk-estimator sk-toggleable\"><input class=\"sk-toggleable__control sk-hidden--visually\" id=\"sk-estimator-id-20\" type=\"checkbox\" ><label for=\"sk-estimator-id-20\" class=\"sk-toggleable__label sk-toggleable__label-arrow\">LogisticRegression</label><div class=\"sk-toggleable__content\"><pre>LogisticRegression()</pre></div></div></div></div></div></div></div></div></div></div></div></div>"
      ],
      "text/plain": [
       "StackingClassifier(estimators=[('bagging', BaggingClassifier(n_jobs=-1)),\n",
       "                               ('extraTress',\n",
       "                                ExtraTreesClassifier(max_depth=10, n_jobs=-1)),\n",
       "                               ('randomforest',\n",
       "                                RandomForestClassifier(n_jobs=-1)),\n",
       "                               ('histGradientBoosting',\n",
       "                                HistGradientBoostingClassifier()),\n",
       "                               ('XGB',\n",
       "                                XGBClassifier(base_score=None, booster=None,\n",
       "                                              callbacks=None,\n",
       "                                              colsample_bylevel=None,\n",
       "                                              colsample_bynode=None...\n",
       "                                              gpu_id=None, grow_policy=None,\n",
       "                                              importance_type=None,\n",
       "                                              interaction_constraints=None,\n",
       "                                              learning_rate=None, max_bin=None,\n",
       "                                              max_cat_threshold=None,\n",
       "                                              max_cat_to_onehot=None,\n",
       "                                              max_delta_step=None,\n",
       "                                              max_depth=None, max_leaves=None,\n",
       "                                              min_child_weight=None,\n",
       "                                              missing=nan,\n",
       "                                              monotone_constraints=None,\n",
       "                                              n_estimators=100, n_jobs=-1,\n",
       "                                              num_parallel_tree=None,\n",
       "                                              predictor=None, random_state=None, ...))],\n",
       "                   n_jobs=-1)"
      ]
     },
     "execution_count": 138,
     "metadata": {},
     "output_type": "execute_result"
    }
   ],
   "source": [
    "model.fit(X_train, y_train)"
   ]
  },
  {
   "cell_type": "code",
   "execution_count": 139,
   "id": "e7acd372",
   "metadata": {},
   "outputs": [
    {
     "name": "stdout",
     "output_type": "stream",
     "text": [
      "              precision    recall  f1-score   support\n",
      "\n",
      "           0       0.65      0.72      0.68      4276\n",
      "           1       0.75      0.74      0.74      8788\n",
      "           2       0.62      0.55      0.58      2936\n",
      "\n",
      "    accuracy                           0.70     16000\n",
      "   macro avg       0.67      0.67      0.67     16000\n",
      "weighted avg       0.70      0.70      0.70     16000\n",
      "\n"
     ]
    }
   ],
   "source": [
    "y_pred = model.predict(X_val)\n",
    "print(classification_report(y_pred,y_val))"
   ]
  },
  {
   "cell_type": "code",
   "execution_count": 54,
   "id": "01334e6c",
   "metadata": {},
   "outputs": [],
   "source": [
    "# not in current use\n",
    "import shap\n",
    "\n",
    "def shapley(model, X_train, X_val):\n",
    "    explainer = shap.Explainer(model, X_train)\n",
    "    \n",
    "    shap_values = explainer(X_train)\n",
    "    shap.summary_plot(shap_values, X_train)\n",
    "    # visualize the first prediction's explanation\n",
    "    shap.plots.waterfall(shap_values[0])\n",
    "\n",
    "    # freature importance    \n",
    "    shap.summary_plot(shap_values, X_train, plot_type=\"bar\")\n",
    "    \n",
    "    shap.plots.bar(shap_values)\n",
    "    shap.summary_plot(shap_values, plot_type='violin')\n",
    "    shap.plots.bar(shap_values[0])\n",
    "    shap.plots.waterfall(shap_values[0])\n",
    "    shap.plots.force(shap_values[0])\n",
    "    \n",
    "    \n",
    "    shap.plots.force(shap_values[1])\n",
    "    \n",
    "    shap.plots.heatmap(shap_values)\n",
    "    \n",
    "    # fig = shap.force_plot(explainer.expected_value, shap_values.values, X_train, feature_names = X_train.columns)\n",
    "    # fig.savefig('testplot.png')\n",
    "    # fig.plot()\n",
    "    \n",
    "    # fig = shap.force_plot(shap_values, X_train)\n",
    "    # fig.plot()\n",
    "   \n",
    "    shap_values = explainer(X_val)\n",
    "    shap.plots.beeswarm(shap_values)\n",
    "    # visualize the first prediction's explanation\n",
    "    shap.plots.waterfall(shap_values[0])\n",
    "    \n",
    "    # freature importance\n",
    "    shap.summary_plot(shap_values, X_val, plot_type=\"bar\")"
   ]
  }
 ],
 "metadata": {
  "kernelspec": {
   "display_name": "Python 3 (ipykernel)",
   "language": "python",
   "name": "python3"
  },
  "language_info": {
   "codemirror_mode": {
    "name": "ipython",
    "version": 3
   },
   "file_extension": ".py",
   "mimetype": "text/x-python",
   "name": "python",
   "nbconvert_exporter": "python",
   "pygments_lexer": "ipython3",
   "version": "3.8.8"
  }
 },
 "nbformat": 4,
 "nbformat_minor": 5
}
