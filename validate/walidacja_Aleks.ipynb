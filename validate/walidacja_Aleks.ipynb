{
 "cells": [
  {
   "cell_type": "markdown",
   "id": "ce247929",
   "metadata": {},
   "source": [
    "# Fakenews detection\n",
    "Karolina Mączka, Tymoteusz Urban"
   ]
  },
  {
   "cell_type": "markdown",
   "id": "c805ecaf",
   "metadata": {},
   "source": [
    "# Komentarze dopisane podczas walidacji oznaczone są za pomocą /A/"
   ]
  },
  {
   "cell_type": "code",
   "execution_count": 276,
   "id": "93248206",
   "metadata": {
    "scrolled": false
   },
   "outputs": [
    {
     "name": "stderr",
     "output_type": "stream",
     "text": [
      "[nltk_data] Downloading package stopwords to\n",
      "[nltk_data]     C:\\Users\\Aleks\\AppData\\Roaming\\nltk_data...\n",
      "[nltk_data]   Package stopwords is already up-to-date!\n",
      "[nltk_data] Downloading package punkt to\n",
      "[nltk_data]     C:\\Users\\Aleks\\AppData\\Roaming\\nltk_data...\n",
      "[nltk_data]   Package punkt is already up-to-date!\n",
      "[nltk_data] Downloading package wordnet to\n",
      "[nltk_data]     C:\\Users\\Aleks\\AppData\\Roaming\\nltk_data...\n",
      "[nltk_data]   Package wordnet is already up-to-date!\n",
      "[nltk_data] Downloading package omw-1.4 to\n",
      "[nltk_data]     C:\\Users\\Aleks\\AppData\\Roaming\\nltk_data...\n",
      "[nltk_data]   Package omw-1.4 is already up-to-date!\n"
     ]
    }
   ],
   "source": [
    "import pandas as pd\n",
    "import numpy as np\n",
    "import matplotlib.pyplot as plt\n",
    "import sklearn\n",
    "from sklearn.model_selection import train_test_split\n",
    "from sklearn.feature_extraction.text import TfidfVectorizer\n",
    "from sklearn.feature_extraction.text import CountVectorizer, TfidfTransformer\n",
    "import nltk\n",
    "from nltk.tokenize import sent_tokenize, word_tokenize\n",
    "from nltk.corpus import stopwords\n",
    "from nltk.stem import WordNetLemmatizer\n",
    "nltk.download('stopwords')\n",
    "nltk.download('punkt')\n",
    "nltk.download('wordnet')\n",
    "nltk.download('omw-1.4')\n",
    "import re\n",
    "from wordcloud import WordCloud\n",
    "from langdetect import detect\n",
    "from langdetect import DetectorFactory\n",
    "DetectorFactory.seed = 0"
   ]
  },
  {
   "cell_type": "code",
   "execution_count": 277,
   "id": "6b4af895",
   "metadata": {},
   "outputs": [],
   "source": [
    "# Upload danych\n",
    "train=pd.read_csv('training_data.csv', header=0, sep=',')\n",
    "test=pd.read_csv('testing_data.csv', header=0, sep=',')\n",
    "val=pd.read_csv('fakenws_validation.csv', header=0, sep=',')"
   ]
  },
  {
   "cell_type": "code",
   "execution_count": 278,
   "id": "53ac715b",
   "metadata": {},
   "outputs": [
    {
     "data": {
      "text/plain": [
       "0.4899847925266131"
      ]
     },
     "execution_count": 278,
     "metadata": {},
     "output_type": "execute_result"
    }
   ],
   "source": [
    "len(train)/sum([len(df) for df in [train, test, val]])"
   ]
  },
  {
   "cell_type": "markdown",
   "id": "012040de",
   "metadata": {},
   "source": [
    "/A/ Zbiór treningowy to niecałe 50% całego zbioru danych - mógłby być trochę większy,\n",
    "przy zbyt małym zbiorze treningowym model może funckjonować nieefektywnie"
   ]
  },
  {
   "cell_type": "markdown",
   "id": "93af8965",
   "metadata": {},
   "source": [
    "## Train test split"
   ]
  },
  {
   "cell_type": "markdown",
   "id": "021e47e1",
   "metadata": {},
   "source": [
    "/A/ Zweryfikujmy, czy wartości z targetu są rozdystrybuowane podobnie w zbiorach train, test, val"
   ]
  },
  {
   "cell_type": "code",
   "execution_count": 279,
   "id": "6e2da306",
   "metadata": {},
   "outputs": [
    {
     "name": "stdout",
     "output_type": "stream",
     "text": [
      "fake    20645\n",
      "true    13186\n",
      "Name: label, dtype: int64\n",
      "Proporcja true/fake: 0.6387018648583193 \n",
      "\n",
      "fake    12700\n",
      "true     8014\n",
      "Name: label, dtype: int64\n",
      "Proporcja true/fake: 0.631023622047244 \n",
      "\n",
      "fake    8814\n",
      "true    5686\n",
      "Name: label, dtype: int64\n",
      "Proporcja true/fake: 0.6451100521896982 \n",
      "\n"
     ]
    }
   ],
   "source": [
    "for target in [train['label'], test['label'], val['label']]:\n",
    "    print(target.value_counts())\n",
    "    print('Proporcja true/fake:',\n",
    "          len(target[target=='true'])/len(target[target=='fake']),\n",
    "          '\\n')"
   ]
  },
  {
   "cell_type": "markdown",
   "id": "a02043b4",
   "metadata": {},
   "source": [
    "/A/ Proporcje w targecie są zachowane w każdym ze zbiorów danych"
   ]
  },
  {
   "cell_type": "code",
   "execution_count": 280,
   "id": "20b925e9",
   "metadata": {},
   "outputs": [],
   "source": [
    "df_train = train.copy()\n",
    "df_testing = test.copy()\n",
    "df_validate= val.copy()"
   ]
  },
  {
   "cell_type": "code",
   "execution_count": 281,
   "id": "a3e67e83",
   "metadata": {},
   "outputs": [],
   "source": [
    "df2 = df_validate # ułatwienie pracy z notebookiem"
   ]
  },
  {
   "cell_type": "markdown",
   "id": "f56bfd9f",
   "metadata": {},
   "source": [
    "## Getting to know the data"
   ]
  },
  {
   "cell_type": "code",
   "execution_count": 282,
   "id": "17ffa716",
   "metadata": {},
   "outputs": [
    {
     "data": {
      "text/html": [
       "<div>\n",
       "<style scoped>\n",
       "    .dataframe tbody tr th:only-of-type {\n",
       "        vertical-align: middle;\n",
       "    }\n",
       "\n",
       "    .dataframe tbody tr th {\n",
       "        vertical-align: top;\n",
       "    }\n",
       "\n",
       "    .dataframe thead th {\n",
       "        text-align: right;\n",
       "    }\n",
       "</style>\n",
       "<table border=\"1\" class=\"dataframe\">\n",
       "  <thead>\n",
       "    <tr style=\"text-align: right;\">\n",
       "      <th></th>\n",
       "      <th>title</th>\n",
       "      <th>text</th>\n",
       "      <th>label</th>\n",
       "    </tr>\n",
       "  </thead>\n",
       "  <tbody>\n",
       "    <tr>\n",
       "      <th>0</th>\n",
       "      <td>They Said What?!: Find Out What Reba McEntire,...</td>\n",
       "      <td>Email Ever wonder what’s on the mind of today’...</td>\n",
       "      <td>fake</td>\n",
       "    </tr>\n",
       "    <tr>\n",
       "      <th>1</th>\n",
       "      <td>Macron's European dream more difficult without...</td>\n",
       "      <td>PARIS (Reuters) - President Emmanuel Macron s ...</td>\n",
       "      <td>true</td>\n",
       "    </tr>\n",
       "    <tr>\n",
       "      <th>2</th>\n",
       "      <td>FLASHBACK VIDEO: JESSE JACKSON Praises Donald ...</td>\n",
       "      <td>Oops! Hillary and her race-baiting campaign te...</td>\n",
       "      <td>fake</td>\n",
       "    </tr>\n",
       "    <tr>\n",
       "      <th>3</th>\n",
       "      <td>Markets ignore Trump presidential bid at their...</td>\n",
       "      <td>LONDON (IFR) - The prospect of Donald Trump be...</td>\n",
       "      <td>true</td>\n",
       "    </tr>\n",
       "    <tr>\n",
       "      <th>4</th>\n",
       "      <td>Dem insiders: Sanders failed to dent Clinton</td>\n",
       "      <td>Killing Obama administration rules, dismantlin...</td>\n",
       "      <td>true</td>\n",
       "    </tr>\n",
       "  </tbody>\n",
       "</table>\n",
       "</div>"
      ],
      "text/plain": [
       "                                               title  \\\n",
       "0  They Said What?!: Find Out What Reba McEntire,...   \n",
       "1  Macron's European dream more difficult without...   \n",
       "2  FLASHBACK VIDEO: JESSE JACKSON Praises Donald ...   \n",
       "3  Markets ignore Trump presidential bid at their...   \n",
       "4       Dem insiders: Sanders failed to dent Clinton   \n",
       "\n",
       "                                                text label  \n",
       "0  Email Ever wonder what’s on the mind of today’...  fake  \n",
       "1  PARIS (Reuters) - President Emmanuel Macron s ...  true  \n",
       "2  Oops! Hillary and her race-baiting campaign te...  fake  \n",
       "3  LONDON (IFR) - The prospect of Donald Trump be...  true  \n",
       "4  Killing Obama administration rules, dismantlin...  true  "
      ]
     },
     "execution_count": 282,
     "metadata": {},
     "output_type": "execute_result"
    }
   ],
   "source": [
    "df2.head()"
   ]
  },
  {
   "cell_type": "code",
   "execution_count": 283,
   "id": "55d2e697",
   "metadata": {},
   "outputs": [
    {
     "name": "stdout",
     "output_type": "stream",
     "text": [
      "<class 'pandas.core.frame.DataFrame'>\n",
      "RangeIndex: 14500 entries, 0 to 14499\n",
      "Data columns (total 3 columns):\n",
      " #   Column  Non-Null Count  Dtype \n",
      "---  ------  --------------  ----- \n",
      " 0   title   14368 non-null  object\n",
      " 1   text    14486 non-null  object\n",
      " 2   label   14500 non-null  object\n",
      "dtypes: object(3)\n",
      "memory usage: 340.0+ KB\n"
     ]
    }
   ],
   "source": [
    "df2.info()"
   ]
  },
  {
   "cell_type": "markdown",
   "id": "a1778d92",
   "metadata": {},
   "source": [
    "/A/ Nie ma braków w targecie, specyficzny zbiór danych wymagający przetworzenia adekwatnego dla NLP.\n",
    "Niewielka ilość braków w kolumnach text i title, szczególnie braki w 'text' zwracają uwage bo to kluczowa kolumna"
   ]
  },
  {
   "cell_type": "markdown",
   "id": "eb2442e2",
   "metadata": {},
   "source": [
    "\n",
    "\n",
    "## Data Preprocessing"
   ]
  },
  {
   "cell_type": "markdown",
   "id": "8fd93a04",
   "metadata": {},
   "source": [
    "### Encoding"
   ]
  },
  {
   "cell_type": "code",
   "execution_count": 284,
   "id": "16eddf9f",
   "metadata": {},
   "outputs": [],
   "source": [
    "# zamina fake i true na wartości numeryczne\n",
    "df2.loc[df2[\"label\"] == \"fake\",\"label\"] = 0\n",
    "df2.loc[df2[\"label\"] == \"true\",\"label\"] = 1"
   ]
  },
  {
   "cell_type": "code",
   "execution_count": 285,
   "id": "e98600df",
   "metadata": {},
   "outputs": [],
   "source": [
    "# before pipeline function\n",
    "def encodeLabels(df):\n",
    "    df.loc[df[\"label\"] == \"fake\",\"label\"] = 0\n",
    "    df.loc[df[\"label\"] == \"true\",\"label\"] = 1\n",
    "    return df"
   ]
  },
  {
   "cell_type": "markdown",
   "id": "3ad72669",
   "metadata": {},
   "source": [
    "### NaNs"
   ]
  },
  {
   "cell_type": "markdown",
   "id": "f72cfd19",
   "metadata": {},
   "source": [
    "/A/ Lepiej wstępnie przeanalizować jak wyglądają braki danych, zamiast od razu się ich pozbywać"
   ]
  },
  {
   "cell_type": "code",
   "execution_count": 286,
   "id": "827a5ed7",
   "metadata": {},
   "outputs": [
    {
     "data": {
      "text/plain": [
       "257      Il saoule tout le monde avec son analyse polit...\n",
       "926                            Ravens @ Raiders - Thursday\n",
       "989      New U.N. Report Cites Terrorists, Blames Assad...\n",
       "1083                    The Prophet of Germany’s New Right\n",
       "1411     La Corée du Nord annonce avoir envoyé un missi...\n",
       "2663     La Trump Tower cambriolée – les voleurs seraie...\n",
       "3061     Donald Trump s’excuse pour toutes les minorité...\n",
       "4208     La sortie du dernier livre inédit du Gorafi éc...\n",
       "6446     Le top des recherches Google passe en top des ...\n",
       "9348     10/6 Post-Season: WS: Beat Boston,Lose Two To ...\n",
       "12115                 Donald Trump en 5 dates >> Le Gorafi\n",
       "12266    Sur Twitter, Donald Trump se félicite d’avoir ...\n",
       "13236    10/4 Expo Park-Forbes Field Era: '08 To the Wi...\n",
       "13493    La Russie a profité de l’élection américaine p...\n",
       "Name: title, dtype: object"
      ]
     },
     "execution_count": 286,
     "metadata": {},
     "output_type": "execute_result"
    }
   ],
   "source": [
    "# /A/ przyjrzenie się tytułom bez tekstu\n",
    "df2[df2['text'].isna()]['title']"
   ]
  },
  {
   "cell_type": "code",
   "execution_count": 287,
   "id": "5b5f5cc1",
   "metadata": {},
   "outputs": [
    {
     "data": {
      "text/plain": [
       "146      A leading US senator: US Supporting War in Syr...\n",
       "282      They’re too busy liking bullshit memes and wat...\n",
       "308      $2.9B/year could have taken care of many highw...\n",
       "512      Lying, arrogant Muslim, Marxist piece of dogsh*t.\n",
       "620      There are a ton of tards who will continue to ...\n",
       "                               ...                        \n",
       "13919    Wait till you see what happens to the valuatio...\n",
       "13995    JUST VOTE TRUMP LETs PUT THE HAG OUT TO PASTUR...\n",
       "14070      Yes... AARP opposed Single Payer. Boycott them.\n",
       "14316    Same people all the time , i dont know how you...\n",
       "14452    A leading US senator: US Supporting War in Syr...\n",
       "Name: text, Length: 132, dtype: object"
      ]
     },
     "execution_count": 287,
     "metadata": {},
     "output_type": "execute_result"
    }
   ],
   "source": [
    "# /A/ przyjrzenie się tekstom bez tytułu\n",
    "df2[df2['title'].isna()]['text']"
   ]
  },
  {
   "cell_type": "code",
   "execution_count": 288,
   "id": "f998743c",
   "metadata": {
    "scrolled": true
   },
   "outputs": [
    {
     "name": "stdout",
     "output_type": "stream",
     "text": [
      "<class 'pandas.core.frame.DataFrame'>\n",
      "Int64Index: 14354 entries, 0 to 14499\n",
      "Data columns (total 3 columns):\n",
      " #   Column  Non-Null Count  Dtype \n",
      "---  ------  --------------  ----- \n",
      " 0   title   14354 non-null  object\n",
      " 1   text    14354 non-null  object\n",
      " 2   label   14354 non-null  object\n",
      "dtypes: object(3)\n",
      "memory usage: 448.6+ KB\n"
     ]
    }
   ],
   "source": [
    "# Jest bardzo mało nulli więc możemy się ich pozbyć\n",
    "df2.dropna(inplace = True)\n",
    "df2.info()"
   ]
  },
  {
   "cell_type": "code",
   "execution_count": 289,
   "id": "0e163557",
   "metadata": {},
   "outputs": [],
   "source": [
    "# transformer function\n",
    "def handleNa(df):\n",
    "    df.dropna(inplace=True)\n",
    "    print('NaNs deleted')\n",
    "    return df"
   ]
  },
  {
   "cell_type": "markdown",
   "id": "76f82217",
   "metadata": {},
   "source": [
    "### Combine columns"
   ]
  },
  {
   "cell_type": "code",
   "execution_count": 290,
   "id": "97c7a450",
   "metadata": {},
   "outputs": [],
   "source": [
    "# Z racji, że będziemy analizować same słowa, łączymy kolumny title i tekst \n",
    "# - dla naszego modelu nie będzie miało znaczenia z której kolumny pochodzą"
   ]
  },
  {
   "cell_type": "code",
   "execution_count": 291,
   "id": "4b426020",
   "metadata": {},
   "outputs": [
    {
     "data": {
      "text/plain": [
       "title    ALL HELL IS BREAKING LOOSE IN GERMANY: Citizen...\n",
       "text     Enough is enough! German citizens are witnessi...\n",
       "label                                                    0\n",
       "Name: 8102, dtype: object"
      ]
     },
     "execution_count": 291,
     "metadata": {},
     "output_type": "execute_result"
    }
   ],
   "source": [
    "df2.loc[8102]"
   ]
  },
  {
   "cell_type": "code",
   "execution_count": 292,
   "id": "149765bc",
   "metadata": {},
   "outputs": [],
   "source": [
    "df2['text'] = df2[['title', 'text']].apply(\" \".join, axis=1)"
   ]
  },
  {
   "cell_type": "code",
   "execution_count": 293,
   "id": "b3b235e7",
   "metadata": {},
   "outputs": [
    {
     "data": {
      "text/plain": [
       "'ALL HELL IS BREAKING LOOSE IN GERMANY: Citizens Want “Refugees” Gunned Down At Borders [VIDEO] Enough is enough! German citizens are witnessing the fast-track decline of their nation. Does America need to look any further than Germany to see that bringing in hundreds of thousands (in Germany s case millions) of Muslim men from countries who have no interest in assimilating in the Western world, is a serious threat to its citizens?  Liberal open-border policies that have been put forth by Angel Merkel and other progressives in power have clearly put their citizens in grave danger. OVER one-in-four Germans say they back a policy to open fire on unwanted illegal refugees at their borders.Watch massive brawl break out in refugee camp over torn Quran:The Alternative for Germany (AFD) party leader Frauke Petry caused a storm a week ago when she advocated the right of border police to gun down migrants. But her comments have struck a nerve in a country being pushed to the brink by the crisis with 29 percent of respondents in a weekend poll backing her extremist plan. Via: Express UKWe  recently reported about a vigilante group in Finland that is gaining large numbers of international members. The Soldiers of Odin are taking matters into their own hands. They are no longer going to sit back and allow the women and children in their communities be raped by these  migrants,  who have no regard for the laws of the countries that have generously agreed to accept and support them. I think it s going to be a war between local people and immigrants.    Soldiers of Odin member Foreigners can t go out alone after dark anymore. It used to be safe to go out in Finland at night, even by yourself, but now we just don t have the courage to do it.    MigrantCLICK HERE for entire story.'"
      ]
     },
     "execution_count": 293,
     "metadata": {},
     "output_type": "execute_result"
    }
   ],
   "source": [
    "df2.loc[8102]['text']"
   ]
  },
  {
   "cell_type": "code",
   "execution_count": 294,
   "id": "c5188aff",
   "metadata": {},
   "outputs": [],
   "source": [
    "#df2 = df2.drop(columns='title')"
   ]
  },
  {
   "cell_type": "markdown",
   "id": "e543cc61",
   "metadata": {},
   "source": [
    "/A/ Moglibyśmy zostawić kolumnę 'title', może niosłaby wartościowe informacje \n",
    "np. często fake newsy i baity mają tytuły zapisane z użyciem wielkich liter"
   ]
  },
  {
   "cell_type": "code",
   "execution_count": 295,
   "id": "9d043d53",
   "metadata": {},
   "outputs": [],
   "source": [
    "# /A/ przykładowy kod który można wykorzystać do sprawdzenia ile wielkich liter w tytule\n",
    "def uppercase_percentage(text):\n",
    "    if not isinstance(text, float) : # sprawdzamy czy wartość nie jest pusta\n",
    "        return(sum(1 for c in text if c.isupper())/len(text))\n",
    "\n",
    "def count_uppercase_percentage(df):\n",
    "    df['title_uppercase_percentage'] = df['title'].apply(uppercase_percentage)\n",
    "\n",
    "count_uppercase_percentage(df2)"
   ]
  },
  {
   "cell_type": "code",
   "execution_count": 296,
   "id": "37cade58",
   "metadata": {},
   "outputs": [
    {
     "data": {
      "text/html": [
       "<div>\n",
       "<style scoped>\n",
       "    .dataframe tbody tr th:only-of-type {\n",
       "        vertical-align: middle;\n",
       "    }\n",
       "\n",
       "    .dataframe tbody tr th {\n",
       "        vertical-align: top;\n",
       "    }\n",
       "\n",
       "    .dataframe thead th {\n",
       "        text-align: right;\n",
       "    }\n",
       "</style>\n",
       "<table border=\"1\" class=\"dataframe\">\n",
       "  <thead>\n",
       "    <tr style=\"text-align: right;\">\n",
       "      <th></th>\n",
       "      <th>title</th>\n",
       "      <th>text</th>\n",
       "      <th>label</th>\n",
       "      <th>title_uppercase_percentage</th>\n",
       "    </tr>\n",
       "  </thead>\n",
       "  <tbody>\n",
       "    <tr>\n",
       "      <th>0</th>\n",
       "      <td>They Said What?!: Find Out What Reba McEntire,...</td>\n",
       "      <td>They Said What?!: Find Out What Reba McEntire,...</td>\n",
       "      <td>0</td>\n",
       "      <td>0.184783</td>\n",
       "    </tr>\n",
       "    <tr>\n",
       "      <th>1</th>\n",
       "      <td>Macron's European dream more difficult without...</td>\n",
       "      <td>Macron's European dream more difficult without...</td>\n",
       "      <td>1</td>\n",
       "      <td>0.047619</td>\n",
       "    </tr>\n",
       "    <tr>\n",
       "      <th>2</th>\n",
       "      <td>FLASHBACK VIDEO: JESSE JACKSON Praises Donald ...</td>\n",
       "      <td>FLASHBACK VIDEO: JESSE JACKSON Praises Donald ...</td>\n",
       "      <td>0</td>\n",
       "      <td>0.314516</td>\n",
       "    </tr>\n",
       "    <tr>\n",
       "      <th>3</th>\n",
       "      <td>Markets ignore Trump presidential bid at their...</td>\n",
       "      <td>Markets ignore Trump presidential bid at their...</td>\n",
       "      <td>1</td>\n",
       "      <td>0.038462</td>\n",
       "    </tr>\n",
       "    <tr>\n",
       "      <th>4</th>\n",
       "      <td>Dem insiders: Sanders failed to dent Clinton</td>\n",
       "      <td>Dem insiders: Sanders failed to dent Clinton K...</td>\n",
       "      <td>1</td>\n",
       "      <td>0.068182</td>\n",
       "    </tr>\n",
       "  </tbody>\n",
       "</table>\n",
       "</div>"
      ],
      "text/plain": [
       "                                               title  \\\n",
       "0  They Said What?!: Find Out What Reba McEntire,...   \n",
       "1  Macron's European dream more difficult without...   \n",
       "2  FLASHBACK VIDEO: JESSE JACKSON Praises Donald ...   \n",
       "3  Markets ignore Trump presidential bid at their...   \n",
       "4       Dem insiders: Sanders failed to dent Clinton   \n",
       "\n",
       "                                                text label  \\\n",
       "0  They Said What?!: Find Out What Reba McEntire,...     0   \n",
       "1  Macron's European dream more difficult without...     1   \n",
       "2  FLASHBACK VIDEO: JESSE JACKSON Praises Donald ...     0   \n",
       "3  Markets ignore Trump presidential bid at their...     1   \n",
       "4  Dem insiders: Sanders failed to dent Clinton K...     1   \n",
       "\n",
       "   title_uppercase_percentage  \n",
       "0                    0.184783  \n",
       "1                    0.047619  \n",
       "2                    0.314516  \n",
       "3                    0.038462  \n",
       "4                    0.068182  "
      ]
     },
     "execution_count": 296,
     "metadata": {},
     "output_type": "execute_result"
    }
   ],
   "source": [
    "df2.head(5)"
   ]
  },
  {
   "cell_type": "code",
   "execution_count": 297,
   "id": "dd65cfee",
   "metadata": {},
   "outputs": [],
   "source": [
    "# transformer function\n",
    "def combineColumns(df):\n",
    "    df['text'] = df[['title', 'text']].apply(\" \".join, axis=1)\n",
    "    df = df.drop(columns='title')\n",
    "    print('Columns combined')\n",
    "    return df"
   ]
  },
  {
   "cell_type": "markdown",
   "id": "987616fe",
   "metadata": {},
   "source": [
    "### Outliers"
   ]
  },
  {
   "cell_type": "code",
   "execution_count": null,
   "id": "ec0eeb34",
   "metadata": {},
   "outputs": [],
   "source": [
    "df2['textlength'] = df2['text'].apply(len)\n",
    "plt.hist(df2['textlength'])"
   ]
  },
  {
   "cell_type": "code",
   "execution_count": null,
   "id": "d14dca82",
   "metadata": {
    "scrolled": true
   },
   "outputs": [],
   "source": [
    "print(df2[(df2['textlength'] > 40000)].count())\n",
    "df2[(df2['textlength'] > 40000)].head()"
   ]
  },
  {
   "cell_type": "code",
   "execution_count": null,
   "id": "bfc6a5ae",
   "metadata": {},
   "outputs": [],
   "source": [
    "# Wyrzucamy bardzo dlugie teksty (ponad 40000 znaków)\n",
    "df2 = df2[(df2['textlength'] < 40000)]\n",
    "df2.drop(columns='textlength')"
   ]
  },
  {
   "cell_type": "markdown",
   "id": "9030fea8",
   "metadata": {},
   "source": [
    "/A/ bardzo długich tekstów jest bardzo niewiele\n",
    "(może warto było zweryfikować czego dotyczą przed wyrzuceniem)"
   ]
  },
  {
   "cell_type": "markdown",
   "id": "2bfafdeb",
   "metadata": {},
   "source": [
    "/A/ Nie wiem czy ich eliminacja jest konieczna"
   ]
  },
  {
   "cell_type": "code",
   "execution_count": null,
   "id": "c4c543fc",
   "metadata": {},
   "outputs": [],
   "source": [
    "# transformer function\n",
    "def removeOutliers(df):\n",
    "    df['textlength'] = df['text'].apply(len)\n",
    "    df = df[df['textlength'] < 40000]\n",
    "    df = df.drop(columns='textlength')\n",
    "    print('Outliers removed')\n",
    "    return df"
   ]
  },
  {
   "cell_type": "markdown",
   "id": "d4b4bf9d",
   "metadata": {},
   "source": [
    "### Removing stopwords"
   ]
  },
  {
   "cell_type": "code",
   "execution_count": 298,
   "id": "995b9ffd",
   "metadata": {},
   "outputs": [],
   "source": [
    "#stopword removal\n",
    "stop = stopwords.words('english')\n",
    "lemmatizer = WordNetLemmatizer()\n",
    "def remove_stopwords(s):\n",
    "    s = [lemmatizer.lemmatize(word.lower()) for word in s if not word.lower() in stop]\n",
    "    return s"
   ]
  },
  {
   "cell_type": "code",
   "execution_count": 299,
   "id": "9f14d113",
   "metadata": {},
   "outputs": [],
   "source": [
    "# punctuation and number removal\n",
    "def remove_punctuations(s):\n",
    "    s = re.sub(r'[^a-zA-Z\\s]', '', s)\n",
    "    return s"
   ]
  },
  {
   "cell_type": "code",
   "execution_count": 300,
   "id": "a9c79642",
   "metadata": {},
   "outputs": [],
   "source": [
    "df2['text'] = df2['text'].apply(remove_punctuations)\n",
    "df2['text'] = df2['text'].apply(word_tokenize)"
   ]
  },
  {
   "cell_type": "code",
   "execution_count": 301,
   "id": "f85e04c2",
   "metadata": {},
   "outputs": [],
   "source": [
    "df2['text'] = df2['text'].apply(remove_stopwords)"
   ]
  },
  {
   "cell_type": "markdown",
   "id": "9e54a230",
   "metadata": {},
   "source": [
    "/A/ odpowiednie podejście w wypadku NLP, dobrze że tekst został stokenizowany i usunięto interpunkcję"
   ]
  },
  {
   "cell_type": "code",
   "execution_count": 303,
   "id": "48034e92",
   "metadata": {
    "scrolled": true
   },
   "outputs": [],
   "source": [
    "def list2string(text):\n",
    "    text = \" \".join(wrd for wrd in text)\n",
    "    return text"
   ]
  },
  {
   "cell_type": "code",
   "execution_count": 304,
   "id": "39d4205f",
   "metadata": {},
   "outputs": [],
   "source": [
    "df3 = df2.copy()"
   ]
  },
  {
   "cell_type": "code",
   "execution_count": 305,
   "id": "3e3bffe2",
   "metadata": {},
   "outputs": [
    {
     "data": {
      "text/html": [
       "<div>\n",
       "<style scoped>\n",
       "    .dataframe tbody tr th:only-of-type {\n",
       "        vertical-align: middle;\n",
       "    }\n",
       "\n",
       "    .dataframe tbody tr th {\n",
       "        vertical-align: top;\n",
       "    }\n",
       "\n",
       "    .dataframe thead th {\n",
       "        text-align: right;\n",
       "    }\n",
       "</style>\n",
       "<table border=\"1\" class=\"dataframe\">\n",
       "  <thead>\n",
       "    <tr style=\"text-align: right;\">\n",
       "      <th></th>\n",
       "      <th>title</th>\n",
       "      <th>text</th>\n",
       "      <th>label</th>\n",
       "      <th>title_uppercase_percentage</th>\n",
       "    </tr>\n",
       "  </thead>\n",
       "  <tbody>\n",
       "    <tr>\n",
       "      <th>0</th>\n",
       "      <td>They Said What?!: Find Out What Reba McEntire,...</td>\n",
       "      <td>said find reba mcentire whoopi goldberg pope f...</td>\n",
       "      <td>0</td>\n",
       "      <td>0.184783</td>\n",
       "    </tr>\n",
       "    <tr>\n",
       "      <th>1</th>\n",
       "      <td>Macron's European dream more difficult without...</td>\n",
       "      <td>macron european dream difficult without strong...</td>\n",
       "      <td>1</td>\n",
       "      <td>0.047619</td>\n",
       "    </tr>\n",
       "    <tr>\n",
       "      <th>2</th>\n",
       "      <td>FLASHBACK VIDEO: JESSE JACKSON Praises Donald ...</td>\n",
       "      <td>flashback video jesse jackson praise donald tr...</td>\n",
       "      <td>0</td>\n",
       "      <td>0.314516</td>\n",
       "    </tr>\n",
       "    <tr>\n",
       "      <th>3</th>\n",
       "      <td>Markets ignore Trump presidential bid at their...</td>\n",
       "      <td>market ignore trump presidential bid peril lon...</td>\n",
       "      <td>1</td>\n",
       "      <td>0.038462</td>\n",
       "    </tr>\n",
       "    <tr>\n",
       "      <th>4</th>\n",
       "      <td>Dem insiders: Sanders failed to dent Clinton</td>\n",
       "      <td>dem insider sander failed dent clinton killing...</td>\n",
       "      <td>1</td>\n",
       "      <td>0.068182</td>\n",
       "    </tr>\n",
       "  </tbody>\n",
       "</table>\n",
       "</div>"
      ],
      "text/plain": [
       "                                               title  \\\n",
       "0  They Said What?!: Find Out What Reba McEntire,...   \n",
       "1  Macron's European dream more difficult without...   \n",
       "2  FLASHBACK VIDEO: JESSE JACKSON Praises Donald ...   \n",
       "3  Markets ignore Trump presidential bid at their...   \n",
       "4       Dem insiders: Sanders failed to dent Clinton   \n",
       "\n",
       "                                                text label  \\\n",
       "0  said find reba mcentire whoopi goldberg pope f...     0   \n",
       "1  macron european dream difficult without strong...     1   \n",
       "2  flashback video jesse jackson praise donald tr...     0   \n",
       "3  market ignore trump presidential bid peril lon...     1   \n",
       "4  dem insider sander failed dent clinton killing...     1   \n",
       "\n",
       "   title_uppercase_percentage  \n",
       "0                    0.184783  \n",
       "1                    0.047619  \n",
       "2                    0.314516  \n",
       "3                    0.038462  \n",
       "4                    0.068182  "
      ]
     },
     "execution_count": 305,
     "metadata": {},
     "output_type": "execute_result"
    }
   ],
   "source": [
    "df3[\"text\"] = df3[\"text\"].apply(list2string)\n",
    "df3.head()"
   ]
  },
  {
   "cell_type": "code",
   "execution_count": 306,
   "id": "7f53e0f2",
   "metadata": {},
   "outputs": [],
   "source": [
    "# transformer function\n",
    "def removeStopwords(df):\n",
    "    df['text'] = df['text'].apply(remove_punctuations)\n",
    "    print('Punctuation removed')\n",
    "    df['text'] = df['text'].apply(word_tokenize)\n",
    "    print('Words tokenized')\n",
    "    df['text'] = df['text'].apply(remove_stopwords)\n",
    "    print('Stopwords removed')\n",
    "    df['text'] = df['text'].apply(list2string)\n",
    "    return df"
   ]
  },
  {
   "cell_type": "markdown",
   "id": "30eff8bb",
   "metadata": {},
   "source": [
    "### Extracting english"
   ]
  },
  {
   "cell_type": "code",
   "execution_count": 185,
   "id": "94e0281f",
   "metadata": {},
   "outputs": [],
   "source": [
    "# def deleteUrl(text):\n",
    "#     return re.sub(r'(?i)\\b((?:https?://|www\\d{0,3}[.]|[a-z0-9.\\-]+[.][a-z]{2,4}/)(?:[^\\s()<>]+|\\(([^\\s()<>]+|(\\([^\\s()<>]+\\)))*\\))+(?:\\(([^\\s()<>]+|(\\([^\\s()<>]+\\)))*\\)|[^\\s`!()\\[\\]{};:\\'\".,<>?«»“”‘’]))', '', text)"
   ]
  },
  {
   "cell_type": "markdown",
   "id": "9ed406b3",
   "metadata": {},
   "source": [
    "/A/ Według mnie szkoda tracić informację o ilości linków w tekście - może się okazać wartościowa\n",
    "Na potrzeby poniższej analizy mówiącej które z tekstów były samymi linkami można by utworzyć po prostu\n",
    "nową kolumnę gdzie znajdowałby się tekst bez linków"
   ]
  },
  {
   "cell_type": "code",
   "execution_count": 309,
   "id": "9410cad7",
   "metadata": {},
   "outputs": [],
   "source": [
    "# /A/ przykładowy kod służący do policzenia wystąpień linków\n",
    "\n",
    "# /A/ potrzebujemy stokenizowanego tekstu\n",
    "df3['tokenized_text'] = df3['text'].apply(word_tokenize)\n",
    "\n",
    "def count_urls(df):\n",
    "    df['url_amount'] = df['tokenized_text'].apply(\n",
    "        lambda row: len([word for word in row if 'http' in word or 'https' in word])\n",
    "    )"
   ]
  },
  {
   "cell_type": "code",
   "execution_count": 311,
   "id": "5774df08",
   "metadata": {},
   "outputs": [
    {
     "data": {
      "text/html": [
       "<div>\n",
       "<style scoped>\n",
       "    .dataframe tbody tr th:only-of-type {\n",
       "        vertical-align: middle;\n",
       "    }\n",
       "\n",
       "    .dataframe tbody tr th {\n",
       "        vertical-align: top;\n",
       "    }\n",
       "\n",
       "    .dataframe thead th {\n",
       "        text-align: right;\n",
       "    }\n",
       "</style>\n",
       "<table border=\"1\" class=\"dataframe\">\n",
       "  <thead>\n",
       "    <tr style=\"text-align: right;\">\n",
       "      <th></th>\n",
       "      <th>title</th>\n",
       "      <th>text</th>\n",
       "      <th>label</th>\n",
       "      <th>title_uppercase_percentage</th>\n",
       "      <th>tokenized_text</th>\n",
       "      <th>url_amount</th>\n",
       "    </tr>\n",
       "  </thead>\n",
       "  <tbody>\n",
       "    <tr>\n",
       "      <th>0</th>\n",
       "      <td>They Said What?!: Find Out What Reba McEntire,...</td>\n",
       "      <td>said find reba mcentire whoopi goldberg pope f...</td>\n",
       "      <td>0</td>\n",
       "      <td>0.184783</td>\n",
       "      <td>[said, find, reba, mcentire, whoopi, goldberg,...</td>\n",
       "      <td>0</td>\n",
       "    </tr>\n",
       "    <tr>\n",
       "      <th>1</th>\n",
       "      <td>Macron's European dream more difficult without...</td>\n",
       "      <td>macron european dream difficult without strong...</td>\n",
       "      <td>1</td>\n",
       "      <td>0.047619</td>\n",
       "      <td>[macron, european, dream, difficult, without, ...</td>\n",
       "      <td>0</td>\n",
       "    </tr>\n",
       "    <tr>\n",
       "      <th>2</th>\n",
       "      <td>FLASHBACK VIDEO: JESSE JACKSON Praises Donald ...</td>\n",
       "      <td>flashback video jesse jackson praise donald tr...</td>\n",
       "      <td>0</td>\n",
       "      <td>0.314516</td>\n",
       "      <td>[flashback, video, jesse, jackson, praise, don...</td>\n",
       "      <td>1</td>\n",
       "    </tr>\n",
       "    <tr>\n",
       "      <th>3</th>\n",
       "      <td>Markets ignore Trump presidential bid at their...</td>\n",
       "      <td>market ignore trump presidential bid peril lon...</td>\n",
       "      <td>1</td>\n",
       "      <td>0.038462</td>\n",
       "      <td>[market, ignore, trump, presidential, bid, per...</td>\n",
       "      <td>0</td>\n",
       "    </tr>\n",
       "    <tr>\n",
       "      <th>4</th>\n",
       "      <td>Dem insiders: Sanders failed to dent Clinton</td>\n",
       "      <td>dem insider sander failed dent clinton killing...</td>\n",
       "      <td>1</td>\n",
       "      <td>0.068182</td>\n",
       "      <td>[dem, insider, sander, failed, dent, clinton, ...</td>\n",
       "      <td>0</td>\n",
       "    </tr>\n",
       "  </tbody>\n",
       "</table>\n",
       "</div>"
      ],
      "text/plain": [
       "                                               title  \\\n",
       "0  They Said What?!: Find Out What Reba McEntire,...   \n",
       "1  Macron's European dream more difficult without...   \n",
       "2  FLASHBACK VIDEO: JESSE JACKSON Praises Donald ...   \n",
       "3  Markets ignore Trump presidential bid at their...   \n",
       "4       Dem insiders: Sanders failed to dent Clinton   \n",
       "\n",
       "                                                text label  \\\n",
       "0  said find reba mcentire whoopi goldberg pope f...     0   \n",
       "1  macron european dream difficult without strong...     1   \n",
       "2  flashback video jesse jackson praise donald tr...     0   \n",
       "3  market ignore trump presidential bid peril lon...     1   \n",
       "4  dem insider sander failed dent clinton killing...     1   \n",
       "\n",
       "   title_uppercase_percentage  \\\n",
       "0                    0.184783   \n",
       "1                    0.047619   \n",
       "2                    0.314516   \n",
       "3                    0.038462   \n",
       "4                    0.068182   \n",
       "\n",
       "                                      tokenized_text  url_amount  \n",
       "0  [said, find, reba, mcentire, whoopi, goldberg,...           0  \n",
       "1  [macron, european, dream, difficult, without, ...           0  \n",
       "2  [flashback, video, jesse, jackson, praise, don...           1  \n",
       "3  [market, ignore, trump, presidential, bid, per...           0  \n",
       "4  [dem, insider, sander, failed, dent, clinton, ...           0  "
      ]
     },
     "execution_count": 311,
     "metadata": {},
     "output_type": "execute_result"
    }
   ],
   "source": [
    "# /A/\n",
    "count_urls(df3)\n",
    "df3.head(5)"
   ]
  },
  {
   "cell_type": "code",
   "execution_count": 186,
   "id": "2689436f",
   "metadata": {},
   "outputs": [],
   "source": [
    "# usuwamy linki\n",
    "df3['text'] = df3['text'].apply(deleteUrl)"
   ]
  },
  {
   "cell_type": "code",
   "execution_count": 187,
   "id": "e45bde6f",
   "metadata": {},
   "outputs": [],
   "source": [
    "# tworzymy krótszą kolumnę do analizy języka\n",
    "def shortenText(text):\n",
    "    return text[:60]"
   ]
  },
  {
   "cell_type": "code",
   "execution_count": 188,
   "id": "baa309c3",
   "metadata": {},
   "outputs": [],
   "source": [
    "df3['shorttext'] = df3['text'].apply(shortenText)"
   ]
  },
  {
   "cell_type": "code",
   "execution_count": 189,
   "id": "6827e616",
   "metadata": {},
   "outputs": [
    {
     "data": {
      "text/plain": [
       "'french foreign minister say accepting refugee duty paris reu'"
      ]
     },
     "execution_count": 189,
     "metadata": {},
     "output_type": "execute_result"
    }
   ],
   "source": [
    "df3['shorttext'][1]"
   ]
  },
  {
   "cell_type": "code",
   "execution_count": 190,
   "id": "8f0ce9a3",
   "metadata": {},
   "outputs": [
    {
     "data": {
      "text/html": [
       "<div>\n",
       "<style scoped>\n",
       "    .dataframe tbody tr th:only-of-type {\n",
       "        vertical-align: middle;\n",
       "    }\n",
       "\n",
       "    .dataframe tbody tr th {\n",
       "        vertical-align: top;\n",
       "    }\n",
       "\n",
       "    .dataframe thead th {\n",
       "        text-align: right;\n",
       "    }\n",
       "</style>\n",
       "<table border=\"1\" class=\"dataframe\">\n",
       "  <thead>\n",
       "    <tr style=\"text-align: right;\">\n",
       "      <th></th>\n",
       "      <th>text</th>\n",
       "      <th>label</th>\n",
       "      <th>textlength</th>\n",
       "      <th>shorttext</th>\n",
       "    </tr>\n",
       "  </thead>\n",
       "  <tbody>\n",
       "    <tr>\n",
       "      <th>1679</th>\n",
       "      <td></td>\n",
       "      <td>0</td>\n",
       "      <td>2829</td>\n",
       "      <td></td>\n",
       "    </tr>\n",
       "    <tr>\n",
       "      <th>2440</th>\n",
       "      <td></td>\n",
       "      <td>0</td>\n",
       "      <td>1318</td>\n",
       "      <td></td>\n",
       "    </tr>\n",
       "    <tr>\n",
       "      <th>2843</th>\n",
       "      <td></td>\n",
       "      <td>0</td>\n",
       "      <td>1702</td>\n",
       "      <td></td>\n",
       "    </tr>\n",
       "    <tr>\n",
       "      <th>4271</th>\n",
       "      <td></td>\n",
       "      <td>0</td>\n",
       "      <td>1544</td>\n",
       "      <td></td>\n",
       "    </tr>\n",
       "    <tr>\n",
       "      <th>4454</th>\n",
       "      <td>pravdaru</td>\n",
       "      <td>0</td>\n",
       "      <td>2780</td>\n",
       "      <td>pravdaru</td>\n",
       "    </tr>\n",
       "    <tr>\n",
       "      <th>5735</th>\n",
       "      <td>rt</td>\n",
       "      <td>0</td>\n",
       "      <td>1158</td>\n",
       "      <td>rt</td>\n",
       "    </tr>\n",
       "    <tr>\n",
       "      <th>6282</th>\n",
       "      <td>wallmart</td>\n",
       "      <td>0</td>\n",
       "      <td>1834</td>\n",
       "      <td>wallmart</td>\n",
       "    </tr>\n",
       "    <tr>\n",
       "      <th>6587</th>\n",
       "      <td></td>\n",
       "      <td>0</td>\n",
       "      <td>6525</td>\n",
       "      <td></td>\n",
       "    </tr>\n",
       "    <tr>\n",
       "      <th>6977</th>\n",
       "      <td></td>\n",
       "      <td>0</td>\n",
       "      <td>1814</td>\n",
       "      <td></td>\n",
       "    </tr>\n",
       "    <tr>\n",
       "      <th>7582</th>\n",
       "      <td></td>\n",
       "      <td>0</td>\n",
       "      <td>2548</td>\n",
       "      <td></td>\n",
       "    </tr>\n",
       "    <tr>\n",
       "      <th>7680</th>\n",
       "      <td>gps</td>\n",
       "      <td>0</td>\n",
       "      <td>3047</td>\n",
       "      <td>gps</td>\n",
       "    </tr>\n",
       "    <tr>\n",
       "      <th>7746</th>\n",
       "      <td></td>\n",
       "      <td>0</td>\n",
       "      <td>1533</td>\n",
       "      <td></td>\n",
       "    </tr>\n",
       "    <tr>\n",
       "      <th>8535</th>\n",
       "      <td>pravdaru</td>\n",
       "      <td>0</td>\n",
       "      <td>2590</td>\n",
       "      <td>pravdaru</td>\n",
       "    </tr>\n",
       "    <tr>\n",
       "      <th>9726</th>\n",
       "      <td>pravda ru</td>\n",
       "      <td>0</td>\n",
       "      <td>2545</td>\n",
       "      <td>pravda ru</td>\n",
       "    </tr>\n",
       "    <tr>\n",
       "      <th>10372</th>\n",
       "      <td>onfru</td>\n",
       "      <td>0</td>\n",
       "      <td>5498</td>\n",
       "      <td>onfru</td>\n",
       "    </tr>\n",
       "    <tr>\n",
       "      <th>10727</th>\n",
       "      <td></td>\n",
       "      <td>0</td>\n",
       "      <td>6913</td>\n",
       "      <td></td>\n",
       "    </tr>\n",
       "    <tr>\n",
       "      <th>10988</th>\n",
       "      <td>pravdaru</td>\n",
       "      <td>0</td>\n",
       "      <td>2160</td>\n",
       "      <td>pravdaru</td>\n",
       "    </tr>\n",
       "    <tr>\n",
       "      <th>11491</th>\n",
       "      <td></td>\n",
       "      <td>0</td>\n",
       "      <td>10527</td>\n",
       "      <td></td>\n",
       "    </tr>\n",
       "    <tr>\n",
       "      <th>11611</th>\n",
       "      <td></td>\n",
       "      <td>0</td>\n",
       "      <td>2352</td>\n",
       "      <td></td>\n",
       "    </tr>\n",
       "    <tr>\n",
       "      <th>11632</th>\n",
       "      <td>rt</td>\n",
       "      <td>0</td>\n",
       "      <td>1243</td>\n",
       "      <td>rt</td>\n",
       "    </tr>\n",
       "    <tr>\n",
       "      <th>11646</th>\n",
       "      <td></td>\n",
       "      <td>0</td>\n",
       "      <td>4906</td>\n",
       "      <td></td>\n",
       "    </tr>\n",
       "    <tr>\n",
       "      <th>12224</th>\n",
       "      <td></td>\n",
       "      <td>0</td>\n",
       "      <td>886</td>\n",
       "      <td></td>\n",
       "    </tr>\n",
       "    <tr>\n",
       "      <th>12429</th>\n",
       "      <td></td>\n",
       "      <td>0</td>\n",
       "      <td>2598</td>\n",
       "      <td></td>\n",
       "    </tr>\n",
       "    <tr>\n",
       "      <th>13332</th>\n",
       "      <td></td>\n",
       "      <td>0</td>\n",
       "      <td>1180</td>\n",
       "      <td></td>\n",
       "    </tr>\n",
       "    <tr>\n",
       "      <th>13801</th>\n",
       "      <td></td>\n",
       "      <td>0</td>\n",
       "      <td>1137</td>\n",
       "      <td></td>\n",
       "    </tr>\n",
       "    <tr>\n",
       "      <th>13815</th>\n",
       "      <td>pravda ru</td>\n",
       "      <td>0</td>\n",
       "      <td>3876</td>\n",
       "      <td>pravda ru</td>\n",
       "    </tr>\n",
       "    <tr>\n",
       "      <th>14619</th>\n",
       "      <td></td>\n",
       "      <td>0</td>\n",
       "      <td>1368</td>\n",
       "      <td></td>\n",
       "    </tr>\n",
       "    <tr>\n",
       "      <th>15397</th>\n",
       "      <td></td>\n",
       "      <td>0</td>\n",
       "      <td>1169</td>\n",
       "      <td></td>\n",
       "    </tr>\n",
       "    <tr>\n",
       "      <th>16187</th>\n",
       "      <td></td>\n",
       "      <td>0</td>\n",
       "      <td>1310</td>\n",
       "      <td></td>\n",
       "    </tr>\n",
       "    <tr>\n",
       "      <th>18312</th>\n",
       "      <td></td>\n",
       "      <td>0</td>\n",
       "      <td>2716</td>\n",
       "      <td></td>\n",
       "    </tr>\n",
       "    <tr>\n",
       "      <th>19620</th>\n",
       "      <td></td>\n",
       "      <td>0</td>\n",
       "      <td>1045</td>\n",
       "      <td></td>\n",
       "    </tr>\n",
       "  </tbody>\n",
       "</table>\n",
       "</div>"
      ],
      "text/plain": [
       "            text label  textlength  shorttext\n",
       "1679                 0        2829           \n",
       "2440                 0        1318           \n",
       "2843                 0        1702           \n",
       "4271                 0        1544           \n",
       "4454    pravdaru     0        2780   pravdaru\n",
       "5735          rt     0        1158         rt\n",
       "6282    wallmart     0        1834   wallmart\n",
       "6587                 0        6525           \n",
       "6977                 0        1814           \n",
       "7582                 0        2548           \n",
       "7680         gps     0        3047        gps\n",
       "7746                 0        1533           \n",
       "8535    pravdaru     0        2590   pravdaru\n",
       "9726   pravda ru     0        2545  pravda ru\n",
       "10372      onfru     0        5498      onfru\n",
       "10727                0        6913           \n",
       "10988   pravdaru     0        2160   pravdaru\n",
       "11491                0       10527           \n",
       "11611                0        2352           \n",
       "11632         rt     0        1243         rt\n",
       "11646                0        4906           \n",
       "12224                0         886           \n",
       "12429                0        2598           \n",
       "13332                0        1180           \n",
       "13801                0        1137           \n",
       "13815  pravda ru     0        3876  pravda ru\n",
       "14619                0        1368           \n",
       "15397                0        1169           \n",
       "16187                0        1310           \n",
       "18312                0        2716           \n",
       "19620                0        1045           "
      ]
     },
     "execution_count": 190,
     "metadata": {},
     "output_type": "execute_result"
    }
   ],
   "source": [
    "df3[df3['shorttext'].apply(len) < 10]"
   ]
  },
  {
   "cell_type": "code",
   "execution_count": 191,
   "id": "e3d452f0",
   "metadata": {},
   "outputs": [],
   "source": [
    "# usuwamy teksty które mają mniej niż 10 znaków - były to same linki\n",
    "df3 = df3[df3['shorttext'].apply(len) > 10]"
   ]
  },
  {
   "cell_type": "markdown",
   "id": "a75a4e9d",
   "metadata": {},
   "source": [
    "/A/ Usunięcie bardzo krótkich tekstów ma sens"
   ]
  },
  {
   "cell_type": "code",
   "execution_count": 192,
   "id": "65dff531",
   "metadata": {},
   "outputs": [
    {
     "data": {
      "text/html": [
       "<div>\n",
       "<style scoped>\n",
       "    .dataframe tbody tr th:only-of-type {\n",
       "        vertical-align: middle;\n",
       "    }\n",
       "\n",
       "    .dataframe tbody tr th {\n",
       "        vertical-align: top;\n",
       "    }\n",
       "\n",
       "    .dataframe thead th {\n",
       "        text-align: right;\n",
       "    }\n",
       "</style>\n",
       "<table border=\"1\" class=\"dataframe\">\n",
       "  <thead>\n",
       "    <tr style=\"text-align: right;\">\n",
       "      <th></th>\n",
       "      <th>text</th>\n",
       "      <th>label</th>\n",
       "      <th>textlength</th>\n",
       "      <th>shorttext</th>\n",
       "    </tr>\n",
       "  </thead>\n",
       "  <tbody>\n",
       "    <tr>\n",
       "      <th>0</th>\n",
       "      <td>johnson sirleaf exit liberian thankful peace e...</td>\n",
       "      <td>1</td>\n",
       "      <td>4804</td>\n",
       "      <td>johnson sirleaf exit liberian thankful peace e...</td>\n",
       "    </tr>\n",
       "    <tr>\n",
       "      <th>1</th>\n",
       "      <td>french foreign minister say accepting refugee ...</td>\n",
       "      <td>1</td>\n",
       "      <td>1425</td>\n",
       "      <td>french foreign minister say accepting refugee ...</td>\n",
       "    </tr>\n",
       "    <tr>\n",
       "      <th>2</th>\n",
       "      <td>caved late july day past summer roar filled sk...</td>\n",
       "      <td>1</td>\n",
       "      <td>6858</td>\n",
       "      <td>caved late july day past summer roar filled sk...</td>\n",
       "    </tr>\n",
       "    <tr>\n",
       "      <th>3</th>\n",
       "      <td>obama sign executive order declaring investiga...</td>\n",
       "      <td>0</td>\n",
       "      <td>5422</td>\n",
       "      <td>obama sign executive order declaring investiga...</td>\n",
       "    </tr>\n",
       "    <tr>\n",
       "      <th>4</th>\n",
       "      <td>florida shooting trump hardens stance muslim m...</td>\n",
       "      <td>1</td>\n",
       "      <td>4990</td>\n",
       "      <td>florida shooting trump hardens stance muslim m...</td>\n",
       "    </tr>\n",
       "  </tbody>\n",
       "</table>\n",
       "</div>"
      ],
      "text/plain": [
       "                                                text label  textlength  \\\n",
       "0  johnson sirleaf exit liberian thankful peace e...     1        4804   \n",
       "1  french foreign minister say accepting refugee ...     1        1425   \n",
       "2  caved late july day past summer roar filled sk...     1        6858   \n",
       "3  obama sign executive order declaring investiga...     0        5422   \n",
       "4  florida shooting trump hardens stance muslim m...     1        4990   \n",
       "\n",
       "                                           shorttext  \n",
       "0  johnson sirleaf exit liberian thankful peace e...  \n",
       "1  french foreign minister say accepting refugee ...  \n",
       "2  caved late july day past summer roar filled sk...  \n",
       "3  obama sign executive order declaring investiga...  \n",
       "4  florida shooting trump hardens stance muslim m...  "
      ]
     },
     "execution_count": 192,
     "metadata": {},
     "output_type": "execute_result"
    }
   ],
   "source": [
    "df3.head()"
   ]
  },
  {
   "cell_type": "code",
   "execution_count": 193,
   "id": "7047614e",
   "metadata": {},
   "outputs": [],
   "source": [
    "df4 = df3.copy()"
   ]
  },
  {
   "cell_type": "code",
   "execution_count": 194,
   "id": "a7dd02bb",
   "metadata": {},
   "outputs": [],
   "source": [
    "DetectorFactory.seed = 0\n",
    "df4['lang'] = df4['shorttext'].apply(detect)"
   ]
  },
  {
   "cell_type": "code",
   "execution_count": 195,
   "id": "549f4932",
   "metadata": {},
   "outputs": [
    {
     "data": {
      "text/plain": [
       "0.1322435395458105"
      ]
     },
     "execution_count": 195,
     "metadata": {},
     "output_type": "execute_result"
    }
   ],
   "source": [
    "len(df4[df4['lang']!='en'])/len(df4)"
   ]
  },
  {
   "cell_type": "markdown",
   "id": "c5590617",
   "metadata": {},
   "source": [
    "/A/ dobrze zweryfikować jaki procent naszych danych zostanie usunięta"
   ]
  },
  {
   "cell_type": "code",
   "execution_count": 196,
   "id": "07db5ba7",
   "metadata": {},
   "outputs": [],
   "source": [
    "# robimy model który będzie wykrywał po angielsku\n",
    "df4 = df4[df4['lang']=='en']"
   ]
  },
  {
   "cell_type": "code",
   "execution_count": 197,
   "id": "2119bc0c",
   "metadata": {},
   "outputs": [
    {
     "data": {
      "text/html": [
       "<div>\n",
       "<style scoped>\n",
       "    .dataframe tbody tr th:only-of-type {\n",
       "        vertical-align: middle;\n",
       "    }\n",
       "\n",
       "    .dataframe tbody tr th {\n",
       "        vertical-align: top;\n",
       "    }\n",
       "\n",
       "    .dataframe thead th {\n",
       "        text-align: right;\n",
       "    }\n",
       "</style>\n",
       "<table border=\"1\" class=\"dataframe\">\n",
       "  <thead>\n",
       "    <tr style=\"text-align: right;\">\n",
       "      <th></th>\n",
       "      <th>text</th>\n",
       "      <th>label</th>\n",
       "    </tr>\n",
       "  </thead>\n",
       "  <tbody>\n",
       "    <tr>\n",
       "      <th>0</th>\n",
       "      <td>johnson sirleaf exit liberian thankful peace e...</td>\n",
       "      <td>1</td>\n",
       "    </tr>\n",
       "    <tr>\n",
       "      <th>1</th>\n",
       "      <td>french foreign minister say accepting refugee ...</td>\n",
       "      <td>1</td>\n",
       "    </tr>\n",
       "    <tr>\n",
       "      <th>2</th>\n",
       "      <td>caved late july day past summer roar filled sk...</td>\n",
       "      <td>1</td>\n",
       "    </tr>\n",
       "    <tr>\n",
       "      <th>3</th>\n",
       "      <td>obama sign executive order declaring investiga...</td>\n",
       "      <td>0</td>\n",
       "    </tr>\n",
       "    <tr>\n",
       "      <th>4</th>\n",
       "      <td>florida shooting trump hardens stance muslim m...</td>\n",
       "      <td>1</td>\n",
       "    </tr>\n",
       "    <tr>\n",
       "      <th>...</th>\n",
       "      <td>...</td>\n",
       "      <td>...</td>\n",
       "    </tr>\n",
       "    <tr>\n",
       "      <th>17725</th>\n",
       "      <td>polish president back judicial reform spat war...</td>\n",
       "      <td>1</td>\n",
       "    </tr>\n",
       "    <tr>\n",
       "      <th>17726</th>\n",
       "      <td>ucla player hold press conferencefinally thank...</td>\n",
       "      <td>0</td>\n",
       "    </tr>\n",
       "    <tr>\n",
       "      <th>17727</th>\n",
       "      <td>trump son clarifies gas chamber comment critic...</td>\n",
       "      <td>1</td>\n",
       "    </tr>\n",
       "    <tr>\n",
       "      <th>17728</th>\n",
       "      <td>world leader congratulate trump putin anxious ...</td>\n",
       "      <td>0</td>\n",
       "    </tr>\n",
       "    <tr>\n",
       "      <th>17729</th>\n",
       "      <td>comrade trump push conspiracy theory russian p...</td>\n",
       "      <td>0</td>\n",
       "    </tr>\n",
       "  </tbody>\n",
       "</table>\n",
       "<p>17730 rows × 2 columns</p>\n",
       "</div>"
      ],
      "text/plain": [
       "                                                    text label\n",
       "0      johnson sirleaf exit liberian thankful peace e...     1\n",
       "1      french foreign minister say accepting refugee ...     1\n",
       "2      caved late july day past summer roar filled sk...     1\n",
       "3      obama sign executive order declaring investiga...     0\n",
       "4      florida shooting trump hardens stance muslim m...     1\n",
       "...                                                  ...   ...\n",
       "17725  polish president back judicial reform spat war...     1\n",
       "17726  ucla player hold press conferencefinally thank...     0\n",
       "17727  trump son clarifies gas chamber comment critic...     1\n",
       "17728  world leader congratulate trump putin anxious ...     0\n",
       "17729  comrade trump push conspiracy theory russian p...     0\n",
       "\n",
       "[17730 rows x 2 columns]"
      ]
     },
     "execution_count": 197,
     "metadata": {},
     "output_type": "execute_result"
    }
   ],
   "source": [
    "df4 = df4[['text', 'label']].reset_index(drop=True)\n",
    "df4"
   ]
  },
  {
   "cell_type": "code",
   "execution_count": 198,
   "id": "5c7713a9",
   "metadata": {},
   "outputs": [],
   "source": [
    "#transformer function\n",
    "def dropLanguages(df):\n",
    "    DetectorFactory.seed = 0\n",
    "    df['text'] = df['text'].apply(deleteUrl)\n",
    "    df['shorttext'] = df['text'].apply(shortenText)\n",
    "    df = df[df['shorttext'].apply(len) > 10]\n",
    "    print('Text cleaned')\n",
    "    df['lang'] = df['shorttext'].apply(detect)\n",
    "    df = df[df['lang']=='en']\n",
    "    df = df.drop(columns=['shorttext', 'lang'])\n",
    "    print('Languages dropped')\n",
    "    return df"
   ]
  },
  {
   "cell_type": "code",
   "execution_count": 199,
   "id": "3fbdb0e8",
   "metadata": {},
   "outputs": [],
   "source": [
    "# żeby zapisać dane\n",
    "df4.to_csv('train_data.csv', index=False)"
   ]
  },
  {
   "cell_type": "markdown",
   "id": "9c587f2f",
   "metadata": {},
   "source": [
    "### Word Cloud"
   ]
  },
  {
   "cell_type": "code",
   "execution_count": 200,
   "id": "60e13b91",
   "metadata": {},
   "outputs": [],
   "source": [
    "df_fake = df4[df4[\"label\"] == 0]\n",
    "df_true = df4[df4[\"label\"] == 1]"
   ]
  },
  {
   "cell_type": "code",
   "execution_count": 201,
   "id": "720a69ee",
   "metadata": {},
   "outputs": [
    {
     "data": {
      "image/png": "[encoded data removed]",
      "text/plain": [
       "<Figure size 640x480 with 1 Axes>"
      ]
     },
     "metadata": {},
     "output_type": "display_data"
    }
   ],
   "source": [
    "# Fałszywe\n",
    "consolidated_f = ' '.join(\n",
    "    word for word in df_fake['text'].astype(str))\n",
    "wordcloud = WordCloud().generate(consolidated_f)\n",
    "plt.imshow(wordcloud, interpolation='bilinear')\n",
    "plt.axis(\"off\")\n",
    "plt.show()"
   ]
  },
  {
   "cell_type": "code",
   "execution_count": 202,
   "id": "b172e4c0",
   "metadata": {
    "scrolled": true
   },
   "outputs": [
    {
     "data": {
      "image/png": "[encoded data removed]",
      "text/plain": [
       "<Figure size 640x480 with 1 Axes>"
      ]
     },
     "metadata": {},
     "output_type": "display_data"
    }
   ],
   "source": [
    "# Prawdziwe\n",
    "consolidated_t = ' '.join(\n",
    "    word for word in df_true['text'].astype(str))\n",
    "wordcloud = WordCloud().generate(consolidated_t)\n",
    "plt.imshow(wordcloud, interpolation='bilinear')\n",
    "plt.axis(\"off\")\n",
    "plt.show()"
   ]
  },
  {
   "cell_type": "markdown",
   "id": "bf39f96c",
   "metadata": {},
   "source": [
    "/A/ ogólnie sama idea zweryfikowania jakie słowa pojawiają się w fake newsach i prawdziwych informacjach\n",
    "jest według mnie bardzo trafna i można w ten sposób wyciągnąć użyteczne dane.\n",
    "\n",
    "Jedyne co bym zmienił to sposób analizy tych danych - word cloud jest dosyć chaotyczny.\n",
    "Zamiast tego może lepiej by było zrobić np listy top 100 w obydwu kategoriach i zweryfikować jak bardzo\n",
    "pokrywają. "
   ]
  },
  {
   "cell_type": "code",
   "execution_count": 203,
   "id": "7f08f86e",
   "metadata": {},
   "outputs": [],
   "source": [
    "# Bag of words - liczba wystąpień każdego słowa w danym tekście\n",
    "count_vect = CountVectorizer()\n",
    "X_train_counts = count_vect.fit_transform(df4['text'])"
   ]
  },
  {
   "cell_type": "code",
   "execution_count": 204,
   "id": "3c473280",
   "metadata": {},
   "outputs": [],
   "source": [
    "#Transformer function\n",
    "def myCountVectorizer(df):\n",
    "    count_vect = CountVectorizer()\n",
    "    X_train_counts = count_vect.fit_transform(df['text'])"
   ]
  },
  {
   "cell_type": "code",
   "execution_count": 205,
   "id": "7aaac33d",
   "metadata": {},
   "outputs": [],
   "source": [
    "# Zamiana częstości w częstotliwość wystąpień\n",
    "tfidf_transformer = TfidfTransformer()\n",
    "X_train_tfidf = tfidf_transformer.fit_transform(X_train_counts)"
   ]
  },
  {
   "cell_type": "code",
   "execution_count": 59,
   "id": "9841ed3f",
   "metadata": {},
   "outputs": [
    {
     "data": {
      "text/plain": [
       "(29118, 178407)"
      ]
     },
     "execution_count": 59,
     "metadata": {},
     "output_type": "execute_result"
    }
   ],
   "source": [
    "X_train_tfidf.shape"
   ]
  },
  {
   "cell_type": "markdown",
   "id": "4696ddf8",
   "metadata": {},
   "source": [
    "## Pipeline"
   ]
  },
  {
   "cell_type": "code",
   "execution_count": 206,
   "id": "00e2560f",
   "metadata": {},
   "outputs": [],
   "source": [
    "from sklearn.preprocessing import FunctionTransformer\n",
    "from sklearn.pipeline import Pipeline\n",
    "\n",
    "na_transformer = FunctionTransformer(handleNa)\n",
    "column_transformer = FunctionTransformer(combineColumns)\n",
    "outliers_transformer = FunctionTransformer(removeOutliers)\n",
    "stopwords_transformer = FunctionTransformer(removeStopwords)\n",
    "language_transformer = FunctionTransformer(dropLanguages)\n",
    "\n",
    "custom_pipe = Pipeline([\n",
    "    (\"na\", na_transformer),\n",
    "    ('columns', column_transformer),\n",
    "    ('outliers', outliers_transformer),\n",
    "    (\"stopwords\", stopwords_transformer),\n",
    "    (\"language\", language_transformer),\n",
    "])\n",
    "\n",
    "model_pipe = Pipeline([\n",
    "    ('vectorizer', CountVectorizer()),\n",
    "    ('tfidf', TfidfTransformer()),\n",
    "])"
   ]
  },
  {
   "cell_type": "code",
   "execution_count": 110,
   "id": "6e904402",
   "metadata": {},
   "outputs": [],
   "source": [
    "train = pd.read_csv('training_data.csv', index_col=False)"
   ]
  },
  {
   "cell_type": "code",
   "execution_count": 207,
   "id": "b4280492",
   "metadata": {
    "scrolled": false
   },
   "outputs": [
    {
     "data": {
      "text/html": [
       "<div>\n",
       "<style scoped>\n",
       "    .dataframe tbody tr th:only-of-type {\n",
       "        vertical-align: middle;\n",
       "    }\n",
       "\n",
       "    .dataframe tbody tr th {\n",
       "        vertical-align: top;\n",
       "    }\n",
       "\n",
       "    .dataframe thead th {\n",
       "        text-align: right;\n",
       "    }\n",
       "</style>\n",
       "<table border=\"1\" class=\"dataframe\">\n",
       "  <thead>\n",
       "    <tr style=\"text-align: right;\">\n",
       "      <th></th>\n",
       "      <th>title</th>\n",
       "      <th>text</th>\n",
       "      <th>label</th>\n",
       "    </tr>\n",
       "  </thead>\n",
       "  <tbody>\n",
       "    <tr>\n",
       "      <th>0</th>\n",
       "      <td>In the Western World Respect for Law No Longer...</td>\n",
       "      <td>In the Western World Respect for Law No Longer...</td>\n",
       "      <td>fake</td>\n",
       "    </tr>\n",
       "    <tr>\n",
       "      <th>1</th>\n",
       "      <td>WATCH: President Obama Unleashes On Trump, Sa...</td>\n",
       "      <td>During an interview on CBS s Face the Nation S...</td>\n",
       "      <td>fake</td>\n",
       "    </tr>\n",
       "    <tr>\n",
       "      <th>2</th>\n",
       "      <td>THE GUY WHO Punched “Moldylocks” Speaks Out Ab...</td>\n",
       "      <td>Nathan Domingo is the founder of  Identity Eur...</td>\n",
       "      <td>fake</td>\n",
       "    </tr>\n",
       "    <tr>\n",
       "      <th>3</th>\n",
       "      <td>SAY WHAT? AMAZON TELLS CUSTOMER THEY WERE FORC...</td>\n",
       "      <td>When it comes to limiting our free speech, not...</td>\n",
       "      <td>fake</td>\n",
       "    </tr>\n",
       "    <tr>\n",
       "      <th>4</th>\n",
       "      <td>ANTI-GUN Zealot KATIE COURIC Hit With $12 MILL...</td>\n",
       "      <td>Little Miss Sunshine  has fooled a lot of peo...</td>\n",
       "      <td>fake</td>\n",
       "    </tr>\n",
       "    <tr>\n",
       "      <th>...</th>\n",
       "      <td>...</td>\n",
       "      <td>...</td>\n",
       "      <td>...</td>\n",
       "    </tr>\n",
       "    <tr>\n",
       "      <th>33826</th>\n",
       "      <td>STATE’S ATTORNEY LIED: BALTIMORE POLICE HAD PR...</td>\n",
       "      <td>Marilyn Mosby held a press conference today in...</td>\n",
       "      <td>fake</td>\n",
       "    </tr>\n",
       "    <tr>\n",
       "      <th>33827</th>\n",
       "      <td>Russia denies its planes killed civilians in S...</td>\n",
       "      <td>MOSCOW (Reuters) - Russia s Defence Ministry d...</td>\n",
       "      <td>true</td>\n",
       "    </tr>\n",
       "    <tr>\n",
       "      <th>33828</th>\n",
       "      <td>Hungary’s “Wall” Versus the U.S. “Wall”</td>\n",
       "      <td>Op-Ed by Catherine J. Frompovich\\r\\nCurrently ...</td>\n",
       "      <td>fake</td>\n",
       "    </tr>\n",
       "    <tr>\n",
       "      <th>33829</th>\n",
       "      <td>Pastor Caught Trump’s Spiritual Advisor Steal...</td>\n",
       "      <td>It seems that Donald Trump s spiritual advisor...</td>\n",
       "      <td>fake</td>\n",
       "    </tr>\n",
       "    <tr>\n",
       "      <th>33830</th>\n",
       "      <td>BOOM! SENATOR LINDSEY GRAHAM: I Have Reason to...</td>\n",
       "      <td>Senator Lindsey Graham:  I have reason to beli...</td>\n",
       "      <td>fake</td>\n",
       "    </tr>\n",
       "  </tbody>\n",
       "</table>\n",
       "<p>33831 rows × 3 columns</p>\n",
       "</div>"
      ],
      "text/plain": [
       "                                                   title  \\\n",
       "0      In the Western World Respect for Law No Longer...   \n",
       "1       WATCH: President Obama Unleashes On Trump, Sa...   \n",
       "2      THE GUY WHO Punched “Moldylocks” Speaks Out Ab...   \n",
       "3      SAY WHAT? AMAZON TELLS CUSTOMER THEY WERE FORC...   \n",
       "4      ANTI-GUN Zealot KATIE COURIC Hit With $12 MILL...   \n",
       "...                                                  ...   \n",
       "33826  STATE’S ATTORNEY LIED: BALTIMORE POLICE HAD PR...   \n",
       "33827  Russia denies its planes killed civilians in S...   \n",
       "33828            Hungary’s “Wall” Versus the U.S. “Wall”   \n",
       "33829   Pastor Caught Trump’s Spiritual Advisor Steal...   \n",
       "33830  BOOM! SENATOR LINDSEY GRAHAM: I Have Reason to...   \n",
       "\n",
       "                                                    text label  \n",
       "0      In the Western World Respect for Law No Longer...  fake  \n",
       "1      During an interview on CBS s Face the Nation S...  fake  \n",
       "2      Nathan Domingo is the founder of  Identity Eur...  fake  \n",
       "3      When it comes to limiting our free speech, not...  fake  \n",
       "4       Little Miss Sunshine  has fooled a lot of peo...  fake  \n",
       "...                                                  ...   ...  \n",
       "33826  Marilyn Mosby held a press conference today in...  fake  \n",
       "33827  MOSCOW (Reuters) - Russia s Defence Ministry d...  true  \n",
       "33828  Op-Ed by Catherine J. Frompovich\\r\\nCurrently ...  fake  \n",
       "33829  It seems that Donald Trump s spiritual advisor...  fake  \n",
       "33830  Senator Lindsey Graham:  I have reason to beli...  fake  \n",
       "\n",
       "[33831 rows x 3 columns]"
      ]
     },
     "execution_count": 207,
     "metadata": {},
     "output_type": "execute_result"
    }
   ],
   "source": [
    "train"
   ]
  },
  {
   "cell_type": "code",
   "execution_count": 208,
   "id": "595f6cac",
   "metadata": {},
   "outputs": [],
   "source": [
    "train = encodeLabels(train)"
   ]
  },
  {
   "cell_type": "code",
   "execution_count": 209,
   "id": "8561f4b8",
   "metadata": {},
   "outputs": [
    {
     "name": "stdout",
     "output_type": "stream",
     "text": [
      "NaNs deleted\n",
      "Columns combined\n",
      "Outliers removed\n",
      "Punctuation removed\n",
      "Words tokenized\n",
      "Stopwords removed\n",
      "Text cleaned\n"
     ]
    },
    {
     "ename": "KeyboardInterrupt",
     "evalue": "",
     "output_type": "error",
     "traceback": [
      "\u001b[1;31m---------------------------------------------------------------------------\u001b[0m",
      "\u001b[1;31mKeyboardInterrupt\u001b[0m                         Traceback (most recent call last)",
      "Cell \u001b[1;32mIn[209], line 1\u001b[0m\n\u001b[1;32m----> 1\u001b[0m train_transformed \u001b[38;5;241m=\u001b[39m \u001b[43mcustom_pipe\u001b[49m\u001b[38;5;241;43m.\u001b[39;49m\u001b[43mtransform\u001b[49m\u001b[43m(\u001b[49m\u001b[43mtrain\u001b[49m\u001b[43m)\u001b[49m\n",
      "File \u001b[1;32m~\\AppData\\Roaming\\Python\\Python310\\site-packages\\sklearn\\pipeline.py:658\u001b[0m, in \u001b[0;36mPipeline.transform\u001b[1;34m(self, X)\u001b[0m\n\u001b[0;32m    656\u001b[0m Xt \u001b[38;5;241m=\u001b[39m X\n\u001b[0;32m    657\u001b[0m \u001b[38;5;28;01mfor\u001b[39;00m _, _, transform \u001b[38;5;129;01min\u001b[39;00m \u001b[38;5;28mself\u001b[39m\u001b[38;5;241m.\u001b[39m_iter():\n\u001b[1;32m--> 658\u001b[0m     Xt \u001b[38;5;241m=\u001b[39m \u001b[43mtransform\u001b[49m\u001b[38;5;241;43m.\u001b[39;49m\u001b[43mtransform\u001b[49m\u001b[43m(\u001b[49m\u001b[43mXt\u001b[49m\u001b[43m)\u001b[49m\n\u001b[0;32m    659\u001b[0m \u001b[38;5;28;01mreturn\u001b[39;00m Xt\n",
      "File \u001b[1;32m~\\AppData\\Roaming\\Python\\Python310\\site-packages\\sklearn\\utils\\_set_output.py:142\u001b[0m, in \u001b[0;36m_wrap_method_output.<locals>.wrapped\u001b[1;34m(self, X, *args, **kwargs)\u001b[0m\n\u001b[0;32m    140\u001b[0m \u001b[38;5;129m@wraps\u001b[39m(f)\n\u001b[0;32m    141\u001b[0m \u001b[38;5;28;01mdef\u001b[39;00m \u001b[38;5;21mwrapped\u001b[39m(\u001b[38;5;28mself\u001b[39m, X, \u001b[38;5;241m*\u001b[39margs, \u001b[38;5;241m*\u001b[39m\u001b[38;5;241m*\u001b[39mkwargs):\n\u001b[1;32m--> 142\u001b[0m     data_to_wrap \u001b[38;5;241m=\u001b[39m f(\u001b[38;5;28mself\u001b[39m, X, \u001b[38;5;241m*\u001b[39margs, \u001b[38;5;241m*\u001b[39m\u001b[38;5;241m*\u001b[39mkwargs)\n\u001b[0;32m    143\u001b[0m     \u001b[38;5;28;01mif\u001b[39;00m \u001b[38;5;28misinstance\u001b[39m(data_to_wrap, \u001b[38;5;28mtuple\u001b[39m):\n\u001b[0;32m    144\u001b[0m         \u001b[38;5;66;03m# only wrap the first output for cross decomposition\u001b[39;00m\n\u001b[0;32m    145\u001b[0m         \u001b[38;5;28;01mreturn\u001b[39;00m (\n\u001b[0;32m    146\u001b[0m             _wrap_data_with_container(method, data_to_wrap[\u001b[38;5;241m0\u001b[39m], X, \u001b[38;5;28mself\u001b[39m),\n\u001b[0;32m    147\u001b[0m             \u001b[38;5;241m*\u001b[39mdata_to_wrap[\u001b[38;5;241m1\u001b[39m:],\n\u001b[0;32m    148\u001b[0m         )\n",
      "File \u001b[1;32m~\\AppData\\Roaming\\Python\\Python310\\site-packages\\sklearn\\preprocessing\\_function_transformer.py:236\u001b[0m, in \u001b[0;36mFunctionTransformer.transform\u001b[1;34m(self, X)\u001b[0m\n\u001b[0;32m    223\u001b[0m \u001b[38;5;124;03m\"\"\"Transform X using the forward function.\u001b[39;00m\n\u001b[0;32m    224\u001b[0m \n\u001b[0;32m    225\u001b[0m \u001b[38;5;124;03mParameters\u001b[39;00m\n\u001b[1;32m   (...)\u001b[0m\n\u001b[0;32m    233\u001b[0m \u001b[38;5;124;03m    Transformed input.\u001b[39;00m\n\u001b[0;32m    234\u001b[0m \u001b[38;5;124;03m\"\"\"\u001b[39;00m\n\u001b[0;32m    235\u001b[0m X \u001b[38;5;241m=\u001b[39m \u001b[38;5;28mself\u001b[39m\u001b[38;5;241m.\u001b[39m_check_input(X, reset\u001b[38;5;241m=\u001b[39m\u001b[38;5;28;01mFalse\u001b[39;00m)\n\u001b[1;32m--> 236\u001b[0m \u001b[38;5;28;01mreturn\u001b[39;00m \u001b[38;5;28;43mself\u001b[39;49m\u001b[38;5;241;43m.\u001b[39;49m\u001b[43m_transform\u001b[49m\u001b[43m(\u001b[49m\u001b[43mX\u001b[49m\u001b[43m,\u001b[49m\u001b[43m \u001b[49m\u001b[43mfunc\u001b[49m\u001b[38;5;241;43m=\u001b[39;49m\u001b[38;5;28;43mself\u001b[39;49m\u001b[38;5;241;43m.\u001b[39;49m\u001b[43mfunc\u001b[49m\u001b[43m,\u001b[49m\u001b[43m \u001b[49m\u001b[43mkw_args\u001b[49m\u001b[38;5;241;43m=\u001b[39;49m\u001b[38;5;28;43mself\u001b[39;49m\u001b[38;5;241;43m.\u001b[39;49m\u001b[43mkw_args\u001b[49m\u001b[43m)\u001b[49m\n",
      "File \u001b[1;32m~\\AppData\\Roaming\\Python\\Python310\\site-packages\\sklearn\\preprocessing\\_function_transformer.py:307\u001b[0m, in \u001b[0;36mFunctionTransformer._transform\u001b[1;34m(self, X, func, kw_args)\u001b[0m\n\u001b[0;32m    304\u001b[0m \u001b[38;5;28;01mif\u001b[39;00m func \u001b[38;5;129;01mis\u001b[39;00m \u001b[38;5;28;01mNone\u001b[39;00m:\n\u001b[0;32m    305\u001b[0m     func \u001b[38;5;241m=\u001b[39m _identity\n\u001b[1;32m--> 307\u001b[0m \u001b[38;5;28;01mreturn\u001b[39;00m func(X, \u001b[38;5;241m*\u001b[39m\u001b[38;5;241m*\u001b[39m(kw_args \u001b[38;5;28;01mif\u001b[39;00m kw_args \u001b[38;5;28;01melse\u001b[39;00m {}))\n",
      "Cell \u001b[1;32mIn[198], line 8\u001b[0m, in \u001b[0;36mdropLanguages\u001b[1;34m(df)\u001b[0m\n\u001b[0;32m      6\u001b[0m df \u001b[38;5;241m=\u001b[39m df[df[\u001b[38;5;124m'\u001b[39m\u001b[38;5;124mshorttext\u001b[39m\u001b[38;5;124m'\u001b[39m]\u001b[38;5;241m.\u001b[39mapply(\u001b[38;5;28mlen\u001b[39m) \u001b[38;5;241m>\u001b[39m \u001b[38;5;241m10\u001b[39m]\n\u001b[0;32m      7\u001b[0m \u001b[38;5;28mprint\u001b[39m(\u001b[38;5;124m'\u001b[39m\u001b[38;5;124mText cleaned\u001b[39m\u001b[38;5;124m'\u001b[39m)\n\u001b[1;32m----> 8\u001b[0m df[\u001b[38;5;124m'\u001b[39m\u001b[38;5;124mlang\u001b[39m\u001b[38;5;124m'\u001b[39m] \u001b[38;5;241m=\u001b[39m \u001b[43mdf\u001b[49m\u001b[43m[\u001b[49m\u001b[38;5;124;43m'\u001b[39;49m\u001b[38;5;124;43mshorttext\u001b[39;49m\u001b[38;5;124;43m'\u001b[39;49m\u001b[43m]\u001b[49m\u001b[38;5;241;43m.\u001b[39;49m\u001b[43mapply\u001b[49m\u001b[43m(\u001b[49m\u001b[43mdetect\u001b[49m\u001b[43m)\u001b[49m\n\u001b[0;32m      9\u001b[0m df \u001b[38;5;241m=\u001b[39m df[df[\u001b[38;5;124m'\u001b[39m\u001b[38;5;124mlang\u001b[39m\u001b[38;5;124m'\u001b[39m]\u001b[38;5;241m==\u001b[39m\u001b[38;5;124m'\u001b[39m\u001b[38;5;124men\u001b[39m\u001b[38;5;124m'\u001b[39m]\n\u001b[0;32m     10\u001b[0m df \u001b[38;5;241m=\u001b[39m df\u001b[38;5;241m.\u001b[39mdrop(columns\u001b[38;5;241m=\u001b[39m[\u001b[38;5;124m'\u001b[39m\u001b[38;5;124mshorttext\u001b[39m\u001b[38;5;124m'\u001b[39m, \u001b[38;5;124m'\u001b[39m\u001b[38;5;124mlang\u001b[39m\u001b[38;5;124m'\u001b[39m])\n",
      "File \u001b[1;32m~\\AppData\\Roaming\\Python\\Python310\\site-packages\\pandas\\core\\series.py:4433\u001b[0m, in \u001b[0;36mSeries.apply\u001b[1;34m(self, func, convert_dtype, args, **kwargs)\u001b[0m\n\u001b[0;32m   4323\u001b[0m \u001b[38;5;28;01mdef\u001b[39;00m \u001b[38;5;21mapply\u001b[39m(\n\u001b[0;32m   4324\u001b[0m     \u001b[38;5;28mself\u001b[39m,\n\u001b[0;32m   4325\u001b[0m     func: AggFuncType,\n\u001b[1;32m   (...)\u001b[0m\n\u001b[0;32m   4328\u001b[0m     \u001b[38;5;241m*\u001b[39m\u001b[38;5;241m*\u001b[39mkwargs,\n\u001b[0;32m   4329\u001b[0m ) \u001b[38;5;241m-\u001b[39m\u001b[38;5;241m>\u001b[39m DataFrame \u001b[38;5;241m|\u001b[39m Series:\n\u001b[0;32m   4330\u001b[0m     \u001b[38;5;124;03m\"\"\"\u001b[39;00m\n\u001b[0;32m   4331\u001b[0m \u001b[38;5;124;03m    Invoke function on values of Series.\u001b[39;00m\n\u001b[0;32m   4332\u001b[0m \n\u001b[1;32m   (...)\u001b[0m\n\u001b[0;32m   4431\u001b[0m \u001b[38;5;124;03m    dtype: float64\u001b[39;00m\n\u001b[0;32m   4432\u001b[0m \u001b[38;5;124;03m    \"\"\"\u001b[39;00m\n\u001b[1;32m-> 4433\u001b[0m     \u001b[38;5;28;01mreturn\u001b[39;00m \u001b[43mSeriesApply\u001b[49m\u001b[43m(\u001b[49m\u001b[38;5;28;43mself\u001b[39;49m\u001b[43m,\u001b[49m\u001b[43m \u001b[49m\u001b[43mfunc\u001b[49m\u001b[43m,\u001b[49m\u001b[43m \u001b[49m\u001b[43mconvert_dtype\u001b[49m\u001b[43m,\u001b[49m\u001b[43m \u001b[49m\u001b[43margs\u001b[49m\u001b[43m,\u001b[49m\u001b[43m \u001b[49m\u001b[43mkwargs\u001b[49m\u001b[43m)\u001b[49m\u001b[38;5;241;43m.\u001b[39;49m\u001b[43mapply\u001b[49m\u001b[43m(\u001b[49m\u001b[43m)\u001b[49m\n",
      "File \u001b[1;32m~\\AppData\\Roaming\\Python\\Python310\\site-packages\\pandas\\core\\apply.py:1088\u001b[0m, in \u001b[0;36mSeriesApply.apply\u001b[1;34m(self)\u001b[0m\n\u001b[0;32m   1084\u001b[0m \u001b[38;5;28;01mif\u001b[39;00m \u001b[38;5;28misinstance\u001b[39m(\u001b[38;5;28mself\u001b[39m\u001b[38;5;241m.\u001b[39mf, \u001b[38;5;28mstr\u001b[39m):\n\u001b[0;32m   1085\u001b[0m     \u001b[38;5;66;03m# if we are a string, try to dispatch\u001b[39;00m\n\u001b[0;32m   1086\u001b[0m     \u001b[38;5;28;01mreturn\u001b[39;00m \u001b[38;5;28mself\u001b[39m\u001b[38;5;241m.\u001b[39mapply_str()\n\u001b[1;32m-> 1088\u001b[0m \u001b[38;5;28;01mreturn\u001b[39;00m \u001b[38;5;28;43mself\u001b[39;49m\u001b[38;5;241;43m.\u001b[39;49m\u001b[43mapply_standard\u001b[49m\u001b[43m(\u001b[49m\u001b[43m)\u001b[49m\n",
      "File \u001b[1;32m~\\AppData\\Roaming\\Python\\Python310\\site-packages\\pandas\\core\\apply.py:1143\u001b[0m, in \u001b[0;36mSeriesApply.apply_standard\u001b[1;34m(self)\u001b[0m\n\u001b[0;32m   1137\u001b[0m         values \u001b[38;5;241m=\u001b[39m obj\u001b[38;5;241m.\u001b[39mastype(\u001b[38;5;28mobject\u001b[39m)\u001b[38;5;241m.\u001b[39m_values\n\u001b[0;32m   1138\u001b[0m         \u001b[38;5;66;03m# error: Argument 2 to \"map_infer\" has incompatible type\u001b[39;00m\n\u001b[0;32m   1139\u001b[0m         \u001b[38;5;66;03m# \"Union[Callable[..., Any], str, List[Union[Callable[..., Any], str]],\u001b[39;00m\n\u001b[0;32m   1140\u001b[0m         \u001b[38;5;66;03m# Dict[Hashable, Union[Union[Callable[..., Any], str],\u001b[39;00m\n\u001b[0;32m   1141\u001b[0m         \u001b[38;5;66;03m# List[Union[Callable[..., Any], str]]]]]\"; expected\u001b[39;00m\n\u001b[0;32m   1142\u001b[0m         \u001b[38;5;66;03m# \"Callable[[Any], Any]\"\u001b[39;00m\n\u001b[1;32m-> 1143\u001b[0m         mapped \u001b[38;5;241m=\u001b[39m \u001b[43mlib\u001b[49m\u001b[38;5;241;43m.\u001b[39;49m\u001b[43mmap_infer\u001b[49m\u001b[43m(\u001b[49m\n\u001b[0;32m   1144\u001b[0m \u001b[43m            \u001b[49m\u001b[43mvalues\u001b[49m\u001b[43m,\u001b[49m\n\u001b[0;32m   1145\u001b[0m \u001b[43m            \u001b[49m\u001b[43mf\u001b[49m\u001b[43m,\u001b[49m\u001b[43m  \u001b[49m\u001b[38;5;66;43;03m# type: ignore[arg-type]\u001b[39;49;00m\n\u001b[0;32m   1146\u001b[0m \u001b[43m            \u001b[49m\u001b[43mconvert\u001b[49m\u001b[38;5;241;43m=\u001b[39;49m\u001b[38;5;28;43mself\u001b[39;49m\u001b[38;5;241;43m.\u001b[39;49m\u001b[43mconvert_dtype\u001b[49m\u001b[43m,\u001b[49m\n\u001b[0;32m   1147\u001b[0m \u001b[43m        \u001b[49m\u001b[43m)\u001b[49m\n\u001b[0;32m   1149\u001b[0m \u001b[38;5;28;01mif\u001b[39;00m \u001b[38;5;28mlen\u001b[39m(mapped) \u001b[38;5;129;01mand\u001b[39;00m \u001b[38;5;28misinstance\u001b[39m(mapped[\u001b[38;5;241m0\u001b[39m], ABCSeries):\n\u001b[0;32m   1150\u001b[0m     \u001b[38;5;66;03m# GH#43986 Need to do list(mapped) in order to get treated as nested\u001b[39;00m\n\u001b[0;32m   1151\u001b[0m     \u001b[38;5;66;03m#  See also GH#25959 regarding EA support\u001b[39;00m\n\u001b[0;32m   1152\u001b[0m     \u001b[38;5;28;01mreturn\u001b[39;00m obj\u001b[38;5;241m.\u001b[39m_constructor_expanddim(\u001b[38;5;28mlist\u001b[39m(mapped), index\u001b[38;5;241m=\u001b[39mobj\u001b[38;5;241m.\u001b[39mindex)\n",
      "File \u001b[1;32m~\\AppData\\Roaming\\Python\\Python310\\site-packages\\pandas\\_libs\\lib.pyx:2870\u001b[0m, in \u001b[0;36mpandas._libs.lib.map_infer\u001b[1;34m()\u001b[0m\n",
      "File \u001b[1;32m~\\AppData\\Roaming\\Python\\Python310\\site-packages\\langdetect\\detector_factory.py:130\u001b[0m, in \u001b[0;36mdetect\u001b[1;34m(text)\u001b[0m\n\u001b[0;32m    128\u001b[0m detector \u001b[38;5;241m=\u001b[39m _factory\u001b[38;5;241m.\u001b[39mcreate()\n\u001b[0;32m    129\u001b[0m detector\u001b[38;5;241m.\u001b[39mappend(text)\n\u001b[1;32m--> 130\u001b[0m \u001b[38;5;28;01mreturn\u001b[39;00m \u001b[43mdetector\u001b[49m\u001b[38;5;241;43m.\u001b[39;49m\u001b[43mdetect\u001b[49m\u001b[43m(\u001b[49m\u001b[43m)\u001b[49m\n",
      "File \u001b[1;32m~\\AppData\\Roaming\\Python\\Python310\\site-packages\\langdetect\\detector.py:136\u001b[0m, in \u001b[0;36mDetector.detect\u001b[1;34m(self)\u001b[0m\n\u001b[0;32m    132\u001b[0m \u001b[38;5;28;01mdef\u001b[39;00m \u001b[38;5;21mdetect\u001b[39m(\u001b[38;5;28mself\u001b[39m):\n\u001b[0;32m    133\u001b[0m     \u001b[38;5;124;03m'''Detect language of the target text and return the language name\u001b[39;00m\n\u001b[0;32m    134\u001b[0m \u001b[38;5;124;03m    which has the highest probability.\u001b[39;00m\n\u001b[0;32m    135\u001b[0m \u001b[38;5;124;03m    '''\u001b[39;00m\n\u001b[1;32m--> 136\u001b[0m     probabilities \u001b[38;5;241m=\u001b[39m \u001b[38;5;28;43mself\u001b[39;49m\u001b[38;5;241;43m.\u001b[39;49m\u001b[43mget_probabilities\u001b[49m\u001b[43m(\u001b[49m\u001b[43m)\u001b[49m\n\u001b[0;32m    137\u001b[0m     \u001b[38;5;28;01mif\u001b[39;00m probabilities:\n\u001b[0;32m    138\u001b[0m         \u001b[38;5;28;01mreturn\u001b[39;00m probabilities[\u001b[38;5;241m0\u001b[39m]\u001b[38;5;241m.\u001b[39mlang\n",
      "File \u001b[1;32m~\\AppData\\Roaming\\Python\\Python310\\site-packages\\langdetect\\detector.py:143\u001b[0m, in \u001b[0;36mDetector.get_probabilities\u001b[1;34m(self)\u001b[0m\n\u001b[0;32m    141\u001b[0m \u001b[38;5;28;01mdef\u001b[39;00m \u001b[38;5;21mget_probabilities\u001b[39m(\u001b[38;5;28mself\u001b[39m):\n\u001b[0;32m    142\u001b[0m     \u001b[38;5;28;01mif\u001b[39;00m \u001b[38;5;28mself\u001b[39m\u001b[38;5;241m.\u001b[39mlangprob \u001b[38;5;129;01mis\u001b[39;00m \u001b[38;5;28;01mNone\u001b[39;00m:\n\u001b[1;32m--> 143\u001b[0m         \u001b[38;5;28;43mself\u001b[39;49m\u001b[38;5;241;43m.\u001b[39;49m\u001b[43m_detect_block\u001b[49m\u001b[43m(\u001b[49m\u001b[43m)\u001b[49m\n\u001b[0;32m    144\u001b[0m     \u001b[38;5;28;01mreturn\u001b[39;00m \u001b[38;5;28mself\u001b[39m\u001b[38;5;241m.\u001b[39m_sort_probability(\u001b[38;5;28mself\u001b[39m\u001b[38;5;241m.\u001b[39mlangprob)\n",
      "File \u001b[1;32m~\\AppData\\Roaming\\Python\\Python310\\site-packages\\langdetect\\detector.py:161\u001b[0m, in \u001b[0;36mDetector._detect_block\u001b[1;34m(self)\u001b[0m\n\u001b[0;32m    159\u001b[0m i \u001b[38;5;241m=\u001b[39m \u001b[38;5;241m0\u001b[39m\n\u001b[0;32m    160\u001b[0m \u001b[38;5;28;01mwhile\u001b[39;00m \u001b[38;5;28;01mTrue\u001b[39;00m:\n\u001b[1;32m--> 161\u001b[0m     \u001b[38;5;28;43mself\u001b[39;49m\u001b[38;5;241;43m.\u001b[39;49m\u001b[43m_update_lang_prob\u001b[49m\u001b[43m(\u001b[49m\u001b[43mprob\u001b[49m\u001b[43m,\u001b[49m\u001b[43m \u001b[49m\u001b[38;5;28;43mself\u001b[39;49m\u001b[38;5;241;43m.\u001b[39;49m\u001b[43mrandom\u001b[49m\u001b[38;5;241;43m.\u001b[39;49m\u001b[43mchoice\u001b[49m\u001b[43m(\u001b[49m\u001b[43mngrams\u001b[49m\u001b[43m)\u001b[49m\u001b[43m,\u001b[49m\u001b[43m \u001b[49m\u001b[43malpha\u001b[49m\u001b[43m)\u001b[49m\n\u001b[0;32m    162\u001b[0m     \u001b[38;5;28;01mif\u001b[39;00m i \u001b[38;5;241m%\u001b[39m \u001b[38;5;241m5\u001b[39m \u001b[38;5;241m==\u001b[39m \u001b[38;5;241m0\u001b[39m:\n\u001b[0;32m    163\u001b[0m         \u001b[38;5;28;01mif\u001b[39;00m \u001b[38;5;28mself\u001b[39m\u001b[38;5;241m.\u001b[39m_normalize_prob(prob) \u001b[38;5;241m>\u001b[39m \u001b[38;5;28mself\u001b[39m\u001b[38;5;241m.\u001b[39mCONV_THRESHOLD \u001b[38;5;129;01mor\u001b[39;00m i \u001b[38;5;241m>\u001b[39m\u001b[38;5;241m=\u001b[39m \u001b[38;5;28mself\u001b[39m\u001b[38;5;241m.\u001b[39mITERATION_LIMIT:\n",
      "File \u001b[1;32m~\\AppData\\Roaming\\Python\\Python310\\site-packages\\langdetect\\detector.py:212\u001b[0m, in \u001b[0;36mDetector._update_lang_prob\u001b[1;34m(self, prob, word, alpha)\u001b[0m\n\u001b[0;32m    210\u001b[0m weight \u001b[38;5;241m=\u001b[39m alpha \u001b[38;5;241m/\u001b[39m \u001b[38;5;28mself\u001b[39m\u001b[38;5;241m.\u001b[39mBASE_FREQ\n\u001b[0;32m    211\u001b[0m \u001b[38;5;28;01mfor\u001b[39;00m i \u001b[38;5;129;01min\u001b[39;00m xrange(\u001b[38;5;28mlen\u001b[39m(prob)):\n\u001b[1;32m--> 212\u001b[0m     prob[i] \u001b[38;5;241m*\u001b[39m\u001b[38;5;241m=\u001b[39m weight \u001b[38;5;241m+\u001b[39m lang_prob_map[i]\n\u001b[0;32m    213\u001b[0m \u001b[38;5;28;01mreturn\u001b[39;00m \u001b[38;5;28;01mTrue\u001b[39;00m\n",
      "\u001b[1;31mKeyboardInterrupt\u001b[0m: "
     ]
    }
   ],
   "source": [
    "train_transformed = custom_pipe.transform(train)"
   ]
  },
  {
   "cell_type": "code",
   "execution_count": null,
   "id": "27d631f5",
   "metadata": {},
   "outputs": [],
   "source": [
    "train_transformed"
   ]
  },
  {
   "cell_type": "code",
   "execution_count": 117,
   "id": "622a5d0f",
   "metadata": {},
   "outputs": [],
   "source": [
    "train_transformed_x = train_transformed['text']\n",
    "train_transformed_y = train_transformed['label']"
   ]
  },
  {
   "cell_type": "code",
   "execution_count": 118,
   "id": "882a6dd6",
   "metadata": {},
   "outputs": [],
   "source": [
    "train_xx = model_pipe.fit_transform(train_transformed_x, train_transformed_y)"
   ]
  },
  {
   "cell_type": "code",
   "execution_count": 119,
   "id": "2bf279c5",
   "metadata": {},
   "outputs": [
    {
     "data": {
      "text/plain": [
       "(29070, 178186)"
      ]
     },
     "execution_count": 119,
     "metadata": {},
     "output_type": "execute_result"
    }
   ],
   "source": [
    "train_xx.shape"
   ]
  }
 ],
 "metadata": {
  "kernelspec": {
   "display_name": "Python 3 (ipykernel)",
   "language": "python",
   "name": "python3"
  },
  "language_info": {
   "codemirror_mode": {
    "name": "ipython",
    "version": 3
   },
   "file_extension": ".py",
   "mimetype": "text/x-python",
   "name": "python",
   "nbconvert_exporter": "python",
   "pygments_lexer": "ipython3",
   "version": "3.10.7"
  }
 },
 "nbformat": 4,
 "nbformat_minor": 5
}
