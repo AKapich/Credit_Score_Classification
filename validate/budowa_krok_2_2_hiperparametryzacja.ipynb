{
 "cells": [
  {
   "cell_type": "markdown",
   "id": "ce247929",
   "metadata": {},
   "source": [
    "# Fakenews detection\n",
    "Karolina Mączka, Tymoteusz Urban"
   ]
  },
  {
   "cell_type": "code",
   "execution_count": 6,
   "id": "93248206",
   "metadata": {
    "scrolled": true
   },
   "outputs": [
    {
     "name": "stderr",
     "output_type": "stream",
     "text": [
      "[nltk_data] Downloading package stopwords to\n",
      "[nltk_data]     C:\\Users\\Aleks\\AppData\\Roaming\\nltk_data...\n",
      "[nltk_data]   Package stopwords is already up-to-date!\n",
      "[nltk_data] Downloading package punkt to\n",
      "[nltk_data]     C:\\Users\\Aleks\\AppData\\Roaming\\nltk_data...\n",
      "[nltk_data]   Package punkt is already up-to-date!\n",
      "[nltk_data] Downloading package wordnet to\n",
      "[nltk_data]     C:\\Users\\Aleks\\AppData\\Roaming\\nltk_data...\n",
      "[nltk_data]   Package wordnet is already up-to-date!\n",
      "[nltk_data] Downloading package omw-1.4 to\n",
      "[nltk_data]     C:\\Users\\Aleks\\AppData\\Roaming\\nltk_data...\n",
      "[nltk_data]   Package omw-1.4 is already up-to-date!\n"
     ]
    }
   ],
   "source": [
    "import pandas as pd\n",
    "import numpy as np\n",
    "import matplotlib.pyplot as plt\n",
    "import sklearn\n",
    "from sklearn.model_selection import train_test_split\n",
    "from sklearn.feature_extraction.text import TfidfVectorizer\n",
    "from sklearn.feature_extraction.text import CountVectorizer, TfidfTransformer\n",
    "import nltk\n",
    "from nltk.tokenize import sent_tokenize, word_tokenize\n",
    "from nltk.corpus import stopwords\n",
    "from nltk.stem import WordNetLemmatizer\n",
    "nltk.download('stopwords')\n",
    "nltk.download('punkt')\n",
    "nltk.download('wordnet')\n",
    "nltk.download('omw-1.4')\n",
    "import re\n",
    "from wordcloud import WordCloud\n",
    "from langdetect import detect\n",
    "from langdetect import DetectorFactory\n",
    "DetectorFactory.seed = 0"
   ]
  },
  {
   "cell_type": "code",
   "execution_count": 7,
   "id": "f665a560",
   "metadata": {},
   "outputs": [],
   "source": [
    "df=pd.read_csv('PreProcessedData.csv', header=0, sep=',', index_col=False)"
   ]
  },
  {
   "cell_type": "code",
   "execution_count": 8,
   "id": "53b2da86",
   "metadata": {},
   "outputs": [
    {
     "data": {
      "text/html": [
       "<div>\n",
       "<style scoped>\n",
       "    .dataframe tbody tr th:only-of-type {\n",
       "        vertical-align: middle;\n",
       "    }\n",
       "\n",
       "    .dataframe tbody tr th {\n",
       "        vertical-align: top;\n",
       "    }\n",
       "\n",
       "    .dataframe thead th {\n",
       "        text-align: right;\n",
       "    }\n",
       "</style>\n",
       "<table border=\"1\" class=\"dataframe\">\n",
       "  <thead>\n",
       "    <tr style=\"text-align: right;\">\n",
       "      <th></th>\n",
       "      <th>Unnamed: 0</th>\n",
       "      <th>title</th>\n",
       "      <th>text</th>\n",
       "      <th>Ground Label</th>\n",
       "    </tr>\n",
       "  </thead>\n",
       "  <tbody>\n",
       "    <tr>\n",
       "      <th>0</th>\n",
       "      <td>0</td>\n",
       "      <td>Ann Coulter Make Believes She Has ‘Gay Friend...</td>\n",
       "      <td>It s hard to believe, but Donald Trump does ha...</td>\n",
       "      <td>fake</td>\n",
       "    </tr>\n",
       "    <tr>\n",
       "      <th>1</th>\n",
       "      <td>1</td>\n",
       "      <td>Rating: Moody‘s verbessert Ausblick für Russla...</td>\n",
       "      <td>bankensektor Der russische Staat werde die Ban...</td>\n",
       "      <td>fake</td>\n",
       "    </tr>\n",
       "    <tr>\n",
       "      <th>2</th>\n",
       "      <td>2</td>\n",
       "      <td>CAN WE ADD DIRTY MONEY ‘LAUNDERING’ To The Oba...</td>\n",
       "      <td>A member of the House Intelligence Committee i...</td>\n",
       "      <td>fake</td>\n",
       "    </tr>\n",
       "    <tr>\n",
       "      <th>3</th>\n",
       "      <td>3</td>\n",
       "      <td>Republicans on Obamacare repeal: 'We're going ...</td>\n",
       "      <td>WASHINGTON (Reuters) - House of Representative...</td>\n",
       "      <td>true</td>\n",
       "    </tr>\n",
       "    <tr>\n",
       "      <th>4</th>\n",
       "      <td>4</td>\n",
       "      <td>Trump, on possible DACA deal, says border wall...</td>\n",
       "      <td>WASHINGTON (Reuters) - U.S. President Donald T...</td>\n",
       "      <td>true</td>\n",
       "    </tr>\n",
       "  </tbody>\n",
       "</table>\n",
       "</div>"
      ],
      "text/plain": [
       "   Unnamed: 0                                              title  \\\n",
       "0           0   Ann Coulter Make Believes She Has ‘Gay Friend...   \n",
       "1           1  Rating: Moody‘s verbessert Ausblick für Russla...   \n",
       "2           2  CAN WE ADD DIRTY MONEY ‘LAUNDERING’ To The Oba...   \n",
       "3           3  Republicans on Obamacare repeal: 'We're going ...   \n",
       "4           4  Trump, on possible DACA deal, says border wall...   \n",
       "\n",
       "                                                text Ground Label  \n",
       "0  It s hard to believe, but Donald Trump does ha...         fake  \n",
       "1  bankensektor Der russische Staat werde die Ban...         fake  \n",
       "2  A member of the House Intelligence Committee i...         fake  \n",
       "3  WASHINGTON (Reuters) - House of Representative...         true  \n",
       "4  WASHINGTON (Reuters) - U.S. President Donald T...         true  "
      ]
     },
     "execution_count": 8,
     "metadata": {},
     "output_type": "execute_result"
    }
   ],
   "source": [
    "df.head()"
   ]
  },
  {
   "cell_type": "code",
   "execution_count": 9,
   "id": "2784ed96",
   "metadata": {},
   "outputs": [
    {
     "data": {
      "text/html": [
       "<div>\n",
       "<style scoped>\n",
       "    .dataframe tbody tr th:only-of-type {\n",
       "        vertical-align: middle;\n",
       "    }\n",
       "\n",
       "    .dataframe tbody tr th {\n",
       "        vertical-align: top;\n",
       "    }\n",
       "\n",
       "    .dataframe thead th {\n",
       "        text-align: right;\n",
       "    }\n",
       "</style>\n",
       "<table border=\"1\" class=\"dataframe\">\n",
       "  <thead>\n",
       "    <tr style=\"text-align: right;\">\n",
       "      <th></th>\n",
       "      <th>title</th>\n",
       "      <th>text</th>\n",
       "      <th>label</th>\n",
       "    </tr>\n",
       "  </thead>\n",
       "  <tbody>\n",
       "    <tr>\n",
       "      <th>0</th>\n",
       "      <td>Ann Coulter Make Believes She Has ‘Gay Friend...</td>\n",
       "      <td>It s hard to believe, but Donald Trump does ha...</td>\n",
       "      <td>fake</td>\n",
       "    </tr>\n",
       "    <tr>\n",
       "      <th>1</th>\n",
       "      <td>Rating: Moody‘s verbessert Ausblick für Russla...</td>\n",
       "      <td>bankensektor Der russische Staat werde die Ban...</td>\n",
       "      <td>fake</td>\n",
       "    </tr>\n",
       "    <tr>\n",
       "      <th>2</th>\n",
       "      <td>CAN WE ADD DIRTY MONEY ‘LAUNDERING’ To The Oba...</td>\n",
       "      <td>A member of the House Intelligence Committee i...</td>\n",
       "      <td>fake</td>\n",
       "    </tr>\n",
       "    <tr>\n",
       "      <th>3</th>\n",
       "      <td>Republicans on Obamacare repeal: 'We're going ...</td>\n",
       "      <td>WASHINGTON (Reuters) - House of Representative...</td>\n",
       "      <td>true</td>\n",
       "    </tr>\n",
       "    <tr>\n",
       "      <th>4</th>\n",
       "      <td>Trump, on possible DACA deal, says border wall...</td>\n",
       "      <td>WASHINGTON (Reuters) - U.S. President Donald T...</td>\n",
       "      <td>true</td>\n",
       "    </tr>\n",
       "  </tbody>\n",
       "</table>\n",
       "</div>"
      ],
      "text/plain": [
       "                                               title  \\\n",
       "0   Ann Coulter Make Believes She Has ‘Gay Friend...   \n",
       "1  Rating: Moody‘s verbessert Ausblick für Russla...   \n",
       "2  CAN WE ADD DIRTY MONEY ‘LAUNDERING’ To The Oba...   \n",
       "3  Republicans on Obamacare repeal: 'We're going ...   \n",
       "4  Trump, on possible DACA deal, says border wall...   \n",
       "\n",
       "                                                text label  \n",
       "0  It s hard to believe, but Donald Trump does ha...  fake  \n",
       "1  bankensektor Der russische Staat werde die Ban...  fake  \n",
       "2  A member of the House Intelligence Committee i...  fake  \n",
       "3  WASHINGTON (Reuters) - House of Representative...  true  \n",
       "4  WASHINGTON (Reuters) - U.S. President Donald T...  true  "
      ]
     },
     "execution_count": 9,
     "metadata": {},
     "output_type": "execute_result"
    }
   ],
   "source": [
    "# Remove index column and rename Gound Label for easier use\n",
    "df = df[['title', 'text', 'Ground Label']]\n",
    "df.rename(columns={'Ground Label': 'label'}, inplace=True)\n",
    "df.head()"
   ]
  },
  {
   "cell_type": "markdown",
   "id": "93af8965",
   "metadata": {},
   "source": [
    "## Train test split"
   ]
  },
  {
   "cell_type": "code",
   "execution_count": 10,
   "id": "38a2891c",
   "metadata": {},
   "outputs": [],
   "source": [
    "# Splitting data into training and testing sets\n",
    "X_rest, X_test, y_rest, y_test = train_test_split(df[['title', 'text']], df['label'], test_size=0.30, random_state=42)"
   ]
  },
  {
   "cell_type": "code",
   "execution_count": 11,
   "id": "15a8c42e",
   "metadata": {},
   "outputs": [
    {
     "data": {
      "text/plain": [
       "fake    29459\n",
       "true    18872\n",
       "Name: label, dtype: int64"
      ]
     },
     "execution_count": 11,
     "metadata": {},
     "output_type": "execute_result"
    }
   ],
   "source": [
    "y_rest.value_counts()"
   ]
  },
  {
   "cell_type": "code",
   "execution_count": 12,
   "id": "73ceaa3f",
   "metadata": {},
   "outputs": [],
   "source": [
    "X_train, X_validate, y_train, y_validate = train_test_split(X_rest, y_rest, test_size=0.30, random_state=42)"
   ]
  },
  {
   "cell_type": "code",
   "execution_count": 13,
   "id": "c2d07c00",
   "metadata": {},
   "outputs": [
    {
     "name": "stdout",
     "output_type": "stream",
     "text": [
      "fake    20645\n",
      "true    13186\n",
      "Name: label, dtype: int64\n",
      "fake    8814\n",
      "true    5686\n",
      "Name: label, dtype: int64\n"
     ]
    }
   ],
   "source": [
    "print(y_train.value_counts())\n",
    "print(y_validate.value_counts())"
   ]
  },
  {
   "cell_type": "markdown",
   "id": "c60f19fc",
   "metadata": {},
   "source": [
    "The ratio of false and true is the same everywhere, so we can assume that this is a good separation of data"
   ]
  },
  {
   "cell_type": "code",
   "execution_count": 14,
   "id": "604901e9",
   "metadata": {},
   "outputs": [],
   "source": [
    "train_df = pd.concat([X_train, y_train], axis=1).reset_index(drop=True)\n",
    "train_df.to_csv('training_data.csv', index=False)"
   ]
  },
  {
   "cell_type": "code",
   "execution_count": 15,
   "id": "88da294f",
   "metadata": {},
   "outputs": [],
   "source": [
    "testing_df = pd.concat([X_test, y_test], axis=1)\n",
    "testing_df.to_csv('testing_data.csv', index=False)"
   ]
  },
  {
   "cell_type": "code",
   "execution_count": 16,
   "id": "21794ee3",
   "metadata": {
    "scrolled": false
   },
   "outputs": [],
   "source": [
    "validate_df = pd.concat([X_validate, y_validate], axis=1)\n",
    "validate_df.to_csv('fakenws_validation.csv', index=False)"
   ]
  },
  {
   "cell_type": "code",
   "execution_count": 17,
   "id": "176fc409",
   "metadata": {
    "scrolled": true
   },
   "outputs": [],
   "source": [
    "df2 = pd.concat([X_train, y_train], axis=1).reset_index(drop=True)"
   ]
  },
  {
   "cell_type": "markdown",
   "id": "f56bfd9f",
   "metadata": {},
   "source": [
    "## Getting to know the data"
   ]
  },
  {
   "cell_type": "code",
   "execution_count": 18,
   "id": "17ffa716",
   "metadata": {},
   "outputs": [
    {
     "data": {
      "text/html": [
       "<div>\n",
       "<style scoped>\n",
       "    .dataframe tbody tr th:only-of-type {\n",
       "        vertical-align: middle;\n",
       "    }\n",
       "\n",
       "    .dataframe tbody tr th {\n",
       "        vertical-align: top;\n",
       "    }\n",
       "\n",
       "    .dataframe thead th {\n",
       "        text-align: right;\n",
       "    }\n",
       "</style>\n",
       "<table border=\"1\" class=\"dataframe\">\n",
       "  <thead>\n",
       "    <tr style=\"text-align: right;\">\n",
       "      <th></th>\n",
       "      <th>title</th>\n",
       "      <th>text</th>\n",
       "      <th>label</th>\n",
       "    </tr>\n",
       "  </thead>\n",
       "  <tbody>\n",
       "    <tr>\n",
       "      <th>0</th>\n",
       "      <td>In the Western World Respect for Law No Longer...</td>\n",
       "      <td>In the Western World Respect for Law No Longer...</td>\n",
       "      <td>fake</td>\n",
       "    </tr>\n",
       "    <tr>\n",
       "      <th>1</th>\n",
       "      <td>WATCH: President Obama Unleashes On Trump, Sa...</td>\n",
       "      <td>During an interview on CBS s Face the Nation S...</td>\n",
       "      <td>fake</td>\n",
       "    </tr>\n",
       "    <tr>\n",
       "      <th>2</th>\n",
       "      <td>THE GUY WHO Punched “Moldylocks” Speaks Out Ab...</td>\n",
       "      <td>Nathan Domingo is the founder of  Identity Eur...</td>\n",
       "      <td>fake</td>\n",
       "    </tr>\n",
       "    <tr>\n",
       "      <th>3</th>\n",
       "      <td>SAY WHAT? AMAZON TELLS CUSTOMER THEY WERE FORC...</td>\n",
       "      <td>When it comes to limiting our free speech, not...</td>\n",
       "      <td>fake</td>\n",
       "    </tr>\n",
       "    <tr>\n",
       "      <th>4</th>\n",
       "      <td>ANTI-GUN Zealot KATIE COURIC Hit With $12 MILL...</td>\n",
       "      <td>Little Miss Sunshine  has fooled a lot of peo...</td>\n",
       "      <td>fake</td>\n",
       "    </tr>\n",
       "  </tbody>\n",
       "</table>\n",
       "</div>"
      ],
      "text/plain": [
       "                                               title  \\\n",
       "0  In the Western World Respect for Law No Longer...   \n",
       "1   WATCH: President Obama Unleashes On Trump, Sa...   \n",
       "2  THE GUY WHO Punched “Moldylocks” Speaks Out Ab...   \n",
       "3  SAY WHAT? AMAZON TELLS CUSTOMER THEY WERE FORC...   \n",
       "4  ANTI-GUN Zealot KATIE COURIC Hit With $12 MILL...   \n",
       "\n",
       "                                                text label  \n",
       "0  In the Western World Respect for Law No Longer...  fake  \n",
       "1  During an interview on CBS s Face the Nation S...  fake  \n",
       "2  Nathan Domingo is the founder of  Identity Eur...  fake  \n",
       "3  When it comes to limiting our free speech, not...  fake  \n",
       "4   Little Miss Sunshine  has fooled a lot of peo...  fake  "
      ]
     },
     "execution_count": 18,
     "metadata": {},
     "output_type": "execute_result"
    }
   ],
   "source": [
    "df2.head()"
   ]
  },
  {
   "cell_type": "code",
   "execution_count": 19,
   "id": "55d2e697",
   "metadata": {},
   "outputs": [
    {
     "name": "stdout",
     "output_type": "stream",
     "text": [
      "<class 'pandas.core.frame.DataFrame'>\n",
      "RangeIndex: 33831 entries, 0 to 33830\n",
      "Data columns (total 3 columns):\n",
      " #   Column  Non-Null Count  Dtype \n",
      "---  ------  --------------  ----- \n",
      " 0   title   33497 non-null  object\n",
      " 1   text    33800 non-null  object\n",
      " 2   label   33831 non-null  object\n",
      "dtypes: object(3)\n",
      "memory usage: 793.0+ KB\n"
     ]
    }
   ],
   "source": [
    "df2.info()"
   ]
  },
  {
   "cell_type": "markdown",
   "id": "eb2442e2",
   "metadata": {},
   "source": [
    "\n",
    "\n",
    "## Data Preprocessing"
   ]
  },
  {
   "cell_type": "markdown",
   "id": "8fd93a04",
   "metadata": {},
   "source": [
    "### Encoding"
   ]
  },
  {
   "cell_type": "code",
   "execution_count": 20,
   "id": "16eddf9f",
   "metadata": {},
   "outputs": [],
   "source": [
    "# Converting fake and true into numeric values\n",
    "df2.loc[df2[\"label\"] == \"fake\",\"label\"] = 0\n",
    "df2.loc[df2[\"label\"] == \"true\",\"label\"] = 1"
   ]
  },
  {
   "cell_type": "code",
   "execution_count": 21,
   "id": "e98600df",
   "metadata": {},
   "outputs": [],
   "source": [
    "# Before pipeline function\n",
    "def encodeLabels(df):\n",
    "    df.loc[df[\"label\"] == \"fake\",\"label\"] = 0\n",
    "    df.loc[df[\"label\"] == \"true\",\"label\"] = 1\n",
    "    return df"
   ]
  },
  {
   "cell_type": "markdown",
   "id": "3ad72669",
   "metadata": {},
   "source": [
    "### NaNs"
   ]
  },
  {
   "cell_type": "code",
   "execution_count": 22,
   "id": "f998743c",
   "metadata": {
    "scrolled": true
   },
   "outputs": [
    {
     "name": "stdout",
     "output_type": "stream",
     "text": [
      "<class 'pandas.core.frame.DataFrame'>\n",
      "RangeIndex: 33831 entries, 0 to 33830\n",
      "Data columns (total 3 columns):\n",
      " #   Column  Non-Null Count  Dtype \n",
      "---  ------  --------------  ----- \n",
      " 0   title   33831 non-null  object\n",
      " 1   text    33831 non-null  object\n",
      " 2   label   33831 non-null  int64 \n",
      "dtypes: int64(1), object(2)\n",
      "memory usage: 793.0+ KB\n"
     ]
    }
   ],
   "source": [
    "# In order to perform operations on data we have to convert Nans into empty strings\n",
    "df2.fillna('', inplace=True)\n",
    "df2.info()"
   ]
  },
  {
   "cell_type": "code",
   "execution_count": 23,
   "id": "0e163557",
   "metadata": {},
   "outputs": [],
   "source": [
    "# transformer function\n",
    "def handleNa(df):\n",
    "    df.fillna('', inplace=True)\n",
    "    print('NaNs replaced')\n",
    "    return df"
   ]
  },
  {
   "cell_type": "markdown",
   "id": "76f82217",
   "metadata": {},
   "source": [
    "### Combine columns"
   ]
  },
  {
   "cell_type": "markdown",
   "id": "90e5df98",
   "metadata": {},
   "source": [
    "Because of the fact that we will be analysing only words (or sequences of them) we are combining title and text columns - there will be no difference for our model which column those words come from"
   ]
  },
  {
   "cell_type": "code",
   "execution_count": 24,
   "id": "4b426020",
   "metadata": {},
   "outputs": [
    {
     "data": {
      "text/plain": [
       "title    THE GUY WHO Punched “Moldylocks” Speaks Out Ab...\n",
       "text     Nathan Domingo is the founder of  Identity Eur...\n",
       "label                                                    0\n",
       "Name: 2, dtype: object"
      ]
     },
     "execution_count": 24,
     "metadata": {},
     "output_type": "execute_result"
    }
   ],
   "source": [
    "df2.loc[2]"
   ]
  },
  {
   "cell_type": "code",
   "execution_count": 25,
   "id": "149765bc",
   "metadata": {},
   "outputs": [],
   "source": [
    "df2['text'] = df2[['title', 'text']].apply(\" \".join, axis=1)"
   ]
  },
  {
   "cell_type": "code",
   "execution_count": 26,
   "id": "b3b235e7",
   "metadata": {},
   "outputs": [
    {
     "data": {
      "text/plain": [
       "'THE GUY WHO Punched “Moldylocks” Speaks Out About Violent Antifa Female With A Bottle [VIDEO] Nathan Domingo is the founder of  Identity Europa  and is the guy who was seen by millions of viewers punching a female Antifa thug the media tried to portray as a helpless woman that just happened to be in the area when fighting broke out at a free speech rally in Berkeley, CA on April 16th.The last time these two group clashed, the Trump supporters were seriously outnumbered. This time was a different story. Trump supporters came prepared for the unprovoked attacks of these hate groups and took them to task. With all the violence that happened yesterday, leftist media outlets seemed to be obsessed with reporting on the video that was taken of an alleged Trump supporter who punched an antifa female who was part of the violent group  Oak Roots Collective  that traveled to Berkeley to confront Trump supporters and shut down their right to free speech.Here s the video. At the 18 second mark you can see the woman cock her arm back as though she is about to swing her arm at someone. When she brings her arm forward, that is where she gets hit. We are NOT condoning the hitting of a woman by a man, but if she had a bottle in her hand and was about to hit someone that changes everything:CBS San Fransisco Bay Area news interviewed anarchist Louise Rosealma, who along with her boyfriend is a member of the Oak Roots Collective. Here s a sample of the violence they promote on their Facebook page. This is how these people (that should be labeled as domestic terrorists) see themselves. These anarchists live in a world where it s okay to act with violence against law enforcement and innocent people who don t agree with their political views:Here s citizen journalist Tim Pool talking to the Antifa female who was hit. When he asks her if she thinks it s okay that Antifa rioters threw M-80 s at people on the Trump side, her response was,  Well, the revolution isn t f*cking easy!  (This video was taken after she was hit) Apparently she was correct about one thing For anyone wondering what an  identiatrian  is, here is a screen shot from the Identity Evropa website:'"
      ]
     },
     "execution_count": 26,
     "metadata": {},
     "output_type": "execute_result"
    }
   ],
   "source": [
    "df2.loc[2]['text']"
   ]
  },
  {
   "cell_type": "code",
   "execution_count": 27,
   "id": "c5188aff",
   "metadata": {},
   "outputs": [],
   "source": [
    "df2 = df2.drop(columns='title')"
   ]
  },
  {
   "cell_type": "code",
   "execution_count": 28,
   "id": "166cc472",
   "metadata": {},
   "outputs": [
    {
     "data": {
      "text/html": [
       "<div>\n",
       "<style scoped>\n",
       "    .dataframe tbody tr th:only-of-type {\n",
       "        vertical-align: middle;\n",
       "    }\n",
       "\n",
       "    .dataframe tbody tr th {\n",
       "        vertical-align: top;\n",
       "    }\n",
       "\n",
       "    .dataframe thead th {\n",
       "        text-align: right;\n",
       "    }\n",
       "</style>\n",
       "<table border=\"1\" class=\"dataframe\">\n",
       "  <thead>\n",
       "    <tr style=\"text-align: right;\">\n",
       "      <th></th>\n",
       "      <th>text</th>\n",
       "      <th>label</th>\n",
       "    </tr>\n",
       "  </thead>\n",
       "  <tbody>\n",
       "    <tr>\n",
       "      <th>0</th>\n",
       "      <td>In the Western World Respect for Law No Longer...</td>\n",
       "      <td>0</td>\n",
       "    </tr>\n",
       "    <tr>\n",
       "      <th>1</th>\n",
       "      <td>WATCH: President Obama Unleashes On Trump, Sa...</td>\n",
       "      <td>0</td>\n",
       "    </tr>\n",
       "    <tr>\n",
       "      <th>2</th>\n",
       "      <td>THE GUY WHO Punched “Moldylocks” Speaks Out Ab...</td>\n",
       "      <td>0</td>\n",
       "    </tr>\n",
       "    <tr>\n",
       "      <th>3</th>\n",
       "      <td>SAY WHAT? AMAZON TELLS CUSTOMER THEY WERE FORC...</td>\n",
       "      <td>0</td>\n",
       "    </tr>\n",
       "    <tr>\n",
       "      <th>4</th>\n",
       "      <td>ANTI-GUN Zealot KATIE COURIC Hit With $12 MILL...</td>\n",
       "      <td>0</td>\n",
       "    </tr>\n",
       "  </tbody>\n",
       "</table>\n",
       "</div>"
      ],
      "text/plain": [
       "                                                text  label\n",
       "0  In the Western World Respect for Law No Longer...      0\n",
       "1   WATCH: President Obama Unleashes On Trump, Sa...      0\n",
       "2  THE GUY WHO Punched “Moldylocks” Speaks Out Ab...      0\n",
       "3  SAY WHAT? AMAZON TELLS CUSTOMER THEY WERE FORC...      0\n",
       "4  ANTI-GUN Zealot KATIE COURIC Hit With $12 MILL...      0"
      ]
     },
     "execution_count": 28,
     "metadata": {},
     "output_type": "execute_result"
    }
   ],
   "source": [
    "df2.head()"
   ]
  },
  {
   "cell_type": "code",
   "execution_count": 29,
   "id": "dd65cfee",
   "metadata": {},
   "outputs": [],
   "source": [
    "# transformer function\n",
    "def combineColumns(df):\n",
    "    df['text'] = df[['title', 'text']].apply(\" \".join, axis=1)\n",
    "    df = df.drop(columns='title')\n",
    "    print('Columns combined')\n",
    "    return df"
   ]
  },
  {
   "cell_type": "markdown",
   "id": "987616fe",
   "metadata": {},
   "source": [
    "### Outliers"
   ]
  },
  {
   "cell_type": "code",
   "execution_count": 30,
   "id": "ec0eeb34",
   "metadata": {},
   "outputs": [
    {
     "data": {
      "text/plain": [
       "(array([3.3423e+04, 3.3800e+02, 4.4000e+01, 1.4000e+01, 2.0000e+00,\n",
       "        1.0000e+00, 5.0000e+00, 1.0000e+00, 2.0000e+00, 1.0000e+00]),\n",
       " array([5.000000e+00, 1.434840e+04, 2.869180e+04, 4.303520e+04,\n",
       "        5.737860e+04, 7.172200e+04, 8.606540e+04, 1.004088e+05,\n",
       "        1.147522e+05, 1.290956e+05, 1.434390e+05]),\n",
       " <BarContainer object of 10 artists>)"
      ]
     },
     "execution_count": 30,
     "metadata": {},
     "output_type": "execute_result"
    },
    {
     "data": {
      "image/png": "[encoded data removed]",
      "text/plain": [
       "<Figure size 640x480 with 1 Axes>"
      ]
     },
     "metadata": {},
     "output_type": "display_data"
    }
   ],
   "source": [
    "df2['textlength'] = df2['text'].apply(len)\n",
    "plt.hist(df2['textlength'])"
   ]
  },
  {
   "cell_type": "code",
   "execution_count": 31,
   "id": "d14dca82",
   "metadata": {
    "scrolled": true
   },
   "outputs": [
    {
     "name": "stdout",
     "output_type": "stream",
     "text": [
      "text          32\n",
      "label         32\n",
      "textlength    32\n",
      "dtype: int64\n"
     ]
    },
    {
     "data": {
      "text/html": [
       "<div>\n",
       "<style scoped>\n",
       "    .dataframe tbody tr th:only-of-type {\n",
       "        vertical-align: middle;\n",
       "    }\n",
       "\n",
       "    .dataframe tbody tr th {\n",
       "        vertical-align: top;\n",
       "    }\n",
       "\n",
       "    .dataframe thead th {\n",
       "        text-align: right;\n",
       "    }\n",
       "</style>\n",
       "<table border=\"1\" class=\"dataframe\">\n",
       "  <thead>\n",
       "    <tr style=\"text-align: right;\">\n",
       "      <th></th>\n",
       "      <th>text</th>\n",
       "      <th>label</th>\n",
       "      <th>textlength</th>\n",
       "    </tr>\n",
       "  </thead>\n",
       "  <tbody>\n",
       "    <tr>\n",
       "      <th>720</th>\n",
       "      <td>Re: Why Are So Many People Choosing To Leave T...</td>\n",
       "      <td>0</td>\n",
       "      <td>115924</td>\n",
       "    </tr>\n",
       "    <tr>\n",
       "      <th>1612</th>\n",
       "      <td>Re: Why Is Obama Threatening Russia With World...</td>\n",
       "      <td>0</td>\n",
       "      <td>97429</td>\n",
       "    </tr>\n",
       "    <tr>\n",
       "      <th>4245</th>\n",
       "      <td>Benny Morris’s Untenable Denial of the Ethnic ...</td>\n",
       "      <td>0</td>\n",
       "      <td>92823</td>\n",
       "    </tr>\n",
       "    <tr>\n",
       "      <th>4709</th>\n",
       "      <td>President-Elect Donald Trump's First Televised...</td>\n",
       "      <td>0</td>\n",
       "      <td>41697</td>\n",
       "    </tr>\n",
       "    <tr>\n",
       "      <th>4762</th>\n",
       "      <td>Re: The Velocity Of Money In The U.S. Falls To...</td>\n",
       "      <td>0</td>\n",
       "      <td>43623</td>\n",
       "    </tr>\n",
       "  </tbody>\n",
       "</table>\n",
       "</div>"
      ],
      "text/plain": [
       "                                                   text  label  textlength\n",
       "720   Re: Why Are So Many People Choosing To Leave T...      0      115924\n",
       "1612  Re: Why Is Obama Threatening Russia With World...      0       97429\n",
       "4245  Benny Morris’s Untenable Denial of the Ethnic ...      0       92823\n",
       "4709  President-Elect Donald Trump's First Televised...      0       41697\n",
       "4762  Re: The Velocity Of Money In The U.S. Falls To...      0       43623"
      ]
     },
     "execution_count": 31,
     "metadata": {},
     "output_type": "execute_result"
    }
   ],
   "source": [
    "print(df2[(df2['textlength'] > 40000)].count())\n",
    "df2[(df2['textlength'] > 40000)].head()"
   ]
  },
  {
   "cell_type": "code",
   "execution_count": 32,
   "id": "c3acd6d6",
   "metadata": {},
   "outputs": [],
   "source": [
    "def shortenLongText(text):\n",
    "    return text[:40000]"
   ]
  },
  {
   "cell_type": "code",
   "execution_count": 33,
   "id": "bfc6a5ae",
   "metadata": {},
   "outputs": [
    {
     "data": {
      "text/html": [
       "<div>\n",
       "<style scoped>\n",
       "    .dataframe tbody tr th:only-of-type {\n",
       "        vertical-align: middle;\n",
       "    }\n",
       "\n",
       "    .dataframe tbody tr th {\n",
       "        vertical-align: top;\n",
       "    }\n",
       "\n",
       "    .dataframe thead th {\n",
       "        text-align: right;\n",
       "    }\n",
       "</style>\n",
       "<table border=\"1\" class=\"dataframe\">\n",
       "  <thead>\n",
       "    <tr style=\"text-align: right;\">\n",
       "      <th></th>\n",
       "      <th>text</th>\n",
       "      <th>label</th>\n",
       "    </tr>\n",
       "  </thead>\n",
       "  <tbody>\n",
       "    <tr>\n",
       "      <th>0</th>\n",
       "      <td>In the Western World Respect for Law No Longer...</td>\n",
       "      <td>0</td>\n",
       "    </tr>\n",
       "    <tr>\n",
       "      <th>1</th>\n",
       "      <td>WATCH: President Obama Unleashes On Trump, Sa...</td>\n",
       "      <td>0</td>\n",
       "    </tr>\n",
       "    <tr>\n",
       "      <th>2</th>\n",
       "      <td>THE GUY WHO Punched “Moldylocks” Speaks Out Ab...</td>\n",
       "      <td>0</td>\n",
       "    </tr>\n",
       "    <tr>\n",
       "      <th>3</th>\n",
       "      <td>SAY WHAT? AMAZON TELLS CUSTOMER THEY WERE FORC...</td>\n",
       "      <td>0</td>\n",
       "    </tr>\n",
       "    <tr>\n",
       "      <th>4</th>\n",
       "      <td>ANTI-GUN Zealot KATIE COURIC Hit With $12 MILL...</td>\n",
       "      <td>0</td>\n",
       "    </tr>\n",
       "    <tr>\n",
       "      <th>...</th>\n",
       "      <td>...</td>\n",
       "      <td>...</td>\n",
       "    </tr>\n",
       "    <tr>\n",
       "      <th>33826</th>\n",
       "      <td>STATE’S ATTORNEY LIED: BALTIMORE POLICE HAD PR...</td>\n",
       "      <td>0</td>\n",
       "    </tr>\n",
       "    <tr>\n",
       "      <th>33827</th>\n",
       "      <td>Russia denies its planes killed civilians in S...</td>\n",
       "      <td>1</td>\n",
       "    </tr>\n",
       "    <tr>\n",
       "      <th>33828</th>\n",
       "      <td>Hungary’s “Wall” Versus the U.S. “Wall” Op-Ed ...</td>\n",
       "      <td>0</td>\n",
       "    </tr>\n",
       "    <tr>\n",
       "      <th>33829</th>\n",
       "      <td>Pastor Caught Trump’s Spiritual Advisor Steal...</td>\n",
       "      <td>0</td>\n",
       "    </tr>\n",
       "    <tr>\n",
       "      <th>33830</th>\n",
       "      <td>BOOM! SENATOR LINDSEY GRAHAM: I Have Reason to...</td>\n",
       "      <td>0</td>\n",
       "    </tr>\n",
       "  </tbody>\n",
       "</table>\n",
       "<p>33831 rows × 2 columns</p>\n",
       "</div>"
      ],
      "text/plain": [
       "                                                    text  label\n",
       "0      In the Western World Respect for Law No Longer...      0\n",
       "1       WATCH: President Obama Unleashes On Trump, Sa...      0\n",
       "2      THE GUY WHO Punched “Moldylocks” Speaks Out Ab...      0\n",
       "3      SAY WHAT? AMAZON TELLS CUSTOMER THEY WERE FORC...      0\n",
       "4      ANTI-GUN Zealot KATIE COURIC Hit With $12 MILL...      0\n",
       "...                                                  ...    ...\n",
       "33826  STATE’S ATTORNEY LIED: BALTIMORE POLICE HAD PR...      0\n",
       "33827  Russia denies its planes killed civilians in S...      1\n",
       "33828  Hungary’s “Wall” Versus the U.S. “Wall” Op-Ed ...      0\n",
       "33829   Pastor Caught Trump’s Spiritual Advisor Steal...      0\n",
       "33830  BOOM! SENATOR LINDSEY GRAHAM: I Have Reason to...      0\n",
       "\n",
       "[33831 rows x 2 columns]"
      ]
     },
     "execution_count": 33,
     "metadata": {},
     "output_type": "execute_result"
    }
   ],
   "source": [
    "# Shortening really long texts (above 40000 words)\n",
    "df2['text'] = df2['text'].apply(shortenLongText)\n",
    "df2 = df2.drop(columns='textlength')\n",
    "df2"
   ]
  },
  {
   "cell_type": "code",
   "execution_count": 34,
   "id": "c4c543fc",
   "metadata": {},
   "outputs": [],
   "source": [
    "# Transformer function\n",
    "def shortenOutliers(df):\n",
    "    df['text'] = df['text'].apply(shortenLongText)\n",
    "    print('Outliers removed')\n",
    "    return df"
   ]
  },
  {
   "cell_type": "markdown",
   "id": "d4b4bf9d",
   "metadata": {},
   "source": [
    "### Removing stopwords"
   ]
  },
  {
   "cell_type": "code",
   "execution_count": 35,
   "id": "995b9ffd",
   "metadata": {},
   "outputs": [],
   "source": [
    "# Stopwords removal\n",
    "stop = stopwords.words('english')\n",
    "lemmatizer = WordNetLemmatizer()\n",
    "def remove_stopwords(s):\n",
    "    s = [lemmatizer.lemmatize(word.lower()) for word in s if not word.lower() in stop]\n",
    "    return s"
   ]
  },
  {
   "cell_type": "code",
   "execution_count": 36,
   "id": "9f14d113",
   "metadata": {},
   "outputs": [],
   "source": [
    "# Punctuation and number removal\n",
    "def remove_punctuations(s):\n",
    "    s = re.sub(r'[^a-zA-Z\\s]', '', s)\n",
    "    return s"
   ]
  },
  {
   "cell_type": "code",
   "execution_count": 37,
   "id": "a9c79642",
   "metadata": {},
   "outputs": [],
   "source": [
    "df2['text'] = df2['text'].apply(remove_punctuations)\n",
    "df2['text'] = df2['text'].apply(word_tokenize)"
   ]
  },
  {
   "cell_type": "code",
   "execution_count": 38,
   "id": "f85e04c2",
   "metadata": {},
   "outputs": [],
   "source": [
    "df2['text'] = df2['text'].apply(remove_stopwords)"
   ]
  },
  {
   "cell_type": "code",
   "execution_count": 39,
   "id": "48034e92",
   "metadata": {
    "scrolled": true
   },
   "outputs": [],
   "source": [
    "def list2string(text):\n",
    "    text = \" \".join(wrd for wrd in text)\n",
    "    return text"
   ]
  },
  {
   "cell_type": "code",
   "execution_count": 40,
   "id": "39d4205f",
   "metadata": {},
   "outputs": [],
   "source": [
    "df3 = df2.copy()"
   ]
  },
  {
   "cell_type": "code",
   "execution_count": 41,
   "id": "3e3bffe2",
   "metadata": {},
   "outputs": [
    {
     "data": {
      "text/html": [
       "<div>\n",
       "<style scoped>\n",
       "    .dataframe tbody tr th:only-of-type {\n",
       "        vertical-align: middle;\n",
       "    }\n",
       "\n",
       "    .dataframe tbody tr th {\n",
       "        vertical-align: top;\n",
       "    }\n",
       "\n",
       "    .dataframe thead th {\n",
       "        text-align: right;\n",
       "    }\n",
       "</style>\n",
       "<table border=\"1\" class=\"dataframe\">\n",
       "  <thead>\n",
       "    <tr style=\"text-align: right;\">\n",
       "      <th></th>\n",
       "      <th>text</th>\n",
       "      <th>label</th>\n",
       "    </tr>\n",
       "  </thead>\n",
       "  <tbody>\n",
       "    <tr>\n",
       "      <th>0</th>\n",
       "      <td>western world respect law longer exists wester...</td>\n",
       "      <td>0</td>\n",
       "    </tr>\n",
       "    <tr>\n",
       "      <th>1</th>\n",
       "      <td>watch president obama unleashes trump say terr...</td>\n",
       "      <td>0</td>\n",
       "    </tr>\n",
       "    <tr>\n",
       "      <th>2</th>\n",
       "      <td>guy punched moldylocks speaks violent antifa f...</td>\n",
       "      <td>0</td>\n",
       "    </tr>\n",
       "    <tr>\n",
       "      <th>3</th>\n",
       "      <td>say amazon tell customer forced federal govern...</td>\n",
       "      <td>0</td>\n",
       "    </tr>\n",
       "    <tr>\n",
       "      <th>4</th>\n",
       "      <td>antigun zealot katie couric hit million defama...</td>\n",
       "      <td>0</td>\n",
       "    </tr>\n",
       "  </tbody>\n",
       "</table>\n",
       "</div>"
      ],
      "text/plain": [
       "                                                text  label\n",
       "0  western world respect law longer exists wester...      0\n",
       "1  watch president obama unleashes trump say terr...      0\n",
       "2  guy punched moldylocks speaks violent antifa f...      0\n",
       "3  say amazon tell customer forced federal govern...      0\n",
       "4  antigun zealot katie couric hit million defama...      0"
      ]
     },
     "execution_count": 41,
     "metadata": {},
     "output_type": "execute_result"
    }
   ],
   "source": [
    "df3[\"text\"] = df3[\"text\"].apply(list2string)\n",
    "df3.head()"
   ]
  },
  {
   "cell_type": "code",
   "execution_count": 42,
   "id": "7f53e0f2",
   "metadata": {},
   "outputs": [],
   "source": [
    "# Transformer function\n",
    "def removeStopwords(df):\n",
    "    df['text'] = df['text'].apply(remove_punctuations)\n",
    "    print('Punctuation removed')\n",
    "    df['text'] = df['text'].apply(word_tokenize)\n",
    "    print('Words tokenized')\n",
    "    df['text'] = df['text'].apply(remove_stopwords)\n",
    "    print('Stopwords removed')\n",
    "    df['text'] = df['text'].apply(list2string)\n",
    "    return df"
   ]
  },
  {
   "cell_type": "markdown",
   "id": "30eff8bb",
   "metadata": {},
   "source": [
    "### Extracting english"
   ]
  },
  {
   "cell_type": "code",
   "execution_count": 43,
   "id": "94e0281f",
   "metadata": {},
   "outputs": [],
   "source": [
    "def deleteUrl(text):\n",
    "    return re.sub(r'(?i)\\b((?:https?://|www\\d{0,3}[.]|[a-z0-9.\\-]+[.][a-z]{2,4}/)(?:[^\\s()<>]+|\\(([^\\s()<>]+|(\\([^\\s()<>]+\\)))*\\))+(?:\\(([^\\s()<>]+|(\\([^\\s()<>]+\\)))*\\)|[^\\s`!()\\[\\]{};:\\'\".,<>?«»“”‘’]))', '', text)"
   ]
  },
  {
   "cell_type": "code",
   "execution_count": 44,
   "id": "2689436f",
   "metadata": {},
   "outputs": [],
   "source": [
    "# Deleting URLs\n",
    "df3['text'] = df3['text'].apply(deleteUrl)"
   ]
  },
  {
   "cell_type": "code",
   "execution_count": 45,
   "id": "e45bde6f",
   "metadata": {},
   "outputs": [],
   "source": [
    "# Shorter column for language detection\n",
    "def shortenText(text):\n",
    "    return text[:60]"
   ]
  },
  {
   "cell_type": "code",
   "execution_count": 46,
   "id": "baa309c3",
   "metadata": {},
   "outputs": [],
   "source": [
    "df3['shorttext'] = df3['text'].apply(shortenText)"
   ]
  },
  {
   "cell_type": "code",
   "execution_count": 47,
   "id": "8f0ce9a3",
   "metadata": {},
   "outputs": [
    {
     "data": {
      "text/html": [
       "<div>\n",
       "<style scoped>\n",
       "    .dataframe tbody tr th:only-of-type {\n",
       "        vertical-align: middle;\n",
       "    }\n",
       "\n",
       "    .dataframe tbody tr th {\n",
       "        vertical-align: top;\n",
       "    }\n",
       "\n",
       "    .dataframe thead th {\n",
       "        text-align: right;\n",
       "    }\n",
       "</style>\n",
       "<table border=\"1\" class=\"dataframe\">\n",
       "  <thead>\n",
       "    <tr style=\"text-align: right;\">\n",
       "      <th></th>\n",
       "      <th>text</th>\n",
       "      <th>label</th>\n",
       "      <th>shorttext</th>\n",
       "    </tr>\n",
       "  </thead>\n",
       "  <tbody>\n",
       "    <tr>\n",
       "      <th>1623</th>\n",
       "      <td></td>\n",
       "      <td>0</td>\n",
       "      <td></td>\n",
       "    </tr>\n",
       "    <tr>\n",
       "      <th>2392</th>\n",
       "      <td>knew</td>\n",
       "      <td>0</td>\n",
       "      <td>knew</td>\n",
       "    </tr>\n",
       "    <tr>\n",
       "      <th>3776</th>\n",
       "      <td></td>\n",
       "      <td>0</td>\n",
       "      <td></td>\n",
       "    </tr>\n",
       "    <tr>\n",
       "      <th>4647</th>\n",
       "      <td>pravdaru</td>\n",
       "      <td>0</td>\n",
       "      <td>pravdaru</td>\n",
       "    </tr>\n",
       "    <tr>\n",
       "      <th>5302</th>\n",
       "      <td>brainer</td>\n",
       "      <td>0</td>\n",
       "      <td>brainer</td>\n",
       "    </tr>\n",
       "    <tr>\n",
       "      <th>5648</th>\n",
       "      <td>u dumb</td>\n",
       "      <td>0</td>\n",
       "      <td>u dumb</td>\n",
       "    </tr>\n",
       "    <tr>\n",
       "      <th>6112</th>\n",
       "      <td></td>\n",
       "      <td>0</td>\n",
       "      <td></td>\n",
       "    </tr>\n",
       "    <tr>\n",
       "      <th>6430</th>\n",
       "      <td>pravdaru</td>\n",
       "      <td>0</td>\n",
       "      <td>pravdaru</td>\n",
       "    </tr>\n",
       "    <tr>\n",
       "      <th>6616</th>\n",
       "      <td>brilliant</td>\n",
       "      <td>0</td>\n",
       "      <td>brilliant</td>\n",
       "    </tr>\n",
       "    <tr>\n",
       "      <th>7569</th>\n",
       "      <td>nbc news</td>\n",
       "      <td>0</td>\n",
       "      <td>nbc news</td>\n",
       "    </tr>\n",
       "    <tr>\n",
       "      <th>7837</th>\n",
       "      <td></td>\n",
       "      <td>0</td>\n",
       "      <td></td>\n",
       "    </tr>\n",
       "    <tr>\n",
       "      <th>8495</th>\n",
       "      <td>obamaland</td>\n",
       "      <td>0</td>\n",
       "      <td>obamaland</td>\n",
       "    </tr>\n",
       "    <tr>\n",
       "      <th>9041</th>\n",
       "      <td></td>\n",
       "      <td>0</td>\n",
       "      <td></td>\n",
       "    </tr>\n",
       "    <tr>\n",
       "      <th>9481</th>\n",
       "      <td></td>\n",
       "      <td>0</td>\n",
       "      <td></td>\n",
       "    </tr>\n",
       "    <tr>\n",
       "      <th>9839</th>\n",
       "      <td>brilliant</td>\n",
       "      <td>0</td>\n",
       "      <td>brilliant</td>\n",
       "    </tr>\n",
       "    <tr>\n",
       "      <th>11279</th>\n",
       "      <td></td>\n",
       "      <td>0</td>\n",
       "      <td></td>\n",
       "    </tr>\n",
       "    <tr>\n",
       "      <th>12469</th>\n",
       "      <td></td>\n",
       "      <td>0</td>\n",
       "      <td></td>\n",
       "    </tr>\n",
       "    <tr>\n",
       "      <th>12648</th>\n",
       "      <td>baldegar</td>\n",
       "      <td>0</td>\n",
       "      <td>baldegar</td>\n",
       "    </tr>\n",
       "    <tr>\n",
       "      <th>12923</th>\n",
       "      <td>pravdaru</td>\n",
       "      <td>0</td>\n",
       "      <td>pravdaru</td>\n",
       "    </tr>\n",
       "    <tr>\n",
       "      <th>14617</th>\n",
       "      <td></td>\n",
       "      <td>0</td>\n",
       "      <td></td>\n",
       "    </tr>\n",
       "    <tr>\n",
       "      <th>15523</th>\n",
       "      <td>cool</td>\n",
       "      <td>0</td>\n",
       "      <td>cool</td>\n",
       "    </tr>\n",
       "    <tr>\n",
       "      <th>16110</th>\n",
       "      <td>ii</td>\n",
       "      <td>0</td>\n",
       "      <td>ii</td>\n",
       "    </tr>\n",
       "    <tr>\n",
       "      <th>16915</th>\n",
       "      <td></td>\n",
       "      <td>0</td>\n",
       "      <td></td>\n",
       "    </tr>\n",
       "    <tr>\n",
       "      <th>17032</th>\n",
       "      <td>tonlinede</td>\n",
       "      <td>0</td>\n",
       "      <td>tonlinede</td>\n",
       "    </tr>\n",
       "    <tr>\n",
       "      <th>18718</th>\n",
       "      <td>pravda ru</td>\n",
       "      <td>0</td>\n",
       "      <td>pravda ru</td>\n",
       "    </tr>\n",
       "    <tr>\n",
       "      <th>19335</th>\n",
       "      <td>cool true</td>\n",
       "      <td>0</td>\n",
       "      <td>cool true</td>\n",
       "    </tr>\n",
       "    <tr>\n",
       "      <th>20126</th>\n",
       "      <td>trump way</td>\n",
       "      <td>0</td>\n",
       "      <td>trump way</td>\n",
       "    </tr>\n",
       "    <tr>\n",
       "      <th>21689</th>\n",
       "      <td></td>\n",
       "      <td>0</td>\n",
       "      <td></td>\n",
       "    </tr>\n",
       "    <tr>\n",
       "      <th>22320</th>\n",
       "      <td>afp</td>\n",
       "      <td>0</td>\n",
       "      <td>afp</td>\n",
       "    </tr>\n",
       "    <tr>\n",
       "      <th>22511</th>\n",
       "      <td></td>\n",
       "      <td>0</td>\n",
       "      <td></td>\n",
       "    </tr>\n",
       "    <tr>\n",
       "      <th>22705</th>\n",
       "      <td></td>\n",
       "      <td>0</td>\n",
       "      <td></td>\n",
       "    </tr>\n",
       "    <tr>\n",
       "      <th>22761</th>\n",
       "      <td>ap</td>\n",
       "      <td>0</td>\n",
       "      <td>ap</td>\n",
       "    </tr>\n",
       "    <tr>\n",
       "      <th>22978</th>\n",
       "      <td></td>\n",
       "      <td>0</td>\n",
       "      <td></td>\n",
       "    </tr>\n",
       "    <tr>\n",
       "      <th>23432</th>\n",
       "      <td></td>\n",
       "      <td>0</td>\n",
       "      <td></td>\n",
       "    </tr>\n",
       "    <tr>\n",
       "      <th>24062</th>\n",
       "      <td>pravdaru</td>\n",
       "      <td>0</td>\n",
       "      <td>pravdaru</td>\n",
       "    </tr>\n",
       "    <tr>\n",
       "      <th>24731</th>\n",
       "      <td>brilliant</td>\n",
       "      <td>0</td>\n",
       "      <td>brilliant</td>\n",
       "    </tr>\n",
       "    <tr>\n",
       "      <th>25935</th>\n",
       "      <td></td>\n",
       "      <td>0</td>\n",
       "      <td></td>\n",
       "    </tr>\n",
       "    <tr>\n",
       "      <th>25942</th>\n",
       "      <td>marc rich</td>\n",
       "      <td>0</td>\n",
       "      <td>marc rich</td>\n",
       "    </tr>\n",
       "    <tr>\n",
       "      <th>26070</th>\n",
       "      <td>rt</td>\n",
       "      <td>0</td>\n",
       "      <td>rt</td>\n",
       "    </tr>\n",
       "    <tr>\n",
       "      <th>26218</th>\n",
       "      <td>x</td>\n",
       "      <td>0</td>\n",
       "      <td>x</td>\n",
       "    </tr>\n",
       "    <tr>\n",
       "      <th>26872</th>\n",
       "      <td>liferu</td>\n",
       "      <td>0</td>\n",
       "      <td>liferu</td>\n",
       "    </tr>\n",
       "    <tr>\n",
       "      <th>28626</th>\n",
       "      <td></td>\n",
       "      <td>0</td>\n",
       "      <td></td>\n",
       "    </tr>\n",
       "    <tr>\n",
       "      <th>29381</th>\n",
       "      <td></td>\n",
       "      <td>0</td>\n",
       "      <td></td>\n",
       "    </tr>\n",
       "    <tr>\n",
       "      <th>29449</th>\n",
       "      <td></td>\n",
       "      <td>0</td>\n",
       "      <td></td>\n",
       "    </tr>\n",
       "    <tr>\n",
       "      <th>29574</th>\n",
       "      <td></td>\n",
       "      <td>0</td>\n",
       "      <td></td>\n",
       "    </tr>\n",
       "    <tr>\n",
       "      <th>30538</th>\n",
       "      <td></td>\n",
       "      <td>0</td>\n",
       "      <td></td>\n",
       "    </tr>\n",
       "    <tr>\n",
       "      <th>30627</th>\n",
       "      <td>liar</td>\n",
       "      <td>0</td>\n",
       "      <td>liar</td>\n",
       "    </tr>\n",
       "    <tr>\n",
       "      <th>31187</th>\n",
       "      <td>innocent</td>\n",
       "      <td>0</td>\n",
       "      <td>innocent</td>\n",
       "    </tr>\n",
       "    <tr>\n",
       "      <th>32772</th>\n",
       "      <td></td>\n",
       "      <td>0</td>\n",
       "      <td></td>\n",
       "    </tr>\n",
       "    <tr>\n",
       "      <th>32921</th>\n",
       "      <td></td>\n",
       "      <td>0</td>\n",
       "      <td></td>\n",
       "    </tr>\n",
       "    <tr>\n",
       "      <th>33517</th>\n",
       "      <td></td>\n",
       "      <td>0</td>\n",
       "      <td></td>\n",
       "    </tr>\n",
       "    <tr>\n",
       "      <th>33745</th>\n",
       "      <td></td>\n",
       "      <td>0</td>\n",
       "      <td></td>\n",
       "    </tr>\n",
       "  </tbody>\n",
       "</table>\n",
       "</div>"
      ],
      "text/plain": [
       "            text  label  shorttext\n",
       "1623                  0           \n",
       "2392        knew      0       knew\n",
       "3776                  0           \n",
       "4647    pravdaru      0   pravdaru\n",
       "5302     brainer      0    brainer\n",
       "5648      u dumb      0     u dumb\n",
       "6112                  0           \n",
       "6430    pravdaru      0   pravdaru\n",
       "6616   brilliant      0  brilliant\n",
       "7569    nbc news      0   nbc news\n",
       "7837                  0           \n",
       "8495   obamaland      0  obamaland\n",
       "9041                  0           \n",
       "9481                  0           \n",
       "9839   brilliant      0  brilliant\n",
       "11279                 0           \n",
       "12469                 0           \n",
       "12648   baldegar      0   baldegar\n",
       "12923   pravdaru      0   pravdaru\n",
       "14617                 0           \n",
       "15523       cool      0       cool\n",
       "16110         ii      0         ii\n",
       "16915                 0           \n",
       "17032  tonlinede      0  tonlinede\n",
       "18718  pravda ru      0  pravda ru\n",
       "19335  cool true      0  cool true\n",
       "20126  trump way      0  trump way\n",
       "21689                 0           \n",
       "22320        afp      0        afp\n",
       "22511                 0           \n",
       "22705                 0           \n",
       "22761         ap      0         ap\n",
       "22978                 0           \n",
       "23432                 0           \n",
       "24062   pravdaru      0   pravdaru\n",
       "24731  brilliant      0  brilliant\n",
       "25935                 0           \n",
       "25942  marc rich      0  marc rich\n",
       "26070         rt      0         rt\n",
       "26218          x      0          x\n",
       "26872     liferu      0     liferu\n",
       "28626                 0           \n",
       "29381                 0           \n",
       "29449                 0           \n",
       "29574                 0           \n",
       "30538                 0           \n",
       "30627       liar      0       liar\n",
       "31187   innocent      0   innocent\n",
       "32772                 0           \n",
       "32921                 0           \n",
       "33517                 0           \n",
       "33745                 0           "
      ]
     },
     "execution_count": 47,
     "metadata": {},
     "output_type": "execute_result"
    }
   ],
   "source": [
    "df3[df3['shorttext'].apply(len) < 10]"
   ]
  },
  {
   "cell_type": "code",
   "execution_count": 48,
   "id": "e3d452f0",
   "metadata": {},
   "outputs": [],
   "source": [
    "# Deleting very short texts\n",
    "df3 = df3[df3['shorttext'].apply(len) > 10]"
   ]
  },
  {
   "cell_type": "code",
   "execution_count": 49,
   "id": "65dff531",
   "metadata": {},
   "outputs": [
    {
     "data": {
      "text/html": [
       "<div>\n",
       "<style scoped>\n",
       "    .dataframe tbody tr th:only-of-type {\n",
       "        vertical-align: middle;\n",
       "    }\n",
       "\n",
       "    .dataframe tbody tr th {\n",
       "        vertical-align: top;\n",
       "    }\n",
       "\n",
       "    .dataframe thead th {\n",
       "        text-align: right;\n",
       "    }\n",
       "</style>\n",
       "<table border=\"1\" class=\"dataframe\">\n",
       "  <thead>\n",
       "    <tr style=\"text-align: right;\">\n",
       "      <th></th>\n",
       "      <th>text</th>\n",
       "      <th>label</th>\n",
       "      <th>shorttext</th>\n",
       "    </tr>\n",
       "  </thead>\n",
       "  <tbody>\n",
       "    <tr>\n",
       "      <th>0</th>\n",
       "      <td>western world respect law longer exists wester...</td>\n",
       "      <td>0</td>\n",
       "      <td>western world respect law longer exists wester...</td>\n",
       "    </tr>\n",
       "    <tr>\n",
       "      <th>1</th>\n",
       "      <td>watch president obama unleashes trump say terr...</td>\n",
       "      <td>0</td>\n",
       "      <td>watch president obama unleashes trump say terr...</td>\n",
       "    </tr>\n",
       "    <tr>\n",
       "      <th>2</th>\n",
       "      <td>guy punched moldylocks speaks violent antifa f...</td>\n",
       "      <td>0</td>\n",
       "      <td>guy punched moldylocks speaks violent antifa f...</td>\n",
       "    </tr>\n",
       "    <tr>\n",
       "      <th>3</th>\n",
       "      <td>say amazon tell customer forced federal govern...</td>\n",
       "      <td>0</td>\n",
       "      <td>say amazon tell customer forced federal govern...</td>\n",
       "    </tr>\n",
       "    <tr>\n",
       "      <th>4</th>\n",
       "      <td>antigun zealot katie couric hit million defama...</td>\n",
       "      <td>0</td>\n",
       "      <td>antigun zealot katie couric hit million defama...</td>\n",
       "    </tr>\n",
       "  </tbody>\n",
       "</table>\n",
       "</div>"
      ],
      "text/plain": [
       "                                                text  label  \\\n",
       "0  western world respect law longer exists wester...      0   \n",
       "1  watch president obama unleashes trump say terr...      0   \n",
       "2  guy punched moldylocks speaks violent antifa f...      0   \n",
       "3  say amazon tell customer forced federal govern...      0   \n",
       "4  antigun zealot katie couric hit million defama...      0   \n",
       "\n",
       "                                           shorttext  \n",
       "0  western world respect law longer exists wester...  \n",
       "1  watch president obama unleashes trump say terr...  \n",
       "2  guy punched moldylocks speaks violent antifa f...  \n",
       "3  say amazon tell customer forced federal govern...  \n",
       "4  antigun zealot katie couric hit million defama...  "
      ]
     },
     "execution_count": 49,
     "metadata": {},
     "output_type": "execute_result"
    }
   ],
   "source": [
    "df3.head()"
   ]
  },
  {
   "cell_type": "code",
   "execution_count": 50,
   "id": "7047614e",
   "metadata": {},
   "outputs": [],
   "source": [
    "df4 = df3.copy()"
   ]
  },
  {
   "cell_type": "code",
   "execution_count": 59,
   "id": "210fefb4",
   "metadata": {},
   "outputs": [
    {
     "data": {
      "text/html": [
       "<div>\n",
       "<style scoped>\n",
       "    .dataframe tbody tr th:only-of-type {\n",
       "        vertical-align: middle;\n",
       "    }\n",
       "\n",
       "    .dataframe tbody tr th {\n",
       "        vertical-align: top;\n",
       "    }\n",
       "\n",
       "    .dataframe thead th {\n",
       "        text-align: right;\n",
       "    }\n",
       "</style>\n",
       "<table border=\"1\" class=\"dataframe\">\n",
       "  <thead>\n",
       "    <tr style=\"text-align: right;\">\n",
       "      <th></th>\n",
       "      <th>text</th>\n",
       "      <th>label</th>\n",
       "      <th>shorttext</th>\n",
       "    </tr>\n",
       "  </thead>\n",
       "  <tbody>\n",
       "    <tr>\n",
       "      <th>0</th>\n",
       "      <td>western world respect law longer exists wester...</td>\n",
       "      <td>0</td>\n",
       "      <td>western world respect law longer exists wester...</td>\n",
       "    </tr>\n",
       "    <tr>\n",
       "      <th>1</th>\n",
       "      <td>watch president obama unleashes trump say terr...</td>\n",
       "      <td>0</td>\n",
       "      <td>watch president obama unleashes trump say terr...</td>\n",
       "    </tr>\n",
       "    <tr>\n",
       "      <th>2</th>\n",
       "      <td>guy punched moldylocks speaks violent antifa f...</td>\n",
       "      <td>0</td>\n",
       "      <td>guy punched moldylocks speaks violent antifa f...</td>\n",
       "    </tr>\n",
       "    <tr>\n",
       "      <th>3</th>\n",
       "      <td>say amazon tell customer forced federal govern...</td>\n",
       "      <td>0</td>\n",
       "      <td>say amazon tell customer forced federal govern...</td>\n",
       "    </tr>\n",
       "    <tr>\n",
       "      <th>4</th>\n",
       "      <td>antigun zealot katie couric hit million defama...</td>\n",
       "      <td>0</td>\n",
       "      <td>antigun zealot katie couric hit million defama...</td>\n",
       "    </tr>\n",
       "    <tr>\n",
       "      <th>...</th>\n",
       "      <td>...</td>\n",
       "      <td>...</td>\n",
       "      <td>...</td>\n",
       "    </tr>\n",
       "    <tr>\n",
       "      <th>33826</th>\n",
       "      <td>state attorney lied baltimore police probable ...</td>\n",
       "      <td>0</td>\n",
       "      <td>state attorney lied baltimore police probable ...</td>\n",
       "    </tr>\n",
       "    <tr>\n",
       "      <th>33827</th>\n",
       "      <td>russia denies plane killed civilian syria deir...</td>\n",
       "      <td>1</td>\n",
       "      <td>russia denies plane killed civilian syria deir...</td>\n",
       "    </tr>\n",
       "    <tr>\n",
       "      <th>33828</th>\n",
       "      <td>hungary wall versus u wall oped catherine j fr...</td>\n",
       "      <td>0</td>\n",
       "      <td>hungary wall versus u wall oped catherine j fr...</td>\n",
       "    </tr>\n",
       "    <tr>\n",
       "      <th>33829</th>\n",
       "      <td>pastor caught trump spiritual advisor stealing...</td>\n",
       "      <td>0</td>\n",
       "      <td>pastor caught trump spiritual advisor stealing...</td>\n",
       "    </tr>\n",
       "    <tr>\n",
       "      <th>33830</th>\n",
       "      <td>boom senator lindsey graham reason believe cli...</td>\n",
       "      <td>0</td>\n",
       "      <td>boom senator lindsey graham reason believe cli...</td>\n",
       "    </tr>\n",
       "  </tbody>\n",
       "</table>\n",
       "<p>33778 rows × 3 columns</p>\n",
       "</div>"
      ],
      "text/plain": [
       "                                                    text  label  \\\n",
       "0      western world respect law longer exists wester...      0   \n",
       "1      watch president obama unleashes trump say terr...      0   \n",
       "2      guy punched moldylocks speaks violent antifa f...      0   \n",
       "3      say amazon tell customer forced federal govern...      0   \n",
       "4      antigun zealot katie couric hit million defama...      0   \n",
       "...                                                  ...    ...   \n",
       "33826  state attorney lied baltimore police probable ...      0   \n",
       "33827  russia denies plane killed civilian syria deir...      1   \n",
       "33828  hungary wall versus u wall oped catherine j fr...      0   \n",
       "33829  pastor caught trump spiritual advisor stealing...      0   \n",
       "33830  boom senator lindsey graham reason believe cli...      0   \n",
       "\n",
       "                                               shorttext  \n",
       "0      western world respect law longer exists wester...  \n",
       "1      watch president obama unleashes trump say terr...  \n",
       "2      guy punched moldylocks speaks violent antifa f...  \n",
       "3      say amazon tell customer forced federal govern...  \n",
       "4      antigun zealot katie couric hit million defama...  \n",
       "...                                                  ...  \n",
       "33826  state attorney lied baltimore police probable ...  \n",
       "33827  russia denies plane killed civilian syria deir...  \n",
       "33828  hungary wall versus u wall oped catherine j fr...  \n",
       "33829  pastor caught trump spiritual advisor stealing...  \n",
       "33830  boom senator lindsey graham reason believe cli...  \n",
       "\n",
       "[33778 rows x 3 columns]"
      ]
     },
     "execution_count": 59,
     "metadata": {},
     "output_type": "execute_result"
    }
   ],
   "source": [
    "df_not_ang = df3.copy()\n",
    "df_not_ang"
   ]
  },
  {
   "cell_type": "code",
   "execution_count": 60,
   "id": "2f878e67",
   "metadata": {},
   "outputs": [],
   "source": [
    "DetectorFactory.seed = 0\n",
    "df_not_ang['lang'] = df_not_ang['shorttext'].apply(detect)"
   ]
  },
  {
   "cell_type": "code",
   "execution_count": 61,
   "id": "9befe194",
   "metadata": {},
   "outputs": [],
   "source": [
    "df_not_ang_KOPIA = df_not_ang.copy()"
   ]
  },
  {
   "cell_type": "code",
   "execution_count": 62,
   "id": "e781bf32",
   "metadata": {},
   "outputs": [
    {
     "data": {
      "text/html": [
       "<div>\n",
       "<style scoped>\n",
       "    .dataframe tbody tr th:only-of-type {\n",
       "        vertical-align: middle;\n",
       "    }\n",
       "\n",
       "    .dataframe tbody tr th {\n",
       "        vertical-align: top;\n",
       "    }\n",
       "\n",
       "    .dataframe thead th {\n",
       "        text-align: right;\n",
       "    }\n",
       "</style>\n",
       "<table border=\"1\" class=\"dataframe\">\n",
       "  <thead>\n",
       "    <tr style=\"text-align: right;\">\n",
       "      <th></th>\n",
       "      <th>text</th>\n",
       "      <th>label</th>\n",
       "      <th>shorttext</th>\n",
       "      <th>lang</th>\n",
       "    </tr>\n",
       "  </thead>\n",
       "  <tbody>\n",
       "    <tr>\n",
       "      <th>0</th>\n",
       "      <td>western world respect law longer exists wester...</td>\n",
       "      <td>0</td>\n",
       "      <td>western world respect law longer exists wester...</td>\n",
       "      <td>en</td>\n",
       "    </tr>\n",
       "    <tr>\n",
       "      <th>1</th>\n",
       "      <td>watch president obama unleashes trump say terr...</td>\n",
       "      <td>0</td>\n",
       "      <td>watch president obama unleashes trump say terr...</td>\n",
       "      <td>en</td>\n",
       "    </tr>\n",
       "    <tr>\n",
       "      <th>2</th>\n",
       "      <td>guy punched moldylocks speaks violent antifa f...</td>\n",
       "      <td>0</td>\n",
       "      <td>guy punched moldylocks speaks violent antifa f...</td>\n",
       "      <td>en</td>\n",
       "    </tr>\n",
       "    <tr>\n",
       "      <th>3</th>\n",
       "      <td>say amazon tell customer forced federal govern...</td>\n",
       "      <td>0</td>\n",
       "      <td>say amazon tell customer forced federal govern...</td>\n",
       "      <td>en</td>\n",
       "    </tr>\n",
       "    <tr>\n",
       "      <th>4</th>\n",
       "      <td>antigun zealot katie couric hit million defama...</td>\n",
       "      <td>0</td>\n",
       "      <td>antigun zealot katie couric hit million defama...</td>\n",
       "      <td>fr</td>\n",
       "    </tr>\n",
       "    <tr>\n",
       "      <th>...</th>\n",
       "      <td>...</td>\n",
       "      <td>...</td>\n",
       "      <td>...</td>\n",
       "      <td>...</td>\n",
       "    </tr>\n",
       "    <tr>\n",
       "      <th>33826</th>\n",
       "      <td>state attorney lied baltimore police probable ...</td>\n",
       "      <td>0</td>\n",
       "      <td>state attorney lied baltimore police probable ...</td>\n",
       "      <td>en</td>\n",
       "    </tr>\n",
       "    <tr>\n",
       "      <th>33827</th>\n",
       "      <td>russia denies plane killed civilian syria deir...</td>\n",
       "      <td>1</td>\n",
       "      <td>russia denies plane killed civilian syria deir...</td>\n",
       "      <td>ca</td>\n",
       "    </tr>\n",
       "    <tr>\n",
       "      <th>33828</th>\n",
       "      <td>hungary wall versus u wall oped catherine j fr...</td>\n",
       "      <td>0</td>\n",
       "      <td>hungary wall versus u wall oped catherine j fr...</td>\n",
       "      <td>en</td>\n",
       "    </tr>\n",
       "    <tr>\n",
       "      <th>33829</th>\n",
       "      <td>pastor caught trump spiritual advisor stealing...</td>\n",
       "      <td>0</td>\n",
       "      <td>pastor caught trump spiritual advisor stealing...</td>\n",
       "      <td>en</td>\n",
       "    </tr>\n",
       "    <tr>\n",
       "      <th>33830</th>\n",
       "      <td>boom senator lindsey graham reason believe cli...</td>\n",
       "      <td>0</td>\n",
       "      <td>boom senator lindsey graham reason believe cli...</td>\n",
       "      <td>en</td>\n",
       "    </tr>\n",
       "  </tbody>\n",
       "</table>\n",
       "<p>33778 rows × 4 columns</p>\n",
       "</div>"
      ],
      "text/plain": [
       "                                                    text  label  \\\n",
       "0      western world respect law longer exists wester...      0   \n",
       "1      watch president obama unleashes trump say terr...      0   \n",
       "2      guy punched moldylocks speaks violent antifa f...      0   \n",
       "3      say amazon tell customer forced federal govern...      0   \n",
       "4      antigun zealot katie couric hit million defama...      0   \n",
       "...                                                  ...    ...   \n",
       "33826  state attorney lied baltimore police probable ...      0   \n",
       "33827  russia denies plane killed civilian syria deir...      1   \n",
       "33828  hungary wall versus u wall oped catherine j fr...      0   \n",
       "33829  pastor caught trump spiritual advisor stealing...      0   \n",
       "33830  boom senator lindsey graham reason believe cli...      0   \n",
       "\n",
       "                                               shorttext lang  \n",
       "0      western world respect law longer exists wester...   en  \n",
       "1      watch president obama unleashes trump say terr...   en  \n",
       "2      guy punched moldylocks speaks violent antifa f...   en  \n",
       "3      say amazon tell customer forced federal govern...   en  \n",
       "4      antigun zealot katie couric hit million defama...   fr  \n",
       "...                                                  ...  ...  \n",
       "33826  state attorney lied baltimore police probable ...   en  \n",
       "33827  russia denies plane killed civilian syria deir...   ca  \n",
       "33828  hungary wall versus u wall oped catherine j fr...   en  \n",
       "33829  pastor caught trump spiritual advisor stealing...   en  \n",
       "33830  boom senator lindsey graham reason believe cli...   en  \n",
       "\n",
       "[33778 rows x 4 columns]"
      ]
     },
     "execution_count": 62,
     "metadata": {},
     "output_type": "execute_result"
    }
   ],
   "source": [
    "df_not_ang"
   ]
  },
  {
   "cell_type": "code",
   "execution_count": 63,
   "id": "8dfa92a3",
   "metadata": {},
   "outputs": [],
   "source": [
    "df_not_ang = df_not_ang[df_not_ang['lang']!='en']"
   ]
  },
  {
   "cell_type": "code",
   "execution_count": 71,
   "id": "002225b3",
   "metadata": {},
   "outputs": [],
   "source": [
    "df_not_ang = df_not_ang[['text', 'label', 'shorttext']].reset_index(drop=True)"
   ]
  },
  {
   "cell_type": "code",
   "execution_count": 73,
   "id": "e213433d",
   "metadata": {},
   "outputs": [
    {
     "data": {
      "text/plain": [
       "label\n",
       "0        20592\n",
       "1        13186\n",
       "dtype: int64"
      ]
     },
     "execution_count": 73,
     "metadata": {},
     "output_type": "execute_result"
    }
   ],
   "source": [
    "df_not_ang[['label']].value_counts()"
   ]
  },
  {
   "cell_type": "code",
   "execution_count": 74,
   "id": "a7dd02bb",
   "metadata": {},
   "outputs": [],
   "source": [
    "DetectorFactory.seed = 0\n",
    "df_not_ang['lang'] = df_not_ang['shorttext'].apply(detect)"
   ]
  },
  {
   "cell_type": "code",
   "execution_count": 83,
   "id": "d301dc13",
   "metadata": {},
   "outputs": [],
   "source": [
    "df4 = df_not_ang"
   ]
  },
  {
   "cell_type": "code",
   "execution_count": 80,
   "id": "07db5ba7",
   "metadata": {},
   "outputs": [],
   "source": [
    "# robimy model który będzie wykrywał po angielsku\n",
    "df4 = df4[df4['lang']=='en']"
   ]
  },
  {
   "cell_type": "code",
   "execution_count": 84,
   "id": "2119bc0c",
   "metadata": {},
   "outputs": [
    {
     "data": {
      "text/html": [
       "<div>\n",
       "<style scoped>\n",
       "    .dataframe tbody tr th:only-of-type {\n",
       "        vertical-align: middle;\n",
       "    }\n",
       "\n",
       "    .dataframe tbody tr th {\n",
       "        vertical-align: top;\n",
       "    }\n",
       "\n",
       "    .dataframe thead th {\n",
       "        text-align: right;\n",
       "    }\n",
       "</style>\n",
       "<table border=\"1\" class=\"dataframe\">\n",
       "  <thead>\n",
       "    <tr style=\"text-align: right;\">\n",
       "      <th></th>\n",
       "      <th>text</th>\n",
       "      <th>label</th>\n",
       "    </tr>\n",
       "  </thead>\n",
       "  <tbody>\n",
       "    <tr>\n",
       "      <th>0</th>\n",
       "      <td>western world respect law longer exists wester...</td>\n",
       "      <td>0</td>\n",
       "    </tr>\n",
       "    <tr>\n",
       "      <th>1</th>\n",
       "      <td>watch president obama unleashes trump say terr...</td>\n",
       "      <td>0</td>\n",
       "    </tr>\n",
       "    <tr>\n",
       "      <th>2</th>\n",
       "      <td>guy punched moldylocks speaks violent antifa f...</td>\n",
       "      <td>0</td>\n",
       "    </tr>\n",
       "    <tr>\n",
       "      <th>3</th>\n",
       "      <td>say amazon tell customer forced federal govern...</td>\n",
       "      <td>0</td>\n",
       "    </tr>\n",
       "    <tr>\n",
       "      <th>4</th>\n",
       "      <td>antigun zealot katie couric hit million defama...</td>\n",
       "      <td>0</td>\n",
       "    </tr>\n",
       "    <tr>\n",
       "      <th>...</th>\n",
       "      <td>...</td>\n",
       "      <td>...</td>\n",
       "    </tr>\n",
       "    <tr>\n",
       "      <th>33773</th>\n",
       "      <td>state attorney lied baltimore police probable ...</td>\n",
       "      <td>0</td>\n",
       "    </tr>\n",
       "    <tr>\n",
       "      <th>33774</th>\n",
       "      <td>russia denies plane killed civilian syria deir...</td>\n",
       "      <td>1</td>\n",
       "    </tr>\n",
       "    <tr>\n",
       "      <th>33775</th>\n",
       "      <td>hungary wall versus u wall oped catherine j fr...</td>\n",
       "      <td>0</td>\n",
       "    </tr>\n",
       "    <tr>\n",
       "      <th>33776</th>\n",
       "      <td>pastor caught trump spiritual advisor stealing...</td>\n",
       "      <td>0</td>\n",
       "    </tr>\n",
       "    <tr>\n",
       "      <th>33777</th>\n",
       "      <td>boom senator lindsey graham reason believe cli...</td>\n",
       "      <td>0</td>\n",
       "    </tr>\n",
       "  </tbody>\n",
       "</table>\n",
       "<p>33778 rows × 2 columns</p>\n",
       "</div>"
      ],
      "text/plain": [
       "                                                    text  label\n",
       "0      western world respect law longer exists wester...      0\n",
       "1      watch president obama unleashes trump say terr...      0\n",
       "2      guy punched moldylocks speaks violent antifa f...      0\n",
       "3      say amazon tell customer forced federal govern...      0\n",
       "4      antigun zealot katie couric hit million defama...      0\n",
       "...                                                  ...    ...\n",
       "33773  state attorney lied baltimore police probable ...      0\n",
       "33774  russia denies plane killed civilian syria deir...      1\n",
       "33775  hungary wall versus u wall oped catherine j fr...      0\n",
       "33776  pastor caught trump spiritual advisor stealing...      0\n",
       "33777  boom senator lindsey graham reason believe cli...      0\n",
       "\n",
       "[33778 rows x 2 columns]"
      ]
     },
     "execution_count": 84,
     "metadata": {},
     "output_type": "execute_result"
    }
   ],
   "source": [
    "df4 = df4[['text', 'label']].reset_index(drop=True)\n",
    "df4"
   ]
  },
  {
   "cell_type": "code",
   "execution_count": 85,
   "id": "5c7713a9",
   "metadata": {},
   "outputs": [],
   "source": [
    "#transformer function\n",
    "def dropLanguages(df):\n",
    "    DetectorFactory.seed = 0\n",
    "    df['text'] = df['text'].apply(deleteUrl)\n",
    "    df['shorttext'] = df['text'].apply(shortenText)\n",
    "    df = df[df['shorttext'].apply(len) > 10]\n",
    "    print('Text cleaned')\n",
    "    df['lang'] = df['shorttext'].apply(detect)\n",
    "    df = df[df['lang']=='en']\n",
    "    df = df.drop(columns=['shorttext', 'lang'])\n",
    "    print('Languages dropped')\n",
    "    return df"
   ]
  },
  {
   "cell_type": "code",
   "execution_count": 86,
   "id": "3fbdb0e8",
   "metadata": {},
   "outputs": [],
   "source": [
    "# żeby zapisać dane\n",
    "df4.to_csv('train_data.csv', index=False)"
   ]
  },
  {
   "cell_type": "markdown",
   "id": "9c587f2f",
   "metadata": {},
   "source": [
    "### Word Cloud"
   ]
  },
  {
   "cell_type": "code",
   "execution_count": 87,
   "id": "60e13b91",
   "metadata": {},
   "outputs": [],
   "source": [
    "df_fake = df4[df4[\"label\"] == 0]\n",
    "df_true = df4[df4[\"label\"] == 1]"
   ]
  },
  {
   "cell_type": "code",
   "execution_count": 88,
   "id": "720a69ee",
   "metadata": {},
   "outputs": [
    {
     "data": {
      "image/png": "[encoded data removed]",
      "text/plain": [
       "<Figure size 640x480 with 1 Axes>"
      ]
     },
     "metadata": {},
     "output_type": "display_data"
    }
   ],
   "source": [
    "# Fałszywe\n",
    "consolidated_f = ' '.join(\n",
    "    word for word in df_fake['text'].astype(str))\n",
    "wordcloud = WordCloud().generate(consolidated_f)\n",
    "plt.imshow(wordcloud, interpolation='bilinear')\n",
    "plt.axis(\"off\")\n",
    "plt.show()"
   ]
  },
  {
   "cell_type": "code",
   "execution_count": 89,
   "id": "b172e4c0",
   "metadata": {
    "scrolled": true
   },
   "outputs": [
    {
     "data": {
      "image/png": "[encoded data removed]",
      "text/plain": [
       "<Figure size 640x480 with 1 Axes>"
      ]
     },
     "metadata": {},
     "output_type": "display_data"
    }
   ],
   "source": [
    "# Prawdziwe\n",
    "consolidated_t = ' '.join(\n",
    "    word for word in df_true['text'].astype(str))\n",
    "wordcloud = WordCloud().generate(consolidated_t)\n",
    "plt.imshow(wordcloud, interpolation='bilinear')\n",
    "plt.axis(\"off\")\n",
    "plt.show()"
   ]
  },
  {
   "cell_type": "code",
   "execution_count": null,
   "id": "55297db4",
   "metadata": {},
   "outputs": [],
   "source": [
    "#df4 = pd.read_csv('train_data.csv')"
   ]
  },
  {
   "cell_type": "code",
   "execution_count": 90,
   "id": "7f08f86e",
   "metadata": {},
   "outputs": [],
   "source": [
    "# Bag of words - liczba wystąpień każdego słowa w danym tekście\n",
    "count_vect = CountVectorizer()\n",
    "X_train_counts = count_vect.fit_transform(df4['text'])"
   ]
  },
  {
   "cell_type": "code",
   "execution_count": 91,
   "id": "7aaac33d",
   "metadata": {},
   "outputs": [],
   "source": [
    "# Zamiana częstości w częstotliwość wystąpień\n",
    "tfidf_transformer = TfidfTransformer()\n",
    "X_train_tfidf = tfidf_transformer.fit_transform(X_train_counts)"
   ]
  },
  {
   "cell_type": "code",
   "execution_count": 92,
   "id": "9841ed3f",
   "metadata": {},
   "outputs": [
    {
     "data": {
      "text/plain": [
       "(33778, 209332)"
      ]
     },
     "execution_count": 92,
     "metadata": {},
     "output_type": "execute_result"
    }
   ],
   "source": [
    "X_train_tfidf.shape"
   ]
  },
  {
   "cell_type": "markdown",
   "id": "4696ddf8",
   "metadata": {},
   "source": [
    "## Pipeline"
   ]
  },
  {
   "cell_type": "code",
   "execution_count": 93,
   "id": "00e2560f",
   "metadata": {},
   "outputs": [],
   "source": [
    "from sklearn.preprocessing import FunctionTransformer\n",
    "from sklearn.pipeline import Pipeline\n",
    "\n",
    "na_transformer = FunctionTransformer(handleNa)\n",
    "column_transformer = FunctionTransformer(combineColumns)\n",
    "outliers_transformer = FunctionTransformer(shortenOutliers)\n",
    "stopwords_transformer = FunctionTransformer(removeStopwords)\n",
    "language_transformer = FunctionTransformer(dropLanguages)\n",
    "\n",
    "custom_pipe = Pipeline([\n",
    "    (\"na\", na_transformer),\n",
    "    ('columns', column_transformer),\n",
    "    ('outliers', outliers_transformer),\n",
    "    (\"stopwords\", stopwords_transformer),\n",
    "    (\"language\", language_transformer),\n",
    "])"
   ]
  },
  {
   "cell_type": "code",
   "execution_count": 94,
   "id": "6e904402",
   "metadata": {},
   "outputs": [],
   "source": [
    "train = pd.read_csv('training_data.csv', index_col=False)"
   ]
  },
  {
   "cell_type": "code",
   "execution_count": 95,
   "id": "b4280492",
   "metadata": {
    "scrolled": false
   },
   "outputs": [
    {
     "data": {
      "text/html": [
       "<div>\n",
       "<style scoped>\n",
       "    .dataframe tbody tr th:only-of-type {\n",
       "        vertical-align: middle;\n",
       "    }\n",
       "\n",
       "    .dataframe tbody tr th {\n",
       "        vertical-align: top;\n",
       "    }\n",
       "\n",
       "    .dataframe thead th {\n",
       "        text-align: right;\n",
       "    }\n",
       "</style>\n",
       "<table border=\"1\" class=\"dataframe\">\n",
       "  <thead>\n",
       "    <tr style=\"text-align: right;\">\n",
       "      <th></th>\n",
       "      <th>title</th>\n",
       "      <th>text</th>\n",
       "      <th>label</th>\n",
       "    </tr>\n",
       "  </thead>\n",
       "  <tbody>\n",
       "    <tr>\n",
       "      <th>0</th>\n",
       "      <td>In the Western World Respect for Law No Longer...</td>\n",
       "      <td>In the Western World Respect for Law No Longer...</td>\n",
       "      <td>fake</td>\n",
       "    </tr>\n",
       "    <tr>\n",
       "      <th>1</th>\n",
       "      <td>WATCH: President Obama Unleashes On Trump, Sa...</td>\n",
       "      <td>During an interview on CBS s Face the Nation S...</td>\n",
       "      <td>fake</td>\n",
       "    </tr>\n",
       "    <tr>\n",
       "      <th>2</th>\n",
       "      <td>THE GUY WHO Punched “Moldylocks” Speaks Out Ab...</td>\n",
       "      <td>Nathan Domingo is the founder of  Identity Eur...</td>\n",
       "      <td>fake</td>\n",
       "    </tr>\n",
       "    <tr>\n",
       "      <th>3</th>\n",
       "      <td>SAY WHAT? AMAZON TELLS CUSTOMER THEY WERE FORC...</td>\n",
       "      <td>When it comes to limiting our free speech, not...</td>\n",
       "      <td>fake</td>\n",
       "    </tr>\n",
       "    <tr>\n",
       "      <th>4</th>\n",
       "      <td>ANTI-GUN Zealot KATIE COURIC Hit With $12 MILL...</td>\n",
       "      <td>Little Miss Sunshine  has fooled a lot of peo...</td>\n",
       "      <td>fake</td>\n",
       "    </tr>\n",
       "    <tr>\n",
       "      <th>...</th>\n",
       "      <td>...</td>\n",
       "      <td>...</td>\n",
       "      <td>...</td>\n",
       "    </tr>\n",
       "    <tr>\n",
       "      <th>33826</th>\n",
       "      <td>STATE’S ATTORNEY LIED: BALTIMORE POLICE HAD PR...</td>\n",
       "      <td>Marilyn Mosby held a press conference today in...</td>\n",
       "      <td>fake</td>\n",
       "    </tr>\n",
       "    <tr>\n",
       "      <th>33827</th>\n",
       "      <td>Russia denies its planes killed civilians in S...</td>\n",
       "      <td>MOSCOW (Reuters) - Russia s Defence Ministry d...</td>\n",
       "      <td>true</td>\n",
       "    </tr>\n",
       "    <tr>\n",
       "      <th>33828</th>\n",
       "      <td>Hungary’s “Wall” Versus the U.S. “Wall”</td>\n",
       "      <td>Op-Ed by Catherine J. Frompovich\\r\\nCurrently ...</td>\n",
       "      <td>fake</td>\n",
       "    </tr>\n",
       "    <tr>\n",
       "      <th>33829</th>\n",
       "      <td>Pastor Caught Trump’s Spiritual Advisor Steal...</td>\n",
       "      <td>It seems that Donald Trump s spiritual advisor...</td>\n",
       "      <td>fake</td>\n",
       "    </tr>\n",
       "    <tr>\n",
       "      <th>33830</th>\n",
       "      <td>BOOM! SENATOR LINDSEY GRAHAM: I Have Reason to...</td>\n",
       "      <td>Senator Lindsey Graham:  I have reason to beli...</td>\n",
       "      <td>fake</td>\n",
       "    </tr>\n",
       "  </tbody>\n",
       "</table>\n",
       "<p>33831 rows × 3 columns</p>\n",
       "</div>"
      ],
      "text/plain": [
       "                                                   title  \\\n",
       "0      In the Western World Respect for Law No Longer...   \n",
       "1       WATCH: President Obama Unleashes On Trump, Sa...   \n",
       "2      THE GUY WHO Punched “Moldylocks” Speaks Out Ab...   \n",
       "3      SAY WHAT? AMAZON TELLS CUSTOMER THEY WERE FORC...   \n",
       "4      ANTI-GUN Zealot KATIE COURIC Hit With $12 MILL...   \n",
       "...                                                  ...   \n",
       "33826  STATE’S ATTORNEY LIED: BALTIMORE POLICE HAD PR...   \n",
       "33827  Russia denies its planes killed civilians in S...   \n",
       "33828            Hungary’s “Wall” Versus the U.S. “Wall”   \n",
       "33829   Pastor Caught Trump’s Spiritual Advisor Steal...   \n",
       "33830  BOOM! SENATOR LINDSEY GRAHAM: I Have Reason to...   \n",
       "\n",
       "                                                    text label  \n",
       "0      In the Western World Respect for Law No Longer...  fake  \n",
       "1      During an interview on CBS s Face the Nation S...  fake  \n",
       "2      Nathan Domingo is the founder of  Identity Eur...  fake  \n",
       "3      When it comes to limiting our free speech, not...  fake  \n",
       "4       Little Miss Sunshine  has fooled a lot of peo...  fake  \n",
       "...                                                  ...   ...  \n",
       "33826  Marilyn Mosby held a press conference today in...  fake  \n",
       "33827  MOSCOW (Reuters) - Russia s Defence Ministry d...  true  \n",
       "33828  Op-Ed by Catherine J. Frompovich\\r\\nCurrently ...  fake  \n",
       "33829  It seems that Donald Trump s spiritual advisor...  fake  \n",
       "33830  Senator Lindsey Graham:  I have reason to beli...  fake  \n",
       "\n",
       "[33831 rows x 3 columns]"
      ]
     },
     "execution_count": 95,
     "metadata": {},
     "output_type": "execute_result"
    }
   ],
   "source": [
    "train"
   ]
  },
  {
   "cell_type": "code",
   "execution_count": 96,
   "id": "595f6cac",
   "metadata": {},
   "outputs": [],
   "source": [
    "train = encodeLabels(train)"
   ]
  },
  {
   "cell_type": "code",
   "execution_count": 97,
   "id": "8561f4b8",
   "metadata": {},
   "outputs": [
    {
     "name": "stdout",
     "output_type": "stream",
     "text": [
      "NaNs replaced\n",
      "Columns combined\n",
      "Outliers removed\n",
      "Punctuation removed\n",
      "Words tokenized\n",
      "Stopwords removed\n",
      "Text cleaned\n",
      "Languages dropped\n"
     ]
    },
    {
     "name": "stderr",
     "output_type": "stream",
     "text": [
      "C:\\Users\\Aleks\\AppData\\Local\\Temp\\ipykernel_23716\\446988254.py:8: SettingWithCopyWarning: \n",
      "A value is trying to be set on a copy of a slice from a DataFrame.\n",
      "Try using .loc[row_indexer,col_indexer] = value instead\n",
      "\n",
      "See the caveats in the documentation: https://pandas.pydata.org/pandas-docs/stable/user_guide/indexing.html#returning-a-view-versus-a-copy\n",
      "  df['lang'] = df['shorttext'].apply(detect)\n"
     ]
    }
   ],
   "source": [
    "train_transformed = custom_pipe.transform(train)"
   ]
  },
  {
   "cell_type": "code",
   "execution_count": 98,
   "id": "27d631f5",
   "metadata": {},
   "outputs": [
    {
     "data": {
      "text/html": [
       "<div>\n",
       "<style scoped>\n",
       "    .dataframe tbody tr th:only-of-type {\n",
       "        vertical-align: middle;\n",
       "    }\n",
       "\n",
       "    .dataframe tbody tr th {\n",
       "        vertical-align: top;\n",
       "    }\n",
       "\n",
       "    .dataframe thead th {\n",
       "        text-align: right;\n",
       "    }\n",
       "</style>\n",
       "<table border=\"1\" class=\"dataframe\">\n",
       "  <thead>\n",
       "    <tr style=\"text-align: right;\">\n",
       "      <th></th>\n",
       "      <th>text</th>\n",
       "      <th>label</th>\n",
       "    </tr>\n",
       "  </thead>\n",
       "  <tbody>\n",
       "    <tr>\n",
       "      <th>0</th>\n",
       "      <td>western world respect law longer exists wester...</td>\n",
       "      <td>0</td>\n",
       "    </tr>\n",
       "    <tr>\n",
       "      <th>1</th>\n",
       "      <td>watch president obama unleashes trump say terr...</td>\n",
       "      <td>0</td>\n",
       "    </tr>\n",
       "    <tr>\n",
       "      <th>2</th>\n",
       "      <td>guy punched moldylocks speaks violent antifa f...</td>\n",
       "      <td>0</td>\n",
       "    </tr>\n",
       "    <tr>\n",
       "      <th>3</th>\n",
       "      <td>say amazon tell customer forced federal govern...</td>\n",
       "      <td>0</td>\n",
       "    </tr>\n",
       "    <tr>\n",
       "      <th>5</th>\n",
       "      <td>trump crisis lewd remark woman come light new ...</td>\n",
       "      <td>1</td>\n",
       "    </tr>\n",
       "    <tr>\n",
       "      <th>...</th>\n",
       "      <td>...</td>\n",
       "      <td>...</td>\n",
       "    </tr>\n",
       "    <tr>\n",
       "      <th>33825</th>\n",
       "      <td>trump give brutal warning lawless sanctuary ci...</td>\n",
       "      <td>0</td>\n",
       "    </tr>\n",
       "    <tr>\n",
       "      <th>33826</th>\n",
       "      <td>state attorney lied baltimore police probable ...</td>\n",
       "      <td>0</td>\n",
       "    </tr>\n",
       "    <tr>\n",
       "      <th>33828</th>\n",
       "      <td>hungary wall versus u wall oped catherine j fr...</td>\n",
       "      <td>0</td>\n",
       "    </tr>\n",
       "    <tr>\n",
       "      <th>33829</th>\n",
       "      <td>pastor caught trump spiritual advisor stealing...</td>\n",
       "      <td>0</td>\n",
       "    </tr>\n",
       "    <tr>\n",
       "      <th>33830</th>\n",
       "      <td>boom senator lindsey graham reason believe cli...</td>\n",
       "      <td>0</td>\n",
       "    </tr>\n",
       "  </tbody>\n",
       "</table>\n",
       "<p>29380 rows × 2 columns</p>\n",
       "</div>"
      ],
      "text/plain": [
       "                                                    text  label\n",
       "0      western world respect law longer exists wester...      0\n",
       "1      watch president obama unleashes trump say terr...      0\n",
       "2      guy punched moldylocks speaks violent antifa f...      0\n",
       "3      say amazon tell customer forced federal govern...      0\n",
       "5      trump crisis lewd remark woman come light new ...      1\n",
       "...                                                  ...    ...\n",
       "33825  trump give brutal warning lawless sanctuary ci...      0\n",
       "33826  state attorney lied baltimore police probable ...      0\n",
       "33828  hungary wall versus u wall oped catherine j fr...      0\n",
       "33829  pastor caught trump spiritual advisor stealing...      0\n",
       "33830  boom senator lindsey graham reason believe cli...      0\n",
       "\n",
       "[29380 rows x 2 columns]"
      ]
     },
     "execution_count": 98,
     "metadata": {},
     "output_type": "execute_result"
    }
   ],
   "source": [
    "train_transformed"
   ]
  },
  {
   "cell_type": "code",
   "execution_count": 99,
   "id": "622a5d0f",
   "metadata": {},
   "outputs": [],
   "source": [
    "train_transformed_x = train_transformed['text']\n",
    "train_transformed_y = train_transformed['label']"
   ]
  },
  {
   "cell_type": "markdown",
   "id": "caaf2520",
   "metadata": {},
   "source": [
    "### Transforming testing dataset"
   ]
  },
  {
   "cell_type": "code",
   "execution_count": 100,
   "id": "b135ca89",
   "metadata": {},
   "outputs": [],
   "source": [
    "test = pd.read_csv('testing_data.csv', index_col=False)"
   ]
  },
  {
   "cell_type": "code",
   "execution_count": 101,
   "id": "1ad4d1d9",
   "metadata": {},
   "outputs": [],
   "source": [
    "test = encodeLabels(test)"
   ]
  },
  {
   "cell_type": "code",
   "execution_count": 102,
   "id": "676c17a5",
   "metadata": {},
   "outputs": [
    {
     "name": "stdout",
     "output_type": "stream",
     "text": [
      "NaNs replaced\n",
      "Columns combined\n",
      "Outliers removed\n",
      "Punctuation removed\n",
      "Words tokenized\n",
      "Stopwords removed\n",
      "Text cleaned\n",
      "Languages dropped\n"
     ]
    },
    {
     "name": "stderr",
     "output_type": "stream",
     "text": [
      "C:\\Users\\Aleks\\AppData\\Local\\Temp\\ipykernel_23716\\446988254.py:8: SettingWithCopyWarning: \n",
      "A value is trying to be set on a copy of a slice from a DataFrame.\n",
      "Try using .loc[row_indexer,col_indexer] = value instead\n",
      "\n",
      "See the caveats in the documentation: https://pandas.pydata.org/pandas-docs/stable/user_guide/indexing.html#returning-a-view-versus-a-copy\n",
      "  df['lang'] = df['shorttext'].apply(detect)\n"
     ]
    }
   ],
   "source": [
    "test_transformed = custom_pipe.transform(test)"
   ]
  },
  {
   "cell_type": "code",
   "execution_count": 103,
   "id": "db71c7cf",
   "metadata": {},
   "outputs": [],
   "source": [
    "test_transformed_x = test_transformed['text']\n",
    "test_transformed_y = test_transformed['label']"
   ]
  },
  {
   "cell_type": "markdown",
   "id": "5287f67c",
   "metadata": {},
   "source": [
    "## Model"
   ]
  },
  {
   "cell_type": "markdown",
   "id": "af0d481a",
   "metadata": {},
   "source": [
    "### Baseline model"
   ]
  },
  {
   "cell_type": "code",
   "execution_count": 104,
   "id": "639a32c8",
   "metadata": {},
   "outputs": [],
   "source": [
    "from sklearn.naive_bayes import MultinomialNB\n",
    "from sklearn.linear_model import SGDClassifier"
   ]
  },
  {
   "cell_type": "code",
   "execution_count": 27,
   "id": "b9383ef4",
   "metadata": {},
   "outputs": [],
   "source": [
    "# Pipeline with ready-made transformers and model\n",
    "model_pipe = Pipeline([\n",
    "    ('vectorizer', CountVectorizer()),\n",
    "    ('tfidf', TfidfTransformer()),\n",
    "    ('clf', MultinomialNB()),\n",
    "])"
   ]
  },
  {
   "cell_type": "code",
   "execution_count": 28,
   "id": "882a6dd6",
   "metadata": {},
   "outputs": [
    {
     "data": {
      "text/plain": [
       "Pipeline(steps=[('vectorizer', CountVectorizer()),\n",
       "                ('tfidf', TfidfTransformer()), ('clf', MultinomialNB())])"
      ]
     },
     "execution_count": 28,
     "metadata": {},
     "output_type": "execute_result"
    }
   ],
   "source": [
    "model_pipe.fit(train_transformed_x, train_transformed_y)"
   ]
  },
  {
   "cell_type": "code",
   "execution_count": 29,
   "id": "d41a9ec5",
   "metadata": {},
   "outputs": [],
   "source": [
    "predicted = model_pipe.predict(test_transformed_x)"
   ]
  },
  {
   "cell_type": "code",
   "execution_count": 30,
   "id": "38633223",
   "metadata": {},
   "outputs": [],
   "source": [
    "predicted_probability = model_pipe.predict_proba(test_transformed_x)"
   ]
  },
  {
   "cell_type": "code",
   "execution_count": 31,
   "id": "8b4cf8e8",
   "metadata": {},
   "outputs": [
    {
     "data": {
      "text/plain": [
       "0.8603068340306834"
      ]
     },
     "execution_count": 31,
     "metadata": {},
     "output_type": "execute_result"
    }
   ],
   "source": [
    "np.mean(predicted == test_transformed_y)"
   ]
  },
  {
   "cell_type": "markdown",
   "id": "449fedda",
   "metadata": {},
   "source": [
    "# Grid Search - MultinomialNB"
   ]
  },
  {
   "cell_type": "code",
   "execution_count": 115,
   "id": "5325867e",
   "metadata": {},
   "outputs": [],
   "source": [
    "from sklearn.model_selection import GridSearchCV\n",
    "\n",
    "model_pipe = Pipeline([\n",
    "    ('vectorizer', CountVectorizer()),\n",
    "    ('tfidf', TfidfTransformer()),\n",
    "    ('clf', MultinomialNB()),\n",
    "])\n",
    "\n",
    "param_grid = {\n",
    "    'clf__alpha': [0.1, 0.5, 1.0, 2.0]\n",
    "}"
   ]
  },
  {
   "cell_type": "code",
   "execution_count": 116,
   "id": "d788e059",
   "metadata": {},
   "outputs": [],
   "source": [
    "grid_search = GridSearchCV(model_pipe, param_grid=param_grid, cv=5)"
   ]
  },
  {
   "cell_type": "code",
   "execution_count": 117,
   "id": "f240f388",
   "metadata": {},
   "outputs": [
    {
     "data": {
      "text/html": [
       "<style>#sk-container-id-1 {color: black;background-color: white;}#sk-container-id-1 pre{padding: 0;}#sk-container-id-1 div.sk-toggleable {background-color: white;}#sk-container-id-1 label.sk-toggleable__label {cursor: pointer;display: block;width: 100%;margin-bottom: 0;padding: 0.3em;box-sizing: border-box;text-align: center;}#sk-container-id-1 label.sk-toggleable__label-arrow:before {content: \"▸\";float: left;margin-right: 0.25em;color: #696969;}#sk-container-id-1 label.sk-toggleable__label-arrow:hover:before {color: black;}#sk-container-id-1 div.sk-estimator:hover label.sk-toggleable__label-arrow:before {color: black;}#sk-container-id-1 div.sk-toggleable__content {max-height: 0;max-width: 0;overflow: hidden;text-align: left;background-color: #f0f8ff;}#sk-container-id-1 div.sk-toggleable__content pre {margin: 0.2em;color: black;border-radius: 0.25em;background-color: #f0f8ff;}#sk-container-id-1 input.sk-toggleable__control:checked~div.sk-toggleable__content {max-height: 200px;max-width: 100%;overflow: auto;}#sk-container-id-1 input.sk-toggleable__control:checked~label.sk-toggleable__label-arrow:before {content: \"▾\";}#sk-container-id-1 div.sk-estimator input.sk-toggleable__control:checked~label.sk-toggleable__label {background-color: #d4ebff;}#sk-container-id-1 div.sk-label input.sk-toggleable__control:checked~label.sk-toggleable__label {background-color: #d4ebff;}#sk-container-id-1 input.sk-hidden--visually {border: 0;clip: rect(1px 1px 1px 1px);clip: rect(1px, 1px, 1px, 1px);height: 1px;margin: -1px;overflow: hidden;padding: 0;position: absolute;width: 1px;}#sk-container-id-1 div.sk-estimator {font-family: monospace;background-color: #f0f8ff;border: 1px dotted black;border-radius: 0.25em;box-sizing: border-box;margin-bottom: 0.5em;}#sk-container-id-1 div.sk-estimator:hover {background-color: #d4ebff;}#sk-container-id-1 div.sk-parallel-item::after {content: \"\";width: 100%;border-bottom: 1px solid gray;flex-grow: 1;}#sk-container-id-1 div.sk-label:hover label.sk-toggleable__label {background-color: #d4ebff;}#sk-container-id-1 div.sk-serial::before {content: \"\";position: absolute;border-left: 1px solid gray;box-sizing: border-box;top: 0;bottom: 0;left: 50%;z-index: 0;}#sk-container-id-1 div.sk-serial {display: flex;flex-direction: column;align-items: center;background-color: white;padding-right: 0.2em;padding-left: 0.2em;position: relative;}#sk-container-id-1 div.sk-item {position: relative;z-index: 1;}#sk-container-id-1 div.sk-parallel {display: flex;align-items: stretch;justify-content: center;background-color: white;position: relative;}#sk-container-id-1 div.sk-item::before, #sk-container-id-1 div.sk-parallel-item::before {content: \"\";position: absolute;border-left: 1px solid gray;box-sizing: border-box;top: 0;bottom: 0;left: 50%;z-index: -1;}#sk-container-id-1 div.sk-parallel-item {display: flex;flex-direction: column;z-index: 1;position: relative;background-color: white;}#sk-container-id-1 div.sk-parallel-item:first-child::after {align-self: flex-end;width: 50%;}#sk-container-id-1 div.sk-parallel-item:last-child::after {align-self: flex-start;width: 50%;}#sk-container-id-1 div.sk-parallel-item:only-child::after {width: 0;}#sk-container-id-1 div.sk-dashed-wrapped {border: 1px dashed gray;margin: 0 0.4em 0.5em 0.4em;box-sizing: border-box;padding-bottom: 0.4em;background-color: white;}#sk-container-id-1 div.sk-label label {font-family: monospace;font-weight: bold;display: inline-block;line-height: 1.2em;}#sk-container-id-1 div.sk-label-container {text-align: center;}#sk-container-id-1 div.sk-container {/* jupyter's `normalize.less` sets `[hidden] { display: none; }` but bootstrap.min.css set `[hidden] { display: none !important; }` so we also need the `!important` here to be able to override the default hidden behavior on the sphinx rendered scikit-learn.org. See: https://github.com/scikit-learn/scikit-learn/issues/21755 */display: inline-block !important;position: relative;}#sk-container-id-1 div.sk-text-repr-fallback {display: none;}</style><div id=\"sk-container-id-1\" class=\"sk-top-container\"><div class=\"sk-text-repr-fallback\"><pre>GridSearchCV(cv=5,\n",
       "             estimator=Pipeline(steps=[(&#x27;vectorizer&#x27;, CountVectorizer()),\n",
       "                                       (&#x27;tfidf&#x27;, TfidfTransformer()),\n",
       "                                       (&#x27;clf&#x27;, MultinomialNB())]),\n",
       "             param_grid={&#x27;clf__alpha&#x27;: [0.1, 0.5, 1.0, 2.0]})</pre><b>In a Jupyter environment, please rerun this cell to show the HTML representation or trust the notebook. <br />On GitHub, the HTML representation is unable to render, please try loading this page with nbviewer.org.</b></div><div class=\"sk-container\" hidden><div class=\"sk-item sk-dashed-wrapped\"><div class=\"sk-label-container\"><div class=\"sk-label sk-toggleable\"><input class=\"sk-toggleable__control sk-hidden--visually\" id=\"sk-estimator-id-1\" type=\"checkbox\" ><label for=\"sk-estimator-id-1\" class=\"sk-toggleable__label sk-toggleable__label-arrow\">GridSearchCV</label><div class=\"sk-toggleable__content\"><pre>GridSearchCV(cv=5,\n",
       "             estimator=Pipeline(steps=[(&#x27;vectorizer&#x27;, CountVectorizer()),\n",
       "                                       (&#x27;tfidf&#x27;, TfidfTransformer()),\n",
       "                                       (&#x27;clf&#x27;, MultinomialNB())]),\n",
       "             param_grid={&#x27;clf__alpha&#x27;: [0.1, 0.5, 1.0, 2.0]})</pre></div></div></div><div class=\"sk-parallel\"><div class=\"sk-parallel-item\"><div class=\"sk-item\"><div class=\"sk-label-container\"><div class=\"sk-label sk-toggleable\"><input class=\"sk-toggleable__control sk-hidden--visually\" id=\"sk-estimator-id-2\" type=\"checkbox\" ><label for=\"sk-estimator-id-2\" class=\"sk-toggleable__label sk-toggleable__label-arrow\">estimator: Pipeline</label><div class=\"sk-toggleable__content\"><pre>Pipeline(steps=[(&#x27;vectorizer&#x27;, CountVectorizer()),\n",
       "                (&#x27;tfidf&#x27;, TfidfTransformer()), (&#x27;clf&#x27;, MultinomialNB())])</pre></div></div></div><div class=\"sk-serial\"><div class=\"sk-item\"><div class=\"sk-serial\"><div class=\"sk-item\"><div class=\"sk-estimator sk-toggleable\"><input class=\"sk-toggleable__control sk-hidden--visually\" id=\"sk-estimator-id-3\" type=\"checkbox\" ><label for=\"sk-estimator-id-3\" class=\"sk-toggleable__label sk-toggleable__label-arrow\">CountVectorizer</label><div class=\"sk-toggleable__content\"><pre>CountVectorizer()</pre></div></div></div><div class=\"sk-item\"><div class=\"sk-estimator sk-toggleable\"><input class=\"sk-toggleable__control sk-hidden--visually\" id=\"sk-estimator-id-4\" type=\"checkbox\" ><label for=\"sk-estimator-id-4\" class=\"sk-toggleable__label sk-toggleable__label-arrow\">TfidfTransformer</label><div class=\"sk-toggleable__content\"><pre>TfidfTransformer()</pre></div></div></div><div class=\"sk-item\"><div class=\"sk-estimator sk-toggleable\"><input class=\"sk-toggleable__control sk-hidden--visually\" id=\"sk-estimator-id-5\" type=\"checkbox\" ><label for=\"sk-estimator-id-5\" class=\"sk-toggleable__label sk-toggleable__label-arrow\">MultinomialNB</label><div class=\"sk-toggleable__content\"><pre>MultinomialNB()</pre></div></div></div></div></div></div></div></div></div></div></div></div>"
      ],
      "text/plain": [
       "GridSearchCV(cv=5,\n",
       "             estimator=Pipeline(steps=[('vectorizer', CountVectorizer()),\n",
       "                                       ('tfidf', TfidfTransformer()),\n",
       "                                       ('clf', MultinomialNB())]),\n",
       "             param_grid={'clf__alpha': [0.1, 0.5, 1.0, 2.0]})"
      ]
     },
     "execution_count": 117,
     "metadata": {},
     "output_type": "execute_result"
    }
   ],
   "source": [
    "grid_search.fit(train_transformed_x, train_transformed_y)"
   ]
  },
  {
   "cell_type": "code",
   "execution_count": 121,
   "id": "b8001b0e",
   "metadata": {},
   "outputs": [],
   "source": [
    "clf_results = pd.DataFrame(grid_search.cv_results_)"
   ]
  },
  {
   "cell_type": "code",
   "execution_count": 122,
   "id": "41e1dfda",
   "metadata": {},
   "outputs": [
    {
     "data": {
      "text/html": [
       "<div>\n",
       "<style scoped>\n",
       "    .dataframe tbody tr th:only-of-type {\n",
       "        vertical-align: middle;\n",
       "    }\n",
       "\n",
       "    .dataframe tbody tr th {\n",
       "        vertical-align: top;\n",
       "    }\n",
       "\n",
       "    .dataframe thead th {\n",
       "        text-align: right;\n",
       "    }\n",
       "</style>\n",
       "<table border=\"1\" class=\"dataframe\">\n",
       "  <thead>\n",
       "    <tr style=\"text-align: right;\">\n",
       "      <th></th>\n",
       "      <th>mean_fit_time</th>\n",
       "      <th>std_fit_time</th>\n",
       "      <th>mean_score_time</th>\n",
       "      <th>std_score_time</th>\n",
       "      <th>param_clf__alpha</th>\n",
       "      <th>params</th>\n",
       "      <th>split0_test_score</th>\n",
       "      <th>split1_test_score</th>\n",
       "      <th>split2_test_score</th>\n",
       "      <th>split3_test_score</th>\n",
       "      <th>split4_test_score</th>\n",
       "      <th>mean_test_score</th>\n",
       "      <th>std_test_score</th>\n",
       "      <th>rank_test_score</th>\n",
       "    </tr>\n",
       "  </thead>\n",
       "  <tbody>\n",
       "    <tr>\n",
       "      <th>0</th>\n",
       "      <td>7.975151</td>\n",
       "      <td>0.130059</td>\n",
       "      <td>1.832989</td>\n",
       "      <td>0.110870</td>\n",
       "      <td>0.1</td>\n",
       "      <td>{'clf__alpha': 0.1}</td>\n",
       "      <td>0.905037</td>\n",
       "      <td>0.906739</td>\n",
       "      <td>0.908781</td>\n",
       "      <td>0.909462</td>\n",
       "      <td>0.896698</td>\n",
       "      <td>0.905344</td>\n",
       "      <td>0.004595</td>\n",
       "      <td>1</td>\n",
       "    </tr>\n",
       "    <tr>\n",
       "      <th>1</th>\n",
       "      <td>7.954198</td>\n",
       "      <td>0.363403</td>\n",
       "      <td>1.757361</td>\n",
       "      <td>0.189525</td>\n",
       "      <td>0.5</td>\n",
       "      <td>{'clf__alpha': 0.5}</td>\n",
       "      <td>0.885636</td>\n",
       "      <td>0.883764</td>\n",
       "      <td>0.887168</td>\n",
       "      <td>0.887679</td>\n",
       "      <td>0.878319</td>\n",
       "      <td>0.884513</td>\n",
       "      <td>0.003384</td>\n",
       "      <td>2</td>\n",
       "    </tr>\n",
       "    <tr>\n",
       "      <th>2</th>\n",
       "      <td>7.879836</td>\n",
       "      <td>0.185237</td>\n",
       "      <td>1.815268</td>\n",
       "      <td>0.036818</td>\n",
       "      <td>1.0</td>\n",
       "      <td>{'clf__alpha': 1.0}</td>\n",
       "      <td>0.863172</td>\n",
       "      <td>0.863513</td>\n",
       "      <td>0.864023</td>\n",
       "      <td>0.860449</td>\n",
       "      <td>0.861300</td>\n",
       "      <td>0.862491</td>\n",
       "      <td>0.001374</td>\n",
       "      <td>3</td>\n",
       "    </tr>\n",
       "    <tr>\n",
       "      <th>3</th>\n",
       "      <td>7.405378</td>\n",
       "      <td>0.323527</td>\n",
       "      <td>1.742643</td>\n",
       "      <td>0.125569</td>\n",
       "      <td>2.0</td>\n",
       "      <td>{'clf__alpha': 2.0}</td>\n",
       "      <td>0.833390</td>\n",
       "      <td>0.833220</td>\n",
       "      <td>0.828625</td>\n",
       "      <td>0.829135</td>\n",
       "      <td>0.828455</td>\n",
       "      <td>0.830565</td>\n",
       "      <td>0.002249</td>\n",
       "      <td>4</td>\n",
       "    </tr>\n",
       "  </tbody>\n",
       "</table>\n",
       "</div>"
      ],
      "text/plain": [
       "   mean_fit_time  std_fit_time  mean_score_time  std_score_time  \\\n",
       "0       7.975151      0.130059         1.832989        0.110870   \n",
       "1       7.954198      0.363403         1.757361        0.189525   \n",
       "2       7.879836      0.185237         1.815268        0.036818   \n",
       "3       7.405378      0.323527         1.742643        0.125569   \n",
       "\n",
       "  param_clf__alpha               params  split0_test_score  split1_test_score  \\\n",
       "0              0.1  {'clf__alpha': 0.1}           0.905037           0.906739   \n",
       "1              0.5  {'clf__alpha': 0.5}           0.885636           0.883764   \n",
       "2              1.0  {'clf__alpha': 1.0}           0.863172           0.863513   \n",
       "3              2.0  {'clf__alpha': 2.0}           0.833390           0.833220   \n",
       "\n",
       "   split2_test_score  split3_test_score  split4_test_score  mean_test_score  \\\n",
       "0           0.908781           0.909462           0.896698         0.905344   \n",
       "1           0.887168           0.887679           0.878319         0.884513   \n",
       "2           0.864023           0.860449           0.861300         0.862491   \n",
       "3           0.828625           0.829135           0.828455         0.830565   \n",
       "\n",
       "   std_test_score  rank_test_score  \n",
       "0        0.004595                1  \n",
       "1        0.003384                2  \n",
       "2        0.001374                3  \n",
       "3        0.002249                4  "
      ]
     },
     "execution_count": 122,
     "metadata": {},
     "output_type": "execute_result"
    }
   ],
   "source": [
    "clf_results"
   ]
  },
  {
   "cell_type": "code",
   "execution_count": 118,
   "id": "ef51eb17",
   "metadata": {},
   "outputs": [
    {
     "name": "stdout",
     "output_type": "stream",
     "text": [
      "Best parameters:  {'clf__alpha': 0.1}\n",
      "Best score:  0.9053437712729748\n"
     ]
    }
   ],
   "source": [
    "print(\"Best parameters: \", grid_search.best_params_)\n",
    "print(\"Best score: \", grid_search.best_score_)"
   ]
  },
  {
   "cell_type": "markdown",
   "id": "d352c91c",
   "metadata": {},
   "source": [
    "### Logistic regression"
   ]
  },
  {
   "cell_type": "code",
   "execution_count": 124,
   "id": "99e54115",
   "metadata": {},
   "outputs": [],
   "source": [
    "from sklearn.linear_model import LogisticRegression\n",
    "from sklearn.feature_extraction.text import CountVectorizer\n",
    "\n",
    "lr_pipe = Pipeline([\n",
    "    ('vectorizer', CountVectorizer(max_features=5000)),\n",
    "    ('classifier', LogisticRegression(random_state=42))\n",
    "])"
   ]
  },
  {
   "cell_type": "code",
   "execution_count": 33,
   "id": "c62c7607",
   "metadata": {},
   "outputs": [
    {
     "name": "stderr",
     "output_type": "stream",
     "text": [
      "C:\\Users\\karim\\anaconda3\\lib\\site-packages\\sklearn\\linear_model\\_logistic.py:763: ConvergenceWarning: lbfgs failed to converge (status=1):\n",
      "STOP: TOTAL NO. of ITERATIONS REACHED LIMIT.\n",
      "\n",
      "Increase the number of iterations (max_iter) or scale the data as shown in:\n",
      "    https://scikit-learn.org/stable/modules/preprocessing.html\n",
      "Please also refer to the documentation for alternative solver options:\n",
      "    https://scikit-learn.org/stable/modules/linear_model.html#logistic-regression\n",
      "  n_iter_i = _check_optimize_result(\n"
     ]
    },
    {
     "data": {
      "text/plain": [
       "Pipeline(steps=[('vectorizer', CountVectorizer(max_features=5000)),\n",
       "                ('classifier', LogisticRegression(random_state=42))])"
      ]
     },
     "execution_count": 33,
     "metadata": {},
     "output_type": "execute_result"
    }
   ],
   "source": [
    "lr_pipe.fit(train_transformed_x, train_transformed_y)"
   ]
  },
  {
   "cell_type": "code",
   "execution_count": 34,
   "id": "cc7f4ac7",
   "metadata": {},
   "outputs": [],
   "source": [
    "lr_predicted = lr_pipe.predict(test_transformed_x)\n",
    "lr_predicted_probability = lr_pipe.predict_proba(test_transformed_x)"
   ]
  },
  {
   "cell_type": "markdown",
   "id": "3881c9fe",
   "metadata": {},
   "source": [
    "# Grid Search - Logistic Regression"
   ]
  },
  {
   "cell_type": "code",
   "execution_count": 134,
   "id": "0457a22d",
   "metadata": {},
   "outputs": [],
   "source": [
    "lr_pipe = Pipeline([\n",
    "    ('vectorizer', CountVectorizer(max_features=5000)),\n",
    "    ('classifier', LogisticRegression(random_state=42))\n",
    "])\n",
    "\n",
    "param_grid = {\n",
    "    'classifier__C': [0.1, 1, 10],\n",
    "    'classifier__penalty': ['l1', 'l2']\n",
    "}"
   ]
  },
  {
   "cell_type": "code",
   "execution_count": 135,
   "id": "b710a135",
   "metadata": {},
   "outputs": [],
   "source": [
    "grid_search = GridSearchCV(lr_pipe, param_grid, cv=5)"
   ]
  },
  {
   "cell_type": "code",
   "execution_count": 136,
   "id": "bacaeb05",
   "metadata": {},
   "outputs": [
    {
     "name": "stderr",
     "output_type": "stream",
     "text": [
      "C:\\Users\\Aleks\\AppData\\Roaming\\Python\\Python310\\site-packages\\sklearn\\linear_model\\_logistic.py:458: ConvergenceWarning: lbfgs failed to converge (status=1):\n",
      "STOP: TOTAL NO. of ITERATIONS REACHED LIMIT.\n",
      "\n",
      "Increase the number of iterations (max_iter) or scale the data as shown in:\n",
      "    https://scikit-learn.org/stable/modules/preprocessing.html\n",
      "Please also refer to the documentation for alternative solver options:\n",
      "    https://scikit-learn.org/stable/modules/linear_model.html#logistic-regression\n",
      "  n_iter_i = _check_optimize_result(\n",
      "C:\\Users\\Aleks\\AppData\\Roaming\\Python\\Python310\\site-packages\\sklearn\\linear_model\\_logistic.py:458: ConvergenceWarning: lbfgs failed to converge (status=1):\n",
      "STOP: TOTAL NO. of ITERATIONS REACHED LIMIT.\n",
      "\n",
      "Increase the number of iterations (max_iter) or scale the data as shown in:\n",
      "    https://scikit-learn.org/stable/modules/preprocessing.html\n",
      "Please also refer to the documentation for alternative solver options:\n",
      "    https://scikit-learn.org/stable/modules/linear_model.html#logistic-regression\n",
      "  n_iter_i = _check_optimize_result(\n",
      "C:\\Users\\Aleks\\AppData\\Roaming\\Python\\Python310\\site-packages\\sklearn\\linear_model\\_logistic.py:458: ConvergenceWarning: lbfgs failed to converge (status=1):\n",
      "STOP: TOTAL NO. of ITERATIONS REACHED LIMIT.\n",
      "\n",
      "Increase the number of iterations (max_iter) or scale the data as shown in:\n",
      "    https://scikit-learn.org/stable/modules/preprocessing.html\n",
      "Please also refer to the documentation for alternative solver options:\n",
      "    https://scikit-learn.org/stable/modules/linear_model.html#logistic-regression\n",
      "  n_iter_i = _check_optimize_result(\n",
      "C:\\Users\\Aleks\\AppData\\Roaming\\Python\\Python310\\site-packages\\sklearn\\linear_model\\_logistic.py:458: ConvergenceWarning: lbfgs failed to converge (status=1):\n",
      "STOP: TOTAL NO. of ITERATIONS REACHED LIMIT.\n",
      "\n",
      "Increase the number of iterations (max_iter) or scale the data as shown in:\n",
      "    https://scikit-learn.org/stable/modules/preprocessing.html\n",
      "Please also refer to the documentation for alternative solver options:\n",
      "    https://scikit-learn.org/stable/modules/linear_model.html#logistic-regression\n",
      "  n_iter_i = _check_optimize_result(\n",
      "C:\\Users\\Aleks\\AppData\\Roaming\\Python\\Python310\\site-packages\\sklearn\\linear_model\\_logistic.py:458: ConvergenceWarning: lbfgs failed to converge (status=1):\n",
      "STOP: TOTAL NO. of ITERATIONS REACHED LIMIT.\n",
      "\n",
      "Increase the number of iterations (max_iter) or scale the data as shown in:\n",
      "    https://scikit-learn.org/stable/modules/preprocessing.html\n",
      "Please also refer to the documentation for alternative solver options:\n",
      "    https://scikit-learn.org/stable/modules/linear_model.html#logistic-regression\n",
      "  n_iter_i = _check_optimize_result(\n",
      "C:\\Users\\Aleks\\AppData\\Roaming\\Python\\Python310\\site-packages\\sklearn\\linear_model\\_logistic.py:458: ConvergenceWarning: lbfgs failed to converge (status=1):\n",
      "STOP: TOTAL NO. of ITERATIONS REACHED LIMIT.\n",
      "\n",
      "Increase the number of iterations (max_iter) or scale the data as shown in:\n",
      "    https://scikit-learn.org/stable/modules/preprocessing.html\n",
      "Please also refer to the documentation for alternative solver options:\n",
      "    https://scikit-learn.org/stable/modules/linear_model.html#logistic-regression\n",
      "  n_iter_i = _check_optimize_result(\n",
      "C:\\Users\\Aleks\\AppData\\Roaming\\Python\\Python310\\site-packages\\sklearn\\linear_model\\_logistic.py:458: ConvergenceWarning: lbfgs failed to converge (status=1):\n",
      "STOP: TOTAL NO. of ITERATIONS REACHED LIMIT.\n",
      "\n",
      "Increase the number of iterations (max_iter) or scale the data as shown in:\n",
      "    https://scikit-learn.org/stable/modules/preprocessing.html\n",
      "Please also refer to the documentation for alternative solver options:\n",
      "    https://scikit-learn.org/stable/modules/linear_model.html#logistic-regression\n",
      "  n_iter_i = _check_optimize_result(\n",
      "C:\\Users\\Aleks\\AppData\\Roaming\\Python\\Python310\\site-packages\\sklearn\\linear_model\\_logistic.py:458: ConvergenceWarning: lbfgs failed to converge (status=1):\n",
      "STOP: TOTAL NO. of ITERATIONS REACHED LIMIT.\n",
      "\n",
      "Increase the number of iterations (max_iter) or scale the data as shown in:\n",
      "    https://scikit-learn.org/stable/modules/preprocessing.html\n",
      "Please also refer to the documentation for alternative solver options:\n",
      "    https://scikit-learn.org/stable/modules/linear_model.html#logistic-regression\n",
      "  n_iter_i = _check_optimize_result(\n",
      "C:\\Users\\Aleks\\AppData\\Roaming\\Python\\Python310\\site-packages\\sklearn\\linear_model\\_logistic.py:458: ConvergenceWarning: lbfgs failed to converge (status=1):\n",
      "STOP: TOTAL NO. of ITERATIONS REACHED LIMIT.\n",
      "\n",
      "Increase the number of iterations (max_iter) or scale the data as shown in:\n",
      "    https://scikit-learn.org/stable/modules/preprocessing.html\n",
      "Please also refer to the documentation for alternative solver options:\n",
      "    https://scikit-learn.org/stable/modules/linear_model.html#logistic-regression\n",
      "  n_iter_i = _check_optimize_result(\n",
      "C:\\Users\\Aleks\\AppData\\Roaming\\Python\\Python310\\site-packages\\sklearn\\linear_model\\_logistic.py:458: ConvergenceWarning: lbfgs failed to converge (status=1):\n",
      "STOP: TOTAL NO. of ITERATIONS REACHED LIMIT.\n",
      "\n",
      "Increase the number of iterations (max_iter) or scale the data as shown in:\n",
      "    https://scikit-learn.org/stable/modules/preprocessing.html\n",
      "Please also refer to the documentation for alternative solver options:\n",
      "    https://scikit-learn.org/stable/modules/linear_model.html#logistic-regression\n",
      "  n_iter_i = _check_optimize_result(\n",
      "C:\\Users\\Aleks\\AppData\\Roaming\\Python\\Python310\\site-packages\\sklearn\\linear_model\\_logistic.py:458: ConvergenceWarning: lbfgs failed to converge (status=1):\n",
      "STOP: TOTAL NO. of ITERATIONS REACHED LIMIT.\n",
      "\n",
      "Increase the number of iterations (max_iter) or scale the data as shown in:\n",
      "    https://scikit-learn.org/stable/modules/preprocessing.html\n",
      "Please also refer to the documentation for alternative solver options:\n",
      "    https://scikit-learn.org/stable/modules/linear_model.html#logistic-regression\n",
      "  n_iter_i = _check_optimize_result(\n",
      "C:\\Users\\Aleks\\AppData\\Roaming\\Python\\Python310\\site-packages\\sklearn\\linear_model\\_logistic.py:458: ConvergenceWarning: lbfgs failed to converge (status=1):\n",
      "STOP: TOTAL NO. of ITERATIONS REACHED LIMIT.\n",
      "\n",
      "Increase the number of iterations (max_iter) or scale the data as shown in:\n",
      "    https://scikit-learn.org/stable/modules/preprocessing.html\n",
      "Please also refer to the documentation for alternative solver options:\n",
      "    https://scikit-learn.org/stable/modules/linear_model.html#logistic-regression\n",
      "  n_iter_i = _check_optimize_result(\n",
      "C:\\Users\\Aleks\\AppData\\Roaming\\Python\\Python310\\site-packages\\sklearn\\linear_model\\_logistic.py:458: ConvergenceWarning: lbfgs failed to converge (status=1):\n",
      "STOP: TOTAL NO. of ITERATIONS REACHED LIMIT.\n",
      "\n",
      "Increase the number of iterations (max_iter) or scale the data as shown in:\n",
      "    https://scikit-learn.org/stable/modules/preprocessing.html\n",
      "Please also refer to the documentation for alternative solver options:\n",
      "    https://scikit-learn.org/stable/modules/linear_model.html#logistic-regression\n",
      "  n_iter_i = _check_optimize_result(\n",
      "C:\\Users\\Aleks\\AppData\\Roaming\\Python\\Python310\\site-packages\\sklearn\\linear_model\\_logistic.py:458: ConvergenceWarning: lbfgs failed to converge (status=1):\n",
      "STOP: TOTAL NO. of ITERATIONS REACHED LIMIT.\n",
      "\n",
      "Increase the number of iterations (max_iter) or scale the data as shown in:\n",
      "    https://scikit-learn.org/stable/modules/preprocessing.html\n",
      "Please also refer to the documentation for alternative solver options:\n",
      "    https://scikit-learn.org/stable/modules/linear_model.html#logistic-regression\n",
      "  n_iter_i = _check_optimize_result(\n",
      "C:\\Users\\Aleks\\AppData\\Roaming\\Python\\Python310\\site-packages\\sklearn\\linear_model\\_logistic.py:458: ConvergenceWarning: lbfgs failed to converge (status=1):\n",
      "STOP: TOTAL NO. of ITERATIONS REACHED LIMIT.\n",
      "\n",
      "Increase the number of iterations (max_iter) or scale the data as shown in:\n",
      "    https://scikit-learn.org/stable/modules/preprocessing.html\n",
      "Please also refer to the documentation for alternative solver options:\n",
      "    https://scikit-learn.org/stable/modules/linear_model.html#logistic-regression\n",
      "  n_iter_i = _check_optimize_result(\n",
      "C:\\Users\\Aleks\\AppData\\Roaming\\Python\\Python310\\site-packages\\sklearn\\model_selection\\_validation.py:378: FitFailedWarning: \n",
      "15 fits failed out of a total of 30.\n",
      "The score on these train-test partitions for these parameters will be set to nan.\n",
      "If these failures are not expected, you can try to debug them by setting error_score='raise'.\n",
      "\n",
      "Below are more details about the failures:\n",
      "--------------------------------------------------------------------------------\n",
      "15 fits failed with the following error:\n",
      "Traceback (most recent call last):\n",
      "  File \"C:\\Users\\Aleks\\AppData\\Roaming\\Python\\Python310\\site-packages\\sklearn\\model_selection\\_validation.py\", line 686, in _fit_and_score\n",
      "    estimator.fit(X_train, y_train, **fit_params)\n",
      "  File \"C:\\Users\\Aleks\\AppData\\Roaming\\Python\\Python310\\site-packages\\sklearn\\pipeline.py\", line 405, in fit\n",
      "    self._final_estimator.fit(Xt, y, **fit_params_last_step)\n",
      "  File \"C:\\Users\\Aleks\\AppData\\Roaming\\Python\\Python310\\site-packages\\sklearn\\linear_model\\_logistic.py\", line 1162, in fit\n",
      "    solver = _check_solver(self.solver, self.penalty, self.dual)\n",
      "  File \"C:\\Users\\Aleks\\AppData\\Roaming\\Python\\Python310\\site-packages\\sklearn\\linear_model\\_logistic.py\", line 54, in _check_solver\n",
      "    raise ValueError(\n",
      "ValueError: Solver lbfgs supports only 'l2' or 'none' penalties, got l1 penalty.\n",
      "\n",
      "  warnings.warn(some_fits_failed_message, FitFailedWarning)\n",
      "C:\\Users\\Aleks\\AppData\\Roaming\\Python\\Python310\\site-packages\\sklearn\\model_selection\\_search.py:952: UserWarning: One or more of the test scores are non-finite: [       nan 0.95561607        nan 0.9503744         nan 0.9466644 ]\n",
      "  warnings.warn(\n"
     ]
    },
    {
     "name": "stderr",
     "output_type": "stream",
     "text": [
      "C:\\Users\\Aleks\\AppData\\Roaming\\Python\\Python310\\site-packages\\sklearn\\linear_model\\_logistic.py:458: ConvergenceWarning: lbfgs failed to converge (status=1):\n",
      "STOP: TOTAL NO. of ITERATIONS REACHED LIMIT.\n",
      "\n",
      "Increase the number of iterations (max_iter) or scale the data as shown in:\n",
      "    https://scikit-learn.org/stable/modules/preprocessing.html\n",
      "Please also refer to the documentation for alternative solver options:\n",
      "    https://scikit-learn.org/stable/modules/linear_model.html#logistic-regression\n",
      "  n_iter_i = _check_optimize_result(\n"
     ]
    },
    {
     "data": {
      "text/html": [
       "<style>#sk-container-id-2 {color: black;background-color: white;}#sk-container-id-2 pre{padding: 0;}#sk-container-id-2 div.sk-toggleable {background-color: white;}#sk-container-id-2 label.sk-toggleable__label {cursor: pointer;display: block;width: 100%;margin-bottom: 0;padding: 0.3em;box-sizing: border-box;text-align: center;}#sk-container-id-2 label.sk-toggleable__label-arrow:before {content: \"▸\";float: left;margin-right: 0.25em;color: #696969;}#sk-container-id-2 label.sk-toggleable__label-arrow:hover:before {color: black;}#sk-container-id-2 div.sk-estimator:hover label.sk-toggleable__label-arrow:before {color: black;}#sk-container-id-2 div.sk-toggleable__content {max-height: 0;max-width: 0;overflow: hidden;text-align: left;background-color: #f0f8ff;}#sk-container-id-2 div.sk-toggleable__content pre {margin: 0.2em;color: black;border-radius: 0.25em;background-color: #f0f8ff;}#sk-container-id-2 input.sk-toggleable__control:checked~div.sk-toggleable__content {max-height: 200px;max-width: 100%;overflow: auto;}#sk-container-id-2 input.sk-toggleable__control:checked~label.sk-toggleable__label-arrow:before {content: \"▾\";}#sk-container-id-2 div.sk-estimator input.sk-toggleable__control:checked~label.sk-toggleable__label {background-color: #d4ebff;}#sk-container-id-2 div.sk-label input.sk-toggleable__control:checked~label.sk-toggleable__label {background-color: #d4ebff;}#sk-container-id-2 input.sk-hidden--visually {border: 0;clip: rect(1px 1px 1px 1px);clip: rect(1px, 1px, 1px, 1px);height: 1px;margin: -1px;overflow: hidden;padding: 0;position: absolute;width: 1px;}#sk-container-id-2 div.sk-estimator {font-family: monospace;background-color: #f0f8ff;border: 1px dotted black;border-radius: 0.25em;box-sizing: border-box;margin-bottom: 0.5em;}#sk-container-id-2 div.sk-estimator:hover {background-color: #d4ebff;}#sk-container-id-2 div.sk-parallel-item::after {content: \"\";width: 100%;border-bottom: 1px solid gray;flex-grow: 1;}#sk-container-id-2 div.sk-label:hover label.sk-toggleable__label {background-color: #d4ebff;}#sk-container-id-2 div.sk-serial::before {content: \"\";position: absolute;border-left: 1px solid gray;box-sizing: border-box;top: 0;bottom: 0;left: 50%;z-index: 0;}#sk-container-id-2 div.sk-serial {display: flex;flex-direction: column;align-items: center;background-color: white;padding-right: 0.2em;padding-left: 0.2em;position: relative;}#sk-container-id-2 div.sk-item {position: relative;z-index: 1;}#sk-container-id-2 div.sk-parallel {display: flex;align-items: stretch;justify-content: center;background-color: white;position: relative;}#sk-container-id-2 div.sk-item::before, #sk-container-id-2 div.sk-parallel-item::before {content: \"\";position: absolute;border-left: 1px solid gray;box-sizing: border-box;top: 0;bottom: 0;left: 50%;z-index: -1;}#sk-container-id-2 div.sk-parallel-item {display: flex;flex-direction: column;z-index: 1;position: relative;background-color: white;}#sk-container-id-2 div.sk-parallel-item:first-child::after {align-self: flex-end;width: 50%;}#sk-container-id-2 div.sk-parallel-item:last-child::after {align-self: flex-start;width: 50%;}#sk-container-id-2 div.sk-parallel-item:only-child::after {width: 0;}#sk-container-id-2 div.sk-dashed-wrapped {border: 1px dashed gray;margin: 0 0.4em 0.5em 0.4em;box-sizing: border-box;padding-bottom: 0.4em;background-color: white;}#sk-container-id-2 div.sk-label label {font-family: monospace;font-weight: bold;display: inline-block;line-height: 1.2em;}#sk-container-id-2 div.sk-label-container {text-align: center;}#sk-container-id-2 div.sk-container {/* jupyter's `normalize.less` sets `[hidden] { display: none; }` but bootstrap.min.css set `[hidden] { display: none !important; }` so we also need the `!important` here to be able to override the default hidden behavior on the sphinx rendered scikit-learn.org. See: https://github.com/scikit-learn/scikit-learn/issues/21755 */display: inline-block !important;position: relative;}#sk-container-id-2 div.sk-text-repr-fallback {display: none;}</style><div id=\"sk-container-id-2\" class=\"sk-top-container\"><div class=\"sk-text-repr-fallback\"><pre>GridSearchCV(cv=5,\n",
       "             estimator=Pipeline(steps=[(&#x27;vectorizer&#x27;,\n",
       "                                        CountVectorizer(max_features=5000)),\n",
       "                                       (&#x27;classifier&#x27;,\n",
       "                                        LogisticRegression(random_state=42))]),\n",
       "             param_grid={&#x27;classifier__C&#x27;: [0.1, 1, 10],\n",
       "                         &#x27;classifier__penalty&#x27;: [&#x27;l1&#x27;, &#x27;l2&#x27;]})</pre><b>In a Jupyter environment, please rerun this cell to show the HTML representation or trust the notebook. <br />On GitHub, the HTML representation is unable to render, please try loading this page with nbviewer.org.</b></div><div class=\"sk-container\" hidden><div class=\"sk-item sk-dashed-wrapped\"><div class=\"sk-label-container\"><div class=\"sk-label sk-toggleable\"><input class=\"sk-toggleable__control sk-hidden--visually\" id=\"sk-estimator-id-6\" type=\"checkbox\" ><label for=\"sk-estimator-id-6\" class=\"sk-toggleable__label sk-toggleable__label-arrow\">GridSearchCV</label><div class=\"sk-toggleable__content\"><pre>GridSearchCV(cv=5,\n",
       "             estimator=Pipeline(steps=[(&#x27;vectorizer&#x27;,\n",
       "                                        CountVectorizer(max_features=5000)),\n",
       "                                       (&#x27;classifier&#x27;,\n",
       "                                        LogisticRegression(random_state=42))]),\n",
       "             param_grid={&#x27;classifier__C&#x27;: [0.1, 1, 10],\n",
       "                         &#x27;classifier__penalty&#x27;: [&#x27;l1&#x27;, &#x27;l2&#x27;]})</pre></div></div></div><div class=\"sk-parallel\"><div class=\"sk-parallel-item\"><div class=\"sk-item\"><div class=\"sk-label-container\"><div class=\"sk-label sk-toggleable\"><input class=\"sk-toggleable__control sk-hidden--visually\" id=\"sk-estimator-id-7\" type=\"checkbox\" ><label for=\"sk-estimator-id-7\" class=\"sk-toggleable__label sk-toggleable__label-arrow\">estimator: Pipeline</label><div class=\"sk-toggleable__content\"><pre>Pipeline(steps=[(&#x27;vectorizer&#x27;, CountVectorizer(max_features=5000)),\n",
       "                (&#x27;classifier&#x27;, LogisticRegression(random_state=42))])</pre></div></div></div><div class=\"sk-serial\"><div class=\"sk-item\"><div class=\"sk-serial\"><div class=\"sk-item\"><div class=\"sk-estimator sk-toggleable\"><input class=\"sk-toggleable__control sk-hidden--visually\" id=\"sk-estimator-id-8\" type=\"checkbox\" ><label for=\"sk-estimator-id-8\" class=\"sk-toggleable__label sk-toggleable__label-arrow\">CountVectorizer</label><div class=\"sk-toggleable__content\"><pre>CountVectorizer(max_features=5000)</pre></div></div></div><div class=\"sk-item\"><div class=\"sk-estimator sk-toggleable\"><input class=\"sk-toggleable__control sk-hidden--visually\" id=\"sk-estimator-id-9\" type=\"checkbox\" ><label for=\"sk-estimator-id-9\" class=\"sk-toggleable__label sk-toggleable__label-arrow\">LogisticRegression</label><div class=\"sk-toggleable__content\"><pre>LogisticRegression(random_state=42)</pre></div></div></div></div></div></div></div></div></div></div></div></div>"
      ],
      "text/plain": [
       "GridSearchCV(cv=5,\n",
       "             estimator=Pipeline(steps=[('vectorizer',\n",
       "                                        CountVectorizer(max_features=5000)),\n",
       "                                       ('classifier',\n",
       "                                        LogisticRegression(random_state=42))]),\n",
       "             param_grid={'classifier__C': [0.1, 1, 10],\n",
       "                         'classifier__penalty': ['l1', 'l2']})"
      ]
     },
     "execution_count": 136,
     "metadata": {},
     "output_type": "execute_result"
    }
   ],
   "source": [
    "grid_search.fit(train_transformed_x, train_transformed_y)"
   ]
  },
  {
   "cell_type": "code",
   "execution_count": 137,
   "id": "f547e257",
   "metadata": {},
   "outputs": [],
   "source": [
    "lr_results = pd.DataFrame(grid_search.cv_results_)"
   ]
  },
  {
   "cell_type": "code",
   "execution_count": 138,
   "id": "f29b8b38",
   "metadata": {},
   "outputs": [
    {
     "data": {
      "text/html": [
       "<div>\n",
       "<style scoped>\n",
       "    .dataframe tbody tr th:only-of-type {\n",
       "        vertical-align: middle;\n",
       "    }\n",
       "\n",
       "    .dataframe tbody tr th {\n",
       "        vertical-align: top;\n",
       "    }\n",
       "\n",
       "    .dataframe thead th {\n",
       "        text-align: right;\n",
       "    }\n",
       "</style>\n",
       "<table border=\"1\" class=\"dataframe\">\n",
       "  <thead>\n",
       "    <tr style=\"text-align: right;\">\n",
       "      <th></th>\n",
       "      <th>mean_fit_time</th>\n",
       "      <th>std_fit_time</th>\n",
       "      <th>mean_score_time</th>\n",
       "      <th>std_score_time</th>\n",
       "      <th>param_classifier__C</th>\n",
       "      <th>param_classifier__penalty</th>\n",
       "      <th>params</th>\n",
       "      <th>split0_test_score</th>\n",
       "      <th>split1_test_score</th>\n",
       "      <th>split2_test_score</th>\n",
       "      <th>split3_test_score</th>\n",
       "      <th>split4_test_score</th>\n",
       "      <th>mean_test_score</th>\n",
       "      <th>std_test_score</th>\n",
       "      <th>rank_test_score</th>\n",
       "    </tr>\n",
       "  </thead>\n",
       "  <tbody>\n",
       "    <tr>\n",
       "      <th>0</th>\n",
       "      <td>7.669926</td>\n",
       "      <td>0.199829</td>\n",
       "      <td>0.000000</td>\n",
       "      <td>0.000000</td>\n",
       "      <td>0.1</td>\n",
       "      <td>l1</td>\n",
       "      <td>{'classifier__C': 0.1, 'classifier__penalty': ...</td>\n",
       "      <td>NaN</td>\n",
       "      <td>NaN</td>\n",
       "      <td>NaN</td>\n",
       "      <td>NaN</td>\n",
       "      <td>NaN</td>\n",
       "      <td>NaN</td>\n",
       "      <td>NaN</td>\n",
       "      <td>4</td>\n",
       "    </tr>\n",
       "    <tr>\n",
       "      <th>1</th>\n",
       "      <td>8.334882</td>\n",
       "      <td>0.517754</td>\n",
       "      <td>1.528888</td>\n",
       "      <td>0.091207</td>\n",
       "      <td>0.1</td>\n",
       "      <td>l2</td>\n",
       "      <td>{'classifier__C': 0.1, 'classifier__penalty': ...</td>\n",
       "      <td>0.956093</td>\n",
       "      <td>0.955412</td>\n",
       "      <td>0.952349</td>\n",
       "      <td>0.958816</td>\n",
       "      <td>0.955412</td>\n",
       "      <td>0.955616</td>\n",
       "      <td>0.002060</td>\n",
       "      <td>1</td>\n",
       "    </tr>\n",
       "    <tr>\n",
       "      <th>2</th>\n",
       "      <td>5.866111</td>\n",
       "      <td>0.104299</td>\n",
       "      <td>0.000000</td>\n",
       "      <td>0.000000</td>\n",
       "      <td>1</td>\n",
       "      <td>l1</td>\n",
       "      <td>{'classifier__C': 1, 'classifier__penalty': 'l1'}</td>\n",
       "      <td>NaN</td>\n",
       "      <td>NaN</td>\n",
       "      <td>NaN</td>\n",
       "      <td>NaN</td>\n",
       "      <td>NaN</td>\n",
       "      <td>NaN</td>\n",
       "      <td>NaN</td>\n",
       "      <td>4</td>\n",
       "    </tr>\n",
       "    <tr>\n",
       "      <th>3</th>\n",
       "      <td>8.883740</td>\n",
       "      <td>0.350042</td>\n",
       "      <td>1.664781</td>\n",
       "      <td>0.116040</td>\n",
       "      <td>1</td>\n",
       "      <td>l2</td>\n",
       "      <td>{'classifier__C': 1, 'classifier__penalty': 'l2'}</td>\n",
       "      <td>0.954731</td>\n",
       "      <td>0.948264</td>\n",
       "      <td>0.947243</td>\n",
       "      <td>0.953029</td>\n",
       "      <td>0.948604</td>\n",
       "      <td>0.950374</td>\n",
       "      <td>0.002947</td>\n",
       "      <td>2</td>\n",
       "    </tr>\n",
       "    <tr>\n",
       "      <th>4</th>\n",
       "      <td>7.225823</td>\n",
       "      <td>0.319799</td>\n",
       "      <td>0.000000</td>\n",
       "      <td>0.000000</td>\n",
       "      <td>10</td>\n",
       "      <td>l1</td>\n",
       "      <td>{'classifier__C': 10, 'classifier__penalty': '...</td>\n",
       "      <td>NaN</td>\n",
       "      <td>NaN</td>\n",
       "      <td>NaN</td>\n",
       "      <td>NaN</td>\n",
       "      <td>NaN</td>\n",
       "      <td>NaN</td>\n",
       "      <td>NaN</td>\n",
       "      <td>4</td>\n",
       "    </tr>\n",
       "    <tr>\n",
       "      <th>5</th>\n",
       "      <td>9.213948</td>\n",
       "      <td>0.602075</td>\n",
       "      <td>1.768098</td>\n",
       "      <td>0.281587</td>\n",
       "      <td>10</td>\n",
       "      <td>l2</td>\n",
       "      <td>{'classifier__C': 10, 'classifier__penalty': '...</td>\n",
       "      <td>0.950817</td>\n",
       "      <td>0.942478</td>\n",
       "      <td>0.945711</td>\n",
       "      <td>0.946052</td>\n",
       "      <td>0.948264</td>\n",
       "      <td>0.946664</td>\n",
       "      <td>0.002779</td>\n",
       "      <td>3</td>\n",
       "    </tr>\n",
       "  </tbody>\n",
       "</table>\n",
       "</div>"
      ],
      "text/plain": [
       "   mean_fit_time  std_fit_time  mean_score_time  std_score_time  \\\n",
       "0       7.669926      0.199829         0.000000        0.000000   \n",
       "1       8.334882      0.517754         1.528888        0.091207   \n",
       "2       5.866111      0.104299         0.000000        0.000000   \n",
       "3       8.883740      0.350042         1.664781        0.116040   \n",
       "4       7.225823      0.319799         0.000000        0.000000   \n",
       "5       9.213948      0.602075         1.768098        0.281587   \n",
       "\n",
       "  param_classifier__C param_classifier__penalty  \\\n",
       "0                 0.1                        l1   \n",
       "1                 0.1                        l2   \n",
       "2                   1                        l1   \n",
       "3                   1                        l2   \n",
       "4                  10                        l1   \n",
       "5                  10                        l2   \n",
       "\n",
       "                                              params  split0_test_score  \\\n",
       "0  {'classifier__C': 0.1, 'classifier__penalty': ...                NaN   \n",
       "1  {'classifier__C': 0.1, 'classifier__penalty': ...           0.956093   \n",
       "2  {'classifier__C': 1, 'classifier__penalty': 'l1'}                NaN   \n",
       "3  {'classifier__C': 1, 'classifier__penalty': 'l2'}           0.954731   \n",
       "4  {'classifier__C': 10, 'classifier__penalty': '...                NaN   \n",
       "5  {'classifier__C': 10, 'classifier__penalty': '...           0.950817   \n",
       "\n",
       "   split1_test_score  split2_test_score  split3_test_score  split4_test_score  \\\n",
       "0                NaN                NaN                NaN                NaN   \n",
       "1           0.955412           0.952349           0.958816           0.955412   \n",
       "2                NaN                NaN                NaN                NaN   \n",
       "3           0.948264           0.947243           0.953029           0.948604   \n",
       "4                NaN                NaN                NaN                NaN   \n",
       "5           0.942478           0.945711           0.946052           0.948264   \n",
       "\n",
       "   mean_test_score  std_test_score  rank_test_score  \n",
       "0              NaN             NaN                4  \n",
       "1         0.955616        0.002060                1  \n",
       "2              NaN             NaN                4  \n",
       "3         0.950374        0.002947                2  \n",
       "4              NaN             NaN                4  \n",
       "5         0.946664        0.002779                3  "
      ]
     },
     "execution_count": 138,
     "metadata": {},
     "output_type": "execute_result"
    }
   ],
   "source": [
    "lr_results"
   ]
  },
  {
   "cell_type": "code",
   "execution_count": 139,
   "id": "d5ca0f72",
   "metadata": {},
   "outputs": [
    {
     "name": "stdout",
     "output_type": "stream",
     "text": [
      "Best parameters:  {'classifier__C': 0.1, 'classifier__penalty': 'l2'}\n",
      "Best score:  0.9556160653505786\n"
     ]
    }
   ],
   "source": [
    "print(\"Best parameters: \", grid_search.best_params_)\n",
    "print(\"Best score: \", grid_search.best_score_)"
   ]
  },
  {
   "cell_type": "markdown",
   "id": "05121f30",
   "metadata": {},
   "source": [
    "### SVM"
   ]
  },
  {
   "cell_type": "code",
   "execution_count": 35,
   "id": "528eaca4",
   "metadata": {},
   "outputs": [],
   "source": [
    "svm_pipe = Pipeline([\n",
    "    ('vectorizer', CountVectorizer()),\n",
    "    ('tfidf', TfidfTransformer()),\n",
    "    ('clf', SGDClassifier(loss='hinge', penalty='l2',\n",
    "                          alpha=1e-3, random_state=42,\n",
    "                          max_iter=5, tol=None)),\n",
    "])"
   ]
  },
  {
   "cell_type": "code",
   "execution_count": 36,
   "id": "2fb074b0",
   "metadata": {},
   "outputs": [
    {
     "data": {
      "text/plain": [
       "Pipeline(steps=[('vectorizer', CountVectorizer()),\n",
       "                ('tfidf', TfidfTransformer()),\n",
       "                ('clf',\n",
       "                 SGDClassifier(alpha=0.001, max_iter=5, random_state=42,\n",
       "                               tol=None))])"
      ]
     },
     "execution_count": 36,
     "metadata": {},
     "output_type": "execute_result"
    }
   ],
   "source": [
    "svm_pipe.fit(train_transformed_x, train_transformed_y)"
   ]
  },
  {
   "cell_type": "code",
   "execution_count": 37,
   "id": "15d0a64b",
   "metadata": {},
   "outputs": [],
   "source": [
    "svm_predicted = svm_pipe.predict(test_transformed_x)"
   ]
  },
  {
   "cell_type": "code",
   "execution_count": 38,
   "id": "bf8c190d",
   "metadata": {},
   "outputs": [
    {
     "data": {
      "text/plain": [
       "0.9264714086471408"
      ]
     },
     "execution_count": 38,
     "metadata": {},
     "output_type": "execute_result"
    }
   ],
   "source": [
    "np.mean(svm_predicted == test_transformed_y)"
   ]
  },
  {
   "cell_type": "markdown",
   "id": "1cee78bb",
   "metadata": {},
   "source": [
    "A lot better than Naive-Bayes classifier. Lets check the score if we also take bigrams into account"
   ]
  },
  {
   "cell_type": "code",
   "execution_count": 39,
   "id": "77040350",
   "metadata": {},
   "outputs": [],
   "source": [
    "svm_pipe_2 = Pipeline([\n",
    "    ('vectorizer', CountVectorizer(ngram_range=(1,2))),\n",
    "    ('tfidf', TfidfTransformer()),\n",
    "    ('clf', SGDClassifier(loss='hinge', penalty='l2',\n",
    "                          alpha=1e-3, random_state=42,\n",
    "                          max_iter=5, tol=None)),\n",
    "])"
   ]
  },
  {
   "cell_type": "code",
   "execution_count": 40,
   "id": "a5c7f516",
   "metadata": {},
   "outputs": [
    {
     "data": {
      "text/plain": [
       "Pipeline(steps=[('vectorizer', CountVectorizer(ngram_range=(1, 2))),\n",
       "                ('tfidf', TfidfTransformer()),\n",
       "                ('clf',\n",
       "                 SGDClassifier(alpha=0.001, max_iter=5, random_state=42,\n",
       "                               tol=None))])"
      ]
     },
     "execution_count": 40,
     "metadata": {},
     "output_type": "execute_result"
    }
   ],
   "source": [
    "svm_pipe_2.fit(train_transformed_x, train_transformed_y)"
   ]
  },
  {
   "cell_type": "code",
   "execution_count": 41,
   "id": "4eec98ec",
   "metadata": {},
   "outputs": [],
   "source": [
    "svm2_predicted = svm_pipe_2.predict(test_transformed_x)"
   ]
  },
  {
   "cell_type": "code",
   "execution_count": 42,
   "id": "e9efa38b",
   "metadata": {},
   "outputs": [
    {
     "data": {
      "text/plain": [
       "0.9112412831241283"
      ]
     },
     "execution_count": 42,
     "metadata": {},
     "output_type": "execute_result"
    }
   ],
   "source": [
    "np.mean(svm2_predicted == test_transformed_y)"
   ]
  },
  {
   "cell_type": "markdown",
   "id": "318fc385",
   "metadata": {},
   "source": [
    "It's actually worse, so we will be taking only single words into account. Let's play with the classifier parameters"
   ]
  },
  {
   "cell_type": "code",
   "execution_count": 43,
   "id": "9dc68a59",
   "metadata": {},
   "outputs": [],
   "source": [
    "huber_pipe = Pipeline([\n",
    "    ('vectorizer', CountVectorizer()),\n",
    "    ('tfidf', TfidfTransformer()),  \n",
    "    ('clf', SGDClassifier(loss='modified_huber', penalty='l2',\n",
    "                          alpha=1e-3, random_state=42,\n",
    "                          max_iter=10, tol=None)),\n",
    "])"
   ]
  },
  {
   "cell_type": "code",
   "execution_count": 44,
   "id": "61dae701",
   "metadata": {},
   "outputs": [
    {
     "data": {
      "text/plain": [
       "Pipeline(steps=[('vectorizer', CountVectorizer()),\n",
       "                ('tfidf', TfidfTransformer()),\n",
       "                ('clf',\n",
       "                 SGDClassifier(alpha=0.001, loss='modified_huber', max_iter=10,\n",
       "                               random_state=42, tol=None))])"
      ]
     },
     "execution_count": 44,
     "metadata": {},
     "output_type": "execute_result"
    }
   ],
   "source": [
    "huber_pipe.fit(train_transformed_x, train_transformed_y)"
   ]
  },
  {
   "cell_type": "code",
   "execution_count": 45,
   "id": "50bce8a4",
   "metadata": {},
   "outputs": [],
   "source": [
    "huber_predicted = huber_pipe.predict(test_transformed_x)"
   ]
  },
  {
   "cell_type": "code",
   "execution_count": 46,
   "id": "9e9c13a9",
   "metadata": {},
   "outputs": [],
   "source": [
    "huber_predicted_prob = huber_pipe.predict_proba(test_transformed_x)"
   ]
  },
  {
   "cell_type": "code",
   "execution_count": 47,
   "id": "8a0f19a6",
   "metadata": {},
   "outputs": [
    {
     "data": {
      "text/plain": [
       "0.9424267782426778"
      ]
     },
     "execution_count": 47,
     "metadata": {},
     "output_type": "execute_result"
    }
   ],
   "source": [
    "np.mean(huber_predicted == test_transformed_y)"
   ]
  },
  {
   "cell_type": "markdown",
   "id": "a581cfa7",
   "metadata": {},
   "source": [
    "# SVM - Grid Search"
   ]
  },
  {
   "cell_type": "code",
   "execution_count": 149,
   "id": "be95f1da",
   "metadata": {},
   "outputs": [],
   "source": [
    "svm_pipe = Pipeline([\n",
    "    ('vectorizer', CountVectorizer()),\n",
    "    ('tfidf', TfidfTransformer()),\n",
    "    ('clf', SGDClassifier(loss='hinge', penalty='l2',\n",
    "                          alpha=1e-3, random_state=42,\n",
    "                          max_iter=5, tol=None)),\n",
    "])\n",
    "\n",
    "param_grid = {\n",
    "    'clf__loss': ['hinge', 'modified_huber'],\n",
    "    'clf__penalty': ['l1', 'l2'],\n",
    "    'clf__alpha': [1e-3, 1e-4, 1e-5],\n",
    "}"
   ]
  },
  {
   "cell_type": "code",
   "execution_count": 150,
   "id": "9411c30f",
   "metadata": {},
   "outputs": [],
   "source": [
    "grid_search = GridSearchCV(svm_pipe, param_grid, cv=5, n_jobs=-1)"
   ]
  },
  {
   "cell_type": "code",
   "execution_count": 151,
   "id": "002cb6e9",
   "metadata": {},
   "outputs": [
    {
     "data": {
      "text/html": [
       "<style>#sk-container-id-3 {color: black;background-color: white;}#sk-container-id-3 pre{padding: 0;}#sk-container-id-3 div.sk-toggleable {background-color: white;}#sk-container-id-3 label.sk-toggleable__label {cursor: pointer;display: block;width: 100%;margin-bottom: 0;padding: 0.3em;box-sizing: border-box;text-align: center;}#sk-container-id-3 label.sk-toggleable__label-arrow:before {content: \"▸\";float: left;margin-right: 0.25em;color: #696969;}#sk-container-id-3 label.sk-toggleable__label-arrow:hover:before {color: black;}#sk-container-id-3 div.sk-estimator:hover label.sk-toggleable__label-arrow:before {color: black;}#sk-container-id-3 div.sk-toggleable__content {max-height: 0;max-width: 0;overflow: hidden;text-align: left;background-color: #f0f8ff;}#sk-container-id-3 div.sk-toggleable__content pre {margin: 0.2em;color: black;border-radius: 0.25em;background-color: #f0f8ff;}#sk-container-id-3 input.sk-toggleable__control:checked~div.sk-toggleable__content {max-height: 200px;max-width: 100%;overflow: auto;}#sk-container-id-3 input.sk-toggleable__control:checked~label.sk-toggleable__label-arrow:before {content: \"▾\";}#sk-container-id-3 div.sk-estimator input.sk-toggleable__control:checked~label.sk-toggleable__label {background-color: #d4ebff;}#sk-container-id-3 div.sk-label input.sk-toggleable__control:checked~label.sk-toggleable__label {background-color: #d4ebff;}#sk-container-id-3 input.sk-hidden--visually {border: 0;clip: rect(1px 1px 1px 1px);clip: rect(1px, 1px, 1px, 1px);height: 1px;margin: -1px;overflow: hidden;padding: 0;position: absolute;width: 1px;}#sk-container-id-3 div.sk-estimator {font-family: monospace;background-color: #f0f8ff;border: 1px dotted black;border-radius: 0.25em;box-sizing: border-box;margin-bottom: 0.5em;}#sk-container-id-3 div.sk-estimator:hover {background-color: #d4ebff;}#sk-container-id-3 div.sk-parallel-item::after {content: \"\";width: 100%;border-bottom: 1px solid gray;flex-grow: 1;}#sk-container-id-3 div.sk-label:hover label.sk-toggleable__label {background-color: #d4ebff;}#sk-container-id-3 div.sk-serial::before {content: \"\";position: absolute;border-left: 1px solid gray;box-sizing: border-box;top: 0;bottom: 0;left: 50%;z-index: 0;}#sk-container-id-3 div.sk-serial {display: flex;flex-direction: column;align-items: center;background-color: white;padding-right: 0.2em;padding-left: 0.2em;position: relative;}#sk-container-id-3 div.sk-item {position: relative;z-index: 1;}#sk-container-id-3 div.sk-parallel {display: flex;align-items: stretch;justify-content: center;background-color: white;position: relative;}#sk-container-id-3 div.sk-item::before, #sk-container-id-3 div.sk-parallel-item::before {content: \"\";position: absolute;border-left: 1px solid gray;box-sizing: border-box;top: 0;bottom: 0;left: 50%;z-index: -1;}#sk-container-id-3 div.sk-parallel-item {display: flex;flex-direction: column;z-index: 1;position: relative;background-color: white;}#sk-container-id-3 div.sk-parallel-item:first-child::after {align-self: flex-end;width: 50%;}#sk-container-id-3 div.sk-parallel-item:last-child::after {align-self: flex-start;width: 50%;}#sk-container-id-3 div.sk-parallel-item:only-child::after {width: 0;}#sk-container-id-3 div.sk-dashed-wrapped {border: 1px dashed gray;margin: 0 0.4em 0.5em 0.4em;box-sizing: border-box;padding-bottom: 0.4em;background-color: white;}#sk-container-id-3 div.sk-label label {font-family: monospace;font-weight: bold;display: inline-block;line-height: 1.2em;}#sk-container-id-3 div.sk-label-container {text-align: center;}#sk-container-id-3 div.sk-container {/* jupyter's `normalize.less` sets `[hidden] { display: none; }` but bootstrap.min.css set `[hidden] { display: none !important; }` so we also need the `!important` here to be able to override the default hidden behavior on the sphinx rendered scikit-learn.org. See: https://github.com/scikit-learn/scikit-learn/issues/21755 */display: inline-block !important;position: relative;}#sk-container-id-3 div.sk-text-repr-fallback {display: none;}</style><div id=\"sk-container-id-3\" class=\"sk-top-container\"><div class=\"sk-text-repr-fallback\"><pre>GridSearchCV(cv=5,\n",
       "             estimator=Pipeline(steps=[(&#x27;vectorizer&#x27;, CountVectorizer()),\n",
       "                                       (&#x27;tfidf&#x27;, TfidfTransformer()),\n",
       "                                       (&#x27;clf&#x27;,\n",
       "                                        SGDClassifier(alpha=0.001, max_iter=5,\n",
       "                                                      random_state=42,\n",
       "                                                      tol=None))]),\n",
       "             n_jobs=-1,\n",
       "             param_grid={&#x27;clf__alpha&#x27;: [0.001, 0.0001, 1e-05],\n",
       "                         &#x27;clf__loss&#x27;: [&#x27;hinge&#x27;, &#x27;modified_huber&#x27;],\n",
       "                         &#x27;clf__penalty&#x27;: [&#x27;l1&#x27;, &#x27;l2&#x27;]})</pre><b>In a Jupyter environment, please rerun this cell to show the HTML representation or trust the notebook. <br />On GitHub, the HTML representation is unable to render, please try loading this page with nbviewer.org.</b></div><div class=\"sk-container\" hidden><div class=\"sk-item sk-dashed-wrapped\"><div class=\"sk-label-container\"><div class=\"sk-label sk-toggleable\"><input class=\"sk-toggleable__control sk-hidden--visually\" id=\"sk-estimator-id-10\" type=\"checkbox\" ><label for=\"sk-estimator-id-10\" class=\"sk-toggleable__label sk-toggleable__label-arrow\">GridSearchCV</label><div class=\"sk-toggleable__content\"><pre>GridSearchCV(cv=5,\n",
       "             estimator=Pipeline(steps=[(&#x27;vectorizer&#x27;, CountVectorizer()),\n",
       "                                       (&#x27;tfidf&#x27;, TfidfTransformer()),\n",
       "                                       (&#x27;clf&#x27;,\n",
       "                                        SGDClassifier(alpha=0.001, max_iter=5,\n",
       "                                                      random_state=42,\n",
       "                                                      tol=None))]),\n",
       "             n_jobs=-1,\n",
       "             param_grid={&#x27;clf__alpha&#x27;: [0.001, 0.0001, 1e-05],\n",
       "                         &#x27;clf__loss&#x27;: [&#x27;hinge&#x27;, &#x27;modified_huber&#x27;],\n",
       "                         &#x27;clf__penalty&#x27;: [&#x27;l1&#x27;, &#x27;l2&#x27;]})</pre></div></div></div><div class=\"sk-parallel\"><div class=\"sk-parallel-item\"><div class=\"sk-item\"><div class=\"sk-label-container\"><div class=\"sk-label sk-toggleable\"><input class=\"sk-toggleable__control sk-hidden--visually\" id=\"sk-estimator-id-11\" type=\"checkbox\" ><label for=\"sk-estimator-id-11\" class=\"sk-toggleable__label sk-toggleable__label-arrow\">estimator: Pipeline</label><div class=\"sk-toggleable__content\"><pre>Pipeline(steps=[(&#x27;vectorizer&#x27;, CountVectorizer()),\n",
       "                (&#x27;tfidf&#x27;, TfidfTransformer()),\n",
       "                (&#x27;clf&#x27;,\n",
       "                 SGDClassifier(alpha=0.001, max_iter=5, random_state=42,\n",
       "                               tol=None))])</pre></div></div></div><div class=\"sk-serial\"><div class=\"sk-item\"><div class=\"sk-serial\"><div class=\"sk-item\"><div class=\"sk-estimator sk-toggleable\"><input class=\"sk-toggleable__control sk-hidden--visually\" id=\"sk-estimator-id-12\" type=\"checkbox\" ><label for=\"sk-estimator-id-12\" class=\"sk-toggleable__label sk-toggleable__label-arrow\">CountVectorizer</label><div class=\"sk-toggleable__content\"><pre>CountVectorizer()</pre></div></div></div><div class=\"sk-item\"><div class=\"sk-estimator sk-toggleable\"><input class=\"sk-toggleable__control sk-hidden--visually\" id=\"sk-estimator-id-13\" type=\"checkbox\" ><label for=\"sk-estimator-id-13\" class=\"sk-toggleable__label sk-toggleable__label-arrow\">TfidfTransformer</label><div class=\"sk-toggleable__content\"><pre>TfidfTransformer()</pre></div></div></div><div class=\"sk-item\"><div class=\"sk-estimator sk-toggleable\"><input class=\"sk-toggleable__control sk-hidden--visually\" id=\"sk-estimator-id-14\" type=\"checkbox\" ><label for=\"sk-estimator-id-14\" class=\"sk-toggleable__label sk-toggleable__label-arrow\">SGDClassifier</label><div class=\"sk-toggleable__content\"><pre>SGDClassifier(alpha=0.001, max_iter=5, random_state=42, tol=None)</pre></div></div></div></div></div></div></div></div></div></div></div></div>"
      ],
      "text/plain": [
       "GridSearchCV(cv=5,\n",
       "             estimator=Pipeline(steps=[('vectorizer', CountVectorizer()),\n",
       "                                       ('tfidf', TfidfTransformer()),\n",
       "                                       ('clf',\n",
       "                                        SGDClassifier(alpha=0.001, max_iter=5,\n",
       "                                                      random_state=42,\n",
       "                                                      tol=None))]),\n",
       "             n_jobs=-1,\n",
       "             param_grid={'clf__alpha': [0.001, 0.0001, 1e-05],\n",
       "                         'clf__loss': ['hinge', 'modified_huber'],\n",
       "                         'clf__penalty': ['l1', 'l2']})"
      ]
     },
     "execution_count": 151,
     "metadata": {},
     "output_type": "execute_result"
    }
   ],
   "source": [
    "grid_search.fit(train_transformed_x, train_transformed_y)"
   ]
  },
  {
   "cell_type": "code",
   "execution_count": 152,
   "id": "8fdcf4b9",
   "metadata": {},
   "outputs": [],
   "source": [
    "svm_results = pd.DataFrame(grid_search.cv_results_)"
   ]
  },
  {
   "cell_type": "code",
   "execution_count": 153,
   "id": "a36216e0",
   "metadata": {},
   "outputs": [
    {
     "data": {
      "text/html": [
       "<div>\n",
       "<style scoped>\n",
       "    .dataframe tbody tr th:only-of-type {\n",
       "        vertical-align: middle;\n",
       "    }\n",
       "\n",
       "    .dataframe tbody tr th {\n",
       "        vertical-align: top;\n",
       "    }\n",
       "\n",
       "    .dataframe thead th {\n",
       "        text-align: right;\n",
       "    }\n",
       "</style>\n",
       "<table border=\"1\" class=\"dataframe\">\n",
       "  <thead>\n",
       "    <tr style=\"text-align: right;\">\n",
       "      <th></th>\n",
       "      <th>mean_fit_time</th>\n",
       "      <th>std_fit_time</th>\n",
       "      <th>mean_score_time</th>\n",
       "      <th>std_score_time</th>\n",
       "      <th>param_clf__alpha</th>\n",
       "      <th>param_clf__loss</th>\n",
       "      <th>param_clf__penalty</th>\n",
       "      <th>params</th>\n",
       "      <th>split0_test_score</th>\n",
       "      <th>split1_test_score</th>\n",
       "      <th>split2_test_score</th>\n",
       "      <th>split3_test_score</th>\n",
       "      <th>split4_test_score</th>\n",
       "      <th>mean_test_score</th>\n",
       "      <th>std_test_score</th>\n",
       "      <th>rank_test_score</th>\n",
       "    </tr>\n",
       "  </thead>\n",
       "  <tbody>\n",
       "    <tr>\n",
       "      <th>0</th>\n",
       "      <td>11.293004</td>\n",
       "      <td>0.658909</td>\n",
       "      <td>3.173850</td>\n",
       "      <td>0.189107</td>\n",
       "      <td>0.001</td>\n",
       "      <td>hinge</td>\n",
       "      <td>l1</td>\n",
       "      <td>{'clf__alpha': 0.001, 'clf__loss': 'hinge', 'c...</td>\n",
       "      <td>0.911334</td>\n",
       "      <td>0.909122</td>\n",
       "      <td>0.909632</td>\n",
       "      <td>0.910483</td>\n",
       "      <td>0.912185</td>\n",
       "      <td>0.910551</td>\n",
       "      <td>0.001111</td>\n",
       "      <td>12</td>\n",
       "    </tr>\n",
       "    <tr>\n",
       "      <th>1</th>\n",
       "      <td>12.211124</td>\n",
       "      <td>0.659992</td>\n",
       "      <td>3.124391</td>\n",
       "      <td>0.417540</td>\n",
       "      <td>0.001</td>\n",
       "      <td>hinge</td>\n",
       "      <td>l2</td>\n",
       "      <td>{'clf__alpha': 0.001, 'clf__loss': 'hinge', 'c...</td>\n",
       "      <td>0.928523</td>\n",
       "      <td>0.927672</td>\n",
       "      <td>0.924949</td>\n",
       "      <td>0.928182</td>\n",
       "      <td>0.922226</td>\n",
       "      <td>0.926310</td>\n",
       "      <td>0.002400</td>\n",
       "      <td>11</td>\n",
       "    </tr>\n",
       "    <tr>\n",
       "      <th>2</th>\n",
       "      <td>12.630573</td>\n",
       "      <td>0.348019</td>\n",
       "      <td>2.756526</td>\n",
       "      <td>0.198496</td>\n",
       "      <td>0.001</td>\n",
       "      <td>modified_huber</td>\n",
       "      <td>l1</td>\n",
       "      <td>{'clf__alpha': 0.001, 'clf__loss': 'modified_h...</td>\n",
       "      <td>0.928353</td>\n",
       "      <td>0.922907</td>\n",
       "      <td>0.928353</td>\n",
       "      <td>0.927842</td>\n",
       "      <td>0.925289</td>\n",
       "      <td>0.926549</td>\n",
       "      <td>0.002146</td>\n",
       "      <td>10</td>\n",
       "    </tr>\n",
       "    <tr>\n",
       "      <th>3</th>\n",
       "      <td>11.839322</td>\n",
       "      <td>0.484790</td>\n",
       "      <td>2.703529</td>\n",
       "      <td>0.207475</td>\n",
       "      <td>0.001</td>\n",
       "      <td>modified_huber</td>\n",
       "      <td>l2</td>\n",
       "      <td>{'clf__alpha': 0.001, 'clf__loss': 'modified_h...</td>\n",
       "      <td>0.943839</td>\n",
       "      <td>0.945882</td>\n",
       "      <td>0.941797</td>\n",
       "      <td>0.945031</td>\n",
       "      <td>0.938904</td>\n",
       "      <td>0.943091</td>\n",
       "      <td>0.002503</td>\n",
       "      <td>9</td>\n",
       "    </tr>\n",
       "    <tr>\n",
       "      <th>4</th>\n",
       "      <td>12.494258</td>\n",
       "      <td>1.167133</td>\n",
       "      <td>3.010079</td>\n",
       "      <td>0.271727</td>\n",
       "      <td>0.0001</td>\n",
       "      <td>hinge</td>\n",
       "      <td>l1</td>\n",
       "      <td>{'clf__alpha': 0.0001, 'clf__loss': 'hinge', '...</td>\n",
       "      <td>0.950306</td>\n",
       "      <td>0.952689</td>\n",
       "      <td>0.950136</td>\n",
       "      <td>0.950477</td>\n",
       "      <td>0.950647</td>\n",
       "      <td>0.950851</td>\n",
       "      <td>0.000935</td>\n",
       "      <td>8</td>\n",
       "    </tr>\n",
       "    <tr>\n",
       "      <th>5</th>\n",
       "      <td>13.336269</td>\n",
       "      <td>0.298935</td>\n",
       "      <td>3.431249</td>\n",
       "      <td>0.615521</td>\n",
       "      <td>0.0001</td>\n",
       "      <td>hinge</td>\n",
       "      <td>l2</td>\n",
       "      <td>{'clf__alpha': 0.0001, 'clf__loss': 'hinge', '...</td>\n",
       "      <td>0.957965</td>\n",
       "      <td>0.960007</td>\n",
       "      <td>0.956943</td>\n",
       "      <td>0.957284</td>\n",
       "      <td>0.956773</td>\n",
       "      <td>0.957794</td>\n",
       "      <td>0.001179</td>\n",
       "      <td>5</td>\n",
       "    </tr>\n",
       "    <tr>\n",
       "      <th>6</th>\n",
       "      <td>14.825534</td>\n",
       "      <td>0.239861</td>\n",
       "      <td>3.622052</td>\n",
       "      <td>0.382134</td>\n",
       "      <td>0.0001</td>\n",
       "      <td>modified_huber</td>\n",
       "      <td>l1</td>\n",
       "      <td>{'clf__alpha': 0.0001, 'clf__loss': 'modified_...</td>\n",
       "      <td>0.954731</td>\n",
       "      <td>0.951157</td>\n",
       "      <td>0.950306</td>\n",
       "      <td>0.954731</td>\n",
       "      <td>0.951498</td>\n",
       "      <td>0.952485</td>\n",
       "      <td>0.001875</td>\n",
       "      <td>7</td>\n",
       "    </tr>\n",
       "    <tr>\n",
       "      <th>7</th>\n",
       "      <td>13.587310</td>\n",
       "      <td>0.261667</td>\n",
       "      <td>3.418371</td>\n",
       "      <td>0.191358</td>\n",
       "      <td>0.0001</td>\n",
       "      <td>modified_huber</td>\n",
       "      <td>l2</td>\n",
       "      <td>{'clf__alpha': 0.0001, 'clf__loss': 'modified_...</td>\n",
       "      <td>0.963240</td>\n",
       "      <td>0.963581</td>\n",
       "      <td>0.961538</td>\n",
       "      <td>0.961538</td>\n",
       "      <td>0.960517</td>\n",
       "      <td>0.962083</td>\n",
       "      <td>0.001151</td>\n",
       "      <td>2</td>\n",
       "    </tr>\n",
       "    <tr>\n",
       "      <th>8</th>\n",
       "      <td>15.341742</td>\n",
       "      <td>0.306326</td>\n",
       "      <td>3.071092</td>\n",
       "      <td>0.266124</td>\n",
       "      <td>0.00001</td>\n",
       "      <td>hinge</td>\n",
       "      <td>l1</td>\n",
       "      <td>{'clf__alpha': 1e-05, 'clf__loss': 'hinge', 'c...</td>\n",
       "      <td>0.963240</td>\n",
       "      <td>0.961538</td>\n",
       "      <td>0.957624</td>\n",
       "      <td>0.960177</td>\n",
       "      <td>0.959496</td>\n",
       "      <td>0.960415</td>\n",
       "      <td>0.001894</td>\n",
       "      <td>3</td>\n",
       "    </tr>\n",
       "    <tr>\n",
       "      <th>9</th>\n",
       "      <td>14.138195</td>\n",
       "      <td>0.489123</td>\n",
       "      <td>3.244678</td>\n",
       "      <td>0.104371</td>\n",
       "      <td>0.00001</td>\n",
       "      <td>hinge</td>\n",
       "      <td>l2</td>\n",
       "      <td>{'clf__alpha': 1e-05, 'clf__loss': 'hinge', 'c...</td>\n",
       "      <td>0.963410</td>\n",
       "      <td>0.964091</td>\n",
       "      <td>0.961538</td>\n",
       "      <td>0.962049</td>\n",
       "      <td>0.960007</td>\n",
       "      <td>0.962219</td>\n",
       "      <td>0.001436</td>\n",
       "      <td>1</td>\n",
       "    </tr>\n",
       "    <tr>\n",
       "      <th>10</th>\n",
       "      <td>13.697669</td>\n",
       "      <td>0.204680</td>\n",
       "      <td>3.443873</td>\n",
       "      <td>0.142950</td>\n",
       "      <td>0.00001</td>\n",
       "      <td>modified_huber</td>\n",
       "      <td>l1</td>\n",
       "      <td>{'clf__alpha': 1e-05, 'clf__loss': 'modified_h...</td>\n",
       "      <td>0.959326</td>\n",
       "      <td>0.952178</td>\n",
       "      <td>0.953199</td>\n",
       "      <td>0.953199</td>\n",
       "      <td>0.952859</td>\n",
       "      <td>0.954152</td>\n",
       "      <td>0.002614</td>\n",
       "      <td>6</td>\n",
       "    </tr>\n",
       "    <tr>\n",
       "      <th>11</th>\n",
       "      <td>11.672593</td>\n",
       "      <td>0.900916</td>\n",
       "      <td>2.451997</td>\n",
       "      <td>0.586781</td>\n",
       "      <td>0.00001</td>\n",
       "      <td>modified_huber</td>\n",
       "      <td>l2</td>\n",
       "      <td>{'clf__alpha': 1e-05, 'clf__loss': 'modified_h...</td>\n",
       "      <td>0.961028</td>\n",
       "      <td>0.962219</td>\n",
       "      <td>0.959837</td>\n",
       "      <td>0.962049</td>\n",
       "      <td>0.953710</td>\n",
       "      <td>0.959769</td>\n",
       "      <td>0.003147</td>\n",
       "      <td>4</td>\n",
       "    </tr>\n",
       "  </tbody>\n",
       "</table>\n",
       "</div>"
      ],
      "text/plain": [
       "    mean_fit_time  std_fit_time  mean_score_time  std_score_time  \\\n",
       "0       11.293004      0.658909         3.173850        0.189107   \n",
       "1       12.211124      0.659992         3.124391        0.417540   \n",
       "2       12.630573      0.348019         2.756526        0.198496   \n",
       "3       11.839322      0.484790         2.703529        0.207475   \n",
       "4       12.494258      1.167133         3.010079        0.271727   \n",
       "5       13.336269      0.298935         3.431249        0.615521   \n",
       "6       14.825534      0.239861         3.622052        0.382134   \n",
       "7       13.587310      0.261667         3.418371        0.191358   \n",
       "8       15.341742      0.306326         3.071092        0.266124   \n",
       "9       14.138195      0.489123         3.244678        0.104371   \n",
       "10      13.697669      0.204680         3.443873        0.142950   \n",
       "11      11.672593      0.900916         2.451997        0.586781   \n",
       "\n",
       "   param_clf__alpha param_clf__loss param_clf__penalty  \\\n",
       "0             0.001           hinge                 l1   \n",
       "1             0.001           hinge                 l2   \n",
       "2             0.001  modified_huber                 l1   \n",
       "3             0.001  modified_huber                 l2   \n",
       "4            0.0001           hinge                 l1   \n",
       "5            0.0001           hinge                 l2   \n",
       "6            0.0001  modified_huber                 l1   \n",
       "7            0.0001  modified_huber                 l2   \n",
       "8           0.00001           hinge                 l1   \n",
       "9           0.00001           hinge                 l2   \n",
       "10          0.00001  modified_huber                 l1   \n",
       "11          0.00001  modified_huber                 l2   \n",
       "\n",
       "                                               params  split0_test_score  \\\n",
       "0   {'clf__alpha': 0.001, 'clf__loss': 'hinge', 'c...           0.911334   \n",
       "1   {'clf__alpha': 0.001, 'clf__loss': 'hinge', 'c...           0.928523   \n",
       "2   {'clf__alpha': 0.001, 'clf__loss': 'modified_h...           0.928353   \n",
       "3   {'clf__alpha': 0.001, 'clf__loss': 'modified_h...           0.943839   \n",
       "4   {'clf__alpha': 0.0001, 'clf__loss': 'hinge', '...           0.950306   \n",
       "5   {'clf__alpha': 0.0001, 'clf__loss': 'hinge', '...           0.957965   \n",
       "6   {'clf__alpha': 0.0001, 'clf__loss': 'modified_...           0.954731   \n",
       "7   {'clf__alpha': 0.0001, 'clf__loss': 'modified_...           0.963240   \n",
       "8   {'clf__alpha': 1e-05, 'clf__loss': 'hinge', 'c...           0.963240   \n",
       "9   {'clf__alpha': 1e-05, 'clf__loss': 'hinge', 'c...           0.963410   \n",
       "10  {'clf__alpha': 1e-05, 'clf__loss': 'modified_h...           0.959326   \n",
       "11  {'clf__alpha': 1e-05, 'clf__loss': 'modified_h...           0.961028   \n",
       "\n",
       "    split1_test_score  split2_test_score  split3_test_score  \\\n",
       "0            0.909122           0.909632           0.910483   \n",
       "1            0.927672           0.924949           0.928182   \n",
       "2            0.922907           0.928353           0.927842   \n",
       "3            0.945882           0.941797           0.945031   \n",
       "4            0.952689           0.950136           0.950477   \n",
       "5            0.960007           0.956943           0.957284   \n",
       "6            0.951157           0.950306           0.954731   \n",
       "7            0.963581           0.961538           0.961538   \n",
       "8            0.961538           0.957624           0.960177   \n",
       "9            0.964091           0.961538           0.962049   \n",
       "10           0.952178           0.953199           0.953199   \n",
       "11           0.962219           0.959837           0.962049   \n",
       "\n",
       "    split4_test_score  mean_test_score  std_test_score  rank_test_score  \n",
       "0            0.912185         0.910551        0.001111               12  \n",
       "1            0.922226         0.926310        0.002400               11  \n",
       "2            0.925289         0.926549        0.002146               10  \n",
       "3            0.938904         0.943091        0.002503                9  \n",
       "4            0.950647         0.950851        0.000935                8  \n",
       "5            0.956773         0.957794        0.001179                5  \n",
       "6            0.951498         0.952485        0.001875                7  \n",
       "7            0.960517         0.962083        0.001151                2  \n",
       "8            0.959496         0.960415        0.001894                3  \n",
       "9            0.960007         0.962219        0.001436                1  \n",
       "10           0.952859         0.954152        0.002614                6  \n",
       "11           0.953710         0.959769        0.003147                4  "
      ]
     },
     "execution_count": 153,
     "metadata": {},
     "output_type": "execute_result"
    }
   ],
   "source": [
    "svm_results"
   ]
  },
  {
   "cell_type": "code",
   "execution_count": 155,
   "id": "203c8491",
   "metadata": {},
   "outputs": [
    {
     "name": "stdout",
     "output_type": "stream",
     "text": [
      "Best parameters:  {'clf__alpha': 1e-05, 'clf__loss': 'hinge', 'clf__penalty': 'l2'}\n",
      "Best score:  0.962219196732471\n"
     ]
    }
   ],
   "source": [
    "print(\"Best parameters: \", grid_search.best_params_)\n",
    "print(\"Best score: \", grid_search.best_score_)"
   ]
  },
  {
   "cell_type": "markdown",
   "id": "f213814d",
   "metadata": {},
   "source": [
    "dictionary of models and probabilities of false and true labels"
   ]
  },
  {
   "cell_type": "code",
   "execution_count": 48,
   "id": "6a245b41",
   "metadata": {},
   "outputs": [],
   "source": [
    "model_dict = {'Logistic regression': [lr_predicted, lr_predicted_probability]}\n",
    "model_dict['Multinomial Naive Bayes'] = [predicted, predicted_probability]\n",
    "model_dict['SVM'] = [svm_predicted, np.empty(shape=(0,))]\n",
    "model_dict['SVM with bigrams'] = [svm2_predicted, np.empty(shape=(0,))]\n",
    "model_dict['SVM modified huber'] = [huber_predicted, huber_predicted_prob]"
   ]
  },
  {
   "cell_type": "markdown",
   "id": "db6d7286",
   "metadata": {},
   "source": [
    "# Accuracy"
   ]
  },
  {
   "cell_type": "code",
   "execution_count": null,
   "id": "1de0e683",
   "metadata": {},
   "outputs": [],
   "source": [
    "# co znaczą te miary: \n",
    "# precision the ability of the classifier not to label as positive a sample that is negative.\n",
    "# tp / (tp + fp)\n",
    "# The recall is intuitively the ability of the classifier to find all the positive samples. \n",
    "# tp / (tp + fn)\n",
    "# F1 = 2 * (precision * recall) / (precision + recall)\n",
    "# log_loss - how far is the predicted value from actual"
   ]
  },
  {
   "cell_type": "code",
   "execution_count": 49,
   "id": "1e78eddb",
   "metadata": {},
   "outputs": [],
   "source": [
    "# precision\n",
    "from sklearn.metrics import precision_score, recall_score, f1_score, roc_auc_score, log_loss, brier_score_loss\n",
    "def accuracy(name, y_true,y_pred, y_probabilities = np.empty(shape=(0,))):\n",
    "    precision = precision_score(y_true, y_pred)\n",
    "    recall = recall_score(y_true, y_pred, pos_label=0)\n",
    "    F1_score = f1_score(y_true, y_pred, pos_label=0)\n",
    "    auc_score = roc_auc_score(y_true, y_pred)\n",
    "    if len(y_probabilities.tolist()) == 0:\n",
    "        Log_loss=None\n",
    "    else:\n",
    "        Log_loss = log_loss(y_true, y_probabilities)\n",
    "    my_dict = {'Classifier': name, 'precision': [precision], 'recall': [recall], 'f1 score': [F1_score], 'auc score': [auc_score], 'log loss': [Log_loss] }\n",
    "    df = pd.DataFrame.from_dict(my_dict) \n",
    "    return df"
   ]
  },
  {
   "cell_type": "code",
   "execution_count": 50,
   "id": "dcc5c629",
   "metadata": {},
   "outputs": [],
   "source": [
    "def accuracy_dataframe(model_dict):\n",
    "    accuracy_df = pd.DataFrame()\n",
    "    for name, val in model_dict.items():\n",
    "        accuracy_df = accuracy_df.append(pd.DataFrame(accuracy(name ,test_transformed_y, val[0], val[1])).set_index('Classifier'))\n",
    "    accuracy_df.round(decimals=3)\n",
    "    return accuracy_df"
   ]
  },
  {
   "cell_type": "code",
   "execution_count": 51,
   "id": "934cc548",
   "metadata": {},
   "outputs": [
    {
     "data": {
      "text/html": [
       "<div>\n",
       "<style scoped>\n",
       "    .dataframe tbody tr th:only-of-type {\n",
       "        vertical-align: middle;\n",
       "    }\n",
       "\n",
       "    .dataframe tbody tr th {\n",
       "        vertical-align: top;\n",
       "    }\n",
       "\n",
       "    .dataframe thead th {\n",
       "        text-align: right;\n",
       "    }\n",
       "</style>\n",
       "<table border=\"1\" class=\"dataframe\">\n",
       "  <thead>\n",
       "    <tr style=\"text-align: right;\">\n",
       "      <th></th>\n",
       "      <th>precision</th>\n",
       "      <th>recall</th>\n",
       "      <th>f1 score</th>\n",
       "      <th>auc score</th>\n",
       "      <th>log loss</th>\n",
       "    </tr>\n",
       "    <tr>\n",
       "      <th>Classifier</th>\n",
       "      <th></th>\n",
       "      <th></th>\n",
       "      <th></th>\n",
       "      <th></th>\n",
       "      <th></th>\n",
       "    </tr>\n",
       "  </thead>\n",
       "  <tbody>\n",
       "    <tr>\n",
       "      <th>Logistic regression</th>\n",
       "      <td>0.939015</td>\n",
       "      <td>0.963110</td>\n",
       "      <td>0.959312</td>\n",
       "      <td>0.944996</td>\n",
       "      <td>0.267585</td>\n",
       "    </tr>\n",
       "    <tr>\n",
       "      <th>Multinomial Naive Bayes</th>\n",
       "      <td>0.928728</td>\n",
       "      <td>0.967788</td>\n",
       "      <td>0.895736</td>\n",
       "      <td>0.826355</td>\n",
       "      <td>0.360352</td>\n",
       "    </tr>\n",
       "    <tr>\n",
       "      <th>SVM</th>\n",
       "      <td>0.945933</td>\n",
       "      <td>0.970038</td>\n",
       "      <td>0.942395</td>\n",
       "      <td>0.912709</td>\n",
       "      <td>NaN</td>\n",
       "    </tr>\n",
       "    <tr>\n",
       "      <th>SVM with bigrams</th>\n",
       "      <td>0.952497</td>\n",
       "      <td>0.975346</td>\n",
       "      <td>0.931632</td>\n",
       "      <td>0.890991</td>\n",
       "      <td>NaN</td>\n",
       "    </tr>\n",
       "    <tr>\n",
       "      <th>SVM modified huber</th>\n",
       "      <td>0.950429</td>\n",
       "      <td>0.971387</td>\n",
       "      <td>0.954385</td>\n",
       "      <td>0.933279</td>\n",
       "      <td>0.234706</td>\n",
       "    </tr>\n",
       "  </tbody>\n",
       "</table>\n",
       "</div>"
      ],
      "text/plain": [
       "                         precision    recall  f1 score  auc score  log loss\n",
       "Classifier                                                                 \n",
       "Logistic regression       0.939015  0.963110  0.959312   0.944996  0.267585\n",
       "Multinomial Naive Bayes   0.928728  0.967788  0.895736   0.826355  0.360352\n",
       "SVM                       0.945933  0.970038  0.942395   0.912709       NaN\n",
       "SVM with bigrams          0.952497  0.975346  0.931632   0.890991       NaN\n",
       "SVM modified huber        0.950429  0.971387  0.954385   0.933279  0.234706"
      ]
     },
     "execution_count": 51,
     "metadata": {},
     "output_type": "execute_result"
    }
   ],
   "source": [
    "accuracy_dataframe(model_dict)"
   ]
  },
  {
   "cell_type": "code",
   "execution_count": 59,
   "id": "6ca00c26",
   "metadata": {},
   "outputs": [],
   "source": [
    "import seaborn as sns\n",
    "from matplotlib.gridspec import GridSpec\n",
    "\n",
    "def plot_histogram_pred(model_dict):\n",
    "    fig = plt.figure(figsize=(10, 8))\n",
    "    gs = GridSpec(2, 2, figure=fig)\n",
    "    grid_positions = [(0, 0), (0,1), (1, 0)]\n",
    "    i=0\n",
    "    for name, val in model_dict.items():\n",
    "        if len(val[1].tolist()) == 0:\n",
    "            continue\n",
    "        else:\n",
    "            row, col = grid_positions[i]\n",
    "            ax = fig.add_subplot(gs[row, col])\n",
    "            i+=1\n",
    "            data = val[1][:, 0]\n",
    "            sns.histplot(data, ax=ax, bins=10, kde=False, color=\"teal\")\n",
    "            sns.set_style(\"whitegrid\")\n",
    "            sns.set_context(\"notebook\", font_scale=1.2)\n",
    "            plt.title(name, fontsize=16)\n",
    "            plt.xlabel('Predicted value', fontsize=14)\n",
    "            plt.ylabel('Count', fontsize=14)\n",
    "            plt.xticks(fontsize=12)\n",
    "            plt.yticks(fontsize=12)\n",
    "            plt.ylim(0, 12000)\n",
    "    plt.tight_layout()\n",
    "    plt.show()"
   ]
  },
  {
   "cell_type": "code",
   "execution_count": 60,
   "id": "ce3d75b3",
   "metadata": {},
   "outputs": [
    {
     "data": {
      "image/png": "[encoded data removed]",
      "text/plain": [
       "<Figure size 720x576 with 3 Axes>"
      ]
     },
     "metadata": {},
     "output_type": "display_data"
    }
   ],
   "source": [
    "plot_histogram_pred(model_dict)"
   ]
  },
  {
   "cell_type": "markdown",
   "id": "d0c047c7",
   "metadata": {},
   "source": [
    "# Grid Search - podsumowanie"
   ]
  },
  {
   "cell_type": "markdown",
   "id": "35bfd52b",
   "metadata": {},
   "source": [
    "Z użyciem dodatkowej hiperparametryzacji udało się polepszyć accuracy dla każdego z modeli\n",
    "\n",
    "Multinomial Naive Bayes: 0.826355 ==> 0.905344 {'clf__alpha': 0.1}\n",
    "Logistic Regression: 0.944996 ==> 0.955616 {'classifier__C': 0.1, 'classifier__penalty': 'l2'}\n",
    "SVM: 0.933279 ==> 0.962219 {'clf__alpha': 1e-05, 'clf__loss': 'hinge', 'clf__penalty': 'l2'}"
   ]
  }
 ],
 "metadata": {
  "kernelspec": {
   "display_name": "Python 3 (ipykernel)",
   "language": "python",
   "name": "python3"
  },
  "language_info": {
   "codemirror_mode": {
    "name": "ipython",
    "version": 3
   },
   "file_extension": ".py",
   "mimetype": "text/x-python",
   "name": "python",
   "nbconvert_exporter": "python",
   "pygments_lexer": "ipython3",
   "version": "3.10.7"
  }
 },
 "nbformat": 4,
 "nbformat_minor": 5
}
