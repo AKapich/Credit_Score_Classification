{
 "cells": [
  {
   "cell_type": "markdown",
   "id": "ce247929",
   "metadata": {},
   "source": [
    "# Fakenews detection\n",
    "Karolina Mączka, Tymoteusz Urban"
   ]
  },
  {
   "cell_type": "markdown",
   "id": "c805ecaf",
   "metadata": {},
   "source": [
    "<h1 style=\"color:red\"> Komentarze dotyczące walidacji oznaczane są kolorem czerwonym. </h1>\n",
    "lub symbolem /A/\n",
    "\n",
    "\n",
    "<span style=\"color:red\"> walidacja: Aleks Kapich, Tymoteusz Kwieciński</span>\n"
   ]
  },
  {
   "cell_type": "code",
   "execution_count": 7,
   "id": "93248206",
   "metadata": {
    "scrolled": false
   },
   "outputs": [
    {
     "name": "stderr",
     "output_type": "stream",
     "text": [
      "[nltk_data] Downloading package stopwords to\n",
      "[nltk_data]     C:\\Users\\tymot\\AppData\\Roaming\\nltk_data...\n",
      "[nltk_data]   Package stopwords is already up-to-date!\n",
      "[nltk_data] Downloading package punkt to\n",
      "[nltk_data]     C:\\Users\\tymot\\AppData\\Roaming\\nltk_data...\n",
      "[nltk_data]   Package punkt is already up-to-date!\n",
      "[nltk_data] Downloading package wordnet to\n",
      "[nltk_data]     C:\\Users\\tymot\\AppData\\Roaming\\nltk_data...\n",
      "[nltk_data]   Package wordnet is already up-to-date!\n",
      "[nltk_data] Downloading package omw-1.4 to\n",
      "[nltk_data]     C:\\Users\\tymot\\AppData\\Roaming\\nltk_data...\n",
      "[nltk_data]   Package omw-1.4 is already up-to-date!\n"
     ]
    }
   ],
   "source": [
    "import pandas as pd\n",
    "import numpy as np\n",
    "import matplotlib.pyplot as plt\n",
    "import sklearn\n",
    "from sklearn.model_selection import train_test_split\n",
    "from sklearn.feature_extraction.text import TfidfVectorizer\n",
    "from sklearn.feature_extraction.text import CountVectorizer, TfidfTransformer\n",
    "import nltk\n",
    "from nltk.tokenize import sent_tokenize, word_tokenize\n",
    "from nltk.corpus import stopwords\n",
    "from nltk.stem import WordNetLemmatizer\n",
    "nltk.download('stopwords')\n",
    "nltk.download('punkt')\n",
    "nltk.download('wordnet')\n",
    "nltk.download('omw-1.4')\n",
    "import re\n",
    "from wordcloud import WordCloud\n",
    "from langdetect import detect\n",
    "from langdetect import DetectorFactory\n",
    "DetectorFactory.seed = 0"
   ]
  },
  {
   "cell_type": "code",
   "execution_count": 8,
   "id": "6b4af895",
   "metadata": {},
   "outputs": [],
   "source": [
    "# Upload danych\n",
    "train=pd.read_csv('training_data.csv', header=0, sep=',')\n",
    "test=pd.read_csv('testing_data.csv', header=0, sep=',')\n",
    "val=pd.read_csv('fakenws_validation.csv', header=0, sep=',')"
   ]
  },
  {
   "cell_type": "code",
   "execution_count": 9,
   "id": "53ac715b",
   "metadata": {},
   "outputs": [
    {
     "data": {
      "text/plain": [
       "0.4899847925266131"
      ]
     },
     "execution_count": 9,
     "metadata": {},
     "output_type": "execute_result"
    }
   ],
   "source": [
    "len(train)/sum([len(df) for df in [train, test, val]])"
   ]
  },
  {
   "cell_type": "markdown",
   "id": "012040de",
   "metadata": {},
   "source": [
    "<span style=\"color:red\">Zbiór treningowy to niecałe 50% całego zbioru danych - mógłby być trochę większy,\n",
    "przy zbyt małym zbiorze treningowym model może funkcjonować nieefektywnie</span> "
   ]
  },
  {
   "cell_type": "markdown",
   "id": "93af8965",
   "metadata": {},
   "source": [
    "## Train test split"
   ]
  },
  {
   "cell_type": "markdown",
   "id": "021e47e1",
   "metadata": {},
   "source": [
    "<span style=\"color:red\">Zweryfikujmy, czy wartości z targetu są rozdystrybuowane podobnie w zbiorach train, test, val</span> "
   ]
  },
  {
   "cell_type": "code",
   "execution_count": 10,
   "id": "6e2da306",
   "metadata": {},
   "outputs": [
    {
     "name": "stdout",
     "output_type": "stream",
     "text": [
      "fake    20645\n",
      "true    13186\n",
      "Name: label, dtype: int64\n",
      "Proporcja true/fake: 0.6387018648583193 \n",
      "\n",
      "fake    12700\n",
      "true     8014\n",
      "Name: label, dtype: int64\n",
      "Proporcja true/fake: 0.631023622047244 \n",
      "\n",
      "fake    8814\n",
      "true    5686\n",
      "Name: label, dtype: int64\n",
      "Proporcja true/fake: 0.6451100521896982 \n",
      "\n"
     ]
    }
   ],
   "source": [
    "for target in [train['label'], test['label'], val['label']]:\n",
    "    print(target.value_counts())\n",
    "    print('Proporcja true/fake:',\n",
    "          len(target[target=='true'])/len(target[target=='fake']),\n",
    "          '\\n')"
   ]
  },
  {
   "cell_type": "markdown",
   "id": "a02043b4",
   "metadata": {},
   "source": [
    "<span style=\"color:red\">Proporcje w targecie są zachowane w każdym ze zbiorów danych - bardzo dobrze</span>  "
   ]
  },
  {
   "cell_type": "code",
   "execution_count": 11,
   "id": "20b925e9",
   "metadata": {},
   "outputs": [],
   "source": [
    "df_train = train.copy()\n",
    "df_testing = test.copy()\n",
    "df_validate= val.copy()"
   ]
  },
  {
   "cell_type": "code",
   "execution_count": 12,
   "id": "a3e67e83",
   "metadata": {},
   "outputs": [],
   "source": [
    "df2 = df_validate # ułatwienie pracy z notebookiem"
   ]
  },
  {
   "cell_type": "markdown",
   "id": "f56bfd9f",
   "metadata": {},
   "source": [
    "## Getting to know the data\n"
   ]
  },
  {
   "cell_type": "code",
   "execution_count": 13,
   "id": "17ffa716",
   "metadata": {},
   "outputs": [
    {
     "data": {
      "text/html": [
       "<div>\n",
       "<style scoped>\n",
       "    .dataframe tbody tr th:only-of-type {\n",
       "        vertical-align: middle;\n",
       "    }\n",
       "\n",
       "    .dataframe tbody tr th {\n",
       "        vertical-align: top;\n",
       "    }\n",
       "\n",
       "    .dataframe thead th {\n",
       "        text-align: right;\n",
       "    }\n",
       "</style>\n",
       "<table border=\"1\" class=\"dataframe\">\n",
       "  <thead>\n",
       "    <tr style=\"text-align: right;\">\n",
       "      <th></th>\n",
       "      <th>title</th>\n",
       "      <th>text</th>\n",
       "      <th>label</th>\n",
       "    </tr>\n",
       "  </thead>\n",
       "  <tbody>\n",
       "    <tr>\n",
       "      <th>0</th>\n",
       "      <td>They Said What?!: Find Out What Reba McEntire,...</td>\n",
       "      <td>Email Ever wonder what’s on the mind of today’...</td>\n",
       "      <td>fake</td>\n",
       "    </tr>\n",
       "    <tr>\n",
       "      <th>1</th>\n",
       "      <td>Macron's European dream more difficult without...</td>\n",
       "      <td>PARIS (Reuters) - President Emmanuel Macron s ...</td>\n",
       "      <td>true</td>\n",
       "    </tr>\n",
       "    <tr>\n",
       "      <th>2</th>\n",
       "      <td>FLASHBACK VIDEO: JESSE JACKSON Praises Donald ...</td>\n",
       "      <td>Oops! Hillary and her race-baiting campaign te...</td>\n",
       "      <td>fake</td>\n",
       "    </tr>\n",
       "    <tr>\n",
       "      <th>3</th>\n",
       "      <td>Markets ignore Trump presidential bid at their...</td>\n",
       "      <td>LONDON (IFR) - The prospect of Donald Trump be...</td>\n",
       "      <td>true</td>\n",
       "    </tr>\n",
       "    <tr>\n",
       "      <th>4</th>\n",
       "      <td>Dem insiders: Sanders failed to dent Clinton</td>\n",
       "      <td>Killing Obama administration rules, dismantlin...</td>\n",
       "      <td>true</td>\n",
       "    </tr>\n",
       "  </tbody>\n",
       "</table>\n",
       "</div>"
      ],
      "text/plain": [
       "                                               title  \\\n",
       "0  They Said What?!: Find Out What Reba McEntire,...   \n",
       "1  Macron's European dream more difficult without...   \n",
       "2  FLASHBACK VIDEO: JESSE JACKSON Praises Donald ...   \n",
       "3  Markets ignore Trump presidential bid at their...   \n",
       "4       Dem insiders: Sanders failed to dent Clinton   \n",
       "\n",
       "                                                text label  \n",
       "0  Email Ever wonder what’s on the mind of today’...  fake  \n",
       "1  PARIS (Reuters) - President Emmanuel Macron s ...  true  \n",
       "2  Oops! Hillary and her race-baiting campaign te...  fake  \n",
       "3  LONDON (IFR) - The prospect of Donald Trump be...  true  \n",
       "4  Killing Obama administration rules, dismantlin...  true  "
      ]
     },
     "execution_count": 13,
     "metadata": {},
     "output_type": "execute_result"
    }
   ],
   "source": [
    "df2.head()"
   ]
  },
  {
   "cell_type": "code",
   "execution_count": 14,
   "id": "55d2e697",
   "metadata": {},
   "outputs": [
    {
     "name": "stdout",
     "output_type": "stream",
     "text": [
      "<class 'pandas.core.frame.DataFrame'>\n",
      "RangeIndex: 14500 entries, 0 to 14499\n",
      "Data columns (total 3 columns):\n",
      " #   Column  Non-Null Count  Dtype \n",
      "---  ------  --------------  ----- \n",
      " 0   title   14368 non-null  object\n",
      " 1   text    14486 non-null  object\n",
      " 2   label   14500 non-null  object\n",
      "dtypes: object(3)\n",
      "memory usage: 340.0+ KB\n"
     ]
    }
   ],
   "source": [
    "df2.info()"
   ]
  },
  {
   "cell_type": "markdown",
   "id": "a1778d92",
   "metadata": {},
   "source": [
    "<span style=\"color:red\">Nie ma braków w targecie, specyficzny zbiór danych wymagający przetworzenia adekwatnego dla NLP.\n",
    "Niewielka ilość braków w kolumnach text i title, szczególnie braki w 'text' zwracają uwage bo to kluczowa kolumna</span>   "
   ]
  },
  {
   "cell_type": "markdown",
   "id": "eb2442e2",
   "metadata": {},
   "source": [
    "\n",
    "\n",
    "## Data Preprocessing"
   ]
  },
  {
   "cell_type": "markdown",
   "id": "8fd93a04",
   "metadata": {},
   "source": [
    "### Encoding"
   ]
  },
  {
   "cell_type": "code",
   "execution_count": 15,
   "id": "16eddf9f",
   "metadata": {},
   "outputs": [],
   "source": [
    "# zamina fake i true na wartości numeryczne\n",
    "df2.loc[df2[\"label\"] == \"fake\",\"label\"] = 0\n",
    "df2.loc[df2[\"label\"] == \"true\",\"label\"] = 1"
   ]
  },
  {
   "cell_type": "code",
   "execution_count": 16,
   "id": "e98600df",
   "metadata": {},
   "outputs": [],
   "source": [
    "# before pipeline function\n",
    "def encodeLabels(df):\n",
    "    df.loc[df[\"label\"] == \"fake\",\"label\"] = 0\n",
    "    df.loc[df[\"label\"] == \"true\",\"label\"] = 1\n",
    "    return df"
   ]
  },
  {
   "cell_type": "markdown",
   "id": "3ad72669",
   "metadata": {},
   "source": [
    "### NaNs"
   ]
  },
  {
   "cell_type": "markdown",
   "id": "f72cfd19",
   "metadata": {},
   "source": [
    "<span style=\"color:red\">Lepiej wstępnie przeanalizować jak wyglądają braki danych, zamiast od razu się ich pozbywać - nie ma dowodu na to, że eksploracja braków danych została wykonana - a mogą zawierać one pewne informacje</span>    "
   ]
  },
  {
   "cell_type": "code",
   "execution_count": 17,
   "id": "827a5ed7",
   "metadata": {},
   "outputs": [
    {
     "data": {
      "text/plain": [
       "257      Il saoule tout le monde avec son analyse polit...\n",
       "926                            Ravens @ Raiders - Thursday\n",
       "989      New U.N. Report Cites Terrorists, Blames Assad...\n",
       "1083                    The Prophet of Germany’s New Right\n",
       "1411     La Corée du Nord annonce avoir envoyé un missi...\n",
       "2663     La Trump Tower cambriolée – les voleurs seraie...\n",
       "3061     Donald Trump s’excuse pour toutes les minorité...\n",
       "4208     La sortie du dernier livre inédit du Gorafi éc...\n",
       "6446     Le top des recherches Google passe en top des ...\n",
       "9348     10/6 Post-Season: WS: Beat Boston,Lose Two To ...\n",
       "12115                 Donald Trump en 5 dates >> Le Gorafi\n",
       "12266    Sur Twitter, Donald Trump se félicite d’avoir ...\n",
       "13236    10/4 Expo Park-Forbes Field Era: '08 To the Wi...\n",
       "13493    La Russie a profité de l’élection américaine p...\n",
       "Name: title, dtype: object"
      ]
     },
     "execution_count": 17,
     "metadata": {},
     "output_type": "execute_result"
    }
   ],
   "source": [
    "# /A/ przyjrzenie się tytułom bez tekstu\n",
    "df2[df2['text'].isna()]['title']"
   ]
  },
  {
   "cell_type": "code",
   "execution_count": 18,
   "id": "5b5f5cc1",
   "metadata": {},
   "outputs": [
    {
     "data": {
      "text/plain": [
       "146      A leading US senator: US Supporting War in Syr...\n",
       "282      They’re too busy liking bullshit memes and wat...\n",
       "308      $2.9B/year could have taken care of many highw...\n",
       "512      Lying, arrogant Muslim, Marxist piece of dogsh*t.\n",
       "620      There are a ton of tards who will continue to ...\n",
       "                               ...                        \n",
       "13919    Wait till you see what happens to the valuatio...\n",
       "13995    JUST VOTE TRUMP LETs PUT THE HAG OUT TO PASTUR...\n",
       "14070      Yes... AARP opposed Single Payer. Boycott them.\n",
       "14316    Same people all the time , i dont know how you...\n",
       "14452    A leading US senator: US Supporting War in Syr...\n",
       "Name: text, Length: 132, dtype: object"
      ]
     },
     "execution_count": 18,
     "metadata": {},
     "output_type": "execute_result"
    }
   ],
   "source": [
    "# /A/ przyjrzenie się tekstom bez tytułu\n",
    "df2[df2['title'].isna()]['text']"
   ]
  },
  {
   "cell_type": "code",
   "execution_count": 19,
   "id": "f998743c",
   "metadata": {
    "scrolled": true
   },
   "outputs": [
    {
     "name": "stdout",
     "output_type": "stream",
     "text": [
      "<class 'pandas.core.frame.DataFrame'>\n",
      "Int64Index: 14354 entries, 0 to 14499\n",
      "Data columns (total 3 columns):\n",
      " #   Column  Non-Null Count  Dtype \n",
      "---  ------  --------------  ----- \n",
      " 0   title   14354 non-null  object\n",
      " 1   text    14354 non-null  object\n",
      " 2   label   14354 non-null  object\n",
      "dtypes: object(3)\n",
      "memory usage: 448.6+ KB\n"
     ]
    }
   ],
   "source": [
    "# Jest bardzo mało nulli więc możemy się ich pozbyć\n",
    "df2.dropna(inplace = True)\n",
    "df2.info()"
   ]
  },
  {
   "cell_type": "markdown",
   "id": "a281c6e6",
   "metadata": {},
   "source": [
    "<span style=\"color:red\">Jak widać brak tytułu, ani brak tekstu nie oznaczają braku żadnych informacji o obserwacji</span>    "
   ]
  },
  {
   "cell_type": "code",
   "execution_count": 20,
   "id": "0e163557",
   "metadata": {},
   "outputs": [],
   "source": [
    "# transformer function\n",
    "def handleNa(df):\n",
    "    df.dropna(inplace=True)\n",
    "    print('NaNs deleted')\n",
    "    return df"
   ]
  },
  {
   "cell_type": "markdown",
   "id": "76f82217",
   "metadata": {},
   "source": [
    "### Combine columns"
   ]
  },
  {
   "cell_type": "code",
   "execution_count": 21,
   "id": "97c7a450",
   "metadata": {},
   "outputs": [],
   "source": [
    "# Z racji, że będziemy analizować same słowa, łączymy kolumny title i tekst \n",
    "# - dla naszego modelu nie będzie miało znaczenia z której kolumny pochodzą"
   ]
  },
  {
   "cell_type": "markdown",
   "id": "80e43722",
   "metadata": {},
   "source": [
    "<span style=\"color:red\">Dobry pomysł, ale pozostawienie kolumny title też mogłoby nieść dodatkowe informacje - tytuły często mogą mieć *clickbaitowy* charakter</span>    "
   ]
  },
  {
   "cell_type": "code",
   "execution_count": 22,
   "id": "4b426020",
   "metadata": {},
   "outputs": [
    {
     "data": {
      "text/plain": [
       "title    ALL HELL IS BREAKING LOOSE IN GERMANY: Citizen...\n",
       "text     Enough is enough! German citizens are witnessi...\n",
       "label                                                    0\n",
       "Name: 8102, dtype: object"
      ]
     },
     "execution_count": 22,
     "metadata": {},
     "output_type": "execute_result"
    }
   ],
   "source": [
    "df2.loc[8102]"
   ]
  },
  {
   "cell_type": "code",
   "execution_count": 23,
   "id": "149765bc",
   "metadata": {},
   "outputs": [],
   "source": [
    "df2['text'] = df2[['title', 'text']].apply(\" \".join, axis=1)"
   ]
  },
  {
   "cell_type": "code",
   "execution_count": 24,
   "id": "b3b235e7",
   "metadata": {},
   "outputs": [
    {
     "data": {
      "text/plain": [
       "'ALL HELL IS BREAKING LOOSE IN GERMANY: Citizens Want “Refugees” Gunned Down At Borders [VIDEO] Enough is enough! German citizens are witnessing the fast-track decline of their nation. Does America need to look any further than Germany to see that bringing in hundreds of thousands (in Germany s case millions) of Muslim men from countries who have no interest in assimilating in the Western world, is a serious threat to its citizens?  Liberal open-border policies that have been put forth by Angel Merkel and other progressives in power have clearly put their citizens in grave danger. OVER one-in-four Germans say they back a policy to open fire on unwanted illegal refugees at their borders.Watch massive brawl break out in refugee camp over torn Quran:The Alternative for Germany (AFD) party leader Frauke Petry caused a storm a week ago when she advocated the right of border police to gun down migrants. But her comments have struck a nerve in a country being pushed to the brink by the crisis with 29 percent of respondents in a weekend poll backing her extremist plan. Via: Express UKWe  recently reported about a vigilante group in Finland that is gaining large numbers of international members. The Soldiers of Odin are taking matters into their own hands. They are no longer going to sit back and allow the women and children in their communities be raped by these  migrants,  who have no regard for the laws of the countries that have generously agreed to accept and support them. I think it s going to be a war between local people and immigrants.    Soldiers of Odin member Foreigners can t go out alone after dark anymore. It used to be safe to go out in Finland at night, even by yourself, but now we just don t have the courage to do it.    MigrantCLICK HERE for entire story.'"
      ]
     },
     "execution_count": 24,
     "metadata": {},
     "output_type": "execute_result"
    }
   ],
   "source": [
    "df2.loc[8102]['text']"
   ]
  },
  {
   "cell_type": "code",
   "execution_count": 25,
   "id": "c5188aff",
   "metadata": {},
   "outputs": [],
   "source": [
    "#df2 = df2.drop(columns='title')"
   ]
  },
  {
   "cell_type": "code",
   "execution_count": 26,
   "id": "9d043d53",
   "metadata": {},
   "outputs": [],
   "source": [
    "# /A/ przykładowy kod który można wykorzystać do sprawdzenia ile wielkich liter w tytule\n",
    "def uppercase_percentage(text):\n",
    "    if not isinstance(text, float) : # sprawdzamy czy wartość nie jest pusta\n",
    "        return(sum(1 for c in text if c.isupper())/len(text))\n",
    "\n",
    "def count_uppercase_percentage(df):\n",
    "    df['title_uppercase_percentage'] = df['title'].apply(uppercase_percentage)\n",
    "\n",
    "count_uppercase_percentage(df2)"
   ]
  },
  {
   "cell_type": "code",
   "execution_count": 27,
   "id": "37cade58",
   "metadata": {},
   "outputs": [
    {
     "data": {
      "text/html": [
       "<div>\n",
       "<style scoped>\n",
       "    .dataframe tbody tr th:only-of-type {\n",
       "        vertical-align: middle;\n",
       "    }\n",
       "\n",
       "    .dataframe tbody tr th {\n",
       "        vertical-align: top;\n",
       "    }\n",
       "\n",
       "    .dataframe thead th {\n",
       "        text-align: right;\n",
       "    }\n",
       "</style>\n",
       "<table border=\"1\" class=\"dataframe\">\n",
       "  <thead>\n",
       "    <tr style=\"text-align: right;\">\n",
       "      <th></th>\n",
       "      <th>title</th>\n",
       "      <th>text</th>\n",
       "      <th>label</th>\n",
       "      <th>title_uppercase_percentage</th>\n",
       "    </tr>\n",
       "  </thead>\n",
       "  <tbody>\n",
       "    <tr>\n",
       "      <th>0</th>\n",
       "      <td>They Said What?!: Find Out What Reba McEntire,...</td>\n",
       "      <td>They Said What?!: Find Out What Reba McEntire,...</td>\n",
       "      <td>0</td>\n",
       "      <td>0.184783</td>\n",
       "    </tr>\n",
       "    <tr>\n",
       "      <th>1</th>\n",
       "      <td>Macron's European dream more difficult without...</td>\n",
       "      <td>Macron's European dream more difficult without...</td>\n",
       "      <td>1</td>\n",
       "      <td>0.047619</td>\n",
       "    </tr>\n",
       "    <tr>\n",
       "      <th>2</th>\n",
       "      <td>FLASHBACK VIDEO: JESSE JACKSON Praises Donald ...</td>\n",
       "      <td>FLASHBACK VIDEO: JESSE JACKSON Praises Donald ...</td>\n",
       "      <td>0</td>\n",
       "      <td>0.314516</td>\n",
       "    </tr>\n",
       "    <tr>\n",
       "      <th>3</th>\n",
       "      <td>Markets ignore Trump presidential bid at their...</td>\n",
       "      <td>Markets ignore Trump presidential bid at their...</td>\n",
       "      <td>1</td>\n",
       "      <td>0.038462</td>\n",
       "    </tr>\n",
       "    <tr>\n",
       "      <th>4</th>\n",
       "      <td>Dem insiders: Sanders failed to dent Clinton</td>\n",
       "      <td>Dem insiders: Sanders failed to dent Clinton K...</td>\n",
       "      <td>1</td>\n",
       "      <td>0.068182</td>\n",
       "    </tr>\n",
       "  </tbody>\n",
       "</table>\n",
       "</div>"
      ],
      "text/plain": [
       "                                               title  \\\n",
       "0  They Said What?!: Find Out What Reba McEntire,...   \n",
       "1  Macron's European dream more difficult without...   \n",
       "2  FLASHBACK VIDEO: JESSE JACKSON Praises Donald ...   \n",
       "3  Markets ignore Trump presidential bid at their...   \n",
       "4       Dem insiders: Sanders failed to dent Clinton   \n",
       "\n",
       "                                                text label  \\\n",
       "0  They Said What?!: Find Out What Reba McEntire,...     0   \n",
       "1  Macron's European dream more difficult without...     1   \n",
       "2  FLASHBACK VIDEO: JESSE JACKSON Praises Donald ...     0   \n",
       "3  Markets ignore Trump presidential bid at their...     1   \n",
       "4  Dem insiders: Sanders failed to dent Clinton K...     1   \n",
       "\n",
       "   title_uppercase_percentage  \n",
       "0                    0.184783  \n",
       "1                    0.047619  \n",
       "2                    0.314516  \n",
       "3                    0.038462  \n",
       "4                    0.068182  "
      ]
     },
     "execution_count": 27,
     "metadata": {},
     "output_type": "execute_result"
    }
   ],
   "source": [
    "df2.head(5)"
   ]
  },
  {
   "cell_type": "code",
   "execution_count": 28,
   "id": "dd65cfee",
   "metadata": {},
   "outputs": [],
   "source": [
    "# transformer function\n",
    "def combineColumns(df):\n",
    "    df['text'] = df[['title', 'text']].apply(\" \".join, axis=1)\n",
    "    df = df.drop(columns='title')\n",
    "    print('Columns combined')\n",
    "    return df"
   ]
  },
  {
   "cell_type": "markdown",
   "id": "987616fe",
   "metadata": {},
   "source": [
    "### Outliers"
   ]
  },
  {
   "cell_type": "code",
   "execution_count": 29,
   "id": "ec0eeb34",
   "metadata": {},
   "outputs": [
    {
     "data": {
      "text/plain": [
       "(array([1.3511e+04, 6.7900e+02, 9.0000e+01, 4.9000e+01, 6.0000e+00,\n",
       "        8.0000e+00, 6.0000e+00, 1.0000e+00, 1.0000e+00, 3.0000e+00]),\n",
       " array([1.40000e+01, 7.51640e+03, 1.50188e+04, 2.25212e+04, 3.00236e+04,\n",
       "        3.75260e+04, 4.50284e+04, 5.25308e+04, 6.00332e+04, 6.75356e+04,\n",
       "        7.50380e+04]),\n",
       " <BarContainer object of 10 artists>)"
      ]
     },
     "execution_count": 29,
     "metadata": {},
     "output_type": "execute_result"
    },
    {
     "data": {
      "image/png": "[encoded data removed]",
      "text/plain": [
       "<Figure size 432x288 with 1 Axes>"
      ]
     },
     "metadata": {
      "needs_background": "light"
     },
     "output_type": "display_data"
    }
   ],
   "source": [
    "df2['textlength'] = df2['text'].apply(len)\n",
    "plt.hist(df2['textlength'])"
   ]
  },
  {
   "cell_type": "code",
   "execution_count": 30,
   "id": "d14dca82",
   "metadata": {
    "scrolled": true
   },
   "outputs": [
    {
     "name": "stdout",
     "output_type": "stream",
     "text": [
      "title                         18\n",
      "text                          18\n",
      "label                         18\n",
      "title_uppercase_percentage    18\n",
      "textlength                    18\n",
      "dtype: int64\n"
     ]
    },
    {
     "data": {
      "text/html": [
       "<div>\n",
       "<style scoped>\n",
       "    .dataframe tbody tr th:only-of-type {\n",
       "        vertical-align: middle;\n",
       "    }\n",
       "\n",
       "    .dataframe tbody tr th {\n",
       "        vertical-align: top;\n",
       "    }\n",
       "\n",
       "    .dataframe thead th {\n",
       "        text-align: right;\n",
       "    }\n",
       "</style>\n",
       "<table border=\"1\" class=\"dataframe\">\n",
       "  <thead>\n",
       "    <tr style=\"text-align: right;\">\n",
       "      <th></th>\n",
       "      <th>title</th>\n",
       "      <th>text</th>\n",
       "      <th>label</th>\n",
       "      <th>title_uppercase_percentage</th>\n",
       "      <th>textlength</th>\n",
       "    </tr>\n",
       "  </thead>\n",
       "  <tbody>\n",
       "    <tr>\n",
       "      <th>72</th>\n",
       "      <td>Increasing Sentience</td>\n",
       "      <td>Increasing Sentience Leave a reply \\r\\nLisa Re...</td>\n",
       "      <td>0</td>\n",
       "      <td>0.100000</td>\n",
       "      <td>58200</td>\n",
       "    </tr>\n",
       "    <tr>\n",
       "      <th>248</th>\n",
       "      <td>Re: Prescription Painkiller Crisis: Why Do Ame...</td>\n",
       "      <td>Re: Prescription Painkiller Crisis: Why Do Ame...</td>\n",
       "      <td>0</td>\n",
       "      <td>0.125000</td>\n",
       "      <td>69571</td>\n",
       "    </tr>\n",
       "    <tr>\n",
       "      <th>498</th>\n",
       "      <td>Inside the war on coal</td>\n",
       "      <td>Inside the war on coal The war on coal is not ...</td>\n",
       "      <td>1</td>\n",
       "      <td>0.045455</td>\n",
       "      <td>41076</td>\n",
       "    </tr>\n",
       "    <tr>\n",
       "      <th>873</th>\n",
       "      <td>Re: More Americans Than Ever Are Losing Their ...</td>\n",
       "      <td>Re: More Americans Than Ever Are Losing Their ...</td>\n",
       "      <td>0</td>\n",
       "      <td>0.166667</td>\n",
       "      <td>66130</td>\n",
       "    </tr>\n",
       "    <tr>\n",
       "      <th>1513</th>\n",
       "      <td>LUCIFER in the Temple of the Dog II</td>\n",
       "      <td>LUCIFER in the Temple of the Dog II ISIS Takes...</td>\n",
       "      <td>0</td>\n",
       "      <td>0.314286</td>\n",
       "      <td>47319</td>\n",
       "    </tr>\n",
       "  </tbody>\n",
       "</table>\n",
       "</div>"
      ],
      "text/plain": [
       "                                                  title  \\\n",
       "72                                 Increasing Sentience   \n",
       "248   Re: Prescription Painkiller Crisis: Why Do Ame...   \n",
       "498                              Inside the war on coal   \n",
       "873   Re: More Americans Than Ever Are Losing Their ...   \n",
       "1513                LUCIFER in the Temple of the Dog II   \n",
       "\n",
       "                                                   text label  \\\n",
       "72    Increasing Sentience Leave a reply \\r\\nLisa Re...     0   \n",
       "248   Re: Prescription Painkiller Crisis: Why Do Ame...     0   \n",
       "498   Inside the war on coal The war on coal is not ...     1   \n",
       "873   Re: More Americans Than Ever Are Losing Their ...     0   \n",
       "1513  LUCIFER in the Temple of the Dog II ISIS Takes...     0   \n",
       "\n",
       "      title_uppercase_percentage  textlength  \n",
       "72                      0.100000       58200  \n",
       "248                     0.125000       69571  \n",
       "498                     0.045455       41076  \n",
       "873                     0.166667       66130  \n",
       "1513                    0.314286       47319  "
      ]
     },
     "execution_count": 30,
     "metadata": {},
     "output_type": "execute_result"
    }
   ],
   "source": [
    "print(df2[(df2['textlength'] > 40000)].count())\n",
    "df2[(df2['textlength'] > 40000)].head()"
   ]
  },
  {
   "cell_type": "code",
   "execution_count": 31,
   "id": "bfc6a5ae",
   "metadata": {},
   "outputs": [
    {
     "data": {
      "text/html": [
       "<div>\n",
       "<style scoped>\n",
       "    .dataframe tbody tr th:only-of-type {\n",
       "        vertical-align: middle;\n",
       "    }\n",
       "\n",
       "    .dataframe tbody tr th {\n",
       "        vertical-align: top;\n",
       "    }\n",
       "\n",
       "    .dataframe thead th {\n",
       "        text-align: right;\n",
       "    }\n",
       "</style>\n",
       "<table border=\"1\" class=\"dataframe\">\n",
       "  <thead>\n",
       "    <tr style=\"text-align: right;\">\n",
       "      <th></th>\n",
       "      <th>title</th>\n",
       "      <th>text</th>\n",
       "      <th>label</th>\n",
       "      <th>title_uppercase_percentage</th>\n",
       "    </tr>\n",
       "  </thead>\n",
       "  <tbody>\n",
       "    <tr>\n",
       "      <th>0</th>\n",
       "      <td>They Said What?!: Find Out What Reba McEntire,...</td>\n",
       "      <td>They Said What?!: Find Out What Reba McEntire,...</td>\n",
       "      <td>0</td>\n",
       "      <td>0.184783</td>\n",
       "    </tr>\n",
       "    <tr>\n",
       "      <th>1</th>\n",
       "      <td>Macron's European dream more difficult without...</td>\n",
       "      <td>Macron's European dream more difficult without...</td>\n",
       "      <td>1</td>\n",
       "      <td>0.047619</td>\n",
       "    </tr>\n",
       "    <tr>\n",
       "      <th>2</th>\n",
       "      <td>FLASHBACK VIDEO: JESSE JACKSON Praises Donald ...</td>\n",
       "      <td>FLASHBACK VIDEO: JESSE JACKSON Praises Donald ...</td>\n",
       "      <td>0</td>\n",
       "      <td>0.314516</td>\n",
       "    </tr>\n",
       "    <tr>\n",
       "      <th>3</th>\n",
       "      <td>Markets ignore Trump presidential bid at their...</td>\n",
       "      <td>Markets ignore Trump presidential bid at their...</td>\n",
       "      <td>1</td>\n",
       "      <td>0.038462</td>\n",
       "    </tr>\n",
       "    <tr>\n",
       "      <th>4</th>\n",
       "      <td>Dem insiders: Sanders failed to dent Clinton</td>\n",
       "      <td>Dem insiders: Sanders failed to dent Clinton K...</td>\n",
       "      <td>1</td>\n",
       "      <td>0.068182</td>\n",
       "    </tr>\n",
       "    <tr>\n",
       "      <th>...</th>\n",
       "      <td>...</td>\n",
       "      <td>...</td>\n",
       "      <td>...</td>\n",
       "      <td>...</td>\n",
       "    </tr>\n",
       "    <tr>\n",
       "      <th>14495</th>\n",
       "      <td>Bill O'Reilly claims false, admits Fox News: W...</td>\n",
       "      <td>Bill O'Reilly claims false, admits Fox News: W...</td>\n",
       "      <td>1</td>\n",
       "      <td>0.093333</td>\n",
       "    </tr>\n",
       "    <tr>\n",
       "      <th>14496</th>\n",
       "      <td>Inside Jeb's 'shock and awe' launch</td>\n",
       "      <td>Inside Jeb's 'shock and awe' launch A verdict ...</td>\n",
       "      <td>1</td>\n",
       "      <td>0.057143</td>\n",
       "    </tr>\n",
       "    <tr>\n",
       "      <th>14497</th>\n",
       "      <td>London museum says serious incident outside, w...</td>\n",
       "      <td>London museum says serious incident outside, w...</td>\n",
       "      <td>1</td>\n",
       "      <td>0.015625</td>\n",
       "    </tr>\n",
       "    <tr>\n",
       "      <th>14498</th>\n",
       "      <td>GAME CHANGER? Trump Recruits Election “Observe...</td>\n",
       "      <td>GAME CHANGER? Trump Recruits Election “Observe...</td>\n",
       "      <td>0</td>\n",
       "      <td>0.224490</td>\n",
       "    </tr>\n",
       "    <tr>\n",
       "      <th>14499</th>\n",
       "      <td>Pakistani army says it has acted against milit...</td>\n",
       "      <td>Pakistani army says it has acted against milit...</td>\n",
       "      <td>1</td>\n",
       "      <td>0.026316</td>\n",
       "    </tr>\n",
       "  </tbody>\n",
       "</table>\n",
       "<p>14336 rows × 4 columns</p>\n",
       "</div>"
      ],
      "text/plain": [
       "                                                   title  \\\n",
       "0      They Said What?!: Find Out What Reba McEntire,...   \n",
       "1      Macron's European dream more difficult without...   \n",
       "2      FLASHBACK VIDEO: JESSE JACKSON Praises Donald ...   \n",
       "3      Markets ignore Trump presidential bid at their...   \n",
       "4           Dem insiders: Sanders failed to dent Clinton   \n",
       "...                                                  ...   \n",
       "14495  Bill O'Reilly claims false, admits Fox News: W...   \n",
       "14496                Inside Jeb's 'shock and awe' launch   \n",
       "14497  London museum says serious incident outside, w...   \n",
       "14498  GAME CHANGER? Trump Recruits Election “Observe...   \n",
       "14499  Pakistani army says it has acted against milit...   \n",
       "\n",
       "                                                    text label  \\\n",
       "0      They Said What?!: Find Out What Reba McEntire,...     0   \n",
       "1      Macron's European dream more difficult without...     1   \n",
       "2      FLASHBACK VIDEO: JESSE JACKSON Praises Donald ...     0   \n",
       "3      Markets ignore Trump presidential bid at their...     1   \n",
       "4      Dem insiders: Sanders failed to dent Clinton K...     1   \n",
       "...                                                  ...   ...   \n",
       "14495  Bill O'Reilly claims false, admits Fox News: W...     1   \n",
       "14496  Inside Jeb's 'shock and awe' launch A verdict ...     1   \n",
       "14497  London museum says serious incident outside, w...     1   \n",
       "14498  GAME CHANGER? Trump Recruits Election “Observe...     0   \n",
       "14499  Pakistani army says it has acted against milit...     1   \n",
       "\n",
       "       title_uppercase_percentage  \n",
       "0                        0.184783  \n",
       "1                        0.047619  \n",
       "2                        0.314516  \n",
       "3                        0.038462  \n",
       "4                        0.068182  \n",
       "...                           ...  \n",
       "14495                    0.093333  \n",
       "14496                    0.057143  \n",
       "14497                    0.015625  \n",
       "14498                    0.224490  \n",
       "14499                    0.026316  \n",
       "\n",
       "[14336 rows x 4 columns]"
      ]
     },
     "execution_count": 31,
     "metadata": {},
     "output_type": "execute_result"
    }
   ],
   "source": [
    "# Wyrzucamy bardzo dlugie teksty (ponad 40000 znaków)\n",
    "df2 = df2[(df2['textlength'] < 40000)]\n",
    "df2.drop(columns='textlength')"
   ]
  },
  {
   "cell_type": "markdown",
   "id": "70702236",
   "metadata": {},
   "source": [
    "<span style=\"color:red\">Nie jestem pewien czy to jest niezbędne podejscie - ten rozklad po dodaniu binsów wyglada raczej okej. Dodatkowo bardzo długich tekstów jest bardzo niewiele (może warto było zweryfikować czego dotyczą przed wyrzuceniem) </br></br> Być może ich eliminacja nie jest konieczna</span>  "
   ]
  },
  {
   "cell_type": "code",
   "execution_count": 32,
   "id": "5e9fb152",
   "metadata": {},
   "outputs": [
    {
     "data": {
      "text/plain": [
       "(array([455., 507., 700., 648., 461., 461., 520., 544., 635., 697., 805.,\n",
       "        769., 779., 714., 540., 487., 424., 352., 295., 280., 274., 234.,\n",
       "        201., 198., 214., 193., 164., 145., 119., 108.,  94.,  96.,  80.,\n",
       "         67.,  68.,  64.,  59.,  51.,  66.,  39.,  48.,  36.,  42.,  38.,\n",
       "         19.,  34.,  34.,  25.,  23.,  20.,  29.,  20.,  13.,  14.,  12.,\n",
       "         13.,  14.,   9.,  11.,  16.,  10.,   4.,  18.,   9.,  12.,  13.,\n",
       "          2.,   6.,   2.,   9.,  10.,   7.,   4.,   1.,   3.,   3.,   3.,\n",
       "          4.,   3.,   4.,   3.,   4.,   2.,   0.,   1.,   4.,   3.,   2.,\n",
       "          4.,   5.,   2.,   6.,   2.,   2.,   1.,   1.,   2.,   0.,   3.,\n",
       "          3.,   2.,   0.,   4.,   1.,   1.,   1.,   1.,   1.,   2.,   0.,\n",
       "          2.,   5.,   4.,   2.,   1.,   1.,   1.,   2.,   0.,   3.,   0.,\n",
       "          1.,   3.,   1.,   2.,   1.,   1.,   3.,   1.,   1.,   0.,   0.,\n",
       "          0.,   3.,   4.,   2.,   0.,   7.,   2.,   1.,   1.,   2.,   1.,\n",
       "          2.,   0.,   1.,   1.,   0.,   0.,   0.,   0.,   0.,   0.,   0.,\n",
       "          0.,   0.,   1.,   0.,   0.,   0.,   0.,   0.,   0.,   0.,   0.,\n",
       "          2.,   0.,   1.,   0.,   0.,   0.,   0.,   0.,   0.,   0.,   0.,\n",
       "          0.,   0.,   0.,   1.,   1.,   0.,   0.,   0.,   0.,   0.,   0.,\n",
       "          0.,   0.,   0.,   0.,   0.,   0.,   0.,   0.,   0.,   0.,   0.,\n",
       "          0.,   1.]),\n",
       " array([1.400000e+01, 2.111200e+02, 4.082400e+02, 6.053600e+02,\n",
       "        8.024800e+02, 9.996000e+02, 1.196720e+03, 1.393840e+03,\n",
       "        1.590960e+03, 1.788080e+03, 1.985200e+03, 2.182320e+03,\n",
       "        2.379440e+03, 2.576560e+03, 2.773680e+03, 2.970800e+03,\n",
       "        3.167920e+03, 3.365040e+03, 3.562160e+03, 3.759280e+03,\n",
       "        3.956400e+03, 4.153520e+03, 4.350640e+03, 4.547760e+03,\n",
       "        4.744880e+03, 4.942000e+03, 5.139120e+03, 5.336240e+03,\n",
       "        5.533360e+03, 5.730480e+03, 5.927600e+03, 6.124720e+03,\n",
       "        6.321840e+03, 6.518960e+03, 6.716080e+03, 6.913200e+03,\n",
       "        7.110320e+03, 7.307440e+03, 7.504560e+03, 7.701680e+03,\n",
       "        7.898800e+03, 8.095920e+03, 8.293040e+03, 8.490160e+03,\n",
       "        8.687280e+03, 8.884400e+03, 9.081520e+03, 9.278640e+03,\n",
       "        9.475760e+03, 9.672880e+03, 9.870000e+03, 1.006712e+04,\n",
       "        1.026424e+04, 1.046136e+04, 1.065848e+04, 1.085560e+04,\n",
       "        1.105272e+04, 1.124984e+04, 1.144696e+04, 1.164408e+04,\n",
       "        1.184120e+04, 1.203832e+04, 1.223544e+04, 1.243256e+04,\n",
       "        1.262968e+04, 1.282680e+04, 1.302392e+04, 1.322104e+04,\n",
       "        1.341816e+04, 1.361528e+04, 1.381240e+04, 1.400952e+04,\n",
       "        1.420664e+04, 1.440376e+04, 1.460088e+04, 1.479800e+04,\n",
       "        1.499512e+04, 1.519224e+04, 1.538936e+04, 1.558648e+04,\n",
       "        1.578360e+04, 1.598072e+04, 1.617784e+04, 1.637496e+04,\n",
       "        1.657208e+04, 1.676920e+04, 1.696632e+04, 1.716344e+04,\n",
       "        1.736056e+04, 1.755768e+04, 1.775480e+04, 1.795192e+04,\n",
       "        1.814904e+04, 1.834616e+04, 1.854328e+04, 1.874040e+04,\n",
       "        1.893752e+04, 1.913464e+04, 1.933176e+04, 1.952888e+04,\n",
       "        1.972600e+04, 1.992312e+04, 2.012024e+04, 2.031736e+04,\n",
       "        2.051448e+04, 2.071160e+04, 2.090872e+04, 2.110584e+04,\n",
       "        2.130296e+04, 2.150008e+04, 2.169720e+04, 2.189432e+04,\n",
       "        2.209144e+04, 2.228856e+04, 2.248568e+04, 2.268280e+04,\n",
       "        2.287992e+04, 2.307704e+04, 2.327416e+04, 2.347128e+04,\n",
       "        2.366840e+04, 2.386552e+04, 2.406264e+04, 2.425976e+04,\n",
       "        2.445688e+04, 2.465400e+04, 2.485112e+04, 2.504824e+04,\n",
       "        2.524536e+04, 2.544248e+04, 2.563960e+04, 2.583672e+04,\n",
       "        2.603384e+04, 2.623096e+04, 2.642808e+04, 2.662520e+04,\n",
       "        2.682232e+04, 2.701944e+04, 2.721656e+04, 2.741368e+04,\n",
       "        2.761080e+04, 2.780792e+04, 2.800504e+04, 2.820216e+04,\n",
       "        2.839928e+04, 2.859640e+04, 2.879352e+04, 2.899064e+04,\n",
       "        2.918776e+04, 2.938488e+04, 2.958200e+04, 2.977912e+04,\n",
       "        2.997624e+04, 3.017336e+04, 3.037048e+04, 3.056760e+04,\n",
       "        3.076472e+04, 3.096184e+04, 3.115896e+04, 3.135608e+04,\n",
       "        3.155320e+04, 3.175032e+04, 3.194744e+04, 3.214456e+04,\n",
       "        3.234168e+04, 3.253880e+04, 3.273592e+04, 3.293304e+04,\n",
       "        3.313016e+04, 3.332728e+04, 3.352440e+04, 3.372152e+04,\n",
       "        3.391864e+04, 3.411576e+04, 3.431288e+04, 3.451000e+04,\n",
       "        3.470712e+04, 3.490424e+04, 3.510136e+04, 3.529848e+04,\n",
       "        3.549560e+04, 3.569272e+04, 3.588984e+04, 3.608696e+04,\n",
       "        3.628408e+04, 3.648120e+04, 3.667832e+04, 3.687544e+04,\n",
       "        3.707256e+04, 3.726968e+04, 3.746680e+04, 3.766392e+04,\n",
       "        3.786104e+04, 3.805816e+04, 3.825528e+04, 3.845240e+04,\n",
       "        3.864952e+04, 3.884664e+04, 3.904376e+04, 3.924088e+04,\n",
       "        3.943800e+04]),\n",
       " <BarContainer object of 200 artists>)"
      ]
     },
     "execution_count": 32,
     "metadata": {},
     "output_type": "execute_result"
    },
    {
     "data": {
      "image/png": "[encoded data removed]",
      "text/plain": [
       "<Figure size 432x288 with 1 Axes>"
      ]
     },
     "metadata": {
      "needs_background": "light"
     },
     "output_type": "display_data"
    }
   ],
   "source": [
    "plt.hist(df2['textlength'], bins=200) # na tym wykresie widać, że rozkład ten wygląda w miare dobrze - "
   ]
  },
  {
   "cell_type": "code",
   "execution_count": 33,
   "id": "c4c543fc",
   "metadata": {},
   "outputs": [],
   "source": [
    "# transformer function\n",
    "def removeOutliers(df):\n",
    "    df['textlength'] = df['text'].apply(len)\n",
    "    df = df[df['textlength'] < 40000]\n",
    "    df = df.drop(columns='textlength')\n",
    "    print('Outliers removed')\n",
    "    return df"
   ]
  },
  {
   "cell_type": "markdown",
   "id": "d4b4bf9d",
   "metadata": {},
   "source": [
    "### Removing stopwords"
   ]
  },
  {
   "cell_type": "code",
   "execution_count": 34,
   "id": "995b9ffd",
   "metadata": {},
   "outputs": [],
   "source": [
    "#stopword removal\n",
    "stop = stopwords.words('english')\n",
    "lemmatizer = WordNetLemmatizer()\n",
    "def remove_stopwords(s):\n",
    "    s = [lemmatizer.lemmatize(word.lower()) for word in s if not word.lower() in stop]\n",
    "    return s"
   ]
  },
  {
   "cell_type": "code",
   "execution_count": 35,
   "id": "9f14d113",
   "metadata": {},
   "outputs": [],
   "source": [
    "# punctuation and number removal\n",
    "def remove_punctuations(s):\n",
    "    s = re.sub(r'[^a-zA-Z\\s]', '', s)\n",
    "    return s"
   ]
  },
  {
   "cell_type": "code",
   "execution_count": 36,
   "id": "a9c79642",
   "metadata": {},
   "outputs": [
    {
     "name": "stderr",
     "output_type": "stream",
     "text": [
      "<ipython-input-36-1f65a2a80bc5>:1: SettingWithCopyWarning: \n",
      "A value is trying to be set on a copy of a slice from a DataFrame.\n",
      "Try using .loc[row_indexer,col_indexer] = value instead\n",
      "\n",
      "See the caveats in the documentation: https://pandas.pydata.org/pandas-docs/stable/user_guide/indexing.html#returning-a-view-versus-a-copy\n",
      "  df2['text'] = df2['text'].apply(remove_punctuations)\n",
      "<ipython-input-36-1f65a2a80bc5>:2: SettingWithCopyWarning: \n",
      "A value is trying to be set on a copy of a slice from a DataFrame.\n",
      "Try using .loc[row_indexer,col_indexer] = value instead\n",
      "\n",
      "See the caveats in the documentation: https://pandas.pydata.org/pandas-docs/stable/user_guide/indexing.html#returning-a-view-versus-a-copy\n",
      "  df2['text'] = df2['text'].apply(word_tokenize)\n"
     ]
    }
   ],
   "source": [
    "df2['text'] = df2['text'].apply(remove_punctuations)\n",
    "df2['text'] = df2['text'].apply(word_tokenize)"
   ]
  },
  {
   "cell_type": "code",
   "execution_count": 37,
   "id": "f85e04c2",
   "metadata": {},
   "outputs": [
    {
     "name": "stderr",
     "output_type": "stream",
     "text": [
      "<ipython-input-37-5a8075b3df85>:1: SettingWithCopyWarning: \n",
      "A value is trying to be set on a copy of a slice from a DataFrame.\n",
      "Try using .loc[row_indexer,col_indexer] = value instead\n",
      "\n",
      "See the caveats in the documentation: https://pandas.pydata.org/pandas-docs/stable/user_guide/indexing.html#returning-a-view-versus-a-copy\n",
      "  df2['text'] = df2['text'].apply(remove_stopwords)\n"
     ]
    }
   ],
   "source": [
    "df2['text'] = df2['text'].apply(remove_stopwords)"
   ]
  },
  {
   "cell_type": "markdown",
   "id": "9e54a230",
   "metadata": {},
   "source": [
    "<span style=\"color:red\">Odpowiednie podejście w wypadku NLP, dobrze że tekst został stokenizowany i usunięto interpunkcję</span>  "
   ]
  },
  {
   "cell_type": "code",
   "execution_count": 38,
   "id": "48034e92",
   "metadata": {
    "scrolled": true
   },
   "outputs": [],
   "source": [
    "def list2string(text):\n",
    "    text = \" \".join(wrd for wrd in text)\n",
    "    return text"
   ]
  },
  {
   "cell_type": "code",
   "execution_count": 39,
   "id": "39d4205f",
   "metadata": {},
   "outputs": [],
   "source": [
    "df3 = df2.copy()"
   ]
  },
  {
   "cell_type": "code",
   "execution_count": 40,
   "id": "3e3bffe2",
   "metadata": {},
   "outputs": [
    {
     "data": {
      "text/html": [
       "<div>\n",
       "<style scoped>\n",
       "    .dataframe tbody tr th:only-of-type {\n",
       "        vertical-align: middle;\n",
       "    }\n",
       "\n",
       "    .dataframe tbody tr th {\n",
       "        vertical-align: top;\n",
       "    }\n",
       "\n",
       "    .dataframe thead th {\n",
       "        text-align: right;\n",
       "    }\n",
       "</style>\n",
       "<table border=\"1\" class=\"dataframe\">\n",
       "  <thead>\n",
       "    <tr style=\"text-align: right;\">\n",
       "      <th></th>\n",
       "      <th>title</th>\n",
       "      <th>text</th>\n",
       "      <th>label</th>\n",
       "      <th>title_uppercase_percentage</th>\n",
       "      <th>textlength</th>\n",
       "    </tr>\n",
       "  </thead>\n",
       "  <tbody>\n",
       "    <tr>\n",
       "      <th>0</th>\n",
       "      <td>They Said What?!: Find Out What Reba McEntire,...</td>\n",
       "      <td>said find reba mcentire whoopi goldberg pope f...</td>\n",
       "      <td>0</td>\n",
       "      <td>0.184783</td>\n",
       "      <td>1181</td>\n",
       "    </tr>\n",
       "    <tr>\n",
       "      <th>1</th>\n",
       "      <td>Macron's European dream more difficult without...</td>\n",
       "      <td>macron european dream difficult without strong...</td>\n",
       "      <td>1</td>\n",
       "      <td>0.047619</td>\n",
       "      <td>1837</td>\n",
       "    </tr>\n",
       "    <tr>\n",
       "      <th>2</th>\n",
       "      <td>FLASHBACK VIDEO: JESSE JACKSON Praises Donald ...</td>\n",
       "      <td>flashback video jesse jackson praise donald tr...</td>\n",
       "      <td>0</td>\n",
       "      <td>0.314516</td>\n",
       "      <td>879</td>\n",
       "    </tr>\n",
       "    <tr>\n",
       "      <th>3</th>\n",
       "      <td>Markets ignore Trump presidential bid at their...</td>\n",
       "      <td>market ignore trump presidential bid peril lon...</td>\n",
       "      <td>1</td>\n",
       "      <td>0.038462</td>\n",
       "      <td>3198</td>\n",
       "    </tr>\n",
       "    <tr>\n",
       "      <th>4</th>\n",
       "      <td>Dem insiders: Sanders failed to dent Clinton</td>\n",
       "      <td>dem insider sander failed dent clinton killing...</td>\n",
       "      <td>1</td>\n",
       "      <td>0.068182</td>\n",
       "      <td>162</td>\n",
       "    </tr>\n",
       "  </tbody>\n",
       "</table>\n",
       "</div>"
      ],
      "text/plain": [
       "                                               title  \\\n",
       "0  They Said What?!: Find Out What Reba McEntire,...   \n",
       "1  Macron's European dream more difficult without...   \n",
       "2  FLASHBACK VIDEO: JESSE JACKSON Praises Donald ...   \n",
       "3  Markets ignore Trump presidential bid at their...   \n",
       "4       Dem insiders: Sanders failed to dent Clinton   \n",
       "\n",
       "                                                text label  \\\n",
       "0  said find reba mcentire whoopi goldberg pope f...     0   \n",
       "1  macron european dream difficult without strong...     1   \n",
       "2  flashback video jesse jackson praise donald tr...     0   \n",
       "3  market ignore trump presidential bid peril lon...     1   \n",
       "4  dem insider sander failed dent clinton killing...     1   \n",
       "\n",
       "   title_uppercase_percentage  textlength  \n",
       "0                    0.184783        1181  \n",
       "1                    0.047619        1837  \n",
       "2                    0.314516         879  \n",
       "3                    0.038462        3198  \n",
       "4                    0.068182         162  "
      ]
     },
     "execution_count": 40,
     "metadata": {},
     "output_type": "execute_result"
    }
   ],
   "source": [
    "df3[\"text\"] = df3[\"text\"].apply(list2string)\n",
    "df3.head()"
   ]
  },
  {
   "cell_type": "code",
   "execution_count": 41,
   "id": "7f53e0f2",
   "metadata": {},
   "outputs": [],
   "source": [
    "# transformer function\n",
    "def removeStopwords(df):\n",
    "    df['text'] = df['text'].apply(remove_punctuations)\n",
    "    print('Punctuation removed')\n",
    "    df['text'] = df['text'].apply(word_tokenize)\n",
    "    print('Words tokenized')\n",
    "    df['text'] = df['text'].apply(remove_stopwords)\n",
    "    print('Stopwords removed')\n",
    "    df['text'] = df['text'].apply(list2string)\n",
    "    return df"
   ]
  },
  {
   "cell_type": "markdown",
   "id": "30eff8bb",
   "metadata": {},
   "source": [
    "### Extracting english"
   ]
  },
  {
   "cell_type": "code",
   "execution_count": 46,
   "id": "94e0281f",
   "metadata": {},
   "outputs": [],
   "source": [
    "def deleteUrl(text):\n",
    "    return re.sub(r'(?i)\\b((?:https?://|www\\d{0,3}[.]|[a-z0-9.\\-]+[.][a-z]{2,4}/)(?:[^\\s()<>]+|\\(([^\\s()<>]+|(\\([^\\s()<>]+\\)))*\\))+(?:\\(([^\\s()<>]+|(\\([^\\s()<>]+\\)))*\\)|[^\\s`!()\\[\\]{};:\\'\".,<>?«»“”‘’]))', '', text)"
   ]
  },
  {
   "cell_type": "markdown",
   "id": "9ed406b3",
   "metadata": {},
   "source": [
    "<span style=\"color:red\">Według mnie szkoda tracić informację o liczbie linków w tekście - może się okazać wartościowa.\n",
    "Na potrzeby poniższej analizy mówiącej, które z tekstów były samymi linkami można by utworzyć po prostu\n",
    "nową kolumnę, gdzie znajdowałby się tekst bez linków</span> "
   ]
  },
  {
   "cell_type": "code",
   "execution_count": 43,
   "id": "9410cad7",
   "metadata": {},
   "outputs": [],
   "source": [
    "# /A/ przykładowy kod służący do policzenia wystąpień linków\n",
    "\n",
    "# /A/ potrzebujemy stokenizowanego tekstu\n",
    "df3['tokenized_text'] = df3['text'].apply(word_tokenize)\n",
    "\n",
    "def count_urls(df):\n",
    "    df['url_amount'] = df['tokenized_text'].apply(\n",
    "        lambda row: len([word for word in row if 'http' in word or 'https' in word])\n",
    "    )"
   ]
  },
  {
   "cell_type": "code",
   "execution_count": 44,
   "id": "5774df08",
   "metadata": {},
   "outputs": [
    {
     "data": {
      "text/html": [
       "<div>\n",
       "<style scoped>\n",
       "    .dataframe tbody tr th:only-of-type {\n",
       "        vertical-align: middle;\n",
       "    }\n",
       "\n",
       "    .dataframe tbody tr th {\n",
       "        vertical-align: top;\n",
       "    }\n",
       "\n",
       "    .dataframe thead th {\n",
       "        text-align: right;\n",
       "    }\n",
       "</style>\n",
       "<table border=\"1\" class=\"dataframe\">\n",
       "  <thead>\n",
       "    <tr style=\"text-align: right;\">\n",
       "      <th></th>\n",
       "      <th>title</th>\n",
       "      <th>text</th>\n",
       "      <th>label</th>\n",
       "      <th>title_uppercase_percentage</th>\n",
       "      <th>textlength</th>\n",
       "      <th>tokenized_text</th>\n",
       "      <th>url_amount</th>\n",
       "    </tr>\n",
       "  </thead>\n",
       "  <tbody>\n",
       "    <tr>\n",
       "      <th>0</th>\n",
       "      <td>They Said What?!: Find Out What Reba McEntire,...</td>\n",
       "      <td>said find reba mcentire whoopi goldberg pope f...</td>\n",
       "      <td>0</td>\n",
       "      <td>0.184783</td>\n",
       "      <td>1181</td>\n",
       "      <td>[said, find, reba, mcentire, whoopi, goldberg,...</td>\n",
       "      <td>0</td>\n",
       "    </tr>\n",
       "    <tr>\n",
       "      <th>1</th>\n",
       "      <td>Macron's European dream more difficult without...</td>\n",
       "      <td>macron european dream difficult without strong...</td>\n",
       "      <td>1</td>\n",
       "      <td>0.047619</td>\n",
       "      <td>1837</td>\n",
       "      <td>[macron, european, dream, difficult, without, ...</td>\n",
       "      <td>0</td>\n",
       "    </tr>\n",
       "    <tr>\n",
       "      <th>2</th>\n",
       "      <td>FLASHBACK VIDEO: JESSE JACKSON Praises Donald ...</td>\n",
       "      <td>flashback video jesse jackson praise donald tr...</td>\n",
       "      <td>0</td>\n",
       "      <td>0.314516</td>\n",
       "      <td>879</td>\n",
       "      <td>[flashback, video, jesse, jackson, praise, don...</td>\n",
       "      <td>1</td>\n",
       "    </tr>\n",
       "    <tr>\n",
       "      <th>3</th>\n",
       "      <td>Markets ignore Trump presidential bid at their...</td>\n",
       "      <td>market ignore trump presidential bid peril lon...</td>\n",
       "      <td>1</td>\n",
       "      <td>0.038462</td>\n",
       "      <td>3198</td>\n",
       "      <td>[market, ignore, trump, presidential, bid, per...</td>\n",
       "      <td>0</td>\n",
       "    </tr>\n",
       "    <tr>\n",
       "      <th>4</th>\n",
       "      <td>Dem insiders: Sanders failed to dent Clinton</td>\n",
       "      <td>dem insider sander failed dent clinton killing...</td>\n",
       "      <td>1</td>\n",
       "      <td>0.068182</td>\n",
       "      <td>162</td>\n",
       "      <td>[dem, insider, sander, failed, dent, clinton, ...</td>\n",
       "      <td>0</td>\n",
       "    </tr>\n",
       "  </tbody>\n",
       "</table>\n",
       "</div>"
      ],
      "text/plain": [
       "                                               title  \\\n",
       "0  They Said What?!: Find Out What Reba McEntire,...   \n",
       "1  Macron's European dream more difficult without...   \n",
       "2  FLASHBACK VIDEO: JESSE JACKSON Praises Donald ...   \n",
       "3  Markets ignore Trump presidential bid at their...   \n",
       "4       Dem insiders: Sanders failed to dent Clinton   \n",
       "\n",
       "                                                text label  \\\n",
       "0  said find reba mcentire whoopi goldberg pope f...     0   \n",
       "1  macron european dream difficult without strong...     1   \n",
       "2  flashback video jesse jackson praise donald tr...     0   \n",
       "3  market ignore trump presidential bid peril lon...     1   \n",
       "4  dem insider sander failed dent clinton killing...     1   \n",
       "\n",
       "   title_uppercase_percentage  textlength  \\\n",
       "0                    0.184783        1181   \n",
       "1                    0.047619        1837   \n",
       "2                    0.314516         879   \n",
       "3                    0.038462        3198   \n",
       "4                    0.068182         162   \n",
       "\n",
       "                                      tokenized_text  url_amount  \n",
       "0  [said, find, reba, mcentire, whoopi, goldberg,...           0  \n",
       "1  [macron, european, dream, difficult, without, ...           0  \n",
       "2  [flashback, video, jesse, jackson, praise, don...           1  \n",
       "3  [market, ignore, trump, presidential, bid, per...           0  \n",
       "4  [dem, insider, sander, failed, dent, clinton, ...           0  "
      ]
     },
     "execution_count": 44,
     "metadata": {},
     "output_type": "execute_result"
    }
   ],
   "source": [
    "# /A/\n",
    "count_urls(df3)\n",
    "df3.head(5)"
   ]
  },
  {
   "cell_type": "code",
   "execution_count": 47,
   "id": "2689436f",
   "metadata": {},
   "outputs": [],
   "source": [
    "# usuwamy linki\n",
    "df3['text'] = df3['text'].apply(deleteUrl)"
   ]
  },
  {
   "cell_type": "code",
   "execution_count": 48,
   "id": "e45bde6f",
   "metadata": {},
   "outputs": [],
   "source": [
    "# tworzymy krótszą kolumnę do analizy języka\n",
    "def shortenText(text):\n",
    "    return text[:60]"
   ]
  },
  {
   "cell_type": "code",
   "execution_count": 49,
   "id": "baa309c3",
   "metadata": {},
   "outputs": [],
   "source": [
    "df3['shorttext'] = df3['text'].apply(shortenText)"
   ]
  },
  {
   "cell_type": "code",
   "execution_count": 50,
   "id": "6827e616",
   "metadata": {},
   "outputs": [
    {
     "data": {
      "text/plain": [
       "'macron european dream difficult without strong germany paris'"
      ]
     },
     "execution_count": 50,
     "metadata": {},
     "output_type": "execute_result"
    }
   ],
   "source": [
    "df3['shorttext'][1]"
   ]
  },
  {
   "cell_type": "code",
   "execution_count": 51,
   "id": "8f0ce9a3",
   "metadata": {},
   "outputs": [
    {
     "data": {
      "text/html": [
       "<div>\n",
       "<style scoped>\n",
       "    .dataframe tbody tr th:only-of-type {\n",
       "        vertical-align: middle;\n",
       "    }\n",
       "\n",
       "    .dataframe tbody tr th {\n",
       "        vertical-align: top;\n",
       "    }\n",
       "\n",
       "    .dataframe thead th {\n",
       "        text-align: right;\n",
       "    }\n",
       "</style>\n",
       "<table border=\"1\" class=\"dataframe\">\n",
       "  <thead>\n",
       "    <tr style=\"text-align: right;\">\n",
       "      <th></th>\n",
       "      <th>title</th>\n",
       "      <th>text</th>\n",
       "      <th>label</th>\n",
       "      <th>title_uppercase_percentage</th>\n",
       "      <th>textlength</th>\n",
       "      <th>tokenized_text</th>\n",
       "      <th>url_amount</th>\n",
       "      <th>shorttext</th>\n",
       "    </tr>\n",
       "  </thead>\n",
       "  <tbody>\n",
       "    <tr>\n",
       "      <th>638</th>\n",
       "      <td>Политизация проблемы терроризма на саммите БРИ...</td>\n",
       "      <td>g</td>\n",
       "      <td>0</td>\n",
       "      <td>0.092105</td>\n",
       "      <td>6195</td>\n",
       "      <td>[g]</td>\n",
       "      <td>0</td>\n",
       "      <td>g</td>\n",
       "    </tr>\n",
       "    <tr>\n",
       "      <th>1440</th>\n",
       "      <td>О принцессах — ни слова!</td>\n",
       "      <td></td>\n",
       "      <td>0</td>\n",
       "      <td>0.041667</td>\n",
       "      <td>3149</td>\n",
       "      <td>[]</td>\n",
       "      <td>0</td>\n",
       "      <td></td>\n",
       "    </tr>\n",
       "    <tr>\n",
       "      <th>1919</th>\n",
       "      <td>Трамп разбушевался</td>\n",
       "      <td></td>\n",
       "      <td>0</td>\n",
       "      <td>0.055556</td>\n",
       "      <td>2498</td>\n",
       "      <td>[]</td>\n",
       "      <td>0</td>\n",
       "      <td></td>\n",
       "    </tr>\n",
       "    <tr>\n",
       "      <th>2442</th>\n",
       "      <td>Переплюнуть Калигулу…</td>\n",
       "      <td></td>\n",
       "      <td>0</td>\n",
       "      <td>0.095238</td>\n",
       "      <td>2385</td>\n",
       "      <td>[]</td>\n",
       "      <td>0</td>\n",
       "      <td></td>\n",
       "    </tr>\n",
       "    <tr>\n",
       "      <th>3188</th>\n",
       "      <td>Когда за скандалами не разглядеть таланта</td>\n",
       "      <td></td>\n",
       "      <td>0</td>\n",
       "      <td>0.024390</td>\n",
       "      <td>2855</td>\n",
       "      <td>[]</td>\n",
       "      <td>0</td>\n",
       "      <td></td>\n",
       "    </tr>\n",
       "    <tr>\n",
       "      <th>4574</th>\n",
       "      <td>Что Джон Керри забыл на Южном полюсе? | Новое ...</td>\n",
       "      <td></td>\n",
       "      <td>0</td>\n",
       "      <td>0.076923</td>\n",
       "      <td>2236</td>\n",
       "      <td>[]</td>\n",
       "      <td>0</td>\n",
       "      <td></td>\n",
       "    </tr>\n",
       "    <tr>\n",
       "      <th>4900</th>\n",
       "      <td>СМИ: в России создадут систему для отслеживани...</td>\n",
       "      <td></td>\n",
       "      <td>0</td>\n",
       "      <td>0.059524</td>\n",
       "      <td>1274</td>\n",
       "      <td>[]</td>\n",
       "      <td>0</td>\n",
       "      <td></td>\n",
       "    </tr>\n",
       "    <tr>\n",
       "      <th>5531</th>\n",
       "      <td>А не стоит ли оставить США наедине со своими «...</td>\n",
       "      <td></td>\n",
       "      <td>0</td>\n",
       "      <td>0.049505</td>\n",
       "      <td>1160</td>\n",
       "      <td>[]</td>\n",
       "      <td>0</td>\n",
       "      <td></td>\n",
       "    </tr>\n",
       "    <tr>\n",
       "      <th>5613</th>\n",
       "      <td>С любовью… С природой…</td>\n",
       "      <td></td>\n",
       "      <td>0</td>\n",
       "      <td>0.090909</td>\n",
       "      <td>2937</td>\n",
       "      <td>[]</td>\n",
       "      <td>0</td>\n",
       "      <td></td>\n",
       "    </tr>\n",
       "    <tr>\n",
       "      <th>6497</th>\n",
       "      <td>Дмитрий Савельев: Наказание для посягнувших на...</td>\n",
       "      <td>pravdaru</td>\n",
       "      <td>0</td>\n",
       "      <td>0.037975</td>\n",
       "      <td>2189</td>\n",
       "      <td>[pravdaru]</td>\n",
       "      <td>0</td>\n",
       "      <td>pravdaru</td>\n",
       "    </tr>\n",
       "    <tr>\n",
       "      <th>7540</th>\n",
       "      <td>Сбыча мечт задерживается на неопределенный срок</td>\n",
       "      <td></td>\n",
       "      <td>0</td>\n",
       "      <td>0.021277</td>\n",
       "      <td>2152</td>\n",
       "      <td>[]</td>\n",
       "      <td>0</td>\n",
       "      <td></td>\n",
       "    </tr>\n",
       "    <tr>\n",
       "      <th>7886</th>\n",
       "      <td>Прививка против сорокаградусного счастья</td>\n",
       "      <td></td>\n",
       "      <td>0</td>\n",
       "      <td>0.025000</td>\n",
       "      <td>3059</td>\n",
       "      <td>[]</td>\n",
       "      <td>0</td>\n",
       "      <td></td>\n",
       "    </tr>\n",
       "    <tr>\n",
       "      <th>8170</th>\n",
       "      <td>World War 3?</td>\n",
       "      <td>world war</td>\n",
       "      <td>0</td>\n",
       "      <td>0.166667</td>\n",
       "      <td>14</td>\n",
       "      <td>[world, war]</td>\n",
       "      <td>0</td>\n",
       "      <td>world war</td>\n",
       "    </tr>\n",
       "    <tr>\n",
       "      <th>8199</th>\n",
       "      <td>Сербская газета высмеяла украинского посла-гра...</td>\n",
       "      <td></td>\n",
       "      <td>0</td>\n",
       "      <td>0.019231</td>\n",
       "      <td>3500</td>\n",
       "      <td>[]</td>\n",
       "      <td>0</td>\n",
       "      <td></td>\n",
       "    </tr>\n",
       "    <tr>\n",
       "      <th>10264</th>\n",
       "      <td>Кто что хочет видеть — то и видит</td>\n",
       "      <td></td>\n",
       "      <td>0</td>\n",
       "      <td>0.030303</td>\n",
       "      <td>3545</td>\n",
       "      <td>[]</td>\n",
       "      <td>0</td>\n",
       "      <td></td>\n",
       "    </tr>\n",
       "    <tr>\n",
       "      <th>10519</th>\n",
       "      <td>Скончался старейший член японской императорско...</td>\n",
       "      <td>nhk</td>\n",
       "      <td>0</td>\n",
       "      <td>0.018868</td>\n",
       "      <td>773</td>\n",
       "      <td>[nhk]</td>\n",
       "      <td>0</td>\n",
       "      <td>nhk</td>\n",
       "    </tr>\n",
       "    <tr>\n",
       "      <th>11500</th>\n",
       "      <td>Как Великобритания использует «миротворчество»...</td>\n",
       "      <td></td>\n",
       "      <td>0</td>\n",
       "      <td>0.049020</td>\n",
       "      <td>2253</td>\n",
       "      <td>[]</td>\n",
       "      <td>0</td>\n",
       "      <td></td>\n",
       "    </tr>\n",
       "    <tr>\n",
       "      <th>13704</th>\n",
       "      <td>World War 3?</td>\n",
       "      <td>world war</td>\n",
       "      <td>0</td>\n",
       "      <td>0.166667</td>\n",
       "      <td>14</td>\n",
       "      <td>[world, war]</td>\n",
       "      <td>0</td>\n",
       "      <td>world war</td>\n",
       "    </tr>\n",
       "    <tr>\n",
       "      <th>14265</th>\n",
       "      <td>57-ой гумконвой доставил еду и медикаменты в р...</td>\n",
       "      <td>pravdaru</td>\n",
       "      <td>0</td>\n",
       "      <td>0.015625</td>\n",
       "      <td>1907</td>\n",
       "      <td>[pravdaru]</td>\n",
       "      <td>0</td>\n",
       "      <td>pravdaru</td>\n",
       "    </tr>\n",
       "  </tbody>\n",
       "</table>\n",
       "</div>"
      ],
      "text/plain": [
       "                                                   title       text label  \\\n",
       "638    Политизация проблемы терроризма на саммите БРИ...          g     0   \n",
       "1440                            О принцессах — ни слова!                0   \n",
       "1919                                  Трамп разбушевался                0   \n",
       "2442                               Переплюнуть Калигулу…                0   \n",
       "3188           Когда за скандалами не разглядеть таланта                0   \n",
       "4574   Что Джон Керри забыл на Южном полюсе? | Новое ...                0   \n",
       "4900   СМИ: в России создадут систему для отслеживани...                0   \n",
       "5531   А не стоит ли оставить США наедине со своими «...                0   \n",
       "5613                              С любовью… С природой…                0   \n",
       "6497   Дмитрий Савельев: Наказание для посягнувших на...   pravdaru     0   \n",
       "7540     Сбыча мечт задерживается на неопределенный срок                0   \n",
       "7886            Прививка против сорокаградусного счастья                0   \n",
       "8170                                        World War 3?  world war     0   \n",
       "8199   Сербская газета высмеяла украинского посла-гра...                0   \n",
       "10264                  Кто что хочет видеть — то и видит                0   \n",
       "10519  Скончался старейший член японской императорско...        nhk     0   \n",
       "11500  Как Великобритания использует «миротворчество»...                0   \n",
       "13704                                       World War 3?  world war     0   \n",
       "14265  57-ой гумконвой доставил еду и медикаменты в р...   pravdaru     0   \n",
       "\n",
       "       title_uppercase_percentage  textlength tokenized_text  url_amount  \\\n",
       "638                      0.092105        6195            [g]           0   \n",
       "1440                     0.041667        3149             []           0   \n",
       "1919                     0.055556        2498             []           0   \n",
       "2442                     0.095238        2385             []           0   \n",
       "3188                     0.024390        2855             []           0   \n",
       "4574                     0.076923        2236             []           0   \n",
       "4900                     0.059524        1274             []           0   \n",
       "5531                     0.049505        1160             []           0   \n",
       "5613                     0.090909        2937             []           0   \n",
       "6497                     0.037975        2189     [pravdaru]           0   \n",
       "7540                     0.021277        2152             []           0   \n",
       "7886                     0.025000        3059             []           0   \n",
       "8170                     0.166667          14   [world, war]           0   \n",
       "8199                     0.019231        3500             []           0   \n",
       "10264                    0.030303        3545             []           0   \n",
       "10519                    0.018868         773          [nhk]           0   \n",
       "11500                    0.049020        2253             []           0   \n",
       "13704                    0.166667          14   [world, war]           0   \n",
       "14265                    0.015625        1907     [pravdaru]           0   \n",
       "\n",
       "       shorttext  \n",
       "638            g  \n",
       "1440              \n",
       "1919              \n",
       "2442              \n",
       "3188              \n",
       "4574              \n",
       "4900              \n",
       "5531              \n",
       "5613              \n",
       "6497    pravdaru  \n",
       "7540              \n",
       "7886              \n",
       "8170   world war  \n",
       "8199              \n",
       "10264             \n",
       "10519        nhk  \n",
       "11500             \n",
       "13704  world war  \n",
       "14265   pravdaru  "
      ]
     },
     "execution_count": 51,
     "metadata": {},
     "output_type": "execute_result"
    }
   ],
   "source": [
    "df3[df3['shorttext'].apply(len) < 10]"
   ]
  },
  {
   "cell_type": "code",
   "execution_count": 52,
   "id": "e3d452f0",
   "metadata": {},
   "outputs": [],
   "source": [
    "# usuwamy teksty które mają mniej niż 10 znaków - były to same linki\n",
    "df3 = df3[df3['shorttext'].apply(len) > 10]"
   ]
  },
  {
   "cell_type": "markdown",
   "id": "a75a4e9d",
   "metadata": {},
   "source": [
    "<span style=\"color:red\">Usunięcie bardzo krótkich tekstów ma sens</span> "
   ]
  },
  {
   "cell_type": "code",
   "execution_count": 53,
   "id": "65dff531",
   "metadata": {},
   "outputs": [
    {
     "data": {
      "text/html": [
       "<div>\n",
       "<style scoped>\n",
       "    .dataframe tbody tr th:only-of-type {\n",
       "        vertical-align: middle;\n",
       "    }\n",
       "\n",
       "    .dataframe tbody tr th {\n",
       "        vertical-align: top;\n",
       "    }\n",
       "\n",
       "    .dataframe thead th {\n",
       "        text-align: right;\n",
       "    }\n",
       "</style>\n",
       "<table border=\"1\" class=\"dataframe\">\n",
       "  <thead>\n",
       "    <tr style=\"text-align: right;\">\n",
       "      <th></th>\n",
       "      <th>title</th>\n",
       "      <th>text</th>\n",
       "      <th>label</th>\n",
       "      <th>title_uppercase_percentage</th>\n",
       "      <th>textlength</th>\n",
       "      <th>tokenized_text</th>\n",
       "      <th>url_amount</th>\n",
       "      <th>shorttext</th>\n",
       "    </tr>\n",
       "  </thead>\n",
       "  <tbody>\n",
       "    <tr>\n",
       "      <th>0</th>\n",
       "      <td>They Said What?!: Find Out What Reba McEntire,...</td>\n",
       "      <td>said find reba mcentire whoopi goldberg pope f...</td>\n",
       "      <td>0</td>\n",
       "      <td>0.184783</td>\n",
       "      <td>1181</td>\n",
       "      <td>[said, find, reba, mcentire, whoopi, goldberg,...</td>\n",
       "      <td>0</td>\n",
       "      <td>said find reba mcentire whoopi goldberg pope f...</td>\n",
       "    </tr>\n",
       "    <tr>\n",
       "      <th>1</th>\n",
       "      <td>Macron's European dream more difficult without...</td>\n",
       "      <td>macron european dream difficult without strong...</td>\n",
       "      <td>1</td>\n",
       "      <td>0.047619</td>\n",
       "      <td>1837</td>\n",
       "      <td>[macron, european, dream, difficult, without, ...</td>\n",
       "      <td>0</td>\n",
       "      <td>macron european dream difficult without strong...</td>\n",
       "    </tr>\n",
       "    <tr>\n",
       "      <th>2</th>\n",
       "      <td>FLASHBACK VIDEO: JESSE JACKSON Praises Donald ...</td>\n",
       "      <td>flashback video jesse jackson praise donald tr...</td>\n",
       "      <td>0</td>\n",
       "      <td>0.314516</td>\n",
       "      <td>879</td>\n",
       "      <td>[flashback, video, jesse, jackson, praise, don...</td>\n",
       "      <td>1</td>\n",
       "      <td>flashback video jesse jackson praise donald tr...</td>\n",
       "    </tr>\n",
       "    <tr>\n",
       "      <th>3</th>\n",
       "      <td>Markets ignore Trump presidential bid at their...</td>\n",
       "      <td>market ignore trump presidential bid peril lon...</td>\n",
       "      <td>1</td>\n",
       "      <td>0.038462</td>\n",
       "      <td>3198</td>\n",
       "      <td>[market, ignore, trump, presidential, bid, per...</td>\n",
       "      <td>0</td>\n",
       "      <td>market ignore trump presidential bid peril lon...</td>\n",
       "    </tr>\n",
       "    <tr>\n",
       "      <th>4</th>\n",
       "      <td>Dem insiders: Sanders failed to dent Clinton</td>\n",
       "      <td>dem insider sander failed dent clinton killing...</td>\n",
       "      <td>1</td>\n",
       "      <td>0.068182</td>\n",
       "      <td>162</td>\n",
       "      <td>[dem, insider, sander, failed, dent, clinton, ...</td>\n",
       "      <td>0</td>\n",
       "      <td>dem insider sander failed dent clinton killing...</td>\n",
       "    </tr>\n",
       "  </tbody>\n",
       "</table>\n",
       "</div>"
      ],
      "text/plain": [
       "                                               title  \\\n",
       "0  They Said What?!: Find Out What Reba McEntire,...   \n",
       "1  Macron's European dream more difficult without...   \n",
       "2  FLASHBACK VIDEO: JESSE JACKSON Praises Donald ...   \n",
       "3  Markets ignore Trump presidential bid at their...   \n",
       "4       Dem insiders: Sanders failed to dent Clinton   \n",
       "\n",
       "                                                text label  \\\n",
       "0  said find reba mcentire whoopi goldberg pope f...     0   \n",
       "1  macron european dream difficult without strong...     1   \n",
       "2  flashback video jesse jackson praise donald tr...     0   \n",
       "3  market ignore trump presidential bid peril lon...     1   \n",
       "4  dem insider sander failed dent clinton killing...     1   \n",
       "\n",
       "   title_uppercase_percentage  textlength  \\\n",
       "0                    0.184783        1181   \n",
       "1                    0.047619        1837   \n",
       "2                    0.314516         879   \n",
       "3                    0.038462        3198   \n",
       "4                    0.068182         162   \n",
       "\n",
       "                                      tokenized_text  url_amount  \\\n",
       "0  [said, find, reba, mcentire, whoopi, goldberg,...           0   \n",
       "1  [macron, european, dream, difficult, without, ...           0   \n",
       "2  [flashback, video, jesse, jackson, praise, don...           1   \n",
       "3  [market, ignore, trump, presidential, bid, per...           0   \n",
       "4  [dem, insider, sander, failed, dent, clinton, ...           0   \n",
       "\n",
       "                                           shorttext  \n",
       "0  said find reba mcentire whoopi goldberg pope f...  \n",
       "1  macron european dream difficult without strong...  \n",
       "2  flashback video jesse jackson praise donald tr...  \n",
       "3  market ignore trump presidential bid peril lon...  \n",
       "4  dem insider sander failed dent clinton killing...  "
      ]
     },
     "execution_count": 53,
     "metadata": {},
     "output_type": "execute_result"
    }
   ],
   "source": [
    "df3.head()"
   ]
  },
  {
   "cell_type": "code",
   "execution_count": 54,
   "id": "7047614e",
   "metadata": {},
   "outputs": [],
   "source": [
    "df4 = df3.copy()"
   ]
  },
  {
   "cell_type": "code",
   "execution_count": 55,
   "id": "a7dd02bb",
   "metadata": {},
   "outputs": [],
   "source": [
    "DetectorFactory.seed = 0\n",
    "df4['lang'] = df4['shorttext'].apply(detect)"
   ]
  },
  {
   "cell_type": "code",
   "execution_count": 56,
   "id": "549f4932",
   "metadata": {},
   "outputs": [
    {
     "data": {
      "text/plain": [
       "0.1293567088077111"
      ]
     },
     "execution_count": 56,
     "metadata": {},
     "output_type": "execute_result"
    }
   ],
   "source": [
    "# /A/ Weryfikacja\n",
    "len(df4[df4['lang']!='en'])/len(df4)"
   ]
  },
  {
   "cell_type": "markdown",
   "id": "c5590617",
   "metadata": {},
   "source": [
    "<span style=\"color:red\">Dobrze zweryfikować jaki procent naszych danych zostanie usunięty</span> "
   ]
  },
  {
   "cell_type": "code",
   "execution_count": 57,
   "id": "07db5ba7",
   "metadata": {},
   "outputs": [],
   "source": [
    "# robimy model który będzie wykrywał po angielsku\n",
    "df4 = df4[df4['lang']=='en']"
   ]
  },
  {
   "cell_type": "code",
   "execution_count": 58,
   "id": "2119bc0c",
   "metadata": {},
   "outputs": [
    {
     "data": {
      "text/html": [
       "<div>\n",
       "<style scoped>\n",
       "    .dataframe tbody tr th:only-of-type {\n",
       "        vertical-align: middle;\n",
       "    }\n",
       "\n",
       "    .dataframe tbody tr th {\n",
       "        vertical-align: top;\n",
       "    }\n",
       "\n",
       "    .dataframe thead th {\n",
       "        text-align: right;\n",
       "    }\n",
       "</style>\n",
       "<table border=\"1\" class=\"dataframe\">\n",
       "  <thead>\n",
       "    <tr style=\"text-align: right;\">\n",
       "      <th></th>\n",
       "      <th>text</th>\n",
       "      <th>label</th>\n",
       "    </tr>\n",
       "  </thead>\n",
       "  <tbody>\n",
       "    <tr>\n",
       "      <th>0</th>\n",
       "      <td>said find reba mcentire whoopi goldberg pope f...</td>\n",
       "      <td>0</td>\n",
       "    </tr>\n",
       "    <tr>\n",
       "      <th>1</th>\n",
       "      <td>macron european dream difficult without strong...</td>\n",
       "      <td>1</td>\n",
       "    </tr>\n",
       "    <tr>\n",
       "      <th>2</th>\n",
       "      <td>flashback video jesse jackson praise donald tr...</td>\n",
       "      <td>0</td>\n",
       "    </tr>\n",
       "    <tr>\n",
       "      <th>3</th>\n",
       "      <td>calgary airport arrival yyc support u calgary ...</td>\n",
       "      <td>0</td>\n",
       "    </tr>\n",
       "    <tr>\n",
       "      <th>4</th>\n",
       "      <td>van jones explains rachel maddows dont actuall...</td>\n",
       "      <td>0</td>\n",
       "    </tr>\n",
       "    <tr>\n",
       "      <th>...</th>\n",
       "      <td>...</td>\n",
       "      <td>...</td>\n",
       "    </tr>\n",
       "    <tr>\n",
       "      <th>12460</th>\n",
       "      <td>bill oreilly claim false admits fox news wont ...</td>\n",
       "      <td>1</td>\n",
       "    </tr>\n",
       "    <tr>\n",
       "      <th>12461</th>\n",
       "      <td>inside jebs shock awe launch verdict could swe...</td>\n",
       "      <td>1</td>\n",
       "    </tr>\n",
       "    <tr>\n",
       "      <th>12462</th>\n",
       "      <td>london museum say serious incident outside wor...</td>\n",
       "      <td>1</td>\n",
       "    </tr>\n",
       "    <tr>\n",
       "      <th>12463</th>\n",
       "      <td>game changer trump recruit election observer p...</td>\n",
       "      <td>0</td>\n",
       "    </tr>\n",
       "    <tr>\n",
       "      <th>12464</th>\n",
       "      <td>pakistani army say acted militant including ha...</td>\n",
       "      <td>1</td>\n",
       "    </tr>\n",
       "  </tbody>\n",
       "</table>\n",
       "<p>12465 rows × 2 columns</p>\n",
       "</div>"
      ],
      "text/plain": [
       "                                                    text label\n",
       "0      said find reba mcentire whoopi goldberg pope f...     0\n",
       "1      macron european dream difficult without strong...     1\n",
       "2      flashback video jesse jackson praise donald tr...     0\n",
       "3      calgary airport arrival yyc support u calgary ...     0\n",
       "4      van jones explains rachel maddows dont actuall...     0\n",
       "...                                                  ...   ...\n",
       "12460  bill oreilly claim false admits fox news wont ...     1\n",
       "12461  inside jebs shock awe launch verdict could swe...     1\n",
       "12462  london museum say serious incident outside wor...     1\n",
       "12463  game changer trump recruit election observer p...     0\n",
       "12464  pakistani army say acted militant including ha...     1\n",
       "\n",
       "[12465 rows x 2 columns]"
      ]
     },
     "execution_count": 58,
     "metadata": {},
     "output_type": "execute_result"
    }
   ],
   "source": [
    "df4 = df4[['text', 'label']].reset_index(drop=True)\n",
    "df4"
   ]
  },
  {
   "cell_type": "code",
   "execution_count": 59,
   "id": "5c7713a9",
   "metadata": {},
   "outputs": [],
   "source": [
    "#transformer function\n",
    "def dropLanguages(df):\n",
    "    DetectorFactory.seed = 0\n",
    "    df['text'] = df['text'].apply(deleteUrl)\n",
    "    df['shorttext'] = df['text'].apply(shortenText)\n",
    "    df = df[df['shorttext'].apply(len) > 10]\n",
    "    print('Text cleaned')\n",
    "    df['lang'] = df['shorttext'].apply(detect)\n",
    "    df = df[df['lang']=='en']\n",
    "    df = df.drop(columns=['shorttext', 'lang'])\n",
    "    print('Languages dropped')\n",
    "    return df"
   ]
  },
  {
   "cell_type": "code",
   "execution_count": 60,
   "id": "3fbdb0e8",
   "metadata": {},
   "outputs": [],
   "source": [
    "# żeby zapisać dane\n",
    "df4.to_csv('train_data.csv', index=False)"
   ]
  },
  {
   "cell_type": "markdown",
   "id": "9c587f2f",
   "metadata": {},
   "source": [
    "### Word Cloud"
   ]
  },
  {
   "cell_type": "code",
   "execution_count": 61,
   "id": "60e13b91",
   "metadata": {},
   "outputs": [],
   "source": [
    "df_fake = df4[df4[\"label\"] == 0]\n",
    "df_true = df4[df4[\"label\"] == 1]"
   ]
  },
  {
   "cell_type": "code",
   "execution_count": 62,
   "id": "720a69ee",
   "metadata": {},
   "outputs": [
    {
     "data": {
      "image/png": "[encoded data removed]",
      "text/plain": [
       "<Figure size 432x288 with 1 Axes>"
      ]
     },
     "metadata": {
      "needs_background": "light"
     },
     "output_type": "display_data"
    }
   ],
   "source": [
    "# Fałszywe\n",
    "consolidated_f = ' '.join(\n",
    "    word for word in df_fake['text'].astype(str))\n",
    "wordcloud = WordCloud().generate(consolidated_f)\n",
    "plt.imshow(wordcloud, interpolation='bilinear')\n",
    "plt.axis(\"off\")\n",
    "plt.show()"
   ]
  },
  {
   "cell_type": "code",
   "execution_count": 63,
   "id": "b172e4c0",
   "metadata": {
    "scrolled": true
   },
   "outputs": [
    {
     "data": {
      "image/png": "[encoded data removed]",
      "text/plain": [
       "<Figure size 432x288 with 1 Axes>"
      ]
     },
     "metadata": {
      "needs_background": "light"
     },
     "output_type": "display_data"
    }
   ],
   "source": [
    "# Prawdziwe\n",
    "consolidated_t = ' '.join(\n",
    "    word for word in df_true['text'].astype(str))\n",
    "wordcloud = WordCloud().generate(consolidated_t)\n",
    "plt.imshow(wordcloud, interpolation='bilinear')\n",
    "plt.axis(\"off\")\n",
    "plt.show()"
   ]
  },
  {
   "cell_type": "markdown",
   "id": "bf39f96c",
   "metadata": {},
   "source": [
    "<span style=\"color:red\">Ogólnie sama idea zweryfikowania jakie słowa pojawiają się w fake newsach i prawdziwych informacjach\n",
    "jest według mnie bardzo trafna i można w ten sposób wyciągnąć użyteczne dane. </br> </br>\n",
    "Jedyne co bym zmienił, to sposób analizy tych danych - word cloud jest dosyć chaotyczny.\n",
    "Zamiast tego może lepiej by było zrobić np. listy top 100 w obydwu kategoriach i zweryfikować jak bardzo\n",
    "pokrywają się. \n",
    "</span> "
   ]
  },
  {
   "cell_type": "code",
   "execution_count": 64,
   "id": "7f08f86e",
   "metadata": {},
   "outputs": [],
   "source": [
    "# Bag of words - liczba wystąpień każdego słowa w danym tekście\n",
    "count_vect = CountVectorizer()\n",
    "X_train_counts = count_vect.fit_transform(df4['text'])"
   ]
  },
  {
   "cell_type": "code",
   "execution_count": 65,
   "id": "3c473280",
   "metadata": {},
   "outputs": [],
   "source": [
    "#Transformer function\n",
    "def myCountVectorizer(df):\n",
    "    count_vect = CountVectorizer()\n",
    "    X_train_counts = count_vect.fit_transform(df['text'])"
   ]
  },
  {
   "cell_type": "code",
   "execution_count": 66,
   "id": "7aaac33d",
   "metadata": {},
   "outputs": [],
   "source": [
    "# Zamiana częstości w częstotliwość wystąpień\n",
    "tfidf_transformer = TfidfTransformer()\n",
    "X_train_tfidf = tfidf_transformer.fit_transform(X_train_counts)"
   ]
  },
  {
   "cell_type": "code",
   "execution_count": 67,
   "id": "9841ed3f",
   "metadata": {},
   "outputs": [
    {
     "data": {
      "text/plain": [
       "(12465, 109953)"
      ]
     },
     "execution_count": 67,
     "metadata": {},
     "output_type": "execute_result"
    }
   ],
   "source": [
    "X_train_tfidf.shape"
   ]
  },
  {
   "cell_type": "markdown",
   "id": "4696ddf8",
   "metadata": {},
   "source": [
    "## Pipeline"
   ]
  },
  {
   "cell_type": "code",
   "execution_count": 68,
   "id": "00e2560f",
   "metadata": {},
   "outputs": [],
   "source": [
    "from sklearn.preprocessing import FunctionTransformer\n",
    "from sklearn.pipeline import Pipeline\n",
    "\n",
    "na_transformer = FunctionTransformer(handleNa)\n",
    "column_transformer = FunctionTransformer(combineColumns)\n",
    "outliers_transformer = FunctionTransformer(removeOutliers)\n",
    "stopwords_transformer = FunctionTransformer(removeStopwords)\n",
    "language_transformer = FunctionTransformer(dropLanguages)\n",
    "\n",
    "custom_pipe = Pipeline([\n",
    "    (\"na\", na_transformer),\n",
    "    ('columns', column_transformer),\n",
    "    ('outliers', outliers_transformer),\n",
    "    (\"stopwords\", stopwords_transformer),\n",
    "    (\"language\", language_transformer),\n",
    "])\n",
    "\n",
    "model_pipe = Pipeline([\n",
    "    ('vectorizer', CountVectorizer()),\n",
    "    ('tfidf', TfidfTransformer()),\n",
    "])"
   ]
  },
  {
   "cell_type": "code",
   "execution_count": 69,
   "id": "6e904402",
   "metadata": {},
   "outputs": [],
   "source": [
    "train = pd.read_csv('training_data.csv', index_col=False)"
   ]
  },
  {
   "cell_type": "code",
   "execution_count": 70,
   "id": "b4280492",
   "metadata": {
    "scrolled": false
   },
   "outputs": [
    {
     "data": {
      "text/html": [
       "<div>\n",
       "<style scoped>\n",
       "    .dataframe tbody tr th:only-of-type {\n",
       "        vertical-align: middle;\n",
       "    }\n",
       "\n",
       "    .dataframe tbody tr th {\n",
       "        vertical-align: top;\n",
       "    }\n",
       "\n",
       "    .dataframe thead th {\n",
       "        text-align: right;\n",
       "    }\n",
       "</style>\n",
       "<table border=\"1\" class=\"dataframe\">\n",
       "  <thead>\n",
       "    <tr style=\"text-align: right;\">\n",
       "      <th></th>\n",
       "      <th>title</th>\n",
       "      <th>text</th>\n",
       "      <th>label</th>\n",
       "    </tr>\n",
       "  </thead>\n",
       "  <tbody>\n",
       "    <tr>\n",
       "      <th>0</th>\n",
       "      <td>In the Western World Respect for Law No Longer...</td>\n",
       "      <td>In the Western World Respect for Law No Longer...</td>\n",
       "      <td>fake</td>\n",
       "    </tr>\n",
       "    <tr>\n",
       "      <th>1</th>\n",
       "      <td>WATCH: President Obama Unleashes On Trump, Sa...</td>\n",
       "      <td>During an interview on CBS s Face the Nation S...</td>\n",
       "      <td>fake</td>\n",
       "    </tr>\n",
       "    <tr>\n",
       "      <th>2</th>\n",
       "      <td>THE GUY WHO Punched “Moldylocks” Speaks Out Ab...</td>\n",
       "      <td>Nathan Domingo is the founder of  Identity Eur...</td>\n",
       "      <td>fake</td>\n",
       "    </tr>\n",
       "    <tr>\n",
       "      <th>3</th>\n",
       "      <td>SAY WHAT? AMAZON TELLS CUSTOMER THEY WERE FORC...</td>\n",
       "      <td>When it comes to limiting our free speech, not...</td>\n",
       "      <td>fake</td>\n",
       "    </tr>\n",
       "    <tr>\n",
       "      <th>4</th>\n",
       "      <td>ANTI-GUN Zealot KATIE COURIC Hit With $12 MILL...</td>\n",
       "      <td>Little Miss Sunshine  has fooled a lot of peo...</td>\n",
       "      <td>fake</td>\n",
       "    </tr>\n",
       "    <tr>\n",
       "      <th>...</th>\n",
       "      <td>...</td>\n",
       "      <td>...</td>\n",
       "      <td>...</td>\n",
       "    </tr>\n",
       "    <tr>\n",
       "      <th>33826</th>\n",
       "      <td>STATE’S ATTORNEY LIED: BALTIMORE POLICE HAD PR...</td>\n",
       "      <td>Marilyn Mosby held a press conference today in...</td>\n",
       "      <td>fake</td>\n",
       "    </tr>\n",
       "    <tr>\n",
       "      <th>33827</th>\n",
       "      <td>Russia denies its planes killed civilians in S...</td>\n",
       "      <td>MOSCOW (Reuters) - Russia s Defence Ministry d...</td>\n",
       "      <td>true</td>\n",
       "    </tr>\n",
       "    <tr>\n",
       "      <th>33828</th>\n",
       "      <td>Hungary’s “Wall” Versus the U.S. “Wall”</td>\n",
       "      <td>Op-Ed by Catherine J. Frompovich\\r\\nCurrently ...</td>\n",
       "      <td>fake</td>\n",
       "    </tr>\n",
       "    <tr>\n",
       "      <th>33829</th>\n",
       "      <td>Pastor Caught Trump’s Spiritual Advisor Steal...</td>\n",
       "      <td>It seems that Donald Trump s spiritual advisor...</td>\n",
       "      <td>fake</td>\n",
       "    </tr>\n",
       "    <tr>\n",
       "      <th>33830</th>\n",
       "      <td>BOOM! SENATOR LINDSEY GRAHAM: I Have Reason to...</td>\n",
       "      <td>Senator Lindsey Graham:  I have reason to beli...</td>\n",
       "      <td>fake</td>\n",
       "    </tr>\n",
       "  </tbody>\n",
       "</table>\n",
       "<p>33831 rows × 3 columns</p>\n",
       "</div>"
      ],
      "text/plain": [
       "                                                   title  \\\n",
       "0      In the Western World Respect for Law No Longer...   \n",
       "1       WATCH: President Obama Unleashes On Trump, Sa...   \n",
       "2      THE GUY WHO Punched “Moldylocks” Speaks Out Ab...   \n",
       "3      SAY WHAT? AMAZON TELLS CUSTOMER THEY WERE FORC...   \n",
       "4      ANTI-GUN Zealot KATIE COURIC Hit With $12 MILL...   \n",
       "...                                                  ...   \n",
       "33826  STATE’S ATTORNEY LIED: BALTIMORE POLICE HAD PR...   \n",
       "33827  Russia denies its planes killed civilians in S...   \n",
       "33828            Hungary’s “Wall” Versus the U.S. “Wall”   \n",
       "33829   Pastor Caught Trump’s Spiritual Advisor Steal...   \n",
       "33830  BOOM! SENATOR LINDSEY GRAHAM: I Have Reason to...   \n",
       "\n",
       "                                                    text label  \n",
       "0      In the Western World Respect for Law No Longer...  fake  \n",
       "1      During an interview on CBS s Face the Nation S...  fake  \n",
       "2      Nathan Domingo is the founder of  Identity Eur...  fake  \n",
       "3      When it comes to limiting our free speech, not...  fake  \n",
       "4       Little Miss Sunshine  has fooled a lot of peo...  fake  \n",
       "...                                                  ...   ...  \n",
       "33826  Marilyn Mosby held a press conference today in...  fake  \n",
       "33827  MOSCOW (Reuters) - Russia s Defence Ministry d...  true  \n",
       "33828  Op-Ed by Catherine J. Frompovich\\r\\nCurrently ...  fake  \n",
       "33829  It seems that Donald Trump s spiritual advisor...  fake  \n",
       "33830  Senator Lindsey Graham:  I have reason to beli...  fake  \n",
       "\n",
       "[33831 rows x 3 columns]"
      ]
     },
     "execution_count": 70,
     "metadata": {},
     "output_type": "execute_result"
    }
   ],
   "source": [
    "train"
   ]
  },
  {
   "cell_type": "code",
   "execution_count": 71,
   "id": "595f6cac",
   "metadata": {},
   "outputs": [],
   "source": [
    "train = encodeLabels(train)"
   ]
  },
  {
   "cell_type": "code",
   "execution_count": 72,
   "id": "8561f4b8",
   "metadata": {},
   "outputs": [
    {
     "name": "stdout",
     "output_type": "stream",
     "text": [
      "NaNs deleted\n",
      "Columns combined\n",
      "Outliers removed\n",
      "Punctuation removed\n",
      "Words tokenized\n",
      "Stopwords removed\n",
      "Text cleaned\n",
      "Languages dropped\n"
     ]
    },
    {
     "name": "stderr",
     "output_type": "stream",
     "text": [
      "<ipython-input-59-6de31874f3e2>:8: SettingWithCopyWarning: \n",
      "A value is trying to be set on a copy of a slice from a DataFrame.\n",
      "Try using .loc[row_indexer,col_indexer] = value instead\n",
      "\n",
      "See the caveats in the documentation: https://pandas.pydata.org/pandas-docs/stable/user_guide/indexing.html#returning-a-view-versus-a-copy\n",
      "  df['lang'] = df['shorttext'].apply(detect)\n"
     ]
    }
   ],
   "source": [
    "train_transformed = custom_pipe.transform(train)"
   ]
  },
  {
   "cell_type": "code",
   "execution_count": 73,
   "id": "27d631f5",
   "metadata": {},
   "outputs": [
    {
     "data": {
      "text/html": [
       "<div>\n",
       "<style scoped>\n",
       "    .dataframe tbody tr th:only-of-type {\n",
       "        vertical-align: middle;\n",
       "    }\n",
       "\n",
       "    .dataframe tbody tr th {\n",
       "        vertical-align: top;\n",
       "    }\n",
       "\n",
       "    .dataframe thead th {\n",
       "        text-align: right;\n",
       "    }\n",
       "</style>\n",
       "<table border=\"1\" class=\"dataframe\">\n",
       "  <thead>\n",
       "    <tr style=\"text-align: right;\">\n",
       "      <th></th>\n",
       "      <th>text</th>\n",
       "      <th>label</th>\n",
       "    </tr>\n",
       "  </thead>\n",
       "  <tbody>\n",
       "    <tr>\n",
       "      <th>0</th>\n",
       "      <td>western world respect law longer exists wester...</td>\n",
       "      <td>0</td>\n",
       "    </tr>\n",
       "    <tr>\n",
       "      <th>1</th>\n",
       "      <td>watch president obama unleashes trump say terr...</td>\n",
       "      <td>0</td>\n",
       "    </tr>\n",
       "    <tr>\n",
       "      <th>2</th>\n",
       "      <td>guy punched moldylocks speaks violent antifa f...</td>\n",
       "      <td>0</td>\n",
       "    </tr>\n",
       "    <tr>\n",
       "      <th>3</th>\n",
       "      <td>say amazon tell customer forced federal govern...</td>\n",
       "      <td>0</td>\n",
       "    </tr>\n",
       "    <tr>\n",
       "      <th>5</th>\n",
       "      <td>trump crisis lewd remark woman come light new ...</td>\n",
       "      <td>1</td>\n",
       "    </tr>\n",
       "    <tr>\n",
       "      <th>...</th>\n",
       "      <td>...</td>\n",
       "      <td>...</td>\n",
       "    </tr>\n",
       "    <tr>\n",
       "      <th>33825</th>\n",
       "      <td>trump give brutal warning lawless sanctuary ci...</td>\n",
       "      <td>0</td>\n",
       "    </tr>\n",
       "    <tr>\n",
       "      <th>33826</th>\n",
       "      <td>state attorney lied baltimore police probable ...</td>\n",
       "      <td>0</td>\n",
       "    </tr>\n",
       "    <tr>\n",
       "      <th>33828</th>\n",
       "      <td>hungary wall versus u wall oped catherine j fr...</td>\n",
       "      <td>0</td>\n",
       "    </tr>\n",
       "    <tr>\n",
       "      <th>33829</th>\n",
       "      <td>pastor caught trump spiritual advisor stealing...</td>\n",
       "      <td>0</td>\n",
       "    </tr>\n",
       "    <tr>\n",
       "      <th>33830</th>\n",
       "      <td>boom senator lindsey graham reason believe cli...</td>\n",
       "      <td>0</td>\n",
       "    </tr>\n",
       "  </tbody>\n",
       "</table>\n",
       "<p>29070 rows × 2 columns</p>\n",
       "</div>"
      ],
      "text/plain": [
       "                                                    text label\n",
       "0      western world respect law longer exists wester...     0\n",
       "1      watch president obama unleashes trump say terr...     0\n",
       "2      guy punched moldylocks speaks violent antifa f...     0\n",
       "3      say amazon tell customer forced federal govern...     0\n",
       "5      trump crisis lewd remark woman come light new ...     1\n",
       "...                                                  ...   ...\n",
       "33825  trump give brutal warning lawless sanctuary ci...     0\n",
       "33826  state attorney lied baltimore police probable ...     0\n",
       "33828  hungary wall versus u wall oped catherine j fr...     0\n",
       "33829  pastor caught trump spiritual advisor stealing...     0\n",
       "33830  boom senator lindsey graham reason believe cli...     0\n",
       "\n",
       "[29070 rows x 2 columns]"
      ]
     },
     "execution_count": 73,
     "metadata": {},
     "output_type": "execute_result"
    }
   ],
   "source": [
    "train_transformed"
   ]
  },
  {
   "cell_type": "code",
   "execution_count": 74,
   "id": "622a5d0f",
   "metadata": {},
   "outputs": [],
   "source": [
    "train_transformed_x = train_transformed['text']\n",
    "train_transformed_y = train_transformed['label']"
   ]
  },
  {
   "cell_type": "code",
   "execution_count": 75,
   "id": "882a6dd6",
   "metadata": {},
   "outputs": [],
   "source": [
    "train_xx = model_pipe.fit_transform(train_transformed_x, train_transformed_y)"
   ]
  },
  {
   "cell_type": "code",
   "execution_count": 76,
   "id": "2bf279c5",
   "metadata": {},
   "outputs": [
    {
     "data": {
      "text/plain": [
       "(29070, 178186)"
      ]
     },
     "execution_count": 76,
     "metadata": {},
     "output_type": "execute_result"
    }
   ],
   "source": [
    "train_xx.shape"
   ]
  },
  {
   "cell_type": "markdown",
   "id": "ddc3a005",
   "metadata": {},
   "source": [
    "<span style=\"color:red\">Ogólnie rzecz biorąc w porządku analiza i preprocessing dość specyficznych danych dotyczących języka. Brakuje pewnego rodzaju wnikliwości w eksploracji danych, ale  najważniejsze elementy analizy tekstu zostały przygotowane dobrze.\n",
    "</span> "
   ]
  },
  {
   "cell_type": "markdown",
   "id": "42fa4b32",
   "metadata": {},
   "source": []
  }
 ],
 "metadata": {
  "kernelspec": {
   "display_name": "Python 3 (ipykernel)",
   "language": "python",
   "name": "python3"
  },
  "language_info": {
   "codemirror_mode": {
    "name": "ipython",
    "version": 3
   },
   "file_extension": ".py",
   "mimetype": "text/x-python",
   "name": "python",
   "nbconvert_exporter": "python",
   "pygments_lexer": "ipython3",
   "version": "3.10.7"
  }
 },
 "nbformat": 4,
 "nbformat_minor": 5
}
