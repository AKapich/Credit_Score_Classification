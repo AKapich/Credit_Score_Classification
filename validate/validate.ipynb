{
 "cells": [
  {
   "attachments": {},
   "cell_type": "markdown",
   "id": "ce247929",
   "metadata": {},
   "source": [
    "# Fakenews detection - validation\n",
    "Tymoteusz Kwieciński, Aleks Kapich"
   ]
  },
  {
   "cell_type": "code",
   "execution_count": 1,
   "id": "93248206",
   "metadata": {
    "scrolled": true
   },
   "outputs": [
    {
     "name": "stderr",
     "output_type": "stream",
     "text": [
      "[nltk_data] Downloading package stopwords to\n",
      "[nltk_data]     C:\\Users\\tymot\\AppData\\Roaming\\nltk_data...\n",
      "[nltk_data]   Package stopwords is already up-to-date!\n",
      "[nltk_data] Downloading package punkt to\n",
      "[nltk_data]     C:\\Users\\tymot\\AppData\\Roaming\\nltk_data...\n",
      "[nltk_data]   Package punkt is already up-to-date!\n",
      "[nltk_data] Downloading package wordnet to\n",
      "[nltk_data]     C:\\Users\\tymot\\AppData\\Roaming\\nltk_data...\n",
      "[nltk_data]   Package wordnet is already up-to-date!\n",
      "[nltk_data] Downloading package omw-1.4 to\n",
      "[nltk_data]     C:\\Users\\tymot\\AppData\\Roaming\\nltk_data...\n",
      "[nltk_data]   Package omw-1.4 is already up-to-date!\n"
     ]
    }
   ],
   "source": [
    "import pandas as pd\n",
    "import numpy as np\n",
    "import matplotlib.pyplot as plt\n",
    "import sklearn\n",
    "from sklearn.model_selection import train_test_split\n",
    "from sklearn.feature_extraction.text import TfidfVectorizer\n",
    "from sklearn.feature_extraction.text import CountVectorizer, TfidfTransformer\n",
    "import nltk\n",
    "from nltk.tokenize import sent_tokenize, word_tokenize\n",
    "from nltk.corpus import stopwords\n",
    "from nltk.stem import WordNetLemmatizer\n",
    "nltk.download('stopwords')\n",
    "nltk.download('punkt')\n",
    "nltk.download('wordnet')\n",
    "nltk.download('omw-1.4')\n",
    "import re\n",
    "from wordcloud import WordCloud\n",
    "from langdetect import detect\n",
    "from langdetect import DetectorFactory\n",
    "DetectorFactory.seed = 0"
   ]
  },
  {
   "cell_type": "code",
   "execution_count": 4,
   "id": "f665a560",
   "metadata": {},
   "outputs": [],
   "source": [
    "test=pd.read_csv('testing_data.csv', header=0, sep=',')\n",
    "train=pd.read_csv('training_data.csv', header=0, sep=',')\n",
    "val=pd.read_csv('fakenws_validation.csv', header=0, sep=',')"
   ]
  },
  {
   "attachments": {},
   "cell_type": "markdown",
   "id": "93af8965",
   "metadata": {},
   "source": [
    "## Train test split\n",
    "zostało od razu zrobione - przetestujemy czy jest okej"
   ]
  },
  {
   "cell_type": "code",
   "execution_count": 5,
   "id": "15a8c42e",
   "metadata": {},
   "outputs": [
    {
     "data": {
      "text/plain": [
       "<AxesSubplot:>"
      ]
     },
     "execution_count": 5,
     "metadata": {},
     "output_type": "execute_result"
    },
    {
     "data": {
      "image/png": "[encoded data removed]",
      "text/plain": [
       "<Figure size 432x288 with 1 Axes>"
      ]
     },
     "metadata": {
      "needs_background": "light"
     },
     "output_type": "display_data"
    }
   ],
   "source": [
    "train[\"label\"].hist()"
   ]
  },
  {
   "cell_type": "code",
   "execution_count": 6,
   "id": "563fdf5d",
   "metadata": {},
   "outputs": [
    {
     "data": {
      "text/plain": [
       "<AxesSubplot:>"
      ]
     },
     "execution_count": 6,
     "metadata": {},
     "output_type": "execute_result"
    },
    {
     "data": {
      "image/png": "[encoded data removed]",
      "text/plain": [
       "<Figure size 432x288 with 1 Axes>"
      ]
     },
     "metadata": {
      "needs_background": "light"
     },
     "output_type": "display_data"
    }
   ],
   "source": [
    "test[\"label\"].hist()"
   ]
  },
  {
   "cell_type": "code",
   "execution_count": 7,
   "id": "f9515ead",
   "metadata": {},
   "outputs": [
    {
     "data": {
      "text/plain": [
       "<AxesSubplot:>"
      ]
     },
     "execution_count": 7,
     "metadata": {},
     "output_type": "execute_result"
    },
    {
     "data": {
      "image/png": "[encoded data removed]",
      "text/plain": [
       "<Figure size 432x288 with 1 Axes>"
      ]
     },
     "metadata": {
      "needs_background": "light"
     },
     "output_type": "display_data"
    }
   ],
   "source": [
    "val[\"label\"].hist()"
   ]
  },
  {
   "cell_type": "markdown",
   "id": "c60f19fc",
   "metadata": {},
   "source": [
    "stosunek ilości fake do true wszędzie jest taki sam, więc możemy przyjąć że jest to dobre rozdzielenie danych"
   ]
  },
  {
   "cell_type": "code",
   "execution_count": 8,
   "id": "604901e9",
   "metadata": {},
   "outputs": [],
   "source": [
    "train_df = train.copy()"
   ]
  },
  {
   "cell_type": "code",
   "execution_count": 9,
   "id": "88da294f",
   "metadata": {},
   "outputs": [],
   "source": [
    "testing_df = test.copy()"
   ]
  },
  {
   "cell_type": "code",
   "execution_count": 10,
   "id": "21794ee3",
   "metadata": {
    "scrolled": false
   },
   "outputs": [],
   "source": [
    "# zapisanie ramki do walidacji\n",
    "validate_df = val.copy()"
   ]
  },
  {
   "cell_type": "code",
   "execution_count": 15,
   "id": "176fc409",
   "metadata": {
    "scrolled": true
   },
   "outputs": [],
   "source": [
    "df2 = testing_df # to nie wiem po co ale pewnie pomoze nam przeklikiwac plik"
   ]
  },
  {
   "cell_type": "markdown",
   "id": "f56bfd9f",
   "metadata": {},
   "source": [
    "## Getting to know the data"
   ]
  },
  {
   "cell_type": "code",
   "execution_count": 16,
   "id": "17ffa716",
   "metadata": {},
   "outputs": [
    {
     "data": {
      "text/html": [
       "<div>\n",
       "<style scoped>\n",
       "    .dataframe tbody tr th:only-of-type {\n",
       "        vertical-align: middle;\n",
       "    }\n",
       "\n",
       "    .dataframe tbody tr th {\n",
       "        vertical-align: top;\n",
       "    }\n",
       "\n",
       "    .dataframe thead th {\n",
       "        text-align: right;\n",
       "    }\n",
       "</style>\n",
       "<table border=\"1\" class=\"dataframe\">\n",
       "  <thead>\n",
       "    <tr style=\"text-align: right;\">\n",
       "      <th></th>\n",
       "      <th>title</th>\n",
       "      <th>text</th>\n",
       "      <th>label</th>\n",
       "    </tr>\n",
       "  </thead>\n",
       "  <tbody>\n",
       "    <tr>\n",
       "      <th>0</th>\n",
       "      <td>As Johnson Sirleaf exits, Liberians thankful f...</td>\n",
       "      <td>MONROVIA (Reuters) - After a dozen years of re...</td>\n",
       "      <td>true</td>\n",
       "    </tr>\n",
       "    <tr>\n",
       "      <th>1</th>\n",
       "      <td>French foreign minister says accepting refugee...</td>\n",
       "      <td>PARIS (Reuters) - Consideration for the plight...</td>\n",
       "      <td>true</td>\n",
       "    </tr>\n",
       "    <tr>\n",
       "      <th>2</th>\n",
       "      <td>‘We Caved’</td>\n",
       "      <td>On a late July day this past summer, a roar fi...</td>\n",
       "      <td>true</td>\n",
       "    </tr>\n",
       "    <tr>\n",
       "      <th>3</th>\n",
       "      <td>Obama Signs Executive Order Declaring Investig...</td>\n",
       "      <td>64 SHARE President Obama has signed an Executi...</td>\n",
       "      <td>fake</td>\n",
       "    </tr>\n",
       "    <tr>\n",
       "      <th>4</th>\n",
       "      <td>After Florida shooting, Trump hardens stance o...</td>\n",
       "      <td>MANCHESTER, N.H./WASHINGTON (Reuters) - Republ...</td>\n",
       "      <td>true</td>\n",
       "    </tr>\n",
       "  </tbody>\n",
       "</table>\n",
       "</div>"
      ],
      "text/plain": [
       "                                               title  \\\n",
       "0  As Johnson Sirleaf exits, Liberians thankful f...   \n",
       "1  French foreign minister says accepting refugee...   \n",
       "2                                         ‘We Caved’   \n",
       "3  Obama Signs Executive Order Declaring Investig...   \n",
       "4  After Florida shooting, Trump hardens stance o...   \n",
       "\n",
       "                                                text label  \n",
       "0  MONROVIA (Reuters) - After a dozen years of re...  true  \n",
       "1  PARIS (Reuters) - Consideration for the plight...  true  \n",
       "2  On a late July day this past summer, a roar fi...  true  \n",
       "3  64 SHARE President Obama has signed an Executi...  fake  \n",
       "4  MANCHESTER, N.H./WASHINGTON (Reuters) - Republ...  true  "
      ]
     },
     "execution_count": 16,
     "metadata": {},
     "output_type": "execute_result"
    }
   ],
   "source": [
    "df2.head()"
   ]
  },
  {
   "cell_type": "code",
   "execution_count": 17,
   "id": "55d2e697",
   "metadata": {},
   "outputs": [
    {
     "name": "stdout",
     "output_type": "stream",
     "text": [
      "<class 'pandas.core.frame.DataFrame'>\n",
      "RangeIndex: 20714 entries, 0 to 20713\n",
      "Data columns (total 3 columns):\n",
      " #   Column  Non-Null Count  Dtype \n",
      "---  ------  --------------  ----- \n",
      " 0   title   20500 non-null  object\n",
      " 1   text    20692 non-null  object\n",
      " 2   label   20714 non-null  object\n",
      "dtypes: object(3)\n",
      "memory usage: 485.6+ KB\n"
     ]
    }
   ],
   "source": [
    "df2.info()"
   ]
  },
  {
   "attachments": {},
   "cell_type": "markdown",
   "id": "7138fdc4",
   "metadata": {},
   "source": [
    "zmienne tekstowe, całkiem sporo, ogólnie wygląda na dosyc mało braków danych, 2 kolumny z tekstem i jedna z targetem - w targecie nie ma braków"
   ]
  },
  {
   "cell_type": "markdown",
   "id": "eb2442e2",
   "metadata": {},
   "source": [
    "\n",
    "\n",
    "## Data Preprocessing"
   ]
  },
  {
   "cell_type": "markdown",
   "id": "8fd93a04",
   "metadata": {},
   "source": [
    "### Encoding"
   ]
  },
  {
   "cell_type": "code",
   "execution_count": 18,
   "id": "16eddf9f",
   "metadata": {},
   "outputs": [],
   "source": [
    "# zamina fake i true na wartości numeryczne\n",
    "df2.loc[df2[\"label\"] == \"fake\",\"label\"] = 0\n",
    "df2.loc[df2[\"label\"] == \"true\",\"label\"] = 1"
   ]
  },
  {
   "cell_type": "code",
   "execution_count": 19,
   "id": "e98600df",
   "metadata": {},
   "outputs": [],
   "source": [
    "# before pipeline function\n",
    "def encodeLabels(df):\n",
    "    df.loc[df[\"label\"] == \"fake\",\"label\"] = 0\n",
    "    df.loc[df[\"label\"] == \"true\",\"label\"] = 1\n",
    "    return df"
   ]
  },
  {
   "cell_type": "markdown",
   "id": "3ad72669",
   "metadata": {},
   "source": [
    "### NaNs"
   ]
  },
  {
   "cell_type": "code",
   "execution_count": 20,
   "id": "f998743c",
   "metadata": {
    "scrolled": true
   },
   "outputs": [
    {
     "name": "stdout",
     "output_type": "stream",
     "text": [
      "<class 'pandas.core.frame.DataFrame'>\n",
      "Int64Index: 20478 entries, 0 to 20713\n",
      "Data columns (total 3 columns):\n",
      " #   Column  Non-Null Count  Dtype \n",
      "---  ------  --------------  ----- \n",
      " 0   title   20478 non-null  object\n",
      " 1   text    20478 non-null  object\n",
      " 2   label   20478 non-null  object\n",
      "dtypes: object(3)\n",
      "memory usage: 639.9+ KB\n"
     ]
    }
   ],
   "source": [
    "# Jest bardzo mało nulli więc możemy się ich pozbyć - to nie jest chyba najlepsze rozwiązanie - tutaj mozemy tracic troche informacji jezeli np obecny jest tylko tytuł\n",
    "# to zdecydowanie do poprawy. Dodatkowo zmniejsza nam sie liczba obserwacji, nieznacząco ale minus\n",
    "df2.dropna(inplace = True)\n",
    "df2.info()"
   ]
  },
  {
   "cell_type": "code",
   "execution_count": 21,
   "id": "0e163557",
   "metadata": {},
   "outputs": [],
   "source": [
    "# transformer function\n",
    "def handleNa(df):\n",
    "    df.dropna(inplace=True)\n",
    "    print('NaNs deleted')\n",
    "    return df"
   ]
  },
  {
   "cell_type": "markdown",
   "id": "76f82217",
   "metadata": {},
   "source": [
    "### Combine columns"
   ]
  },
  {
   "attachments": {},
   "cell_type": "markdown",
   "id": "90e5df98",
   "metadata": {},
   "source": [
    "Z racji, że będziemy analizować same słowa, łączymy kolumny title i tekst - dla naszego modelu nie będzie miało znaczenia z której kolumny pochodzą\n",
    "\n",
    "tutaj rozsądne raczej podejście"
   ]
  },
  {
   "cell_type": "code",
   "execution_count": 22,
   "id": "4b426020",
   "metadata": {},
   "outputs": [
    {
     "data": {
      "text/plain": [
       "title     Overnight Las Vegas Attack Is Deadliest Mass ...\n",
       "text     Sunday night at the Route 91 Harvest Festival ...\n",
       "label                                                    0\n",
       "Name: 8102, dtype: object"
      ]
     },
     "execution_count": 22,
     "metadata": {},
     "output_type": "execute_result"
    }
   ],
   "source": [
    "df2.loc[8102]"
   ]
  },
  {
   "cell_type": "code",
   "execution_count": 23,
   "id": "149765bc",
   "metadata": {},
   "outputs": [],
   "source": [
    "df2['text'] = df2[['title', 'text']].apply(\" \".join, axis=1)"
   ]
  },
  {
   "cell_type": "code",
   "execution_count": 24,
   "id": "b3b235e7",
   "metadata": {},
   "outputs": [
    {
     "data": {
      "text/plain": [
       "\" Overnight Las Vegas Attack Is Deadliest Mass Shooting In American History (DETAILS) Sunday night at the Route 91 Harvest Festival 2017, two unknown shooters began gunning down police officers and at least one bodyguard from what appeared to be the 32nd floor of the Mandalay Bay Hotel in Las Vegas.The country music festival was just concluding for the weekend, with the last performer, Jason Aldean, wrapping up his performance for a sold-out crowd of 12,000 people.Twitter was the first place information began to emerge on the shooters and what was happening: pic.twitter.com/4ZhhGiqeDL  kenny terhune jr (@kenny_terhune) October 2, 2017My sister in law just texted me this. They are staying at the Mandalay Bay hotel in Vegas where there was just an active shooter. pic.twitter.com/ldkWUo1NdJ  Brittany Michelle (@britmgarcia) October 2, 2017Per police scanner: Multiple casualties, officer shot in neck possibly another officer dead. #MandalayBay  jordan ghoul ? ? (@JordanUhl) October 2, 2017There was footage from nearby:Shooting in Las Vegas. People fleeing (video from the Mandalay Bay hotel) pic.twitter.com/hs98J5uK6T  Eiki Hrafnsson (@EirikurH) October 2, 2017And it appears the police scanner was confirming that at least one officer had been hit:?Active shooter?Shots fired at Mandalay Bay Reports one officer has been shot#LasVegas#MandalayBayShooting pic.twitter.com/TUHeekdn7t  DeDeKim (@ZDeDeKim) October 2, 2017The following video clip contains audio of what is clearly an automatic weapon, so sensitive readers please be warned.Active shooter Las Vegas strip I'm ok locked in my room lights off windows closed. Shooter is directly across the street. Shots heard on vid pic.twitter.com/Z4mz3E3bmE  Bryan Heifner (@HBryanBHHS) October 2, 2017News 3 Las Vegas has a crew on the way to the scene and we are awaiting further information. We will update as it becomes available.UPDATE, 12:24 AM PSTPolice are now confirming that 2 are dead, 24 injured, 12 in critical condition.One shooter is  down  according to Las Vegas PoliceConfirming that one suspect is down. This is an active investigation. Again, please do not head down to the Strip at this time.  LVMPD (@LVMPD) October 2, 2017The identity of the shooter who is down has not been released.Reports are also coming in of a  suspicious device  nearby as well.UPDATE, 12:34 AM PSTUniversity Medical Center is the  Level One  response center for this situation; it appears to be full at this time. Sunset Medical Center is the  Level Two. Flights in and out of McCarran Airport have been grounded, and Interstate 15 is locked down. All guests in every hotel on the Las Vegas strip are being instructed to shelter in place.UPDATE, 12:44 AM PSTAt this time we do not believe there are any more shooters. More information to come shortly from @Sheriff_LVMPD.  LVMPD (@LVMPD) October 2, 2017We will update with any new information from LVMPD.UPDATE, 1:59 AM PSTThe Las Vegas Sheriff has just given a press conference to news crews on the scene. Information so far indicates a  sole actor  who is a local resident.Police confirmed the shooter was on the 32nd floor of the hotel. He is now dead. The shooter was a local resident of the Las Vegas area, and police are searching for another person of interest. She is an Asian woman, 4 -11 , 111 lbs, named Marilou Danley, also a local resident.Police are searching for two vehicles, both of unknown color: A Hyundai Tucson, license plate 114-B40, and a Chrysler Pacifica Touring, license plate 19D401.The Sheriff indicated that over 100 people are injured, and more than 20 people have now died.There are no known ties to terrorism at this time.Several off-duty police officers from nearby Bakersfield, California were in attendance at the concert, at least one of whom was shot.The woman being searched for has allegedly been identified on Twitter:.@LVMPD are searching for the shooters companion, please share? pic.twitter.com/EZXuSrCS0l  Rogue CPI (@RogueCPI) October 2, 2017The LV Sheriff has confirmed via Twitter that the image is of her, which makes this her Facebook page. Any new information will be updated in the morning.UPDATE, 7:07 AM PSTThe now-deceased shooter has been identified as 64-year-old Stephen Craig Paddock of Mesquite, Nevada. Paddock took his own life before police could reach him. Still no known ties to terrorist groups. The following picture was recovered from Marilou Danley s Facebook page:At least 50 people were killed and more than 400 wounded. This is the deadliest mass shooting in American history. Police found 10 or more weapons inside Paddock s hotel room at the Mandalay Bay Hotel & Casino.Gun laws in Nevada are among the most relaxed in the nation. Open carry is legal without a permit, silencers are legal, there is no waiting period to purchase a firearm, private gun sales are unregulated, it is legal to carry an assault rifle, and there is no magazine capacity limit.Paddock s brother, Eric, told NBC News that the family was  dumbfounded  by the act.We will continue to update with any pertinent information.Featured image via archive\""
      ]
     },
     "execution_count": 24,
     "metadata": {},
     "output_type": "execute_result"
    }
   ],
   "source": [
    "df2.loc[8102]['text']"
   ]
  },
  {
   "cell_type": "code",
   "execution_count": 25,
   "id": "c5188aff",
   "metadata": {},
   "outputs": [],
   "source": [
    "df2 = df2.drop(columns='title')"
   ]
  },
  {
   "cell_type": "code",
   "execution_count": 26,
   "id": "166cc472",
   "metadata": {},
   "outputs": [
    {
     "data": {
      "text/html": [
       "<div>\n",
       "<style scoped>\n",
       "    .dataframe tbody tr th:only-of-type {\n",
       "        vertical-align: middle;\n",
       "    }\n",
       "\n",
       "    .dataframe tbody tr th {\n",
       "        vertical-align: top;\n",
       "    }\n",
       "\n",
       "    .dataframe thead th {\n",
       "        text-align: right;\n",
       "    }\n",
       "</style>\n",
       "<table border=\"1\" class=\"dataframe\">\n",
       "  <thead>\n",
       "    <tr style=\"text-align: right;\">\n",
       "      <th></th>\n",
       "      <th>text</th>\n",
       "      <th>label</th>\n",
       "    </tr>\n",
       "  </thead>\n",
       "  <tbody>\n",
       "    <tr>\n",
       "      <th>0</th>\n",
       "      <td>As Johnson Sirleaf exits, Liberians thankful f...</td>\n",
       "      <td>1</td>\n",
       "    </tr>\n",
       "    <tr>\n",
       "      <th>1</th>\n",
       "      <td>French foreign minister says accepting refugee...</td>\n",
       "      <td>1</td>\n",
       "    </tr>\n",
       "    <tr>\n",
       "      <th>2</th>\n",
       "      <td>‘We Caved’ On a late July day this past summer...</td>\n",
       "      <td>1</td>\n",
       "    </tr>\n",
       "    <tr>\n",
       "      <th>3</th>\n",
       "      <td>Obama Signs Executive Order Declaring Investig...</td>\n",
       "      <td>0</td>\n",
       "    </tr>\n",
       "    <tr>\n",
       "      <th>4</th>\n",
       "      <td>After Florida shooting, Trump hardens stance o...</td>\n",
       "      <td>1</td>\n",
       "    </tr>\n",
       "  </tbody>\n",
       "</table>\n",
       "</div>"
      ],
      "text/plain": [
       "                                                text label\n",
       "0  As Johnson Sirleaf exits, Liberians thankful f...     1\n",
       "1  French foreign minister says accepting refugee...     1\n",
       "2  ‘We Caved’ On a late July day this past summer...     1\n",
       "3  Obama Signs Executive Order Declaring Investig...     0\n",
       "4  After Florida shooting, Trump hardens stance o...     1"
      ]
     },
     "execution_count": 26,
     "metadata": {},
     "output_type": "execute_result"
    }
   ],
   "source": [
    "df2.head()"
   ]
  },
  {
   "cell_type": "code",
   "execution_count": 27,
   "id": "dd65cfee",
   "metadata": {},
   "outputs": [],
   "source": [
    "# transformer function\n",
    "def combineColumns(df):\n",
    "    df['text'] = df[['title', 'text']].apply(\" \".join, axis=1)\n",
    "    df = df.drop(columns='title')\n",
    "    print('Columns combined')\n",
    "    return df"
   ]
  },
  {
   "cell_type": "markdown",
   "id": "987616fe",
   "metadata": {},
   "source": [
    "### Outliers"
   ]
  },
  {
   "cell_type": "code",
   "execution_count": 28,
   "id": "ec0eeb34",
   "metadata": {},
   "outputs": [
    {
     "data": {
      "text/plain": [
       "(array([2.0177e+04, 2.5000e+02, 3.6000e+01, 9.0000e+00, 2.0000e+00,\n",
       "        1.0000e+00, 0.0000e+00, 1.0000e+00, 1.0000e+00, 1.0000e+00]),\n",
       " array([2.200000e+01, 1.350640e+04, 2.699080e+04, 4.047520e+04,\n",
       "        5.395960e+04, 6.744400e+04, 8.092840e+04, 9.441280e+04,\n",
       "        1.078972e+05, 1.213816e+05, 1.348660e+05]),\n",
       " <BarContainer object of 10 artists>)"
      ]
     },
     "execution_count": 28,
     "metadata": {},
     "output_type": "execute_result"
    },
    {
     "data": {
      "image/png": "[encoded data removed]",
      "text/plain": [
       "<Figure size 432x288 with 1 Axes>"
      ]
     },
     "metadata": {
      "needs_background": "light"
     },
     "output_type": "display_data"
    }
   ],
   "source": [
    "df2['textlength'] = df2['text'].apply(len)\n",
    "plt.hist(df2['textlength'])"
   ]
  },
  {
   "cell_type": "code",
   "execution_count": 26,
   "id": "d14dca82",
   "metadata": {
    "scrolled": true
   },
   "outputs": [
    {
     "name": "stdout",
     "output_type": "stream",
     "text": [
      "text          32\n",
      "label         32\n",
      "textlength    32\n",
      "dtype: int64\n"
     ]
    },
    {
     "data": {
      "text/html": [
       "<div>\n",
       "<style scoped>\n",
       "    .dataframe tbody tr th:only-of-type {\n",
       "        vertical-align: middle;\n",
       "    }\n",
       "\n",
       "    .dataframe tbody tr th {\n",
       "        vertical-align: top;\n",
       "    }\n",
       "\n",
       "    .dataframe thead th {\n",
       "        text-align: right;\n",
       "    }\n",
       "</style>\n",
       "<table border=\"1\" class=\"dataframe\">\n",
       "  <thead>\n",
       "    <tr style=\"text-align: right;\">\n",
       "      <th></th>\n",
       "      <th>text</th>\n",
       "      <th>label</th>\n",
       "      <th>textlength</th>\n",
       "    </tr>\n",
       "  </thead>\n",
       "  <tbody>\n",
       "    <tr>\n",
       "      <th>12641</th>\n",
       "      <td>Re: Why Are So Many People Choosing To Leave T...</td>\n",
       "      <td>0</td>\n",
       "      <td>115924</td>\n",
       "    </tr>\n",
       "    <tr>\n",
       "      <th>63859</th>\n",
       "      <td>Re: Why Is Obama Threatening Russia With World...</td>\n",
       "      <td>0</td>\n",
       "      <td>97429</td>\n",
       "    </tr>\n",
       "    <tr>\n",
       "      <th>21862</th>\n",
       "      <td>Benny Morris’s Untenable Denial of the Ethnic ...</td>\n",
       "      <td>0</td>\n",
       "      <td>92823</td>\n",
       "    </tr>\n",
       "    <tr>\n",
       "      <th>58778</th>\n",
       "      <td>President-Elect Donald Trump's First Televised...</td>\n",
       "      <td>0</td>\n",
       "      <td>41697</td>\n",
       "    </tr>\n",
       "    <tr>\n",
       "      <th>18039</th>\n",
       "      <td>Re: The Velocity Of Money In The U.S. Falls To...</td>\n",
       "      <td>0</td>\n",
       "      <td>43623</td>\n",
       "    </tr>\n",
       "  </tbody>\n",
       "</table>\n",
       "</div>"
      ],
      "text/plain": [
       "                                                    text label  textlength\n",
       "12641  Re: Why Are So Many People Choosing To Leave T...     0      115924\n",
       "63859  Re: Why Is Obama Threatening Russia With World...     0       97429\n",
       "21862  Benny Morris’s Untenable Denial of the Ethnic ...     0       92823\n",
       "58778  President-Elect Donald Trump's First Televised...     0       41697\n",
       "18039  Re: The Velocity Of Money In The U.S. Falls To...     0       43623"
      ]
     },
     "execution_count": 26,
     "metadata": {},
     "output_type": "execute_result"
    }
   ],
   "source": [
    "print(df2[(df2['textlength'] > 40000)].count())\n",
    "df2[(df2['textlength'] > 40000)].head()"
   ]
  },
  {
   "cell_type": "code",
   "execution_count": 27,
   "id": "bfc6a5ae",
   "metadata": {},
   "outputs": [
    {
     "data": {
      "text/html": [
       "<div>\n",
       "<style scoped>\n",
       "    .dataframe tbody tr th:only-of-type {\n",
       "        vertical-align: middle;\n",
       "    }\n",
       "\n",
       "    .dataframe tbody tr th {\n",
       "        vertical-align: top;\n",
       "    }\n",
       "\n",
       "    .dataframe thead th {\n",
       "        text-align: right;\n",
       "    }\n",
       "</style>\n",
       "<table border=\"1\" class=\"dataframe\">\n",
       "  <thead>\n",
       "    <tr style=\"text-align: right;\">\n",
       "      <th></th>\n",
       "      <th>text</th>\n",
       "      <th>label</th>\n",
       "    </tr>\n",
       "  </thead>\n",
       "  <tbody>\n",
       "    <tr>\n",
       "      <th>17623</th>\n",
       "      <td>In the Western World Respect for Law No Longer...</td>\n",
       "      <td>0</td>\n",
       "    </tr>\n",
       "    <tr>\n",
       "      <th>61073</th>\n",
       "      <td>WATCH: President Obama Unleashes On Trump, Sa...</td>\n",
       "      <td>0</td>\n",
       "    </tr>\n",
       "    <tr>\n",
       "      <th>8102</th>\n",
       "      <td>THE GUY WHO Punched “Moldylocks” Speaks Out Ab...</td>\n",
       "      <td>0</td>\n",
       "    </tr>\n",
       "    <tr>\n",
       "      <th>67016</th>\n",
       "      <td>SAY WHAT? AMAZON TELLS CUSTOMER THEY WERE FORC...</td>\n",
       "      <td>0</td>\n",
       "    </tr>\n",
       "    <tr>\n",
       "      <th>67779</th>\n",
       "      <td>ANTI-GUN Zealot KATIE COURIC Hit With $12 MILL...</td>\n",
       "      <td>0</td>\n",
       "    </tr>\n",
       "    <tr>\n",
       "      <th>...</th>\n",
       "      <td>...</td>\n",
       "      <td>...</td>\n",
       "    </tr>\n",
       "    <tr>\n",
       "      <th>59264</th>\n",
       "      <td>STATE’S ATTORNEY LIED: BALTIMORE POLICE HAD PR...</td>\n",
       "      <td>0</td>\n",
       "    </tr>\n",
       "    <tr>\n",
       "      <th>57858</th>\n",
       "      <td>Russia denies its planes killed civilians in S...</td>\n",
       "      <td>1</td>\n",
       "    </tr>\n",
       "    <tr>\n",
       "      <th>63057</th>\n",
       "      <td>Hungary’s “Wall” Versus the U.S. “Wall” Op-Ed ...</td>\n",
       "      <td>0</td>\n",
       "    </tr>\n",
       "    <tr>\n",
       "      <th>61429</th>\n",
       "      <td>Pastor Caught Trump’s Spiritual Advisor Steal...</td>\n",
       "      <td>0</td>\n",
       "    </tr>\n",
       "    <tr>\n",
       "      <th>8544</th>\n",
       "      <td>BOOM! SENATOR LINDSEY GRAHAM: I Have Reason to...</td>\n",
       "      <td>0</td>\n",
       "    </tr>\n",
       "  </tbody>\n",
       "</table>\n",
       "<p>33434 rows × 2 columns</p>\n",
       "</div>"
      ],
      "text/plain": [
       "                                                    text label\n",
       "17623  In the Western World Respect for Law No Longer...     0\n",
       "61073   WATCH: President Obama Unleashes On Trump, Sa...     0\n",
       "8102   THE GUY WHO Punched “Moldylocks” Speaks Out Ab...     0\n",
       "67016  SAY WHAT? AMAZON TELLS CUSTOMER THEY WERE FORC...     0\n",
       "67779  ANTI-GUN Zealot KATIE COURIC Hit With $12 MILL...     0\n",
       "...                                                  ...   ...\n",
       "59264  STATE’S ATTORNEY LIED: BALTIMORE POLICE HAD PR...     0\n",
       "57858  Russia denies its planes killed civilians in S...     1\n",
       "63057  Hungary’s “Wall” Versus the U.S. “Wall” Op-Ed ...     0\n",
       "61429   Pastor Caught Trump’s Spiritual Advisor Steal...     0\n",
       "8544   BOOM! SENATOR LINDSEY GRAHAM: I Have Reason to...     0\n",
       "\n",
       "[33434 rows x 2 columns]"
      ]
     },
     "execution_count": 27,
     "metadata": {},
     "output_type": "execute_result"
    }
   ],
   "source": [
    "# Wyrzucamy bardzo dlugie teksty (ponad 40000 znaków)\n",
    "df2 = df2[(df2['textlength'] < 40000)]\n",
    "df2.drop(columns='textlength')"
   ]
  },
  {
   "attachments": {},
   "cell_type": "markdown",
   "id": "9e89f264",
   "metadata": {},
   "source": [
    "nie jestem pewien czy to jest niezbedne podejscie - ten rozklad po dodaniu binsów wyglada raczej okej"
   ]
  },
  {
   "cell_type": "code",
   "execution_count": 30,
   "id": "d159c005",
   "metadata": {},
   "outputs": [
    {
     "data": {
      "text/plain": [
       "(array([2.935e+03, 2.427e+03, 3.128e+03, 3.856e+03, 2.326e+03, 1.490e+03,\n",
       "        1.061e+03, 7.940e+02, 5.710e+02, 3.900e+02, 2.700e+02, 2.330e+02,\n",
       "        1.610e+02, 1.480e+02, 1.160e+02, 7.200e+01, 6.300e+01, 5.200e+01,\n",
       "        5.400e+01, 3.000e+01, 2.000e+01, 2.900e+01, 3.200e+01, 2.200e+01,\n",
       "        1.200e+01, 2.000e+01, 1.300e+01, 1.400e+01, 1.100e+01, 1.200e+01,\n",
       "        8.000e+00, 6.000e+00, 1.100e+01, 4.000e+00, 3.000e+00, 7.000e+00,\n",
       "        4.000e+00, 1.500e+01, 4.000e+00, 3.000e+00, 8.000e+00, 7.000e+00,\n",
       "        3.000e+00, 0.000e+00, 2.000e+00, 1.000e+00, 2.000e+00, 0.000e+00,\n",
       "        2.000e+00, 1.000e+00, 2.000e+00, 0.000e+00, 0.000e+00, 2.000e+00,\n",
       "        1.000e+00, 1.000e+00, 2.000e+00, 0.000e+00, 2.000e+00, 0.000e+00,\n",
       "        0.000e+00, 0.000e+00, 0.000e+00, 0.000e+00, 0.000e+00, 2.000e+00,\n",
       "        1.000e+00, 0.000e+00, 0.000e+00, 1.000e+00, 0.000e+00, 0.000e+00,\n",
       "        1.000e+00, 2.000e+00, 0.000e+00, 0.000e+00, 0.000e+00, 1.000e+00,\n",
       "        1.000e+00, 0.000e+00, 0.000e+00, 0.000e+00, 0.000e+00, 0.000e+00,\n",
       "        2.000e+00, 0.000e+00, 0.000e+00, 0.000e+00, 0.000e+00, 0.000e+00,\n",
       "        0.000e+00, 0.000e+00, 0.000e+00, 0.000e+00, 0.000e+00, 0.000e+00,\n",
       "        0.000e+00, 0.000e+00, 0.000e+00, 0.000e+00, 0.000e+00, 1.000e+00,\n",
       "        0.000e+00, 0.000e+00, 0.000e+00, 0.000e+00, 0.000e+00, 0.000e+00,\n",
       "        0.000e+00, 0.000e+00, 0.000e+00, 0.000e+00, 0.000e+00, 0.000e+00,\n",
       "        0.000e+00, 0.000e+00, 0.000e+00, 0.000e+00, 0.000e+00, 0.000e+00,\n",
       "        0.000e+00, 0.000e+00, 0.000e+00, 0.000e+00, 0.000e+00, 0.000e+00,\n",
       "        0.000e+00, 0.000e+00, 0.000e+00, 0.000e+00, 0.000e+00, 0.000e+00,\n",
       "        0.000e+00, 0.000e+00, 0.000e+00, 0.000e+00, 0.000e+00, 0.000e+00,\n",
       "        0.000e+00, 0.000e+00, 0.000e+00, 0.000e+00, 0.000e+00, 0.000e+00,\n",
       "        0.000e+00, 0.000e+00, 0.000e+00, 1.000e+00, 0.000e+00, 0.000e+00,\n",
       "        0.000e+00, 0.000e+00, 0.000e+00, 0.000e+00, 0.000e+00, 0.000e+00,\n",
       "        0.000e+00, 0.000e+00, 0.000e+00, 0.000e+00, 0.000e+00, 0.000e+00,\n",
       "        0.000e+00, 0.000e+00, 0.000e+00, 0.000e+00, 0.000e+00, 0.000e+00,\n",
       "        0.000e+00, 0.000e+00, 0.000e+00, 1.000e+00, 0.000e+00, 0.000e+00,\n",
       "        0.000e+00, 0.000e+00, 0.000e+00, 0.000e+00, 0.000e+00, 0.000e+00,\n",
       "        0.000e+00, 0.000e+00, 0.000e+00, 0.000e+00, 0.000e+00, 0.000e+00,\n",
       "        0.000e+00, 0.000e+00, 0.000e+00, 0.000e+00, 0.000e+00, 0.000e+00,\n",
       "        0.000e+00, 0.000e+00, 0.000e+00, 0.000e+00, 0.000e+00, 0.000e+00,\n",
       "        0.000e+00, 1.000e+00]),\n",
       " array([2.2000000e+01, 6.9622000e+02, 1.3704400e+03, 2.0446600e+03,\n",
       "        2.7188800e+03, 3.3931000e+03, 4.0673200e+03, 4.7415400e+03,\n",
       "        5.4157600e+03, 6.0899800e+03, 6.7642000e+03, 7.4384200e+03,\n",
       "        8.1126400e+03, 8.7868600e+03, 9.4610800e+03, 1.0135300e+04,\n",
       "        1.0809520e+04, 1.1483740e+04, 1.2157960e+04, 1.2832180e+04,\n",
       "        1.3506400e+04, 1.4180620e+04, 1.4854840e+04, 1.5529060e+04,\n",
       "        1.6203280e+04, 1.6877500e+04, 1.7551720e+04, 1.8225940e+04,\n",
       "        1.8900160e+04, 1.9574380e+04, 2.0248600e+04, 2.0922820e+04,\n",
       "        2.1597040e+04, 2.2271260e+04, 2.2945480e+04, 2.3619700e+04,\n",
       "        2.4293920e+04, 2.4968140e+04, 2.5642360e+04, 2.6316580e+04,\n",
       "        2.6990800e+04, 2.7665020e+04, 2.8339240e+04, 2.9013460e+04,\n",
       "        2.9687680e+04, 3.0361900e+04, 3.1036120e+04, 3.1710340e+04,\n",
       "        3.2384560e+04, 3.3058780e+04, 3.3733000e+04, 3.4407220e+04,\n",
       "        3.5081440e+04, 3.5755660e+04, 3.6429880e+04, 3.7104100e+04,\n",
       "        3.7778320e+04, 3.8452540e+04, 3.9126760e+04, 3.9800980e+04,\n",
       "        4.0475200e+04, 4.1149420e+04, 4.1823640e+04, 4.2497860e+04,\n",
       "        4.3172080e+04, 4.3846300e+04, 4.4520520e+04, 4.5194740e+04,\n",
       "        4.5868960e+04, 4.6543180e+04, 4.7217400e+04, 4.7891620e+04,\n",
       "        4.8565840e+04, 4.9240060e+04, 4.9914280e+04, 5.0588500e+04,\n",
       "        5.1262720e+04, 5.1936940e+04, 5.2611160e+04, 5.3285380e+04,\n",
       "        5.3959600e+04, 5.4633820e+04, 5.5308040e+04, 5.5982260e+04,\n",
       "        5.6656480e+04, 5.7330700e+04, 5.8004920e+04, 5.8679140e+04,\n",
       "        5.9353360e+04, 6.0027580e+04, 6.0701800e+04, 6.1376020e+04,\n",
       "        6.2050240e+04, 6.2724460e+04, 6.3398680e+04, 6.4072900e+04,\n",
       "        6.4747120e+04, 6.5421340e+04, 6.6095560e+04, 6.6769780e+04,\n",
       "        6.7444000e+04, 6.8118220e+04, 6.8792440e+04, 6.9466660e+04,\n",
       "        7.0140880e+04, 7.0815100e+04, 7.1489320e+04, 7.2163540e+04,\n",
       "        7.2837760e+04, 7.3511980e+04, 7.4186200e+04, 7.4860420e+04,\n",
       "        7.5534640e+04, 7.6208860e+04, 7.6883080e+04, 7.7557300e+04,\n",
       "        7.8231520e+04, 7.8905740e+04, 7.9579960e+04, 8.0254180e+04,\n",
       "        8.0928400e+04, 8.1602620e+04, 8.2276840e+04, 8.2951060e+04,\n",
       "        8.3625280e+04, 8.4299500e+04, 8.4973720e+04, 8.5647940e+04,\n",
       "        8.6322160e+04, 8.6996380e+04, 8.7670600e+04, 8.8344820e+04,\n",
       "        8.9019040e+04, 8.9693260e+04, 9.0367480e+04, 9.1041700e+04,\n",
       "        9.1715920e+04, 9.2390140e+04, 9.3064360e+04, 9.3738580e+04,\n",
       "        9.4412800e+04, 9.5087020e+04, 9.5761240e+04, 9.6435460e+04,\n",
       "        9.7109680e+04, 9.7783900e+04, 9.8458120e+04, 9.9132340e+04,\n",
       "        9.9806560e+04, 1.0048078e+05, 1.0115500e+05, 1.0182922e+05,\n",
       "        1.0250344e+05, 1.0317766e+05, 1.0385188e+05, 1.0452610e+05,\n",
       "        1.0520032e+05, 1.0587454e+05, 1.0654876e+05, 1.0722298e+05,\n",
       "        1.0789720e+05, 1.0857142e+05, 1.0924564e+05, 1.0991986e+05,\n",
       "        1.1059408e+05, 1.1126830e+05, 1.1194252e+05, 1.1261674e+05,\n",
       "        1.1329096e+05, 1.1396518e+05, 1.1463940e+05, 1.1531362e+05,\n",
       "        1.1598784e+05, 1.1666206e+05, 1.1733628e+05, 1.1801050e+05,\n",
       "        1.1868472e+05, 1.1935894e+05, 1.2003316e+05, 1.2070738e+05,\n",
       "        1.2138160e+05, 1.2205582e+05, 1.2273004e+05, 1.2340426e+05,\n",
       "        1.2407848e+05, 1.2475270e+05, 1.2542692e+05, 1.2610114e+05,\n",
       "        1.2677536e+05, 1.2744958e+05, 1.2812380e+05, 1.2879802e+05,\n",
       "        1.2947224e+05, 1.3014646e+05, 1.3082068e+05, 1.3149490e+05,\n",
       "        1.3216912e+05, 1.3284334e+05, 1.3351756e+05, 1.3419178e+05,\n",
       "        1.3486600e+05]),\n",
       " <BarContainer object of 200 artists>)"
      ]
     },
     "execution_count": 30,
     "metadata": {},
     "output_type": "execute_result"
    },
    {
     "data": {
      "image/png": "[encoded data removed]",
      "text/plain": [
       "<Figure size 432x288 with 1 Axes>"
      ]
     },
     "metadata": {
      "needs_background": "light"
     },
     "output_type": "display_data"
    }
   ],
   "source": [
    "plt.hist(df2['textlength'], bins=200)"
   ]
  },
  {
   "attachments": {},
   "cell_type": "markdown",
   "id": "ff971498",
   "metadata": {},
   "source": [
    "brakow tego typu jest na tyle mało ze jest to git"
   ]
  },
  {
   "cell_type": "code",
   "execution_count": 77,
   "id": "c4c543fc",
   "metadata": {},
   "outputs": [],
   "source": [
    "#transformer function\n",
    "def removeOutliers(df):\n",
    "    df['textlength'] = df['text'].apply(len)\n",
    "    df = df[df['textlength'] < 40000]\n",
    "    df = df.drop(columns='textlength')\n",
    "    print('Outliers removed')\n",
    "    return df"
   ]
  },
  {
   "cell_type": "markdown",
   "id": "d4b4bf9d",
   "metadata": {},
   "source": [
    "### Removing stopwords"
   ]
  },
  {
   "cell_type": "code",
   "execution_count": 31,
   "id": "995b9ffd",
   "metadata": {},
   "outputs": [],
   "source": [
    "#stopword removal\n",
    "stop = stopwords.words('english')\n",
    "lemmatizer = WordNetLemmatizer()\n",
    "def remove_stopwords(s):\n",
    "    s = [lemmatizer.lemmatize(word.lower()) for word in s if not word.lower() in stop]\n",
    "    return s"
   ]
  },
  {
   "cell_type": "code",
   "execution_count": 32,
   "id": "9f14d113",
   "metadata": {},
   "outputs": [],
   "source": [
    "#punctuation and number removal\n",
    "def remove_punctuations(s):\n",
    "    s = re.sub(r'[^a-zA-Z\\s]', '', s)\n",
    "    return s"
   ]
  },
  {
   "cell_type": "code",
   "execution_count": 33,
   "id": "a9c79642",
   "metadata": {},
   "outputs": [],
   "source": [
    "df2['text'] = df2['text'].apply(remove_punctuations)\n",
    "df2['text'] = df2['text'].apply(word_tokenize)"
   ]
  },
  {
   "cell_type": "code",
   "execution_count": 34,
   "id": "f85e04c2",
   "metadata": {},
   "outputs": [],
   "source": [
    "df2['text'] = df2['text'].apply(remove_stopwords)"
   ]
  },
  {
   "cell_type": "code",
   "execution_count": 35,
   "id": "48034e92",
   "metadata": {
    "scrolled": true
   },
   "outputs": [],
   "source": [
    "def list2string(text):\n",
    "    text = \" \".join(wrd for wrd in text)\n",
    "    return text"
   ]
  },
  {
   "cell_type": "code",
   "execution_count": 36,
   "id": "39d4205f",
   "metadata": {},
   "outputs": [],
   "source": [
    "df3 = df2.copy()"
   ]
  },
  {
   "cell_type": "code",
   "execution_count": 37,
   "id": "3e3bffe2",
   "metadata": {},
   "outputs": [
    {
     "data": {
      "text/html": [
       "<div>\n",
       "<style scoped>\n",
       "    .dataframe tbody tr th:only-of-type {\n",
       "        vertical-align: middle;\n",
       "    }\n",
       "\n",
       "    .dataframe tbody tr th {\n",
       "        vertical-align: top;\n",
       "    }\n",
       "\n",
       "    .dataframe thead th {\n",
       "        text-align: right;\n",
       "    }\n",
       "</style>\n",
       "<table border=\"1\" class=\"dataframe\">\n",
       "  <thead>\n",
       "    <tr style=\"text-align: right;\">\n",
       "      <th></th>\n",
       "      <th>text</th>\n",
       "      <th>label</th>\n",
       "      <th>textlength</th>\n",
       "    </tr>\n",
       "  </thead>\n",
       "  <tbody>\n",
       "    <tr>\n",
       "      <th>0</th>\n",
       "      <td>johnson sirleaf exit liberian thankful peace e...</td>\n",
       "      <td>1</td>\n",
       "      <td>4804</td>\n",
       "    </tr>\n",
       "    <tr>\n",
       "      <th>1</th>\n",
       "      <td>french foreign minister say accepting refugee ...</td>\n",
       "      <td>1</td>\n",
       "      <td>1425</td>\n",
       "    </tr>\n",
       "    <tr>\n",
       "      <th>2</th>\n",
       "      <td>caved late july day past summer roar filled sk...</td>\n",
       "      <td>1</td>\n",
       "      <td>6858</td>\n",
       "    </tr>\n",
       "    <tr>\n",
       "      <th>3</th>\n",
       "      <td>obama sign executive order declaring investiga...</td>\n",
       "      <td>0</td>\n",
       "      <td>5422</td>\n",
       "    </tr>\n",
       "    <tr>\n",
       "      <th>4</th>\n",
       "      <td>florida shooting trump hardens stance muslim m...</td>\n",
       "      <td>1</td>\n",
       "      <td>4990</td>\n",
       "    </tr>\n",
       "  </tbody>\n",
       "</table>\n",
       "</div>"
      ],
      "text/plain": [
       "                                                text label  textlength\n",
       "0  johnson sirleaf exit liberian thankful peace e...     1        4804\n",
       "1  french foreign minister say accepting refugee ...     1        1425\n",
       "2  caved late july day past summer roar filled sk...     1        6858\n",
       "3  obama sign executive order declaring investiga...     0        5422\n",
       "4  florida shooting trump hardens stance muslim m...     1        4990"
      ]
     },
     "execution_count": 37,
     "metadata": {},
     "output_type": "execute_result"
    }
   ],
   "source": [
    "df3[\"text\"] = df3[\"text\"].apply(list2string)\n",
    "df3.head()"
   ]
  },
  {
   "cell_type": "code",
   "execution_count": 38,
   "id": "7f53e0f2",
   "metadata": {
    "collapsed": true
   },
   "outputs": [],
   "source": [
    "# transformer function\n",
    "def removeStopwords(df):\n",
    "    df['text'] = df['text'].apply(remove_punctuations)\n",
    "    print('Punctuation removed')\n",
    "    df['text'] = df['text'].apply(word_tokenize)\n",
    "    print('Words tokenized')\n",
    "    df['text'] = df['text'].apply(remove_stopwords)\n",
    "    print('Stopwords removed')\n",
    "    df['text'] = df['text'].apply(list2string)\n",
    "    return df"
   ]
  },
  {
   "attachments": {},
   "cell_type": "markdown",
   "id": "8913c5c9",
   "metadata": {},
   "source": [
    "git"
   ]
  },
  {
   "cell_type": "markdown",
   "id": "30eff8bb",
   "metadata": {},
   "source": [
    "### Extracting english"
   ]
  },
  {
   "cell_type": "code",
   "execution_count": 39,
   "id": "94e0281f",
   "metadata": {},
   "outputs": [],
   "source": [
    "def deleteUrl(text):\n",
    "    return re.sub(r'(?i)\\b((?:https?://|www\\d{0,3}[.]|[a-z0-9.\\-]+[.][a-z]{2,4}/)(?:[^\\s()<>]+|\\(([^\\s()<>]+|(\\([^\\s()<>]+\\)))*\\))+(?:\\(([^\\s()<>]+|(\\([^\\s()<>]+\\)))*\\)|[^\\s`!()\\[\\]{};:\\'\".,<>?«»“”‘’]))', '', text)"
   ]
  },
  {
   "attachments": {},
   "cell_type": "markdown",
   "id": "19eae3e6",
   "metadata": {},
   "source": [
    "nie jestem pewien czy usunięcie linków jest na pewno dobrym podejsciem - one również mogą nieść jakąś informację - ale ogólnie jest w porządku"
   ]
  },
  {
   "cell_type": "code",
   "execution_count": 40,
   "id": "2689436f",
   "metadata": {},
   "outputs": [],
   "source": [
    "# usuwamy linki\n",
    "df3['text'] = df3['text'].apply(deleteUrl)"
   ]
  },
  {
   "cell_type": "code",
   "execution_count": 41,
   "id": "e45bde6f",
   "metadata": {},
   "outputs": [],
   "source": [
    "# tworzymy krótszą kolumnę do analizy języka\n",
    "def shortenText(text):\n",
    "    return text[:60]"
   ]
  },
  {
   "cell_type": "code",
   "execution_count": 42,
   "id": "baa309c3",
   "metadata": {},
   "outputs": [],
   "source": [
    "df3['shorttext'] = df3['text'].apply(shortenText)"
   ]
  },
  {
   "cell_type": "code",
   "execution_count": 43,
   "id": "8f0ce9a3",
   "metadata": {},
   "outputs": [
    {
     "data": {
      "text/html": [
       "<div>\n",
       "<style scoped>\n",
       "    .dataframe tbody tr th:only-of-type {\n",
       "        vertical-align: middle;\n",
       "    }\n",
       "\n",
       "    .dataframe tbody tr th {\n",
       "        vertical-align: top;\n",
       "    }\n",
       "\n",
       "    .dataframe thead th {\n",
       "        text-align: right;\n",
       "    }\n",
       "</style>\n",
       "<table border=\"1\" class=\"dataframe\">\n",
       "  <thead>\n",
       "    <tr style=\"text-align: right;\">\n",
       "      <th></th>\n",
       "      <th>text</th>\n",
       "      <th>label</th>\n",
       "      <th>textlength</th>\n",
       "      <th>shorttext</th>\n",
       "    </tr>\n",
       "  </thead>\n",
       "  <tbody>\n",
       "    <tr>\n",
       "      <th>1679</th>\n",
       "      <td></td>\n",
       "      <td>0</td>\n",
       "      <td>2829</td>\n",
       "      <td></td>\n",
       "    </tr>\n",
       "    <tr>\n",
       "      <th>2440</th>\n",
       "      <td></td>\n",
       "      <td>0</td>\n",
       "      <td>1318</td>\n",
       "      <td></td>\n",
       "    </tr>\n",
       "    <tr>\n",
       "      <th>2843</th>\n",
       "      <td></td>\n",
       "      <td>0</td>\n",
       "      <td>1702</td>\n",
       "      <td></td>\n",
       "    </tr>\n",
       "    <tr>\n",
       "      <th>4271</th>\n",
       "      <td></td>\n",
       "      <td>0</td>\n",
       "      <td>1544</td>\n",
       "      <td></td>\n",
       "    </tr>\n",
       "    <tr>\n",
       "      <th>4454</th>\n",
       "      <td>pravdaru</td>\n",
       "      <td>0</td>\n",
       "      <td>2780</td>\n",
       "      <td>pravdaru</td>\n",
       "    </tr>\n",
       "    <tr>\n",
       "      <th>5735</th>\n",
       "      <td>rt</td>\n",
       "      <td>0</td>\n",
       "      <td>1158</td>\n",
       "      <td>rt</td>\n",
       "    </tr>\n",
       "    <tr>\n",
       "      <th>6282</th>\n",
       "      <td>wallmart</td>\n",
       "      <td>0</td>\n",
       "      <td>1834</td>\n",
       "      <td>wallmart</td>\n",
       "    </tr>\n",
       "    <tr>\n",
       "      <th>6587</th>\n",
       "      <td></td>\n",
       "      <td>0</td>\n",
       "      <td>6525</td>\n",
       "      <td></td>\n",
       "    </tr>\n",
       "    <tr>\n",
       "      <th>6977</th>\n",
       "      <td></td>\n",
       "      <td>0</td>\n",
       "      <td>1814</td>\n",
       "      <td></td>\n",
       "    </tr>\n",
       "    <tr>\n",
       "      <th>7582</th>\n",
       "      <td></td>\n",
       "      <td>0</td>\n",
       "      <td>2548</td>\n",
       "      <td></td>\n",
       "    </tr>\n",
       "    <tr>\n",
       "      <th>7680</th>\n",
       "      <td>gps</td>\n",
       "      <td>0</td>\n",
       "      <td>3047</td>\n",
       "      <td>gps</td>\n",
       "    </tr>\n",
       "    <tr>\n",
       "      <th>7746</th>\n",
       "      <td></td>\n",
       "      <td>0</td>\n",
       "      <td>1533</td>\n",
       "      <td></td>\n",
       "    </tr>\n",
       "    <tr>\n",
       "      <th>8535</th>\n",
       "      <td>pravdaru</td>\n",
       "      <td>0</td>\n",
       "      <td>2590</td>\n",
       "      <td>pravdaru</td>\n",
       "    </tr>\n",
       "    <tr>\n",
       "      <th>9726</th>\n",
       "      <td>pravda ru</td>\n",
       "      <td>0</td>\n",
       "      <td>2545</td>\n",
       "      <td>pravda ru</td>\n",
       "    </tr>\n",
       "    <tr>\n",
       "      <th>10372</th>\n",
       "      <td>onfru</td>\n",
       "      <td>0</td>\n",
       "      <td>5498</td>\n",
       "      <td>onfru</td>\n",
       "    </tr>\n",
       "    <tr>\n",
       "      <th>10727</th>\n",
       "      <td></td>\n",
       "      <td>0</td>\n",
       "      <td>6913</td>\n",
       "      <td></td>\n",
       "    </tr>\n",
       "    <tr>\n",
       "      <th>10988</th>\n",
       "      <td>pravdaru</td>\n",
       "      <td>0</td>\n",
       "      <td>2160</td>\n",
       "      <td>pravdaru</td>\n",
       "    </tr>\n",
       "    <tr>\n",
       "      <th>11491</th>\n",
       "      <td></td>\n",
       "      <td>0</td>\n",
       "      <td>10527</td>\n",
       "      <td></td>\n",
       "    </tr>\n",
       "    <tr>\n",
       "      <th>11611</th>\n",
       "      <td></td>\n",
       "      <td>0</td>\n",
       "      <td>2352</td>\n",
       "      <td></td>\n",
       "    </tr>\n",
       "    <tr>\n",
       "      <th>11632</th>\n",
       "      <td>rt</td>\n",
       "      <td>0</td>\n",
       "      <td>1243</td>\n",
       "      <td>rt</td>\n",
       "    </tr>\n",
       "    <tr>\n",
       "      <th>11646</th>\n",
       "      <td></td>\n",
       "      <td>0</td>\n",
       "      <td>4906</td>\n",
       "      <td></td>\n",
       "    </tr>\n",
       "    <tr>\n",
       "      <th>12224</th>\n",
       "      <td></td>\n",
       "      <td>0</td>\n",
       "      <td>886</td>\n",
       "      <td></td>\n",
       "    </tr>\n",
       "    <tr>\n",
       "      <th>12429</th>\n",
       "      <td></td>\n",
       "      <td>0</td>\n",
       "      <td>2598</td>\n",
       "      <td></td>\n",
       "    </tr>\n",
       "    <tr>\n",
       "      <th>13332</th>\n",
       "      <td></td>\n",
       "      <td>0</td>\n",
       "      <td>1180</td>\n",
       "      <td></td>\n",
       "    </tr>\n",
       "    <tr>\n",
       "      <th>13801</th>\n",
       "      <td></td>\n",
       "      <td>0</td>\n",
       "      <td>1137</td>\n",
       "      <td></td>\n",
       "    </tr>\n",
       "    <tr>\n",
       "      <th>13815</th>\n",
       "      <td>pravda ru</td>\n",
       "      <td>0</td>\n",
       "      <td>3876</td>\n",
       "      <td>pravda ru</td>\n",
       "    </tr>\n",
       "    <tr>\n",
       "      <th>14619</th>\n",
       "      <td></td>\n",
       "      <td>0</td>\n",
       "      <td>1368</td>\n",
       "      <td></td>\n",
       "    </tr>\n",
       "    <tr>\n",
       "      <th>15397</th>\n",
       "      <td></td>\n",
       "      <td>0</td>\n",
       "      <td>1169</td>\n",
       "      <td></td>\n",
       "    </tr>\n",
       "    <tr>\n",
       "      <th>16187</th>\n",
       "      <td></td>\n",
       "      <td>0</td>\n",
       "      <td>1310</td>\n",
       "      <td></td>\n",
       "    </tr>\n",
       "    <tr>\n",
       "      <th>18312</th>\n",
       "      <td></td>\n",
       "      <td>0</td>\n",
       "      <td>2716</td>\n",
       "      <td></td>\n",
       "    </tr>\n",
       "    <tr>\n",
       "      <th>19620</th>\n",
       "      <td></td>\n",
       "      <td>0</td>\n",
       "      <td>1045</td>\n",
       "      <td></td>\n",
       "    </tr>\n",
       "  </tbody>\n",
       "</table>\n",
       "</div>"
      ],
      "text/plain": [
       "            text label  textlength  shorttext\n",
       "1679                 0        2829           \n",
       "2440                 0        1318           \n",
       "2843                 0        1702           \n",
       "4271                 0        1544           \n",
       "4454    pravdaru     0        2780   pravdaru\n",
       "5735          rt     0        1158         rt\n",
       "6282    wallmart     0        1834   wallmart\n",
       "6587                 0        6525           \n",
       "6977                 0        1814           \n",
       "7582                 0        2548           \n",
       "7680         gps     0        3047        gps\n",
       "7746                 0        1533           \n",
       "8535    pravdaru     0        2590   pravdaru\n",
       "9726   pravda ru     0        2545  pravda ru\n",
       "10372      onfru     0        5498      onfru\n",
       "10727                0        6913           \n",
       "10988   pravdaru     0        2160   pravdaru\n",
       "11491                0       10527           \n",
       "11611                0        2352           \n",
       "11632         rt     0        1243         rt\n",
       "11646                0        4906           \n",
       "12224                0         886           \n",
       "12429                0        2598           \n",
       "13332                0        1180           \n",
       "13801                0        1137           \n",
       "13815  pravda ru     0        3876  pravda ru\n",
       "14619                0        1368           \n",
       "15397                0        1169           \n",
       "16187                0        1310           \n",
       "18312                0        2716           \n",
       "19620                0        1045           "
      ]
     },
     "execution_count": 43,
     "metadata": {},
     "output_type": "execute_result"
    }
   ],
   "source": [
    "df3[df3['shorttext'].apply(len) < 10]"
   ]
  },
  {
   "cell_type": "code",
   "execution_count": 44,
   "id": "e3d452f0",
   "metadata": {},
   "outputs": [],
   "source": [
    "# usuwamy teksty które mają mniej niż 10 znaków - były to same linki\n",
    "df3 = df3[df3['shorttext'].apply(len) > 10]"
   ]
  },
  {
   "cell_type": "code",
   "execution_count": 45,
   "id": "65dff531",
   "metadata": {},
   "outputs": [
    {
     "data": {
      "text/html": [
       "<div>\n",
       "<style scoped>\n",
       "    .dataframe tbody tr th:only-of-type {\n",
       "        vertical-align: middle;\n",
       "    }\n",
       "\n",
       "    .dataframe tbody tr th {\n",
       "        vertical-align: top;\n",
       "    }\n",
       "\n",
       "    .dataframe thead th {\n",
       "        text-align: right;\n",
       "    }\n",
       "</style>\n",
       "<table border=\"1\" class=\"dataframe\">\n",
       "  <thead>\n",
       "    <tr style=\"text-align: right;\">\n",
       "      <th></th>\n",
       "      <th>text</th>\n",
       "      <th>label</th>\n",
       "      <th>textlength</th>\n",
       "      <th>shorttext</th>\n",
       "    </tr>\n",
       "  </thead>\n",
       "  <tbody>\n",
       "    <tr>\n",
       "      <th>0</th>\n",
       "      <td>johnson sirleaf exit liberian thankful peace e...</td>\n",
       "      <td>1</td>\n",
       "      <td>4804</td>\n",
       "      <td>johnson sirleaf exit liberian thankful peace e...</td>\n",
       "    </tr>\n",
       "    <tr>\n",
       "      <th>1</th>\n",
       "      <td>french foreign minister say accepting refugee ...</td>\n",
       "      <td>1</td>\n",
       "      <td>1425</td>\n",
       "      <td>french foreign minister say accepting refugee ...</td>\n",
       "    </tr>\n",
       "    <tr>\n",
       "      <th>2</th>\n",
       "      <td>caved late july day past summer roar filled sk...</td>\n",
       "      <td>1</td>\n",
       "      <td>6858</td>\n",
       "      <td>caved late july day past summer roar filled sk...</td>\n",
       "    </tr>\n",
       "    <tr>\n",
       "      <th>3</th>\n",
       "      <td>obama sign executive order declaring investiga...</td>\n",
       "      <td>0</td>\n",
       "      <td>5422</td>\n",
       "      <td>obama sign executive order declaring investiga...</td>\n",
       "    </tr>\n",
       "    <tr>\n",
       "      <th>4</th>\n",
       "      <td>florida shooting trump hardens stance muslim m...</td>\n",
       "      <td>1</td>\n",
       "      <td>4990</td>\n",
       "      <td>florida shooting trump hardens stance muslim m...</td>\n",
       "    </tr>\n",
       "  </tbody>\n",
       "</table>\n",
       "</div>"
      ],
      "text/plain": [
       "                                                text label  textlength  \\\n",
       "0  johnson sirleaf exit liberian thankful peace e...     1        4804   \n",
       "1  french foreign minister say accepting refugee ...     1        1425   \n",
       "2  caved late july day past summer roar filled sk...     1        6858   \n",
       "3  obama sign executive order declaring investiga...     0        5422   \n",
       "4  florida shooting trump hardens stance muslim m...     1        4990   \n",
       "\n",
       "                                           shorttext  \n",
       "0  johnson sirleaf exit liberian thankful peace e...  \n",
       "1  french foreign minister say accepting refugee ...  \n",
       "2  caved late july day past summer roar filled sk...  \n",
       "3  obama sign executive order declaring investiga...  \n",
       "4  florida shooting trump hardens stance muslim m...  "
      ]
     },
     "execution_count": 45,
     "metadata": {},
     "output_type": "execute_result"
    }
   ],
   "source": [
    "df3.head()"
   ]
  },
  {
   "attachments": {},
   "cell_type": "markdown",
   "id": "a20a5f80",
   "metadata": {},
   "source": [
    "to podejscie do tworzenia kolejnych kopii dataframów jest ogólnie nienajlepsze - wymaga dosyc sporo pamieci\n",
    "\n",
    "o ile pozwala na \"powroty w kodzie\" to mi się osobiście srednio podoba, chociaz pewnie jest wygodne"
   ]
  },
  {
   "cell_type": "code",
   "execution_count": 46,
   "id": "7047614e",
   "metadata": {},
   "outputs": [],
   "source": [
    "df4 = df3.copy()"
   ]
  },
  {
   "cell_type": "code",
   "execution_count": 47,
   "id": "a7dd02bb",
   "metadata": {},
   "outputs": [],
   "source": [
    "DetectorFactory.seed = 0\n",
    "df4['lang'] = df4['shorttext'].apply(detect)"
   ]
  },
  {
   "cell_type": "code",
   "execution_count": 48,
   "id": "07db5ba7",
   "metadata": {},
   "outputs": [],
   "source": [
    "# robimy model który będzie wykrywał po angielsku\n",
    "df4 = df4[df4['lang']=='en']"
   ]
  },
  {
   "cell_type": "code",
   "execution_count": 49,
   "id": "2119bc0c",
   "metadata": {},
   "outputs": [
    {
     "data": {
      "text/html": [
       "<div>\n",
       "<style scoped>\n",
       "    .dataframe tbody tr th:only-of-type {\n",
       "        vertical-align: middle;\n",
       "    }\n",
       "\n",
       "    .dataframe tbody tr th {\n",
       "        vertical-align: top;\n",
       "    }\n",
       "\n",
       "    .dataframe thead th {\n",
       "        text-align: right;\n",
       "    }\n",
       "</style>\n",
       "<table border=\"1\" class=\"dataframe\">\n",
       "  <thead>\n",
       "    <tr style=\"text-align: right;\">\n",
       "      <th></th>\n",
       "      <th>text</th>\n",
       "      <th>label</th>\n",
       "    </tr>\n",
       "  </thead>\n",
       "  <tbody>\n",
       "    <tr>\n",
       "      <th>0</th>\n",
       "      <td>johnson sirleaf exit liberian thankful peace e...</td>\n",
       "      <td>1</td>\n",
       "    </tr>\n",
       "    <tr>\n",
       "      <th>1</th>\n",
       "      <td>french foreign minister say accepting refugee ...</td>\n",
       "      <td>1</td>\n",
       "    </tr>\n",
       "    <tr>\n",
       "      <th>2</th>\n",
       "      <td>caved late july day past summer roar filled sk...</td>\n",
       "      <td>1</td>\n",
       "    </tr>\n",
       "    <tr>\n",
       "      <th>3</th>\n",
       "      <td>obama sign executive order declaring investiga...</td>\n",
       "      <td>0</td>\n",
       "    </tr>\n",
       "    <tr>\n",
       "      <th>4</th>\n",
       "      <td>florida shooting trump hardens stance muslim m...</td>\n",
       "      <td>1</td>\n",
       "    </tr>\n",
       "    <tr>\n",
       "      <th>...</th>\n",
       "      <td>...</td>\n",
       "      <td>...</td>\n",
       "    </tr>\n",
       "    <tr>\n",
       "      <th>17739</th>\n",
       "      <td>polish president back judicial reform spat war...</td>\n",
       "      <td>1</td>\n",
       "    </tr>\n",
       "    <tr>\n",
       "      <th>17740</th>\n",
       "      <td>ucla player hold press conferencefinally thank...</td>\n",
       "      <td>0</td>\n",
       "    </tr>\n",
       "    <tr>\n",
       "      <th>17741</th>\n",
       "      <td>trump son clarifies gas chamber comment critic...</td>\n",
       "      <td>1</td>\n",
       "    </tr>\n",
       "    <tr>\n",
       "      <th>17742</th>\n",
       "      <td>world leader congratulate trump putin anxious ...</td>\n",
       "      <td>0</td>\n",
       "    </tr>\n",
       "    <tr>\n",
       "      <th>17743</th>\n",
       "      <td>comrade trump push conspiracy theory russian p...</td>\n",
       "      <td>0</td>\n",
       "    </tr>\n",
       "  </tbody>\n",
       "</table>\n",
       "<p>17744 rows × 2 columns</p>\n",
       "</div>"
      ],
      "text/plain": [
       "                                                    text label\n",
       "0      johnson sirleaf exit liberian thankful peace e...     1\n",
       "1      french foreign minister say accepting refugee ...     1\n",
       "2      caved late july day past summer roar filled sk...     1\n",
       "3      obama sign executive order declaring investiga...     0\n",
       "4      florida shooting trump hardens stance muslim m...     1\n",
       "...                                                  ...   ...\n",
       "17739  polish president back judicial reform spat war...     1\n",
       "17740  ucla player hold press conferencefinally thank...     0\n",
       "17741  trump son clarifies gas chamber comment critic...     1\n",
       "17742  world leader congratulate trump putin anxious ...     0\n",
       "17743  comrade trump push conspiracy theory russian p...     0\n",
       "\n",
       "[17744 rows x 2 columns]"
      ]
     },
     "execution_count": 49,
     "metadata": {},
     "output_type": "execute_result"
    }
   ],
   "source": [
    "df4 = df4[['text', 'label']].reset_index(drop=True)\n",
    "df4"
   ]
  },
  {
   "cell_type": "code",
   "execution_count": 50,
   "id": "5c7713a9",
   "metadata": {},
   "outputs": [],
   "source": [
    "#transformer function\n",
    "def dropLanguages(df):\n",
    "    DetectorFactory.seed = 0\n",
    "    df['text'] = df['text'].apply(deleteUrl)\n",
    "    df['shorttext'] = df['text'].apply(shortenText)\n",
    "    df = df[df['shorttext'].apply(len) > 10]\n",
    "    print('Text cleaned')\n",
    "    df['lang'] = df['shorttext'].apply(detect)\n",
    "    df = df[df['lang']=='en']\n",
    "    df = df.drop(columns=['shorttext', 'lang'])\n",
    "    print('Languages dropped')\n",
    "    return df"
   ]
  },
  {
   "cell_type": "code",
   "execution_count": 51,
   "id": "3fbdb0e8",
   "metadata": {},
   "outputs": [],
   "source": [
    "# żeby zapisać dane\n",
    "df4.to_csv('train_data.csv', index=False)"
   ]
  },
  {
   "cell_type": "markdown",
   "id": "9c587f2f",
   "metadata": {},
   "source": [
    "### Word Cloud"
   ]
  },
  {
   "cell_type": "code",
   "execution_count": 52,
   "id": "60e13b91",
   "metadata": {},
   "outputs": [],
   "source": [
    "df_fake = df4[df4[\"label\"] == 0]\n",
    "df_true = df4[df4[\"label\"] == 1]"
   ]
  },
  {
   "cell_type": "code",
   "execution_count": 53,
   "id": "720a69ee",
   "metadata": {},
   "outputs": [
    {
     "data": {
      "image/png": "[encoded data removed]",
      "text/plain": [
       "<Figure size 432x288 with 1 Axes>"
      ]
     },
     "metadata": {
      "needs_background": "light"
     },
     "output_type": "display_data"
    }
   ],
   "source": [
    "# Fałszywe\n",
    "consolidated_f = ' '.join(\n",
    "    word for word in df_fake['text'].astype(str))\n",
    "wordcloud = WordCloud().generate(consolidated_f)\n",
    "plt.imshow(wordcloud, interpolation='bilinear')\n",
    "plt.axis(\"off\")\n",
    "plt.show()"
   ]
  },
  {
   "cell_type": "code",
   "execution_count": 54,
   "id": "b172e4c0",
   "metadata": {
    "scrolled": true
   },
   "outputs": [
    {
     "data": {
      "image/png": "[encoded data removed]",
      "text/plain": [
       "<Figure size 432x288 with 1 Axes>"
      ]
     },
     "metadata": {
      "needs_background": "light"
     },
     "output_type": "display_data"
    }
   ],
   "source": [
    "# Prawdziwe\n",
    "consolidated_t = ' '.join(\n",
    "    word for word in df_true['text'].astype(str))\n",
    "wordcloud = WordCloud().generate(consolidated_t)\n",
    "plt.imshow(wordcloud, interpolation='bilinear')\n",
    "plt.axis(\"off\")\n",
    "plt.show()"
   ]
  },
  {
   "cell_type": "code",
   "execution_count": 2,
   "id": "55297db4",
   "metadata": {},
   "outputs": [],
   "source": [
    "#df4 = pd.read_csv('train_data.csv')"
   ]
  },
  {
   "cell_type": "code",
   "execution_count": 55,
   "id": "7f08f86e",
   "metadata": {},
   "outputs": [],
   "source": [
    "# Bag of words - liczba wystąpień każdego słowa w danym tekście\n",
    "count_vect = CountVectorizer()\n",
    "X_train_counts = count_vect.fit_transform(df4['text'])"
   ]
  },
  {
   "cell_type": "code",
   "execution_count": 56,
   "id": "3c473280",
   "metadata": {},
   "outputs": [],
   "source": [
    "#Transformer function\n",
    "def myCountVectorizer(df):\n",
    "    count_vect = CountVectorizer()\n",
    "    X_train_counts = count_vect.fit_transform(df['text'])"
   ]
  },
  {
   "cell_type": "code",
   "execution_count": 57,
   "id": "7aaac33d",
   "metadata": {},
   "outputs": [],
   "source": [
    "# Zamiana częstości w częstotliwość wystąpień\n",
    "tfidf_transformer = TfidfTransformer()\n",
    "X_train_tfidf = tfidf_transformer.fit_transform(X_train_counts)"
   ]
  },
  {
   "cell_type": "code",
   "execution_count": 58,
   "id": "9841ed3f",
   "metadata": {},
   "outputs": [
    {
     "data": {
      "text/plain": [
       "(17744, 136493)"
      ]
     },
     "execution_count": 58,
     "metadata": {},
     "output_type": "execute_result"
    }
   ],
   "source": [
    "X_train_tfidf.shape"
   ]
  },
  {
   "cell_type": "markdown",
   "id": "4696ddf8",
   "metadata": {},
   "source": [
    "## Pipeline"
   ]
  },
  {
   "cell_type": "code",
   "execution_count": 59,
   "id": "00e2560f",
   "metadata": {},
   "outputs": [
    {
     "ename": "NameError",
     "evalue": "name 'removeOutliers' is not defined",
     "output_type": "error",
     "traceback": [
      "\u001b[1;31m---------------------------------------------------------------------------\u001b[0m",
      "\u001b[1;31mNameError\u001b[0m                                 Traceback (most recent call last)",
      "\u001b[1;32m<ipython-input-59-1ff1db00016b>\u001b[0m in \u001b[0;36m<module>\u001b[1;34m\u001b[0m\n\u001b[0;32m      4\u001b[0m \u001b[0mna_transformer\u001b[0m \u001b[1;33m=\u001b[0m \u001b[0mFunctionTransformer\u001b[0m\u001b[1;33m(\u001b[0m\u001b[0mhandleNa\u001b[0m\u001b[1;33m)\u001b[0m\u001b[1;33m\u001b[0m\u001b[1;33m\u001b[0m\u001b[0m\n\u001b[0;32m      5\u001b[0m \u001b[0mcolumn_transformer\u001b[0m \u001b[1;33m=\u001b[0m \u001b[0mFunctionTransformer\u001b[0m\u001b[1;33m(\u001b[0m\u001b[0mcombineColumns\u001b[0m\u001b[1;33m)\u001b[0m\u001b[1;33m\u001b[0m\u001b[1;33m\u001b[0m\u001b[0m\n\u001b[1;32m----> 6\u001b[1;33m \u001b[0moutliers_transformer\u001b[0m \u001b[1;33m=\u001b[0m \u001b[0mFunctionTransformer\u001b[0m\u001b[1;33m(\u001b[0m\u001b[0mremoveOutliers\u001b[0m\u001b[1;33m)\u001b[0m\u001b[1;33m\u001b[0m\u001b[1;33m\u001b[0m\u001b[0m\n\u001b[0m\u001b[0;32m      7\u001b[0m \u001b[0mstopwords_transformer\u001b[0m \u001b[1;33m=\u001b[0m \u001b[0mFunctionTransformer\u001b[0m\u001b[1;33m(\u001b[0m\u001b[0mremoveStopwords\u001b[0m\u001b[1;33m)\u001b[0m\u001b[1;33m\u001b[0m\u001b[1;33m\u001b[0m\u001b[0m\n\u001b[0;32m      8\u001b[0m \u001b[0mlanguage_transformer\u001b[0m \u001b[1;33m=\u001b[0m \u001b[0mFunctionTransformer\u001b[0m\u001b[1;33m(\u001b[0m\u001b[0mdropLanguages\u001b[0m\u001b[1;33m)\u001b[0m\u001b[1;33m\u001b[0m\u001b[1;33m\u001b[0m\u001b[0m\n",
      "\u001b[1;31mNameError\u001b[0m: name 'removeOutliers' is not defined"
     ]
    }
   ],
   "source": [
    "from sklearn.preprocessing import FunctionTransformer\n",
    "from sklearn.pipeline import Pipeline\n",
    "\n",
    "na_transformer = FunctionTransformer(handleNa)\n",
    "column_transformer = FunctionTransformer(combineColumns)\n",
    "outliers_transformer = FunctionTransformer(removeOutliers)\n",
    "stopwords_transformer = FunctionTransformer(removeStopwords)\n",
    "language_transformer = FunctionTransformer(dropLanguages)\n",
    "\n",
    "custom_pipe = Pipeline([\n",
    "    (\"na\", na_transformer),\n",
    "    ('columns', column_transformer),\n",
    "    ('outliers', outliers_transformer),\n",
    "    (\"stopwords\", stopwords_transformer),\n",
    "    (\"language\", language_transformer),\n",
    "])\n",
    "\n",
    "model_pipe = Pipeline([\n",
    "    ('vectorizer', CountVectorizer()),\n",
    "    ('tfidf', TfidfTransformer()),\n",
    "])"
   ]
  },
  {
   "cell_type": "code",
   "execution_count": 110,
   "id": "6e904402",
   "metadata": {},
   "outputs": [],
   "source": [
    "train = pd.read_csv('training_data.csv', index_col=False)"
   ]
  },
  {
   "cell_type": "code",
   "execution_count": 111,
   "id": "b4280492",
   "metadata": {
    "scrolled": false
   },
   "outputs": [
    {
     "data": {
      "text/html": [
       "<div>\n",
       "<style scoped>\n",
       "    .dataframe tbody tr th:only-of-type {\n",
       "        vertical-align: middle;\n",
       "    }\n",
       "\n",
       "    .dataframe tbody tr th {\n",
       "        vertical-align: top;\n",
       "    }\n",
       "\n",
       "    .dataframe thead th {\n",
       "        text-align: right;\n",
       "    }\n",
       "</style>\n",
       "<table border=\"1\" class=\"dataframe\">\n",
       "  <thead>\n",
       "    <tr style=\"text-align: right;\">\n",
       "      <th></th>\n",
       "      <th>title</th>\n",
       "      <th>text</th>\n",
       "      <th>label</th>\n",
       "    </tr>\n",
       "  </thead>\n",
       "  <tbody>\n",
       "    <tr>\n",
       "      <th>0</th>\n",
       "      <td>In the Western World Respect for Law No Longer...</td>\n",
       "      <td>In the Western World Respect for Law No Longer...</td>\n",
       "      <td>fake</td>\n",
       "    </tr>\n",
       "    <tr>\n",
       "      <th>1</th>\n",
       "      <td>WATCH: President Obama Unleashes On Trump, Sa...</td>\n",
       "      <td>During an interview on CBS s Face the Nation S...</td>\n",
       "      <td>fake</td>\n",
       "    </tr>\n",
       "    <tr>\n",
       "      <th>2</th>\n",
       "      <td>THE GUY WHO Punched “Moldylocks” Speaks Out Ab...</td>\n",
       "      <td>Nathan Domingo is the founder of  Identity Eur...</td>\n",
       "      <td>fake</td>\n",
       "    </tr>\n",
       "    <tr>\n",
       "      <th>3</th>\n",
       "      <td>SAY WHAT? AMAZON TELLS CUSTOMER THEY WERE FORC...</td>\n",
       "      <td>When it comes to limiting our free speech, not...</td>\n",
       "      <td>fake</td>\n",
       "    </tr>\n",
       "    <tr>\n",
       "      <th>4</th>\n",
       "      <td>ANTI-GUN Zealot KATIE COURIC Hit With $12 MILL...</td>\n",
       "      <td>Little Miss Sunshine  has fooled a lot of peo...</td>\n",
       "      <td>fake</td>\n",
       "    </tr>\n",
       "    <tr>\n",
       "      <th>...</th>\n",
       "      <td>...</td>\n",
       "      <td>...</td>\n",
       "      <td>...</td>\n",
       "    </tr>\n",
       "    <tr>\n",
       "      <th>33826</th>\n",
       "      <td>STATE’S ATTORNEY LIED: BALTIMORE POLICE HAD PR...</td>\n",
       "      <td>Marilyn Mosby held a press conference today in...</td>\n",
       "      <td>fake</td>\n",
       "    </tr>\n",
       "    <tr>\n",
       "      <th>33827</th>\n",
       "      <td>Russia denies its planes killed civilians in S...</td>\n",
       "      <td>MOSCOW (Reuters) - Russia s Defence Ministry d...</td>\n",
       "      <td>true</td>\n",
       "    </tr>\n",
       "    <tr>\n",
       "      <th>33828</th>\n",
       "      <td>Hungary’s “Wall” Versus the U.S. “Wall”</td>\n",
       "      <td>Op-Ed by Catherine J. Frompovich\\r\\nCurrently ...</td>\n",
       "      <td>fake</td>\n",
       "    </tr>\n",
       "    <tr>\n",
       "      <th>33829</th>\n",
       "      <td>Pastor Caught Trump’s Spiritual Advisor Steal...</td>\n",
       "      <td>It seems that Donald Trump s spiritual advisor...</td>\n",
       "      <td>fake</td>\n",
       "    </tr>\n",
       "    <tr>\n",
       "      <th>33830</th>\n",
       "      <td>BOOM! SENATOR LINDSEY GRAHAM: I Have Reason to...</td>\n",
       "      <td>Senator Lindsey Graham:  I have reason to beli...</td>\n",
       "      <td>fake</td>\n",
       "    </tr>\n",
       "  </tbody>\n",
       "</table>\n",
       "<p>33831 rows × 3 columns</p>\n",
       "</div>"
      ],
      "text/plain": [
       "                                                   title  \\\n",
       "0      In the Western World Respect for Law No Longer...   \n",
       "1       WATCH: President Obama Unleashes On Trump, Sa...   \n",
       "2      THE GUY WHO Punched “Moldylocks” Speaks Out Ab...   \n",
       "3      SAY WHAT? AMAZON TELLS CUSTOMER THEY WERE FORC...   \n",
       "4      ANTI-GUN Zealot KATIE COURIC Hit With $12 MILL...   \n",
       "...                                                  ...   \n",
       "33826  STATE’S ATTORNEY LIED: BALTIMORE POLICE HAD PR...   \n",
       "33827  Russia denies its planes killed civilians in S...   \n",
       "33828            Hungary’s “Wall” Versus the U.S. “Wall”   \n",
       "33829   Pastor Caught Trump’s Spiritual Advisor Steal...   \n",
       "33830  BOOM! SENATOR LINDSEY GRAHAM: I Have Reason to...   \n",
       "\n",
       "                                                    text label  \n",
       "0      In the Western World Respect for Law No Longer...  fake  \n",
       "1      During an interview on CBS s Face the Nation S...  fake  \n",
       "2      Nathan Domingo is the founder of  Identity Eur...  fake  \n",
       "3      When it comes to limiting our free speech, not...  fake  \n",
       "4       Little Miss Sunshine  has fooled a lot of peo...  fake  \n",
       "...                                                  ...   ...  \n",
       "33826  Marilyn Mosby held a press conference today in...  fake  \n",
       "33827  MOSCOW (Reuters) - Russia s Defence Ministry d...  true  \n",
       "33828  Op-Ed by Catherine J. Frompovich\\r\\nCurrently ...  fake  \n",
       "33829  It seems that Donald Trump s spiritual advisor...  fake  \n",
       "33830  Senator Lindsey Graham:  I have reason to beli...  fake  \n",
       "\n",
       "[33831 rows x 3 columns]"
      ]
     },
     "execution_count": 111,
     "metadata": {},
     "output_type": "execute_result"
    }
   ],
   "source": [
    "train"
   ]
  },
  {
   "cell_type": "code",
   "execution_count": 112,
   "id": "595f6cac",
   "metadata": {},
   "outputs": [],
   "source": [
    "train = encodeLabels(train)"
   ]
  },
  {
   "cell_type": "code",
   "execution_count": 115,
   "id": "8561f4b8",
   "metadata": {},
   "outputs": [
    {
     "name": "stdout",
     "output_type": "stream",
     "text": [
      "NaNs deleted\n",
      "Columns combined\n",
      "Outliers removed\n",
      "Punct removed\n",
      "Words tokenized\n",
      "Stopwords removed\n",
      "Text cleaned\n",
      "Languages dropped\n"
     ]
    },
    {
     "name": "stderr",
     "output_type": "stream",
     "text": [
      "C:\\Users\\tymek\\AppData\\Local\\Temp\\ipykernel_2952\\2669187233.py:7: SettingWithCopyWarning: \n",
      "A value is trying to be set on a copy of a slice from a DataFrame.\n",
      "Try using .loc[row_indexer,col_indexer] = value instead\n",
      "\n",
      "See the caveats in the documentation: https://pandas.pydata.org/pandas-docs/stable/user_guide/indexing.html#returning-a-view-versus-a-copy\n",
      "  df['lang'] = df['shorttext'].apply(detect)\n"
     ]
    }
   ],
   "source": [
    "train_transformed = custom_pipe.transform(train)"
   ]
  },
  {
   "cell_type": "code",
   "execution_count": 116,
   "id": "27d631f5",
   "metadata": {},
   "outputs": [
    {
     "data": {
      "text/html": [
       "<div>\n",
       "<style scoped>\n",
       "    .dataframe tbody tr th:only-of-type {\n",
       "        vertical-align: middle;\n",
       "    }\n",
       "\n",
       "    .dataframe tbody tr th {\n",
       "        vertical-align: top;\n",
       "    }\n",
       "\n",
       "    .dataframe thead th {\n",
       "        text-align: right;\n",
       "    }\n",
       "</style>\n",
       "<table border=\"1\" class=\"dataframe\">\n",
       "  <thead>\n",
       "    <tr style=\"text-align: right;\">\n",
       "      <th></th>\n",
       "      <th>text</th>\n",
       "      <th>label</th>\n",
       "    </tr>\n",
       "  </thead>\n",
       "  <tbody>\n",
       "    <tr>\n",
       "      <th>0</th>\n",
       "      <td>western world respect law longer exists wester...</td>\n",
       "      <td>0</td>\n",
       "    </tr>\n",
       "    <tr>\n",
       "      <th>1</th>\n",
       "      <td>watch president obama unleashes trump say terr...</td>\n",
       "      <td>0</td>\n",
       "    </tr>\n",
       "    <tr>\n",
       "      <th>2</th>\n",
       "      <td>guy punched moldylocks speaks violent antifa f...</td>\n",
       "      <td>0</td>\n",
       "    </tr>\n",
       "    <tr>\n",
       "      <th>3</th>\n",
       "      <td>say amazon tell customer forced federal govern...</td>\n",
       "      <td>0</td>\n",
       "    </tr>\n",
       "    <tr>\n",
       "      <th>5</th>\n",
       "      <td>trump crisis lewd remark woman come light new ...</td>\n",
       "      <td>1</td>\n",
       "    </tr>\n",
       "    <tr>\n",
       "      <th>...</th>\n",
       "      <td>...</td>\n",
       "      <td>...</td>\n",
       "    </tr>\n",
       "    <tr>\n",
       "      <th>33825</th>\n",
       "      <td>trump give brutal warning lawless sanctuary ci...</td>\n",
       "      <td>0</td>\n",
       "    </tr>\n",
       "    <tr>\n",
       "      <th>33826</th>\n",
       "      <td>state attorney lied baltimore police probable ...</td>\n",
       "      <td>0</td>\n",
       "    </tr>\n",
       "    <tr>\n",
       "      <th>33828</th>\n",
       "      <td>hungary wall versus u wall oped catherine j fr...</td>\n",
       "      <td>0</td>\n",
       "    </tr>\n",
       "    <tr>\n",
       "      <th>33829</th>\n",
       "      <td>pastor caught trump spiritual advisor stealing...</td>\n",
       "      <td>0</td>\n",
       "    </tr>\n",
       "    <tr>\n",
       "      <th>33830</th>\n",
       "      <td>boom senator lindsey graham reason believe cli...</td>\n",
       "      <td>0</td>\n",
       "    </tr>\n",
       "  </tbody>\n",
       "</table>\n",
       "<p>29070 rows × 2 columns</p>\n",
       "</div>"
      ],
      "text/plain": [
       "                                                    text label\n",
       "0      western world respect law longer exists wester...     0\n",
       "1      watch president obama unleashes trump say terr...     0\n",
       "2      guy punched moldylocks speaks violent antifa f...     0\n",
       "3      say amazon tell customer forced federal govern...     0\n",
       "5      trump crisis lewd remark woman come light new ...     1\n",
       "...                                                  ...   ...\n",
       "33825  trump give brutal warning lawless sanctuary ci...     0\n",
       "33826  state attorney lied baltimore police probable ...     0\n",
       "33828  hungary wall versus u wall oped catherine j fr...     0\n",
       "33829  pastor caught trump spiritual advisor stealing...     0\n",
       "33830  boom senator lindsey graham reason believe cli...     0\n",
       "\n",
       "[29070 rows x 2 columns]"
      ]
     },
     "execution_count": 116,
     "metadata": {},
     "output_type": "execute_result"
    }
   ],
   "source": [
    "train_transformed"
   ]
  },
  {
   "cell_type": "code",
   "execution_count": 117,
   "id": "622a5d0f",
   "metadata": {},
   "outputs": [],
   "source": [
    "train_transformed_x = train_transformed['text']\n",
    "train_transformed_y = train_transformed['label']"
   ]
  },
  {
   "cell_type": "code",
   "execution_count": 118,
   "id": "882a6dd6",
   "metadata": {},
   "outputs": [],
   "source": [
    "train_xx = model_pipe.fit_transform(train_transformed_x, train_transformed_y)"
   ]
  },
  {
   "cell_type": "code",
   "execution_count": 119,
   "id": "2bf279c5",
   "metadata": {},
   "outputs": [
    {
     "data": {
      "text/plain": [
       "(29070, 178186)"
      ]
     },
     "execution_count": 119,
     "metadata": {},
     "output_type": "execute_result"
    }
   ],
   "source": [
    "train_xx.shape"
   ]
  }
 ],
 "metadata": {
  "kernelspec": {
   "display_name": "Python 3 (ipykernel)",
   "language": "python",
   "name": "python3"
  },
  "language_info": {
   "codemirror_mode": {
    "name": "ipython",
    "version": 3
   },
   "file_extension": ".py",
   "mimetype": "text/x-python",
   "name": "python",
   "nbconvert_exporter": "python",
   "pygments_lexer": "ipython3",
   "version": "3.8.8"
  }
 },
 "nbformat": 4,
 "nbformat_minor": 5
}
